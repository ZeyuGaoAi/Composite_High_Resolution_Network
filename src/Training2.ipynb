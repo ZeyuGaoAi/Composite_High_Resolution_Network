{
 "cells": [
  {
   "cell_type": "code",
   "execution_count": 1,
   "metadata": {},
   "outputs": [],
   "source": [
    "import os\n",
    "from train import Trainer"
   ]
  },
  {
   "cell_type": "code",
   "execution_count": 2,
   "metadata": {},
   "outputs": [
    {
     "name": "stdout",
     "output_type": "stream",
     "text": [
      "['/home1/gzy/NucleiSegmentation/High_CCRCC/Train/512x512_256x256_dist/']\n",
      "['/home1/gzy/NucleiSegmentation/High_CCRCC/Valid/512x512_256x256_dist/']\n",
      "[262, 262] [256, 256]\n",
      "\u001b[32m[0107 13:32:43 @parallel.py:293]\u001b[0m [PrefetchDataZMQ] Will fork a dataflow more than one times. This assumes the datapoints are i.i.d.\n",
      "[262, 262] [256, 256]\n",
      "\u001b[32m[0107 13:32:43 @logger.py:108]\u001b[0m \u001b[5m\u001b[31mWRN\u001b[0m Log directory ./logs//High_CCRCC//hcnet_mix_dist_v/00/ exists! Use 'd' to delete it. \n",
      "\u001b[32m[0107 13:32:43 @logger.py:111]\u001b[0m \u001b[5m\u001b[31mWRN\u001b[0m If you're resuming from a previous run, you can choose to keep it.\n",
      "Press any other key to exit. \n",
      "Select Action: k (keep) / d (delete) / q (quit):d\n",
      "\u001b[32m[0107 13:32:44 @logger.py:73]\u001b[0m Argv: /home1/gzy/.conda/envs/hovernet/lib/python3.6/site-packages/ipykernel_launcher.py -f /home1/gzy/.local/share/jupyter/runtime/kernel-cb8afe9f-ff22-4517-a71b-4fd8850f9cdc.json\n",
      "['/home1/gzy/NucleiSegmentation/High_CCRCC/Train/512x512_256x256_dist/']\n",
      "['/home1/gzy/NucleiSegmentation/High_CCRCC/Valid/512x512_256x256_dist/']\n",
      "['/home1/gzy/NucleiSegmentation/High_CCRCC/Train/512x512_256x256_dist/']\n",
      "['/home1/gzy/NucleiSegmentation/High_CCRCC/Valid/512x512_256x256_dist/']\n",
      "\u001b[32m[0107 13:32:50 @training.py:52]\u001b[0m [DataParallel] Training a model of 2 towers.\n",
      "\u001b[32m[0107 13:32:50 @interface.py:34]\u001b[0m Automatically applying QueueInput on the DataFlow.\n",
      "\u001b[32m[0107 13:32:50 @interface.py:46]\u001b[0m Automatically applying StagingInput on the DataFlow.\n",
      "\u001b[32m[0107 13:32:50 @develop.py:96]\u001b[0m \u001b[5m\u001b[31mWRN\u001b[0m [Deprecated] ModelDescBase._get_inputs() interface will be deprecated after 30 Mar. Use inputs() instead!\n",
      "\u001b[32m[0107 13:32:50 @input_source.py:220]\u001b[0m Setting up the queue 'QueueInput/input_queue' for CPU prefetching ...\n",
      "\u001b[32m[0107 13:32:50 @training.py:114]\u001b[0m Building graph for training tower 0 ...\n",
      "\u001b[32m[0107 13:32:50 @develop.py:96]\u001b[0m \u001b[5m\u001b[31mWRN\u001b[0m [Deprecated] ModelDescBase._build_graph() interface will be deprecated after 30 Mar. Use build_graph() instead!\n",
      "\u001b[32m[0107 13:32:50 @registry.py:121]\u001b[0m en_10x/conv_1 input: [None, 3, 64, 64]\n",
      "\u001b[32m[0107 13:32:50 @registry.py:129]\u001b[0m en_10x/conv_1 output: [None, 128, 64, 64]\n",
      "\u001b[32m[0107 13:32:50 @registry.py:121]\u001b[0m en_10x/conv_2 input: [None, 128, 64, 64]\n",
      "\u001b[32m[0107 13:32:50 @registry.py:129]\u001b[0m en_10x/conv_2 output: [None, 128, 64, 64]\n",
      "\u001b[32m[0107 13:32:50 @registry.py:121]\u001b[0m en_10x/gcb/spatial_pool_conv input: [None, 128, 64, 64]\n",
      "\u001b[32m[0107 13:32:50 @registry.py:129]\u001b[0m en_10x/gcb/spatial_pool_conv output: [None, 1, 64, 64]\n",
      "\u001b[32m[0107 13:32:50 @registry.py:121]\u001b[0m en_10x/gcb/channel_add_conv_1 input: [None, 128, 1, 1]\n",
      "\u001b[32m[0107 13:32:50 @registry.py:129]\u001b[0m en_10x/gcb/channel_add_conv_1 output: [None, 16, 1, 1]\n",
      "\u001b[32m[0107 13:32:50 @registry.py:121]\u001b[0m en_10x/gcb/channel_add_conv_2 input: [None, 16, 1, 1]\n",
      "\u001b[32m[0107 13:32:50 @registry.py:129]\u001b[0m en_10x/gcb/channel_add_conv_2 output: [None, 128, 1, 1]\n",
      "\u001b[32m[0107 13:32:50 @registry.py:121]\u001b[0m up_10x input: [None, 128, 64, 64]\n",
      "\u001b[32m[0107 13:32:50 @registry.py:129]\u001b[0m up_10x output: [None, 128, 128, 128]\n",
      "\u001b[32m[0107 13:32:50 @registry.py:121]\u001b[0m cov_10x_up input: [None, 128, 128, 128]\n",
      "\u001b[32m[0107 13:32:50 @registry.py:129]\u001b[0m cov_10x_up output: [None, 64, 128, 128]\n",
      "\u001b[32m[0107 13:32:50 @registry.py:121]\u001b[0m cov_10x_down input: [None, 128, 64, 64]\n",
      "\u001b[32m[0107 13:32:50 @registry.py:129]\u001b[0m cov_10x_down output: [None, 256, 32, 32]\n",
      "\u001b[32m[0107 13:32:50 @registry.py:121]\u001b[0m cov_10x_straight input: [None, 128, 64, 64]\n",
      "\u001b[32m[0107 13:32:50 @registry.py:129]\u001b[0m cov_10x_straight output: [None, 128, 64, 64]\n",
      "\u001b[32m[0107 13:32:50 @registry.py:121]\u001b[0m en_40x/conv_1 input: [None, 3, 256, 256]\n",
      "\u001b[32m[0107 13:32:51 @registry.py:129]\u001b[0m en_40x/conv_1 output: [None, 128, 128, 128]\n",
      "\u001b[32m[0107 13:32:51 @registry.py:121]\u001b[0m en_40x/conv_2 input: [None, 128, 128, 128]\n",
      "\u001b[32m[0107 13:32:51 @registry.py:129]\u001b[0m en_40x/conv_2 output: [None, 128, 64, 64]\n",
      "\u001b[32m[0107 13:32:51 @registry.py:121]\u001b[0m en_40x/gcb/spatial_pool_conv input: [None, 128, 64, 64]\n",
      "\u001b[32m[0107 13:32:51 @registry.py:129]\u001b[0m en_40x/gcb/spatial_pool_conv output: [None, 1, 64, 64]\n",
      "\u001b[32m[0107 13:32:51 @registry.py:121]\u001b[0m en_40x/gcb/channel_add_conv_1 input: [None, 128, 1, 1]\n",
      "\u001b[32m[0107 13:32:51 @registry.py:129]\u001b[0m en_40x/gcb/channel_add_conv_1 output: [None, 16, 1, 1]\n",
      "\u001b[32m[0107 13:32:51 @registry.py:121]\u001b[0m en_40x/gcb/channel_add_conv_2 input: [None, 16, 1, 1]\n",
      "\u001b[32m[0107 13:32:51 @registry.py:129]\u001b[0m en_40x/gcb/channel_add_conv_2 output: [None, 128, 1, 1]\n",
      "\u001b[32m[0107 13:32:51 @registry.py:121]\u001b[0m up_40x input: [None, 128, 64, 64]\n",
      "\u001b[32m[0107 13:32:51 @registry.py:129]\u001b[0m up_40x output: [None, 128, 128, 128]\n",
      "\u001b[32m[0107 13:32:51 @registry.py:121]\u001b[0m cov_40x_up input: [None, 128, 128, 128]\n",
      "\u001b[32m[0107 13:32:51 @registry.py:129]\u001b[0m cov_40x_up output: [None, 64, 128, 128]\n",
      "\u001b[32m[0107 13:32:51 @registry.py:121]\u001b[0m cov_40x_down input: [None, 128, 64, 64]\n",
      "\u001b[32m[0107 13:32:51 @registry.py:129]\u001b[0m cov_40x_down output: [None, 256, 32, 32]\n",
      "\u001b[32m[0107 13:32:51 @registry.py:121]\u001b[0m cov_40x_straight input: [None, 128, 64, 64]\n",
      "\u001b[32m[0107 13:32:51 @registry.py:129]\u001b[0m cov_40x_straight output: [None, 128, 64, 64]\n",
      "\u001b[32m[0107 13:32:51 @registry.py:121]\u001b[0m conv0 input: [None, 3, 262, 262]\n",
      "\u001b[32m[0107 13:32:51 @registry.py:129]\u001b[0m conv0 output: [None, 64, 256, 256]\n",
      "\u001b[32m[0107 13:32:51 @registry.py:121]\u001b[0m group0/block0/conv1 input: [None, 64, 256, 256]\n",
      "\u001b[32m[0107 13:32:51 @registry.py:129]\u001b[0m group0/block0/conv1 output: [None, 64, 256, 256]\n",
      "\u001b[32m[0107 13:32:51 @registry.py:121]\u001b[0m group0/block0/conv2 input: [None, 64, 256, 256]\n",
      "\u001b[32m[0107 13:32:51 @registry.py:129]\u001b[0m group0/block0/conv2 output: [None, 64, 256, 256]\n",
      "\u001b[32m[0107 13:32:51 @registry.py:121]\u001b[0m group0/block0/gcb/spatial_pool_conv input: [None, 64, 256, 256]\n",
      "\u001b[32m[0107 13:32:51 @registry.py:129]\u001b[0m group0/block0/gcb/spatial_pool_conv output: [None, 1, 256, 256]\n",
      "\u001b[32m[0107 13:32:51 @registry.py:121]\u001b[0m group0/block0/gcb/channel_add_conv_1 input: [None, 64, 1, 1]\n",
      "\u001b[32m[0107 13:32:51 @registry.py:129]\u001b[0m group0/block0/gcb/channel_add_conv_1 output: [None, 8, 1, 1]\n",
      "\u001b[32m[0107 13:32:51 @registry.py:121]\u001b[0m group0/block0/gcb/channel_add_conv_2 input: [None, 8, 1, 1]\n",
      "\u001b[32m[0107 13:32:51 @registry.py:129]\u001b[0m group0/block0/gcb/channel_add_conv_2 output: [None, 64, 1, 1]\n",
      "\u001b[32m[0107 13:32:51 @registry.py:121]\u001b[0m group0/block1/conv1 input: [None, 64, 256, 256]\n",
      "\u001b[32m[0107 13:32:51 @registry.py:129]\u001b[0m group0/block1/conv1 output: [None, 64, 256, 256]\n",
      "\u001b[32m[0107 13:32:51 @registry.py:121]\u001b[0m group0/block1/conv2 input: [None, 64, 256, 256]\n",
      "\u001b[32m[0107 13:32:51 @registry.py:129]\u001b[0m group0/block1/conv2 output: [None, 64, 256, 256]\n",
      "\u001b[32m[0107 13:32:51 @registry.py:121]\u001b[0m group0/block1/gcb/spatial_pool_conv input: [None, 64, 256, 256]\n",
      "\u001b[32m[0107 13:32:51 @registry.py:129]\u001b[0m group0/block1/gcb/spatial_pool_conv output: [None, 1, 256, 256]\n",
      "\u001b[32m[0107 13:32:51 @registry.py:121]\u001b[0m group0/block1/gcb/channel_add_conv_1 input: [None, 64, 1, 1]\n",
      "\u001b[32m[0107 13:32:51 @registry.py:129]\u001b[0m group0/block1/gcb/channel_add_conv_1 output: [None, 8, 1, 1]\n",
      "\u001b[32m[0107 13:32:51 @registry.py:121]\u001b[0m group0/block1/gcb/channel_add_conv_2 input: [None, 8, 1, 1]\n",
      "\u001b[32m[0107 13:32:51 @registry.py:129]\u001b[0m group0/block1/gcb/channel_add_conv_2 output: [None, 64, 1, 1]\n",
      "\u001b[32m[0107 13:32:51 @registry.py:121]\u001b[0m group0/block2/conv1 input: [None, 64, 256, 256]\n",
      "\u001b[32m[0107 13:32:51 @registry.py:129]\u001b[0m group0/block2/conv1 output: [None, 64, 256, 256]\n",
      "\u001b[32m[0107 13:32:51 @registry.py:121]\u001b[0m group0/block2/conv2 input: [None, 64, 256, 256]\n",
      "\u001b[32m[0107 13:32:51 @registry.py:129]\u001b[0m group0/block2/conv2 output: [None, 64, 256, 256]\n",
      "\u001b[32m[0107 13:32:51 @registry.py:121]\u001b[0m group0/block2/gcb/spatial_pool_conv input: [None, 64, 256, 256]\n",
      "\u001b[32m[0107 13:32:51 @registry.py:129]\u001b[0m group0/block2/gcb/spatial_pool_conv output: [None, 1, 256, 256]\n",
      "\u001b[32m[0107 13:32:52 @registry.py:121]\u001b[0m group0/block2/gcb/channel_add_conv_1 input: [None, 64, 1, 1]\n",
      "\u001b[32m[0107 13:32:52 @registry.py:129]\u001b[0m group0/block2/gcb/channel_add_conv_1 output: [None, 8, 1, 1]\n",
      "\u001b[32m[0107 13:32:52 @registry.py:121]\u001b[0m group0/block2/gcb/channel_add_conv_2 input: [None, 8, 1, 1]\n",
      "\u001b[32m[0107 13:32:52 @registry.py:129]\u001b[0m group0/block2/gcb/channel_add_conv_2 output: [None, 64, 1, 1]\n"
     ]
    },
    {
     "name": "stdout",
     "output_type": "stream",
     "text": [
      "\u001b[32m[0107 13:32:52 @registry.py:121]\u001b[0m group1/block0/conv1 input: [None, 64, 256, 256]\n",
      "\u001b[32m[0107 13:32:52 @registry.py:129]\u001b[0m group1/block0/conv1 output: [None, 128, 128, 128]\n",
      "\u001b[32m[0107 13:32:52 @registry.py:121]\u001b[0m group1/block0/conv2 input: [None, 128, 128, 128]\n",
      "\u001b[32m[0107 13:32:52 @registry.py:129]\u001b[0m group1/block0/conv2 output: [None, 128, 128, 128]\n",
      "\u001b[32m[0107 13:32:52 @registry.py:121]\u001b[0m group1/block0/gcb/spatial_pool_conv input: [None, 128, 128, 128]\n",
      "\u001b[32m[0107 13:32:52 @registry.py:129]\u001b[0m group1/block0/gcb/spatial_pool_conv output: [None, 1, 128, 128]\n",
      "\u001b[32m[0107 13:32:52 @registry.py:121]\u001b[0m group1/block0/gcb/channel_add_conv_1 input: [None, 128, 1, 1]\n",
      "\u001b[32m[0107 13:32:52 @registry.py:129]\u001b[0m group1/block0/gcb/channel_add_conv_1 output: [None, 16, 1, 1]\n",
      "\u001b[32m[0107 13:32:52 @registry.py:121]\u001b[0m group1/block0/gcb/channel_add_conv_2 input: [None, 16, 1, 1]\n",
      "\u001b[32m[0107 13:32:52 @registry.py:129]\u001b[0m group1/block0/gcb/channel_add_conv_2 output: [None, 128, 1, 1]\n",
      "\u001b[32m[0107 13:32:52 @registry.py:121]\u001b[0m group1/block0/convshortcut input: [None, 64, 256, 256]\n",
      "\u001b[32m[0107 13:32:52 @registry.py:129]\u001b[0m group1/block0/convshortcut output: [None, 128, 128, 128]\n",
      "\u001b[32m[0107 13:32:52 @registry.py:121]\u001b[0m group1/block1/conv1 input: [None, 128, 128, 128]\n",
      "\u001b[32m[0107 13:32:52 @registry.py:129]\u001b[0m group1/block1/conv1 output: [None, 128, 128, 128]\n",
      "\u001b[32m[0107 13:32:52 @registry.py:121]\u001b[0m group1/block1/conv2 input: [None, 128, 128, 128]\n",
      "\u001b[32m[0107 13:32:52 @registry.py:129]\u001b[0m group1/block1/conv2 output: [None, 128, 128, 128]\n",
      "\u001b[32m[0107 13:32:52 @registry.py:121]\u001b[0m group1/block1/gcb/spatial_pool_conv input: [None, 128, 128, 128]\n",
      "\u001b[32m[0107 13:32:52 @registry.py:129]\u001b[0m group1/block1/gcb/spatial_pool_conv output: [None, 1, 128, 128]\n",
      "\u001b[32m[0107 13:32:52 @registry.py:121]\u001b[0m group1/block1/gcb/channel_add_conv_1 input: [None, 128, 1, 1]\n",
      "\u001b[32m[0107 13:32:52 @registry.py:129]\u001b[0m group1/block1/gcb/channel_add_conv_1 output: [None, 16, 1, 1]\n",
      "\u001b[32m[0107 13:32:52 @registry.py:121]\u001b[0m group1/block1/gcb/channel_add_conv_2 input: [None, 16, 1, 1]\n",
      "\u001b[32m[0107 13:32:52 @registry.py:129]\u001b[0m group1/block1/gcb/channel_add_conv_2 output: [None, 128, 1, 1]\n",
      "\u001b[32m[0107 13:32:52 @registry.py:121]\u001b[0m group1/block2/conv1 input: [None, 128, 128, 128]\n",
      "\u001b[32m[0107 13:32:52 @registry.py:129]\u001b[0m group1/block2/conv1 output: [None, 128, 128, 128]\n",
      "\u001b[32m[0107 13:32:52 @registry.py:121]\u001b[0m group1/block2/conv2 input: [None, 128, 128, 128]\n",
      "\u001b[32m[0107 13:32:52 @registry.py:129]\u001b[0m group1/block2/conv2 output: [None, 128, 128, 128]\n",
      "\u001b[32m[0107 13:32:52 @registry.py:121]\u001b[0m group1/block2/gcb/spatial_pool_conv input: [None, 128, 128, 128]\n",
      "\u001b[32m[0107 13:32:52 @registry.py:129]\u001b[0m group1/block2/gcb/spatial_pool_conv output: [None, 1, 128, 128]\n",
      "\u001b[32m[0107 13:32:52 @registry.py:121]\u001b[0m group1/block2/gcb/channel_add_conv_1 input: [None, 128, 1, 1]\n",
      "\u001b[32m[0107 13:32:52 @registry.py:129]\u001b[0m group1/block2/gcb/channel_add_conv_1 output: [None, 16, 1, 1]\n",
      "\u001b[32m[0107 13:32:52 @registry.py:121]\u001b[0m group1/block2/gcb/channel_add_conv_2 input: [None, 16, 1, 1]\n",
      "\u001b[32m[0107 13:32:52 @registry.py:129]\u001b[0m group1/block2/gcb/channel_add_conv_2 output: [None, 128, 1, 1]\n",
      "\u001b[32m[0107 13:32:52 @registry.py:121]\u001b[0m group1/block3/conv1 input: [None, 128, 128, 128]\n",
      "\u001b[32m[0107 13:32:52 @registry.py:129]\u001b[0m group1/block3/conv1 output: [None, 128, 128, 128]\n",
      "\u001b[32m[0107 13:32:52 @registry.py:121]\u001b[0m group1/block3/conv2 input: [None, 128, 128, 128]\n",
      "\u001b[32m[0107 13:32:52 @registry.py:129]\u001b[0m group1/block3/conv2 output: [None, 128, 128, 128]\n",
      "\u001b[32m[0107 13:32:52 @registry.py:121]\u001b[0m group1/block3/gcb/spatial_pool_conv input: [None, 128, 128, 128]\n",
      "\u001b[32m[0107 13:32:53 @registry.py:129]\u001b[0m group1/block3/gcb/spatial_pool_conv output: [None, 1, 128, 128]\n",
      "\u001b[32m[0107 13:32:53 @registry.py:121]\u001b[0m group1/block3/gcb/channel_add_conv_1 input: [None, 128, 1, 1]\n",
      "\u001b[32m[0107 13:32:53 @registry.py:129]\u001b[0m group1/block3/gcb/channel_add_conv_1 output: [None, 16, 1, 1]\n",
      "\u001b[32m[0107 13:32:53 @registry.py:121]\u001b[0m group1/block3/gcb/channel_add_conv_2 input: [None, 16, 1, 1]\n",
      "\u001b[32m[0107 13:32:53 @registry.py:129]\u001b[0m group1/block3/gcb/channel_add_conv_2 output: [None, 128, 1, 1]\n",
      "\u001b[32m[0107 13:32:53 @registry.py:121]\u001b[0m group2/block0/conv1 input: [None, 128, 128, 128]\n",
      "\u001b[32m[0107 13:32:53 @registry.py:129]\u001b[0m group2/block0/conv1 output: [None, 256, 64, 64]\n",
      "\u001b[32m[0107 13:32:53 @registry.py:121]\u001b[0m group2/block0/conv2 input: [None, 256, 64, 64]\n",
      "\u001b[32m[0107 13:32:53 @registry.py:129]\u001b[0m group2/block0/conv2 output: [None, 256, 64, 64]\n",
      "\u001b[32m[0107 13:32:53 @registry.py:121]\u001b[0m group2/block0/gcb/spatial_pool_conv input: [None, 256, 64, 64]\n",
      "\u001b[32m[0107 13:32:53 @registry.py:129]\u001b[0m group2/block0/gcb/spatial_pool_conv output: [None, 1, 64, 64]\n",
      "\u001b[32m[0107 13:32:53 @registry.py:121]\u001b[0m group2/block0/gcb/channel_add_conv_1 input: [None, 256, 1, 1]\n",
      "\u001b[32m[0107 13:32:53 @registry.py:129]\u001b[0m group2/block0/gcb/channel_add_conv_1 output: [None, 32, 1, 1]\n",
      "\u001b[32m[0107 13:32:53 @registry.py:121]\u001b[0m group2/block0/gcb/channel_add_conv_2 input: [None, 32, 1, 1]\n",
      "\u001b[32m[0107 13:32:53 @registry.py:129]\u001b[0m group2/block0/gcb/channel_add_conv_2 output: [None, 256, 1, 1]\n",
      "\u001b[32m[0107 13:32:53 @registry.py:121]\u001b[0m group2/block0/convshortcut input: [None, 128, 128, 128]\n",
      "\u001b[32m[0107 13:32:53 @registry.py:129]\u001b[0m group2/block0/convshortcut output: [None, 256, 64, 64]\n",
      "\u001b[32m[0107 13:32:53 @registry.py:121]\u001b[0m group2/block1/conv1 input: [None, 256, 64, 64]\n",
      "\u001b[32m[0107 13:32:53 @registry.py:129]\u001b[0m group2/block1/conv1 output: [None, 256, 64, 64]\n",
      "\u001b[32m[0107 13:32:53 @registry.py:121]\u001b[0m group2/block1/conv2 input: [None, 256, 64, 64]\n",
      "\u001b[32m[0107 13:32:53 @registry.py:129]\u001b[0m group2/block1/conv2 output: [None, 256, 64, 64]\n",
      "\u001b[32m[0107 13:32:53 @registry.py:121]\u001b[0m group2/block1/gcb/spatial_pool_conv input: [None, 256, 64, 64]\n",
      "\u001b[32m[0107 13:32:53 @registry.py:129]\u001b[0m group2/block1/gcb/spatial_pool_conv output: [None, 1, 64, 64]\n",
      "\u001b[32m[0107 13:32:53 @registry.py:121]\u001b[0m group2/block1/gcb/channel_add_conv_1 input: [None, 256, 1, 1]\n",
      "\u001b[32m[0107 13:32:53 @registry.py:129]\u001b[0m group2/block1/gcb/channel_add_conv_1 output: [None, 32, 1, 1]\n",
      "\u001b[32m[0107 13:32:53 @registry.py:121]\u001b[0m group2/block1/gcb/channel_add_conv_2 input: [None, 32, 1, 1]\n",
      "\u001b[32m[0107 13:32:53 @registry.py:129]\u001b[0m group2/block1/gcb/channel_add_conv_2 output: [None, 256, 1, 1]\n",
      "\u001b[32m[0107 13:32:53 @registry.py:121]\u001b[0m group2/block2/conv1 input: [None, 256, 64, 64]\n",
      "\u001b[32m[0107 13:32:53 @registry.py:129]\u001b[0m group2/block2/conv1 output: [None, 256, 64, 64]\n",
      "\u001b[32m[0107 13:32:53 @registry.py:121]\u001b[0m group2/block2/conv2 input: [None, 256, 64, 64]\n",
      "\u001b[32m[0107 13:32:53 @registry.py:129]\u001b[0m group2/block2/conv2 output: [None, 256, 64, 64]\n",
      "\u001b[32m[0107 13:32:53 @registry.py:121]\u001b[0m group2/block2/gcb/spatial_pool_conv input: [None, 256, 64, 64]\n",
      "\u001b[32m[0107 13:32:53 @registry.py:129]\u001b[0m group2/block2/gcb/spatial_pool_conv output: [None, 1, 64, 64]\n",
      "\u001b[32m[0107 13:32:53 @registry.py:121]\u001b[0m group2/block2/gcb/channel_add_conv_1 input: [None, 256, 1, 1]\n",
      "\u001b[32m[0107 13:32:53 @registry.py:129]\u001b[0m group2/block2/gcb/channel_add_conv_1 output: [None, 32, 1, 1]\n",
      "\u001b[32m[0107 13:32:53 @registry.py:121]\u001b[0m group2/block2/gcb/channel_add_conv_2 input: [None, 32, 1, 1]\n",
      "\u001b[32m[0107 13:32:53 @registry.py:129]\u001b[0m group2/block2/gcb/channel_add_conv_2 output: [None, 256, 1, 1]\n",
      "\u001b[32m[0107 13:32:53 @registry.py:121]\u001b[0m group2/block3/conv1 input: [None, 256, 64, 64]\n",
      "\u001b[32m[0107 13:32:53 @registry.py:129]\u001b[0m group2/block3/conv1 output: [None, 256, 64, 64]\n",
      "\u001b[32m[0107 13:32:53 @registry.py:121]\u001b[0m group2/block3/conv2 input: [None, 256, 64, 64]\n",
      "\u001b[32m[0107 13:32:53 @registry.py:129]\u001b[0m group2/block3/conv2 output: [None, 256, 64, 64]\n",
      "\u001b[32m[0107 13:32:54 @registry.py:121]\u001b[0m group2/block3/gcb/spatial_pool_conv input: [None, 256, 64, 64]\n",
      "\u001b[32m[0107 13:32:54 @registry.py:129]\u001b[0m group2/block3/gcb/spatial_pool_conv output: [None, 1, 64, 64]\n",
      "\u001b[32m[0107 13:32:54 @registry.py:121]\u001b[0m group2/block3/gcb/channel_add_conv_1 input: [None, 256, 1, 1]\n",
      "\u001b[32m[0107 13:32:54 @registry.py:129]\u001b[0m group2/block3/gcb/channel_add_conv_1 output: [None, 32, 1, 1]\n",
      "\u001b[32m[0107 13:32:54 @registry.py:121]\u001b[0m group2/block3/gcb/channel_add_conv_2 input: [None, 32, 1, 1]\n"
     ]
    },
    {
     "name": "stdout",
     "output_type": "stream",
     "text": [
      "\u001b[32m[0107 13:32:54 @registry.py:129]\u001b[0m group2/block3/gcb/channel_add_conv_2 output: [None, 256, 1, 1]\n",
      "\u001b[32m[0107 13:32:54 @registry.py:121]\u001b[0m group2/block4/conv1 input: [None, 256, 64, 64]\n",
      "\u001b[32m[0107 13:32:54 @registry.py:129]\u001b[0m group2/block4/conv1 output: [None, 256, 64, 64]\n",
      "\u001b[32m[0107 13:32:54 @registry.py:121]\u001b[0m group2/block4/conv2 input: [None, 256, 64, 64]\n",
      "\u001b[32m[0107 13:32:54 @registry.py:129]\u001b[0m group2/block4/conv2 output: [None, 256, 64, 64]\n",
      "\u001b[32m[0107 13:32:54 @registry.py:121]\u001b[0m group2/block4/gcb/spatial_pool_conv input: [None, 256, 64, 64]\n",
      "\u001b[32m[0107 13:32:54 @registry.py:129]\u001b[0m group2/block4/gcb/spatial_pool_conv output: [None, 1, 64, 64]\n",
      "\u001b[32m[0107 13:32:54 @registry.py:121]\u001b[0m group2/block4/gcb/channel_add_conv_1 input: [None, 256, 1, 1]\n",
      "\u001b[32m[0107 13:32:54 @registry.py:129]\u001b[0m group2/block4/gcb/channel_add_conv_1 output: [None, 32, 1, 1]\n",
      "\u001b[32m[0107 13:32:54 @registry.py:121]\u001b[0m group2/block4/gcb/channel_add_conv_2 input: [None, 32, 1, 1]\n",
      "\u001b[32m[0107 13:32:54 @registry.py:129]\u001b[0m group2/block4/gcb/channel_add_conv_2 output: [None, 256, 1, 1]\n",
      "\u001b[32m[0107 13:32:54 @registry.py:121]\u001b[0m group2/block5/conv1 input: [None, 256, 64, 64]\n",
      "\u001b[32m[0107 13:32:54 @registry.py:129]\u001b[0m group2/block5/conv1 output: [None, 256, 64, 64]\n",
      "\u001b[32m[0107 13:32:54 @registry.py:121]\u001b[0m group2/block5/conv2 input: [None, 256, 64, 64]\n",
      "\u001b[32m[0107 13:32:54 @registry.py:129]\u001b[0m group2/block5/conv2 output: [None, 256, 64, 64]\n",
      "\u001b[32m[0107 13:32:54 @registry.py:121]\u001b[0m group2/block5/gcb/spatial_pool_conv input: [None, 256, 64, 64]\n",
      "\u001b[32m[0107 13:32:54 @registry.py:129]\u001b[0m group2/block5/gcb/spatial_pool_conv output: [None, 1, 64, 64]\n",
      "\u001b[32m[0107 13:32:54 @registry.py:121]\u001b[0m group2/block5/gcb/channel_add_conv_1 input: [None, 256, 1, 1]\n",
      "\u001b[32m[0107 13:32:54 @registry.py:129]\u001b[0m group2/block5/gcb/channel_add_conv_1 output: [None, 32, 1, 1]\n",
      "\u001b[32m[0107 13:32:54 @registry.py:121]\u001b[0m group2/block5/gcb/channel_add_conv_2 input: [None, 32, 1, 1]\n",
      "\u001b[32m[0107 13:32:54 @registry.py:129]\u001b[0m group2/block5/gcb/channel_add_conv_2 output: [None, 256, 1, 1]\n",
      "\u001b[32m[0107 13:32:54 @registry.py:121]\u001b[0m group3/block0/conv1 input: [None, 256, 64, 64]\n",
      "\u001b[32m[0107 13:32:54 @registry.py:129]\u001b[0m group3/block0/conv1 output: [None, 512, 32, 32]\n",
      "\u001b[32m[0107 13:32:54 @registry.py:121]\u001b[0m group3/block0/conv2 input: [None, 512, 32, 32]\n",
      "\u001b[32m[0107 13:32:54 @registry.py:129]\u001b[0m group3/block0/conv2 output: [None, 512, 32, 32]\n",
      "\u001b[32m[0107 13:32:54 @registry.py:121]\u001b[0m group3/block0/gcb/spatial_pool_conv input: [None, 512, 32, 32]\n",
      "\u001b[32m[0107 13:32:54 @registry.py:129]\u001b[0m group3/block0/gcb/spatial_pool_conv output: [None, 1, 32, 32]\n",
      "\u001b[32m[0107 13:32:54 @registry.py:121]\u001b[0m group3/block0/gcb/channel_add_conv_1 input: [None, 512, 1, 1]\n",
      "\u001b[32m[0107 13:32:54 @registry.py:129]\u001b[0m group3/block0/gcb/channel_add_conv_1 output: [None, 64, 1, 1]\n",
      "\u001b[32m[0107 13:32:54 @registry.py:121]\u001b[0m group3/block0/gcb/channel_add_conv_2 input: [None, 64, 1, 1]\n",
      "\u001b[32m[0107 13:32:54 @registry.py:129]\u001b[0m group3/block0/gcb/channel_add_conv_2 output: [None, 512, 1, 1]\n",
      "\u001b[32m[0107 13:32:54 @registry.py:121]\u001b[0m group3/block0/convshortcut input: [None, 256, 64, 64]\n",
      "\u001b[32m[0107 13:32:54 @registry.py:129]\u001b[0m group3/block0/convshortcut output: [None, 512, 32, 32]\n",
      "\u001b[32m[0107 13:32:54 @registry.py:121]\u001b[0m group3/block1/conv1 input: [None, 512, 32, 32]\n",
      "\u001b[32m[0107 13:32:54 @registry.py:129]\u001b[0m group3/block1/conv1 output: [None, 512, 32, 32]\n",
      "\u001b[32m[0107 13:32:54 @registry.py:121]\u001b[0m group3/block1/conv2 input: [None, 512, 32, 32]\n",
      "\u001b[32m[0107 13:32:55 @registry.py:129]\u001b[0m group3/block1/conv2 output: [None, 512, 32, 32]\n",
      "\u001b[32m[0107 13:32:55 @registry.py:121]\u001b[0m group3/block1/gcb/spatial_pool_conv input: [None, 512, 32, 32]\n",
      "\u001b[32m[0107 13:32:55 @registry.py:129]\u001b[0m group3/block1/gcb/spatial_pool_conv output: [None, 1, 32, 32]\n",
      "\u001b[32m[0107 13:32:55 @registry.py:121]\u001b[0m group3/block1/gcb/channel_add_conv_1 input: [None, 512, 1, 1]\n",
      "\u001b[32m[0107 13:32:55 @registry.py:129]\u001b[0m group3/block1/gcb/channel_add_conv_1 output: [None, 64, 1, 1]\n",
      "\u001b[32m[0107 13:32:55 @registry.py:121]\u001b[0m group3/block1/gcb/channel_add_conv_2 input: [None, 64, 1, 1]\n",
      "\u001b[32m[0107 13:32:55 @registry.py:129]\u001b[0m group3/block1/gcb/channel_add_conv_2 output: [None, 512, 1, 1]\n",
      "\u001b[32m[0107 13:32:55 @registry.py:121]\u001b[0m group3/block2/conv1 input: [None, 512, 32, 32]\n",
      "\u001b[32m[0107 13:32:55 @registry.py:129]\u001b[0m group3/block2/conv1 output: [None, 512, 32, 32]\n",
      "\u001b[32m[0107 13:32:55 @registry.py:121]\u001b[0m group3/block2/conv2 input: [None, 512, 32, 32]\n",
      "\u001b[32m[0107 13:32:55 @registry.py:129]\u001b[0m group3/block2/conv2 output: [None, 512, 32, 32]\n",
      "\u001b[32m[0107 13:32:55 @registry.py:121]\u001b[0m group3/block2/gcb/spatial_pool_conv input: [None, 512, 32, 32]\n",
      "\u001b[32m[0107 13:32:55 @registry.py:129]\u001b[0m group3/block2/gcb/spatial_pool_conv output: [None, 1, 32, 32]\n",
      "\u001b[32m[0107 13:32:55 @registry.py:121]\u001b[0m group3/block2/gcb/channel_add_conv_1 input: [None, 512, 1, 1]\n",
      "\u001b[32m[0107 13:32:55 @registry.py:129]\u001b[0m group3/block2/gcb/channel_add_conv_1 output: [None, 64, 1, 1]\n",
      "\u001b[32m[0107 13:32:55 @registry.py:121]\u001b[0m group3/block2/gcb/channel_add_conv_2 input: [None, 64, 1, 1]\n",
      "\u001b[32m[0107 13:32:55 @registry.py:129]\u001b[0m group3/block2/gcb/channel_add_conv_2 output: [None, 512, 1, 1]\n",
      "\u001b[32m[0107 13:32:55 @registry.py:121]\u001b[0m classify_1/com_11/up_0 input: [None, 256, 64, 64]\n",
      "\u001b[32m[0107 13:32:55 @registry.py:129]\u001b[0m classify_1/com_11/up_0 output: [None, 256, 128, 128]\n",
      "\u001b[32m[0107 13:32:55 @registry.py:121]\u001b[0m classify_1/com_11/conv_up input: [None, 256, 128, 128]\n",
      "\u001b[32m[0107 13:32:55 @registry.py:129]\u001b[0m classify_1/com_11/conv_up output: [None, 128, 128, 128]\n",
      "\u001b[32m[0107 13:32:55 @registry.py:121]\u001b[0m classify_1/conv_img12 input: [None, 192, 128, 128]\n",
      "\u001b[32m[0107 13:32:55 @registry.py:129]\u001b[0m classify_1/conv_img12 output: [None, 128, 128, 128]\n",
      "\u001b[32m[0107 13:32:55 @registry.py:121]\u001b[0m classify_1/groupl11/block0/conv1 input: [None, 128, 128, 128]\n",
      "\u001b[32m[0107 13:32:55 @registry.py:129]\u001b[0m classify_1/groupl11/block0/conv1 output: [None, 128, 128, 128]\n",
      "\u001b[32m[0107 13:32:55 @registry.py:121]\u001b[0m classify_1/groupl11/block0/conv2 input: [None, 128, 128, 128]\n",
      "\u001b[32m[0107 13:32:55 @registry.py:129]\u001b[0m classify_1/groupl11/block0/conv2 output: [None, 128, 128, 128]\n",
      "\u001b[32m[0107 13:32:55 @registry.py:121]\u001b[0m classify_1/groupl11/block0/gcb/spatial_pool_conv input: [None, 128, 128, 128]\n",
      "\u001b[32m[0107 13:32:55 @registry.py:129]\u001b[0m classify_1/groupl11/block0/gcb/spatial_pool_conv output: [None, 1, 128, 128]\n",
      "\u001b[32m[0107 13:32:55 @registry.py:121]\u001b[0m classify_1/groupl11/block0/gcb/channel_add_conv_1 input: [None, 128, 1, 1]\n",
      "\u001b[32m[0107 13:32:55 @registry.py:129]\u001b[0m classify_1/groupl11/block0/gcb/channel_add_conv_1 output: [None, 16, 1, 1]\n",
      "\u001b[32m[0107 13:32:55 @registry.py:121]\u001b[0m classify_1/groupl11/block0/gcb/channel_add_conv_2 input: [None, 16, 1, 1]\n",
      "\u001b[32m[0107 13:32:55 @registry.py:129]\u001b[0m classify_1/groupl11/block0/gcb/channel_add_conv_2 output: [None, 128, 1, 1]\n",
      "\u001b[32m[0107 13:32:55 @registry.py:121]\u001b[0m classify_1/conv_straight11 input: [None, 128, 128, 128]\n",
      "\u001b[32m[0107 13:32:55 @registry.py:129]\u001b[0m classify_1/conv_straight11 output: [None, 128, 128, 128]\n",
      "\u001b[32m[0107 13:32:55 @registry.py:121]\u001b[0m classify_1/conv_down11 input: [None, 128, 128, 128]\n",
      "\u001b[32m[0107 13:32:55 @registry.py:129]\u001b[0m classify_1/conv_down11 output: [None, 256, 64, 64]\n",
      "\u001b[32m[0107 13:32:55 @registry.py:121]\u001b[0m classify_1/com_12/up_0 input: [None, 512, 32, 32]\n",
      "\u001b[32m[0107 13:32:55 @registry.py:129]\u001b[0m classify_1/com_12/up_0 output: [None, 512, 64, 64]\n",
      "\u001b[32m[0107 13:32:55 @registry.py:121]\u001b[0m classify_1/com_12/up_1 input: [None, 512, 64, 64]\n",
      "\u001b[32m[0107 13:32:55 @registry.py:129]\u001b[0m classify_1/com_12/up_1 output: [None, 512, 128, 128]\n",
      "\u001b[32m[0107 13:32:55 @registry.py:121]\u001b[0m classify_1/com_12/conv_up input: [None, 512, 128, 128]\n",
      "\u001b[32m[0107 13:32:55 @registry.py:129]\u001b[0m classify_1/com_12/conv_up output: [None, 128, 128, 128]\n",
      "\u001b[32m[0107 13:32:55 @registry.py:121]\u001b[0m classify_1/com_22/up_0 input: [None, 512, 32, 32]\n",
      "\u001b[32m[0107 13:32:55 @registry.py:129]\u001b[0m classify_1/com_22/up_0 output: [None, 512, 64, 64]\n",
      "\u001b[32m[0107 13:32:55 @registry.py:121]\u001b[0m classify_1/com_22/conv_up input: [None, 512, 64, 64]\n",
      "\u001b[32m[0107 13:32:55 @registry.py:129]\u001b[0m classify_1/com_22/conv_up output: [None, 256, 64, 64]\n"
     ]
    },
    {
     "name": "stdout",
     "output_type": "stream",
     "text": [
      "\u001b[32m[0107 13:32:55 @registry.py:121]\u001b[0m classify_1/conv_img22 input: [None, 384, 64, 64]\n",
      "\u001b[32m[0107 13:32:56 @registry.py:129]\u001b[0m classify_1/conv_img22 output: [None, 256, 64, 64]\n",
      "\u001b[32m[0107 13:32:56 @registry.py:121]\u001b[0m classify_1/groupl12/block0/conv1 input: [None, 128, 128, 128]\n",
      "\u001b[32m[0107 13:32:56 @registry.py:129]\u001b[0m classify_1/groupl12/block0/conv1 output: [None, 128, 128, 128]\n",
      "\u001b[32m[0107 13:32:56 @registry.py:121]\u001b[0m classify_1/groupl12/block0/conv2 input: [None, 128, 128, 128]\n",
      "\u001b[32m[0107 13:32:56 @registry.py:129]\u001b[0m classify_1/groupl12/block0/conv2 output: [None, 128, 128, 128]\n",
      "\u001b[32m[0107 13:32:56 @registry.py:121]\u001b[0m classify_1/groupl12/block0/gcb/spatial_pool_conv input: [None, 128, 128, 128]\n",
      "\u001b[32m[0107 13:32:56 @registry.py:129]\u001b[0m classify_1/groupl12/block0/gcb/spatial_pool_conv output: [None, 1, 128, 128]\n",
      "\u001b[32m[0107 13:32:56 @registry.py:121]\u001b[0m classify_1/groupl12/block0/gcb/channel_add_conv_1 input: [None, 128, 1, 1]\n",
      "\u001b[32m[0107 13:32:56 @registry.py:129]\u001b[0m classify_1/groupl12/block0/gcb/channel_add_conv_1 output: [None, 16, 1, 1]\n",
      "\u001b[32m[0107 13:32:56 @registry.py:121]\u001b[0m classify_1/groupl12/block0/gcb/channel_add_conv_2 input: [None, 16, 1, 1]\n",
      "\u001b[32m[0107 13:32:56 @registry.py:129]\u001b[0m classify_1/groupl12/block0/gcb/channel_add_conv_2 output: [None, 128, 1, 1]\n",
      "\u001b[32m[0107 13:32:56 @registry.py:121]\u001b[0m classify_1/groupl22/block0/conv1 input: [None, 256, 64, 64]\n",
      "\u001b[32m[0107 13:32:56 @registry.py:129]\u001b[0m classify_1/groupl22/block0/conv1 output: [None, 256, 64, 64]\n",
      "\u001b[32m[0107 13:32:56 @registry.py:121]\u001b[0m classify_1/groupl22/block0/conv2 input: [None, 256, 64, 64]\n",
      "\u001b[32m[0107 13:32:56 @registry.py:129]\u001b[0m classify_1/groupl22/block0/conv2 output: [None, 256, 64, 64]\n",
      "\u001b[32m[0107 13:32:56 @registry.py:121]\u001b[0m classify_1/groupl22/block0/gcb/spatial_pool_conv input: [None, 256, 64, 64]\n",
      "\u001b[32m[0107 13:32:56 @registry.py:129]\u001b[0m classify_1/groupl22/block0/gcb/spatial_pool_conv output: [None, 1, 64, 64]\n",
      "\u001b[32m[0107 13:32:56 @registry.py:121]\u001b[0m classify_1/groupl22/block0/gcb/channel_add_conv_1 input: [None, 256, 1, 1]\n",
      "\u001b[32m[0107 13:32:56 @registry.py:129]\u001b[0m classify_1/groupl22/block0/gcb/channel_add_conv_1 output: [None, 32, 1, 1]\n",
      "\u001b[32m[0107 13:32:56 @registry.py:121]\u001b[0m classify_1/groupl22/block0/gcb/channel_add_conv_2 input: [None, 32, 1, 1]\n",
      "\u001b[32m[0107 13:32:56 @registry.py:129]\u001b[0m classify_1/groupl22/block0/gcb/channel_add_conv_2 output: [None, 256, 1, 1]\n",
      "\u001b[32m[0107 13:32:56 @registry.py:121]\u001b[0m classify_1/conv_straight12 input: [None, 128, 128, 128]\n",
      "\u001b[32m[0107 13:32:56 @registry.py:129]\u001b[0m classify_1/conv_straight12 output: [None, 128, 128, 128]\n",
      "\u001b[32m[0107 13:32:56 @registry.py:121]\u001b[0m classify_1/com_13/up_0 input: [None, 256, 64, 64]\n",
      "\u001b[32m[0107 13:32:56 @registry.py:129]\u001b[0m classify_1/com_13/up_0 output: [None, 256, 128, 128]\n",
      "\u001b[32m[0107 13:32:56 @registry.py:121]\u001b[0m classify_1/com_13/conv_up input: [None, 256, 128, 128]\n",
      "\u001b[32m[0107 13:32:56 @registry.py:129]\u001b[0m classify_1/com_13/conv_up output: [None, 128, 128, 128]\n",
      "\u001b[32m[0107 13:32:56 @registry.py:121]\u001b[0m classify_1/conv_straight22 input: [None, 256, 64, 64]\n",
      "\u001b[32m[0107 13:32:56 @registry.py:129]\u001b[0m classify_1/conv_straight22 output: [None, 256, 64, 64]\n",
      "\u001b[32m[0107 13:32:56 @registry.py:121]\u001b[0m classify_1/conv_down12 input: [None, 128, 128, 128]\n",
      "\u001b[32m[0107 13:32:56 @registry.py:129]\u001b[0m classify_1/conv_down12 output: [None, 256, 64, 64]\n",
      "\u001b[32m[0107 13:32:56 @registry.py:121]\u001b[0m classify_1/conv_down22 input: [None, 256, 64, 64]\n",
      "\u001b[32m[0107 13:32:56 @registry.py:129]\u001b[0m classify_1/conv_down22 output: [None, 512, 32, 32]\n",
      "\u001b[32m[0107 13:32:56 @registry.py:121]\u001b[0m classify_1/conv_downdown12 input: [None, 256, 64, 64]\n",
      "\u001b[32m[0107 13:32:56 @registry.py:129]\u001b[0m classify_1/conv_downdown12 output: [None, 512, 32, 32]\n",
      "\u001b[32m[0107 13:32:56 @registry.py:121]\u001b[0m classify_1/conv_img32 input: [None, 768, 32, 32]\n",
      "\u001b[32m[0107 13:32:56 @registry.py:129]\u001b[0m classify_1/conv_img32 output: [None, 512, 32, 32]\n",
      "\u001b[32m[0107 13:32:56 @registry.py:121]\u001b[0m classify_1/groupl13/block0/conv1 input: [None, 128, 128, 128]\n",
      "\u001b[32m[0107 13:32:57 @registry.py:129]\u001b[0m classify_1/groupl13/block0/conv1 output: [None, 128, 128, 128]\n",
      "\u001b[32m[0107 13:32:57 @registry.py:121]\u001b[0m classify_1/groupl13/block0/conv2 input: [None, 128, 128, 128]\n",
      "\u001b[32m[0107 13:32:57 @registry.py:129]\u001b[0m classify_1/groupl13/block0/conv2 output: [None, 128, 128, 128]\n",
      "\u001b[32m[0107 13:32:57 @registry.py:121]\u001b[0m classify_1/groupl13/block0/gcb/spatial_pool_conv input: [None, 128, 128, 128]\n",
      "\u001b[32m[0107 13:32:57 @registry.py:129]\u001b[0m classify_1/groupl13/block0/gcb/spatial_pool_conv output: [None, 1, 128, 128]\n",
      "\u001b[32m[0107 13:32:57 @registry.py:121]\u001b[0m classify_1/groupl13/block0/gcb/channel_add_conv_1 input: [None, 128, 1, 1]\n",
      "\u001b[32m[0107 13:32:57 @registry.py:129]\u001b[0m classify_1/groupl13/block0/gcb/channel_add_conv_1 output: [None, 16, 1, 1]\n",
      "\u001b[32m[0107 13:32:57 @registry.py:121]\u001b[0m classify_1/groupl13/block0/gcb/channel_add_conv_2 input: [None, 16, 1, 1]\n",
      "\u001b[32m[0107 13:32:57 @registry.py:129]\u001b[0m classify_1/groupl13/block0/gcb/channel_add_conv_2 output: [None, 128, 1, 1]\n",
      "\u001b[32m[0107 13:32:57 @registry.py:121]\u001b[0m classify_1/groupl23/block0/conv1 input: [None, 256, 64, 64]\n",
      "\u001b[32m[0107 13:32:57 @registry.py:129]\u001b[0m classify_1/groupl23/block0/conv1 output: [None, 256, 64, 64]\n",
      "\u001b[32m[0107 13:32:57 @registry.py:121]\u001b[0m classify_1/groupl23/block0/conv2 input: [None, 256, 64, 64]\n",
      "\u001b[32m[0107 13:32:57 @registry.py:129]\u001b[0m classify_1/groupl23/block0/conv2 output: [None, 256, 64, 64]\n",
      "\u001b[32m[0107 13:32:57 @registry.py:121]\u001b[0m classify_1/groupl23/block0/gcb/spatial_pool_conv input: [None, 256, 64, 64]\n",
      "\u001b[32m[0107 13:32:57 @registry.py:129]\u001b[0m classify_1/groupl23/block0/gcb/spatial_pool_conv output: [None, 1, 64, 64]\n",
      "\u001b[32m[0107 13:32:57 @registry.py:121]\u001b[0m classify_1/groupl23/block0/gcb/channel_add_conv_1 input: [None, 256, 1, 1]\n",
      "\u001b[32m[0107 13:32:57 @registry.py:129]\u001b[0m classify_1/groupl23/block0/gcb/channel_add_conv_1 output: [None, 32, 1, 1]\n",
      "\u001b[32m[0107 13:32:57 @registry.py:121]\u001b[0m classify_1/groupl23/block0/gcb/channel_add_conv_2 input: [None, 32, 1, 1]\n",
      "\u001b[32m[0107 13:32:57 @registry.py:129]\u001b[0m classify_1/groupl23/block0/gcb/channel_add_conv_2 output: [None, 256, 1, 1]\n",
      "\u001b[32m[0107 13:32:57 @registry.py:121]\u001b[0m classify_1/groupl33/block0/conv1 input: [None, 512, 32, 32]\n",
      "\u001b[32m[0107 13:32:57 @registry.py:129]\u001b[0m classify_1/groupl33/block0/conv1 output: [None, 512, 32, 32]\n",
      "\u001b[32m[0107 13:32:57 @registry.py:121]\u001b[0m classify_1/groupl33/block0/conv2 input: [None, 512, 32, 32]\n",
      "\u001b[32m[0107 13:32:57 @registry.py:129]\u001b[0m classify_1/groupl33/block0/conv2 output: [None, 512, 32, 32]\n",
      "\u001b[32m[0107 13:32:57 @registry.py:121]\u001b[0m classify_1/groupl33/block0/gcb/spatial_pool_conv input: [None, 512, 32, 32]\n",
      "\u001b[32m[0107 13:32:57 @registry.py:129]\u001b[0m classify_1/groupl33/block0/gcb/spatial_pool_conv output: [None, 1, 32, 32]\n",
      "\u001b[32m[0107 13:32:57 @registry.py:121]\u001b[0m classify_1/groupl33/block0/gcb/channel_add_conv_1 input: [None, 512, 1, 1]\n",
      "\u001b[32m[0107 13:32:57 @registry.py:129]\u001b[0m classify_1/groupl33/block0/gcb/channel_add_conv_1 output: [None, 64, 1, 1]\n",
      "\u001b[32m[0107 13:32:57 @registry.py:121]\u001b[0m classify_1/groupl33/block0/gcb/channel_add_conv_2 input: [None, 64, 1, 1]\n",
      "\u001b[32m[0107 13:32:57 @registry.py:129]\u001b[0m classify_1/groupl33/block0/gcb/channel_add_conv_2 output: [None, 512, 1, 1]\n",
      "\u001b[32m[0107 13:32:57 @registry.py:121]\u001b[0m classify_1/conv_straight13 input: [None, 128, 128, 128]\n",
      "\u001b[32m[0107 13:32:57 @registry.py:129]\u001b[0m classify_1/conv_straight13 output: [None, 128, 128, 128]\n",
      "\u001b[32m[0107 13:32:57 @registry.py:121]\u001b[0m classify_1/com_141/up_0 input: [None, 256, 64, 64]\n",
      "\u001b[32m[0107 13:32:57 @registry.py:129]\u001b[0m classify_1/com_141/up_0 output: [None, 256, 128, 128]\n",
      "\u001b[32m[0107 13:32:57 @registry.py:121]\u001b[0m classify_1/com_141/conv_up input: [None, 256, 128, 128]\n",
      "\u001b[32m[0107 13:32:57 @registry.py:129]\u001b[0m classify_1/com_141/conv_up output: [None, 128, 128, 128]\n",
      "\u001b[32m[0107 13:32:57 @registry.py:121]\u001b[0m classify_1/com_142/up_0 input: [None, 512, 32, 32]\n",
      "\u001b[32m[0107 13:32:57 @registry.py:129]\u001b[0m classify_1/com_142/up_0 output: [None, 512, 64, 64]\n",
      "\u001b[32m[0107 13:32:57 @registry.py:121]\u001b[0m classify_1/com_142/up_1 input: [None, 512, 64, 64]\n",
      "\u001b[32m[0107 13:32:57 @registry.py:129]\u001b[0m classify_1/com_142/up_1 output: [None, 512, 128, 128]\n"
     ]
    },
    {
     "name": "stdout",
     "output_type": "stream",
     "text": [
      "\u001b[32m[0107 13:32:57 @registry.py:121]\u001b[0m classify_1/com_142/conv_up input: [None, 512, 128, 128]\n",
      "\u001b[32m[0107 13:32:57 @registry.py:129]\u001b[0m classify_1/com_142/conv_up output: [None, 128, 128, 128]\n",
      "\u001b[32m[0107 13:32:57 @registry.py:121]\u001b[0m classify_1/conv_straight23 input: [None, 256, 64, 64]\n",
      "\u001b[32m[0107 13:32:57 @registry.py:129]\u001b[0m classify_1/conv_straight23 output: [None, 256, 64, 64]\n",
      "\u001b[32m[0107 13:32:57 @registry.py:121]\u001b[0m classify_1/conv_down13 input: [None, 128, 128, 128]\n",
      "\u001b[32m[0107 13:32:57 @registry.py:129]\u001b[0m classify_1/conv_down13 output: [None, 256, 64, 64]\n",
      "\u001b[32m[0107 13:32:57 @registry.py:121]\u001b[0m classify_1/com_24/up_0 input: [None, 512, 32, 32]\n",
      "\u001b[32m[0107 13:32:58 @registry.py:129]\u001b[0m classify_1/com_24/up_0 output: [None, 512, 64, 64]\n",
      "\u001b[32m[0107 13:32:58 @registry.py:121]\u001b[0m classify_1/com_24/conv_up input: [None, 512, 64, 64]\n",
      "\u001b[32m[0107 13:32:58 @registry.py:129]\u001b[0m classify_1/com_24/conv_up output: [None, 256, 64, 64]\n",
      "\u001b[32m[0107 13:32:58 @registry.py:121]\u001b[0m classify_1/conv_straight33 input: [None, 512, 32, 32]\n",
      "\u001b[32m[0107 13:32:58 @registry.py:129]\u001b[0m classify_1/conv_straight33 output: [None, 512, 32, 32]\n",
      "\u001b[32m[0107 13:32:58 @registry.py:121]\u001b[0m classify_1/conv_downdown13 input: [None, 256, 64, 64]\n",
      "\u001b[32m[0107 13:32:58 @registry.py:129]\u001b[0m classify_1/conv_downdown13 output: [None, 512, 32, 32]\n",
      "\u001b[32m[0107 13:32:58 @registry.py:121]\u001b[0m classify_1/conv_down23 input: [None, 256, 64, 64]\n",
      "\u001b[32m[0107 13:32:58 @registry.py:129]\u001b[0m classify_1/conv_down23 output: [None, 512, 32, 32]\n",
      "\u001b[32m[0107 13:32:58 @registry.py:121]\u001b[0m head_fusion_classify_1/up_0 input: [None, 256, 64, 64]\n",
      "\u001b[32m[0107 13:32:58 @registry.py:129]\u001b[0m head_fusion_classify_1/up_0 output: [None, 256, 128, 128]\n",
      "\u001b[32m[0107 13:32:58 @registry.py:121]\u001b[0m head_fusion_classify_1/up_1 input: [None, 512, 32, 32]\n",
      "\u001b[32m[0107 13:32:58 @registry.py:129]\u001b[0m head_fusion_classify_1/up_1 output: [None, 512, 64, 64]\n",
      "\u001b[32m[0107 13:32:58 @registry.py:121]\u001b[0m head_fusion_classify_1/up_2 input: [None, 512, 64, 64]\n",
      "\u001b[32m[0107 13:32:58 @registry.py:129]\u001b[0m head_fusion_classify_1/up_2 output: [None, 512, 128, 128]\n",
      "\u001b[32m[0107 13:32:58 @registry.py:121]\u001b[0m head_fusion_classify_1/conv_mix input: [None, 896, 128, 128]\n",
      "\u001b[32m[0107 13:32:58 @registry.py:129]\u001b[0m head_fusion_classify_1/conv_mix output: [None, 256, 128, 128]\n",
      "\u001b[32m[0107 13:32:58 @registry.py:121]\u001b[0m classify_1/up input: [None, 256, 128, 128]\n",
      "\u001b[32m[0107 13:32:58 @registry.py:129]\u001b[0m classify_1/up output: [None, 256, 256, 256]\n",
      "\u001b[32m[0107 13:32:58 @registry.py:121]\u001b[0m classify_1/conv_out input: [None, 256, 256, 256]\n",
      "\u001b[32m[0107 13:32:58 @registry.py:129]\u001b[0m classify_1/conv_out output: [None, 4, 256, 256]\n",
      "\u001b[32m[0107 13:32:58 @registry.py:121]\u001b[0m classify_2/com_11/up_0 input: [None, 256, 64, 64]\n",
      "\u001b[32m[0107 13:32:58 @registry.py:129]\u001b[0m classify_2/com_11/up_0 output: [None, 256, 128, 128]\n",
      "\u001b[32m[0107 13:32:58 @registry.py:121]\u001b[0m classify_2/com_11/conv_up input: [None, 256, 128, 128]\n",
      "\u001b[32m[0107 13:32:58 @registry.py:129]\u001b[0m classify_2/com_11/conv_up output: [None, 128, 128, 128]\n",
      "\u001b[32m[0107 13:32:58 @registry.py:121]\u001b[0m classify_2/conv_img12 input: [None, 192, 128, 128]\n",
      "\u001b[32m[0107 13:32:58 @registry.py:129]\u001b[0m classify_2/conv_img12 output: [None, 128, 128, 128]\n",
      "\u001b[32m[0107 13:32:58 @registry.py:121]\u001b[0m classify_2/groupl11/block0/conv1 input: [None, 128, 128, 128]\n",
      "\u001b[32m[0107 13:32:58 @registry.py:129]\u001b[0m classify_2/groupl11/block0/conv1 output: [None, 128, 128, 128]\n",
      "\u001b[32m[0107 13:32:58 @registry.py:121]\u001b[0m classify_2/groupl11/block0/conv2 input: [None, 128, 128, 128]\n",
      "\u001b[32m[0107 13:32:58 @registry.py:129]\u001b[0m classify_2/groupl11/block0/conv2 output: [None, 128, 128, 128]\n",
      "\u001b[32m[0107 13:32:58 @registry.py:121]\u001b[0m classify_2/groupl11/block0/gcb/spatial_pool_conv input: [None, 128, 128, 128]\n",
      "\u001b[32m[0107 13:32:58 @registry.py:129]\u001b[0m classify_2/groupl11/block0/gcb/spatial_pool_conv output: [None, 1, 128, 128]\n",
      "\u001b[32m[0107 13:32:58 @registry.py:121]\u001b[0m classify_2/groupl11/block0/gcb/channel_add_conv_1 input: [None, 128, 1, 1]\n",
      "\u001b[32m[0107 13:32:58 @registry.py:129]\u001b[0m classify_2/groupl11/block0/gcb/channel_add_conv_1 output: [None, 16, 1, 1]\n",
      "\u001b[32m[0107 13:32:58 @registry.py:121]\u001b[0m classify_2/groupl11/block0/gcb/channel_add_conv_2 input: [None, 16, 1, 1]\n",
      "\u001b[32m[0107 13:32:58 @registry.py:129]\u001b[0m classify_2/groupl11/block0/gcb/channel_add_conv_2 output: [None, 128, 1, 1]\n",
      "\u001b[32m[0107 13:32:58 @registry.py:121]\u001b[0m classify_2/conv_straight11 input: [None, 128, 128, 128]\n",
      "\u001b[32m[0107 13:32:58 @registry.py:129]\u001b[0m classify_2/conv_straight11 output: [None, 128, 128, 128]\n",
      "\u001b[32m[0107 13:32:58 @registry.py:121]\u001b[0m classify_2/conv_down11 input: [None, 128, 128, 128]\n",
      "\u001b[32m[0107 13:32:59 @registry.py:129]\u001b[0m classify_2/conv_down11 output: [None, 256, 64, 64]\n",
      "\u001b[32m[0107 13:32:59 @registry.py:121]\u001b[0m classify_2/com_12/up_0 input: [None, 512, 32, 32]\n",
      "\u001b[32m[0107 13:32:59 @registry.py:129]\u001b[0m classify_2/com_12/up_0 output: [None, 512, 64, 64]\n",
      "\u001b[32m[0107 13:32:59 @registry.py:121]\u001b[0m classify_2/com_12/up_1 input: [None, 512, 64, 64]\n",
      "\u001b[32m[0107 13:32:59 @registry.py:129]\u001b[0m classify_2/com_12/up_1 output: [None, 512, 128, 128]\n",
      "\u001b[32m[0107 13:32:59 @registry.py:121]\u001b[0m classify_2/com_12/conv_up input: [None, 512, 128, 128]\n",
      "\u001b[32m[0107 13:32:59 @registry.py:129]\u001b[0m classify_2/com_12/conv_up output: [None, 128, 128, 128]\n",
      "\u001b[32m[0107 13:32:59 @registry.py:121]\u001b[0m classify_2/com_22/up_0 input: [None, 512, 32, 32]\n",
      "\u001b[32m[0107 13:32:59 @registry.py:129]\u001b[0m classify_2/com_22/up_0 output: [None, 512, 64, 64]\n",
      "\u001b[32m[0107 13:32:59 @registry.py:121]\u001b[0m classify_2/com_22/conv_up input: [None, 512, 64, 64]\n",
      "\u001b[32m[0107 13:32:59 @registry.py:129]\u001b[0m classify_2/com_22/conv_up output: [None, 256, 64, 64]\n",
      "\u001b[32m[0107 13:32:59 @registry.py:121]\u001b[0m classify_2/conv_img22 input: [None, 384, 64, 64]\n",
      "\u001b[32m[0107 13:32:59 @registry.py:129]\u001b[0m classify_2/conv_img22 output: [None, 256, 64, 64]\n",
      "\u001b[32m[0107 13:32:59 @registry.py:121]\u001b[0m classify_2/groupl12/block0/conv1 input: [None, 128, 128, 128]\n",
      "\u001b[32m[0107 13:32:59 @registry.py:129]\u001b[0m classify_2/groupl12/block0/conv1 output: [None, 128, 128, 128]\n",
      "\u001b[32m[0107 13:32:59 @registry.py:121]\u001b[0m classify_2/groupl12/block0/conv2 input: [None, 128, 128, 128]\n",
      "\u001b[32m[0107 13:32:59 @registry.py:129]\u001b[0m classify_2/groupl12/block0/conv2 output: [None, 128, 128, 128]\n",
      "\u001b[32m[0107 13:32:59 @registry.py:121]\u001b[0m classify_2/groupl12/block0/gcb/spatial_pool_conv input: [None, 128, 128, 128]\n",
      "\u001b[32m[0107 13:32:59 @registry.py:129]\u001b[0m classify_2/groupl12/block0/gcb/spatial_pool_conv output: [None, 1, 128, 128]\n",
      "\u001b[32m[0107 13:32:59 @registry.py:121]\u001b[0m classify_2/groupl12/block0/gcb/channel_add_conv_1 input: [None, 128, 1, 1]\n",
      "\u001b[32m[0107 13:32:59 @registry.py:129]\u001b[0m classify_2/groupl12/block0/gcb/channel_add_conv_1 output: [None, 16, 1, 1]\n",
      "\u001b[32m[0107 13:32:59 @registry.py:121]\u001b[0m classify_2/groupl12/block0/gcb/channel_add_conv_2 input: [None, 16, 1, 1]\n",
      "\u001b[32m[0107 13:32:59 @registry.py:129]\u001b[0m classify_2/groupl12/block0/gcb/channel_add_conv_2 output: [None, 128, 1, 1]\n",
      "\u001b[32m[0107 13:32:59 @registry.py:121]\u001b[0m classify_2/groupl22/block0/conv1 input: [None, 256, 64, 64]\n",
      "\u001b[32m[0107 13:32:59 @registry.py:129]\u001b[0m classify_2/groupl22/block0/conv1 output: [None, 256, 64, 64]\n",
      "\u001b[32m[0107 13:32:59 @registry.py:121]\u001b[0m classify_2/groupl22/block0/conv2 input: [None, 256, 64, 64]\n",
      "\u001b[32m[0107 13:32:59 @registry.py:129]\u001b[0m classify_2/groupl22/block0/conv2 output: [None, 256, 64, 64]\n",
      "\u001b[32m[0107 13:32:59 @registry.py:121]\u001b[0m classify_2/groupl22/block0/gcb/spatial_pool_conv input: [None, 256, 64, 64]\n",
      "\u001b[32m[0107 13:32:59 @registry.py:129]\u001b[0m classify_2/groupl22/block0/gcb/spatial_pool_conv output: [None, 1, 64, 64]\n",
      "\u001b[32m[0107 13:32:59 @registry.py:121]\u001b[0m classify_2/groupl22/block0/gcb/channel_add_conv_1 input: [None, 256, 1, 1]\n",
      "\u001b[32m[0107 13:32:59 @registry.py:129]\u001b[0m classify_2/groupl22/block0/gcb/channel_add_conv_1 output: [None, 32, 1, 1]\n",
      "\u001b[32m[0107 13:32:59 @registry.py:121]\u001b[0m classify_2/groupl22/block0/gcb/channel_add_conv_2 input: [None, 32, 1, 1]\n",
      "\u001b[32m[0107 13:32:59 @registry.py:129]\u001b[0m classify_2/groupl22/block0/gcb/channel_add_conv_2 output: [None, 256, 1, 1]\n",
      "\u001b[32m[0107 13:32:59 @registry.py:121]\u001b[0m classify_2/conv_straight12 input: [None, 128, 128, 128]\n"
     ]
    },
    {
     "name": "stdout",
     "output_type": "stream",
     "text": [
      "\u001b[32m[0107 13:32:59 @registry.py:129]\u001b[0m classify_2/conv_straight12 output: [None, 128, 128, 128]\n",
      "\u001b[32m[0107 13:32:59 @registry.py:121]\u001b[0m classify_2/com_13/up_0 input: [None, 256, 64, 64]\n",
      "\u001b[32m[0107 13:32:59 @registry.py:129]\u001b[0m classify_2/com_13/up_0 output: [None, 256, 128, 128]\n",
      "\u001b[32m[0107 13:32:59 @registry.py:121]\u001b[0m classify_2/com_13/conv_up input: [None, 256, 128, 128]\n",
      "\u001b[32m[0107 13:32:59 @registry.py:129]\u001b[0m classify_2/com_13/conv_up output: [None, 128, 128, 128]\n",
      "\u001b[32m[0107 13:32:59 @registry.py:121]\u001b[0m classify_2/conv_straight22 input: [None, 256, 64, 64]\n",
      "\u001b[32m[0107 13:32:59 @registry.py:129]\u001b[0m classify_2/conv_straight22 output: [None, 256, 64, 64]\n",
      "\u001b[32m[0107 13:32:59 @registry.py:121]\u001b[0m classify_2/conv_down12 input: [None, 128, 128, 128]\n",
      "\u001b[32m[0107 13:32:59 @registry.py:129]\u001b[0m classify_2/conv_down12 output: [None, 256, 64, 64]\n",
      "\u001b[32m[0107 13:32:59 @registry.py:121]\u001b[0m classify_2/conv_down22 input: [None, 256, 64, 64]\n",
      "\u001b[32m[0107 13:32:59 @registry.py:129]\u001b[0m classify_2/conv_down22 output: [None, 512, 32, 32]\n",
      "\u001b[32m[0107 13:32:59 @registry.py:121]\u001b[0m classify_2/conv_downdown12 input: [None, 256, 64, 64]\n",
      "\u001b[32m[0107 13:32:59 @registry.py:129]\u001b[0m classify_2/conv_downdown12 output: [None, 512, 32, 32]\n",
      "\u001b[32m[0107 13:32:59 @registry.py:121]\u001b[0m classify_2/conv_img32 input: [None, 768, 32, 32]\n",
      "\u001b[32m[0107 13:33:00 @registry.py:129]\u001b[0m classify_2/conv_img32 output: [None, 512, 32, 32]\n",
      "\u001b[32m[0107 13:33:00 @registry.py:121]\u001b[0m classify_2/groupl13/block0/conv1 input: [None, 128, 128, 128]\n",
      "\u001b[32m[0107 13:33:00 @registry.py:129]\u001b[0m classify_2/groupl13/block0/conv1 output: [None, 128, 128, 128]\n",
      "\u001b[32m[0107 13:33:00 @registry.py:121]\u001b[0m classify_2/groupl13/block0/conv2 input: [None, 128, 128, 128]\n",
      "\u001b[32m[0107 13:33:00 @registry.py:129]\u001b[0m classify_2/groupl13/block0/conv2 output: [None, 128, 128, 128]\n",
      "\u001b[32m[0107 13:33:00 @registry.py:121]\u001b[0m classify_2/groupl13/block0/gcb/spatial_pool_conv input: [None, 128, 128, 128]\n",
      "\u001b[32m[0107 13:33:00 @registry.py:129]\u001b[0m classify_2/groupl13/block0/gcb/spatial_pool_conv output: [None, 1, 128, 128]\n",
      "\u001b[32m[0107 13:33:00 @registry.py:121]\u001b[0m classify_2/groupl13/block0/gcb/channel_add_conv_1 input: [None, 128, 1, 1]\n",
      "\u001b[32m[0107 13:33:00 @registry.py:129]\u001b[0m classify_2/groupl13/block0/gcb/channel_add_conv_1 output: [None, 16, 1, 1]\n",
      "\u001b[32m[0107 13:33:00 @registry.py:121]\u001b[0m classify_2/groupl13/block0/gcb/channel_add_conv_2 input: [None, 16, 1, 1]\n",
      "\u001b[32m[0107 13:33:00 @registry.py:129]\u001b[0m classify_2/groupl13/block0/gcb/channel_add_conv_2 output: [None, 128, 1, 1]\n",
      "\u001b[32m[0107 13:33:00 @registry.py:121]\u001b[0m classify_2/groupl23/block0/conv1 input: [None, 256, 64, 64]\n",
      "\u001b[32m[0107 13:33:00 @registry.py:129]\u001b[0m classify_2/groupl23/block0/conv1 output: [None, 256, 64, 64]\n",
      "\u001b[32m[0107 13:33:00 @registry.py:121]\u001b[0m classify_2/groupl23/block0/conv2 input: [None, 256, 64, 64]\n",
      "\u001b[32m[0107 13:33:00 @registry.py:129]\u001b[0m classify_2/groupl23/block0/conv2 output: [None, 256, 64, 64]\n",
      "\u001b[32m[0107 13:33:00 @registry.py:121]\u001b[0m classify_2/groupl23/block0/gcb/spatial_pool_conv input: [None, 256, 64, 64]\n",
      "\u001b[32m[0107 13:33:00 @registry.py:129]\u001b[0m classify_2/groupl23/block0/gcb/spatial_pool_conv output: [None, 1, 64, 64]\n",
      "\u001b[32m[0107 13:33:00 @registry.py:121]\u001b[0m classify_2/groupl23/block0/gcb/channel_add_conv_1 input: [None, 256, 1, 1]\n",
      "\u001b[32m[0107 13:33:00 @registry.py:129]\u001b[0m classify_2/groupl23/block0/gcb/channel_add_conv_1 output: [None, 32, 1, 1]\n",
      "\u001b[32m[0107 13:33:00 @registry.py:121]\u001b[0m classify_2/groupl23/block0/gcb/channel_add_conv_2 input: [None, 32, 1, 1]\n",
      "\u001b[32m[0107 13:33:00 @registry.py:129]\u001b[0m classify_2/groupl23/block0/gcb/channel_add_conv_2 output: [None, 256, 1, 1]\n",
      "\u001b[32m[0107 13:33:00 @registry.py:121]\u001b[0m classify_2/groupl33/block0/conv1 input: [None, 512, 32, 32]\n",
      "\u001b[32m[0107 13:33:00 @registry.py:129]\u001b[0m classify_2/groupl33/block0/conv1 output: [None, 512, 32, 32]\n",
      "\u001b[32m[0107 13:33:00 @registry.py:121]\u001b[0m classify_2/groupl33/block0/conv2 input: [None, 512, 32, 32]\n",
      "\u001b[32m[0107 13:33:00 @registry.py:129]\u001b[0m classify_2/groupl33/block0/conv2 output: [None, 512, 32, 32]\n",
      "\u001b[32m[0107 13:33:00 @registry.py:121]\u001b[0m classify_2/groupl33/block0/gcb/spatial_pool_conv input: [None, 512, 32, 32]\n",
      "\u001b[32m[0107 13:33:00 @registry.py:129]\u001b[0m classify_2/groupl33/block0/gcb/spatial_pool_conv output: [None, 1, 32, 32]\n",
      "\u001b[32m[0107 13:33:00 @registry.py:121]\u001b[0m classify_2/groupl33/block0/gcb/channel_add_conv_1 input: [None, 512, 1, 1]\n",
      "\u001b[32m[0107 13:33:00 @registry.py:129]\u001b[0m classify_2/groupl33/block0/gcb/channel_add_conv_1 output: [None, 64, 1, 1]\n",
      "\u001b[32m[0107 13:33:00 @registry.py:121]\u001b[0m classify_2/groupl33/block0/gcb/channel_add_conv_2 input: [None, 64, 1, 1]\n",
      "\u001b[32m[0107 13:33:00 @registry.py:129]\u001b[0m classify_2/groupl33/block0/gcb/channel_add_conv_2 output: [None, 512, 1, 1]\n",
      "\u001b[32m[0107 13:33:00 @registry.py:121]\u001b[0m classify_2/conv_straight13 input: [None, 128, 128, 128]\n",
      "\u001b[32m[0107 13:33:00 @registry.py:129]\u001b[0m classify_2/conv_straight13 output: [None, 128, 128, 128]\n",
      "\u001b[32m[0107 13:33:00 @registry.py:121]\u001b[0m classify_2/com_141/up_0 input: [None, 256, 64, 64]\n",
      "\u001b[32m[0107 13:33:00 @registry.py:129]\u001b[0m classify_2/com_141/up_0 output: [None, 256, 128, 128]\n",
      "\u001b[32m[0107 13:33:00 @registry.py:121]\u001b[0m classify_2/com_141/conv_up input: [None, 256, 128, 128]\n",
      "\u001b[32m[0107 13:33:00 @registry.py:129]\u001b[0m classify_2/com_141/conv_up output: [None, 128, 128, 128]\n",
      "\u001b[32m[0107 13:33:00 @registry.py:121]\u001b[0m classify_2/com_142/up_0 input: [None, 512, 32, 32]\n",
      "\u001b[32m[0107 13:33:00 @registry.py:129]\u001b[0m classify_2/com_142/up_0 output: [None, 512, 64, 64]\n",
      "\u001b[32m[0107 13:33:00 @registry.py:121]\u001b[0m classify_2/com_142/up_1 input: [None, 512, 64, 64]\n",
      "\u001b[32m[0107 13:33:00 @registry.py:129]\u001b[0m classify_2/com_142/up_1 output: [None, 512, 128, 128]\n",
      "\u001b[32m[0107 13:33:00 @registry.py:121]\u001b[0m classify_2/com_142/conv_up input: [None, 512, 128, 128]\n",
      "\u001b[32m[0107 13:33:00 @registry.py:129]\u001b[0m classify_2/com_142/conv_up output: [None, 128, 128, 128]\n",
      "\u001b[32m[0107 13:33:00 @registry.py:121]\u001b[0m classify_2/conv_straight23 input: [None, 256, 64, 64]\n",
      "\u001b[32m[0107 13:33:00 @registry.py:129]\u001b[0m classify_2/conv_straight23 output: [None, 256, 64, 64]\n",
      "\u001b[32m[0107 13:33:00 @registry.py:121]\u001b[0m classify_2/conv_down13 input: [None, 128, 128, 128]\n",
      "\u001b[32m[0107 13:33:01 @registry.py:129]\u001b[0m classify_2/conv_down13 output: [None, 256, 64, 64]\n",
      "\u001b[32m[0107 13:33:01 @registry.py:121]\u001b[0m classify_2/com_24/up_0 input: [None, 512, 32, 32]\n",
      "\u001b[32m[0107 13:33:01 @registry.py:129]\u001b[0m classify_2/com_24/up_0 output: [None, 512, 64, 64]\n",
      "\u001b[32m[0107 13:33:01 @registry.py:121]\u001b[0m classify_2/com_24/conv_up input: [None, 512, 64, 64]\n",
      "\u001b[32m[0107 13:33:01 @registry.py:129]\u001b[0m classify_2/com_24/conv_up output: [None, 256, 64, 64]\n",
      "\u001b[32m[0107 13:33:01 @registry.py:121]\u001b[0m classify_2/conv_straight33 input: [None, 512, 32, 32]\n",
      "\u001b[32m[0107 13:33:01 @registry.py:129]\u001b[0m classify_2/conv_straight33 output: [None, 512, 32, 32]\n",
      "\u001b[32m[0107 13:33:01 @registry.py:121]\u001b[0m classify_2/conv_downdown13 input: [None, 256, 64, 64]\n",
      "\u001b[32m[0107 13:33:01 @registry.py:129]\u001b[0m classify_2/conv_downdown13 output: [None, 512, 32, 32]\n",
      "\u001b[32m[0107 13:33:01 @registry.py:121]\u001b[0m classify_2/conv_down23 input: [None, 256, 64, 64]\n",
      "\u001b[32m[0107 13:33:01 @registry.py:129]\u001b[0m classify_2/conv_down23 output: [None, 512, 32, 32]\n",
      "\u001b[32m[0107 13:33:01 @registry.py:121]\u001b[0m head_fusion_classify_2/up_0 input: [None, 256, 64, 64]\n",
      "\u001b[32m[0107 13:33:01 @registry.py:129]\u001b[0m head_fusion_classify_2/up_0 output: [None, 256, 128, 128]\n",
      "\u001b[32m[0107 13:33:01 @registry.py:121]\u001b[0m head_fusion_classify_2/up_1 input: [None, 512, 32, 32]\n",
      "\u001b[32m[0107 13:33:01 @registry.py:129]\u001b[0m head_fusion_classify_2/up_1 output: [None, 512, 64, 64]\n",
      "\u001b[32m[0107 13:33:01 @registry.py:121]\u001b[0m head_fusion_classify_2/up_2 input: [None, 512, 64, 64]\n",
      "\u001b[32m[0107 13:33:01 @registry.py:129]\u001b[0m head_fusion_classify_2/up_2 output: [None, 512, 128, 128]\n",
      "\u001b[32m[0107 13:33:01 @registry.py:121]\u001b[0m head_fusion_classify_2/conv_mix input: [None, 896, 128, 128]\n",
      "\u001b[32m[0107 13:33:01 @registry.py:129]\u001b[0m head_fusion_classify_2/conv_mix output: [None, 256, 128, 128]\n",
      "\u001b[32m[0107 13:33:01 @registry.py:121]\u001b[0m classify_2/up input: [None, 256, 128, 128]\n",
      "\u001b[32m[0107 13:33:01 @registry.py:129]\u001b[0m classify_2/up output: [None, 256, 256, 256]\n"
     ]
    },
    {
     "name": "stdout",
     "output_type": "stream",
     "text": [
      "\u001b[32m[0107 13:33:01 @registry.py:121]\u001b[0m classify_2/conv_out input: [None, 256, 256, 256]\n",
      "\u001b[32m[0107 13:33:01 @registry.py:129]\u001b[0m classify_2/conv_out output: [None, 4, 256, 256]\n",
      "\u001b[32m[0107 13:33:01 @registry.py:121]\u001b[0m conv_out_type input: [None, 8, 256, 256]\n",
      "\u001b[32m[0107 13:33:01 @registry.py:129]\u001b[0m conv_out_type output: [None, 5, 256, 256]\n",
      "\u001b[32m[0107 13:33:01 @registry.py:121]\u001b[0m u3b/us input: [None, 512, 32, 32]\n",
      "\u001b[32m[0107 13:33:01 @registry.py:129]\u001b[0m u3b/us output: [None, 512, 64, 64]\n",
      "\u001b[32m[0107 13:33:01 @registry.py:121]\u001b[0m u3b/conv_1 input: [None, 768, 64, 64]\n",
      "\u001b[32m[0107 13:33:01 @registry.py:129]\u001b[0m u3b/conv_1 output: [None, 256, 64, 64]\n",
      "\u001b[32m[0107 13:33:01 @registry.py:121]\u001b[0m u3b/conv_2 input: [None, 256, 64, 64]\n",
      "\u001b[32m[0107 13:33:01 @registry.py:129]\u001b[0m u3b/conv_2 output: [None, 256, 64, 64]\n",
      "\u001b[32m[0107 13:33:01 @registry.py:121]\u001b[0m u2b/us input: [None, 256, 64, 64]\n",
      "\u001b[32m[0107 13:33:01 @registry.py:129]\u001b[0m u2b/us output: [None, 256, 128, 128]\n",
      "\u001b[32m[0107 13:33:01 @registry.py:121]\u001b[0m u2b/conv_1 input: [None, 384, 128, 128]\n",
      "\u001b[32m[0107 13:33:01 @registry.py:129]\u001b[0m u2b/conv_1 output: [None, 128, 128, 128]\n",
      "\u001b[32m[0107 13:33:01 @registry.py:121]\u001b[0m u2b/conv_2 input: [None, 128, 128, 128]\n",
      "\u001b[32m[0107 13:33:02 @registry.py:129]\u001b[0m u2b/conv_2 output: [None, 128, 128, 128]\n",
      "\u001b[32m[0107 13:33:02 @registry.py:121]\u001b[0m u1b/us input: [None, 128, 128, 128]\n",
      "\u001b[32m[0107 13:33:02 @registry.py:129]\u001b[0m u1b/us output: [None, 128, 256, 256]\n",
      "\u001b[32m[0107 13:33:02 @registry.py:121]\u001b[0m u1b/conv_1 input: [None, 192, 256, 256]\n",
      "\u001b[32m[0107 13:33:02 @registry.py:129]\u001b[0m u1b/conv_1 output: [None, 64, 256, 256]\n",
      "\u001b[32m[0107 13:33:02 @registry.py:121]\u001b[0m u1b/conv_2 input: [None, 64, 256, 256]\n",
      "\u001b[32m[0107 13:33:02 @registry.py:129]\u001b[0m u1b/conv_2 output: [None, 64, 256, 256]\n",
      "\u001b[32m[0107 13:33:02 @registry.py:121]\u001b[0m conv_out_r input: [None, 64, 256, 256]\n",
      "\u001b[32m[0107 13:33:02 @registry.py:129]\u001b[0m conv_out_r output: [None, 1, 256, 256]\n",
      "\u001b[32m[0107 13:33:03 @develop.py:96]\u001b[0m \u001b[5m\u001b[31mWRN\u001b[0m [Deprecated] get_cost() and self.cost will be deprecated after 30 Mar. Return the cost tensor directly in build_graph() instead!\n",
      "\u001b[32m[0107 13:33:03 @develop.py:96]\u001b[0m \u001b[5m\u001b[31mWRN\u001b[0m [Deprecated] ModelDescBase._get_optimizer() interface will be deprecated after 30 Mar. Use optimizer() instead!\n",
      "\u001b[32m[0107 13:33:07 @gradproc.py:77]\u001b[0m \u001b[5m\u001b[31mWRN\u001b[0m No gradient w.r.t 190 trainable variables: group0/block0/conv1/W, group0/block0/conv1/bn/gamma, group0/block0/conv1/bn/beta, group0/block0/conv2/W, group0/block0/conv2/bn/gamma, group0/block0/conv2/bn/beta, group0/block0/gcb/spatial_pool_conv/W, group0/block0/gcb/channel_add_conv_1/W, group0/block0/gcb/channel_add_layernorm/beta, group0/block0/gcb/channel_add_layernorm/gamma, group0/block0/gcb/channel_add_conv_2/W, group0/block1/conv1/W, group0/block1/conv1/bn/gamma, group0/block1/conv1/bn/beta, group0/block1/conv2/W, group0/block1/conv2/bn/gamma, group0/block1/conv2/bn/beta, group0/block1/gcb/spatial_pool_conv/W, group0/block1/gcb/channel_add_conv_1/W, group0/block1/gcb/channel_add_layernorm/beta, group0/block1/gcb/channel_add_layernorm/gamma, group0/block1/gcb/channel_add_conv_2/W, group0/block2/conv1/W, group0/block2/conv1/bn/gamma, group0/block2/conv1/bn/beta, group0/block2/conv2/W, group0/block2/conv2/bn/gamma, group0/block2/conv2/bn/beta, group0/block2/gcb/spatial_pool_conv/W, group0/block2/gcb/channel_add_conv_1/W, group0/block2/gcb/channel_add_layernorm/beta, group0/block2/gcb/channel_add_layernorm/gamma, group0/block2/gcb/channel_add_conv_2/W, group1/block0/conv1/W, group1/block0/conv1/bn/gamma, group1/block0/conv1/bn/beta, group1/block0/conv2/W, group1/block0/conv2/bn/gamma, group1/block0/conv2/bn/beta, group1/block0/gcb/spatial_pool_conv/W, group1/block0/gcb/channel_add_conv_1/W, group1/block0/gcb/channel_add_layernorm/beta, group1/block0/gcb/channel_add_layernorm/gamma, group1/block0/gcb/channel_add_conv_2/W, group1/block0/convshortcut/W, group1/block0/convshortcut/bn/gamma, group1/block0/convshortcut/bn/beta, group1/block1/conv1/W, group1/block1/conv1/bn/gamma, group1/block1/conv1/bn/beta, group1/block1/conv2/W, group1/block1/conv2/bn/gamma, group1/block1/conv2/bn/beta, group1/block1/gcb/spatial_pool_conv/W, group1/block1/gcb/channel_add_conv_1/W, group1/block1/gcb/channel_add_layernorm/beta, group1/block1/gcb/channel_add_layernorm/gamma, group1/block1/gcb/channel_add_conv_2/W, group1/block2/conv1/W, group1/block2/conv1/bn/gamma, group1/block2/conv1/bn/beta, group1/block2/conv2/W, group1/block2/conv2/bn/gamma, group1/block2/conv2/bn/beta, group1/block2/gcb/spatial_pool_conv/W, group1/block2/gcb/channel_add_conv_1/W, group1/block2/gcb/channel_add_layernorm/beta, group1/block2/gcb/channel_add_layernorm/gamma, group1/block2/gcb/channel_add_conv_2/W, group1/block3/conv1/W, group1/block3/conv1/bn/gamma, group1/block3/conv1/bn/beta, group1/block3/conv2/W, group1/block3/conv2/bn/gamma, group1/block3/conv2/bn/beta, group1/block3/gcb/spatial_pool_conv/W, group1/block3/gcb/channel_add_conv_1/W, group1/block3/gcb/channel_add_layernorm/beta, group1/block3/gcb/channel_add_layernorm/gamma, group1/block3/gcb/channel_add_conv_2/W, group2/block0/conv1/W, group2/block0/conv1/bn/gamma, group2/block0/conv1/bn/beta, group2/block0/conv2/W, group2/block0/conv2/bn/gamma, group2/block0/conv2/bn/beta, group2/block0/gcb/spatial_pool_conv/W, group2/block0/gcb/channel_add_conv_1/W, group2/block0/gcb/channel_add_layernorm/beta, group2/block0/gcb/channel_add_layernorm/gamma, group2/block0/gcb/channel_add_conv_2/W, group2/block0/convshortcut/W, group2/block0/convshortcut/bn/gamma, group2/block0/convshortcut/bn/beta, group2/block1/conv1/W, group2/block1/conv1/bn/gamma, group2/block1/conv1/bn/beta, group2/block1/conv2/W, group2/block1/conv2/bn/gamma, group2/block1/conv2/bn/beta, group2/block1/gcb/spatial_pool_conv/W, group2/block1/gcb/channel_add_conv_1/W, group2/block1/gcb/channel_add_layernorm/beta, group2/block1/gcb/channel_add_layernorm/gamma, group2/block1/gcb/channel_add_conv_2/W, group2/block2/conv1/W, group2/block2/conv1/bn/gamma, group2/block2/conv1/bn/beta, group2/block2/conv2/W, group2/block2/conv2/bn/gamma, group2/block2/conv2/bn/beta, group2/block2/gcb/spatial_pool_conv/W, group2/block2/gcb/channel_add_conv_1/W, group2/block2/gcb/channel_add_layernorm/beta, group2/block2/gcb/channel_add_layernorm/gamma, group2/block2/gcb/channel_add_conv_2/W, group2/block3/conv1/W, group2/block3/conv1/bn/gamma, group2/block3/conv1/bn/beta, group2/block3/conv2/W, group2/block3/conv2/bn/gamma, group2/block3/conv2/bn/beta, group2/block3/gcb/spatial_pool_conv/W, group2/block3/gcb/channel_add_conv_1/W, group2/block3/gcb/channel_add_layernorm/beta, group2/block3/gcb/channel_add_layernorm/gamma, group2/block3/gcb/channel_add_conv_2/W, group2/block4/conv1/W, group2/block4/conv1/bn/gamma, group2/block4/conv1/bn/beta, group2/block4/conv2/W, group2/block4/conv2/bn/gamma, group2/block4/conv2/bn/beta, group2/block4/gcb/spatial_pool_conv/W, group2/block4/gcb/channel_add_conv_1/W, group2/block4/gcb/channel_add_layernorm/beta, group2/block4/gcb/channel_add_layernorm/gamma, group2/block4/gcb/channel_add_conv_2/W, group2/block5/conv1/W, group2/block5/conv1/bn/gamma, group2/block5/conv1/bn/beta, group2/block5/conv2/W, group2/block5/conv2/bn/gamma, group2/block5/conv2/bn/beta, group2/block5/gcb/spatial_pool_conv/W, group2/block5/gcb/channel_add_conv_1/W, group2/block5/gcb/channel_add_layernorm/beta, group2/block5/gcb/channel_add_layernorm/gamma, group2/block5/gcb/channel_add_conv_2/W, group3/block0/conv1/W, group3/block0/conv1/bn/gamma, group3/block0/conv1/bn/beta, group3/block0/conv2/W, group3/block0/conv2/bn/gamma, group3/block0/conv2/bn/beta, group3/block0/gcb/spatial_pool_conv/W, group3/block0/gcb/channel_add_conv_1/W, group3/block0/gcb/channel_add_layernorm/beta, group3/block0/gcb/channel_add_layernorm/gamma, group3/block0/gcb/channel_add_conv_2/W, group3/block0/convshortcut/W, group3/block0/convshortcut/bn/gamma, group3/block0/convshortcut/bn/beta, group3/block1/conv1/W, group3/block1/conv1/bn/gamma, group3/block1/conv1/bn/beta, group3/block1/conv2/W, group3/block1/conv2/bn/gamma, group3/block1/conv2/bn/beta, group3/block1/gcb/spatial_pool_conv/W, group3/block1/gcb/channel_add_conv_1/W, group3/block1/gcb/channel_add_layernorm/beta, group3/block1/gcb/channel_add_layernorm/gamma, group3/block1/gcb/channel_add_conv_2/W, group3/block2/conv1/W, group3/block2/conv1/bn/gamma, group3/block2/conv1/bn/beta, group3/block2/conv2/W, group3/block2/conv2/bn/gamma, group3/block2/conv2/bn/beta, group3/block2/gcb/spatial_pool_conv/W, group3/block2/gcb/channel_add_conv_1/W, group3/block2/gcb/channel_add_layernorm/beta, group3/block2/gcb/channel_add_layernorm/gamma, group3/block2/gcb/channel_add_conv_2/W, param1, param2, param3, param4, param5\n"
     ]
    },
    {
     "name": "stdout",
     "output_type": "stream",
     "text": [
      "\u001b[32m[0107 13:33:07 @training.py:114]\u001b[0m Building graph for training tower 1 ...\n",
      "\u001b[32m[0107 13:33:07 @develop.py:96]\u001b[0m \u001b[5m\u001b[31mWRN\u001b[0m [Deprecated] ModelDescBase._build_graph() interface will be deprecated after 30 Mar. Use build_graph() instead!\n",
      "\u001b[32m[0107 13:33:14 @develop.py:96]\u001b[0m \u001b[5m\u001b[31mWRN\u001b[0m [Deprecated] get_cost() and self.cost will be deprecated after 30 Mar. Return the cost tensor directly in build_graph() instead!\n",
      "\u001b[32m[0107 13:33:19 @gradproc.py:77]\u001b[0m \u001b[5m\u001b[31mWRN\u001b[0m No gradient w.r.t 190 trainable variables: group0/block0/conv1/W, group0/block0/conv1/bn/gamma, group0/block0/conv1/bn/beta, group0/block0/conv2/W, group0/block0/conv2/bn/gamma, group0/block0/conv2/bn/beta, group0/block0/gcb/spatial_pool_conv/W, group0/block0/gcb/channel_add_conv_1/W, group0/block0/gcb/channel_add_layernorm/beta, group0/block0/gcb/channel_add_layernorm/gamma, group0/block0/gcb/channel_add_conv_2/W, group0/block1/conv1/W, group0/block1/conv1/bn/gamma, group0/block1/conv1/bn/beta, group0/block1/conv2/W, group0/block1/conv2/bn/gamma, group0/block1/conv2/bn/beta, group0/block1/gcb/spatial_pool_conv/W, group0/block1/gcb/channel_add_conv_1/W, group0/block1/gcb/channel_add_layernorm/beta, group0/block1/gcb/channel_add_layernorm/gamma, group0/block1/gcb/channel_add_conv_2/W, group0/block2/conv1/W, group0/block2/conv1/bn/gamma, group0/block2/conv1/bn/beta, group0/block2/conv2/W, group0/block2/conv2/bn/gamma, group0/block2/conv2/bn/beta, group0/block2/gcb/spatial_pool_conv/W, group0/block2/gcb/channel_add_conv_1/W, group0/block2/gcb/channel_add_layernorm/beta, group0/block2/gcb/channel_add_layernorm/gamma, group0/block2/gcb/channel_add_conv_2/W, group1/block0/conv1/W, group1/block0/conv1/bn/gamma, group1/block0/conv1/bn/beta, group1/block0/conv2/W, group1/block0/conv2/bn/gamma, group1/block0/conv2/bn/beta, group1/block0/gcb/spatial_pool_conv/W, group1/block0/gcb/channel_add_conv_1/W, group1/block0/gcb/channel_add_layernorm/beta, group1/block0/gcb/channel_add_layernorm/gamma, group1/block0/gcb/channel_add_conv_2/W, group1/block0/convshortcut/W, group1/block0/convshortcut/bn/gamma, group1/block0/convshortcut/bn/beta, group1/block1/conv1/W, group1/block1/conv1/bn/gamma, group1/block1/conv1/bn/beta, group1/block1/conv2/W, group1/block1/conv2/bn/gamma, group1/block1/conv2/bn/beta, group1/block1/gcb/spatial_pool_conv/W, group1/block1/gcb/channel_add_conv_1/W, group1/block1/gcb/channel_add_layernorm/beta, group1/block1/gcb/channel_add_layernorm/gamma, group1/block1/gcb/channel_add_conv_2/W, group1/block2/conv1/W, group1/block2/conv1/bn/gamma, group1/block2/conv1/bn/beta, group1/block2/conv2/W, group1/block2/conv2/bn/gamma, group1/block2/conv2/bn/beta, group1/block2/gcb/spatial_pool_conv/W, group1/block2/gcb/channel_add_conv_1/W, group1/block2/gcb/channel_add_layernorm/beta, group1/block2/gcb/channel_add_layernorm/gamma, group1/block2/gcb/channel_add_conv_2/W, group1/block3/conv1/W, group1/block3/conv1/bn/gamma, group1/block3/conv1/bn/beta, group1/block3/conv2/W, group1/block3/conv2/bn/gamma, group1/block3/conv2/bn/beta, group1/block3/gcb/spatial_pool_conv/W, group1/block3/gcb/channel_add_conv_1/W, group1/block3/gcb/channel_add_layernorm/beta, group1/block3/gcb/channel_add_layernorm/gamma, group1/block3/gcb/channel_add_conv_2/W, group2/block0/conv1/W, group2/block0/conv1/bn/gamma, group2/block0/conv1/bn/beta, group2/block0/conv2/W, group2/block0/conv2/bn/gamma, group2/block0/conv2/bn/beta, group2/block0/gcb/spatial_pool_conv/W, group2/block0/gcb/channel_add_conv_1/W, group2/block0/gcb/channel_add_layernorm/beta, group2/block0/gcb/channel_add_layernorm/gamma, group2/block0/gcb/channel_add_conv_2/W, group2/block0/convshortcut/W, group2/block0/convshortcut/bn/gamma, group2/block0/convshortcut/bn/beta, group2/block1/conv1/W, group2/block1/conv1/bn/gamma, group2/block1/conv1/bn/beta, group2/block1/conv2/W, group2/block1/conv2/bn/gamma, group2/block1/conv2/bn/beta, group2/block1/gcb/spatial_pool_conv/W, group2/block1/gcb/channel_add_conv_1/W, group2/block1/gcb/channel_add_layernorm/beta, group2/block1/gcb/channel_add_layernorm/gamma, group2/block1/gcb/channel_add_conv_2/W, group2/block2/conv1/W, group2/block2/conv1/bn/gamma, group2/block2/conv1/bn/beta, group2/block2/conv2/W, group2/block2/conv2/bn/gamma, group2/block2/conv2/bn/beta, group2/block2/gcb/spatial_pool_conv/W, group2/block2/gcb/channel_add_conv_1/W, group2/block2/gcb/channel_add_layernorm/beta, group2/block2/gcb/channel_add_layernorm/gamma, group2/block2/gcb/channel_add_conv_2/W, group2/block3/conv1/W, group2/block3/conv1/bn/gamma, group2/block3/conv1/bn/beta, group2/block3/conv2/W, group2/block3/conv2/bn/gamma, group2/block3/conv2/bn/beta, group2/block3/gcb/spatial_pool_conv/W, group2/block3/gcb/channel_add_conv_1/W, group2/block3/gcb/channel_add_layernorm/beta, group2/block3/gcb/channel_add_layernorm/gamma, group2/block3/gcb/channel_add_conv_2/W, group2/block4/conv1/W, group2/block4/conv1/bn/gamma, group2/block4/conv1/bn/beta, group2/block4/conv2/W, group2/block4/conv2/bn/gamma, group2/block4/conv2/bn/beta, group2/block4/gcb/spatial_pool_conv/W, group2/block4/gcb/channel_add_conv_1/W, group2/block4/gcb/channel_add_layernorm/beta, group2/block4/gcb/channel_add_layernorm/gamma, group2/block4/gcb/channel_add_conv_2/W, group2/block5/conv1/W, group2/block5/conv1/bn/gamma, group2/block5/conv1/bn/beta, group2/block5/conv2/W, group2/block5/conv2/bn/gamma, group2/block5/conv2/bn/beta, group2/block5/gcb/spatial_pool_conv/W, group2/block5/gcb/channel_add_conv_1/W, group2/block5/gcb/channel_add_layernorm/beta, group2/block5/gcb/channel_add_layernorm/gamma, group2/block5/gcb/channel_add_conv_2/W, group3/block0/conv1/W, group3/block0/conv1/bn/gamma, group3/block0/conv1/bn/beta, group3/block0/conv2/W, group3/block0/conv2/bn/gamma, group3/block0/conv2/bn/beta, group3/block0/gcb/spatial_pool_conv/W, group3/block0/gcb/channel_add_conv_1/W, group3/block0/gcb/channel_add_layernorm/beta, group3/block0/gcb/channel_add_layernorm/gamma, group3/block0/gcb/channel_add_conv_2/W, group3/block0/convshortcut/W, group3/block0/convshortcut/bn/gamma, group3/block0/convshortcut/bn/beta, group3/block1/conv1/W, group3/block1/conv1/bn/gamma, group3/block1/conv1/bn/beta, group3/block1/conv2/W, group3/block1/conv2/bn/gamma, group3/block1/conv2/bn/beta, group3/block1/gcb/spatial_pool_conv/W, group3/block1/gcb/channel_add_conv_1/W, group3/block1/gcb/channel_add_layernorm/beta, group3/block1/gcb/channel_add_layernorm/gamma, group3/block1/gcb/channel_add_conv_2/W, group3/block2/conv1/W, group3/block2/conv1/bn/gamma, group3/block2/conv1/bn/beta, group3/block2/conv2/W, group3/block2/conv2/bn/gamma, group3/block2/conv2/bn/beta, group3/block2/gcb/spatial_pool_conv/W, group3/block2/gcb/channel_add_conv_1/W, group3/block2/gcb/channel_add_layernorm/beta, group3/block2/gcb/channel_add_layernorm/gamma, group3/block2/gcb/channel_add_conv_2/W, param1, param2, param3, param4, param5\n",
      "\u001b[32m[0107 13:33:24 @model_utils.py:64]\u001b[0m \u001b[36mTrainable Variables: \n",
      "\u001b[0mname                                                          shape                 dim  device\n",
      "------------------------------------------------------------  ----------------  -------  ------------------------------\n",
      "en_10x/conv_1/W:0                                             [3, 3, 3, 128]       3456  /replica:0/task:0/device:GPU:0\n",
      "en_10x/conv_1/bn/gamma:0                                      [128]                 128  /replica:0/task:0/device:GPU:1\n",
      "en_10x/conv_1/bn/beta:0                                       [128]                 128  /replica:0/task:0/device:GPU:1\n",
      "en_10x/conv_2/W:0                                             [3, 3, 128, 128]   147456  /replica:0/task:0/device:GPU:1\n",
      "en_10x/conv_2/bn/gamma:0                                      [128]                 128  /replica:0/task:0/device:GPU:0\n",
      "en_10x/conv_2/bn/beta:0                                       [128]                 128  /replica:0/task:0/device:GPU:0\n",
      "en_10x/gcb/spatial_pool_conv/W:0                              [1, 1, 128, 1]        128  /replica:0/task:0/device:GPU:0\n",
      "en_10x/gcb/channel_add_conv_1/W:0                             [1, 1, 128, 16]      2048  /replica:0/task:0/device:GPU:0\n",
      "en_10x/gcb/channel_add_layernorm/beta:0                       [16]                   16  /replica:0/task:0/device:GPU:0\n",
      "en_10x/gcb/channel_add_layernorm/gamma:0                      [16]                   16  /replica:0/task:0/device:GPU:0\n",
      "en_10x/gcb/channel_add_conv_2/W:0                             [1, 1, 16, 128]      2048  /replica:0/task:0/device:GPU:0\n",
      "cov_10x_up/W:0                                                [3, 3, 128, 64]     73728  /replica:0/task:0/device:GPU:0\n",
      "cov_10x_up/bn/gamma:0                                         [64]                   64  /replica:0/task:0/device:GPU:0\n",
      "cov_10x_up/bn/beta:0                                          [64]                   64  /replica:0/task:0/device:GPU:0\n",
      "cov_10x_down/W:0                                              [3, 3, 128, 256]   294912  /replica:0/task:0/device:GPU:0\n",
      "cov_10x_down/bn/gamma:0                                       [256]                 256  /replica:0/task:0/device:GPU:1\n",
      "cov_10x_down/bn/beta:0                                        [256]                 256  /replica:0/task:0/device:GPU:1\n",
      "cov_10x_straight/W:0                                          [3, 3, 128, 128]   147456  /replica:0/task:0/device:GPU:1\n",
      "cov_10x_straight/bn/gamma:0                                   [128]                 128  /replica:0/task:0/device:GPU:1\n",
      "cov_10x_straight/bn/beta:0                                    [128]                 128  /replica:0/task:0/device:GPU:1\n",
      "en_40x/conv_1/W:0                                             [3, 3, 3, 128]       3456  /replica:0/task:0/device:GPU:1\n",
      "en_40x/conv_1/bn/gamma:0                                      [128]                 128  /replica:0/task:0/device:GPU:1\n",
      "en_40x/conv_1/bn/beta:0                                       [128]                 128  /replica:0/task:0/device:GPU:1\n",
      "en_40x/conv_2/W:0                                             [3, 3, 128, 128]   147456  /replica:0/task:0/device:GPU:1\n",
      "en_40x/conv_2/bn/gamma:0                                      [128]                 128  /replica:0/task:0/device:GPU:0\n",
      "en_40x/conv_2/bn/beta:0                                       [128]                 128  /replica:0/task:0/device:GPU:0\n",
      "en_40x/gcb/spatial_pool_conv/W:0                              [1, 1, 128, 1]        128  /replica:0/task:0/device:GPU:0\n",
      "en_40x/gcb/channel_add_conv_1/W:0                             [1, 1, 128, 16]      2048  /replica:0/task:0/device:GPU:0\n",
      "en_40x/gcb/channel_add_layernorm/beta:0                       [16]                   16  /replica:0/task:0/device:GPU:0\n",
      "en_40x/gcb/channel_add_layernorm/gamma:0                      [16]                   16  /replica:0/task:0/device:GPU:0\n",
      "en_40x/gcb/channel_add_conv_2/W:0                             [1, 1, 16, 128]      2048  /replica:0/task:0/device:GPU:0\n",
      "cov_40x_up/W:0                                                [3, 3, 128, 64]     73728  /replica:0/task:0/device:GPU:0\n",
      "cov_40x_up/bn/gamma:0                                         [64]                   64  /replica:0/task:0/device:GPU:1\n",
      "cov_40x_up/bn/beta:0                                          [64]                   64  /replica:0/task:0/device:GPU:1\n",
      "cov_40x_down/W:0                                              [3, 3, 128, 256]   294912  /replica:0/task:0/device:GPU:1\n",
      "cov_40x_down/bn/gamma:0                                       [256]                 256  /replica:0/task:0/device:GPU:0\n",
      "cov_40x_down/bn/beta:0                                        [256]                 256  /replica:0/task:0/device:GPU:0\n",
      "cov_40x_straight/W:0                                          [3, 3, 128, 128]   147456  /replica:0/task:0/device:GPU:0\n",
      "cov_40x_straight/bn/gamma:0                                   [128]                 128  /replica:0/task:0/device:GPU:0\n",
      "cov_40x_straight/bn/beta:0                                    [128]                 128  /replica:0/task:0/device:GPU:0\n",
      "conv0/W:0                                                     [7, 7, 3, 64]        9408  /replica:0/task:0/device:GPU:0\n",
      "conv0/bn/gamma:0                                              [64]                   64  /replica:0/task:0/device:GPU:0\n",
      "conv0/bn/beta:0                                               [64]                   64  /replica:0/task:0/device:GPU:0\n",
      "group0/block0/conv1/W:0                                       [3, 3, 64, 64]      36864  /replica:0/task:0/device:GPU:0\n",
      "group0/block0/conv1/bn/gamma:0                                [64]                   64  /replica:0/task:0/device:GPU:0\n",
      "group0/block0/conv1/bn/beta:0                                 [64]                   64  /replica:0/task:0/device:GPU:0\n",
      "group0/block0/conv2/W:0                                       [3, 3, 64, 64]      36864  /replica:0/task:0/device:GPU:0\n",
      "group0/block0/conv2/bn/gamma:0                                [64]                   64  /replica:0/task:0/device:GPU:0\n",
      "group0/block0/conv2/bn/beta:0                                 [64]                   64  /replica:0/task:0/device:GPU:0\n",
      "group0/block0/gcb/spatial_pool_conv/W:0                       [1, 1, 64, 1]          64  /replica:0/task:0/device:GPU:0\n",
      "group0/block0/gcb/channel_add_conv_1/W:0                      [1, 1, 64, 8]         512  /replica:0/task:0/device:GPU:0\n",
      "group0/block0/gcb/channel_add_layernorm/beta:0                [8]                     8  /replica:0/task:0/device:GPU:0\n",
      "group0/block0/gcb/channel_add_layernorm/gamma:0               [8]                     8  /replica:0/task:0/device:GPU:0\n",
      "group0/block0/gcb/channel_add_conv_2/W:0                      [1, 1, 8, 64]         512  /replica:0/task:0/device:GPU:0\n",
      "group0/block1/conv1/W:0                                       [3, 3, 64, 64]      36864  /replica:0/task:0/device:GPU:0\n",
      "group0/block1/conv1/bn/gamma:0                                [64]                   64  /replica:0/task:0/device:GPU:0\n",
      "group0/block1/conv1/bn/beta:0                                 [64]                   64  /replica:0/task:0/device:GPU:0\n",
      "group0/block1/conv2/W:0                                       [3, 3, 64, 64]      36864  /replica:0/task:0/device:GPU:0\n",
      "group0/block1/conv2/bn/gamma:0                                [64]                   64  /replica:0/task:0/device:GPU:1\n",
      "group0/block1/conv2/bn/beta:0                                 [64]                   64  /replica:0/task:0/device:GPU:1\n",
      "group0/block1/gcb/spatial_pool_conv/W:0                       [1, 1, 64, 1]          64  /replica:0/task:0/device:GPU:1\n",
      "group0/block1/gcb/channel_add_conv_1/W:0                      [1, 1, 64, 8]         512  /replica:0/task:0/device:GPU:1\n",
      "group0/block1/gcb/channel_add_layernorm/beta:0                [8]                     8  /replica:0/task:0/device:GPU:1\n",
      "group0/block1/gcb/channel_add_layernorm/gamma:0               [8]                     8  /replica:0/task:0/device:GPU:1\n",
      "group0/block1/gcb/channel_add_conv_2/W:0                      [1, 1, 8, 64]         512  /replica:0/task:0/device:GPU:1\n",
      "group0/block2/conv1/W:0                                       [3, 3, 64, 64]      36864  /replica:0/task:0/device:GPU:1\n",
      "group0/block2/conv1/bn/gamma:0                                [64]                   64  /replica:0/task:0/device:GPU:0\n",
      "group0/block2/conv1/bn/beta:0                                 [64]                   64  /replica:0/task:0/device:GPU:0\n",
      "group0/block2/conv2/W:0                                       [3, 3, 64, 64]      36864  /replica:0/task:0/device:GPU:0\n",
      "group0/block2/conv2/bn/gamma:0                                [64]                   64  /replica:0/task:0/device:GPU:1\n",
      "group0/block2/conv2/bn/beta:0                                 [64]                   64  /replica:0/task:0/device:GPU:1\n",
      "group0/block2/gcb/spatial_pool_conv/W:0                       [1, 1, 64, 1]          64  /replica:0/task:0/device:GPU:1\n",
      "group0/block2/gcb/channel_add_conv_1/W:0                      [1, 1, 64, 8]         512  /replica:0/task:0/device:GPU:1\n",
      "group0/block2/gcb/channel_add_layernorm/beta:0                [8]                     8  /replica:0/task:0/device:GPU:1\n",
      "group0/block2/gcb/channel_add_layernorm/gamma:0               [8]                     8  /replica:0/task:0/device:GPU:1\n",
      "group0/block2/gcb/channel_add_conv_2/W:0                      [1, 1, 8, 64]         512  /replica:0/task:0/device:GPU:1\n",
      "group1/block0/conv1/W:0                                       [3, 3, 64, 128]     73728  /replica:0/task:0/device:GPU:1\n",
      "group1/block0/conv1/bn/gamma:0                                [128]                 128  /replica:0/task:0/device:GPU:0\n",
      "group1/block0/conv1/bn/beta:0                                 [128]                 128  /replica:0/task:0/device:GPU:0\n",
      "group1/block0/conv2/W:0                                       [3, 3, 128, 128]   147456  /replica:0/task:0/device:GPU:0\n",
      "group1/block0/conv2/bn/gamma:0                                [128]                 128  /replica:0/task:0/device:GPU:1\n",
      "group1/block0/conv2/bn/beta:0                                 [128]                 128  /replica:0/task:0/device:GPU:1\n",
      "group1/block0/gcb/spatial_pool_conv/W:0                       [1, 1, 128, 1]        128  /replica:0/task:0/device:GPU:1\n",
      "group1/block0/gcb/channel_add_conv_1/W:0                      [1, 1, 128, 16]      2048  /replica:0/task:0/device:GPU:1\n",
      "group1/block0/gcb/channel_add_layernorm/beta:0                [16]                   16  /replica:0/task:0/device:GPU:1\n",
      "group1/block0/gcb/channel_add_layernorm/gamma:0               [16]                   16  /replica:0/task:0/device:GPU:1\n",
      "group1/block0/gcb/channel_add_conv_2/W:0                      [1, 1, 16, 128]      2048  /replica:0/task:0/device:GPU:1\n",
      "group1/block0/convshortcut/W:0                                [1, 1, 64, 128]      8192  /replica:0/task:0/device:GPU:1\n",
      "group1/block0/convshortcut/bn/gamma:0                         [128]                 128  /replica:0/task:0/device:GPU:1\n",
      "group1/block0/convshortcut/bn/beta:0                          [128]                 128  /replica:0/task:0/device:GPU:1\n",
      "group1/block1/conv1/W:0                                       [3, 3, 128, 128]   147456  /replica:0/task:0/device:GPU:1\n",
      "group1/block1/conv1/bn/gamma:0                                [128]                 128  /replica:0/task:0/device:GPU:0\n",
      "group1/block1/conv1/bn/beta:0                                 [128]                 128  /replica:0/task:0/device:GPU:0\n",
      "group1/block1/conv2/W:0                                       [3, 3, 128, 128]   147456  /replica:0/task:0/device:GPU:0\n",
      "group1/block1/conv2/bn/gamma:0                                [128]                 128  /replica:0/task:0/device:GPU:1\n",
      "group1/block1/conv2/bn/beta:0                                 [128]                 128  /replica:0/task:0/device:GPU:1\n",
      "group1/block1/gcb/spatial_pool_conv/W:0                       [1, 1, 128, 1]        128  /replica:0/task:0/device:GPU:1\n",
      "group1/block1/gcb/channel_add_conv_1/W:0                      [1, 1, 128, 16]      2048  /replica:0/task:0/device:GPU:1\n",
      "group1/block1/gcb/channel_add_layernorm/beta:0                [16]                   16  /replica:0/task:0/device:GPU:1\n",
      "group1/block1/gcb/channel_add_layernorm/gamma:0               [16]                   16  /replica:0/task:0/device:GPU:1\n",
      "group1/block1/gcb/channel_add_conv_2/W:0                      [1, 1, 16, 128]      2048  /replica:0/task:0/device:GPU:1\n",
      "group1/block2/conv1/W:0                                       [3, 3, 128, 128]   147456  /replica:0/task:0/device:GPU:1\n",
      "group1/block2/conv1/bn/gamma:0                                [128]                 128  /replica:0/task:0/device:GPU:0\n",
      "group1/block2/conv1/bn/beta:0                                 [128]                 128  /replica:0/task:0/device:GPU:0\n",
      "group1/block2/conv2/W:0                                       [3, 3, 128, 128]   147456  /replica:0/task:0/device:GPU:0\n",
      "group1/block2/conv2/bn/gamma:0                                [128]                 128  /replica:0/task:0/device:GPU:1\n",
      "group1/block2/conv2/bn/beta:0                                 [128]                 128  /replica:0/task:0/device:GPU:1\n",
      "group1/block2/gcb/spatial_pool_conv/W:0                       [1, 1, 128, 1]        128  /replica:0/task:0/device:GPU:1\n",
      "group1/block2/gcb/channel_add_conv_1/W:0                      [1, 1, 128, 16]      2048  /replica:0/task:0/device:GPU:1\n",
      "group1/block2/gcb/channel_add_layernorm/beta:0                [16]                   16  /replica:0/task:0/device:GPU:1\n",
      "group1/block2/gcb/channel_add_layernorm/gamma:0               [16]                   16  /replica:0/task:0/device:GPU:1\n",
      "group1/block2/gcb/channel_add_conv_2/W:0                      [1, 1, 16, 128]      2048  /replica:0/task:0/device:GPU:1\n",
      "group1/block3/conv1/W:0                                       [3, 3, 128, 128]   147456  /replica:0/task:0/device:GPU:1\n",
      "group1/block3/conv1/bn/gamma:0                                [128]                 128  /replica:0/task:0/device:GPU:0\n",
      "group1/block3/conv1/bn/beta:0                                 [128]                 128  /replica:0/task:0/device:GPU:0\n",
      "group1/block3/conv2/W:0                                       [3, 3, 128, 128]   147456  /replica:0/task:0/device:GPU:0\n",
      "group1/block3/conv2/bn/gamma:0                                [128]                 128  /replica:0/task:0/device:GPU:1\n",
      "group1/block3/conv2/bn/beta:0                                 [128]                 128  /replica:0/task:0/device:GPU:1\n",
      "group1/block3/gcb/spatial_pool_conv/W:0                       [1, 1, 128, 1]        128  /replica:0/task:0/device:GPU:1\n",
      "group1/block3/gcb/channel_add_conv_1/W:0                      [1, 1, 128, 16]      2048  /replica:0/task:0/device:GPU:1\n",
      "group1/block3/gcb/channel_add_layernorm/beta:0                [16]                   16  /replica:0/task:0/device:GPU:1\n",
      "group1/block3/gcb/channel_add_layernorm/gamma:0               [16]                   16  /replica:0/task:0/device:GPU:1\n",
      "group1/block3/gcb/channel_add_conv_2/W:0                      [1, 1, 16, 128]      2048  /replica:0/task:0/device:GPU:1\n",
      "group2/block0/conv1/W:0                                       [3, 3, 128, 256]   294912  /replica:0/task:0/device:GPU:1\n",
      "group2/block0/conv1/bn/gamma:0                                [256]                 256  /replica:0/task:0/device:GPU:0\n",
      "group2/block0/conv1/bn/beta:0                                 [256]                 256  /replica:0/task:0/device:GPU:0\n",
      "group2/block0/conv2/W:0                                       [3, 3, 256, 256]   589824  /replica:0/task:0/device:GPU:0\n",
      "group2/block0/conv2/bn/gamma:0                                [256]                 256  /replica:0/task:0/device:GPU:1\n",
      "group2/block0/conv2/bn/beta:0                                 [256]                 256  /replica:0/task:0/device:GPU:1\n",
      "group2/block0/gcb/spatial_pool_conv/W:0                       [1, 1, 256, 1]        256  /replica:0/task:0/device:GPU:1\n",
      "group2/block0/gcb/channel_add_conv_1/W:0                      [1, 1, 256, 32]      8192  /replica:0/task:0/device:GPU:1\n",
      "group2/block0/gcb/channel_add_layernorm/beta:0                [32]                   32  /replica:0/task:0/device:GPU:1\n",
      "group2/block0/gcb/channel_add_layernorm/gamma:0               [32]                   32  /replica:0/task:0/device:GPU:1\n",
      "group2/block0/gcb/channel_add_conv_2/W:0                      [1, 1, 32, 256]      8192  /replica:0/task:0/device:GPU:1\n",
      "group2/block0/convshortcut/W:0                                [1, 1, 128, 256]    32768  /replica:0/task:0/device:GPU:1\n",
      "group2/block0/convshortcut/bn/gamma:0                         [256]                 256  /replica:0/task:0/device:GPU:1\n",
      "group2/block0/convshortcut/bn/beta:0                          [256]                 256  /replica:0/task:0/device:GPU:1\n",
      "group2/block1/conv1/W:0                                       [3, 3, 256, 256]   589824  /replica:0/task:0/device:GPU:1\n",
      "group2/block1/conv1/bn/gamma:0                                [256]                 256  /replica:0/task:0/device:GPU:0\n",
      "group2/block1/conv1/bn/beta:0                                 [256]                 256  /replica:0/task:0/device:GPU:0\n",
      "group2/block1/conv2/W:0                                       [3, 3, 256, 256]   589824  /replica:0/task:0/device:GPU:0\n",
      "group2/block1/conv2/bn/gamma:0                                [256]                 256  /replica:0/task:0/device:GPU:1\n",
      "group2/block1/conv2/bn/beta:0                                 [256]                 256  /replica:0/task:0/device:GPU:1\n",
      "group2/block1/gcb/spatial_pool_conv/W:0                       [1, 1, 256, 1]        256  /replica:0/task:0/device:GPU:1\n",
      "group2/block1/gcb/channel_add_conv_1/W:0                      [1, 1, 256, 32]      8192  /replica:0/task:0/device:GPU:1\n",
      "group2/block1/gcb/channel_add_layernorm/beta:0                [32]                   32  /replica:0/task:0/device:GPU:1\n",
      "group2/block1/gcb/channel_add_layernorm/gamma:0               [32]                   32  /replica:0/task:0/device:GPU:1\n",
      "group2/block1/gcb/channel_add_conv_2/W:0                      [1, 1, 32, 256]      8192  /replica:0/task:0/device:GPU:1\n",
      "group2/block2/conv1/W:0                                       [3, 3, 256, 256]   589824  /replica:0/task:0/device:GPU:1\n",
      "group2/block2/conv1/bn/gamma:0                                [256]                 256  /replica:0/task:0/device:GPU:0\n",
      "group2/block2/conv1/bn/beta:0                                 [256]                 256  /replica:0/task:0/device:GPU:0\n",
      "group2/block2/conv2/W:0                                       [3, 3, 256, 256]   589824  /replica:0/task:0/device:GPU:0\n",
      "group2/block2/conv2/bn/gamma:0                                [256]                 256  /replica:0/task:0/device:GPU:1\n",
      "group2/block2/conv2/bn/beta:0                                 [256]                 256  /replica:0/task:0/device:GPU:1\n",
      "group2/block2/gcb/spatial_pool_conv/W:0                       [1, 1, 256, 1]        256  /replica:0/task:0/device:GPU:1\n",
      "group2/block2/gcb/channel_add_conv_1/W:0                      [1, 1, 256, 32]      8192  /replica:0/task:0/device:GPU:1\n",
      "group2/block2/gcb/channel_add_layernorm/beta:0                [32]                   32  /replica:0/task:0/device:GPU:1\n",
      "group2/block2/gcb/channel_add_layernorm/gamma:0               [32]                   32  /replica:0/task:0/device:GPU:1\n",
      "group2/block2/gcb/channel_add_conv_2/W:0                      [1, 1, 32, 256]      8192  /replica:0/task:0/device:GPU:1\n",
      "group2/block3/conv1/W:0                                       [3, 3, 256, 256]   589824  /replica:0/task:0/device:GPU:1\n",
      "group2/block3/conv1/bn/gamma:0                                [256]                 256  /replica:0/task:0/device:GPU:0\n",
      "group2/block3/conv1/bn/beta:0                                 [256]                 256  /replica:0/task:0/device:GPU:0\n",
      "group2/block3/conv2/W:0                                       [3, 3, 256, 256]   589824  /replica:0/task:0/device:GPU:0\n",
      "group2/block3/conv2/bn/gamma:0                                [256]                 256  /replica:0/task:0/device:GPU:1\n",
      "group2/block3/conv2/bn/beta:0                                 [256]                 256  /replica:0/task:0/device:GPU:1\n",
      "group2/block3/gcb/spatial_pool_conv/W:0                       [1, 1, 256, 1]        256  /replica:0/task:0/device:GPU:1\n",
      "group2/block3/gcb/channel_add_conv_1/W:0                      [1, 1, 256, 32]      8192  /replica:0/task:0/device:GPU:1\n",
      "group2/block3/gcb/channel_add_layernorm/beta:0                [32]                   32  /replica:0/task:0/device:GPU:1\n",
      "group2/block3/gcb/channel_add_layernorm/gamma:0               [32]                   32  /replica:0/task:0/device:GPU:1\n",
      "group2/block3/gcb/channel_add_conv_2/W:0                      [1, 1, 32, 256]      8192  /replica:0/task:0/device:GPU:1\n",
      "group2/block4/conv1/W:0                                       [3, 3, 256, 256]   589824  /replica:0/task:0/device:GPU:1\n",
      "group2/block4/conv1/bn/gamma:0                                [256]                 256  /replica:0/task:0/device:GPU:0\n",
      "group2/block4/conv1/bn/beta:0                                 [256]                 256  /replica:0/task:0/device:GPU:0\n",
      "group2/block4/conv2/W:0                                       [3, 3, 256, 256]   589824  /replica:0/task:0/device:GPU:0\n",
      "group2/block4/conv2/bn/gamma:0                                [256]                 256  /replica:0/task:0/device:GPU:1\n",
      "group2/block4/conv2/bn/beta:0                                 [256]                 256  /replica:0/task:0/device:GPU:1\n",
      "group2/block4/gcb/spatial_pool_conv/W:0                       [1, 1, 256, 1]        256  /replica:0/task:0/device:GPU:1\n",
      "group2/block4/gcb/channel_add_conv_1/W:0                      [1, 1, 256, 32]      8192  /replica:0/task:0/device:GPU:1\n",
      "group2/block4/gcb/channel_add_layernorm/beta:0                [32]                   32  /replica:0/task:0/device:GPU:1\n",
      "group2/block4/gcb/channel_add_layernorm/gamma:0               [32]                   32  /replica:0/task:0/device:GPU:1\n",
      "group2/block4/gcb/channel_add_conv_2/W:0                      [1, 1, 32, 256]      8192  /replica:0/task:0/device:GPU:1\n",
      "group2/block5/conv1/W:0                                       [3, 3, 256, 256]   589824  /replica:0/task:0/device:GPU:1\n",
      "group2/block5/conv1/bn/gamma:0                                [256]                 256  /replica:0/task:0/device:GPU:0\n",
      "group2/block5/conv1/bn/beta:0                                 [256]                 256  /replica:0/task:0/device:GPU:0\n",
      "group2/block5/conv2/W:0                                       [3, 3, 256, 256]   589824  /replica:0/task:0/device:GPU:0\n",
      "group2/block5/conv2/bn/gamma:0                                [256]                 256  /replica:0/task:0/device:GPU:1\n",
      "group2/block5/conv2/bn/beta:0                                 [256]                 256  /replica:0/task:0/device:GPU:1\n",
      "group2/block5/gcb/spatial_pool_conv/W:0                       [1, 1, 256, 1]        256  /replica:0/task:0/device:GPU:1\n",
      "group2/block5/gcb/channel_add_conv_1/W:0                      [1, 1, 256, 32]      8192  /replica:0/task:0/device:GPU:1\n",
      "group2/block5/gcb/channel_add_layernorm/beta:0                [32]                   32  /replica:0/task:0/device:GPU:1\n",
      "group2/block5/gcb/channel_add_layernorm/gamma:0               [32]                   32  /replica:0/task:0/device:GPU:1\n",
      "group2/block5/gcb/channel_add_conv_2/W:0                      [1, 1, 32, 256]      8192  /replica:0/task:0/device:GPU:1\n",
      "group3/block0/conv1/W:0                                       [3, 3, 256, 512]  1179648  /replica:0/task:0/device:GPU:1\n",
      "group3/block0/conv1/bn/gamma:0                                [512]                 512  /replica:0/task:0/device:GPU:0\n",
      "group3/block0/conv1/bn/beta:0                                 [512]                 512  /replica:0/task:0/device:GPU:0\n",
      "group3/block0/conv2/W:0                                       [3, 3, 512, 512]  2359296  /replica:0/task:0/device:GPU:0\n",
      "group3/block0/conv2/bn/gamma:0                                [512]                 512  /replica:0/task:0/device:GPU:1\n",
      "group3/block0/conv2/bn/beta:0                                 [512]                 512  /replica:0/task:0/device:GPU:1\n",
      "group3/block0/gcb/spatial_pool_conv/W:0                       [1, 1, 512, 1]        512  /replica:0/task:0/device:GPU:1\n",
      "group3/block0/gcb/channel_add_conv_1/W:0                      [1, 1, 512, 64]     32768  /replica:0/task:0/device:GPU:1\n",
      "group3/block0/gcb/channel_add_layernorm/beta:0                [64]                   64  /replica:0/task:0/device:GPU:1\n",
      "group3/block0/gcb/channel_add_layernorm/gamma:0               [64]                   64  /replica:0/task:0/device:GPU:1\n",
      "group3/block0/gcb/channel_add_conv_2/W:0                      [1, 1, 64, 512]     32768  /replica:0/task:0/device:GPU:1\n",
      "group3/block0/convshortcut/W:0                                [1, 1, 256, 512]   131072  /replica:0/task:0/device:GPU:1\n",
      "group3/block0/convshortcut/bn/gamma:0                         [512]                 512  /replica:0/task:0/device:GPU:1\n",
      "group3/block0/convshortcut/bn/beta:0                          [512]                 512  /replica:0/task:0/device:GPU:1\n",
      "group3/block1/conv1/W:0                                       [3, 3, 512, 512]  2359296  /replica:0/task:0/device:GPU:1\n",
      "group3/block1/conv1/bn/gamma:0                                [512]                 512  /replica:0/task:0/device:GPU:0\n",
      "group3/block1/conv1/bn/beta:0                                 [512]                 512  /replica:0/task:0/device:GPU:0\n",
      "group3/block1/conv2/W:0                                       [3, 3, 512, 512]  2359296  /replica:0/task:0/device:GPU:0\n",
      "group3/block1/conv2/bn/gamma:0                                [512]                 512  /replica:0/task:0/device:GPU:1\n",
      "group3/block1/conv2/bn/beta:0                                 [512]                 512  /replica:0/task:0/device:GPU:1\n",
      "group3/block1/gcb/spatial_pool_conv/W:0                       [1, 1, 512, 1]        512  /replica:0/task:0/device:GPU:1\n",
      "group3/block1/gcb/channel_add_conv_1/W:0                      [1, 1, 512, 64]     32768  /replica:0/task:0/device:GPU:1\n",
      "group3/block1/gcb/channel_add_layernorm/beta:0                [64]                   64  /replica:0/task:0/device:GPU:1\n",
      "group3/block1/gcb/channel_add_layernorm/gamma:0               [64]                   64  /replica:0/task:0/device:GPU:1\n",
      "group3/block1/gcb/channel_add_conv_2/W:0                      [1, 1, 64, 512]     32768  /replica:0/task:0/device:GPU:1\n",
      "group3/block2/conv1/W:0                                       [3, 3, 512, 512]  2359296  /replica:0/task:0/device:GPU:1\n",
      "group3/block2/conv1/bn/gamma:0                                [512]                 512  /replica:0/task:0/device:GPU:0\n",
      "group3/block2/conv1/bn/beta:0                                 [512]                 512  /replica:0/task:0/device:GPU:0\n",
      "group3/block2/conv2/W:0                                       [3, 3, 512, 512]  2359296  /replica:0/task:0/device:GPU:0\n",
      "group3/block2/conv2/bn/gamma:0                                [512]                 512  /replica:0/task:0/device:GPU:1\n",
      "group3/block2/conv2/bn/beta:0                                 [512]                 512  /replica:0/task:0/device:GPU:1\n",
      "group3/block2/gcb/spatial_pool_conv/W:0                       [1, 1, 512, 1]        512  /replica:0/task:0/device:GPU:1\n",
      "group3/block2/gcb/channel_add_conv_1/W:0                      [1, 1, 512, 64]     32768  /replica:0/task:0/device:GPU:1\n",
      "group3/block2/gcb/channel_add_layernorm/beta:0                [64]                   64  /replica:0/task:0/device:GPU:1\n",
      "group3/block2/gcb/channel_add_layernorm/gamma:0               [64]                   64  /replica:0/task:0/device:GPU:1\n",
      "group3/block2/gcb/channel_add_conv_2/W:0                      [1, 1, 64, 512]     32768  /replica:0/task:0/device:GPU:1\n",
      "classify_1/com_11/conv_up/W:0                                 [1, 1, 256, 128]    32768  /replica:0/task:0/device:GPU:1\n",
      "classify_1/com_11/conv_up/bn/gamma:0                          [128]                 128  /replica:0/task:0/device:GPU:1\n",
      "classify_1/com_11/conv_up/bn/beta:0                           [128]                 128  /replica:0/task:0/device:GPU:1\n",
      "classify_1/conv_img12/W:0                                     [1, 1, 192, 128]    24576  /replica:0/task:0/device:GPU:1\n",
      "classify_1/conv_img12/bn/gamma:0                              [128]                 128  /replica:0/task:0/device:GPU:1\n",
      "classify_1/conv_img12/bn/beta:0                               [128]                 128  /replica:0/task:0/device:GPU:1\n",
      "classify_1/groupl11/block0/conv1/W:0                          [3, 3, 128, 128]   147456  /replica:0/task:0/device:GPU:1\n",
      "classify_1/groupl11/block0/conv1/bn/gamma:0                   [128]                 128  /replica:0/task:0/device:GPU:1\n",
      "classify_1/groupl11/block0/conv1/bn/beta:0                    [128]                 128  /replica:0/task:0/device:GPU:1\n",
      "classify_1/groupl11/block0/conv2/W:0                          [3, 3, 128, 128]   147456  /replica:0/task:0/device:GPU:1\n",
      "classify_1/groupl11/block0/conv2/bn/gamma:0                   [128]                 128  /replica:0/task:0/device:GPU:1\n",
      "classify_1/groupl11/block0/conv2/bn/beta:0                    [128]                 128  /replica:0/task:0/device:GPU:1\n",
      "classify_1/groupl11/block0/gcb/spatial_pool_conv/W:0          [1, 1, 128, 1]        128  /replica:0/task:0/device:GPU:1\n",
      "classify_1/groupl11/block0/gcb/channel_add_conv_1/W:0         [1, 1, 128, 16]      2048  /replica:0/task:0/device:GPU:1\n",
      "classify_1/groupl11/block0/gcb/channel_add_layernorm/beta:0   [16]                   16  /replica:0/task:0/device:GPU:1\n",
      "classify_1/groupl11/block0/gcb/channel_add_layernorm/gamma:0  [16]                   16  /replica:0/task:0/device:GPU:1\n",
      "classify_1/groupl11/block0/gcb/channel_add_conv_2/W:0         [1, 1, 16, 128]      2048  /replica:0/task:0/device:GPU:1\n",
      "classify_1/conv_straight11/W:0                                [3, 3, 128, 128]   147456  /replica:0/task:0/device:GPU:1\n",
      "classify_1/conv_straight11/bn/gamma:0                         [128]                 128  /replica:0/task:0/device:GPU:1\n",
      "classify_1/conv_straight11/bn/beta:0                          [128]                 128  /replica:0/task:0/device:GPU:1\n",
      "classify_1/conv_down11/W:0                                    [3, 3, 128, 256]   294912  /replica:0/task:0/device:GPU:1\n",
      "classify_1/conv_down11/bn/gamma:0                             [256]                 256  /replica:0/task:0/device:GPU:1\n",
      "classify_1/conv_down11/bn/beta:0                              [256]                 256  /replica:0/task:0/device:GPU:1\n",
      "classify_1/com_12/conv_up/W:0                                 [1, 1, 512, 128]    65536  /replica:0/task:0/device:GPU:1\n",
      "classify_1/com_12/conv_up/bn/gamma:0                          [128]                 128  /replica:0/task:0/device:GPU:1\n",
      "classify_1/com_12/conv_up/bn/beta:0                           [128]                 128  /replica:0/task:0/device:GPU:1\n",
      "classify_1/com_22/conv_up/W:0                                 [1, 1, 512, 256]   131072  /replica:0/task:0/device:GPU:1\n",
      "classify_1/com_22/conv_up/bn/gamma:0                          [256]                 256  /replica:0/task:0/device:GPU:1\n",
      "classify_1/com_22/conv_up/bn/beta:0                           [256]                 256  /replica:0/task:0/device:GPU:1\n",
      "classify_1/conv_img22/W:0                                     [1, 1, 384, 256]    98304  /replica:0/task:0/device:GPU:1\n",
      "classify_1/conv_img22/bn/gamma:0                              [256]                 256  /replica:0/task:0/device:GPU:0\n",
      "classify_1/conv_img22/bn/beta:0                               [256]                 256  /replica:0/task:0/device:GPU:0\n",
      "classify_1/groupl12/block0/conv1/W:0                          [3, 3, 128, 128]   147456  /replica:0/task:0/device:GPU:0\n",
      "classify_1/groupl12/block0/conv1/bn/gamma:0                   [128]                 128  /replica:0/task:0/device:GPU:1\n",
      "classify_1/groupl12/block0/conv1/bn/beta:0                    [128]                 128  /replica:0/task:0/device:GPU:1\n",
      "classify_1/groupl12/block0/conv2/W:0                          [3, 3, 128, 128]   147456  /replica:0/task:0/device:GPU:1\n",
      "classify_1/groupl12/block0/conv2/bn/gamma:0                   [128]                 128  /replica:0/task:0/device:GPU:0\n",
      "classify_1/groupl12/block0/conv2/bn/beta:0                    [128]                 128  /replica:0/task:0/device:GPU:0\n",
      "classify_1/groupl12/block0/gcb/spatial_pool_conv/W:0          [1, 1, 128, 1]        128  /replica:0/task:0/device:GPU:0\n",
      "classify_1/groupl12/block0/gcb/channel_add_conv_1/W:0         [1, 1, 128, 16]      2048  /replica:0/task:0/device:GPU:0\n",
      "classify_1/groupl12/block0/gcb/channel_add_layernorm/beta:0   [16]                   16  /replica:0/task:0/device:GPU:0\n",
      "classify_1/groupl12/block0/gcb/channel_add_layernorm/gamma:0  [16]                   16  /replica:0/task:0/device:GPU:0\n",
      "classify_1/groupl12/block0/gcb/channel_add_conv_2/W:0         [1, 1, 16, 128]      2048  /replica:0/task:0/device:GPU:0\n",
      "classify_1/groupl22/block0/conv1/W:0                          [3, 3, 256, 256]   589824  /replica:0/task:0/device:GPU:0\n",
      "classify_1/groupl22/block0/conv1/bn/gamma:0                   [256]                 256  /replica:0/task:0/device:GPU:1\n",
      "classify_1/groupl22/block0/conv1/bn/beta:0                    [256]                 256  /replica:0/task:0/device:GPU:1\n",
      "classify_1/groupl22/block0/conv2/W:0                          [3, 3, 256, 256]   589824  /replica:0/task:0/device:GPU:1\n",
      "classify_1/groupl22/block0/conv2/bn/gamma:0                   [256]                 256  /replica:0/task:0/device:GPU:0\n",
      "classify_1/groupl22/block0/conv2/bn/beta:0                    [256]                 256  /replica:0/task:0/device:GPU:0\n",
      "classify_1/groupl22/block0/gcb/spatial_pool_conv/W:0          [1, 1, 256, 1]        256  /replica:0/task:0/device:GPU:0\n",
      "classify_1/groupl22/block0/gcb/channel_add_conv_1/W:0         [1, 1, 256, 32]      8192  /replica:0/task:0/device:GPU:0\n",
      "classify_1/groupl22/block0/gcb/channel_add_layernorm/beta:0   [32]                   32  /replica:0/task:0/device:GPU:0\n",
      "classify_1/groupl22/block0/gcb/channel_add_layernorm/gamma:0  [32]                   32  /replica:0/task:0/device:GPU:0\n",
      "classify_1/groupl22/block0/gcb/channel_add_conv_2/W:0         [1, 1, 32, 256]      8192  /replica:0/task:0/device:GPU:0\n",
      "classify_1/conv_straight12/W:0                                [3, 3, 128, 128]   147456  /replica:0/task:0/device:GPU:0\n",
      "classify_1/conv_straight12/bn/gamma:0                         [128]                 128  /replica:0/task:0/device:GPU:1\n",
      "classify_1/conv_straight12/bn/beta:0                          [128]                 128  /replica:0/task:0/device:GPU:1\n",
      "classify_1/com_13/conv_up/W:0                                 [1, 1, 256, 128]    32768  /replica:0/task:0/device:GPU:1\n",
      "classify_1/com_13/conv_up/bn/gamma:0                          [128]                 128  /replica:0/task:0/device:GPU:1\n",
      "classify_1/com_13/conv_up/bn/beta:0                           [128]                 128  /replica:0/task:0/device:GPU:1\n",
      "classify_1/conv_straight22/W:0                                [3, 3, 256, 256]   589824  /replica:0/task:0/device:GPU:1\n",
      "classify_1/conv_straight22/bn/gamma:0                         [256]                 256  /replica:0/task:0/device:GPU:0\n",
      "classify_1/conv_straight22/bn/beta:0                          [256]                 256  /replica:0/task:0/device:GPU:0\n",
      "classify_1/conv_down12/W:0                                    [3, 3, 128, 256]   294912  /replica:0/task:0/device:GPU:0\n",
      "classify_1/conv_down12/bn/gamma:0                             [256]                 256  /replica:0/task:0/device:GPU:0\n",
      "classify_1/conv_down12/bn/beta:0                              [256]                 256  /replica:0/task:0/device:GPU:0\n",
      "classify_1/conv_down22/W:0                                    [3, 3, 256, 512]  1179648  /replica:0/task:0/device:GPU:0\n",
      "classify_1/conv_down22/bn/gamma:0                             [512]                 512  /replica:0/task:0/device:GPU:1\n",
      "classify_1/conv_down22/bn/beta:0                              [512]                 512  /replica:0/task:0/device:GPU:1\n",
      "classify_1/conv_downdown12/W:0                                [3, 3, 256, 512]  1179648  /replica:0/task:0/device:GPU:1\n",
      "classify_1/conv_downdown12/bn/gamma:0                         [512]                 512  /replica:0/task:0/device:GPU:0\n",
      "classify_1/conv_downdown12/bn/beta:0                          [512]                 512  /replica:0/task:0/device:GPU:0\n",
      "classify_1/conv_img32/W:0                                     [1, 1, 768, 512]   393216  /replica:0/task:0/device:GPU:0\n",
      "classify_1/conv_img32/bn/gamma:0                              [512]                 512  /replica:0/task:0/device:GPU:1\n",
      "classify_1/conv_img32/bn/beta:0                               [512]                 512  /replica:0/task:0/device:GPU:1\n",
      "classify_1/groupl13/block0/conv1/W:0                          [3, 3, 128, 128]   147456  /replica:0/task:0/device:GPU:1\n",
      "classify_1/groupl13/block0/conv1/bn/gamma:0                   [128]                 128  /replica:0/task:0/device:GPU:1\n",
      "classify_1/groupl13/block0/conv1/bn/beta:0                    [128]                 128  /replica:0/task:0/device:GPU:1\n",
      "classify_1/groupl13/block0/conv2/W:0                          [3, 3, 128, 128]   147456  /replica:0/task:0/device:GPU:1\n",
      "classify_1/groupl13/block0/conv2/bn/gamma:0                   [128]                 128  /replica:0/task:0/device:GPU:0\n",
      "classify_1/groupl13/block0/conv2/bn/beta:0                    [128]                 128  /replica:0/task:0/device:GPU:0\n",
      "classify_1/groupl13/block0/gcb/spatial_pool_conv/W:0          [1, 1, 128, 1]        128  /replica:0/task:0/device:GPU:0\n",
      "classify_1/groupl13/block0/gcb/channel_add_conv_1/W:0         [1, 1, 128, 16]      2048  /replica:0/task:0/device:GPU:0\n",
      "classify_1/groupl13/block0/gcb/channel_add_layernorm/beta:0   [16]                   16  /replica:0/task:0/device:GPU:0\n",
      "classify_1/groupl13/block0/gcb/channel_add_layernorm/gamma:0  [16]                   16  /replica:0/task:0/device:GPU:0\n",
      "classify_1/groupl13/block0/gcb/channel_add_conv_2/W:0         [1, 1, 16, 128]      2048  /replica:0/task:0/device:GPU:0\n",
      "classify_1/groupl23/block0/conv1/W:0                          [3, 3, 256, 256]   589824  /replica:0/task:0/device:GPU:0\n",
      "classify_1/groupl23/block0/conv1/bn/gamma:0                   [256]                 256  /replica:0/task:0/device:GPU:1\n",
      "classify_1/groupl23/block0/conv1/bn/beta:0                    [256]                 256  /replica:0/task:0/device:GPU:1\n",
      "classify_1/groupl23/block0/conv2/W:0                          [3, 3, 256, 256]   589824  /replica:0/task:0/device:GPU:1\n",
      "classify_1/groupl23/block0/conv2/bn/gamma:0                   [256]                 256  /replica:0/task:0/device:GPU:0\n",
      "classify_1/groupl23/block0/conv2/bn/beta:0                    [256]                 256  /replica:0/task:0/device:GPU:0\n",
      "classify_1/groupl23/block0/gcb/spatial_pool_conv/W:0          [1, 1, 256, 1]        256  /replica:0/task:0/device:GPU:0\n",
      "classify_1/groupl23/block0/gcb/channel_add_conv_1/W:0         [1, 1, 256, 32]      8192  /replica:0/task:0/device:GPU:0\n",
      "classify_1/groupl23/block0/gcb/channel_add_layernorm/beta:0   [32]                   32  /replica:0/task:0/device:GPU:0\n",
      "classify_1/groupl23/block0/gcb/channel_add_layernorm/gamma:0  [32]                   32  /replica:0/task:0/device:GPU:0\n",
      "classify_1/groupl23/block0/gcb/channel_add_conv_2/W:0         [1, 1, 32, 256]      8192  /replica:0/task:0/device:GPU:0\n",
      "classify_1/groupl33/block0/conv1/W:0                          [3, 3, 512, 512]  2359296  /replica:0/task:0/device:GPU:0\n",
      "classify_1/groupl33/block0/conv1/bn/gamma:0                   [512]                 512  /replica:0/task:0/device:GPU:1\n",
      "classify_1/groupl33/block0/conv1/bn/beta:0                    [512]                 512  /replica:0/task:0/device:GPU:1\n",
      "classify_1/groupl33/block0/conv2/W:0                          [3, 3, 512, 512]  2359296  /replica:0/task:0/device:GPU:1\n",
      "classify_1/groupl33/block0/conv2/bn/gamma:0                   [512]                 512  /replica:0/task:0/device:GPU:0\n",
      "classify_1/groupl33/block0/conv2/bn/beta:0                    [512]                 512  /replica:0/task:0/device:GPU:0\n",
      "classify_1/groupl33/block0/gcb/spatial_pool_conv/W:0          [1, 1, 512, 1]        512  /replica:0/task:0/device:GPU:0\n",
      "classify_1/groupl33/block0/gcb/channel_add_conv_1/W:0         [1, 1, 512, 64]     32768  /replica:0/task:0/device:GPU:0\n",
      "classify_1/groupl33/block0/gcb/channel_add_layernorm/beta:0   [64]                   64  /replica:0/task:0/device:GPU:0\n",
      "classify_1/groupl33/block0/gcb/channel_add_layernorm/gamma:0  [64]                   64  /replica:0/task:0/device:GPU:0\n",
      "classify_1/groupl33/block0/gcb/channel_add_conv_2/W:0         [1, 1, 64, 512]     32768  /replica:0/task:0/device:GPU:0\n",
      "classify_1/conv_straight13/W:0                                [3, 3, 128, 128]   147456  /replica:0/task:0/device:GPU:1\n",
      "classify_1/conv_straight13/bn/gamma:0                         [128]                 128  /replica:0/task:0/device:GPU:0\n",
      "classify_1/conv_straight13/bn/beta:0                          [128]                 128  /replica:0/task:0/device:GPU:0\n",
      "classify_1/com_141/conv_up/W:0                                [1, 1, 256, 128]    32768  /replica:0/task:0/device:GPU:0\n",
      "classify_1/com_141/conv_up/bn/gamma:0                         [128]                 128  /replica:0/task:0/device:GPU:0\n",
      "classify_1/com_141/conv_up/bn/beta:0                          [128]                 128  /replica:0/task:0/device:GPU:0\n",
      "classify_1/com_142/conv_up/W:0                                [1, 1, 512, 128]    65536  /replica:0/task:0/device:GPU:0\n",
      "classify_1/com_142/conv_up/bn/gamma:0                         [128]                 128  /replica:0/task:0/device:GPU:0\n",
      "classify_1/com_142/conv_up/bn/beta:0                          [128]                 128  /replica:0/task:0/device:GPU:0\n",
      "classify_1/conv_straight23/W:0                                [3, 3, 256, 256]   589824  /replica:0/task:0/device:GPU:0\n",
      "classify_1/conv_straight23/bn/gamma:0                         [256]                 256  /replica:0/task:0/device:GPU:1\n",
      "classify_1/conv_straight23/bn/beta:0                          [256]                 256  /replica:0/task:0/device:GPU:1\n",
      "classify_1/conv_down13/W:0                                    [3, 3, 128, 256]   294912  /replica:0/task:0/device:GPU:1\n",
      "classify_1/conv_down13/bn/gamma:0                             [256]                 256  /replica:0/task:0/device:GPU:1\n",
      "classify_1/conv_down13/bn/beta:0                              [256]                 256  /replica:0/task:0/device:GPU:1\n",
      "classify_1/com_24/conv_up/W:0                                 [1, 1, 512, 256]   131072  /replica:0/task:0/device:GPU:1\n",
      "classify_1/com_24/conv_up/bn/gamma:0                          [256]                 256  /replica:0/task:0/device:GPU:1\n",
      "classify_1/com_24/conv_up/bn/beta:0                           [256]                 256  /replica:0/task:0/device:GPU:1\n",
      "classify_1/conv_straight33/W:0                                [3, 3, 512, 512]  2359296  /replica:0/task:0/device:GPU:1\n",
      "classify_1/conv_straight33/bn/gamma:0                         [512]                 512  /replica:0/task:0/device:GPU:0\n",
      "classify_1/conv_straight33/bn/beta:0                          [512]                 512  /replica:0/task:0/device:GPU:0\n",
      "classify_1/conv_downdown13/W:0                                [3, 3, 256, 512]  1179648  /replica:0/task:0/device:GPU:0\n",
      "classify_1/conv_downdown13/bn/gamma:0                         [512]                 512  /replica:0/task:0/device:GPU:0\n",
      "classify_1/conv_downdown13/bn/beta:0                          [512]                 512  /replica:0/task:0/device:GPU:0\n",
      "classify_1/conv_down23/W:0                                    [3, 3, 256, 512]  1179648  /replica:0/task:0/device:GPU:0\n",
      "classify_1/conv_down23/bn/gamma:0                             [512]                 512  /replica:0/task:0/device:GPU:1\n",
      "classify_1/conv_down23/bn/beta:0                              [512]                 512  /replica:0/task:0/device:GPU:1\n",
      "head_fusion_classify_1/conv_mix/W:0                           [1, 1, 896, 256]   229376  /replica:0/task:0/device:GPU:1\n",
      "head_fusion_classify_1/conv_mix/bn/gamma:0                    [256]                 256  /replica:0/task:0/device:GPU:0\n",
      "head_fusion_classify_1/conv_mix/bn/beta:0                     [256]                 256  /replica:0/task:0/device:GPU:0\n",
      "classify_1/conv_out/W:0                                       [1, 1, 256, 4]       1024  /replica:0/task:0/device:GPU:0\n",
      "classify_1/conv_out/b:0                                       [4]                     4  /replica:0/task:0/device:GPU:0\n",
      "classify_2/com_11/conv_up/W:0                                 [1, 1, 256, 128]    32768  /replica:0/task:0/device:GPU:0\n",
      "classify_2/com_11/conv_up/bn/gamma:0                          [128]                 128  /replica:0/task:0/device:GPU:0\n",
      "classify_2/com_11/conv_up/bn/beta:0                           [128]                 128  /replica:0/task:0/device:GPU:0\n",
      "classify_2/conv_img12/W:0                                     [1, 1, 192, 128]    24576  /replica:0/task:0/device:GPU:0\n",
      "classify_2/conv_img12/bn/gamma:0                              [128]                 128  /replica:0/task:0/device:GPU:0\n",
      "classify_2/conv_img12/bn/beta:0                               [128]                 128  /replica:0/task:0/device:GPU:0\n",
      "classify_2/groupl11/block0/conv1/W:0                          [3, 3, 128, 128]   147456  /replica:0/task:0/device:GPU:0\n",
      "classify_2/groupl11/block0/conv1/bn/gamma:0                   [128]                 128  /replica:0/task:0/device:GPU:1\n",
      "classify_2/groupl11/block0/conv1/bn/beta:0                    [128]                 128  /replica:0/task:0/device:GPU:1\n",
      "classify_2/groupl11/block0/conv2/W:0                          [3, 3, 128, 128]   147456  /replica:0/task:0/device:GPU:1\n",
      "classify_2/groupl11/block0/conv2/bn/gamma:0                   [128]                 128  /replica:0/task:0/device:GPU:0\n",
      "classify_2/groupl11/block0/conv2/bn/beta:0                    [128]                 128  /replica:0/task:0/device:GPU:0\n",
      "classify_2/groupl11/block0/gcb/spatial_pool_conv/W:0          [1, 1, 128, 1]        128  /replica:0/task:0/device:GPU:0\n",
      "classify_2/groupl11/block0/gcb/channel_add_conv_1/W:0         [1, 1, 128, 16]      2048  /replica:0/task:0/device:GPU:0\n",
      "classify_2/groupl11/block0/gcb/channel_add_layernorm/beta:0   [16]                   16  /replica:0/task:0/device:GPU:0\n",
      "classify_2/groupl11/block0/gcb/channel_add_layernorm/gamma:0  [16]                   16  /replica:0/task:0/device:GPU:0\n",
      "classify_2/groupl11/block0/gcb/channel_add_conv_2/W:0         [1, 1, 16, 128]      2048  /replica:0/task:0/device:GPU:0\n",
      "classify_2/conv_straight11/W:0                                [3, 3, 128, 128]   147456  /replica:0/task:0/device:GPU:0\n",
      "classify_2/conv_straight11/bn/gamma:0                         [128]                 128  /replica:0/task:0/device:GPU:1\n",
      "classify_2/conv_straight11/bn/beta:0                          [128]                 128  /replica:0/task:0/device:GPU:1\n",
      "classify_2/conv_down11/W:0                                    [3, 3, 128, 256]   294912  /replica:0/task:0/device:GPU:1\n",
      "classify_2/conv_down11/bn/gamma:0                             [256]                 256  /replica:0/task:0/device:GPU:0\n",
      "classify_2/conv_down11/bn/beta:0                              [256]                 256  /replica:0/task:0/device:GPU:0\n",
      "classify_2/com_12/conv_up/W:0                                 [1, 1, 512, 128]    65536  /replica:0/task:0/device:GPU:0\n",
      "classify_2/com_12/conv_up/bn/gamma:0                          [128]                 128  /replica:0/task:0/device:GPU:0\n",
      "classify_2/com_12/conv_up/bn/beta:0                           [128]                 128  /replica:0/task:0/device:GPU:0\n",
      "classify_2/com_22/conv_up/W:0                                 [1, 1, 512, 256]   131072  /replica:0/task:0/device:GPU:0\n",
      "classify_2/com_22/conv_up/bn/gamma:0                          [256]                 256  /replica:0/task:0/device:GPU:1\n",
      "classify_2/com_22/conv_up/bn/beta:0                           [256]                 256  /replica:0/task:0/device:GPU:1\n",
      "classify_2/conv_img22/W:0                                     [1, 1, 384, 256]    98304  /replica:0/task:0/device:GPU:1\n",
      "classify_2/conv_img22/bn/gamma:0                              [256]                 256  /replica:0/task:0/device:GPU:0\n",
      "classify_2/conv_img22/bn/beta:0                               [256]                 256  /replica:0/task:0/device:GPU:0\n",
      "classify_2/groupl12/block0/conv1/W:0                          [3, 3, 128, 128]   147456  /replica:0/task:0/device:GPU:0\n",
      "classify_2/groupl12/block0/conv1/bn/gamma:0                   [128]                 128  /replica:0/task:0/device:GPU:1\n",
      "classify_2/groupl12/block0/conv1/bn/beta:0                    [128]                 128  /replica:0/task:0/device:GPU:1\n",
      "classify_2/groupl12/block0/conv2/W:0                          [3, 3, 128, 128]   147456  /replica:0/task:0/device:GPU:1\n",
      "classify_2/groupl12/block0/conv2/bn/gamma:0                   [128]                 128  /replica:0/task:0/device:GPU:0\n",
      "classify_2/groupl12/block0/conv2/bn/beta:0                    [128]                 128  /replica:0/task:0/device:GPU:0\n",
      "classify_2/groupl12/block0/gcb/spatial_pool_conv/W:0          [1, 1, 128, 1]        128  /replica:0/task:0/device:GPU:0\n",
      "classify_2/groupl12/block0/gcb/channel_add_conv_1/W:0         [1, 1, 128, 16]      2048  /replica:0/task:0/device:GPU:0\n",
      "classify_2/groupl12/block0/gcb/channel_add_layernorm/beta:0   [16]                   16  /replica:0/task:0/device:GPU:0\n",
      "classify_2/groupl12/block0/gcb/channel_add_layernorm/gamma:0  [16]                   16  /replica:0/task:0/device:GPU:0\n",
      "classify_2/groupl12/block0/gcb/channel_add_conv_2/W:0         [1, 1, 16, 128]      2048  /replica:0/task:0/device:GPU:0\n",
      "classify_2/groupl22/block0/conv1/W:0                          [3, 3, 256, 256]   589824  /replica:0/task:0/device:GPU:0\n",
      "classify_2/groupl22/block0/conv1/bn/gamma:0                   [256]                 256  /replica:0/task:0/device:GPU:1\n",
      "classify_2/groupl22/block0/conv1/bn/beta:0                    [256]                 256  /replica:0/task:0/device:GPU:1\n",
      "classify_2/groupl22/block0/conv2/W:0                          [3, 3, 256, 256]   589824  /replica:0/task:0/device:GPU:1\n",
      "classify_2/groupl22/block0/conv2/bn/gamma:0                   [256]                 256  /replica:0/task:0/device:GPU:0\n",
      "classify_2/groupl22/block0/conv2/bn/beta:0                    [256]                 256  /replica:0/task:0/device:GPU:0\n",
      "classify_2/groupl22/block0/gcb/spatial_pool_conv/W:0          [1, 1, 256, 1]        256  /replica:0/task:0/device:GPU:0\n",
      "classify_2/groupl22/block0/gcb/channel_add_conv_1/W:0         [1, 1, 256, 32]      8192  /replica:0/task:0/device:GPU:0\n",
      "classify_2/groupl22/block0/gcb/channel_add_layernorm/beta:0   [32]                   32  /replica:0/task:0/device:GPU:0\n",
      "classify_2/groupl22/block0/gcb/channel_add_layernorm/gamma:0  [32]                   32  /replica:0/task:0/device:GPU:0\n",
      "classify_2/groupl22/block0/gcb/channel_add_conv_2/W:0         [1, 1, 32, 256]      8192  /replica:0/task:0/device:GPU:0\n",
      "classify_2/conv_straight12/W:0                                [3, 3, 128, 128]   147456  /replica:0/task:0/device:GPU:0\n",
      "classify_2/conv_straight12/bn/gamma:0                         [128]                 128  /replica:0/task:0/device:GPU:1\n",
      "classify_2/conv_straight12/bn/beta:0                          [128]                 128  /replica:0/task:0/device:GPU:1\n",
      "classify_2/com_13/conv_up/W:0                                 [1, 1, 256, 128]    32768  /replica:0/task:0/device:GPU:1\n",
      "classify_2/com_13/conv_up/bn/gamma:0                          [128]                 128  /replica:0/task:0/device:GPU:1\n",
      "classify_2/com_13/conv_up/bn/beta:0                           [128]                 128  /replica:0/task:0/device:GPU:1\n",
      "classify_2/conv_straight22/W:0                                [3, 3, 256, 256]   589824  /replica:0/task:0/device:GPU:1\n",
      "classify_2/conv_straight22/bn/gamma:0                         [256]                 256  /replica:0/task:0/device:GPU:0\n",
      "classify_2/conv_straight22/bn/beta:0                          [256]                 256  /replica:0/task:0/device:GPU:0\n",
      "classify_2/conv_down12/W:0                                    [3, 3, 128, 256]   294912  /replica:0/task:0/device:GPU:0\n",
      "classify_2/conv_down12/bn/gamma:0                             [256]                 256  /replica:0/task:0/device:GPU:0\n",
      "classify_2/conv_down12/bn/beta:0                              [256]                 256  /replica:0/task:0/device:GPU:0\n",
      "classify_2/conv_down22/W:0                                    [3, 3, 256, 512]  1179648  /replica:0/task:0/device:GPU:0\n",
      "classify_2/conv_down22/bn/gamma:0                             [512]                 512  /replica:0/task:0/device:GPU:1\n",
      "classify_2/conv_down22/bn/beta:0                              [512]                 512  /replica:0/task:0/device:GPU:1\n",
      "classify_2/conv_downdown12/W:0                                [3, 3, 256, 512]  1179648  /replica:0/task:0/device:GPU:1\n",
      "classify_2/conv_downdown12/bn/gamma:0                         [512]                 512  /replica:0/task:0/device:GPU:0\n",
      "classify_2/conv_downdown12/bn/beta:0                          [512]                 512  /replica:0/task:0/device:GPU:0\n",
      "classify_2/conv_img32/W:0                                     [1, 1, 768, 512]   393216  /replica:0/task:0/device:GPU:0\n",
      "classify_2/conv_img32/bn/gamma:0                              [512]                 512  /replica:0/task:0/device:GPU:1\n",
      "classify_2/conv_img32/bn/beta:0                               [512]                 512  /replica:0/task:0/device:GPU:1\n",
      "classify_2/groupl13/block0/conv1/W:0                          [3, 3, 128, 128]   147456  /replica:0/task:0/device:GPU:1\n",
      "classify_2/groupl13/block0/conv1/bn/gamma:0                   [128]                 128  /replica:0/task:0/device:GPU:0\n",
      "classify_2/groupl13/block0/conv1/bn/beta:0                    [128]                 128  /replica:0/task:0/device:GPU:0\n",
      "classify_2/groupl13/block0/conv2/W:0                          [3, 3, 128, 128]   147456  /replica:0/task:0/device:GPU:0\n",
      "classify_2/groupl13/block0/conv2/bn/gamma:0                   [128]                 128  /replica:0/task:0/device:GPU:1\n",
      "classify_2/groupl13/block0/conv2/bn/beta:0                    [128]                 128  /replica:0/task:0/device:GPU:1\n",
      "classify_2/groupl13/block0/gcb/spatial_pool_conv/W:0          [1, 1, 128, 1]        128  /replica:0/task:0/device:GPU:1\n",
      "classify_2/groupl13/block0/gcb/channel_add_conv_1/W:0         [1, 1, 128, 16]      2048  /replica:0/task:0/device:GPU:1\n",
      "classify_2/groupl13/block0/gcb/channel_add_layernorm/beta:0   [16]                   16  /replica:0/task:0/device:GPU:1\n",
      "classify_2/groupl13/block0/gcb/channel_add_layernorm/gamma:0  [16]                   16  /replica:0/task:0/device:GPU:1\n",
      "classify_2/groupl13/block0/gcb/channel_add_conv_2/W:0         [1, 1, 16, 128]      2048  /replica:0/task:0/device:GPU:1\n",
      "classify_2/groupl23/block0/conv1/W:0                          [3, 3, 256, 256]   589824  /replica:0/task:0/device:GPU:1\n",
      "classify_2/groupl23/block0/conv1/bn/gamma:0                   [256]                 256  /replica:0/task:0/device:GPU:0\n",
      "classify_2/groupl23/block0/conv1/bn/beta:0                    [256]                 256  /replica:0/task:0/device:GPU:0\n",
      "classify_2/groupl23/block0/conv2/W:0                          [3, 3, 256, 256]   589824  /replica:0/task:0/device:GPU:0\n",
      "classify_2/groupl23/block0/conv2/bn/gamma:0                   [256]                 256  /replica:0/task:0/device:GPU:1\n",
      "classify_2/groupl23/block0/conv2/bn/beta:0                    [256]                 256  /replica:0/task:0/device:GPU:1\n",
      "classify_2/groupl23/block0/gcb/spatial_pool_conv/W:0          [1, 1, 256, 1]        256  /replica:0/task:0/device:GPU:1\n",
      "classify_2/groupl23/block0/gcb/channel_add_conv_1/W:0         [1, 1, 256, 32]      8192  /replica:0/task:0/device:GPU:1\n",
      "classify_2/groupl23/block0/gcb/channel_add_layernorm/beta:0   [32]                   32  /replica:0/task:0/device:GPU:1\n",
      "classify_2/groupl23/block0/gcb/channel_add_layernorm/gamma:0  [32]                   32  /replica:0/task:0/device:GPU:1\n",
      "classify_2/groupl23/block0/gcb/channel_add_conv_2/W:0         [1, 1, 32, 256]      8192  /replica:0/task:0/device:GPU:1\n",
      "classify_2/groupl33/block0/conv1/W:0                          [3, 3, 512, 512]  2359296  /replica:0/task:0/device:GPU:1\n",
      "classify_2/groupl33/block0/conv1/bn/gamma:0                   [512]                 512  /replica:0/task:0/device:GPU:0\n",
      "classify_2/groupl33/block0/conv1/bn/beta:0                    [512]                 512  /replica:0/task:0/device:GPU:0\n",
      "classify_2/groupl33/block0/conv2/W:0                          [3, 3, 512, 512]  2359296  /replica:0/task:0/device:GPU:0\n",
      "classify_2/groupl33/block0/conv2/bn/gamma:0                   [512]                 512  /replica:0/task:0/device:GPU:1\n",
      "classify_2/groupl33/block0/conv2/bn/beta:0                    [512]                 512  /replica:0/task:0/device:GPU:1\n",
      "classify_2/groupl33/block0/gcb/spatial_pool_conv/W:0          [1, 1, 512, 1]        512  /replica:0/task:0/device:GPU:1\n",
      "classify_2/groupl33/block0/gcb/channel_add_conv_1/W:0         [1, 1, 512, 64]     32768  /replica:0/task:0/device:GPU:1\n",
      "classify_2/groupl33/block0/gcb/channel_add_layernorm/beta:0   [64]                   64  /replica:0/task:0/device:GPU:1\n",
      "classify_2/groupl33/block0/gcb/channel_add_layernorm/gamma:0  [64]                   64  /replica:0/task:0/device:GPU:1\n",
      "classify_2/groupl33/block0/gcb/channel_add_conv_2/W:0         [1, 1, 64, 512]     32768  /replica:0/task:0/device:GPU:1\n",
      "classify_2/conv_straight13/W:0                                [3, 3, 128, 128]   147456  /replica:0/task:0/device:GPU:1\n",
      "classify_2/conv_straight13/bn/gamma:0                         [128]                 128  /replica:0/task:0/device:GPU:0\n",
      "classify_2/conv_straight13/bn/beta:0                          [128]                 128  /replica:0/task:0/device:GPU:0\n",
      "classify_2/com_141/conv_up/W:0                                [1, 1, 256, 128]    32768  /replica:0/task:0/device:GPU:0\n",
      "classify_2/com_141/conv_up/bn/gamma:0                         [128]                 128  /replica:0/task:0/device:GPU:0\n",
      "classify_2/com_141/conv_up/bn/beta:0                          [128]                 128  /replica:0/task:0/device:GPU:0\n",
      "classify_2/com_142/conv_up/W:0                                [1, 1, 512, 128]    65536  /replica:0/task:0/device:GPU:0\n",
      "classify_2/com_142/conv_up/bn/gamma:0                         [128]                 128  /replica:0/task:0/device:GPU:1\n",
      "classify_2/com_142/conv_up/bn/beta:0                          [128]                 128  /replica:0/task:0/device:GPU:1\n",
      "classify_2/conv_straight23/W:0                                [3, 3, 256, 256]   589824  /replica:0/task:0/device:GPU:1\n",
      "classify_2/conv_straight23/bn/gamma:0                         [256]                 256  /replica:0/task:0/device:GPU:0\n",
      "classify_2/conv_straight23/bn/beta:0                          [256]                 256  /replica:0/task:0/device:GPU:0\n",
      "classify_2/conv_down13/W:0                                    [3, 3, 128, 256]   294912  /replica:0/task:0/device:GPU:0\n",
      "classify_2/conv_down13/bn/gamma:0                             [256]                 256  /replica:0/task:0/device:GPU:0\n",
      "classify_2/conv_down13/bn/beta:0                              [256]                 256  /replica:0/task:0/device:GPU:0\n",
      "classify_2/com_24/conv_up/W:0                                 [1, 1, 512, 256]   131072  /replica:0/task:0/device:GPU:0\n",
      "classify_2/com_24/conv_up/bn/gamma:0                          [256]                 256  /replica:0/task:0/device:GPU:0\n",
      "classify_2/com_24/conv_up/bn/beta:0                           [256]                 256  /replica:0/task:0/device:GPU:0\n",
      "classify_2/conv_straight33/W:0                                [3, 3, 512, 512]  2359296  /replica:0/task:0/device:GPU:0\n",
      "classify_2/conv_straight33/bn/gamma:0                         [512]                 512  /replica:0/task:0/device:GPU:1\n",
      "classify_2/conv_straight33/bn/beta:0                          [512]                 512  /replica:0/task:0/device:GPU:1\n",
      "classify_2/conv_downdown13/W:0                                [3, 3, 256, 512]  1179648  /replica:0/task:0/device:GPU:1\n",
      "classify_2/conv_downdown13/bn/gamma:0                         [512]                 512  /replica:0/task:0/device:GPU:1\n",
      "classify_2/conv_downdown13/bn/beta:0                          [512]                 512  /replica:0/task:0/device:GPU:1\n",
      "classify_2/conv_down23/W:0                                    [3, 3, 256, 512]  1179648  /replica:0/task:0/device:GPU:1\n",
      "classify_2/conv_down23/bn/gamma:0                             [512]                 512  /replica:0/task:0/device:GPU:0\n",
      "classify_2/conv_down23/bn/beta:0                              [512]                 512  /replica:0/task:0/device:GPU:0\n",
      "head_fusion_classify_2/conv_mix/W:0                           [1, 1, 896, 256]   229376  /replica:0/task:0/device:GPU:0\n",
      "head_fusion_classify_2/conv_mix/bn/gamma:0                    [256]                 256  /replica:0/task:0/device:GPU:1\n",
      "head_fusion_classify_2/conv_mix/bn/beta:0                     [256]                 256  /replica:0/task:0/device:GPU:1\n",
      "classify_2/conv_out/W:0                                       [1, 1, 256, 4]       1024  /replica:0/task:0/device:GPU:1\n",
      "classify_2/conv_out/b:0                                       [4]                     4  /replica:0/task:0/device:GPU:1\n",
      "conv_out_type/W:0                                             [1, 1, 8, 5]           40  /replica:0/task:0/device:GPU:1\n",
      "conv_out_type/b:0                                             [5]                     5  /replica:0/task:0/device:GPU:1\n",
      "u3b/conv_1/W:0                                                [3, 3, 768, 256]  1769472  /replica:0/task:0/device:GPU:1\n",
      "u3b/conv_1/bn/gamma:0                                         [256]                 256  /replica:0/task:0/device:GPU:0\n",
      "u3b/conv_1/bn/beta:0                                          [256]                 256  /replica:0/task:0/device:GPU:0\n",
      "u3b/conv_2/W:0                                                [3, 3, 256, 256]   589824  /replica:0/task:0/device:GPU:0\n",
      "u3b/conv_2/bn/gamma:0                                         [256]                 256  /replica:0/task:0/device:GPU:0\n",
      "u3b/conv_2/bn/beta:0                                          [256]                 256  /replica:0/task:0/device:GPU:0\n",
      "u2b/conv_1/W:0                                                [3, 3, 384, 128]   442368  /replica:0/task:0/device:GPU:0\n",
      "u2b/conv_1/bn/gamma:0                                         [128]                 128  /replica:0/task:0/device:GPU:0\n",
      "u2b/conv_1/bn/beta:0                                          [128]                 128  /replica:0/task:0/device:GPU:0\n",
      "u2b/conv_2/W:0                                                [3, 3, 128, 128]   147456  /replica:0/task:0/device:GPU:0\n",
      "u2b/conv_2/bn/gamma:0                                         [128]                 128  /replica:0/task:0/device:GPU:0\n",
      "u2b/conv_2/bn/beta:0                                          [128]                 128  /replica:0/task:0/device:GPU:0\n",
      "u1b/conv_1/W:0                                                [3, 3, 192, 64]    110592  /replica:0/task:0/device:GPU:0\n",
      "u1b/conv_1/bn/gamma:0                                         [64]                   64  /replica:0/task:0/device:GPU:0\n",
      "u1b/conv_1/bn/beta:0                                          [64]                   64  /replica:0/task:0/device:GPU:0\n",
      "u1b/conv_2/W:0                                                [3, 3, 64, 64]      36864  /replica:0/task:0/device:GPU:0\n",
      "u1b/conv_2/bn/gamma:0                                         [64]                   64  /replica:0/task:0/device:GPU:0\n",
      "u1b/conv_2/bn/beta:0                                          [64]                   64  /replica:0/task:0/device:GPU:0\n",
      "conv_out_r/W:0                                                [1, 1, 64, 1]          64  /replica:0/task:0/device:GPU:0\n",
      "conv_out_r/b:0                                                [1]                     1  /replica:0/task:0/device:GPU:0\n",
      "param1:0                                                      [1]                     1  /replica:0/task:0/device:GPU:0\n",
      "param2:0                                                      [1]                     1  /replica:0/task:0/device:GPU:0\n",
      "param3:0                                                      [1]                     1  /replica:0/task:0/device:GPU:0\n",
      "param4:0                                                      [1]                     1  /replica:0/task:0/device:GPU:0\n",
      "param5:0                                                      [1]                     1  /replica:0/task:0/device:GPU:0\u001b[36m\n",
      "Total #vars=535, #params=63880235, size=243.68MB\u001b[0m\n"
     ]
    },
    {
     "name": "stdout",
     "output_type": "stream",
     "text": [
      "\u001b[32m[0107 13:33:24 @base.py:209]\u001b[0m Setup callbacks graph ...\n",
      "\u001b[32m[0107 13:33:27 @input_source.py:220]\u001b[0m Setting up the queue 'DataParallelInferenceRunner/QueueInput/input_queue' for CPU prefetching ...\n",
      "\u001b[32m[0107 13:33:27 @inference_runner.py:238]\u001b[0m [InferenceRunner] Building tower 'InferenceTower0' on device /gpu:0 ...\n",
      "\u001b[32m[0107 13:33:27 @develop.py:96]\u001b[0m \u001b[5m\u001b[31mWRN\u001b[0m [Deprecated] ModelDescBase._build_graph() interface will be deprecated after 30 Mar. Use build_graph() instead!\n",
      "\u001b[32m[0107 13:33:32 @inference_runner.py:238]\u001b[0m [InferenceRunner] Building tower 'InferenceTower1' on device /gpu:1 ...\n",
      "\u001b[32m[0107 13:33:32 @develop.py:96]\u001b[0m \u001b[5m\u001b[31mWRN\u001b[0m [Deprecated] ModelDescBase._build_graph() interface will be deprecated after 30 Mar. Use build_graph() instead!\n",
      "\u001b[32m[0107 13:33:39 @summary.py:38]\u001b[0m Maintain moving average summary of 7 tensors in collection MOVING_SUMMARY_OPS.\n",
      "\u001b[32m[0107 13:33:39 @summary.py:75]\u001b[0m Summarizing collection 'summaries' of size 228.\n",
      "\u001b[32m[0107 13:33:39 @graph.py:91]\u001b[0m Applying collection UPDATE_OPS of 248 ops.\n",
      "\u001b[32m[0107 13:33:46 @base.py:227]\u001b[0m Creating the session ...\n",
      "\u001b[32m[0107 13:33:59 @base.py:233]\u001b[0m Initializing the session ...\n",
      "\u001b[32m[0107 13:33:59 @sessinit.py:207]\u001b[0m Variables to restore from dict: group1/block3/conv2/bn/variance/EMA:0, group2/block4/conv1/bn/variance/EMA:0, group3/block0/conv2/bn/variance/EMA:0, group1/block1/conv1/bn/beta:0, group2/block0/convshortcut/bn/variance/EMA:0, group2/block5/conv2/bn/variance/EMA:0, group2/block0/convshortcut/bn/gamma:0, group0/block1/conv1/bn/variance/EMA:0, group2/block1/conv1/bn/mean/EMA:0, group3/block0/conv2/bn/beta:0, group2/block0/conv2/bn/gamma:0, group2/block2/conv1/bn/gamma:0, group0/block0/conv1/bn/variance/EMA:0, group2/block4/conv2/bn/variance/EMA:0, group0/block0/conv2/bn/beta:0, group2/block0/conv1/W:0, group3/block1/conv2/W:0, group1/block0/conv2/bn/gamma:0, group2/block0/convshortcut/bn/mean/EMA:0, group3/block2/conv1/bn/beta:0, group3/block1/conv1/bn/gamma:0, group1/block2/conv2/bn/beta:0, group1/block0/conv1/bn/mean/EMA:0, group2/block2/conv1/W:0, group1/block1/conv2/W:0, group2/block1/conv1/bn/beta:0, group1/block3/conv2/bn/beta:0, group2/block1/conv2/W:0, group2/block0/conv1/bn/variance/EMA:0, group2/block0/conv2/bn/beta:0, group1/block1/conv1/bn/gamma:0, group3/block0/convshortcut/W:0, group1/block1/conv1/bn/variance/EMA:0, group0/block0/conv1/W:0, group0/block0/conv1/bn/beta:0, group0/block1/conv2/bn/mean/EMA:0, group2/block4/conv2/bn/gamma:0, group2/block3/conv2/bn/variance/EMA:0, group2/block5/conv1/bn/variance/EMA:0, group2/block0/conv2/W:0, group1/block0/conv2/bn/variance/EMA:0, group3/block1/conv2/bn/variance/EMA:0, group2/block5/conv1/W:0, group1/block3/conv1/bn/gamma:0, group2/block2/conv2/W:0, group3/block1/conv2/bn/mean/EMA:0, group2/block5/conv1/bn/mean/EMA:0, group0/block0/conv2/W:0, group2/block2/conv2/bn/gamma:0, group2/block2/conv2/bn/mean/EMA:0, group2/block1/conv2/bn/beta:0, group3/block1/conv2/bn/gamma:0, group2/block2/conv1/bn/beta:0, group3/block2/conv2/bn/beta:0, group3/block2/conv1/bn/mean/EMA:0, group3/block0/conv1/bn/beta:0, group1/block3/conv2/bn/gamma:0, group2/block4/conv1/bn/beta:0, group2/block1/conv1/bn/gamma:0, group0/block2/conv2/bn/beta:0, group3/block1/conv1/bn/mean/EMA:0, group1/block0/conv2/bn/mean/EMA:0, group3/block0/convshortcut/bn/beta:0, group0/block2/conv2/bn/mean/EMA:0, group1/block3/conv1/bn/mean/EMA:0, conv0/bn/beta:0, group3/block2/conv1/bn/gamma:0, group1/block1/conv1/W:0, group0/block1/conv2/W:0, group3/block2/conv2/bn/gamma:0, group3/block0/conv2/bn/gamma:0, group0/block1/conv2/bn/beta:0, group1/block2/conv2/bn/gamma:0, group1/block0/convshortcut/bn/gamma:0, group3/block0/conv2/bn/mean/EMA:0, group1/block2/conv1/W:0, group1/block0/conv1/bn/variance/EMA:0, group1/block1/conv2/bn/beta:0, group2/block2/conv2/bn/beta:0, group3/block0/convshortcut/bn/variance/EMA:0, group0/block2/conv1/bn/beta:0, group1/block3/conv1/W:0, group0/block2/conv1/bn/mean/EMA:0, group2/block3/conv1/bn/beta:0, group0/block0/conv2/bn/mean/EMA:0, group2/block4/conv2/bn/mean/EMA:0, group2/block0/conv1/bn/beta:0, group2/block4/conv2/W:0, group0/block2/conv2/bn/variance/EMA:0, group3/block0/conv1/bn/variance/EMA:0, group1/block2/conv2/bn/variance/EMA:0, group3/block0/conv1/bn/mean/EMA:0, group2/block2/conv1/bn/variance/EMA:0, group2/block0/conv1/bn/mean/EMA:0, group1/block1/conv2/bn/mean/EMA:0, group0/block1/conv2/bn/gamma:0, group2/block3/conv2/W:0, group2/block1/conv2/bn/gamma:0, group0/block0/conv1/bn/mean/EMA:0, group3/block0/convshortcut/bn/gamma:0, group1/block0/conv1/bn/beta:0, group2/block5/conv1/bn/gamma:0, group1/block0/convshortcut/bn/beta:0, group2/block0/convshortcut/W:0, group0/block0/conv2/bn/gamma:0, group0/block0/conv1/bn/gamma:0, group3/block2/conv2/bn/mean/EMA:0, group1/block2/conv1/bn/gamma:0, group3/block1/conv1/bn/beta:0, group3/block0/conv2/W:0, group3/block1/conv1/W:0, group2/block3/conv2/bn/gamma:0, group3/block2/conv1/W:0, group3/block2/conv2/W:0, group1/block2/conv1/bn/beta:0, group2/block3/conv1/bn/mean/EMA:0, group2/block5/conv1/bn/beta:0, group0/block2/conv1/bn/gamma:0, group2/block0/conv2/bn/variance/EMA:0, group3/block1/conv2/bn/beta:0, group3/block2/conv2/bn/variance/EMA:0, group2/block3/conv2/bn/mean/EMA:0, group2/block5/conv2/bn/mean/EMA:0, group2/block3/conv1/bn/gamma:0, group3/block2/conv1/bn/variance/EMA:0, group1/block2/conv1/bn/mean/EMA:0, conv0/bn/gamma:0, group1/block0/convshortcut/bn/mean/EMA:0, group2/block0/conv1/bn/gamma:0, group1/block3/conv2/bn/mean/EMA:0, group2/block2/conv2/bn/variance/EMA:0, group2/block5/conv2/bn/beta:0, group3/block0/convshortcut/bn/mean/EMA:0, group3/block0/conv1/bn/gamma:0, group2/block4/conv1/W:0, group2/block5/conv2/W:0, group2/block3/conv1/bn/variance/EMA:0, group1/block1/conv2/bn/variance/EMA:0, group1/block3/conv1/bn/beta:0, group0/block2/conv1/W:0, group2/block3/conv1/W:0, group2/block4/conv2/bn/beta:0, group2/block0/conv2/bn/mean/EMA:0, group1/block0/convshortcut/bn/variance/EMA:0, group1/block2/conv2/bn/mean/EMA:0, group0/block1/conv1/bn/gamma:0, group2/block2/conv1/bn/mean/EMA:0, group0/block1/conv2/bn/variance/EMA:0, group2/block5/conv2/bn/gamma:0, group0/block2/conv2/W:0, group1/block0/convshortcut/W:0, conv0/bn/mean/EMA:0, group1/block2/conv2/W:0, group1/block0/conv2/W:0, group2/block1/conv1/bn/variance/EMA:0, group0/block2/conv2/bn/gamma:0, conv0/W:0, group0/block1/conv1/bn/mean/EMA:0, group1/block2/conv1/bn/variance/EMA:0, group2/block4/conv1/bn/mean/EMA:0, group2/block4/conv1/bn/gamma:0, group1/block1/conv1/bn/mean/EMA:0, group3/block1/conv1/bn/variance/EMA:0, group0/block1/conv1/bn/beta:0, group1/block0/conv1/bn/gamma:0, group2/block0/convshortcut/bn/beta:0, group2/block1/conv1/W:0, group0/block0/conv2/bn/variance/EMA:0, group0/block2/conv1/bn/variance/EMA:0, group0/block1/conv1/W:0, group1/block3/conv1/bn/variance/EMA:0, group1/block1/conv2/bn/gamma:0, group2/block3/conv2/bn/beta:0, group2/block1/conv2/bn/variance/EMA:0, group3/block0/conv1/W:0, group1/block0/conv2/bn/beta:0, group2/block1/conv2/bn/mean/EMA:0, conv0/bn/variance/EMA:0, group1/block0/conv1/W:0, group1/block3/conv2/W:0\n",
      "\u001b[32m[0107 13:33:59 @sessinit.py:90]\u001b[0m \u001b[5m\u001b[31mWRN\u001b[0m The following variables are in the graph, but not found in the dict: beta1_power:0, beta2_power:0, classify_1/com_11/conv_up/W:0, classify_1/com_11/conv_up/bn/beta:0, classify_1/com_11/conv_up/bn/gamma:0, classify_1/com_11/conv_up/bn/mean/EMA:0, classify_1/com_11/conv_up/bn/variance/EMA:0, classify_1/com_12/conv_up/W:0, classify_1/com_12/conv_up/bn/beta:0, classify_1/com_12/conv_up/bn/gamma:0, classify_1/com_12/conv_up/bn/mean/EMA:0, classify_1/com_12/conv_up/bn/variance/EMA:0, classify_1/com_13/conv_up/W:0, classify_1/com_13/conv_up/bn/beta:0, classify_1/com_13/conv_up/bn/gamma:0, classify_1/com_13/conv_up/bn/mean/EMA:0, classify_1/com_13/conv_up/bn/variance/EMA:0, classify_1/com_141/conv_up/W:0, classify_1/com_141/conv_up/bn/beta:0, classify_1/com_141/conv_up/bn/gamma:0, classify_1/com_141/conv_up/bn/mean/EMA:0, classify_1/com_141/conv_up/bn/variance/EMA:0, classify_1/com_142/conv_up/W:0, classify_1/com_142/conv_up/bn/beta:0, classify_1/com_142/conv_up/bn/gamma:0, classify_1/com_142/conv_up/bn/mean/EMA:0, classify_1/com_142/conv_up/bn/variance/EMA:0, classify_1/com_22/conv_up/W:0, classify_1/com_22/conv_up/bn/beta:0, classify_1/com_22/conv_up/bn/gamma:0, classify_1/com_22/conv_up/bn/mean/EMA:0, classify_1/com_22/conv_up/bn/variance/EMA:0, classify_1/com_24/conv_up/W:0, classify_1/com_24/conv_up/bn/beta:0, classify_1/com_24/conv_up/bn/gamma:0, classify_1/com_24/conv_up/bn/mean/EMA:0, classify_1/com_24/conv_up/bn/variance/EMA:0, classify_1/conv_down11/W:0, classify_1/conv_down11/bn/beta:0, classify_1/conv_down11/bn/gamma:0, classify_1/conv_down11/bn/mean/EMA:0, classify_1/conv_down11/bn/variance/EMA:0, classify_1/conv_down12/W:0, classify_1/conv_down12/bn/beta:0, classify_1/conv_down12/bn/gamma:0, classify_1/conv_down12/bn/mean/EMA:0, classify_1/conv_down12/bn/variance/EMA:0, classify_1/conv_down13/W:0, classify_1/conv_down13/bn/beta:0, classify_1/conv_down13/bn/gamma:0, classify_1/conv_down13/bn/mean/EMA:0, classify_1/conv_down13/bn/variance/EMA:0, classify_1/conv_down22/W:0, classify_1/conv_down22/bn/beta:0, classify_1/conv_down22/bn/gamma:0, classify_1/conv_down22/bn/mean/EMA:0, classify_1/conv_down22/bn/variance/EMA:0, classify_1/conv_down23/W:0, classify_1/conv_down23/bn/beta:0, classify_1/conv_down23/bn/gamma:0, classify_1/conv_down23/bn/mean/EMA:0, classify_1/conv_down23/bn/variance/EMA:0, classify_1/conv_downdown12/W:0, classify_1/conv_downdown12/bn/beta:0, classify_1/conv_downdown12/bn/gamma:0, classify_1/conv_downdown12/bn/mean/EMA:0, classify_1/conv_downdown12/bn/variance/EMA:0, classify_1/conv_downdown13/W:0, classify_1/conv_downdown13/bn/beta:0, classify_1/conv_downdown13/bn/gamma:0, classify_1/conv_downdown13/bn/mean/EMA:0, classify_1/conv_downdown13/bn/variance/EMA:0, classify_1/conv_img12/W:0, classify_1/conv_img12/bn/beta:0, classify_1/conv_img12/bn/gamma:0, classify_1/conv_img12/bn/mean/EMA:0, classify_1/conv_img12/bn/variance/EMA:0, classify_1/conv_img22/W:0, classify_1/conv_img22/bn/beta:0, classify_1/conv_img22/bn/gamma:0, classify_1/conv_img22/bn/mean/EMA:0, classify_1/conv_img22/bn/variance/EMA:0, classify_1/conv_img32/W:0, classify_1/conv_img32/bn/beta:0, classify_1/conv_img32/bn/gamma:0, classify_1/conv_img32/bn/mean/EMA:0, classify_1/conv_img32/bn/variance/EMA:0, classify_1/conv_out/W:0, classify_1/conv_out/b:0, classify_1/conv_straight11/W:0, classify_1/conv_straight11/bn/beta:0, classify_1/conv_straight11/bn/gamma:0, classify_1/conv_straight11/bn/mean/EMA:0, classify_1/conv_straight11/bn/variance/EMA:0, classify_1/conv_straight12/W:0, classify_1/conv_straight12/bn/beta:0, classify_1/conv_straight12/bn/gamma:0, classify_1/conv_straight12/bn/mean/EMA:0, classify_1/conv_straight12/bn/variance/EMA:0, classify_1/conv_straight13/W:0, classify_1/conv_straight13/bn/beta:0, classify_1/conv_straight13/bn/gamma:0, classify_1/conv_straight13/bn/mean/EMA:0, classify_1/conv_straight13/bn/variance/EMA:0, classify_1/conv_straight22/W:0, classify_1/conv_straight22/bn/beta:0, classify_1/conv_straight22/bn/gamma:0, classify_1/conv_straight22/bn/mean/EMA:0, classify_1/conv_straight22/bn/variance/EMA:0, classify_1/conv_straight23/W:0, classify_1/conv_straight23/bn/beta:0, classify_1/conv_straight23/bn/gamma:0, classify_1/conv_straight23/bn/mean/EMA:0, classify_1/conv_straight23/bn/variance/EMA:0, classify_1/conv_straight33/W:0, classify_1/conv_straight33/bn/beta:0, classify_1/conv_straight33/bn/gamma:0, classify_1/conv_straight33/bn/mean/EMA:0, classify_1/conv_straight33/bn/variance/EMA:0, classify_1/groupl11/block0/conv1/W:0, classify_1/groupl11/block0/conv1/bn/beta:0, classify_1/groupl11/block0/conv1/bn/gamma:0, classify_1/groupl11/block0/conv1/bn/mean/EMA:0, classify_1/groupl11/block0/conv1/bn/variance/EMA:0, classify_1/groupl11/block0/conv2/W:0, classify_1/groupl11/block0/conv2/bn/beta:0, classify_1/groupl11/block0/conv2/bn/gamma:0, classify_1/groupl11/block0/conv2/bn/mean/EMA:0, classify_1/groupl11/block0/conv2/bn/variance/EMA:0, classify_1/groupl11/block0/gcb/channel_add_conv_1/W:0, classify_1/groupl11/block0/gcb/channel_add_conv_2/W:0, classify_1/groupl11/block0/gcb/channel_add_layernorm/beta:0, classify_1/groupl11/block0/gcb/channel_add_layernorm/gamma:0, classify_1/groupl11/block0/gcb/spatial_pool_conv/W:0, classify_1/groupl12/block0/conv1/W:0, classify_1/groupl12/block0/conv1/bn/beta:0, classify_1/groupl12/block0/conv1/bn/gamma:0, classify_1/groupl12/block0/conv1/bn/mean/EMA:0, classify_1/groupl12/block0/conv1/bn/variance/EMA:0, classify_1/groupl12/block0/conv2/W:0, classify_1/groupl12/block0/conv2/bn/beta:0, classify_1/groupl12/block0/conv2/bn/gamma:0, classify_1/groupl12/block0/conv2/bn/mean/EMA:0, classify_1/groupl12/block0/conv2/bn/variance/EMA:0, classify_1/groupl12/block0/gcb/channel_add_conv_1/W:0, classify_1/groupl12/block0/gcb/channel_add_conv_2/W:0, classify_1/groupl12/block0/gcb/channel_add_layernorm/beta:0, classify_1/groupl12/block0/gcb/channel_add_layernorm/gamma:0, classify_1/groupl12/block0/gcb/spatial_pool_conv/W:0, classify_1/groupl13/block0/conv1/W:0, classify_1/groupl13/block0/conv1/bn/beta:0, classify_1/groupl13/block0/conv1/bn/gamma:0, classify_1/groupl13/block0/conv1/bn/mean/EMA:0, classify_1/groupl13/block0/conv1/bn/variance/EMA:0, classify_1/groupl13/block0/conv2/W:0, classify_1/groupl13/block0/conv2/bn/beta:0, classify_1/groupl13/block0/conv2/bn/gamma:0, classify_1/groupl13/block0/conv2/bn/mean/EMA:0, classify_1/groupl13/block0/conv2/bn/variance/EMA:0, classify_1/groupl13/block0/gcb/channel_add_conv_1/W:0, classify_1/groupl13/block0/gcb/channel_add_conv_2/W:0, classify_1/groupl13/block0/gcb/channel_add_layernorm/beta:0, classify_1/groupl13/block0/gcb/channel_add_layernorm/gamma:0, classify_1/groupl13/block0/gcb/spatial_pool_conv/W:0, classify_1/groupl22/block0/conv1/W:0, classify_1/groupl22/block0/conv1/bn/beta:0, classify_1/groupl22/block0/conv1/bn/gamma:0, classify_1/groupl22/block0/conv1/bn/mean/EMA:0, classify_1/groupl22/block0/conv1/bn/variance/EMA:0, classify_1/groupl22/block0/conv2/W:0, classify_1/groupl22/block0/conv2/bn/beta:0, classify_1/groupl22/block0/conv2/bn/gamma:0, classify_1/groupl22/block0/conv2/bn/mean/EMA:0, classify_1/groupl22/block0/conv2/bn/variance/EMA:0, classify_1/groupl22/block0/gcb/channel_add_conv_1/W:0, classify_1/groupl22/block0/gcb/channel_add_conv_2/W:0, classify_1/groupl22/block0/gcb/channel_add_layernorm/beta:0, classify_1/groupl22/block0/gcb/channel_add_layernorm/gamma:0, classify_1/groupl22/block0/gcb/spatial_pool_conv/W:0, classify_1/groupl23/block0/conv1/W:0, classify_1/groupl23/block0/conv1/bn/beta:0, classify_1/groupl23/block0/conv1/bn/gamma:0, classify_1/groupl23/block0/conv1/bn/mean/EMA:0, classify_1/groupl23/block0/conv1/bn/variance/EMA:0, classify_1/groupl23/block0/conv2/W:0, classify_1/groupl23/block0/conv2/bn/beta:0, classify_1/groupl23/block0/conv2/bn/gamma:0, classify_1/groupl23/block0/conv2/bn/mean/EMA:0, classify_1/groupl23/block0/conv2/bn/variance/EMA:0, classify_1/groupl23/block0/gcb/channel_add_conv_1/W:0, classify_1/groupl23/block0/gcb/channel_add_conv_2/W:0, classify_1/groupl23/block0/gcb/channel_add_layernorm/beta:0, classify_1/groupl23/block0/gcb/channel_add_layernorm/gamma:0, classify_1/groupl23/block0/gcb/spatial_pool_conv/W:0, classify_1/groupl33/block0/conv1/W:0, classify_1/groupl33/block0/conv1/bn/beta:0, classify_1/groupl33/block0/conv1/bn/gamma:0, classify_1/groupl33/block0/conv1/bn/mean/EMA:0, classify_1/groupl33/block0/conv1/bn/variance/EMA:0, classify_1/groupl33/block0/conv2/W:0, classify_1/groupl33/block0/conv2/bn/beta:0, classify_1/groupl33/block0/conv2/bn/gamma:0, classify_1/groupl33/block0/conv2/bn/mean/EMA:0, classify_1/groupl33/block0/conv2/bn/variance/EMA:0, classify_1/groupl33/block0/gcb/channel_add_conv_1/W:0, classify_1/groupl33/block0/gcb/channel_add_conv_2/W:0, classify_1/groupl33/block0/gcb/channel_add_layernorm/beta:0, classify_1/groupl33/block0/gcb/channel_add_layernorm/gamma:0, classify_1/groupl33/block0/gcb/spatial_pool_conv/W:0, classify_2/com_11/conv_up/W:0, classify_2/com_11/conv_up/bn/beta:0, classify_2/com_11/conv_up/bn/gamma:0, classify_2/com_11/conv_up/bn/mean/EMA:0, classify_2/com_11/conv_up/bn/variance/EMA:0, classify_2/com_12/conv_up/W:0, classify_2/com_12/conv_up/bn/beta:0, classify_2/com_12/conv_up/bn/gamma:0, classify_2/com_12/conv_up/bn/mean/EMA:0, classify_2/com_12/conv_up/bn/variance/EMA:0, classify_2/com_13/conv_up/W:0, classify_2/com_13/conv_up/bn/beta:0, classify_2/com_13/conv_up/bn/gamma:0, classify_2/com_13/conv_up/bn/mean/EMA:0, classify_2/com_13/conv_up/bn/variance/EMA:0, classify_2/com_141/conv_up/W:0, classify_2/com_141/conv_up/bn/beta:0, classify_2/com_141/conv_up/bn/gamma:0, classify_2/com_141/conv_up/bn/mean/EMA:0, classify_2/com_141/conv_up/bn/variance/EMA:0, classify_2/com_142/conv_up/W:0, classify_2/com_142/conv_up/bn/beta:0, classify_2/com_142/conv_up/bn/gamma:0, classify_2/com_142/conv_up/bn/mean/EMA:0, classify_2/com_142/conv_up/bn/variance/EMA:0, classify_2/com_22/conv_up/W:0, classify_2/com_22/conv_up/bn/beta:0, classify_2/com_22/conv_up/bn/gamma:0, classify_2/com_22/conv_up/bn/mean/EMA:0, classify_2/com_22/conv_up/bn/variance/EMA:0, classify_2/com_24/conv_up/W:0, classify_2/com_24/conv_up/bn/beta:0, classify_2/com_24/conv_up/bn/gamma:0, classify_2/com_24/conv_up/bn/mean/EMA:0, classify_2/com_24/conv_up/bn/variance/EMA:0, classify_2/conv_down11/W:0, classify_2/conv_down11/bn/beta:0, classify_2/conv_down11/bn/gamma:0, classify_2/conv_down11/bn/mean/EMA:0, classify_2/conv_down11/bn/variance/EMA:0, classify_2/conv_down12/W:0, classify_2/conv_down12/bn/beta:0, classify_2/conv_down12/bn/gamma:0, classify_2/conv_down12/bn/mean/EMA:0, classify_2/conv_down12/bn/variance/EMA:0, classify_2/conv_down13/W:0, classify_2/conv_down13/bn/beta:0, classify_2/conv_down13/bn/gamma:0, classify_2/conv_down13/bn/mean/EMA:0, classify_2/conv_down13/bn/variance/EMA:0, classify_2/conv_down22/W:0, classify_2/conv_down22/bn/beta:0, classify_2/conv_down22/bn/gamma:0, classify_2/conv_down22/bn/mean/EMA:0, classify_2/conv_down22/bn/variance/EMA:0, classify_2/conv_down23/W:0, classify_2/conv_down23/bn/beta:0, classify_2/conv_down23/bn/gamma:0, classify_2/conv_down23/bn/mean/EMA:0, classify_2/conv_down23/bn/variance/EMA:0, classify_2/conv_downdown12/W:0, classify_2/conv_downdown12/bn/beta:0, classify_2/conv_downdown12/bn/gamma:0, classify_2/conv_downdown12/bn/mean/EMA:0, classify_2/conv_downdown12/bn/variance/EMA:0, classify_2/conv_downdown13/W:0, classify_2/conv_downdown13/bn/beta:0, classify_2/conv_downdown13/bn/gamma:0, classify_2/conv_downdown13/bn/mean/EMA:0, classify_2/conv_downdown13/bn/variance/EMA:0, classify_2/conv_img12/W:0, classify_2/conv_img12/bn/beta:0, classify_2/conv_img12/bn/gamma:0, classify_2/conv_img12/bn/mean/EMA:0, classify_2/conv_img12/bn/variance/EMA:0, classify_2/conv_img22/W:0, classify_2/conv_img22/bn/beta:0, classify_2/conv_img22/bn/gamma:0, classify_2/conv_img22/bn/mean/EMA:0, classify_2/conv_img22/bn/variance/EMA:0, classify_2/conv_img32/W:0, classify_2/conv_img32/bn/beta:0, classify_2/conv_img32/bn/gamma:0, classify_2/conv_img32/bn/mean/EMA:0, classify_2/conv_img32/bn/variance/EMA:0, classify_2/conv_out/W:0, classify_2/conv_out/b:0, classify_2/conv_straight11/W:0, classify_2/conv_straight11/bn/beta:0, classify_2/conv_straight11/bn/gamma:0, classify_2/conv_straight11/bn/mean/EMA:0, classify_2/conv_straight11/bn/variance/EMA:0, classify_2/conv_straight12/W:0, classify_2/conv_straight12/bn/beta:0, classify_2/conv_straight12/bn/gamma:0, classify_2/conv_straight12/bn/mean/EMA:0, classify_2/conv_straight12/bn/variance/EMA:0, classify_2/conv_straight13/W:0, classify_2/conv_straight13/bn/beta:0, classify_2/conv_straight13/bn/gamma:0, classify_2/conv_straight13/bn/mean/EMA:0, classify_2/conv_straight13/bn/variance/EMA:0, classify_2/conv_straight22/W:0, classify_2/conv_straight22/bn/beta:0, classify_2/conv_straight22/bn/gamma:0, classify_2/conv_straight22/bn/mean/EMA:0, classify_2/conv_straight22/bn/variance/EMA:0, classify_2/conv_straight23/W:0, classify_2/conv_straight23/bn/beta:0, classify_2/conv_straight23/bn/gamma:0, classify_2/conv_straight23/bn/mean/EMA:0, classify_2/conv_straight23/bn/variance/EMA:0, classify_2/conv_straight33/W:0, classify_2/conv_straight33/bn/beta:0, classify_2/conv_straight33/bn/gamma:0, classify_2/conv_straight33/bn/mean/EMA:0, classify_2/conv_straight33/bn/variance/EMA:0, classify_2/groupl11/block0/conv1/W:0, classify_2/groupl11/block0/conv1/bn/beta:0, classify_2/groupl11/block0/conv1/bn/gamma:0, classify_2/groupl11/block0/conv1/bn/mean/EMA:0, classify_2/groupl11/block0/conv1/bn/variance/EMA:0, classify_2/groupl11/block0/conv2/W:0, classify_2/groupl11/block0/conv2/bn/beta:0, classify_2/groupl11/block0/conv2/bn/gamma:0, classify_2/groupl11/block0/conv2/bn/mean/EMA:0, classify_2/groupl11/block0/conv2/bn/variance/EMA:0, classify_2/groupl11/block0/gcb/channel_add_conv_1/W:0, classify_2/groupl11/block0/gcb/channel_add_conv_2/W:0, classify_2/groupl11/block0/gcb/channel_add_layernorm/beta:0, classify_2/groupl11/block0/gcb/channel_add_layernorm/gamma:0, classify_2/groupl11/block0/gcb/spatial_pool_conv/W:0, classify_2/groupl12/block0/conv1/W:0, classify_2/groupl12/block0/conv1/bn/beta:0, classify_2/groupl12/block0/conv1/bn/gamma:0, classify_2/groupl12/block0/conv1/bn/mean/EMA:0, classify_2/groupl12/block0/conv1/bn/variance/EMA:0, classify_2/groupl12/block0/conv2/W:0, classify_2/groupl12/block0/conv2/bn/beta:0, classify_2/groupl12/block0/conv2/bn/gamma:0, classify_2/groupl12/block0/conv2/bn/mean/EMA:0, classify_2/groupl12/block0/conv2/bn/variance/EMA:0, classify_2/groupl12/block0/gcb/channel_add_conv_1/W:0, classify_2/groupl12/block0/gcb/channel_add_conv_2/W:0, classify_2/groupl12/block0/gcb/channel_add_layernorm/beta:0, classify_2/groupl12/block0/gcb/channel_add_layernorm/gamma:0, classify_2/groupl12/block0/gcb/spatial_pool_conv/W:0, classify_2/groupl13/block0/conv1/W:0, classify_2/groupl13/block0/conv1/bn/beta:0, classify_2/groupl13/block0/conv1/bn/gamma:0, classify_2/groupl13/block0/conv1/bn/mean/EMA:0, classify_2/groupl13/block0/conv1/bn/variance/EMA:0, classify_2/groupl13/block0/conv2/W:0, classify_2/groupl13/block0/conv2/bn/beta:0, classify_2/groupl13/block0/conv2/bn/gamma:0, classify_2/groupl13/block0/conv2/bn/mean/EMA:0, classify_2/groupl13/block0/conv2/bn/variance/EMA:0, classify_2/groupl13/block0/gcb/channel_add_conv_1/W:0, classify_2/groupl13/block0/gcb/channel_add_conv_2/W:0, classify_2/groupl13/block0/gcb/channel_add_layernorm/beta:0, classify_2/groupl13/block0/gcb/channel_add_layernorm/gamma:0, classify_2/groupl13/block0/gcb/spatial_pool_conv/W:0, classify_2/groupl22/block0/conv1/W:0, classify_2/groupl22/block0/conv1/bn/beta:0, classify_2/groupl22/block0/conv1/bn/gamma:0, classify_2/groupl22/block0/conv1/bn/mean/EMA:0, classify_2/groupl22/block0/conv1/bn/variance/EMA:0, classify_2/groupl22/block0/conv2/W:0, classify_2/groupl22/block0/conv2/bn/beta:0, classify_2/groupl22/block0/conv2/bn/gamma:0, classify_2/groupl22/block0/conv2/bn/mean/EMA:0, classify_2/groupl22/block0/conv2/bn/variance/EMA:0, classify_2/groupl22/block0/gcb/channel_add_conv_1/W:0, classify_2/groupl22/block0/gcb/channel_add_conv_2/W:0, classify_2/groupl22/block0/gcb/channel_add_layernorm/beta:0, classify_2/groupl22/block0/gcb/channel_add_layernorm/gamma:0, classify_2/groupl22/block0/gcb/spatial_pool_conv/W:0, classify_2/groupl23/block0/conv1/W:0, classify_2/groupl23/block0/conv1/bn/beta:0, classify_2/groupl23/block0/conv1/bn/gamma:0, classify_2/groupl23/block0/conv1/bn/mean/EMA:0, classify_2/groupl23/block0/conv1/bn/variance/EMA:0, classify_2/groupl23/block0/conv2/W:0, classify_2/groupl23/block0/conv2/bn/beta:0, classify_2/groupl23/block0/conv2/bn/gamma:0, classify_2/groupl23/block0/conv2/bn/mean/EMA:0, classify_2/groupl23/block0/conv2/bn/variance/EMA:0, classify_2/groupl23/block0/gcb/channel_add_conv_1/W:0, classify_2/groupl23/block0/gcb/channel_add_conv_2/W:0, classify_2/groupl23/block0/gcb/channel_add_layernorm/beta:0, classify_2/groupl23/block0/gcb/channel_add_layernorm/gamma:0, classify_2/groupl23/block0/gcb/spatial_pool_conv/W:0, classify_2/groupl33/block0/conv1/W:0, classify_2/groupl33/block0/conv1/bn/beta:0, classify_2/groupl33/block0/conv1/bn/gamma:0, classify_2/groupl33/block0/conv1/bn/mean/EMA:0, classify_2/groupl33/block0/conv1/bn/variance/EMA:0, classify_2/groupl33/block0/conv2/W:0, classify_2/groupl33/block0/conv2/bn/beta:0, classify_2/groupl33/block0/conv2/bn/gamma:0, classify_2/groupl33/block0/conv2/bn/mean/EMA:0, classify_2/groupl33/block0/conv2/bn/variance/EMA:0, classify_2/groupl33/block0/gcb/channel_add_conv_1/W:0, classify_2/groupl33/block0/gcb/channel_add_conv_2/W:0, classify_2/groupl33/block0/gcb/channel_add_layernorm/beta:0, classify_2/groupl33/block0/gcb/channel_add_layernorm/gamma:0, classify_2/groupl33/block0/gcb/spatial_pool_conv/W:0, conv_out_r/W:0, conv_out_r/b:0, conv_out_type/W:0, conv_out_type/b:0, cov_10x_down/W:0, cov_10x_down/bn/beta:0, cov_10x_down/bn/gamma:0, cov_10x_down/bn/mean/EMA:0, cov_10x_down/bn/variance/EMA:0, cov_10x_straight/W:0, cov_10x_straight/bn/beta:0, cov_10x_straight/bn/gamma:0, cov_10x_straight/bn/mean/EMA:0, cov_10x_straight/bn/variance/EMA:0, cov_10x_up/W:0, cov_10x_up/bn/beta:0, cov_10x_up/bn/gamma:0, cov_10x_up/bn/mean/EMA:0, cov_10x_up/bn/variance/EMA:0, cov_40x_down/W:0, cov_40x_down/bn/beta:0, cov_40x_down/bn/gamma:0, cov_40x_down/bn/mean/EMA:0, cov_40x_down/bn/variance/EMA:0, cov_40x_straight/W:0, cov_40x_straight/bn/beta:0, cov_40x_straight/bn/gamma:0, cov_40x_straight/bn/mean/EMA:0, cov_40x_straight/bn/variance/EMA:0, cov_40x_up/W:0, cov_40x_up/bn/beta:0, cov_40x_up/bn/gamma:0, cov_40x_up/bn/mean/EMA:0, cov_40x_up/bn/variance/EMA:0, en_10x/conv_1/W:0, en_10x/conv_1/bn/beta:0, en_10x/conv_1/bn/gamma:0, en_10x/conv_1/bn/mean/EMA:0, en_10x/conv_1/bn/variance/EMA:0, en_10x/conv_2/W:0, en_10x/conv_2/bn/beta:0, en_10x/conv_2/bn/gamma:0, en_10x/conv_2/bn/mean/EMA:0, en_10x/conv_2/bn/variance/EMA:0, en_10x/gcb/channel_add_conv_1/W:0, en_10x/gcb/channel_add_conv_2/W:0, en_10x/gcb/channel_add_layernorm/beta:0, en_10x/gcb/channel_add_layernorm/gamma:0, en_10x/gcb/spatial_pool_conv/W:0, en_40x/conv_1/W:0, en_40x/conv_1/bn/beta:0, en_40x/conv_1/bn/gamma:0, en_40x/conv_1/bn/mean/EMA:0, en_40x/conv_1/bn/variance/EMA:0, en_40x/conv_2/W:0, en_40x/conv_2/bn/beta:0, en_40x/conv_2/bn/gamma:0, en_40x/conv_2/bn/mean/EMA:0, en_40x/conv_2/bn/variance/EMA:0, en_40x/gcb/channel_add_conv_1/W:0, en_40x/gcb/channel_add_conv_2/W:0, en_40x/gcb/channel_add_layernorm/beta:0, en_40x/gcb/channel_add_layernorm/gamma:0, en_40x/gcb/spatial_pool_conv/W:0, global_step:0, group0/block0/gcb/channel_add_conv_1/W:0, group0/block0/gcb/channel_add_conv_2/W:0, group0/block0/gcb/channel_add_layernorm/beta:0, group0/block0/gcb/channel_add_layernorm/gamma:0, group0/block0/gcb/spatial_pool_conv/W:0, group0/block1/gcb/channel_add_conv_1/W:0, group0/block1/gcb/channel_add_conv_2/W:0, group0/block1/gcb/channel_add_layernorm/beta:0, group0/block1/gcb/channel_add_layernorm/gamma:0, group0/block1/gcb/spatial_pool_conv/W:0, group0/block2/gcb/channel_add_conv_1/W:0, group0/block2/gcb/channel_add_conv_2/W:0, group0/block2/gcb/channel_add_layernorm/beta:0, group0/block2/gcb/channel_add_layernorm/gamma:0, group0/block2/gcb/spatial_pool_conv/W:0, group1/block0/gcb/channel_add_conv_1/W:0, group1/block0/gcb/channel_add_conv_2/W:0, group1/block0/gcb/channel_add_layernorm/beta:0, group1/block0/gcb/channel_add_layernorm/gamma:0, group1/block0/gcb/spatial_pool_conv/W:0, group1/block1/gcb/channel_add_conv_1/W:0, group1/block1/gcb/channel_add_conv_2/W:0, group1/block1/gcb/channel_add_layernorm/beta:0, group1/block1/gcb/channel_add_layernorm/gamma:0, group1/block1/gcb/spatial_pool_conv/W:0, group1/block2/gcb/channel_add_conv_1/W:0, group1/block2/gcb/channel_add_conv_2/W:0, group1/block2/gcb/channel_add_layernorm/beta:0, group1/block2/gcb/channel_add_layernorm/gamma:0, group1/block2/gcb/spatial_pool_conv/W:0, group1/block3/gcb/channel_add_conv_1/W:0, group1/block3/gcb/channel_add_conv_2/W:0, group1/block3/gcb/channel_add_layernorm/beta:0, group1/block3/gcb/channel_add_layernorm/gamma:0, group1/block3/gcb/spatial_pool_conv/W:0, group2/block0/gcb/channel_add_conv_1/W:0, group2/block0/gcb/channel_add_conv_2/W:0, group2/block0/gcb/channel_add_layernorm/beta:0, group2/block0/gcb/channel_add_layernorm/gamma:0, group2/block0/gcb/spatial_pool_conv/W:0, group2/block1/gcb/channel_add_conv_1/W:0, group2/block1/gcb/channel_add_conv_2/W:0, group2/block1/gcb/channel_add_layernorm/beta:0, group2/block1/gcb/channel_add_layernorm/gamma:0, group2/block1/gcb/spatial_pool_conv/W:0, group2/block2/gcb/channel_add_conv_1/W:0, group2/block2/gcb/channel_add_conv_2/W:0, group2/block2/gcb/channel_add_layernorm/beta:0, group2/block2/gcb/channel_add_layernorm/gamma:0, group2/block2/gcb/spatial_pool_conv/W:0, group2/block3/gcb/channel_add_conv_1/W:0, group2/block3/gcb/channel_add_conv_2/W:0, group2/block3/gcb/channel_add_layernorm/beta:0, group2/block3/gcb/channel_add_layernorm/gamma:0, group2/block3/gcb/spatial_pool_conv/W:0, group2/block4/gcb/channel_add_conv_1/W:0, group2/block4/gcb/channel_add_conv_2/W:0, group2/block4/gcb/channel_add_layernorm/beta:0, group2/block4/gcb/channel_add_layernorm/gamma:0, group2/block4/gcb/spatial_pool_conv/W:0, group2/block5/gcb/channel_add_conv_1/W:0, group2/block5/gcb/channel_add_conv_2/W:0, group2/block5/gcb/channel_add_layernorm/beta:0, group2/block5/gcb/channel_add_layernorm/gamma:0, group2/block5/gcb/spatial_pool_conv/W:0, group3/block0/gcb/channel_add_conv_1/W:0, group3/block0/gcb/channel_add_conv_2/W:0, group3/block0/gcb/channel_add_layernorm/beta:0, group3/block0/gcb/channel_add_layernorm/gamma:0, group3/block0/gcb/spatial_pool_conv/W:0, group3/block1/gcb/channel_add_conv_1/W:0, group3/block1/gcb/channel_add_conv_2/W:0, group3/block1/gcb/channel_add_layernorm/beta:0, group3/block1/gcb/channel_add_layernorm/gamma:0, group3/block1/gcb/spatial_pool_conv/W:0, group3/block2/gcb/channel_add_conv_1/W:0, group3/block2/gcb/channel_add_conv_2/W:0, group3/block2/gcb/channel_add_layernorm/beta:0, group3/block2/gcb/channel_add_layernorm/gamma:0, group3/block2/gcb/spatial_pool_conv/W:0, head_fusion_classify_1/conv_mix/W:0, head_fusion_classify_1/conv_mix/bn/beta:0, head_fusion_classify_1/conv_mix/bn/gamma:0, head_fusion_classify_1/conv_mix/bn/mean/EMA:0, head_fusion_classify_1/conv_mix/bn/variance/EMA:0, head_fusion_classify_2/conv_mix/W:0, head_fusion_classify_2/conv_mix/bn/beta:0, head_fusion_classify_2/conv_mix/bn/gamma:0, head_fusion_classify_2/conv_mix/bn/mean/EMA:0, head_fusion_classify_2/conv_mix/bn/variance/EMA:0, learning_rate:0, param1:0, param2:0, param3:0, param4:0, param5:0, u1b/conv_1/W:0, u1b/conv_1/bn/beta:0, u1b/conv_1/bn/gamma:0, u1b/conv_1/bn/mean/EMA:0, u1b/conv_1/bn/variance/EMA:0, u1b/conv_2/W:0, u1b/conv_2/bn/beta:0, u1b/conv_2/bn/gamma:0, u1b/conv_2/bn/mean/EMA:0, u1b/conv_2/bn/variance/EMA:0, u2b/conv_1/W:0, u2b/conv_1/bn/beta:0, u2b/conv_1/bn/gamma:0, u2b/conv_1/bn/mean/EMA:0, u2b/conv_1/bn/variance/EMA:0, u2b/conv_2/W:0, u2b/conv_2/bn/beta:0, u2b/conv_2/bn/gamma:0, u2b/conv_2/bn/mean/EMA:0, u2b/conv_2/bn/variance/EMA:0, u3b/conv_1/W:0, u3b/conv_1/bn/beta:0, u3b/conv_1/bn/gamma:0, u3b/conv_1/bn/mean/EMA:0, u3b/conv_1/bn/variance/EMA:0, u3b/conv_2/W:0, u3b/conv_2/bn/beta:0, u3b/conv_2/bn/gamma:0, u3b/conv_2/bn/mean/EMA:0, u3b/conv_2/bn/variance/EMA:0\n"
     ]
    },
    {
     "name": "stdout",
     "output_type": "stream",
     "text": [
      "\u001b[32m[0107 13:33:59 @sessinit.py:90]\u001b[0m \u001b[5m\u001b[31mWRN\u001b[0m The following variables are in the dict, but not found in the graph: linear/W:0, linear/b:0\n",
      "\u001b[32m[0107 13:33:59 @sessinit.py:220]\u001b[0m Restoring from dict ...\n",
      "\u001b[32m[0107 13:35:05 @base.py:240]\u001b[0m Graph Finalized.\n",
      "\u001b[32m[0107 13:35:05 @concurrency.py:37]\u001b[0m Starting EnqueueThread QueueInput/input_queue ...\n",
      "\u001b[32m[0107 13:35:10 @concurrency.py:37]\u001b[0m Starting EnqueueThread DataParallelInferenceRunner/QueueInput/input_queue ...\n",
      "\u001b[32m[0107 13:35:10 @inference_runner.py:101]\u001b[0m [InferenceRunner] Will eval 50 iterations\n",
      "\u001b[32m[0107 13:35:10 @base.py:272]\u001b[0m Start Epoch 1 ...\n"
     ]
    },
    {
     "name": "stderr",
     "output_type": "stream",
     "text": [
      "\r",
      "  0%|          |0/350[00:00<?,?it/s]"
     ]
    },
    {
     "name": "stdout",
     "output_type": "stream",
     "text": [
      "\u001b[32m[0107 13:35:10 @input_source.py:551]\u001b[0m Pre-filling StagingArea ...\n",
      "\u001b[32m[0107 13:35:10 @input_source.py:555]\u001b[0m 1 element was put into StagingArea on each tower.\n"
     ]
    },
    {
     "name": "stderr",
     "output_type": "stream",
     "text": [
      "100%|##########|350/350[04:23<00:00, 1.33it/s]"
     ]
    },
    {
     "name": "stdout",
     "output_type": "stream",
     "text": [
      "\u001b[32m[0107 13:39:33 @base.py:282]\u001b[0m Epoch 1 (global_step 350) finished, time:4 minutes 23 seconds.\n"
     ]
    },
    {
     "name": "stderr",
     "output_type": "stream",
     "text": [
      "\n"
     ]
    },
    {
     "name": "stdout",
     "output_type": "stream",
     "text": [
      "\u001b[32m[0107 13:39:36 @saver.py:77]\u001b[0m Model saved to ./logs//High_CCRCC//hcnet_mix_dist_v/00/model-350.\n"
     ]
    },
    {
     "name": "stderr",
     "output_type": "stream",
     "text": [
      "100%|##########|50/50[00:27<00:00, 1.82it/s]\n"
     ]
    },
    {
     "name": "stdout",
     "output_type": "stream",
     "text": [
      "\u001b[32m[0107 13:40:08 @saver.py:159]\u001b[0m Model at global_step=350 with maximum valid_dice=0.79624 saved.\n",
      "\u001b[32m[0107 13:40:08 @monitor.py:459]\u001b[0m DataParallelInferenceRunner/QueueInput/queue_size: 50\n",
      "\u001b[32m[0107 13:40:08 @monitor.py:459]\u001b[0m QueueInput/queue_size: 49.573\n",
      "\u001b[32m[0107 13:40:08 @monitor.py:459]\u001b[0m learning_rate: 0.0001\n",
      "\u001b[32m[0107 13:40:08 @monitor.py:459]\u001b[0m loss-ce: 0.22872\n",
      "\u001b[32m[0107 13:40:08 @monitor.py:459]\u001b[0m loss-ce-12v3: 0.20103\n",
      "\u001b[32m[0107 13:40:08 @monitor.py:459]\u001b[0m loss-ce-1v23: 0.18197\n",
      "\u001b[32m[0107 13:40:08 @monitor.py:459]\u001b[0m loss-dice: 3.2551\n",
      "\u001b[32m[0107 13:40:08 @monitor.py:459]\u001b[0m loss-dice-12v3: 2.4499\n",
      "\u001b[32m[0107 13:40:08 @monitor.py:459]\u001b[0m loss-dice-1v23: 2.2132\n",
      "\u001b[32m[0107 13:40:08 @monitor.py:459]\u001b[0m loss-reg-mae: 0.077456\n",
      "\u001b[32m[0107 13:40:08 @monitor.py:459]\u001b[0m valid_acc: 0.96486\n",
      "\u001b[32m[0107 13:40:08 @monitor.py:459]\u001b[0m valid_dice: 0.79624\n",
      "\u001b[32m[0107 13:40:08 @monitor.py:459]\u001b[0m valid_dice_Endothelium: 0.4128\n",
      "\u001b[32m[0107 13:40:08 @monitor.py:459]\u001b[0m valid_dice_Grade1: 0.62172\n",
      "\u001b[32m[0107 13:40:08 @monitor.py:459]\u001b[0m valid_dice_Grade2: 0.0074945\n",
      "\u001b[32m[0107 13:40:08 @monitor.py:459]\u001b[0m valid_dice_Grade3: 0.055755\n",
      "\u001b[32m[0107 13:40:08 @monitor.py:459]\u001b[0m valid_mae: 0.09271\n",
      "\u001b[32m[0107 13:40:08 @monitor.py:459]\u001b[0m valid_mean_dice: 0.27444\n",
      "\u001b[32m[0107 13:40:08 @monitor.py:459]\u001b[0m valid_ssim: 0.26703\n",
      "\u001b[32m[0107 13:40:08 @group.py:48]\u001b[0m Callbacks took 34.604 sec in total. DataParallelInferenceRunner: 31.9 seconds\n",
      "\u001b[32m[0107 13:40:08 @base.py:272]\u001b[0m Start Epoch 2 ...\n"
     ]
    },
    {
     "name": "stderr",
     "output_type": "stream",
     "text": [
      "100%|##########|350/350[03:27<00:00, 1.69it/s]"
     ]
    },
    {
     "name": "stdout",
     "output_type": "stream",
     "text": [
      "\u001b[32m[0107 13:43:35 @base.py:282]\u001b[0m Epoch 2 (global_step 700) finished, time:3 minutes 27 seconds.\n"
     ]
    },
    {
     "name": "stderr",
     "output_type": "stream",
     "text": [
      "\n"
     ]
    },
    {
     "name": "stdout",
     "output_type": "stream",
     "text": [
      "\u001b[32m[0107 13:43:36 @saver.py:77]\u001b[0m Model saved to ./logs//High_CCRCC//hcnet_mix_dist_v/00/model-700.\n"
     ]
    },
    {
     "name": "stderr",
     "output_type": "stream",
     "text": [
      "100%|##########|50/50[00:12<00:00, 4.04it/s]\n"
     ]
    },
    {
     "name": "stdout",
     "output_type": "stream",
     "text": [
      "\u001b[32m[0107 13:43:54 @saver.py:159]\u001b[0m Model at global_step=700 with maximum valid_dice=0.80012 saved.\n",
      "\u001b[32m[0107 13:43:54 @monitor.py:459]\u001b[0m DataParallelInferenceRunner/QueueInput/queue_size: 49.67\n",
      "\u001b[32m[0107 13:43:54 @monitor.py:459]\u001b[0m QueueInput/queue_size: 49.874\n",
      "\u001b[32m[0107 13:43:54 @monitor.py:459]\u001b[0m learning_rate: 0.0001\n",
      "\u001b[32m[0107 13:43:54 @monitor.py:459]\u001b[0m loss-ce: 0.19457\n",
      "\u001b[32m[0107 13:43:54 @monitor.py:459]\u001b[0m loss-ce-12v3: 0.16525\n",
      "\u001b[32m[0107 13:43:54 @monitor.py:459]\u001b[0m loss-ce-1v23: 0.16249\n",
      "\u001b[32m[0107 13:43:54 @monitor.py:459]\u001b[0m loss-dice: 3.0948\n",
      "\u001b[32m[0107 13:43:54 @monitor.py:459]\u001b[0m loss-dice-12v3: 2.267\n",
      "\u001b[32m[0107 13:43:54 @monitor.py:459]\u001b[0m loss-dice-1v23: 2.0487\n",
      "\u001b[32m[0107 13:43:54 @monitor.py:459]\u001b[0m loss-reg-mae: 1.2338\n",
      "\u001b[32m[0107 13:43:54 @monitor.py:459]\u001b[0m valid_acc: 0.96716\n",
      "\u001b[32m[0107 13:43:54 @monitor.py:459]\u001b[0m valid_dice: 0.80012\n",
      "\u001b[32m[0107 13:43:54 @monitor.py:459]\u001b[0m valid_dice_Endothelium: 0.47819\n",
      "\u001b[32m[0107 13:43:54 @monitor.py:459]\u001b[0m valid_dice_Grade1: 0.62886\n",
      "\u001b[32m[0107 13:43:54 @monitor.py:459]\u001b[0m valid_dice_Grade2: 0.0012101\n",
      "\u001b[32m[0107 13:43:54 @monitor.py:459]\u001b[0m valid_dice_Grade3: 0.15242\n",
      "\u001b[32m[0107 13:43:54 @monitor.py:459]\u001b[0m valid_mae: 0.066056\n",
      "\u001b[32m[0107 13:43:54 @monitor.py:459]\u001b[0m valid_mean_dice: 0.31517\n",
      "\u001b[32m[0107 13:43:54 @monitor.py:459]\u001b[0m valid_ssim: 0.50552\n",
      "\u001b[32m[0107 13:43:54 @group.py:48]\u001b[0m Callbacks took 18.786 sec in total. DataParallelInferenceRunner: 17.3 seconds\n",
      "\u001b[32m[0107 13:43:54 @base.py:272]\u001b[0m Start Epoch 3 ...\n"
     ]
    },
    {
     "name": "stderr",
     "output_type": "stream",
     "text": [
      "100%|##########|350/350[03:27<00:00, 1.69it/s]"
     ]
    },
    {
     "name": "stdout",
     "output_type": "stream",
     "text": [
      "\u001b[32m[0107 13:47:21 @base.py:282]\u001b[0m Epoch 3 (global_step 1050) finished, time:3 minutes 27 seconds.\n"
     ]
    },
    {
     "name": "stderr",
     "output_type": "stream",
     "text": [
      "\n"
     ]
    },
    {
     "name": "stdout",
     "output_type": "stream",
     "text": [
      "\u001b[32m[0107 13:47:22 @saver.py:77]\u001b[0m Model saved to ./logs//High_CCRCC//hcnet_mix_dist_v/00/model-1050.\n"
     ]
    },
    {
     "name": "stderr",
     "output_type": "stream",
     "text": [
      "100%|##########|50/50[00:12<00:00, 4.03it/s]\n"
     ]
    },
    {
     "name": "stdout",
     "output_type": "stream",
     "text": [
      "\u001b[32m[0107 13:47:39 @saver.py:159]\u001b[0m Model at global_step=1050 with maximum valid_dice=0.82004 saved.\n",
      "\u001b[32m[0107 13:47:39 @monitor.py:459]\u001b[0m DataParallelInferenceRunner/QueueInput/queue_size: 49.863\n",
      "\u001b[32m[0107 13:47:39 @monitor.py:459]\u001b[0m QueueInput/queue_size: 49.937\n",
      "\u001b[32m[0107 13:47:39 @monitor.py:459]\u001b[0m learning_rate: 0.0001\n",
      "\u001b[32m[0107 13:47:39 @monitor.py:459]\u001b[0m loss-ce: 0.168\n",
      "\u001b[32m[0107 13:47:39 @monitor.py:459]\u001b[0m loss-ce-12v3: 0.13609\n",
      "\u001b[32m[0107 13:47:39 @monitor.py:459]\u001b[0m loss-ce-1v23: 0.14187\n",
      "\u001b[32m[0107 13:47:39 @monitor.py:459]\u001b[0m loss-dice: 3.0219\n",
      "\u001b[32m[0107 13:47:39 @monitor.py:459]\u001b[0m loss-dice-12v3: 2.1424\n",
      "\u001b[32m[0107 13:47:39 @monitor.py:459]\u001b[0m loss-dice-1v23: 1.9464\n",
      "\u001b[32m[0107 13:47:39 @monitor.py:459]\u001b[0m loss-reg-mae: 0.03852\n",
      "\u001b[32m[0107 13:47:39 @monitor.py:459]\u001b[0m valid_acc: 0.96926\n",
      "\u001b[32m[0107 13:47:39 @monitor.py:459]\u001b[0m valid_dice: 0.82004\n",
      "\u001b[32m[0107 13:47:39 @monitor.py:459]\u001b[0m valid_dice_Endothelium: 0.48872\n",
      "\u001b[32m[0107 13:47:39 @monitor.py:459]\u001b[0m valid_dice_Grade1: 0.66465\n",
      "\u001b[32m[0107 13:47:39 @monitor.py:459]\u001b[0m valid_dice_Grade2: 0.00023608\n",
      "\u001b[32m[0107 13:47:39 @monitor.py:459]\u001b[0m valid_dice_Grade3: 0.20677\n",
      "\u001b[32m[0107 13:47:39 @monitor.py:459]\u001b[0m valid_mae: 0.0536\n",
      "\u001b[32m[0107 13:47:39 @monitor.py:459]\u001b[0m valid_mean_dice: 0.3401\n",
      "\u001b[32m[0107 13:47:39 @monitor.py:459]\u001b[0m valid_ssim: 0.81215\n",
      "\u001b[32m[0107 13:47:39 @group.py:48]\u001b[0m Callbacks took 17.928 sec in total. DataParallelInferenceRunner: 17 seconds\n",
      "\u001b[32m[0107 13:47:39 @base.py:272]\u001b[0m Start Epoch 4 ...\n"
     ]
    },
    {
     "name": "stderr",
     "output_type": "stream",
     "text": [
      "100%|##########|350/350[03:26<00:00, 1.69it/s]"
     ]
    },
    {
     "name": "stdout",
     "output_type": "stream",
     "text": [
      "\u001b[32m[0107 13:51:06 @base.py:282]\u001b[0m Epoch 4 (global_step 1400) finished, time:3 minutes 26 seconds.\n"
     ]
    },
    {
     "name": "stderr",
     "output_type": "stream",
     "text": [
      "\n"
     ]
    },
    {
     "name": "stdout",
     "output_type": "stream",
     "text": [
      "\u001b[32m[0107 13:51:07 @saver.py:77]\u001b[0m Model saved to ./logs//High_CCRCC//hcnet_mix_dist_v/00/model-1400.\n"
     ]
    },
    {
     "name": "stderr",
     "output_type": "stream",
     "text": [
      "100%|##########|50/50[00:12<00:00, 4.06it/s]\n"
     ]
    },
    {
     "name": "stdout",
     "output_type": "stream",
     "text": [
      "\u001b[32m[0107 13:51:24 @saver.py:159]\u001b[0m Model at global_step=1400 with maximum valid_dice=0.82599 saved.\n",
      "\u001b[32m[0107 13:51:24 @monitor.py:459]\u001b[0m DataParallelInferenceRunner/QueueInput/queue_size: 49.874\n",
      "\u001b[32m[0107 13:51:24 @monitor.py:459]\u001b[0m QueueInput/queue_size: 49.986\n",
      "\u001b[32m[0107 13:51:24 @monitor.py:459]\u001b[0m learning_rate: 0.0001\n",
      "\u001b[32m[0107 13:51:24 @monitor.py:459]\u001b[0m loss-ce: 0.14304\n",
      "\u001b[32m[0107 13:51:24 @monitor.py:459]\u001b[0m loss-ce-12v3: 0.11859\n",
      "\u001b[32m[0107 13:51:24 @monitor.py:459]\u001b[0m loss-ce-1v23: 0.12195\n",
      "\u001b[32m[0107 13:51:24 @monitor.py:459]\u001b[0m loss-dice: 2.9485\n",
      "\u001b[32m[0107 13:51:24 @monitor.py:459]\u001b[0m loss-dice-12v3: 2.0745\n",
      "\u001b[32m[0107 13:51:24 @monitor.py:459]\u001b[0m loss-dice-1v23: 1.8696\n",
      "\u001b[32m[0107 13:51:24 @monitor.py:459]\u001b[0m loss-reg-mae: 0.029851\n",
      "\u001b[32m[0107 13:51:24 @monitor.py:459]\u001b[0m valid_acc: 0.96931\n",
      "\u001b[32m[0107 13:51:24 @monitor.py:459]\u001b[0m valid_dice: 0.82599\n",
      "\u001b[32m[0107 13:51:24 @monitor.py:459]\u001b[0m valid_dice_Endothelium: 0.54564\n",
      "\u001b[32m[0107 13:51:24 @monitor.py:459]\u001b[0m valid_dice_Grade1: 0.66799\n",
      "\u001b[32m[0107 13:51:24 @monitor.py:459]\u001b[0m valid_dice_Grade2: 0.00047146\n",
      "\u001b[32m[0107 13:51:24 @monitor.py:459]\u001b[0m valid_dice_Grade3: 0.36823\n",
      "\u001b[32m[0107 13:51:24 @monitor.py:459]\u001b[0m valid_mae: 0.048737\n",
      "\u001b[32m[0107 13:51:24 @monitor.py:459]\u001b[0m valid_mean_dice: 0.39558\n",
      "\u001b[32m[0107 13:51:24 @monitor.py:459]\u001b[0m valid_ssim: 1.1482\n",
      "\u001b[32m[0107 13:51:24 @group.py:48]\u001b[0m Callbacks took 17.811 sec in total. DataParallelInferenceRunner: 16.9 seconds\n",
      "\u001b[32m[0107 13:51:24 @base.py:272]\u001b[0m Start Epoch 5 ...\n"
     ]
    },
    {
     "name": "stderr",
     "output_type": "stream",
     "text": [
      "100%|##########|350/350[03:26<00:00, 1.69it/s]"
     ]
    },
    {
     "name": "stdout",
     "output_type": "stream",
     "text": [
      "\u001b[32m[0107 13:54:51 @base.py:282]\u001b[0m Epoch 5 (global_step 1750) finished, time:3 minutes 26 seconds.\n"
     ]
    },
    {
     "name": "stderr",
     "output_type": "stream",
     "text": [
      "\n"
     ]
    },
    {
     "name": "stdout",
     "output_type": "stream",
     "text": [
      "\u001b[32m[0107 13:54:51 @saver.py:77]\u001b[0m Model saved to ./logs//High_CCRCC//hcnet_mix_dist_v/00/model-1750.\n"
     ]
    },
    {
     "name": "stderr",
     "output_type": "stream",
     "text": [
      "100%|##########|50/50[00:12<00:00, 4.06it/s]\n"
     ]
    },
    {
     "name": "stdout",
     "output_type": "stream",
     "text": [
      "\u001b[32m[0107 13:55:08 @saver.py:159]\u001b[0m Model at global_step=1750 with maximum valid_dice=0.83019 saved.\n",
      "\u001b[32m[0107 13:55:08 @monitor.py:459]\u001b[0m DataParallelInferenceRunner/QueueInput/queue_size: 49.582\n",
      "\u001b[32m[0107 13:55:08 @monitor.py:459]\u001b[0m QueueInput/queue_size: 49.961\n",
      "\u001b[32m[0107 13:55:08 @monitor.py:459]\u001b[0m learning_rate: 0.0001\n",
      "\u001b[32m[0107 13:55:08 @monitor.py:459]\u001b[0m loss-ce: 0.13874\n",
      "\u001b[32m[0107 13:55:08 @monitor.py:459]\u001b[0m loss-ce-12v3: 0.11799\n",
      "\u001b[32m[0107 13:55:08 @monitor.py:459]\u001b[0m loss-ce-1v23: 0.12389\n",
      "\u001b[32m[0107 13:55:08 @monitor.py:459]\u001b[0m loss-dice: 2.8616\n",
      "\u001b[32m[0107 13:55:08 @monitor.py:459]\u001b[0m loss-dice-12v3: 1.9917\n",
      "\u001b[32m[0107 13:55:08 @monitor.py:459]\u001b[0m loss-dice-1v23: 1.8321\n",
      "\u001b[32m[0107 13:55:08 @monitor.py:459]\u001b[0m loss-reg-mae: 0.026827\n",
      "\u001b[32m[0107 13:55:08 @monitor.py:459]\u001b[0m valid_acc: 0.97026\n",
      "\u001b[32m[0107 13:55:08 @monitor.py:459]\u001b[0m valid_dice: 0.83019\n",
      "\u001b[32m[0107 13:55:08 @monitor.py:459]\u001b[0m valid_dice_Endothelium: 0.55239\n",
      "\u001b[32m[0107 13:55:08 @monitor.py:459]\u001b[0m valid_dice_Grade1: 0.67712\n",
      "\u001b[32m[0107 13:55:08 @monitor.py:459]\u001b[0m valid_dice_Grade2: 0.0026678\n",
      "\u001b[32m[0107 13:55:08 @monitor.py:459]\u001b[0m valid_dice_Grade3: 0.38442\n",
      "\u001b[32m[0107 13:55:08 @monitor.py:459]\u001b[0m valid_mae: 0.041881\n",
      "\u001b[32m[0107 13:55:08 @monitor.py:459]\u001b[0m valid_mean_dice: 0.40415\n",
      "\u001b[32m[0107 13:55:08 @monitor.py:459]\u001b[0m valid_ssim: 1.4834\n",
      "\u001b[32m[0107 13:55:08 @group.py:48]\u001b[0m Callbacks took 17.759 sec in total. DataParallelInferenceRunner: 16.8 seconds\n",
      "\u001b[32m[0107 13:55:08 @base.py:272]\u001b[0m Start Epoch 6 ...\n"
     ]
    },
    {
     "name": "stderr",
     "output_type": "stream",
     "text": [
      "100%|##########|350/350[03:26<00:00, 1.69it/s]"
     ]
    },
    {
     "name": "stdout",
     "output_type": "stream",
     "text": [
      "\u001b[32m[0107 13:58:35 @base.py:282]\u001b[0m Epoch 6 (global_step 2100) finished, time:3 minutes 26 seconds.\n"
     ]
    },
    {
     "name": "stderr",
     "output_type": "stream",
     "text": [
      "\n"
     ]
    },
    {
     "name": "stdout",
     "output_type": "stream",
     "text": [
      "\u001b[32m[0107 13:58:36 @saver.py:77]\u001b[0m Model saved to ./logs//High_CCRCC//hcnet_mix_dist_v/00/model-2100.\n"
     ]
    },
    {
     "name": "stderr",
     "output_type": "stream",
     "text": [
      "100%|##########|50/50[00:12<00:00, 4.06it/s]\n"
     ]
    },
    {
     "name": "stdout",
     "output_type": "stream",
     "text": [
      "\u001b[32m[0107 13:58:53 @monitor.py:459]\u001b[0m DataParallelInferenceRunner/QueueInput/queue_size: 49.766\n",
      "\u001b[32m[0107 13:58:53 @monitor.py:459]\u001b[0m QueueInput/queue_size: 49.301\n",
      "\u001b[32m[0107 13:58:53 @monitor.py:459]\u001b[0m learning_rate: 0.0001\n",
      "\u001b[32m[0107 13:58:53 @monitor.py:459]\u001b[0m loss-ce: 0.13214\n",
      "\u001b[32m[0107 13:58:53 @monitor.py:459]\u001b[0m loss-ce-12v3: 0.11104\n",
      "\u001b[32m[0107 13:58:53 @monitor.py:459]\u001b[0m loss-ce-1v23: 0.11716\n",
      "\u001b[32m[0107 13:58:53 @monitor.py:459]\u001b[0m loss-dice: 2.8128\n",
      "\u001b[32m[0107 13:58:53 @monitor.py:459]\u001b[0m loss-dice-12v3: 1.9566\n",
      "\u001b[32m[0107 13:58:53 @monitor.py:459]\u001b[0m loss-dice-1v23: 1.7773\n",
      "\u001b[32m[0107 13:58:53 @monitor.py:459]\u001b[0m loss-reg-mae: 0.056352\n",
      "\u001b[32m[0107 13:58:53 @monitor.py:459]\u001b[0m valid_acc: 0.97076\n",
      "\u001b[32m[0107 13:58:53 @monitor.py:459]\u001b[0m valid_dice: 0.82941\n",
      "\u001b[32m[0107 13:58:53 @monitor.py:459]\u001b[0m valid_dice_Endothelium: 0.47927\n",
      "\u001b[32m[0107 13:58:53 @monitor.py:459]\u001b[0m valid_dice_Grade1: 0.68614\n",
      "\u001b[32m[0107 13:58:53 @monitor.py:459]\u001b[0m valid_dice_Grade2: 0.00053251\n",
      "\u001b[32m[0107 13:58:53 @monitor.py:459]\u001b[0m valid_dice_Grade3: 0.46859\n",
      "\u001b[32m[0107 13:58:53 @monitor.py:459]\u001b[0m valid_mae: 0.040463\n",
      "\u001b[32m[0107 13:58:53 @monitor.py:459]\u001b[0m valid_mean_dice: 0.40863\n",
      "\u001b[32m[0107 13:58:53 @monitor.py:459]\u001b[0m valid_ssim: 1.6627\n",
      "\u001b[32m[0107 13:58:53 @group.py:48]\u001b[0m Callbacks took 17.462 sec in total. DataParallelInferenceRunner: 16.8 seconds\n",
      "\u001b[32m[0107 13:58:53 @base.py:272]\u001b[0m Start Epoch 7 ...\n"
     ]
    },
    {
     "name": "stderr",
     "output_type": "stream",
     "text": [
      "100%|##########|350/350[03:26<00:00, 1.70it/s]"
     ]
    },
    {
     "name": "stdout",
     "output_type": "stream",
     "text": [
      "\u001b[32m[0107 14:02:19 @base.py:282]\u001b[0m Epoch 7 (global_step 2450) finished, time:3 minutes 26 seconds.\n"
     ]
    },
    {
     "name": "stderr",
     "output_type": "stream",
     "text": [
      "\n"
     ]
    },
    {
     "name": "stdout",
     "output_type": "stream",
     "text": [
      "\u001b[32m[0107 14:02:20 @saver.py:77]\u001b[0m Model saved to ./logs//High_CCRCC//hcnet_mix_dist_v/00/model-2450.\n"
     ]
    },
    {
     "name": "stderr",
     "output_type": "stream",
     "text": [
      "100%|##########|50/50[00:12<00:00, 4.04it/s]\n"
     ]
    },
    {
     "name": "stdout",
     "output_type": "stream",
     "text": [
      "\u001b[32m[0107 14:02:37 @monitor.py:459]\u001b[0m DataParallelInferenceRunner/QueueInput/queue_size: 49.937\n",
      "\u001b[32m[0107 14:02:37 @monitor.py:459]\u001b[0m QueueInput/queue_size: 49.685\n",
      "\u001b[32m[0107 14:02:37 @monitor.py:459]\u001b[0m learning_rate: 0.0001\n",
      "\u001b[32m[0107 14:02:37 @monitor.py:459]\u001b[0m loss-ce: 0.13316\n",
      "\u001b[32m[0107 14:02:37 @monitor.py:459]\u001b[0m loss-ce-12v3: 0.11159\n",
      "\u001b[32m[0107 14:02:37 @monitor.py:459]\u001b[0m loss-ce-1v23: 0.11828\n",
      "\u001b[32m[0107 14:02:37 @monitor.py:459]\u001b[0m loss-dice: 2.7614\n",
      "\u001b[32m[0107 14:02:37 @monitor.py:459]\u001b[0m loss-dice-12v3: 1.9314\n",
      "\u001b[32m[0107 14:02:37 @monitor.py:459]\u001b[0m loss-dice-1v23: 1.7242\n",
      "\u001b[32m[0107 14:02:37 @monitor.py:459]\u001b[0m loss-reg-mae: 0.021688\n",
      "\u001b[32m[0107 14:02:37 @monitor.py:459]\u001b[0m valid_acc: 0.97113\n",
      "\u001b[32m[0107 14:02:37 @monitor.py:459]\u001b[0m valid_dice: 0.82394\n",
      "\u001b[32m[0107 14:02:37 @monitor.py:459]\u001b[0m valid_dice_Endothelium: 0.51563\n",
      "\u001b[32m[0107 14:02:37 @monitor.py:459]\u001b[0m valid_dice_Grade1: 0.67716\n",
      "\u001b[32m[0107 14:02:37 @monitor.py:459]\u001b[0m valid_dice_Grade2: 0.00028246\n",
      "\u001b[32m[0107 14:02:37 @monitor.py:459]\u001b[0m valid_dice_Grade3: 0.43146\n",
      "\u001b[32m[0107 14:02:37 @monitor.py:459]\u001b[0m valid_mae: 0.037456\n",
      "\u001b[32m[0107 14:02:37 @monitor.py:459]\u001b[0m valid_mean_dice: 0.40613\n",
      "\u001b[32m[0107 14:02:37 @monitor.py:459]\u001b[0m valid_ssim: 1.7328\n",
      "\u001b[32m[0107 14:02:37 @group.py:48]\u001b[0m Callbacks took 17.588 sec in total. DataParallelInferenceRunner: 16.9 seconds\n",
      "\u001b[32m[0107 14:02:37 @base.py:272]\u001b[0m Start Epoch 8 ...\n"
     ]
    },
    {
     "name": "stderr",
     "output_type": "stream",
     "text": [
      "100%|##########|350/350[03:26<00:00, 1.69it/s]"
     ]
    },
    {
     "name": "stdout",
     "output_type": "stream",
     "text": [
      "\u001b[32m[0107 14:06:03 @base.py:282]\u001b[0m Epoch 8 (global_step 2800) finished, time:3 minutes 26 seconds.\n"
     ]
    },
    {
     "name": "stderr",
     "output_type": "stream",
     "text": [
      "\n"
     ]
    },
    {
     "name": "stdout",
     "output_type": "stream",
     "text": [
      "\u001b[32m[0107 14:06:04 @saver.py:77]\u001b[0m Model saved to ./logs//High_CCRCC//hcnet_mix_dist_v/00/model-2800.\n"
     ]
    },
    {
     "name": "stderr",
     "output_type": "stream",
     "text": [
      "100%|##########|50/50[00:12<00:00, 4.06it/s]\n"
     ]
    },
    {
     "name": "stdout",
     "output_type": "stream",
     "text": [
      "\u001b[32m[0107 14:06:21 @saver.py:159]\u001b[0m Model at global_step=2800 with maximum valid_dice=0.83828 saved.\n",
      "\u001b[32m[0107 14:06:21 @monitor.py:459]\u001b[0m DataParallelInferenceRunner/QueueInput/queue_size: 49.968\n",
      "\u001b[32m[0107 14:06:21 @monitor.py:459]\u001b[0m QueueInput/queue_size: 49.43\n",
      "\u001b[32m[0107 14:06:21 @monitor.py:459]\u001b[0m learning_rate: 0.0001\n",
      "\u001b[32m[0107 14:06:21 @monitor.py:459]\u001b[0m loss-ce: 0.13171\n",
      "\u001b[32m[0107 14:06:21 @monitor.py:459]\u001b[0m loss-ce-12v3: 0.11045\n",
      "\u001b[32m[0107 14:06:21 @monitor.py:459]\u001b[0m loss-ce-1v23: 0.11718\n",
      "\u001b[32m[0107 14:06:21 @monitor.py:459]\u001b[0m loss-dice: 2.7143\n",
      "\u001b[32m[0107 14:06:21 @monitor.py:459]\u001b[0m loss-dice-12v3: 1.8605\n",
      "\u001b[32m[0107 14:06:21 @monitor.py:459]\u001b[0m loss-dice-1v23: 1.7058\n",
      "\u001b[32m[0107 14:06:21 @monitor.py:459]\u001b[0m loss-reg-mae: 1.9436\n",
      "\u001b[32m[0107 14:06:21 @monitor.py:459]\u001b[0m valid_acc: 0.97164\n",
      "\u001b[32m[0107 14:06:21 @monitor.py:459]\u001b[0m valid_dice: 0.83828\n",
      "\u001b[32m[0107 14:06:21 @monitor.py:459]\u001b[0m valid_dice_Endothelium: 0.54183\n",
      "\u001b[32m[0107 14:06:21 @monitor.py:459]\u001b[0m valid_dice_Grade1: 0.69853\n",
      "\u001b[32m[0107 14:06:21 @monitor.py:459]\u001b[0m valid_dice_Grade2: 0.015611\n",
      "\u001b[32m[0107 14:06:21 @monitor.py:459]\u001b[0m valid_dice_Grade3: 0.562\n",
      "\u001b[32m[0107 14:06:21 @monitor.py:459]\u001b[0m valid_mae: 0.03622\n",
      "\u001b[32m[0107 14:06:21 @monitor.py:459]\u001b[0m valid_mean_dice: 0.45449\n",
      "\u001b[32m[0107 14:06:21 @monitor.py:459]\u001b[0m valid_ssim: 1.7644\n",
      "\u001b[32m[0107 14:06:21 @group.py:48]\u001b[0m Callbacks took 17.813 sec in total. DataParallelInferenceRunner: 16.9 seconds\n",
      "\u001b[32m[0107 14:06:21 @base.py:272]\u001b[0m Start Epoch 9 ...\n"
     ]
    },
    {
     "name": "stderr",
     "output_type": "stream",
     "text": [
      "100%|##########|350/350[03:26<00:00, 1.70it/s]"
     ]
    },
    {
     "name": "stdout",
     "output_type": "stream",
     "text": [
      "\u001b[32m[0107 14:09:47 @base.py:282]\u001b[0m Epoch 9 (global_step 3150) finished, time:3 minutes 26 seconds.\n"
     ]
    },
    {
     "name": "stderr",
     "output_type": "stream",
     "text": [
      "\n"
     ]
    },
    {
     "name": "stdout",
     "output_type": "stream",
     "text": [
      "\u001b[32m[0107 14:09:48 @saver.py:77]\u001b[0m Model saved to ./logs//High_CCRCC//hcnet_mix_dist_v/00/model-3150.\n"
     ]
    },
    {
     "name": "stderr",
     "output_type": "stream",
     "text": [
      "100%|##########|50/50[00:12<00:00, 4.05it/s]\n"
     ]
    },
    {
     "name": "stdout",
     "output_type": "stream",
     "text": [
      "\u001b[32m[0107 14:10:05 @monitor.py:459]\u001b[0m DataParallelInferenceRunner/QueueInput/queue_size: 49.898\n",
      "\u001b[32m[0107 14:10:05 @monitor.py:459]\u001b[0m QueueInput/queue_size: 49.53\n",
      "\u001b[32m[0107 14:10:05 @monitor.py:459]\u001b[0m learning_rate: 0.0001\n",
      "\u001b[32m[0107 14:10:05 @monitor.py:459]\u001b[0m loss-ce: 0.13141\n",
      "\u001b[32m[0107 14:10:05 @monitor.py:459]\u001b[0m loss-ce-12v3: 0.10887\n",
      "\u001b[32m[0107 14:10:05 @monitor.py:459]\u001b[0m loss-ce-1v23: 0.11578\n",
      "\u001b[32m[0107 14:10:05 @monitor.py:459]\u001b[0m loss-dice: 2.6873\n",
      "\u001b[32m[0107 14:10:05 @monitor.py:459]\u001b[0m loss-dice-12v3: 1.8537\n",
      "\u001b[32m[0107 14:10:05 @monitor.py:459]\u001b[0m loss-dice-1v23: 1.6918\n",
      "\u001b[32m[0107 14:10:05 @monitor.py:459]\u001b[0m loss-reg-mae: 0.019074\n",
      "\u001b[32m[0107 14:10:05 @monitor.py:459]\u001b[0m valid_acc: 0.97211\n",
      "\u001b[32m[0107 14:10:05 @monitor.py:459]\u001b[0m valid_dice: 0.83821\n",
      "\u001b[32m[0107 14:10:05 @monitor.py:459]\u001b[0m valid_dice_Endothelium: 0.56595\n",
      "\u001b[32m[0107 14:10:05 @monitor.py:459]\u001b[0m valid_dice_Grade1: 0.683\n",
      "\u001b[32m[0107 14:10:05 @monitor.py:459]\u001b[0m valid_dice_Grade2: 0.0095011\n",
      "\u001b[32m[0107 14:10:05 @monitor.py:459]\u001b[0m valid_dice_Grade3: 0.55419\n",
      "\u001b[32m[0107 14:10:05 @monitor.py:459]\u001b[0m valid_mae: 0.038468\n",
      "\u001b[32m[0107 14:10:05 @monitor.py:459]\u001b[0m valid_mean_dice: 0.45316\n",
      "\u001b[32m[0107 14:10:05 @monitor.py:459]\u001b[0m valid_ssim: 1.7691\n",
      "\u001b[32m[0107 14:10:05 @group.py:48]\u001b[0m Callbacks took 17.549 sec in total. DataParallelInferenceRunner: 16.9 seconds\n",
      "\u001b[32m[0107 14:10:05 @base.py:272]\u001b[0m Start Epoch 10 ...\n"
     ]
    },
    {
     "name": "stderr",
     "output_type": "stream",
     "text": [
      "100%|##########|350/350[03:26<00:00, 1.69it/s]"
     ]
    },
    {
     "name": "stdout",
     "output_type": "stream",
     "text": [
      "\u001b[32m[0107 14:13:32 @base.py:282]\u001b[0m Epoch 10 (global_step 3500) finished, time:3 minutes 26 seconds.\n"
     ]
    },
    {
     "name": "stderr",
     "output_type": "stream",
     "text": [
      "\n"
     ]
    },
    {
     "name": "stdout",
     "output_type": "stream",
     "text": [
      "\u001b[32m[0107 14:13:32 @saver.py:77]\u001b[0m Model saved to ./logs//High_CCRCC//hcnet_mix_dist_v/00/model-3500.\n"
     ]
    },
    {
     "name": "stderr",
     "output_type": "stream",
     "text": [
      "100%|##########|50/50[00:12<00:00, 4.12it/s]\n"
     ]
    },
    {
     "name": "stdout",
     "output_type": "stream",
     "text": [
      "\u001b[32m[0107 14:13:49 @monitor.py:459]\u001b[0m DataParallelInferenceRunner/QueueInput/queue_size: 49.984\n",
      "\u001b[32m[0107 14:13:49 @monitor.py:459]\u001b[0m QueueInput/queue_size: 49.99\n",
      "\u001b[32m[0107 14:13:49 @monitor.py:459]\u001b[0m learning_rate: 0.0001\n",
      "\u001b[32m[0107 14:13:49 @monitor.py:459]\u001b[0m loss-ce: 0.12893\n",
      "\u001b[32m[0107 14:13:49 @monitor.py:459]\u001b[0m loss-ce-12v3: 0.108\n",
      "\u001b[32m[0107 14:13:49 @monitor.py:459]\u001b[0m loss-ce-1v23: 0.11628\n",
      "\u001b[32m[0107 14:13:49 @monitor.py:459]\u001b[0m loss-dice: 2.643\n",
      "\u001b[32m[0107 14:13:49 @monitor.py:459]\u001b[0m loss-dice-12v3: 1.8099\n",
      "\u001b[32m[0107 14:13:49 @monitor.py:459]\u001b[0m loss-dice-1v23: 1.6616\n",
      "\u001b[32m[0107 14:13:49 @monitor.py:459]\u001b[0m loss-reg-mae: 1.7848\n",
      "\u001b[32m[0107 14:13:49 @monitor.py:459]\u001b[0m valid_acc: 0.97026\n",
      "\u001b[32m[0107 14:13:49 @monitor.py:459]\u001b[0m valid_dice: 0.81115\n",
      "\u001b[32m[0107 14:13:49 @monitor.py:459]\u001b[0m valid_dice_Endothelium: 0.4687\n",
      "\u001b[32m[0107 14:13:49 @monitor.py:459]\u001b[0m valid_dice_Grade1: 0.68301\n",
      "\u001b[32m[0107 14:13:49 @monitor.py:459]\u001b[0m valid_dice_Grade2: 0.0099921\n",
      "\u001b[32m[0107 14:13:49 @monitor.py:459]\u001b[0m valid_dice_Grade3: 0.59681\n",
      "\u001b[32m[0107 14:13:49 @monitor.py:459]\u001b[0m valid_mae: 0.036252\n",
      "\u001b[32m[0107 14:13:49 @monitor.py:459]\u001b[0m valid_mean_dice: 0.43963\n",
      "\u001b[32m[0107 14:13:49 @monitor.py:459]\u001b[0m valid_ssim: 1.7465\n",
      "\u001b[32m[0107 14:13:49 @group.py:48]\u001b[0m Callbacks took 17.174 sec in total. DataParallelInferenceRunner: 16.5 seconds\n",
      "\u001b[32m[0107 14:13:49 @base.py:272]\u001b[0m Start Epoch 11 ...\n"
     ]
    },
    {
     "name": "stderr",
     "output_type": "stream",
     "text": [
      "100%|##########|350/350[03:26<00:00, 1.70it/s]"
     ]
    },
    {
     "name": "stdout",
     "output_type": "stream",
     "text": [
      "\u001b[32m[0107 14:17:15 @base.py:282]\u001b[0m Epoch 11 (global_step 3850) finished, time:3 minutes 26 seconds.\n"
     ]
    },
    {
     "name": "stderr",
     "output_type": "stream",
     "text": [
      "\n"
     ]
    },
    {
     "name": "stdout",
     "output_type": "stream",
     "text": [
      "\u001b[32m[0107 14:17:16 @saver.py:77]\u001b[0m Model saved to ./logs//High_CCRCC//hcnet_mix_dist_v/00/model-3850.\n"
     ]
    },
    {
     "name": "stderr",
     "output_type": "stream",
     "text": [
      "100%|##########|50/50[00:12<00:00, 4.07it/s]\n"
     ]
    },
    {
     "name": "stdout",
     "output_type": "stream",
     "text": [
      "\u001b[32m[0107 14:17:33 @saver.py:159]\u001b[0m Model at global_step=3850 with maximum valid_dice=0.83832 saved.\n",
      "\u001b[32m[0107 14:17:33 @monitor.py:459]\u001b[0m DataParallelInferenceRunner/QueueInput/queue_size: 49.902\n",
      "\u001b[32m[0107 14:17:33 @monitor.py:459]\u001b[0m QueueInput/queue_size: 49.868\n",
      "\u001b[32m[0107 14:17:33 @monitor.py:459]\u001b[0m learning_rate: 0.0001\n",
      "\u001b[32m[0107 14:17:33 @monitor.py:459]\u001b[0m loss-ce: 0.13081\n",
      "\u001b[32m[0107 14:17:33 @monitor.py:459]\u001b[0m loss-ce-12v3: 0.11084\n",
      "\u001b[32m[0107 14:17:33 @monitor.py:459]\u001b[0m loss-ce-1v23: 0.117\n",
      "\u001b[32m[0107 14:17:33 @monitor.py:459]\u001b[0m loss-dice: 2.6244\n",
      "\u001b[32m[0107 14:17:33 @monitor.py:459]\u001b[0m loss-dice-12v3: 1.79\n",
      "\u001b[32m[0107 14:17:33 @monitor.py:459]\u001b[0m loss-dice-1v23: 1.6359\n",
      "\u001b[32m[0107 14:17:33 @monitor.py:459]\u001b[0m loss-reg-mae: 0.019051\n",
      "\u001b[32m[0107 14:17:33 @monitor.py:459]\u001b[0m valid_acc: 0.97197\n",
      "\u001b[32m[0107 14:17:33 @monitor.py:459]\u001b[0m valid_dice: 0.83832\n",
      "\u001b[32m[0107 14:17:33 @monitor.py:459]\u001b[0m valid_dice_Endothelium: 0.56994\n",
      "\u001b[32m[0107 14:17:33 @monitor.py:459]\u001b[0m valid_dice_Grade1: 0.69226\n",
      "\u001b[32m[0107 14:17:33 @monitor.py:459]\u001b[0m valid_dice_Grade2: 0.02228\n",
      "\u001b[32m[0107 14:17:33 @monitor.py:459]\u001b[0m valid_dice_Grade3: 0.5321\n",
      "\u001b[32m[0107 14:17:33 @monitor.py:459]\u001b[0m valid_mae: 0.036415\n",
      "\u001b[32m[0107 14:17:33 @monitor.py:459]\u001b[0m valid_mean_dice: 0.45414\n",
      "\u001b[32m[0107 14:17:33 @monitor.py:459]\u001b[0m valid_ssim: 1.7234\n",
      "\u001b[32m[0107 14:17:33 @group.py:48]\u001b[0m Callbacks took 17.572 sec in total. DataParallelInferenceRunner: 16.7 seconds\n",
      "\u001b[32m[0107 14:17:33 @base.py:272]\u001b[0m Start Epoch 12 ...\n"
     ]
    },
    {
     "name": "stderr",
     "output_type": "stream",
     "text": [
      "100%|##########|350/350[03:26<00:00, 1.70it/s]"
     ]
    },
    {
     "name": "stdout",
     "output_type": "stream",
     "text": [
      "\u001b[32m[0107 14:20:59 @base.py:282]\u001b[0m Epoch 12 (global_step 4200) finished, time:3 minutes 26 seconds.\n"
     ]
    },
    {
     "name": "stderr",
     "output_type": "stream",
     "text": [
      "\n"
     ]
    },
    {
     "name": "stdout",
     "output_type": "stream",
     "text": [
      "\u001b[32m[0107 14:21:00 @saver.py:77]\u001b[0m Model saved to ./logs//High_CCRCC//hcnet_mix_dist_v/00/model-4200.\n"
     ]
    },
    {
     "name": "stderr",
     "output_type": "stream",
     "text": [
      "100%|##########|50/50[00:12<00:00, 4.03it/s]\n"
     ]
    },
    {
     "name": "stdout",
     "output_type": "stream",
     "text": [
      "\u001b[32m[0107 14:21:17 @monitor.py:459]\u001b[0m DataParallelInferenceRunner/QueueInput/queue_size: 49.858\n",
      "\u001b[32m[0107 14:21:17 @monitor.py:459]\u001b[0m QueueInput/queue_size: 49.869\n",
      "\u001b[32m[0107 14:21:17 @monitor.py:459]\u001b[0m learning_rate: 0.0001\n",
      "\u001b[32m[0107 14:21:17 @monitor.py:459]\u001b[0m loss-ce: 0.11852\n",
      "\u001b[32m[0107 14:21:17 @monitor.py:459]\u001b[0m loss-ce-12v3: 0.1006\n",
      "\u001b[32m[0107 14:21:17 @monitor.py:459]\u001b[0m loss-ce-1v23: 0.10797\n",
      "\u001b[32m[0107 14:21:17 @monitor.py:459]\u001b[0m loss-dice: 2.6253\n",
      "\u001b[32m[0107 14:21:17 @monitor.py:459]\u001b[0m loss-dice-12v3: 1.7959\n",
      "\u001b[32m[0107 14:21:17 @monitor.py:459]\u001b[0m loss-dice-1v23: 1.6145\n",
      "\u001b[32m[0107 14:21:17 @monitor.py:459]\u001b[0m loss-reg-mae: 0.017511\n",
      "\u001b[32m[0107 14:21:17 @monitor.py:459]\u001b[0m valid_acc: 0.97168\n",
      "\u001b[32m[0107 14:21:17 @monitor.py:459]\u001b[0m valid_dice: 0.82689\n",
      "\u001b[32m[0107 14:21:17 @monitor.py:459]\u001b[0m valid_dice_Endothelium: 0.55902\n",
      "\u001b[32m[0107 14:21:17 @monitor.py:459]\u001b[0m valid_dice_Grade1: 0.68881\n",
      "\u001b[32m[0107 14:21:17 @monitor.py:459]\u001b[0m valid_dice_Grade2: 0.06777\n",
      "\u001b[32m[0107 14:21:17 @monitor.py:459]\u001b[0m valid_dice_Grade3: 0.58327\n",
      "\u001b[32m[0107 14:21:17 @monitor.py:459]\u001b[0m valid_mae: 0.039317\n",
      "\u001b[32m[0107 14:21:17 @monitor.py:459]\u001b[0m valid_mean_dice: 0.47472\n",
      "\u001b[32m[0107 14:21:17 @monitor.py:459]\u001b[0m valid_ssim: 1.7032\n",
      "\u001b[32m[0107 14:21:17 @group.py:48]\u001b[0m Callbacks took 17.443 sec in total. DataParallelInferenceRunner: 16.8 seconds\n",
      "\u001b[32m[0107 14:21:17 @base.py:272]\u001b[0m Start Epoch 13 ...\n"
     ]
    },
    {
     "name": "stderr",
     "output_type": "stream",
     "text": [
      "100%|##########|350/350[03:26<00:00, 1.70it/s]"
     ]
    },
    {
     "name": "stdout",
     "output_type": "stream",
     "text": [
      "\u001b[32m[0107 14:24:43 @base.py:282]\u001b[0m Epoch 13 (global_step 4550) finished, time:3 minutes 26 seconds.\n"
     ]
    },
    {
     "name": "stderr",
     "output_type": "stream",
     "text": [
      "\n"
     ]
    },
    {
     "name": "stdout",
     "output_type": "stream",
     "text": [
      "\u001b[32m[0107 14:24:44 @saver.py:77]\u001b[0m Model saved to ./logs//High_CCRCC//hcnet_mix_dist_v/00/model-4550.\n"
     ]
    },
    {
     "name": "stderr",
     "output_type": "stream",
     "text": [
      "100%|##########|50/50[00:12<00:00, 4.06it/s]\n"
     ]
    },
    {
     "name": "stdout",
     "output_type": "stream",
     "text": [
      "\u001b[32m[0107 14:25:00 @monitor.py:459]\u001b[0m DataParallelInferenceRunner/QueueInput/queue_size: 49.859\n",
      "\u001b[32m[0107 14:25:00 @monitor.py:459]\u001b[0m QueueInput/queue_size: 49.976\n",
      "\u001b[32m[0107 14:25:00 @monitor.py:459]\u001b[0m learning_rate: 0.0001\n",
      "\u001b[32m[0107 14:25:00 @monitor.py:459]\u001b[0m loss-ce: 0.11284\n",
      "\u001b[32m[0107 14:25:00 @monitor.py:459]\u001b[0m loss-ce-12v3: 0.094219\n",
      "\u001b[32m[0107 14:25:00 @monitor.py:459]\u001b[0m loss-ce-1v23: 0.10242\n",
      "\u001b[32m[0107 14:25:00 @monitor.py:459]\u001b[0m loss-dice: 2.534\n",
      "\u001b[32m[0107 14:25:00 @monitor.py:459]\u001b[0m loss-dice-12v3: 1.6906\n",
      "\u001b[32m[0107 14:25:00 @monitor.py:459]\u001b[0m loss-dice-1v23: 1.5889\n",
      "\u001b[32m[0107 14:25:00 @monitor.py:459]\u001b[0m loss-reg-mae: 0.017014\n",
      "\u001b[32m[0107 14:25:00 @monitor.py:459]\u001b[0m valid_acc: 0.97142\n",
      "\u001b[32m[0107 14:25:00 @monitor.py:459]\u001b[0m valid_dice: 0.82231\n",
      "\u001b[32m[0107 14:25:00 @monitor.py:459]\u001b[0m valid_dice_Endothelium: 0.5563\n",
      "\u001b[32m[0107 14:25:00 @monitor.py:459]\u001b[0m valid_dice_Grade1: 0.70119\n",
      "\u001b[32m[0107 14:25:00 @monitor.py:459]\u001b[0m valid_dice_Grade2: 0.059508\n",
      "\u001b[32m[0107 14:25:00 @monitor.py:459]\u001b[0m valid_dice_Grade3: 0.63618\n",
      "\u001b[32m[0107 14:25:00 @monitor.py:459]\u001b[0m valid_mae: 0.038713\n",
      "\u001b[32m[0107 14:25:00 @monitor.py:459]\u001b[0m valid_mean_dice: 0.4883\n",
      "\u001b[32m[0107 14:25:00 @monitor.py:459]\u001b[0m valid_ssim: 1.6662\n",
      "\u001b[32m[0107 14:25:00 @group.py:48]\u001b[0m Callbacks took 17.397 sec in total. DataParallelInferenceRunner: 16.7 seconds\n",
      "\u001b[32m[0107 14:25:00 @base.py:272]\u001b[0m Start Epoch 14 ...\n"
     ]
    },
    {
     "name": "stderr",
     "output_type": "stream",
     "text": [
      "100%|##########|350/350[03:26<00:00, 1.70it/s]"
     ]
    },
    {
     "name": "stdout",
     "output_type": "stream",
     "text": [
      "\u001b[32m[0107 14:28:27 @base.py:282]\u001b[0m Epoch 14 (global_step 4900) finished, time:3 minutes 26 seconds.\n"
     ]
    },
    {
     "name": "stderr",
     "output_type": "stream",
     "text": [
      "\n"
     ]
    },
    {
     "name": "stdout",
     "output_type": "stream",
     "text": [
      "\u001b[32m[0107 14:28:27 @saver.py:77]\u001b[0m Model saved to ./logs//High_CCRCC//hcnet_mix_dist_v/00/model-4900.\n"
     ]
    },
    {
     "name": "stderr",
     "output_type": "stream",
     "text": [
      "100%|##########|50/50[00:12<00:00, 4.07it/s]\n"
     ]
    },
    {
     "name": "stdout",
     "output_type": "stream",
     "text": [
      "\u001b[32m[0107 14:28:44 @monitor.py:459]\u001b[0m DataParallelInferenceRunner/QueueInput/queue_size: 49.957\n",
      "\u001b[32m[0107 14:28:44 @monitor.py:459]\u001b[0m QueueInput/queue_size: 49.556\n",
      "\u001b[32m[0107 14:28:44 @monitor.py:459]\u001b[0m learning_rate: 0.0001\n",
      "\u001b[32m[0107 14:28:44 @monitor.py:459]\u001b[0m loss-ce: 0.11727\n",
      "\u001b[32m[0107 14:28:44 @monitor.py:459]\u001b[0m loss-ce-12v3: 0.097793\n",
      "\u001b[32m[0107 14:28:44 @monitor.py:459]\u001b[0m loss-ce-1v23: 0.1079\n",
      "\u001b[32m[0107 14:28:44 @monitor.py:459]\u001b[0m loss-dice: 2.5452\n",
      "\u001b[32m[0107 14:28:44 @monitor.py:459]\u001b[0m loss-dice-12v3: 1.7209\n",
      "\u001b[32m[0107 14:28:44 @monitor.py:459]\u001b[0m loss-dice-1v23: 1.5916\n",
      "\u001b[32m[0107 14:28:44 @monitor.py:459]\u001b[0m loss-reg-mae: 2.7032\n",
      "\u001b[32m[0107 14:28:44 @monitor.py:459]\u001b[0m valid_acc: 0.97282\n",
      "\u001b[32m[0107 14:28:44 @monitor.py:459]\u001b[0m valid_dice: 0.83747\n",
      "\u001b[32m[0107 14:28:44 @monitor.py:459]\u001b[0m valid_dice_Endothelium: 0.58715\n",
      "\u001b[32m[0107 14:28:44 @monitor.py:459]\u001b[0m valid_dice_Grade1: 0.71577\n",
      "\u001b[32m[0107 14:28:44 @monitor.py:459]\u001b[0m valid_dice_Grade2: 0.22311\n",
      "\u001b[32m[0107 14:28:44 @monitor.py:459]\u001b[0m valid_dice_Grade3: 0.62736\n",
      "\u001b[32m[0107 14:28:44 @monitor.py:459]\u001b[0m valid_mae: 0.036628\n",
      "\u001b[32m[0107 14:28:44 @monitor.py:459]\u001b[0m valid_mean_dice: 0.53835\n",
      "\u001b[32m[0107 14:28:44 @monitor.py:459]\u001b[0m valid_ssim: 1.6598\n",
      "\u001b[32m[0107 14:28:44 @group.py:48]\u001b[0m Callbacks took 17.331 sec in total. DataParallelInferenceRunner: 16.7 seconds\n",
      "\u001b[32m[0107 14:28:44 @base.py:272]\u001b[0m Start Epoch 15 ...\n"
     ]
    },
    {
     "name": "stderr",
     "output_type": "stream",
     "text": [
      "100%|##########|350/350[03:26<00:00, 1.70it/s]"
     ]
    },
    {
     "name": "stdout",
     "output_type": "stream",
     "text": [
      "\u001b[32m[0107 14:32:10 @base.py:282]\u001b[0m Epoch 15 (global_step 5250) finished, time:3 minutes 26 seconds.\n"
     ]
    },
    {
     "name": "stderr",
     "output_type": "stream",
     "text": [
      "\n"
     ]
    },
    {
     "name": "stdout",
     "output_type": "stream",
     "text": [
      "\u001b[32m[0107 14:32:11 @saver.py:77]\u001b[0m Model saved to ./logs//High_CCRCC//hcnet_mix_dist_v/00/model-5250.\n"
     ]
    },
    {
     "name": "stderr",
     "output_type": "stream",
     "text": [
      "100%|##########|50/50[00:12<00:00, 4.06it/s]\n"
     ]
    },
    {
     "name": "stdout",
     "output_type": "stream",
     "text": [
      "\u001b[32m[0107 14:32:28 @monitor.py:459]\u001b[0m DataParallelInferenceRunner/QueueInput/queue_size: 49.888\n",
      "\u001b[32m[0107 14:32:28 @monitor.py:459]\u001b[0m QueueInput/queue_size: 49.726\n",
      "\u001b[32m[0107 14:32:28 @monitor.py:459]\u001b[0m learning_rate: 0.0001\n",
      "\u001b[32m[0107 14:32:28 @monitor.py:459]\u001b[0m loss-ce: 0.11655\n",
      "\u001b[32m[0107 14:32:28 @monitor.py:459]\u001b[0m loss-ce-12v3: 0.095847\n",
      "\u001b[32m[0107 14:32:28 @monitor.py:459]\u001b[0m loss-ce-1v23: 0.10697\n",
      "\u001b[32m[0107 14:32:28 @monitor.py:459]\u001b[0m loss-dice: 2.611\n",
      "\u001b[32m[0107 14:32:28 @monitor.py:459]\u001b[0m loss-dice-12v3: 1.7962\n",
      "\u001b[32m[0107 14:32:28 @monitor.py:459]\u001b[0m loss-dice-1v23: 1.6075\n",
      "\u001b[32m[0107 14:32:28 @monitor.py:459]\u001b[0m loss-reg-mae: 0.017357\n",
      "\u001b[32m[0107 14:32:28 @monitor.py:459]\u001b[0m valid_acc: 0.97258\n",
      "\u001b[32m[0107 14:32:28 @monitor.py:459]\u001b[0m valid_dice: 0.83552\n",
      "\u001b[32m[0107 14:32:28 @monitor.py:459]\u001b[0m valid_dice_Endothelium: 0.5598\n",
      "\u001b[32m[0107 14:32:28 @monitor.py:459]\u001b[0m valid_dice_Grade1: 0.70374\n",
      "\u001b[32m[0107 14:32:28 @monitor.py:459]\u001b[0m valid_dice_Grade2: 0.34438\n",
      "\u001b[32m[0107 14:32:28 @monitor.py:459]\u001b[0m valid_dice_Grade3: 0.63063\n",
      "\u001b[32m[0107 14:32:28 @monitor.py:459]\u001b[0m valid_mae: 0.039417\n",
      "\u001b[32m[0107 14:32:28 @monitor.py:459]\u001b[0m valid_mean_dice: 0.55964\n",
      "\u001b[32m[0107 14:32:28 @monitor.py:459]\u001b[0m valid_ssim: 1.637\n",
      "\u001b[32m[0107 14:32:28 @group.py:48]\u001b[0m Callbacks took 17.360 sec in total. DataParallelInferenceRunner: 16.7 seconds\n",
      "\u001b[32m[0107 14:32:28 @base.py:272]\u001b[0m Start Epoch 16 ...\n"
     ]
    },
    {
     "name": "stderr",
     "output_type": "stream",
     "text": [
      "100%|##########|350/350[03:26<00:00, 1.70it/s]"
     ]
    },
    {
     "name": "stdout",
     "output_type": "stream",
     "text": [
      "\u001b[32m[0107 14:35:54 @base.py:282]\u001b[0m Epoch 16 (global_step 5600) finished, time:3 minutes 26 seconds.\n"
     ]
    },
    {
     "name": "stderr",
     "output_type": "stream",
     "text": [
      "\n"
     ]
    },
    {
     "name": "stdout",
     "output_type": "stream",
     "text": [
      "\u001b[32m[0107 14:35:55 @saver.py:77]\u001b[0m Model saved to ./logs//High_CCRCC//hcnet_mix_dist_v/00/model-5600.\n"
     ]
    },
    {
     "name": "stderr",
     "output_type": "stream",
     "text": [
      "100%|##########|50/50[00:12<00:00, 4.06it/s]\n"
     ]
    },
    {
     "name": "stdout",
     "output_type": "stream",
     "text": [
      "\u001b[32m[0107 14:36:11 @monitor.py:459]\u001b[0m DataParallelInferenceRunner/QueueInput/queue_size: 49.62\n",
      "\u001b[32m[0107 14:36:11 @monitor.py:459]\u001b[0m QueueInput/queue_size: 49.792\n",
      "\u001b[32m[0107 14:36:11 @monitor.py:459]\u001b[0m learning_rate: 0.0001\n",
      "\u001b[32m[0107 14:36:11 @monitor.py:459]\u001b[0m loss-ce: 0.1135\n",
      "\u001b[32m[0107 14:36:11 @monitor.py:459]\u001b[0m loss-ce-12v3: 0.0933\n",
      "\u001b[32m[0107 14:36:11 @monitor.py:459]\u001b[0m loss-ce-1v23: 0.10499\n",
      "\u001b[32m[0107 14:36:11 @monitor.py:459]\u001b[0m loss-dice: 2.5979\n",
      "\u001b[32m[0107 14:36:11 @monitor.py:459]\u001b[0m loss-dice-12v3: 1.763\n",
      "\u001b[32m[0107 14:36:11 @monitor.py:459]\u001b[0m loss-dice-1v23: 1.61\n",
      "\u001b[32m[0107 14:36:11 @monitor.py:459]\u001b[0m loss-reg-mae: 6.9465\n",
      "\u001b[32m[0107 14:36:11 @monitor.py:459]\u001b[0m valid_acc: 0.97304\n",
      "\u001b[32m[0107 14:36:11 @monitor.py:459]\u001b[0m valid_dice: 0.83759\n",
      "\u001b[32m[0107 14:36:11 @monitor.py:459]\u001b[0m valid_dice_Endothelium: 0.54939\n",
      "\u001b[32m[0107 14:36:11 @monitor.py:459]\u001b[0m valid_dice_Grade1: 0.72404\n",
      "\u001b[32m[0107 14:36:11 @monitor.py:459]\u001b[0m valid_dice_Grade2: 0.1823\n",
      "\u001b[32m[0107 14:36:11 @monitor.py:459]\u001b[0m valid_dice_Grade3: 0.64591\n",
      "\u001b[32m[0107 14:36:11 @monitor.py:459]\u001b[0m valid_mae: 0.038767\n",
      "\u001b[32m[0107 14:36:11 @monitor.py:459]\u001b[0m valid_mean_dice: 0.52541\n",
      "\u001b[32m[0107 14:36:11 @monitor.py:459]\u001b[0m valid_ssim: 1.6334\n",
      "\u001b[32m[0107 14:36:11 @group.py:48]\u001b[0m Callbacks took 17.382 sec in total. DataParallelInferenceRunner: 16.7 seconds\n",
      "\u001b[32m[0107 14:36:11 @base.py:272]\u001b[0m Start Epoch 17 ...\n"
     ]
    },
    {
     "name": "stderr",
     "output_type": "stream",
     "text": [
      "100%|##########|350/350[03:26<00:00, 1.70it/s]"
     ]
    },
    {
     "name": "stdout",
     "output_type": "stream",
     "text": [
      "\u001b[32m[0107 14:39:38 @base.py:282]\u001b[0m Epoch 17 (global_step 5950) finished, time:3 minutes 26 seconds.\n"
     ]
    },
    {
     "name": "stderr",
     "output_type": "stream",
     "text": [
      "\n"
     ]
    },
    {
     "name": "stdout",
     "output_type": "stream",
     "text": [
      "\u001b[32m[0107 14:39:38 @saver.py:77]\u001b[0m Model saved to ./logs//High_CCRCC//hcnet_mix_dist_v/00/model-5950.\n"
     ]
    },
    {
     "name": "stderr",
     "output_type": "stream",
     "text": [
      "100%|##########|50/50[00:12<00:00, 4.05it/s]\n"
     ]
    },
    {
     "name": "stdout",
     "output_type": "stream",
     "text": [
      "\u001b[32m[0107 14:39:55 @saver.py:159]\u001b[0m Model at global_step=5950 with maximum valid_dice=0.84426 saved.\n",
      "\u001b[32m[0107 14:39:55 @monitor.py:459]\u001b[0m DataParallelInferenceRunner/QueueInput/queue_size: 49.792\n",
      "\u001b[32m[0107 14:39:55 @monitor.py:459]\u001b[0m QueueInput/queue_size: 49.661\n",
      "\u001b[32m[0107 14:39:55 @monitor.py:459]\u001b[0m learning_rate: 0.0001\n",
      "\u001b[32m[0107 14:39:55 @monitor.py:459]\u001b[0m loss-ce: 0.12799\n",
      "\u001b[32m[0107 14:39:55 @monitor.py:459]\u001b[0m loss-ce-12v3: 0.1068\n",
      "\u001b[32m[0107 14:39:55 @monitor.py:459]\u001b[0m loss-ce-1v23: 0.11725\n",
      "\u001b[32m[0107 14:39:55 @monitor.py:459]\u001b[0m loss-dice: 2.5152\n",
      "\u001b[32m[0107 14:39:55 @monitor.py:459]\u001b[0m loss-dice-12v3: 1.6853\n",
      "\u001b[32m[0107 14:39:55 @monitor.py:459]\u001b[0m loss-dice-1v23: 1.5792\n",
      "\u001b[32m[0107 14:39:55 @monitor.py:459]\u001b[0m loss-reg-mae: 0.57872\n",
      "\u001b[32m[0107 14:39:55 @monitor.py:459]\u001b[0m valid_acc: 0.97298\n",
      "\u001b[32m[0107 14:39:55 @monitor.py:459]\u001b[0m valid_dice: 0.84426\n",
      "\u001b[32m[0107 14:39:55 @monitor.py:459]\u001b[0m valid_dice_Endothelium: 0.59709\n",
      "\u001b[32m[0107 14:39:55 @monitor.py:459]\u001b[0m valid_dice_Grade1: 0.7264\n",
      "\u001b[32m[0107 14:39:55 @monitor.py:459]\u001b[0m valid_dice_Grade2: 0.34689\n",
      "\u001b[32m[0107 14:39:55 @monitor.py:459]\u001b[0m valid_dice_Grade3: 0.63347\n",
      "\u001b[32m[0107 14:39:55 @monitor.py:459]\u001b[0m valid_mae: 0.039645\n",
      "\u001b[32m[0107 14:39:55 @monitor.py:459]\u001b[0m valid_mean_dice: 0.57596\n",
      "\u001b[32m[0107 14:39:55 @monitor.py:459]\u001b[0m valid_ssim: 1.6135\n",
      "\u001b[32m[0107 14:39:55 @group.py:48]\u001b[0m Callbacks took 17.895 sec in total. DataParallelInferenceRunner: 17 seconds\n",
      "\u001b[32m[0107 14:39:55 @base.py:272]\u001b[0m Start Epoch 18 ...\n"
     ]
    },
    {
     "name": "stderr",
     "output_type": "stream",
     "text": [
      "100%|##########|350/350[03:26<00:00, 1.70it/s]"
     ]
    },
    {
     "name": "stdout",
     "output_type": "stream",
     "text": [
      "\u001b[32m[0107 14:43:22 @base.py:282]\u001b[0m Epoch 18 (global_step 6300) finished, time:3 minutes 26 seconds.\n"
     ]
    },
    {
     "name": "stderr",
     "output_type": "stream",
     "text": [
      "\n"
     ]
    },
    {
     "name": "stdout",
     "output_type": "stream",
     "text": [
      "\u001b[32m[0107 14:43:22 @saver.py:77]\u001b[0m Model saved to ./logs//High_CCRCC//hcnet_mix_dist_v/00/model-6300.\n"
     ]
    },
    {
     "name": "stderr",
     "output_type": "stream",
     "text": [
      "100%|##########|50/50[00:12<00:00, 4.08it/s]\n"
     ]
    },
    {
     "name": "stdout",
     "output_type": "stream",
     "text": [
      "\u001b[32m[0107 14:43:39 @saver.py:159]\u001b[0m Model at global_step=6300 with maximum valid_dice=0.84619 saved.\n",
      "\u001b[32m[0107 14:43:39 @monitor.py:459]\u001b[0m DataParallelInferenceRunner/QueueInput/queue_size: 49.984\n",
      "\u001b[32m[0107 14:43:39 @monitor.py:459]\u001b[0m QueueInput/queue_size: 49.021\n",
      "\u001b[32m[0107 14:43:39 @monitor.py:459]\u001b[0m learning_rate: 0.0001\n",
      "\u001b[32m[0107 14:43:39 @monitor.py:459]\u001b[0m loss-ce: 0.1108\n",
      "\u001b[32m[0107 14:43:39 @monitor.py:459]\u001b[0m loss-ce-12v3: 0.092326\n",
      "\u001b[32m[0107 14:43:39 @monitor.py:459]\u001b[0m loss-ce-1v23: 0.10295\n",
      "\u001b[32m[0107 14:43:39 @monitor.py:459]\u001b[0m loss-dice: 2.5347\n",
      "\u001b[32m[0107 14:43:39 @monitor.py:459]\u001b[0m loss-dice-12v3: 1.7059\n",
      "\u001b[32m[0107 14:43:39 @monitor.py:459]\u001b[0m loss-dice-1v23: 1.5621\n",
      "\u001b[32m[0107 14:43:39 @monitor.py:459]\u001b[0m loss-reg-mae: 0.015952\n",
      "\u001b[32m[0107 14:43:39 @monitor.py:459]\u001b[0m valid_acc: 0.97294\n",
      "\u001b[32m[0107 14:43:39 @monitor.py:459]\u001b[0m valid_dice: 0.84619\n",
      "\u001b[32m[0107 14:43:39 @monitor.py:459]\u001b[0m valid_dice_Endothelium: 0.5912\n",
      "\u001b[32m[0107 14:43:39 @monitor.py:459]\u001b[0m valid_dice_Grade1: 0.71777\n",
      "\u001b[32m[0107 14:43:39 @monitor.py:459]\u001b[0m valid_dice_Grade2: 0.3651\n",
      "\u001b[32m[0107 14:43:39 @monitor.py:459]\u001b[0m valid_dice_Grade3: 0.64805\n",
      "\u001b[32m[0107 14:43:39 @monitor.py:459]\u001b[0m valid_mae: 0.039969\n",
      "\u001b[32m[0107 14:43:39 @monitor.py:459]\u001b[0m valid_mean_dice: 0.58053\n",
      "\u001b[32m[0107 14:43:39 @monitor.py:459]\u001b[0m valid_ssim: 1.6047\n",
      "\u001b[32m[0107 14:43:39 @group.py:48]\u001b[0m Callbacks took 17.583 sec in total. DataParallelInferenceRunner: 16.7 seconds\n",
      "\u001b[32m[0107 14:43:39 @base.py:272]\u001b[0m Start Epoch 19 ...\n"
     ]
    },
    {
     "name": "stderr",
     "output_type": "stream",
     "text": [
      "100%|##########|350/350[03:26<00:00, 1.70it/s]"
     ]
    },
    {
     "name": "stdout",
     "output_type": "stream",
     "text": [
      "\u001b[32m[0107 14:47:05 @base.py:282]\u001b[0m Epoch 19 (global_step 6650) finished, time:3 minutes 26 seconds.\n"
     ]
    },
    {
     "name": "stderr",
     "output_type": "stream",
     "text": [
      "\n"
     ]
    },
    {
     "name": "stdout",
     "output_type": "stream",
     "text": [
      "\u001b[32m[0107 14:47:06 @saver.py:77]\u001b[0m Model saved to ./logs//High_CCRCC//hcnet_mix_dist_v/00/model-6650.\n"
     ]
    },
    {
     "name": "stderr",
     "output_type": "stream",
     "text": [
      "100%|##########|50/50[00:12<00:00, 4.04it/s]\n"
     ]
    },
    {
     "name": "stdout",
     "output_type": "stream",
     "text": [
      "\u001b[32m[0107 14:47:23 @monitor.py:459]\u001b[0m DataParallelInferenceRunner/QueueInput/queue_size: 49.831\n",
      "\u001b[32m[0107 14:47:23 @monitor.py:459]\u001b[0m QueueInput/queue_size: 49.714\n",
      "\u001b[32m[0107 14:47:23 @monitor.py:459]\u001b[0m learning_rate: 0.0001\n",
      "\u001b[32m[0107 14:47:23 @monitor.py:459]\u001b[0m loss-ce: 0.12106\n",
      "\u001b[32m[0107 14:47:23 @monitor.py:459]\u001b[0m loss-ce-12v3: 0.099075\n",
      "\u001b[32m[0107 14:47:23 @monitor.py:459]\u001b[0m loss-ce-1v23: 0.1112\n",
      "\u001b[32m[0107 14:47:23 @monitor.py:459]\u001b[0m loss-dice: 2.4377\n",
      "\u001b[32m[0107 14:47:23 @monitor.py:459]\u001b[0m loss-dice-12v3: 1.6129\n",
      "\u001b[32m[0107 14:47:23 @monitor.py:459]\u001b[0m loss-dice-1v23: 1.5209\n",
      "\u001b[32m[0107 14:47:23 @monitor.py:459]\u001b[0m loss-reg-mae: 0.017102\n",
      "\u001b[32m[0107 14:47:23 @monitor.py:459]\u001b[0m valid_acc: 0.97116\n",
      "\u001b[32m[0107 14:47:23 @monitor.py:459]\u001b[0m valid_dice: 0.84056\n",
      "\u001b[32m[0107 14:47:23 @monitor.py:459]\u001b[0m valid_dice_Endothelium: 0.58286\n",
      "\u001b[32m[0107 14:47:23 @monitor.py:459]\u001b[0m valid_dice_Grade1: 0.72889\n",
      "\u001b[32m[0107 14:47:23 @monitor.py:459]\u001b[0m valid_dice_Grade2: 0.30137\n",
      "\u001b[32m[0107 14:47:23 @monitor.py:459]\u001b[0m valid_dice_Grade3: 0.64292\n",
      "\u001b[32m[0107 14:47:23 @monitor.py:459]\u001b[0m valid_mae: 0.039821\n",
      "\u001b[32m[0107 14:47:23 @monitor.py:459]\u001b[0m valid_mean_dice: 0.56401\n",
      "\u001b[32m[0107 14:47:23 @monitor.py:459]\u001b[0m valid_ssim: 1.5943\n",
      "\u001b[32m[0107 14:47:23 @group.py:48]\u001b[0m Callbacks took 17.451 sec in total. DataParallelInferenceRunner: 16.8 seconds\n",
      "\u001b[32m[0107 14:47:23 @base.py:272]\u001b[0m Start Epoch 20 ...\n"
     ]
    },
    {
     "name": "stderr",
     "output_type": "stream",
     "text": [
      "100%|##########|350/350[03:26<00:00, 1.70it/s]"
     ]
    },
    {
     "name": "stdout",
     "output_type": "stream",
     "text": [
      "\u001b[32m[0107 14:50:49 @base.py:282]\u001b[0m Epoch 20 (global_step 7000) finished, time:3 minutes 26 seconds.\n"
     ]
    },
    {
     "name": "stderr",
     "output_type": "stream",
     "text": [
      "\n"
     ]
    },
    {
     "name": "stdout",
     "output_type": "stream",
     "text": [
      "\u001b[32m[0107 14:50:50 @saver.py:77]\u001b[0m Model saved to ./logs//High_CCRCC//hcnet_mix_dist_v/00/model-7000.\n"
     ]
    },
    {
     "name": "stderr",
     "output_type": "stream",
     "text": [
      "100%|##########|50/50[00:12<00:00, 4.07it/s]\n"
     ]
    },
    {
     "name": "stdout",
     "output_type": "stream",
     "text": [
      "\u001b[32m[0107 14:51:07 @monitor.py:459]\u001b[0m DataParallelInferenceRunner/QueueInput/queue_size: 49.873\n",
      "\u001b[32m[0107 14:51:07 @monitor.py:459]\u001b[0m QueueInput/queue_size: 49.73\n",
      "\u001b[32m[0107 14:51:07 @monitor.py:459]\u001b[0m learning_rate: 0.0001\n",
      "\u001b[32m[0107 14:51:07 @monitor.py:459]\u001b[0m loss-ce: 0.11701\n",
      "\u001b[32m[0107 14:51:07 @monitor.py:459]\u001b[0m loss-ce-12v3: 0.096997\n",
      "\u001b[32m[0107 14:51:07 @monitor.py:459]\u001b[0m loss-ce-1v23: 0.10443\n",
      "\u001b[32m[0107 14:51:07 @monitor.py:459]\u001b[0m loss-dice: 2.5205\n",
      "\u001b[32m[0107 14:51:07 @monitor.py:459]\u001b[0m loss-dice-12v3: 1.6977\n",
      "\u001b[32m[0107 14:51:07 @monitor.py:459]\u001b[0m loss-dice-1v23: 1.5814\n",
      "\u001b[32m[0107 14:51:07 @monitor.py:459]\u001b[0m loss-reg-mae: 0.016408\n",
      "\u001b[32m[0107 14:51:07 @monitor.py:459]\u001b[0m valid_acc: 0.97339\n",
      "\u001b[32m[0107 14:51:07 @monitor.py:459]\u001b[0m valid_dice: 0.8415\n",
      "\u001b[32m[0107 14:51:07 @monitor.py:459]\u001b[0m valid_dice_Endothelium: 0.57638\n",
      "\u001b[32m[0107 14:51:07 @monitor.py:459]\u001b[0m valid_dice_Grade1: 0.71953\n",
      "\u001b[32m[0107 14:51:07 @monitor.py:459]\u001b[0m valid_dice_Grade2: 0.35019\n",
      "\u001b[32m[0107 14:51:07 @monitor.py:459]\u001b[0m valid_dice_Grade3: 0.65532\n",
      "\u001b[32m[0107 14:51:07 @monitor.py:459]\u001b[0m valid_mae: 0.039954\n",
      "\u001b[32m[0107 14:51:07 @monitor.py:459]\u001b[0m valid_mean_dice: 0.57536\n",
      "\u001b[32m[0107 14:51:07 @monitor.py:459]\u001b[0m valid_ssim: 1.5893\n",
      "\u001b[32m[0107 14:51:07 @group.py:48]\u001b[0m Callbacks took 17.341 sec in total. DataParallelInferenceRunner: 16.7 seconds\n",
      "\u001b[32m[0107 14:51:07 @base.py:272]\u001b[0m Start Epoch 21 ...\n"
     ]
    },
    {
     "name": "stderr",
     "output_type": "stream",
     "text": [
      "100%|##########|350/350[03:26<00:00, 1.70it/s]"
     ]
    },
    {
     "name": "stdout",
     "output_type": "stream",
     "text": [
      "\u001b[32m[0107 14:54:33 @base.py:282]\u001b[0m Epoch 21 (global_step 7350) finished, time:3 minutes 26 seconds.\n"
     ]
    },
    {
     "name": "stderr",
     "output_type": "stream",
     "text": [
      "\n"
     ]
    },
    {
     "name": "stdout",
     "output_type": "stream",
     "text": [
      "\u001b[32m[0107 14:54:34 @saver.py:77]\u001b[0m Model saved to ./logs//High_CCRCC//hcnet_mix_dist_v/00/model-7350.\n"
     ]
    },
    {
     "name": "stderr",
     "output_type": "stream",
     "text": [
      "100%|##########|50/50[00:12<00:00, 4.03it/s]\n"
     ]
    },
    {
     "name": "stdout",
     "output_type": "stream",
     "text": [
      "\u001b[32m[0107 14:54:51 @saver.py:159]\u001b[0m Model at global_step=7350 with maximum valid_dice=0.84744 saved.\n",
      "\u001b[32m[0107 14:54:51 @monitor.py:459]\u001b[0m DataParallelInferenceRunner/QueueInput/queue_size: 49.897\n",
      "\u001b[32m[0107 14:54:51 @monitor.py:459]\u001b[0m QueueInput/queue_size: 49.546\n",
      "\u001b[32m[0107 14:54:51 @monitor.py:459]\u001b[0m learning_rate: 0.0001\n",
      "\u001b[32m[0107 14:54:51 @monitor.py:459]\u001b[0m loss-ce: 0.10811\n",
      "\u001b[32m[0107 14:54:51 @monitor.py:459]\u001b[0m loss-ce-12v3: 0.08756\n",
      "\u001b[32m[0107 14:54:51 @monitor.py:459]\u001b[0m loss-ce-1v23: 0.10039\n",
      "\u001b[32m[0107 14:54:51 @monitor.py:459]\u001b[0m loss-dice: 2.4062\n",
      "\u001b[32m[0107 14:54:51 @monitor.py:459]\u001b[0m loss-dice-12v3: 1.5962\n",
      "\u001b[32m[0107 14:54:51 @monitor.py:459]\u001b[0m loss-dice-1v23: 1.5287\n",
      "\u001b[32m[0107 14:54:51 @monitor.py:459]\u001b[0m loss-reg-mae: 0.021982\n",
      "\u001b[32m[0107 14:54:51 @monitor.py:459]\u001b[0m valid_acc: 0.97326\n",
      "\u001b[32m[0107 14:54:51 @monitor.py:459]\u001b[0m valid_dice: 0.84744\n",
      "\u001b[32m[0107 14:54:51 @monitor.py:459]\u001b[0m valid_dice_Endothelium: 0.59588\n",
      "\u001b[32m[0107 14:54:51 @monitor.py:459]\u001b[0m valid_dice_Grade1: 0.73459\n",
      "\u001b[32m[0107 14:54:51 @monitor.py:459]\u001b[0m valid_dice_Grade2: 0.35576\n",
      "\u001b[32m[0107 14:54:51 @monitor.py:459]\u001b[0m valid_dice_Grade3: 0.67378\n",
      "\u001b[32m[0107 14:54:51 @monitor.py:459]\u001b[0m valid_mae: 0.038665\n",
      "\u001b[32m[0107 14:54:51 @monitor.py:459]\u001b[0m valid_mean_dice: 0.59\n",
      "\u001b[32m[0107 14:54:51 @monitor.py:459]\u001b[0m valid_ssim: 1.5895\n",
      "\u001b[32m[0107 14:54:51 @group.py:48]\u001b[0m Callbacks took 17.739 sec in total. DataParallelInferenceRunner: 16.8 seconds\n",
      "\u001b[32m[0107 14:54:51 @base.py:272]\u001b[0m Start Epoch 22 ...\n"
     ]
    },
    {
     "name": "stderr",
     "output_type": "stream",
     "text": [
      "100%|##########|350/350[03:26<00:00, 1.70it/s]"
     ]
    },
    {
     "name": "stdout",
     "output_type": "stream",
     "text": [
      "\u001b[32m[0107 14:58:17 @base.py:282]\u001b[0m Epoch 22 (global_step 7700) finished, time:3 minutes 26 seconds.\n"
     ]
    },
    {
     "name": "stderr",
     "output_type": "stream",
     "text": [
      "\n"
     ]
    },
    {
     "name": "stdout",
     "output_type": "stream",
     "text": [
      "\u001b[32m[0107 14:58:18 @saver.py:77]\u001b[0m Model saved to ./logs//High_CCRCC//hcnet_mix_dist_v/00/model-7700.\n"
     ]
    },
    {
     "name": "stderr",
     "output_type": "stream",
     "text": [
      "100%|##########|50/50[00:12<00:00, 4.05it/s]\n"
     ]
    },
    {
     "name": "stdout",
     "output_type": "stream",
     "text": [
      "\u001b[32m[0107 14:58:34 @monitor.py:459]\u001b[0m DataParallelInferenceRunner/QueueInput/queue_size: 49.966\n",
      "\u001b[32m[0107 14:58:34 @monitor.py:459]\u001b[0m QueueInput/queue_size: 49.807\n",
      "\u001b[32m[0107 14:58:34 @monitor.py:459]\u001b[0m learning_rate: 0.0001\n",
      "\u001b[32m[0107 14:58:34 @monitor.py:459]\u001b[0m loss-ce: 0.11168\n",
      "\u001b[32m[0107 14:58:34 @monitor.py:459]\u001b[0m loss-ce-12v3: 0.093626\n",
      "\u001b[32m[0107 14:58:34 @monitor.py:459]\u001b[0m loss-ce-1v23: 0.10264\n",
      "\u001b[32m[0107 14:58:34 @monitor.py:459]\u001b[0m loss-dice: 2.4553\n",
      "\u001b[32m[0107 14:58:34 @monitor.py:459]\u001b[0m loss-dice-12v3: 1.6178\n",
      "\u001b[32m[0107 14:58:34 @monitor.py:459]\u001b[0m loss-dice-1v23: 1.5237\n",
      "\u001b[32m[0107 14:58:34 @monitor.py:459]\u001b[0m loss-reg-mae: 0.015922\n",
      "\u001b[32m[0107 14:58:34 @monitor.py:459]\u001b[0m valid_acc: 0.97205\n",
      "\u001b[32m[0107 14:58:34 @monitor.py:459]\u001b[0m valid_dice: 0.8302\n",
      "\u001b[32m[0107 14:58:34 @monitor.py:459]\u001b[0m valid_dice_Endothelium: 0.58135\n",
      "\u001b[32m[0107 14:58:34 @monitor.py:459]\u001b[0m valid_dice_Grade1: 0.6985\n",
      "\u001b[32m[0107 14:58:34 @monitor.py:459]\u001b[0m valid_dice_Grade2: 0.37379\n",
      "\u001b[32m[0107 14:58:34 @monitor.py:459]\u001b[0m valid_dice_Grade3: 0.66711\n",
      "\u001b[32m[0107 14:58:34 @monitor.py:459]\u001b[0m valid_mae: 0.039436\n",
      "\u001b[32m[0107 14:58:34 @monitor.py:459]\u001b[0m valid_mean_dice: 0.58019\n",
      "\u001b[32m[0107 14:58:34 @monitor.py:459]\u001b[0m valid_ssim: 1.576\n",
      "\u001b[32m[0107 14:58:34 @group.py:48]\u001b[0m Callbacks took 17.424 sec in total. DataParallelInferenceRunner: 16.8 seconds\n",
      "\u001b[32m[0107 14:58:34 @base.py:272]\u001b[0m Start Epoch 23 ...\n"
     ]
    },
    {
     "name": "stderr",
     "output_type": "stream",
     "text": [
      "100%|##########|350/350[03:26<00:00, 1.69it/s]"
     ]
    },
    {
     "name": "stdout",
     "output_type": "stream",
     "text": [
      "\u001b[32m[0107 15:02:01 @base.py:282]\u001b[0m Epoch 23 (global_step 8050) finished, time:3 minutes 26 seconds.\n"
     ]
    },
    {
     "name": "stderr",
     "output_type": "stream",
     "text": [
      "\n"
     ]
    },
    {
     "name": "stdout",
     "output_type": "stream",
     "text": [
      "\u001b[32m[0107 15:02:02 @saver.py:77]\u001b[0m Model saved to ./logs//High_CCRCC//hcnet_mix_dist_v/00/model-8050.\n"
     ]
    },
    {
     "name": "stderr",
     "output_type": "stream",
     "text": [
      "100%|##########|50/50[00:12<00:00, 4.06it/s]\n"
     ]
    },
    {
     "name": "stdout",
     "output_type": "stream",
     "text": [
      "\u001b[32m[0107 15:02:19 @saver.py:159]\u001b[0m Model at global_step=8050 with maximum valid_dice=0.84746 saved.\n",
      "\u001b[32m[0107 15:02:19 @monitor.py:459]\u001b[0m DataParallelInferenceRunner/QueueInput/queue_size: 49.615\n",
      "\u001b[32m[0107 15:02:19 @monitor.py:459]\u001b[0m QueueInput/queue_size: 49.746\n",
      "\u001b[32m[0107 15:02:19 @monitor.py:459]\u001b[0m learning_rate: 0.0001\n",
      "\u001b[32m[0107 15:02:19 @monitor.py:459]\u001b[0m loss-ce: 0.1062\n",
      "\u001b[32m[0107 15:02:19 @monitor.py:459]\u001b[0m loss-ce-12v3: 0.08729\n",
      "\u001b[32m[0107 15:02:19 @monitor.py:459]\u001b[0m loss-ce-1v23: 0.098396\n",
      "\u001b[32m[0107 15:02:19 @monitor.py:459]\u001b[0m loss-dice: 2.412\n",
      "\u001b[32m[0107 15:02:19 @monitor.py:459]\u001b[0m loss-dice-12v3: 1.5994\n",
      "\u001b[32m[0107 15:02:19 @monitor.py:459]\u001b[0m loss-dice-1v23: 1.4806\n",
      "\u001b[32m[0107 15:02:19 @monitor.py:459]\u001b[0m loss-reg-mae: 0.0154\n",
      "\u001b[32m[0107 15:02:19 @monitor.py:459]\u001b[0m valid_acc: 0.97308\n",
      "\u001b[32m[0107 15:02:19 @monitor.py:459]\u001b[0m valid_dice: 0.84746\n",
      "\u001b[32m[0107 15:02:19 @monitor.py:459]\u001b[0m valid_dice_Endothelium: 0.60153\n",
      "\u001b[32m[0107 15:02:19 @monitor.py:459]\u001b[0m valid_dice_Grade1: 0.73418\n",
      "\u001b[32m[0107 15:02:19 @monitor.py:459]\u001b[0m valid_dice_Grade2: 0.38315\n",
      "\u001b[32m[0107 15:02:19 @monitor.py:459]\u001b[0m valid_dice_Grade3: 0.68108\n",
      "\u001b[32m[0107 15:02:19 @monitor.py:459]\u001b[0m valid_mae: 0.039368\n",
      "\u001b[32m[0107 15:02:19 @monitor.py:459]\u001b[0m valid_mean_dice: 0.59998\n",
      "\u001b[32m[0107 15:02:19 @monitor.py:459]\u001b[0m valid_ssim: 1.5771\n",
      "\u001b[32m[0107 15:02:19 @group.py:48]\u001b[0m Callbacks took 18.050 sec in total. DataParallelInferenceRunner: 17.1 seconds\n",
      "\u001b[32m[0107 15:02:19 @base.py:272]\u001b[0m Start Epoch 24 ...\n"
     ]
    },
    {
     "name": "stderr",
     "output_type": "stream",
     "text": [
      "100%|##########|350/350[03:26<00:00, 1.70it/s]"
     ]
    },
    {
     "name": "stdout",
     "output_type": "stream",
     "text": [
      "\u001b[32m[0107 15:05:45 @base.py:282]\u001b[0m Epoch 24 (global_step 8400) finished, time:3 minutes 26 seconds.\n"
     ]
    },
    {
     "name": "stderr",
     "output_type": "stream",
     "text": [
      "\n"
     ]
    },
    {
     "name": "stdout",
     "output_type": "stream",
     "text": [
      "\u001b[32m[0107 15:05:46 @saver.py:77]\u001b[0m Model saved to ./logs//High_CCRCC//hcnet_mix_dist_v/00/model-8400.\n"
     ]
    },
    {
     "name": "stderr",
     "output_type": "stream",
     "text": [
      "100%|##########|50/50[00:12<00:00, 4.07it/s]\n"
     ]
    },
    {
     "name": "stdout",
     "output_type": "stream",
     "text": [
      "\u001b[32m[0107 15:06:02 @monitor.py:459]\u001b[0m DataParallelInferenceRunner/QueueInput/queue_size: 49.937\n",
      "\u001b[32m[0107 15:06:02 @monitor.py:459]\u001b[0m QueueInput/queue_size: 49.248\n",
      "\u001b[32m[0107 15:06:02 @monitor.py:459]\u001b[0m learning_rate: 0.0001\n",
      "\u001b[32m[0107 15:06:02 @monitor.py:459]\u001b[0m loss-ce: 0.10984\n",
      "\u001b[32m[0107 15:06:02 @monitor.py:459]\u001b[0m loss-ce-12v3: 0.089967\n",
      "\u001b[32m[0107 15:06:02 @monitor.py:459]\u001b[0m loss-ce-1v23: 0.10028\n",
      "\u001b[32m[0107 15:06:02 @monitor.py:459]\u001b[0m loss-dice: 2.4441\n",
      "\u001b[32m[0107 15:06:02 @monitor.py:459]\u001b[0m loss-dice-12v3: 1.602\n",
      "\u001b[32m[0107 15:06:02 @monitor.py:459]\u001b[0m loss-dice-1v23: 1.5244\n",
      "\u001b[32m[0107 15:06:02 @monitor.py:459]\u001b[0m loss-reg-mae: 0.015654\n",
      "\u001b[32m[0107 15:06:02 @monitor.py:459]\u001b[0m valid_acc: 0.97349\n",
      "\u001b[32m[0107 15:06:02 @monitor.py:459]\u001b[0m valid_dice: 0.84336\n",
      "\u001b[32m[0107 15:06:02 @monitor.py:459]\u001b[0m valid_dice_Endothelium: 0.59098\n",
      "\u001b[32m[0107 15:06:02 @monitor.py:459]\u001b[0m valid_dice_Grade1: 0.71211\n",
      "\u001b[32m[0107 15:06:02 @monitor.py:459]\u001b[0m valid_dice_Grade2: 0.37988\n",
      "\u001b[32m[0107 15:06:02 @monitor.py:459]\u001b[0m valid_dice_Grade3: 0.67789\n",
      "\u001b[32m[0107 15:06:02 @monitor.py:459]\u001b[0m valid_mae: 0.039616\n",
      "\u001b[32m[0107 15:06:02 @monitor.py:459]\u001b[0m valid_mean_dice: 0.59022\n",
      "\u001b[32m[0107 15:06:02 @monitor.py:459]\u001b[0m valid_ssim: 1.5659\n",
      "\u001b[32m[0107 15:06:02 @group.py:48]\u001b[0m Callbacks took 17.199 sec in total. DataParallelInferenceRunner: 16.6 seconds\n",
      "\u001b[32m[0107 15:06:02 @base.py:272]\u001b[0m Start Epoch 25 ...\n"
     ]
    },
    {
     "name": "stderr",
     "output_type": "stream",
     "text": [
      "100%|##########|350/350[03:26<00:00, 1.70it/s]"
     ]
    },
    {
     "name": "stdout",
     "output_type": "stream",
     "text": [
      "\u001b[32m[0107 15:09:28 @base.py:282]\u001b[0m Epoch 25 (global_step 8750) finished, time:3 minutes 26 seconds.\n"
     ]
    },
    {
     "name": "stderr",
     "output_type": "stream",
     "text": [
      "\n"
     ]
    },
    {
     "name": "stdout",
     "output_type": "stream",
     "text": [
      "\u001b[32m[0107 15:09:29 @saver.py:77]\u001b[0m Model saved to ./logs//High_CCRCC//hcnet_mix_dist_v/00/model-8750.\n",
      "\u001b[32m[0107 15:09:29 @param.py:158]\u001b[0m [HyperParamSetter] At global_step=8750, learning_rate is set to 0.000010\n"
     ]
    },
    {
     "name": "stderr",
     "output_type": "stream",
     "text": [
      "100%|##########|50/50[00:12<00:00, 4.04it/s]\n"
     ]
    },
    {
     "name": "stdout",
     "output_type": "stream",
     "text": [
      "\u001b[32m[0107 15:09:46 @monitor.py:459]\u001b[0m DataParallelInferenceRunner/QueueInput/queue_size: 49.976\n",
      "\u001b[32m[0107 15:09:46 @monitor.py:459]\u001b[0m QueueInput/queue_size: 49.938\n",
      "\u001b[32m[0107 15:09:46 @monitor.py:459]\u001b[0m learning_rate: 0.0001\n",
      "\u001b[32m[0107 15:09:46 @monitor.py:459]\u001b[0m loss-ce: 0.10913\n",
      "\u001b[32m[0107 15:09:46 @monitor.py:459]\u001b[0m loss-ce-12v3: 0.091111\n",
      "\u001b[32m[0107 15:09:46 @monitor.py:459]\u001b[0m loss-ce-1v23: 0.099746\n",
      "\u001b[32m[0107 15:09:46 @monitor.py:459]\u001b[0m loss-dice: 2.4864\n",
      "\u001b[32m[0107 15:09:46 @monitor.py:459]\u001b[0m loss-dice-12v3: 1.6719\n",
      "\u001b[32m[0107 15:09:46 @monitor.py:459]\u001b[0m loss-dice-1v23: 1.5174\n",
      "\u001b[32m[0107 15:09:46 @monitor.py:459]\u001b[0m loss-reg-mae: 0.067383\n",
      "\u001b[32m[0107 15:09:46 @monitor.py:459]\u001b[0m valid_acc: 0.97296\n",
      "\u001b[32m[0107 15:09:46 @monitor.py:459]\u001b[0m valid_dice: 0.84681\n",
      "\u001b[32m[0107 15:09:46 @monitor.py:459]\u001b[0m valid_dice_Endothelium: 0.54453\n",
      "\u001b[32m[0107 15:09:46 @monitor.py:459]\u001b[0m valid_dice_Grade1: 0.7352\n",
      "\u001b[32m[0107 15:09:46 @monitor.py:459]\u001b[0m valid_dice_Grade2: 0.36827\n",
      "\u001b[32m[0107 15:09:46 @monitor.py:459]\u001b[0m valid_dice_Grade3: 0.681\n",
      "\u001b[32m[0107 15:09:46 @monitor.py:459]\u001b[0m valid_mae: 0.038756\n",
      "\u001b[32m[0107 15:09:46 @monitor.py:459]\u001b[0m valid_mean_dice: 0.58225\n",
      "\u001b[32m[0107 15:09:46 @monitor.py:459]\u001b[0m valid_ssim: 1.5795\n",
      "\u001b[32m[0107 15:09:46 @group.py:48]\u001b[0m Callbacks took 17.715 sec in total. DataParallelInferenceRunner: 16.7 seconds\n",
      "\u001b[32m[0107 15:09:46 @base.py:272]\u001b[0m Start Epoch 26 ...\n"
     ]
    },
    {
     "name": "stderr",
     "output_type": "stream",
     "text": [
      "100%|##########|350/350[03:26<00:00, 1.70it/s]"
     ]
    },
    {
     "name": "stdout",
     "output_type": "stream",
     "text": [
      "\u001b[32m[0107 15:13:12 @base.py:282]\u001b[0m Epoch 26 (global_step 9100) finished, time:3 minutes 26 seconds.\n"
     ]
    },
    {
     "name": "stderr",
     "output_type": "stream",
     "text": [
      "\n"
     ]
    },
    {
     "name": "stdout",
     "output_type": "stream",
     "text": [
      "\u001b[32m[0107 15:13:13 @saver.py:77]\u001b[0m Model saved to ./logs//High_CCRCC//hcnet_mix_dist_v/00/model-9100.\n"
     ]
    },
    {
     "name": "stderr",
     "output_type": "stream",
     "text": [
      "100%|##########|50/50[00:12<00:00, 4.07it/s]\n"
     ]
    },
    {
     "name": "stdout",
     "output_type": "stream",
     "text": [
      "\u001b[32m[0107 15:13:30 @saver.py:159]\u001b[0m Model at global_step=9100 with maximum valid_dice=0.84941 saved.\n",
      "\u001b[32m[0107 15:13:30 @monitor.py:459]\u001b[0m DataParallelInferenceRunner/QueueInput/queue_size: 49.987\n",
      "\u001b[32m[0107 15:13:30 @monitor.py:459]\u001b[0m QueueInput/queue_size: 49.67\n",
      "\u001b[32m[0107 15:13:30 @monitor.py:459]\u001b[0m learning_rate: 1e-05\n",
      "\u001b[32m[0107 15:13:30 @monitor.py:459]\u001b[0m loss-ce: 0.11233\n",
      "\u001b[32m[0107 15:13:30 @monitor.py:459]\u001b[0m loss-ce-12v3: 0.091509\n",
      "\u001b[32m[0107 15:13:30 @monitor.py:459]\u001b[0m loss-ce-1v23: 0.10106\n",
      "\u001b[32m[0107 15:13:30 @monitor.py:459]\u001b[0m loss-dice: 2.3199\n",
      "\u001b[32m[0107 15:13:30 @monitor.py:459]\u001b[0m loss-dice-12v3: 1.5281\n",
      "\u001b[32m[0107 15:13:30 @monitor.py:459]\u001b[0m loss-dice-1v23: 1.459\n",
      "\u001b[32m[0107 15:13:30 @monitor.py:459]\u001b[0m loss-reg-mae: 0.66974\n",
      "\u001b[32m[0107 15:13:30 @monitor.py:459]\u001b[0m valid_acc: 0.97399\n",
      "\u001b[32m[0107 15:13:30 @monitor.py:459]\u001b[0m valid_dice: 0.84941\n",
      "\u001b[32m[0107 15:13:30 @monitor.py:459]\u001b[0m valid_dice_Endothelium: 0.59882\n",
      "\u001b[32m[0107 15:13:30 @monitor.py:459]\u001b[0m valid_dice_Grade1: 0.7423\n",
      "\u001b[32m[0107 15:13:30 @monitor.py:459]\u001b[0m valid_dice_Grade2: 0.40893\n",
      "\u001b[32m[0107 15:13:30 @monitor.py:459]\u001b[0m valid_dice_Grade3: 0.70159\n",
      "\u001b[32m[0107 15:13:30 @monitor.py:459]\u001b[0m valid_mae: 0.039446\n",
      "\u001b[32m[0107 15:13:30 @monitor.py:459]\u001b[0m valid_mean_dice: 0.61291\n",
      "\u001b[32m[0107 15:13:30 @monitor.py:459]\u001b[0m valid_ssim: 1.5706\n",
      "\u001b[32m[0107 15:13:30 @group.py:48]\u001b[0m Callbacks took 17.422 sec in total. DataParallelInferenceRunner: 16.6 seconds\n",
      "\u001b[32m[0107 15:13:30 @base.py:272]\u001b[0m Start Epoch 27 ...\n"
     ]
    },
    {
     "name": "stderr",
     "output_type": "stream",
     "text": [
      "100%|##########|350/350[03:26<00:00, 1.70it/s]"
     ]
    },
    {
     "name": "stdout",
     "output_type": "stream",
     "text": [
      "\u001b[32m[0107 15:16:56 @base.py:282]\u001b[0m Epoch 27 (global_step 9450) finished, time:3 minutes 26 seconds.\n"
     ]
    },
    {
     "name": "stderr",
     "output_type": "stream",
     "text": [
      "\n"
     ]
    },
    {
     "name": "stdout",
     "output_type": "stream",
     "text": [
      "\u001b[32m[0107 15:16:56 @saver.py:77]\u001b[0m Model saved to ./logs//High_CCRCC//hcnet_mix_dist_v/00/model-9450.\n"
     ]
    },
    {
     "name": "stderr",
     "output_type": "stream",
     "text": [
      "100%|##########|50/50[00:12<00:00, 4.07it/s]\n"
     ]
    },
    {
     "name": "stdout",
     "output_type": "stream",
     "text": [
      "\u001b[32m[0107 15:17:13 @monitor.py:459]\u001b[0m DataParallelInferenceRunner/QueueInput/queue_size: 49.964\n",
      "\u001b[32m[0107 15:17:13 @monitor.py:459]\u001b[0m QueueInput/queue_size: 49.99\n",
      "\u001b[32m[0107 15:17:13 @monitor.py:459]\u001b[0m learning_rate: 1e-05\n",
      "\u001b[32m[0107 15:17:13 @monitor.py:459]\u001b[0m loss-ce: 0.10468\n",
      "\u001b[32m[0107 15:17:13 @monitor.py:459]\u001b[0m loss-ce-12v3: 0.084334\n",
      "\u001b[32m[0107 15:17:13 @monitor.py:459]\u001b[0m loss-ce-1v23: 0.097351\n",
      "\u001b[32m[0107 15:17:13 @monitor.py:459]\u001b[0m loss-dice: 2.3114\n",
      "\u001b[32m[0107 15:17:13 @monitor.py:459]\u001b[0m loss-dice-12v3: 1.5121\n",
      "\u001b[32m[0107 15:17:13 @monitor.py:459]\u001b[0m loss-dice-1v23: 1.4812\n",
      "\u001b[32m[0107 15:17:13 @monitor.py:459]\u001b[0m loss-reg-mae: 0.11247\n",
      "\u001b[32m[0107 15:17:13 @monitor.py:459]\u001b[0m valid_acc: 0.97401\n",
      "\u001b[32m[0107 15:17:13 @monitor.py:459]\u001b[0m valid_dice: 0.84811\n",
      "\u001b[32m[0107 15:17:13 @monitor.py:459]\u001b[0m valid_dice_Endothelium: 0.60561\n",
      "\u001b[32m[0107 15:17:13 @monitor.py:459]\u001b[0m valid_dice_Grade1: 0.73715\n",
      "\u001b[32m[0107 15:17:13 @monitor.py:459]\u001b[0m valid_dice_Grade2: 0.40995\n",
      "\u001b[32m[0107 15:17:13 @monitor.py:459]\u001b[0m valid_dice_Grade3: 0.70217\n",
      "\u001b[32m[0107 15:17:13 @monitor.py:459]\u001b[0m valid_mae: 0.038951\n",
      "\u001b[32m[0107 15:17:13 @monitor.py:459]\u001b[0m valid_mean_dice: 0.61372\n",
      "\u001b[32m[0107 15:17:13 @monitor.py:459]\u001b[0m valid_ssim: 1.5695\n",
      "\u001b[32m[0107 15:17:13 @group.py:48]\u001b[0m Callbacks took 17.169 sec in total. DataParallelInferenceRunner: 16.6 seconds\n",
      "\u001b[32m[0107 15:17:13 @base.py:272]\u001b[0m Start Epoch 28 ...\n"
     ]
    },
    {
     "name": "stderr",
     "output_type": "stream",
     "text": [
      "100%|##########|350/350[03:26<00:00, 1.70it/s]"
     ]
    },
    {
     "name": "stdout",
     "output_type": "stream",
     "text": [
      "\u001b[32m[0107 15:20:39 @base.py:282]\u001b[0m Epoch 28 (global_step 9800) finished, time:3 minutes 26 seconds.\n"
     ]
    },
    {
     "name": "stderr",
     "output_type": "stream",
     "text": [
      "\n"
     ]
    },
    {
     "name": "stdout",
     "output_type": "stream",
     "text": [
      "\u001b[32m[0107 15:20:40 @saver.py:77]\u001b[0m Model saved to ./logs//High_CCRCC//hcnet_mix_dist_v/00/model-9800.\n"
     ]
    },
    {
     "name": "stderr",
     "output_type": "stream",
     "text": [
      "100%|##########|50/50[00:12<00:00, 4.05it/s]\n"
     ]
    },
    {
     "name": "stdout",
     "output_type": "stream",
     "text": [
      "\u001b[32m[0107 15:20:57 @saver.py:159]\u001b[0m Model at global_step=9800 with maximum valid_dice=0.85037 saved.\n",
      "\u001b[32m[0107 15:20:57 @monitor.py:459]\u001b[0m DataParallelInferenceRunner/QueueInput/queue_size: 49.637\n",
      "\u001b[32m[0107 15:20:57 @monitor.py:459]\u001b[0m QueueInput/queue_size: 49.868\n",
      "\u001b[32m[0107 15:20:57 @monitor.py:459]\u001b[0m learning_rate: 1e-05\n",
      "\u001b[32m[0107 15:20:57 @monitor.py:459]\u001b[0m loss-ce: 0.1035\n",
      "\u001b[32m[0107 15:20:57 @monitor.py:459]\u001b[0m loss-ce-12v3: 0.085977\n",
      "\u001b[32m[0107 15:20:57 @monitor.py:459]\u001b[0m loss-ce-1v23: 0.093752\n",
      "\u001b[32m[0107 15:20:57 @monitor.py:459]\u001b[0m loss-dice: 2.2894\n",
      "\u001b[32m[0107 15:20:57 @monitor.py:459]\u001b[0m loss-dice-12v3: 1.5138\n",
      "\u001b[32m[0107 15:20:57 @monitor.py:459]\u001b[0m loss-dice-1v23: 1.415\n",
      "\u001b[32m[0107 15:20:57 @monitor.py:459]\u001b[0m loss-reg-mae: 0.014846\n",
      "\u001b[32m[0107 15:20:57 @monitor.py:459]\u001b[0m valid_acc: 0.97396\n",
      "\u001b[32m[0107 15:20:57 @monitor.py:459]\u001b[0m valid_dice: 0.85037\n",
      "\u001b[32m[0107 15:20:57 @monitor.py:459]\u001b[0m valid_dice_Endothelium: 0.59465\n",
      "\u001b[32m[0107 15:20:57 @monitor.py:459]\u001b[0m valid_dice_Grade1: 0.74459\n",
      "\u001b[32m[0107 15:20:57 @monitor.py:459]\u001b[0m valid_dice_Grade2: 0.42091\n",
      "\u001b[32m[0107 15:20:57 @monitor.py:459]\u001b[0m valid_dice_Grade3: 0.69898\n",
      "\u001b[32m[0107 15:20:57 @monitor.py:459]\u001b[0m valid_mae: 0.039965\n",
      "\u001b[32m[0107 15:20:57 @monitor.py:459]\u001b[0m valid_mean_dice: 0.61478\n",
      "\u001b[32m[0107 15:20:57 @monitor.py:459]\u001b[0m valid_ssim: 1.5644\n",
      "\u001b[32m[0107 15:20:57 @group.py:48]\u001b[0m Callbacks took 17.491 sec in total. DataParallelInferenceRunner: 16.6 seconds\n",
      "\u001b[32m[0107 15:20:57 @base.py:272]\u001b[0m Start Epoch 29 ...\n"
     ]
    },
    {
     "name": "stderr",
     "output_type": "stream",
     "text": [
      "100%|##########|350/350[03:26<00:00, 1.70it/s]"
     ]
    },
    {
     "name": "stdout",
     "output_type": "stream",
     "text": [
      "\u001b[32m[0107 15:24:23 @base.py:282]\u001b[0m Epoch 29 (global_step 10150) finished, time:3 minutes 26 seconds.\n"
     ]
    },
    {
     "name": "stderr",
     "output_type": "stream",
     "text": [
      "\n"
     ]
    },
    {
     "name": "stdout",
     "output_type": "stream",
     "text": [
      "\u001b[32m[0107 15:24:23 @saver.py:77]\u001b[0m Model saved to ./logs//High_CCRCC//hcnet_mix_dist_v/00/model-10150.\n"
     ]
    },
    {
     "name": "stderr",
     "output_type": "stream",
     "text": [
      "100%|##########|50/50[00:12<00:00, 4.07it/s]\n"
     ]
    },
    {
     "name": "stdout",
     "output_type": "stream",
     "text": [
      "\u001b[32m[0107 15:24:40 @saver.py:159]\u001b[0m Model at global_step=10150 with maximum valid_dice=0.85085 saved.\n",
      "\u001b[32m[0107 15:24:40 @monitor.py:459]\u001b[0m DataParallelInferenceRunner/QueueInput/queue_size: 49.854\n",
      "\u001b[32m[0107 15:24:40 @monitor.py:459]\u001b[0m QueueInput/queue_size: 49.668\n",
      "\u001b[32m[0107 15:24:40 @monitor.py:459]\u001b[0m learning_rate: 1e-05\n",
      "\u001b[32m[0107 15:24:40 @monitor.py:459]\u001b[0m loss-ce: 0.11051\n",
      "\u001b[32m[0107 15:24:40 @monitor.py:459]\u001b[0m loss-ce-12v3: 0.091217\n",
      "\u001b[32m[0107 15:24:40 @monitor.py:459]\u001b[0m loss-ce-1v23: 0.10229\n",
      "\u001b[32m[0107 15:24:40 @monitor.py:459]\u001b[0m loss-dice: 2.4168\n",
      "\u001b[32m[0107 15:24:40 @monitor.py:459]\u001b[0m loss-dice-12v3: 1.6053\n",
      "\u001b[32m[0107 15:24:40 @monitor.py:459]\u001b[0m loss-dice-1v23: 1.5099\n",
      "\u001b[32m[0107 15:24:40 @monitor.py:459]\u001b[0m loss-reg-mae: 0.016341\n",
      "\u001b[32m[0107 15:24:40 @monitor.py:459]\u001b[0m valid_acc: 0.97387\n",
      "\u001b[32m[0107 15:24:40 @monitor.py:459]\u001b[0m valid_dice: 0.85085\n",
      "\u001b[32m[0107 15:24:40 @monitor.py:459]\u001b[0m valid_dice_Endothelium: 0.61132\n",
      "\u001b[32m[0107 15:24:40 @monitor.py:459]\u001b[0m valid_dice_Grade1: 0.7467\n",
      "\u001b[32m[0107 15:24:40 @monitor.py:459]\u001b[0m valid_dice_Grade2: 0.41222\n",
      "\u001b[32m[0107 15:24:40 @monitor.py:459]\u001b[0m valid_dice_Grade3: 0.69824\n",
      "\u001b[32m[0107 15:24:40 @monitor.py:459]\u001b[0m valid_mae: 0.041001\n",
      "\u001b[32m[0107 15:24:40 @monitor.py:459]\u001b[0m valid_mean_dice: 0.61712\n",
      "\u001b[32m[0107 15:24:40 @monitor.py:459]\u001b[0m valid_ssim: 1.5624\n",
      "\u001b[32m[0107 15:24:40 @group.py:48]\u001b[0m Callbacks took 17.385 sec in total. DataParallelInferenceRunner: 16.5 seconds\n",
      "\u001b[32m[0107 15:24:40 @base.py:272]\u001b[0m Start Epoch 30 ...\n"
     ]
    },
    {
     "name": "stderr",
     "output_type": "stream",
     "text": [
      "100%|##########|350/350[03:26<00:00, 1.70it/s]"
     ]
    },
    {
     "name": "stdout",
     "output_type": "stream",
     "text": [
      "\u001b[32m[0107 15:28:06 @base.py:282]\u001b[0m Epoch 30 (global_step 10500) finished, time:3 minutes 26 seconds.\n"
     ]
    },
    {
     "name": "stderr",
     "output_type": "stream",
     "text": [
      "\n"
     ]
    },
    {
     "name": "stdout",
     "output_type": "stream",
     "text": [
      "\u001b[32m[0107 15:28:07 @saver.py:77]\u001b[0m Model saved to ./logs//High_CCRCC//hcnet_mix_dist_v/00/model-10500.\n"
     ]
    },
    {
     "name": "stderr",
     "output_type": "stream",
     "text": [
      "100%|##########|50/50[00:12<00:00, 4.07it/s]\n"
     ]
    },
    {
     "name": "stdout",
     "output_type": "stream",
     "text": [
      "\u001b[32m[0107 15:28:23 @monitor.py:459]\u001b[0m DataParallelInferenceRunner/QueueInput/queue_size: 49.984\n",
      "\u001b[32m[0107 15:28:23 @monitor.py:459]\u001b[0m QueueInput/queue_size: 49.234\n",
      "\u001b[32m[0107 15:28:23 @monitor.py:459]\u001b[0m learning_rate: 1e-05\n",
      "\u001b[32m[0107 15:28:23 @monitor.py:459]\u001b[0m loss-ce: 0.10733\n",
      "\u001b[32m[0107 15:28:23 @monitor.py:459]\u001b[0m loss-ce-12v3: 0.091082\n",
      "\u001b[32m[0107 15:28:23 @monitor.py:459]\u001b[0m loss-ce-1v23: 0.098326\n",
      "\u001b[32m[0107 15:28:23 @monitor.py:459]\u001b[0m loss-dice: 2.3554\n",
      "\u001b[32m[0107 15:28:23 @monitor.py:459]\u001b[0m loss-dice-12v3: 1.5824\n",
      "\u001b[32m[0107 15:28:23 @monitor.py:459]\u001b[0m loss-dice-1v23: 1.4482\n",
      "\u001b[32m[0107 15:28:23 @monitor.py:459]\u001b[0m loss-reg-mae: 2.7564\n",
      "\u001b[32m[0107 15:28:23 @monitor.py:459]\u001b[0m valid_acc: 0.97423\n",
      "\u001b[32m[0107 15:28:23 @monitor.py:459]\u001b[0m valid_dice: 0.84849\n",
      "\u001b[32m[0107 15:28:23 @monitor.py:459]\u001b[0m valid_dice_Endothelium: 0.6032\n",
      "\u001b[32m[0107 15:28:23 @monitor.py:459]\u001b[0m valid_dice_Grade1: 0.74702\n",
      "\u001b[32m[0107 15:28:23 @monitor.py:459]\u001b[0m valid_dice_Grade2: 0.40195\n",
      "\u001b[32m[0107 15:28:23 @monitor.py:459]\u001b[0m valid_dice_Grade3: 0.69368\n",
      "\u001b[32m[0107 15:28:23 @monitor.py:459]\u001b[0m valid_mae: 0.039024\n",
      "\u001b[32m[0107 15:28:23 @monitor.py:459]\u001b[0m valid_mean_dice: 0.61146\n",
      "\u001b[32m[0107 15:28:23 @monitor.py:459]\u001b[0m valid_ssim: 1.5673\n",
      "\u001b[32m[0107 15:28:23 @group.py:48]\u001b[0m Callbacks took 17.129 sec in total. DataParallelInferenceRunner: 16.5 seconds\n",
      "\u001b[32m[0107 15:28:23 @base.py:272]\u001b[0m Start Epoch 31 ...\n"
     ]
    },
    {
     "name": "stderr",
     "output_type": "stream",
     "text": [
      "100%|##########|350/350[03:26<00:00, 1.70it/s]"
     ]
    },
    {
     "name": "stdout",
     "output_type": "stream",
     "text": [
      "\u001b[32m[0107 15:31:50 @base.py:282]\u001b[0m Epoch 31 (global_step 10850) finished, time:3 minutes 26 seconds.\n"
     ]
    },
    {
     "name": "stderr",
     "output_type": "stream",
     "text": [
      "\n"
     ]
    },
    {
     "name": "stdout",
     "output_type": "stream",
     "text": [
      "\u001b[32m[0107 15:31:50 @saver.py:77]\u001b[0m Model saved to ./logs//High_CCRCC//hcnet_mix_dist_v/00/model-10850.\n"
     ]
    },
    {
     "name": "stderr",
     "output_type": "stream",
     "text": [
      "100%|##########|50/50[00:12<00:00, 4.16it/s]\n"
     ]
    },
    {
     "name": "stdout",
     "output_type": "stream",
     "text": [
      "\u001b[32m[0107 15:32:06 @monitor.py:459]\u001b[0m DataParallelInferenceRunner/QueueInput/queue_size: 49.864\n",
      "\u001b[32m[0107 15:32:06 @monitor.py:459]\u001b[0m QueueInput/queue_size: 49.984\n",
      "\u001b[32m[0107 15:32:06 @monitor.py:459]\u001b[0m learning_rate: 1e-05\n",
      "\u001b[32m[0107 15:32:06 @monitor.py:459]\u001b[0m loss-ce: 0.095681\n",
      "\u001b[32m[0107 15:32:06 @monitor.py:459]\u001b[0m loss-ce-12v3: 0.0783\n",
      "\u001b[32m[0107 15:32:06 @monitor.py:459]\u001b[0m loss-ce-1v23: 0.089819\n",
      "\u001b[32m[0107 15:32:06 @monitor.py:459]\u001b[0m loss-dice: 2.4071\n",
      "\u001b[32m[0107 15:32:06 @monitor.py:459]\u001b[0m loss-dice-12v3: 1.5884\n",
      "\u001b[32m[0107 15:32:06 @monitor.py:459]\u001b[0m loss-dice-1v23: 1.4912\n",
      "\u001b[32m[0107 15:32:06 @monitor.py:459]\u001b[0m loss-reg-mae: 0.013711\n",
      "\u001b[32m[0107 15:32:06 @monitor.py:459]\u001b[0m valid_acc: 0.97401\n",
      "\u001b[32m[0107 15:32:06 @monitor.py:459]\u001b[0m valid_dice: 0.85053\n",
      "\u001b[32m[0107 15:32:06 @monitor.py:459]\u001b[0m valid_dice_Endothelium: 0.60134\n",
      "\u001b[32m[0107 15:32:06 @monitor.py:459]\u001b[0m valid_dice_Grade1: 0.74026\n",
      "\u001b[32m[0107 15:32:06 @monitor.py:459]\u001b[0m valid_dice_Grade2: 0.41598\n",
      "\u001b[32m[0107 15:32:06 @monitor.py:459]\u001b[0m valid_dice_Grade3: 0.69482\n",
      "\u001b[32m[0107 15:32:06 @monitor.py:459]\u001b[0m valid_mae: 0.040712\n",
      "\u001b[32m[0107 15:32:06 @monitor.py:459]\u001b[0m valid_mean_dice: 0.6131\n",
      "\u001b[32m[0107 15:32:06 @monitor.py:459]\u001b[0m valid_ssim: 1.5602\n",
      "\u001b[32m[0107 15:32:06 @group.py:48]\u001b[0m Callbacks took 16.855 sec in total. DataParallelInferenceRunner: 16.2 seconds\n",
      "\u001b[32m[0107 15:32:06 @base.py:272]\u001b[0m Start Epoch 32 ...\n"
     ]
    },
    {
     "name": "stderr",
     "output_type": "stream",
     "text": [
      "100%|##########|350/350[03:26<00:00, 1.70it/s]"
     ]
    },
    {
     "name": "stdout",
     "output_type": "stream",
     "text": [
      "\u001b[32m[0107 15:35:33 @base.py:282]\u001b[0m Epoch 32 (global_step 11200) finished, time:3 minutes 26 seconds.\n"
     ]
    },
    {
     "name": "stderr",
     "output_type": "stream",
     "text": [
      "\n"
     ]
    },
    {
     "name": "stdout",
     "output_type": "stream",
     "text": [
      "\u001b[32m[0107 15:35:33 @saver.py:77]\u001b[0m Model saved to ./logs//High_CCRCC//hcnet_mix_dist_v/00/model-11200.\n"
     ]
    },
    {
     "name": "stderr",
     "output_type": "stream",
     "text": [
      "100%|##########|50/50[00:12<00:00, 4.08it/s]\n"
     ]
    },
    {
     "name": "stdout",
     "output_type": "stream",
     "text": [
      "\u001b[32m[0107 15:35:50 @monitor.py:459]\u001b[0m DataParallelInferenceRunner/QueueInput/queue_size: 49.521\n",
      "\u001b[32m[0107 15:35:50 @monitor.py:459]\u001b[0m QueueInput/queue_size: 49.929\n",
      "\u001b[32m[0107 15:35:50 @monitor.py:459]\u001b[0m learning_rate: 1e-05\n",
      "\u001b[32m[0107 15:35:50 @monitor.py:459]\u001b[0m loss-ce: 0.094113\n",
      "\u001b[32m[0107 15:35:50 @monitor.py:459]\u001b[0m loss-ce-12v3: 0.079422\n",
      "\u001b[32m[0107 15:35:50 @monitor.py:459]\u001b[0m loss-ce-1v23: 0.087765\n",
      "\u001b[32m[0107 15:35:50 @monitor.py:459]\u001b[0m loss-dice: 2.2931\n",
      "\u001b[32m[0107 15:35:50 @monitor.py:459]\u001b[0m loss-dice-12v3: 1.5207\n",
      "\u001b[32m[0107 15:35:50 @monitor.py:459]\u001b[0m loss-dice-1v23: 1.438\n",
      "\u001b[32m[0107 15:35:50 @monitor.py:459]\u001b[0m loss-reg-mae: 3.8612\n",
      "\u001b[32m[0107 15:35:50 @monitor.py:459]\u001b[0m valid_acc: 0.97389\n",
      "\u001b[32m[0107 15:35:50 @monitor.py:459]\u001b[0m valid_dice: 0.84912\n",
      "\u001b[32m[0107 15:35:50 @monitor.py:459]\u001b[0m valid_dice_Endothelium: 0.61214\n",
      "\u001b[32m[0107 15:35:50 @monitor.py:459]\u001b[0m valid_dice_Grade1: 0.7435\n",
      "\u001b[32m[0107 15:35:50 @monitor.py:459]\u001b[0m valid_dice_Grade2: 0.42479\n",
      "\u001b[32m[0107 15:35:50 @monitor.py:459]\u001b[0m valid_dice_Grade3: 0.68894\n",
      "\u001b[32m[0107 15:35:50 @monitor.py:459]\u001b[0m valid_mae: 0.041622\n",
      "\u001b[32m[0107 15:35:50 @monitor.py:459]\u001b[0m valid_mean_dice: 0.61734\n",
      "\u001b[32m[0107 15:35:50 @monitor.py:459]\u001b[0m valid_ssim: 1.5567\n",
      "\u001b[32m[0107 15:35:50 @group.py:48]\u001b[0m Callbacks took 17.133 sec in total. DataParallelInferenceRunner: 16.5 seconds\n",
      "\u001b[32m[0107 15:35:50 @base.py:272]\u001b[0m Start Epoch 33 ...\n"
     ]
    },
    {
     "name": "stderr",
     "output_type": "stream",
     "text": [
      "100%|##########|350/350[03:25<00:00, 1.70it/s]"
     ]
    },
    {
     "name": "stdout",
     "output_type": "stream",
     "text": [
      "\u001b[32m[0107 15:39:16 @base.py:282]\u001b[0m Epoch 33 (global_step 11550) finished, time:3 minutes 25 seconds.\n"
     ]
    },
    {
     "name": "stderr",
     "output_type": "stream",
     "text": [
      "\n"
     ]
    },
    {
     "name": "stdout",
     "output_type": "stream",
     "text": [
      "\u001b[32m[0107 15:39:16 @saver.py:77]\u001b[0m Model saved to ./logs//High_CCRCC//hcnet_mix_dist_v/00/model-11550.\n"
     ]
    },
    {
     "name": "stderr",
     "output_type": "stream",
     "text": [
      "100%|##########|50/50[00:12<00:00, 4.06it/s]\n"
     ]
    },
    {
     "name": "stdout",
     "output_type": "stream",
     "text": [
      "\u001b[32m[0107 15:39:33 @monitor.py:459]\u001b[0m DataParallelInferenceRunner/QueueInput/queue_size: 49.976\n",
      "\u001b[32m[0107 15:39:33 @monitor.py:459]\u001b[0m QueueInput/queue_size: 49.265\n",
      "\u001b[32m[0107 15:39:33 @monitor.py:459]\u001b[0m learning_rate: 1e-05\n",
      "\u001b[32m[0107 15:39:33 @monitor.py:459]\u001b[0m loss-ce: 0.10335\n",
      "\u001b[32m[0107 15:39:33 @monitor.py:459]\u001b[0m loss-ce-12v3: 0.084208\n",
      "\u001b[32m[0107 15:39:33 @monitor.py:459]\u001b[0m loss-ce-1v23: 0.097733\n",
      "\u001b[32m[0107 15:39:33 @monitor.py:459]\u001b[0m loss-dice: 2.336\n",
      "\u001b[32m[0107 15:39:33 @monitor.py:459]\u001b[0m loss-dice-12v3: 1.5646\n",
      "\u001b[32m[0107 15:39:33 @monitor.py:459]\u001b[0m loss-dice-1v23: 1.4493\n",
      "\u001b[32m[0107 15:39:33 @monitor.py:459]\u001b[0m loss-reg-mae: 0.23819\n",
      "\u001b[32m[0107 15:39:33 @monitor.py:459]\u001b[0m valid_acc: 0.97403\n",
      "\u001b[32m[0107 15:39:33 @monitor.py:459]\u001b[0m valid_dice: 0.8495\n",
      "\u001b[32m[0107 15:39:33 @monitor.py:459]\u001b[0m valid_dice_Endothelium: 0.60379\n",
      "\u001b[32m[0107 15:39:33 @monitor.py:459]\u001b[0m valid_dice_Grade1: 0.74291\n",
      "\u001b[32m[0107 15:39:33 @monitor.py:459]\u001b[0m valid_dice_Grade2: 0.41499\n",
      "\u001b[32m[0107 15:39:33 @monitor.py:459]\u001b[0m valid_dice_Grade3: 0.69816\n",
      "\u001b[32m[0107 15:39:33 @monitor.py:459]\u001b[0m valid_mae: 0.039658\n",
      "\u001b[32m[0107 15:39:33 @monitor.py:459]\u001b[0m valid_mean_dice: 0.61496\n",
      "\u001b[32m[0107 15:39:33 @monitor.py:459]\u001b[0m valid_ssim: 1.5654\n",
      "\u001b[32m[0107 15:39:33 @group.py:48]\u001b[0m Callbacks took 17.207 sec in total. DataParallelInferenceRunner: 16.5 seconds\n",
      "\u001b[32m[0107 15:39:33 @base.py:272]\u001b[0m Start Epoch 34 ...\n"
     ]
    },
    {
     "name": "stderr",
     "output_type": "stream",
     "text": [
      "100%|##########|350/350[03:26<00:00, 1.70it/s]"
     ]
    },
    {
     "name": "stdout",
     "output_type": "stream",
     "text": [
      "\u001b[32m[0107 15:42:59 @base.py:282]\u001b[0m Epoch 34 (global_step 11900) finished, time:3 minutes 26 seconds.\n"
     ]
    },
    {
     "name": "stderr",
     "output_type": "stream",
     "text": [
      "\n"
     ]
    },
    {
     "name": "stdout",
     "output_type": "stream",
     "text": [
      "\u001b[32m[0107 15:43:00 @saver.py:77]\u001b[0m Model saved to ./logs//High_CCRCC//hcnet_mix_dist_v/00/model-11900.\n"
     ]
    },
    {
     "name": "stderr",
     "output_type": "stream",
     "text": [
      "100%|##########|50/50[00:11<00:00, 4.19it/s]\n"
     ]
    },
    {
     "name": "stdout",
     "output_type": "stream",
     "text": [
      "\u001b[32m[0107 15:43:16 @monitor.py:459]\u001b[0m DataParallelInferenceRunner/QueueInput/queue_size: 49.732\n",
      "\u001b[32m[0107 15:43:16 @monitor.py:459]\u001b[0m QueueInput/queue_size: 49.902\n",
      "\u001b[32m[0107 15:43:16 @monitor.py:459]\u001b[0m learning_rate: 1e-05\n",
      "\u001b[32m[0107 15:43:16 @monitor.py:459]\u001b[0m loss-ce: 0.1111\n",
      "\u001b[32m[0107 15:43:16 @monitor.py:459]\u001b[0m loss-ce-12v3: 0.092136\n",
      "\u001b[32m[0107 15:43:16 @monitor.py:459]\u001b[0m loss-ce-1v23: 0.10292\n",
      "\u001b[32m[0107 15:43:16 @monitor.py:459]\u001b[0m loss-dice: 2.3714\n",
      "\u001b[32m[0107 15:43:16 @monitor.py:459]\u001b[0m loss-dice-12v3: 1.5849\n",
      "\u001b[32m[0107 15:43:16 @monitor.py:459]\u001b[0m loss-dice-1v23: 1.4721\n",
      "\u001b[32m[0107 15:43:16 @monitor.py:459]\u001b[0m loss-reg-mae: 0.018672\n",
      "\u001b[32m[0107 15:43:16 @monitor.py:459]\u001b[0m valid_acc: 0.97391\n",
      "\u001b[32m[0107 15:43:16 @monitor.py:459]\u001b[0m valid_dice: 0.85051\n",
      "\u001b[32m[0107 15:43:16 @monitor.py:459]\u001b[0m valid_dice_Endothelium: 0.60972\n",
      "\u001b[32m[0107 15:43:16 @monitor.py:459]\u001b[0m valid_dice_Grade1: 0.74499\n",
      "\u001b[32m[0107 15:43:16 @monitor.py:459]\u001b[0m valid_dice_Grade2: 0.42789\n",
      "\u001b[32m[0107 15:43:16 @monitor.py:459]\u001b[0m valid_dice_Grade3: 0.69904\n",
      "\u001b[32m[0107 15:43:16 @monitor.py:459]\u001b[0m valid_mae: 0.040586\n",
      "\u001b[32m[0107 15:43:16 @monitor.py:459]\u001b[0m valid_mean_dice: 0.62041\n",
      "\u001b[32m[0107 15:43:16 @monitor.py:459]\u001b[0m valid_ssim: 1.5603\n",
      "\u001b[32m[0107 15:43:16 @group.py:48]\u001b[0m Callbacks took 16.720 sec in total. DataParallelInferenceRunner: 16.1 seconds\n",
      "\u001b[32m[0107 15:43:16 @base.py:272]\u001b[0m Start Epoch 35 ...\n"
     ]
    },
    {
     "name": "stderr",
     "output_type": "stream",
     "text": [
      "100%|##########|350/350[03:26<00:00, 1.70it/s]"
     ]
    },
    {
     "name": "stdout",
     "output_type": "stream",
     "text": [
      "\u001b[32m[0107 15:46:42 @base.py:282]\u001b[0m Epoch 35 (global_step 12250) finished, time:3 minutes 26 seconds.\n"
     ]
    },
    {
     "name": "stderr",
     "output_type": "stream",
     "text": [
      "\n"
     ]
    },
    {
     "name": "stdout",
     "output_type": "stream",
     "text": [
      "\u001b[32m[0107 15:46:42 @saver.py:77]\u001b[0m Model saved to ./logs//High_CCRCC//hcnet_mix_dist_v/00/model-12250.\n"
     ]
    },
    {
     "name": "stderr",
     "output_type": "stream",
     "text": [
      "100%|##########|50/50[00:12<00:00, 4.05it/s]\n"
     ]
    },
    {
     "name": "stdout",
     "output_type": "stream",
     "text": [
      "\u001b[32m[0107 15:46:59 @saver.py:159]\u001b[0m Model at global_step=12250 with maximum valid_dice=0.85136 saved.\n",
      "\u001b[32m[0107 15:46:59 @monitor.py:459]\u001b[0m DataParallelInferenceRunner/QueueInput/queue_size: 49.871\n",
      "\u001b[32m[0107 15:46:59 @monitor.py:459]\u001b[0m QueueInput/queue_size: 49.92\n",
      "\u001b[32m[0107 15:46:59 @monitor.py:459]\u001b[0m learning_rate: 1e-05\n",
      "\u001b[32m[0107 15:46:59 @monitor.py:459]\u001b[0m loss-ce: 0.10767\n",
      "\u001b[32m[0107 15:46:59 @monitor.py:459]\u001b[0m loss-ce-12v3: 0.088325\n",
      "\u001b[32m[0107 15:46:59 @monitor.py:459]\u001b[0m loss-ce-1v23: 0.099045\n",
      "\u001b[32m[0107 15:46:59 @monitor.py:459]\u001b[0m loss-dice: 2.2419\n",
      "\u001b[32m[0107 15:46:59 @monitor.py:459]\u001b[0m loss-dice-12v3: 1.4366\n",
      "\u001b[32m[0107 15:46:59 @monitor.py:459]\u001b[0m loss-dice-1v23: 1.4157\n",
      "\u001b[32m[0107 15:46:59 @monitor.py:459]\u001b[0m loss-reg-mae: 0.036874\n",
      "\u001b[32m[0107 15:46:59 @monitor.py:459]\u001b[0m valid_acc: 0.97417\n",
      "\u001b[32m[0107 15:46:59 @monitor.py:459]\u001b[0m valid_dice: 0.85136\n",
      "\u001b[32m[0107 15:46:59 @monitor.py:459]\u001b[0m valid_dice_Endothelium: 0.61197\n",
      "\u001b[32m[0107 15:46:59 @monitor.py:459]\u001b[0m valid_dice_Grade1: 0.74317\n",
      "\u001b[32m[0107 15:46:59 @monitor.py:459]\u001b[0m valid_dice_Grade2: 0.41696\n",
      "\u001b[32m[0107 15:46:59 @monitor.py:459]\u001b[0m valid_dice_Grade3: 0.696\n",
      "\u001b[32m[0107 15:46:59 @monitor.py:459]\u001b[0m valid_mae: 0.040116\n",
      "\u001b[32m[0107 15:46:59 @monitor.py:459]\u001b[0m valid_mean_dice: 0.61702\n",
      "\u001b[32m[0107 15:46:59 @monitor.py:459]\u001b[0m valid_ssim: 1.566\n",
      "\u001b[32m[0107 15:46:59 @group.py:48]\u001b[0m Callbacks took 17.424 sec in total. DataParallelInferenceRunner: 16.5 seconds\n",
      "\u001b[32m[0107 15:46:59 @base.py:272]\u001b[0m Start Epoch 36 ...\n"
     ]
    },
    {
     "name": "stderr",
     "output_type": "stream",
     "text": [
      "100%|##########|350/350[03:25<00:00, 1.70it/s]"
     ]
    },
    {
     "name": "stdout",
     "output_type": "stream",
     "text": [
      "\u001b[32m[0107 15:50:25 @base.py:282]\u001b[0m Epoch 36 (global_step 12600) finished, time:3 minutes 25 seconds.\n"
     ]
    },
    {
     "name": "stderr",
     "output_type": "stream",
     "text": [
      "\n"
     ]
    },
    {
     "name": "stdout",
     "output_type": "stream",
     "text": [
      "\u001b[32m[0107 15:50:26 @saver.py:77]\u001b[0m Model saved to ./logs//High_CCRCC//hcnet_mix_dist_v/00/model-12600.\n"
     ]
    },
    {
     "name": "stderr",
     "output_type": "stream",
     "text": [
      "100%|##########|50/50[00:12<00:00, 4.07it/s]\n"
     ]
    },
    {
     "name": "stdout",
     "output_type": "stream",
     "text": [
      "\u001b[32m[0107 15:50:43 @saver.py:159]\u001b[0m Model at global_step=12600 with maximum valid_dice=0.8514 saved.\n",
      "\u001b[32m[0107 15:50:43 @monitor.py:459]\u001b[0m DataParallelInferenceRunner/QueueInput/queue_size: 49.793\n",
      "\u001b[32m[0107 15:50:43 @monitor.py:459]\u001b[0m QueueInput/queue_size: 49.734\n",
      "\u001b[32m[0107 15:50:43 @monitor.py:459]\u001b[0m learning_rate: 1e-05\n",
      "\u001b[32m[0107 15:50:43 @monitor.py:459]\u001b[0m loss-ce: 0.098519\n",
      "\u001b[32m[0107 15:50:43 @monitor.py:459]\u001b[0m loss-ce-12v3: 0.082163\n",
      "\u001b[32m[0107 15:50:43 @monitor.py:459]\u001b[0m loss-ce-1v23: 0.091549\n",
      "\u001b[32m[0107 15:50:43 @monitor.py:459]\u001b[0m loss-dice: 2.3861\n",
      "\u001b[32m[0107 15:50:43 @monitor.py:459]\u001b[0m loss-dice-12v3: 1.5454\n",
      "\u001b[32m[0107 15:50:43 @monitor.py:459]\u001b[0m loss-dice-1v23: 1.5278\n",
      "\u001b[32m[0107 15:50:43 @monitor.py:459]\u001b[0m loss-reg-mae: 0.017098\n",
      "\u001b[32m[0107 15:50:43 @monitor.py:459]\u001b[0m valid_acc: 0.97409\n",
      "\u001b[32m[0107 15:50:43 @monitor.py:459]\u001b[0m valid_dice: 0.8514\n",
      "\u001b[32m[0107 15:50:43 @monitor.py:459]\u001b[0m valid_dice_Endothelium: 0.6162\n",
      "\u001b[32m[0107 15:50:43 @monitor.py:459]\u001b[0m valid_dice_Grade1: 0.7473\n",
      "\u001b[32m[0107 15:50:43 @monitor.py:459]\u001b[0m valid_dice_Grade2: 0.38741\n",
      "\u001b[32m[0107 15:50:43 @monitor.py:459]\u001b[0m valid_dice_Grade3: 0.69294\n",
      "\u001b[32m[0107 15:50:43 @monitor.py:459]\u001b[0m valid_mae: 0.040686\n",
      "\u001b[32m[0107 15:50:43 @monitor.py:459]\u001b[0m valid_mean_dice: 0.61096\n",
      "\u001b[32m[0107 15:50:43 @monitor.py:459]\u001b[0m valid_ssim: 1.5598\n",
      "\u001b[32m[0107 15:50:43 @group.py:48]\u001b[0m Callbacks took 17.386 sec in total. DataParallelInferenceRunner: 16.5 seconds\n",
      "\u001b[32m[0107 15:50:43 @base.py:272]\u001b[0m Start Epoch 37 ...\n"
     ]
    },
    {
     "name": "stderr",
     "output_type": "stream",
     "text": [
      "100%|##########|350/350[03:26<00:00, 1.70it/s]"
     ]
    },
    {
     "name": "stdout",
     "output_type": "stream",
     "text": [
      "\u001b[32m[0107 15:54:09 @base.py:282]\u001b[0m Epoch 37 (global_step 12950) finished, time:3 minutes 26 seconds.\n"
     ]
    },
    {
     "name": "stderr",
     "output_type": "stream",
     "text": [
      "\n"
     ]
    },
    {
     "name": "stdout",
     "output_type": "stream",
     "text": [
      "\u001b[32m[0107 15:54:09 @saver.py:77]\u001b[0m Model saved to ./logs//High_CCRCC//hcnet_mix_dist_v/00/model-12950.\n"
     ]
    },
    {
     "name": "stderr",
     "output_type": "stream",
     "text": [
      "100%|##########|50/50[00:12<00:00, 4.11it/s]\n"
     ]
    },
    {
     "name": "stdout",
     "output_type": "stream",
     "text": [
      "\u001b[32m[0107 15:54:26 @monitor.py:459]\u001b[0m DataParallelInferenceRunner/QueueInput/queue_size: 49.686\n",
      "\u001b[32m[0107 15:54:26 @monitor.py:459]\u001b[0m QueueInput/queue_size: 49.178\n",
      "\u001b[32m[0107 15:54:26 @monitor.py:459]\u001b[0m learning_rate: 1e-05\n",
      "\u001b[32m[0107 15:54:26 @monitor.py:459]\u001b[0m loss-ce: 0.10266\n",
      "\u001b[32m[0107 15:54:26 @monitor.py:459]\u001b[0m loss-ce-12v3: 0.087473\n",
      "\u001b[32m[0107 15:54:26 @monitor.py:459]\u001b[0m loss-ce-1v23: 0.094887\n",
      "\u001b[32m[0107 15:54:26 @monitor.py:459]\u001b[0m loss-dice: 2.2855\n",
      "\u001b[32m[0107 15:54:26 @monitor.py:459]\u001b[0m loss-dice-12v3: 1.5106\n",
      "\u001b[32m[0107 15:54:26 @monitor.py:459]\u001b[0m loss-dice-1v23: 1.3975\n",
      "\u001b[32m[0107 15:54:26 @monitor.py:459]\u001b[0m loss-reg-mae: 1.2581\n",
      "\u001b[32m[0107 15:54:26 @monitor.py:459]\u001b[0m valid_acc: 0.97424\n",
      "\u001b[32m[0107 15:54:26 @monitor.py:459]\u001b[0m valid_dice: 0.84995\n",
      "\u001b[32m[0107 15:54:26 @monitor.py:459]\u001b[0m valid_dice_Endothelium: 0.61021\n",
      "\u001b[32m[0107 15:54:26 @monitor.py:459]\u001b[0m valid_dice_Grade1: 0.74437\n",
      "\u001b[32m[0107 15:54:26 @monitor.py:459]\u001b[0m valid_dice_Grade2: 0.40649\n",
      "\u001b[32m[0107 15:54:26 @monitor.py:459]\u001b[0m valid_dice_Grade3: 0.70078\n",
      "\u001b[32m[0107 15:54:26 @monitor.py:459]\u001b[0m valid_mae: 0.040329\n",
      "\u001b[32m[0107 15:54:26 @monitor.py:459]\u001b[0m valid_mean_dice: 0.61546\n",
      "\u001b[32m[0107 15:54:26 @monitor.py:459]\u001b[0m valid_ssim: 1.5628\n",
      "\u001b[32m[0107 15:54:26 @group.py:48]\u001b[0m Callbacks took 16.951 sec in total. DataParallelInferenceRunner: 16.4 seconds\n",
      "\u001b[32m[0107 15:54:26 @base.py:272]\u001b[0m Start Epoch 38 ...\n"
     ]
    },
    {
     "name": "stderr",
     "output_type": "stream",
     "text": [
      "100%|##########|350/350[03:26<00:00, 1.70it/s]"
     ]
    },
    {
     "name": "stdout",
     "output_type": "stream",
     "text": [
      "\u001b[32m[0107 15:57:52 @base.py:282]\u001b[0m Epoch 38 (global_step 13300) finished, time:3 minutes 26 seconds.\n"
     ]
    },
    {
     "name": "stderr",
     "output_type": "stream",
     "text": [
      "\n"
     ]
    },
    {
     "name": "stdout",
     "output_type": "stream",
     "text": [
      "\u001b[32m[0107 15:57:52 @saver.py:77]\u001b[0m Model saved to ./logs//High_CCRCC//hcnet_mix_dist_v/00/model-13300.\n"
     ]
    },
    {
     "name": "stderr",
     "output_type": "stream",
     "text": [
      "100%|##########|50/50[00:12<00:00, 4.14it/s]\n"
     ]
    },
    {
     "name": "stdout",
     "output_type": "stream",
     "text": [
      "\u001b[32m[0107 15:58:09 @monitor.py:459]\u001b[0m DataParallelInferenceRunner/QueueInput/queue_size: 49.947\n",
      "\u001b[32m[0107 15:58:09 @monitor.py:459]\u001b[0m QueueInput/queue_size: 49.424\n",
      "\u001b[32m[0107 15:58:09 @monitor.py:459]\u001b[0m learning_rate: 1e-05\n",
      "\u001b[32m[0107 15:58:09 @monitor.py:459]\u001b[0m loss-ce: 0.10445\n",
      "\u001b[32m[0107 15:58:09 @monitor.py:459]\u001b[0m loss-ce-12v3: 0.086141\n",
      "\u001b[32m[0107 15:58:09 @monitor.py:459]\u001b[0m loss-ce-1v23: 0.09772\n",
      "\u001b[32m[0107 15:58:09 @monitor.py:459]\u001b[0m loss-dice: 2.4279\n",
      "\u001b[32m[0107 15:58:09 @monitor.py:459]\u001b[0m loss-dice-12v3: 1.6253\n",
      "\u001b[32m[0107 15:58:09 @monitor.py:459]\u001b[0m loss-dice-1v23: 1.4872\n",
      "\u001b[32m[0107 15:58:09 @monitor.py:459]\u001b[0m loss-reg-mae: 0.015644\n",
      "\u001b[32m[0107 15:58:09 @monitor.py:459]\u001b[0m valid_acc: 0.97393\n",
      "\u001b[32m[0107 15:58:09 @monitor.py:459]\u001b[0m valid_dice: 0.8494\n",
      "\u001b[32m[0107 15:58:09 @monitor.py:459]\u001b[0m valid_dice_Endothelium: 0.61059\n",
      "\u001b[32m[0107 15:58:09 @monitor.py:459]\u001b[0m valid_dice_Grade1: 0.7468\n",
      "\u001b[32m[0107 15:58:09 @monitor.py:459]\u001b[0m valid_dice_Grade2: 0.4275\n",
      "\u001b[32m[0107 15:58:09 @monitor.py:459]\u001b[0m valid_dice_Grade3: 0.69219\n",
      "\u001b[32m[0107 15:58:09 @monitor.py:459]\u001b[0m valid_mae: 0.040766\n",
      "\u001b[32m[0107 15:58:09 @monitor.py:459]\u001b[0m valid_mean_dice: 0.61927\n",
      "\u001b[32m[0107 15:58:09 @monitor.py:459]\u001b[0m valid_ssim: 1.5553\n",
      "\u001b[32m[0107 15:58:09 @group.py:48]\u001b[0m Callbacks took 16.867 sec in total. DataParallelInferenceRunner: 16.3 seconds\n",
      "\u001b[32m[0107 15:58:09 @base.py:272]\u001b[0m Start Epoch 39 ...\n"
     ]
    },
    {
     "name": "stderr",
     "output_type": "stream",
     "text": [
      "100%|##########|350/350[03:25<00:00, 1.70it/s]"
     ]
    },
    {
     "name": "stdout",
     "output_type": "stream",
     "text": [
      "\u001b[32m[0107 16:01:35 @base.py:282]\u001b[0m Epoch 39 (global_step 13650) finished, time:3 minutes 25 seconds.\n"
     ]
    },
    {
     "name": "stderr",
     "output_type": "stream",
     "text": [
      "\n"
     ]
    },
    {
     "name": "stdout",
     "output_type": "stream",
     "text": [
      "\u001b[32m[0107 16:01:35 @saver.py:77]\u001b[0m Model saved to ./logs//High_CCRCC//hcnet_mix_dist_v/00/model-13650.\n"
     ]
    },
    {
     "name": "stderr",
     "output_type": "stream",
     "text": [
      "100%|##########|50/50[00:12<00:00, 4.08it/s]\n"
     ]
    },
    {
     "name": "stdout",
     "output_type": "stream",
     "text": [
      "\u001b[32m[0107 16:01:52 @monitor.py:459]\u001b[0m DataParallelInferenceRunner/QueueInput/queue_size: 49.993\n",
      "\u001b[32m[0107 16:01:52 @monitor.py:459]\u001b[0m QueueInput/queue_size: 49.941\n",
      "\u001b[32m[0107 16:01:52 @monitor.py:459]\u001b[0m learning_rate: 1e-05\n",
      "\u001b[32m[0107 16:01:52 @monitor.py:459]\u001b[0m loss-ce: 0.10509\n",
      "\u001b[32m[0107 16:01:52 @monitor.py:459]\u001b[0m loss-ce-12v3: 0.085871\n",
      "\u001b[32m[0107 16:01:52 @monitor.py:459]\u001b[0m loss-ce-1v23: 0.096755\n",
      "\u001b[32m[0107 16:01:52 @monitor.py:459]\u001b[0m loss-dice: 2.2442\n",
      "\u001b[32m[0107 16:01:52 @monitor.py:459]\u001b[0m loss-dice-12v3: 1.4507\n",
      "\u001b[32m[0107 16:01:52 @monitor.py:459]\u001b[0m loss-dice-1v23: 1.4184\n",
      "\u001b[32m[0107 16:01:52 @monitor.py:459]\u001b[0m loss-reg-mae: 0.014769\n",
      "\u001b[32m[0107 16:01:52 @monitor.py:459]\u001b[0m valid_acc: 0.974\n",
      "\u001b[32m[0107 16:01:52 @monitor.py:459]\u001b[0m valid_dice: 0.85019\n",
      "\u001b[32m[0107 16:01:52 @monitor.py:459]\u001b[0m valid_dice_Endothelium: 0.60907\n",
      "\u001b[32m[0107 16:01:52 @monitor.py:459]\u001b[0m valid_dice_Grade1: 0.74264\n",
      "\u001b[32m[0107 16:01:52 @monitor.py:459]\u001b[0m valid_dice_Grade2: 0.4347\n",
      "\u001b[32m[0107 16:01:52 @monitor.py:459]\u001b[0m valid_dice_Grade3: 0.70199\n",
      "\u001b[32m[0107 16:01:52 @monitor.py:459]\u001b[0m valid_mae: 0.040973\n",
      "\u001b[32m[0107 16:01:52 @monitor.py:459]\u001b[0m valid_mean_dice: 0.6221\n",
      "\u001b[32m[0107 16:01:52 @monitor.py:459]\u001b[0m valid_ssim: 1.5552\n",
      "\u001b[32m[0107 16:01:52 @group.py:48]\u001b[0m Callbacks took 17.055 sec in total. DataParallelInferenceRunner: 16.4 seconds\n",
      "\u001b[32m[0107 16:01:52 @base.py:272]\u001b[0m Start Epoch 40 ...\n"
     ]
    },
    {
     "name": "stderr",
     "output_type": "stream",
     "text": [
      "100%|##########|350/350[03:26<00:00, 1.70it/s]"
     ]
    },
    {
     "name": "stdout",
     "output_type": "stream",
     "text": [
      "\u001b[32m[0107 16:05:18 @base.py:282]\u001b[0m Epoch 40 (global_step 14000) finished, time:3 minutes 26 seconds.\n"
     ]
    },
    {
     "name": "stderr",
     "output_type": "stream",
     "text": [
      "\n"
     ]
    },
    {
     "name": "stdout",
     "output_type": "stream",
     "text": [
      "\u001b[32m[0107 16:05:18 @saver.py:77]\u001b[0m Model saved to ./logs//High_CCRCC//hcnet_mix_dist_v/00/model-14000.\n"
     ]
    },
    {
     "name": "stderr",
     "output_type": "stream",
     "text": [
      "100%|##########|50/50[00:11<00:00, 4.22it/s]\n"
     ]
    },
    {
     "name": "stdout",
     "output_type": "stream",
     "text": [
      "\u001b[32m[0107 16:05:35 @monitor.py:459]\u001b[0m DataParallelInferenceRunner/QueueInput/queue_size: 49.984\n",
      "\u001b[32m[0107 16:05:35 @monitor.py:459]\u001b[0m QueueInput/queue_size: 49.641\n",
      "\u001b[32m[0107 16:05:35 @monitor.py:459]\u001b[0m learning_rate: 1e-05\n",
      "\u001b[32m[0107 16:05:35 @monitor.py:459]\u001b[0m loss-ce: 0.095035\n",
      "\u001b[32m[0107 16:05:35 @monitor.py:459]\u001b[0m loss-ce-12v3: 0.0793\n",
      "\u001b[32m[0107 16:05:35 @monitor.py:459]\u001b[0m loss-ce-1v23: 0.087992\n",
      "\u001b[32m[0107 16:05:35 @monitor.py:459]\u001b[0m loss-dice: 2.3569\n",
      "\u001b[32m[0107 16:05:35 @monitor.py:459]\u001b[0m loss-dice-12v3: 1.5728\n",
      "\u001b[32m[0107 16:05:35 @monitor.py:459]\u001b[0m loss-dice-1v23: 1.4426\n",
      "\u001b[32m[0107 16:05:35 @monitor.py:459]\u001b[0m loss-reg-mae: 0.093735\n",
      "\u001b[32m[0107 16:05:35 @monitor.py:459]\u001b[0m valid_acc: 0.97409\n",
      "\u001b[32m[0107 16:05:35 @monitor.py:459]\u001b[0m valid_dice: 0.84881\n",
      "\u001b[32m[0107 16:05:35 @monitor.py:459]\u001b[0m valid_dice_Endothelium: 0.61273\n",
      "\u001b[32m[0107 16:05:35 @monitor.py:459]\u001b[0m valid_dice_Grade1: 0.74323\n",
      "\u001b[32m[0107 16:05:35 @monitor.py:459]\u001b[0m valid_dice_Grade2: 0.41181\n",
      "\u001b[32m[0107 16:05:35 @monitor.py:459]\u001b[0m valid_dice_Grade3: 0.70106\n",
      "\u001b[32m[0107 16:05:35 @monitor.py:459]\u001b[0m valid_mae: 0.040514\n",
      "\u001b[32m[0107 16:05:35 @monitor.py:459]\u001b[0m valid_mean_dice: 0.61721\n",
      "\u001b[32m[0107 16:05:35 @monitor.py:459]\u001b[0m valid_ssim: 1.5536\n",
      "\u001b[32m[0107 16:05:35 @group.py:48]\u001b[0m Callbacks took 16.988 sec in total. DataParallelInferenceRunner: 16.4 seconds\n",
      "\u001b[32m[0107 16:05:35 @base.py:272]\u001b[0m Start Epoch 41 ...\n"
     ]
    },
    {
     "name": "stderr",
     "output_type": "stream",
     "text": [
      "100%|##########|350/350[03:26<00:00, 1.70it/s]"
     ]
    },
    {
     "name": "stdout",
     "output_type": "stream",
     "text": [
      "\u001b[32m[0107 16:09:01 @base.py:282]\u001b[0m Epoch 41 (global_step 14350) finished, time:3 minutes 26 seconds.\n"
     ]
    },
    {
     "name": "stderr",
     "output_type": "stream",
     "text": [
      "\n"
     ]
    },
    {
     "name": "stdout",
     "output_type": "stream",
     "text": [
      "\u001b[32m[0107 16:09:02 @saver.py:77]\u001b[0m Model saved to ./logs//High_CCRCC//hcnet_mix_dist_v/00/model-14350.\n"
     ]
    },
    {
     "name": "stderr",
     "output_type": "stream",
     "text": [
      "100%|##########|50/50[00:12<00:00, 4.03it/s]\n"
     ]
    },
    {
     "name": "stdout",
     "output_type": "stream",
     "text": [
      "\u001b[32m[0107 16:09:19 @monitor.py:459]\u001b[0m DataParallelInferenceRunner/QueueInput/queue_size: 49.998\n",
      "\u001b[32m[0107 16:09:19 @monitor.py:459]\u001b[0m QueueInput/queue_size: 49.858\n",
      "\u001b[32m[0107 16:09:19 @monitor.py:459]\u001b[0m learning_rate: 1e-05\n",
      "\u001b[32m[0107 16:09:19 @monitor.py:459]\u001b[0m loss-ce: 0.11167\n",
      "\u001b[32m[0107 16:09:19 @monitor.py:459]\u001b[0m loss-ce-12v3: 0.090194\n",
      "\u001b[32m[0107 16:09:19 @monitor.py:459]\u001b[0m loss-ce-1v23: 0.10236\n",
      "\u001b[32m[0107 16:09:19 @monitor.py:459]\u001b[0m loss-dice: 2.3468\n",
      "\u001b[32m[0107 16:09:19 @monitor.py:459]\u001b[0m loss-dice-12v3: 1.5614\n",
      "\u001b[32m[0107 16:09:19 @monitor.py:459]\u001b[0m loss-dice-1v23: 1.4745\n",
      "\u001b[32m[0107 16:09:19 @monitor.py:459]\u001b[0m loss-reg-mae: 0.017183\n",
      "\u001b[32m[0107 16:09:19 @monitor.py:459]\u001b[0m valid_acc: 0.97413\n",
      "\u001b[32m[0107 16:09:19 @monitor.py:459]\u001b[0m valid_dice: 0.85008\n",
      "\u001b[32m[0107 16:09:19 @monitor.py:459]\u001b[0m valid_dice_Endothelium: 0.59406\n",
      "\u001b[32m[0107 16:09:19 @monitor.py:459]\u001b[0m valid_dice_Grade1: 0.74766\n",
      "\u001b[32m[0107 16:09:19 @monitor.py:459]\u001b[0m valid_dice_Grade2: 0.42833\n",
      "\u001b[32m[0107 16:09:19 @monitor.py:459]\u001b[0m valid_dice_Grade3: 0.70027\n",
      "\u001b[32m[0107 16:09:19 @monitor.py:459]\u001b[0m valid_mae: 0.040974\n",
      "\u001b[32m[0107 16:09:19 @monitor.py:459]\u001b[0m valid_mean_dice: 0.61758\n",
      "\u001b[32m[0107 16:09:19 @monitor.py:459]\u001b[0m valid_ssim: 1.5569\n",
      "\u001b[32m[0107 16:09:19 @group.py:48]\u001b[0m Callbacks took 17.834 sec in total. DataParallelInferenceRunner: 17.2 seconds\n",
      "\u001b[32m[0107 16:09:19 @base.py:272]\u001b[0m Start Epoch 42 ...\n"
     ]
    },
    {
     "name": "stderr",
     "output_type": "stream",
     "text": [
      "100%|##########|350/350[03:26<00:00, 1.70it/s]"
     ]
    },
    {
     "name": "stdout",
     "output_type": "stream",
     "text": [
      "\u001b[32m[0107 16:12:45 @base.py:282]\u001b[0m Epoch 42 (global_step 14700) finished, time:3 minutes 26 seconds.\n"
     ]
    },
    {
     "name": "stderr",
     "output_type": "stream",
     "text": [
      "\n"
     ]
    },
    {
     "name": "stdout",
     "output_type": "stream",
     "text": [
      "\u001b[32m[0107 16:12:46 @saver.py:77]\u001b[0m Model saved to ./logs//High_CCRCC//hcnet_mix_dist_v/00/model-14700.\n"
     ]
    },
    {
     "name": "stderr",
     "output_type": "stream",
     "text": [
      "100%|##########|50/50[00:12<00:00, 4.08it/s]\n"
     ]
    },
    {
     "name": "stdout",
     "output_type": "stream",
     "text": [
      "\u001b[32m[0107 16:13:02 @monitor.py:459]\u001b[0m DataParallelInferenceRunner/QueueInput/queue_size: 49.874\n",
      "\u001b[32m[0107 16:13:02 @monitor.py:459]\u001b[0m QueueInput/queue_size: 49.432\n",
      "\u001b[32m[0107 16:13:02 @monitor.py:459]\u001b[0m learning_rate: 1e-05\n",
      "\u001b[32m[0107 16:13:02 @monitor.py:459]\u001b[0m loss-ce: 0.092554\n",
      "\u001b[32m[0107 16:13:02 @monitor.py:459]\u001b[0m loss-ce-12v3: 0.076829\n",
      "\u001b[32m[0107 16:13:02 @monitor.py:459]\u001b[0m loss-ce-1v23: 0.086719\n",
      "\u001b[32m[0107 16:13:02 @monitor.py:459]\u001b[0m loss-dice: 2.3156\n",
      "\u001b[32m[0107 16:13:02 @monitor.py:459]\u001b[0m loss-dice-12v3: 1.5207\n",
      "\u001b[32m[0107 16:13:02 @monitor.py:459]\u001b[0m loss-dice-1v23: 1.4671\n",
      "\u001b[32m[0107 16:13:02 @monitor.py:459]\u001b[0m loss-reg-mae: 0.018835\n",
      "\u001b[32m[0107 16:13:02 @monitor.py:459]\u001b[0m valid_acc: 0.97419\n",
      "\u001b[32m[0107 16:13:02 @monitor.py:459]\u001b[0m valid_dice: 0.84955\n",
      "\u001b[32m[0107 16:13:02 @monitor.py:459]\u001b[0m valid_dice_Endothelium: 0.60799\n",
      "\u001b[32m[0107 16:13:02 @monitor.py:459]\u001b[0m valid_dice_Grade1: 0.7404\n",
      "\u001b[32m[0107 16:13:02 @monitor.py:459]\u001b[0m valid_dice_Grade2: 0.43492\n",
      "\u001b[32m[0107 16:13:02 @monitor.py:459]\u001b[0m valid_dice_Grade3: 0.69506\n",
      "\u001b[32m[0107 16:13:02 @monitor.py:459]\u001b[0m valid_mae: 0.039704\n",
      "\u001b[32m[0107 16:13:02 @monitor.py:459]\u001b[0m valid_mean_dice: 0.61959\n",
      "\u001b[32m[0107 16:13:02 @monitor.py:459]\u001b[0m valid_ssim: 1.5613\n",
      "\u001b[32m[0107 16:13:02 @group.py:48]\u001b[0m Callbacks took 17.380 sec in total. DataParallelInferenceRunner: 16.7 seconds\n",
      "\u001b[32m[0107 16:13:02 @base.py:272]\u001b[0m Start Epoch 43 ...\n"
     ]
    },
    {
     "name": "stderr",
     "output_type": "stream",
     "text": [
      "100%|##########|350/350[03:26<00:00, 1.70it/s]"
     ]
    },
    {
     "name": "stdout",
     "output_type": "stream",
     "text": [
      "\u001b[32m[0107 16:16:29 @base.py:282]\u001b[0m Epoch 43 (global_step 15050) finished, time:3 minutes 26 seconds.\n"
     ]
    },
    {
     "name": "stderr",
     "output_type": "stream",
     "text": [
      "\n"
     ]
    },
    {
     "name": "stdout",
     "output_type": "stream",
     "text": [
      "\u001b[32m[0107 16:16:29 @saver.py:77]\u001b[0m Model saved to ./logs//High_CCRCC//hcnet_mix_dist_v/00/model-15050.\n"
     ]
    },
    {
     "name": "stderr",
     "output_type": "stream",
     "text": [
      "100%|##########|50/50[00:12<00:00, 4.06it/s]\n"
     ]
    },
    {
     "name": "stdout",
     "output_type": "stream",
     "text": [
      "\u001b[32m[0107 16:16:46 @monitor.py:459]\u001b[0m DataParallelInferenceRunner/QueueInput/queue_size: 49.724\n",
      "\u001b[32m[0107 16:16:46 @monitor.py:459]\u001b[0m QueueInput/queue_size: 49.623\n",
      "\u001b[32m[0107 16:16:46 @monitor.py:459]\u001b[0m learning_rate: 1e-05\n",
      "\u001b[32m[0107 16:16:46 @monitor.py:459]\u001b[0m loss-ce: 0.10696\n",
      "\u001b[32m[0107 16:16:46 @monitor.py:459]\u001b[0m loss-ce-12v3: 0.089137\n",
      "\u001b[32m[0107 16:16:46 @monitor.py:459]\u001b[0m loss-ce-1v23: 0.098646\n",
      "\u001b[32m[0107 16:16:46 @monitor.py:459]\u001b[0m loss-dice: 2.3276\n",
      "\u001b[32m[0107 16:16:46 @monitor.py:459]\u001b[0m loss-dice-12v3: 1.5483\n",
      "\u001b[32m[0107 16:16:46 @monitor.py:459]\u001b[0m loss-dice-1v23: 1.447\n",
      "\u001b[32m[0107 16:16:46 @monitor.py:459]\u001b[0m loss-reg-mae: 0.11951\n",
      "\u001b[32m[0107 16:16:46 @monitor.py:459]\u001b[0m valid_acc: 0.97422\n",
      "\u001b[32m[0107 16:16:46 @monitor.py:459]\u001b[0m valid_dice: 0.85011\n",
      "\u001b[32m[0107 16:16:46 @monitor.py:459]\u001b[0m valid_dice_Endothelium: 0.60068\n",
      "\u001b[32m[0107 16:16:46 @monitor.py:459]\u001b[0m valid_dice_Grade1: 0.7399\n",
      "\u001b[32m[0107 16:16:46 @monitor.py:459]\u001b[0m valid_dice_Grade2: 0.43507\n",
      "\u001b[32m[0107 16:16:46 @monitor.py:459]\u001b[0m valid_dice_Grade3: 0.70078\n",
      "\u001b[32m[0107 16:16:46 @monitor.py:459]\u001b[0m valid_mae: 0.040101\n",
      "\u001b[32m[0107 16:16:46 @monitor.py:459]\u001b[0m valid_mean_dice: 0.61911\n",
      "\u001b[32m[0107 16:16:46 @monitor.py:459]\u001b[0m valid_ssim: 1.5592\n",
      "\u001b[32m[0107 16:16:46 @group.py:48]\u001b[0m Callbacks took 17.428 sec in total. DataParallelInferenceRunner: 16.8 seconds\n",
      "\u001b[32m[0107 16:16:46 @base.py:272]\u001b[0m Start Epoch 44 ...\n"
     ]
    },
    {
     "name": "stderr",
     "output_type": "stream",
     "text": [
      "100%|##########|350/350[03:26<00:00, 1.70it/s]"
     ]
    },
    {
     "name": "stdout",
     "output_type": "stream",
     "text": [
      "\u001b[32m[0107 16:20:12 @base.py:282]\u001b[0m Epoch 44 (global_step 15400) finished, time:3 minutes 26 seconds.\n"
     ]
    },
    {
     "name": "stderr",
     "output_type": "stream",
     "text": [
      "\n"
     ]
    },
    {
     "name": "stdout",
     "output_type": "stream",
     "text": [
      "\u001b[32m[0107 16:20:13 @saver.py:77]\u001b[0m Model saved to ./logs//High_CCRCC//hcnet_mix_dist_v/00/model-15400.\n"
     ]
    },
    {
     "name": "stderr",
     "output_type": "stream",
     "text": [
      "100%|##########|50/50[00:11<00:00, 4.18it/s]\n"
     ]
    },
    {
     "name": "stdout",
     "output_type": "stream",
     "text": [
      "\u001b[32m[0107 16:20:29 @monitor.py:459]\u001b[0m DataParallelInferenceRunner/QueueInput/queue_size: 49.997\n",
      "\u001b[32m[0107 16:20:29 @monitor.py:459]\u001b[0m QueueInput/queue_size: 49.982\n",
      "\u001b[32m[0107 16:20:29 @monitor.py:459]\u001b[0m learning_rate: 1e-05\n",
      "\u001b[32m[0107 16:20:29 @monitor.py:459]\u001b[0m loss-ce: 0.098157\n",
      "\u001b[32m[0107 16:20:29 @monitor.py:459]\u001b[0m loss-ce-12v3: 0.080346\n",
      "\u001b[32m[0107 16:20:29 @monitor.py:459]\u001b[0m loss-ce-1v23: 0.091084\n",
      "\u001b[32m[0107 16:20:29 @monitor.py:459]\u001b[0m loss-dice: 2.2164\n",
      "\u001b[32m[0107 16:20:29 @monitor.py:459]\u001b[0m loss-dice-12v3: 1.429\n",
      "\u001b[32m[0107 16:20:29 @monitor.py:459]\u001b[0m loss-dice-1v23: 1.3915\n",
      "\u001b[32m[0107 16:20:29 @monitor.py:459]\u001b[0m loss-reg-mae: 0.038806\n",
      "\u001b[32m[0107 16:20:29 @monitor.py:459]\u001b[0m valid_acc: 0.97408\n",
      "\u001b[32m[0107 16:20:29 @monitor.py:459]\u001b[0m valid_dice: 0.85053\n",
      "\u001b[32m[0107 16:20:29 @monitor.py:459]\u001b[0m valid_dice_Endothelium: 0.59931\n",
      "\u001b[32m[0107 16:20:29 @monitor.py:459]\u001b[0m valid_dice_Grade1: 0.7368\n",
      "\u001b[32m[0107 16:20:29 @monitor.py:459]\u001b[0m valid_dice_Grade2: 0.42663\n",
      "\u001b[32m[0107 16:20:29 @monitor.py:459]\u001b[0m valid_dice_Grade3: 0.69518\n",
      "\u001b[32m[0107 16:20:29 @monitor.py:459]\u001b[0m valid_mae: 0.040497\n",
      "\u001b[32m[0107 16:20:29 @monitor.py:459]\u001b[0m valid_mean_dice: 0.61448\n",
      "\u001b[32m[0107 16:20:29 @monitor.py:459]\u001b[0m valid_ssim: 1.5577\n",
      "\u001b[32m[0107 16:20:29 @group.py:48]\u001b[0m Callbacks took 16.961 sec in total. DataParallelInferenceRunner: 16.3 seconds\n",
      "\u001b[32m[0107 16:20:29 @base.py:272]\u001b[0m Start Epoch 45 ...\n"
     ]
    },
    {
     "name": "stderr",
     "output_type": "stream",
     "text": [
      "100%|##########|350/350[03:26<00:00, 1.70it/s]"
     ]
    },
    {
     "name": "stdout",
     "output_type": "stream",
     "text": [
      "\u001b[32m[0107 16:23:55 @base.py:282]\u001b[0m Epoch 45 (global_step 15750) finished, time:3 minutes 26 seconds.\n"
     ]
    },
    {
     "name": "stderr",
     "output_type": "stream",
     "text": [
      "\n"
     ]
    },
    {
     "name": "stdout",
     "output_type": "stream",
     "text": [
      "\u001b[32m[0107 16:23:56 @saver.py:77]\u001b[0m Model saved to ./logs//High_CCRCC//hcnet_mix_dist_v/00/model-15750.\n"
     ]
    },
    {
     "name": "stderr",
     "output_type": "stream",
     "text": [
      "100%|##########|50/50[00:12<00:00, 4.08it/s]\n"
     ]
    },
    {
     "name": "stdout",
     "output_type": "stream",
     "text": [
      "\u001b[32m[0107 16:24:12 @monitor.py:459]\u001b[0m DataParallelInferenceRunner/QueueInput/queue_size: 49.996\n",
      "\u001b[32m[0107 16:24:12 @monitor.py:459]\u001b[0m QueueInput/queue_size: 49.086\n",
      "\u001b[32m[0107 16:24:12 @monitor.py:459]\u001b[0m learning_rate: 1e-05\n",
      "\u001b[32m[0107 16:24:12 @monitor.py:459]\u001b[0m loss-ce: 0.10371\n",
      "\u001b[32m[0107 16:24:12 @monitor.py:459]\u001b[0m loss-ce-12v3: 0.086513\n",
      "\u001b[32m[0107 16:24:12 @monitor.py:459]\u001b[0m loss-ce-1v23: 0.09757\n",
      "\u001b[32m[0107 16:24:12 @monitor.py:459]\u001b[0m loss-dice: 2.4235\n",
      "\u001b[32m[0107 16:24:12 @monitor.py:459]\u001b[0m loss-dice-12v3: 1.6241\n",
      "\u001b[32m[0107 16:24:12 @monitor.py:459]\u001b[0m loss-dice-1v23: 1.5272\n",
      "\u001b[32m[0107 16:24:12 @monitor.py:459]\u001b[0m loss-reg-mae: 0.014991\n",
      "\u001b[32m[0107 16:24:12 @monitor.py:459]\u001b[0m valid_acc: 0.97419\n",
      "\u001b[32m[0107 16:24:12 @monitor.py:459]\u001b[0m valid_dice: 0.85082\n",
      "\u001b[32m[0107 16:24:12 @monitor.py:459]\u001b[0m valid_dice_Endothelium: 0.60928\n",
      "\u001b[32m[0107 16:24:12 @monitor.py:459]\u001b[0m valid_dice_Grade1: 0.74697\n",
      "\u001b[32m[0107 16:24:12 @monitor.py:459]\u001b[0m valid_dice_Grade2: 0.42957\n",
      "\u001b[32m[0107 16:24:12 @monitor.py:459]\u001b[0m valid_dice_Grade3: 0.70175\n",
      "\u001b[32m[0107 16:24:12 @monitor.py:459]\u001b[0m valid_mae: 0.040094\n",
      "\u001b[32m[0107 16:24:12 @monitor.py:459]\u001b[0m valid_mean_dice: 0.62189\n",
      "\u001b[32m[0107 16:24:12 @monitor.py:459]\u001b[0m valid_ssim: 1.5578\n",
      "\u001b[32m[0107 16:24:12 @group.py:48]\u001b[0m Callbacks took 17.320 sec in total. DataParallelInferenceRunner: 16.6 seconds\n",
      "\u001b[32m[0107 16:24:13 @base.py:272]\u001b[0m Start Epoch 46 ...\n"
     ]
    },
    {
     "name": "stderr",
     "output_type": "stream",
     "text": [
      "100%|##########|350/350[03:26<00:00, 1.70it/s]"
     ]
    },
    {
     "name": "stdout",
     "output_type": "stream",
     "text": [
      "\u001b[32m[0107 16:27:39 @base.py:282]\u001b[0m Epoch 46 (global_step 16100) finished, time:3 minutes 26 seconds.\n"
     ]
    },
    {
     "name": "stderr",
     "output_type": "stream",
     "text": [
      "\n"
     ]
    },
    {
     "name": "stdout",
     "output_type": "stream",
     "text": [
      "\u001b[32m[0107 16:27:39 @saver.py:77]\u001b[0m Model saved to ./logs//High_CCRCC//hcnet_mix_dist_v/00/model-16100.\n"
     ]
    },
    {
     "name": "stderr",
     "output_type": "stream",
     "text": [
      "100%|##########|50/50[00:12<00:00, 4.07it/s]\n"
     ]
    },
    {
     "name": "stdout",
     "output_type": "stream",
     "text": [
      "\u001b[32m[0107 16:27:56 @monitor.py:459]\u001b[0m DataParallelInferenceRunner/QueueInput/queue_size: 49.98\n",
      "\u001b[32m[0107 16:27:56 @monitor.py:459]\u001b[0m QueueInput/queue_size: 49.484\n",
      "\u001b[32m[0107 16:27:56 @monitor.py:459]\u001b[0m learning_rate: 1e-05\n",
      "\u001b[32m[0107 16:27:56 @monitor.py:459]\u001b[0m loss-ce: 0.11109\n",
      "\u001b[32m[0107 16:27:56 @monitor.py:459]\u001b[0m loss-ce-12v3: 0.090409\n",
      "\u001b[32m[0107 16:27:56 @monitor.py:459]\u001b[0m loss-ce-1v23: 0.10256\n",
      "\u001b[32m[0107 16:27:56 @monitor.py:459]\u001b[0m loss-dice: 2.3944\n",
      "\u001b[32m[0107 16:27:56 @monitor.py:459]\u001b[0m loss-dice-12v3: 1.5972\n",
      "\u001b[32m[0107 16:27:56 @monitor.py:459]\u001b[0m loss-dice-1v23: 1.5\n",
      "\u001b[32m[0107 16:27:56 @monitor.py:459]\u001b[0m loss-reg-mae: 0.01546\n",
      "\u001b[32m[0107 16:27:56 @monitor.py:459]\u001b[0m valid_acc: 0.9741\n",
      "\u001b[32m[0107 16:27:56 @monitor.py:459]\u001b[0m valid_dice: 0.85079\n",
      "\u001b[32m[0107 16:27:56 @monitor.py:459]\u001b[0m valid_dice_Endothelium: 0.62005\n",
      "\u001b[32m[0107 16:27:56 @monitor.py:459]\u001b[0m valid_dice_Grade1: 0.74648\n",
      "\u001b[32m[0107 16:27:56 @monitor.py:459]\u001b[0m valid_dice_Grade2: 0.43055\n",
      "\u001b[32m[0107 16:27:56 @monitor.py:459]\u001b[0m valid_dice_Grade3: 0.70389\n",
      "\u001b[32m[0107 16:27:56 @monitor.py:459]\u001b[0m valid_mae: 0.040515\n",
      "\u001b[32m[0107 16:27:56 @monitor.py:459]\u001b[0m valid_mean_dice: 0.62524\n",
      "\u001b[32m[0107 16:27:56 @monitor.py:459]\u001b[0m valid_ssim: 1.5581\n",
      "\u001b[32m[0107 16:27:56 @group.py:48]\u001b[0m Callbacks took 17.145 sec in total. DataParallelInferenceRunner: 16.5 seconds\n",
      "\u001b[32m[0107 16:27:56 @base.py:272]\u001b[0m Start Epoch 47 ...\n"
     ]
    },
    {
     "name": "stderr",
     "output_type": "stream",
     "text": [
      "100%|##########|350/350[03:26<00:00, 1.70it/s]"
     ]
    },
    {
     "name": "stdout",
     "output_type": "stream",
     "text": [
      "\u001b[32m[0107 16:31:22 @base.py:282]\u001b[0m Epoch 47 (global_step 16450) finished, time:3 minutes 26 seconds.\n"
     ]
    },
    {
     "name": "stderr",
     "output_type": "stream",
     "text": [
      "\n"
     ]
    },
    {
     "name": "stdout",
     "output_type": "stream",
     "text": [
      "\u001b[32m[0107 16:31:22 @saver.py:77]\u001b[0m Model saved to ./logs//High_CCRCC//hcnet_mix_dist_v/00/model-16450.\n"
     ]
    },
    {
     "name": "stderr",
     "output_type": "stream",
     "text": [
      "100%|##########|50/50[00:11<00:00, 4.21it/s]\n"
     ]
    },
    {
     "name": "stdout",
     "output_type": "stream",
     "text": [
      "\u001b[32m[0107 16:31:39 @monitor.py:459]\u001b[0m DataParallelInferenceRunner/QueueInput/queue_size: 49.835\n",
      "\u001b[32m[0107 16:31:39 @monitor.py:459]\u001b[0m QueueInput/queue_size: 49.872\n",
      "\u001b[32m[0107 16:31:39 @monitor.py:459]\u001b[0m learning_rate: 1e-05\n",
      "\u001b[32m[0107 16:31:39 @monitor.py:459]\u001b[0m loss-ce: 0.098167\n",
      "\u001b[32m[0107 16:31:39 @monitor.py:459]\u001b[0m loss-ce-12v3: 0.08168\n",
      "\u001b[32m[0107 16:31:39 @monitor.py:459]\u001b[0m loss-ce-1v23: 0.090919\n",
      "\u001b[32m[0107 16:31:39 @monitor.py:459]\u001b[0m loss-dice: 2.3054\n",
      "\u001b[32m[0107 16:31:39 @monitor.py:459]\u001b[0m loss-dice-12v3: 1.5052\n",
      "\u001b[32m[0107 16:31:39 @monitor.py:459]\u001b[0m loss-dice-1v23: 1.4437\n",
      "\u001b[32m[0107 16:31:39 @monitor.py:459]\u001b[0m loss-reg-mae: 0.014371\n",
      "\u001b[32m[0107 16:31:39 @monitor.py:459]\u001b[0m valid_acc: 0.97406\n",
      "\u001b[32m[0107 16:31:39 @monitor.py:459]\u001b[0m valid_dice: 0.84984\n",
      "\u001b[32m[0107 16:31:39 @monitor.py:459]\u001b[0m valid_dice_Endothelium: 0.60771\n",
      "\u001b[32m[0107 16:31:39 @monitor.py:459]\u001b[0m valid_dice_Grade1: 0.74673\n",
      "\u001b[32m[0107 16:31:39 @monitor.py:459]\u001b[0m valid_dice_Grade2: 0.39434\n",
      "\u001b[32m[0107 16:31:39 @monitor.py:459]\u001b[0m valid_dice_Grade3: 0.69671\n",
      "\u001b[32m[0107 16:31:39 @monitor.py:459]\u001b[0m valid_mae: 0.039756\n",
      "\u001b[32m[0107 16:31:39 @monitor.py:459]\u001b[0m valid_mean_dice: 0.61137\n",
      "\u001b[32m[0107 16:31:39 @monitor.py:459]\u001b[0m valid_ssim: 1.5565\n",
      "\u001b[32m[0107 16:31:39 @group.py:48]\u001b[0m Callbacks took 17.279 sec in total. DataParallelInferenceRunner: 16.7 seconds\n",
      "\u001b[32m[0107 16:31:39 @base.py:272]\u001b[0m Start Epoch 48 ...\n"
     ]
    },
    {
     "name": "stderr",
     "output_type": "stream",
     "text": [
      "100%|##########|350/350[03:26<00:00, 1.70it/s]"
     ]
    },
    {
     "name": "stdout",
     "output_type": "stream",
     "text": [
      "\u001b[32m[0107 16:35:05 @base.py:282]\u001b[0m Epoch 48 (global_step 16800) finished, time:3 minutes 26 seconds.\n"
     ]
    },
    {
     "name": "stderr",
     "output_type": "stream",
     "text": [
      "\n"
     ]
    },
    {
     "name": "stdout",
     "output_type": "stream",
     "text": [
      "\u001b[32m[0107 16:35:06 @saver.py:77]\u001b[0m Model saved to ./logs//High_CCRCC//hcnet_mix_dist_v/00/model-16800.\n"
     ]
    },
    {
     "name": "stderr",
     "output_type": "stream",
     "text": [
      "100%|##########|50/50[00:12<00:00, 4.07it/s]\n"
     ]
    },
    {
     "name": "stdout",
     "output_type": "stream",
     "text": [
      "\u001b[32m[0107 16:35:23 @monitor.py:459]\u001b[0m DataParallelInferenceRunner/QueueInput/queue_size: 49.836\n",
      "\u001b[32m[0107 16:35:23 @monitor.py:459]\u001b[0m QueueInput/queue_size: 49.469\n",
      "\u001b[32m[0107 16:35:23 @monitor.py:459]\u001b[0m learning_rate: 1e-05\n",
      "\u001b[32m[0107 16:35:23 @monitor.py:459]\u001b[0m loss-ce: 0.093962\n",
      "\u001b[32m[0107 16:35:23 @monitor.py:459]\u001b[0m loss-ce-12v3: 0.077946\n",
      "\u001b[32m[0107 16:35:23 @monitor.py:459]\u001b[0m loss-ce-1v23: 0.087267\n",
      "\u001b[32m[0107 16:35:23 @monitor.py:459]\u001b[0m loss-dice: 2.2513\n",
      "\u001b[32m[0107 16:35:23 @monitor.py:459]\u001b[0m loss-dice-12v3: 1.4687\n",
      "\u001b[32m[0107 16:35:23 @monitor.py:459]\u001b[0m loss-dice-1v23: 1.3893\n",
      "\u001b[32m[0107 16:35:23 @monitor.py:459]\u001b[0m loss-reg-mae: 0.013812\n",
      "\u001b[32m[0107 16:35:23 @monitor.py:459]\u001b[0m valid_acc: 0.97409\n",
      "\u001b[32m[0107 16:35:23 @monitor.py:459]\u001b[0m valid_dice: 0.85032\n",
      "\u001b[32m[0107 16:35:23 @monitor.py:459]\u001b[0m valid_dice_Endothelium: 0.60309\n",
      "\u001b[32m[0107 16:35:23 @monitor.py:459]\u001b[0m valid_dice_Grade1: 0.74292\n",
      "\u001b[32m[0107 16:35:23 @monitor.py:459]\u001b[0m valid_dice_Grade2: 0.40228\n",
      "\u001b[32m[0107 16:35:23 @monitor.py:459]\u001b[0m valid_dice_Grade3: 0.68797\n",
      "\u001b[32m[0107 16:35:23 @monitor.py:459]\u001b[0m valid_mae: 0.040786\n",
      "\u001b[32m[0107 16:35:23 @monitor.py:459]\u001b[0m valid_mean_dice: 0.60907\n",
      "\u001b[32m[0107 16:35:23 @monitor.py:459]\u001b[0m valid_ssim: 1.5519\n",
      "\u001b[32m[0107 16:35:23 @group.py:48]\u001b[0m Callbacks took 17.931 sec in total. DataParallelInferenceRunner: 17.3 seconds\n",
      "\u001b[32m[0107 16:35:23 @base.py:272]\u001b[0m Start Epoch 49 ...\n"
     ]
    },
    {
     "name": "stderr",
     "output_type": "stream",
     "text": [
      "100%|##########|350/350[03:25<00:00, 1.70it/s]"
     ]
    },
    {
     "name": "stdout",
     "output_type": "stream",
     "text": [
      "\u001b[32m[0107 16:38:49 @base.py:282]\u001b[0m Epoch 49 (global_step 17150) finished, time:3 minutes 25 seconds.\n"
     ]
    },
    {
     "name": "stderr",
     "output_type": "stream",
     "text": [
      "\n"
     ]
    },
    {
     "name": "stdout",
     "output_type": "stream",
     "text": [
      "\u001b[32m[0107 16:38:50 @saver.py:77]\u001b[0m Model saved to ./logs//High_CCRCC//hcnet_mix_dist_v/00/model-17150.\n"
     ]
    },
    {
     "name": "stderr",
     "output_type": "stream",
     "text": [
      "100%|##########|50/50[00:12<00:00, 4.07it/s]\n"
     ]
    },
    {
     "name": "stdout",
     "output_type": "stream",
     "text": [
      "\u001b[32m[0107 16:39:07 @monitor.py:459]\u001b[0m DataParallelInferenceRunner/QueueInput/queue_size: 49.902\n",
      "\u001b[32m[0107 16:39:07 @monitor.py:459]\u001b[0m QueueInput/queue_size: 49.683\n",
      "\u001b[32m[0107 16:39:07 @monitor.py:459]\u001b[0m learning_rate: 1e-05\n",
      "\u001b[32m[0107 16:39:07 @monitor.py:459]\u001b[0m loss-ce: 0.10317\n",
      "\u001b[32m[0107 16:39:07 @monitor.py:459]\u001b[0m loss-ce-12v3: 0.083572\n",
      "\u001b[32m[0107 16:39:07 @monitor.py:459]\u001b[0m loss-ce-1v23: 0.094815\n",
      "\u001b[32m[0107 16:39:07 @monitor.py:459]\u001b[0m loss-dice: 2.2791\n",
      "\u001b[32m[0107 16:39:07 @monitor.py:459]\u001b[0m loss-dice-12v3: 1.4752\n",
      "\u001b[32m[0107 16:39:07 @monitor.py:459]\u001b[0m loss-dice-1v23: 1.4135\n",
      "\u001b[32m[0107 16:39:07 @monitor.py:459]\u001b[0m loss-reg-mae: 0.014731\n",
      "\u001b[32m[0107 16:39:08 @monitor.py:459]\u001b[0m valid_acc: 0.97415\n",
      "\u001b[32m[0107 16:39:08 @monitor.py:459]\u001b[0m valid_dice: 0.85089\n",
      "\u001b[32m[0107 16:39:08 @monitor.py:459]\u001b[0m valid_dice_Endothelium: 0.60627\n",
      "\u001b[32m[0107 16:39:08 @monitor.py:459]\u001b[0m valid_dice_Grade1: 0.74535\n",
      "\u001b[32m[0107 16:39:08 @monitor.py:459]\u001b[0m valid_dice_Grade2: 0.39788\n",
      "\u001b[32m[0107 16:39:08 @monitor.py:459]\u001b[0m valid_dice_Grade3: 0.69524\n",
      "\u001b[32m[0107 16:39:08 @monitor.py:459]\u001b[0m valid_mae: 0.040526\n",
      "\u001b[32m[0107 16:39:08 @monitor.py:459]\u001b[0m valid_mean_dice: 0.61119\n",
      "\u001b[32m[0107 16:39:08 @monitor.py:459]\u001b[0m valid_ssim: 1.5585\n",
      "\u001b[32m[0107 16:39:08 @group.py:48]\u001b[0m Callbacks took 18.177 sec in total. DataParallelInferenceRunner: 17.5 seconds\n",
      "\u001b[32m[0107 16:39:08 @base.py:272]\u001b[0m Start Epoch 50 ...\n"
     ]
    },
    {
     "name": "stderr",
     "output_type": "stream",
     "text": [
      "100%|##########|350/350[03:26<00:00, 1.70it/s]"
     ]
    },
    {
     "name": "stdout",
     "output_type": "stream",
     "text": [
      "\u001b[32m[0107 16:42:34 @base.py:282]\u001b[0m Epoch 50 (global_step 17500) finished, time:3 minutes 26 seconds.\n"
     ]
    },
    {
     "name": "stderr",
     "output_type": "stream",
     "text": [
      "\n"
     ]
    },
    {
     "name": "stdout",
     "output_type": "stream",
     "text": [
      "\u001b[32m[0107 16:42:34 @saver.py:77]\u001b[0m Model saved to ./logs//High_CCRCC//hcnet_mix_dist_v/00/model-17500.\n"
     ]
    },
    {
     "name": "stderr",
     "output_type": "stream",
     "text": [
      "100%|##########|50/50[00:11<00:00, 4.20it/s]\n"
     ]
    },
    {
     "name": "stdout",
     "output_type": "stream",
     "text": [
      "\u001b[32m[0107 16:42:51 @monitor.py:459]\u001b[0m DataParallelInferenceRunner/QueueInput/queue_size: 49.89\n",
      "\u001b[32m[0107 16:42:51 @monitor.py:459]\u001b[0m QueueInput/queue_size: 49.738\n",
      "\u001b[32m[0107 16:42:51 @monitor.py:459]\u001b[0m learning_rate: 1e-05\n",
      "\u001b[32m[0107 16:42:51 @monitor.py:459]\u001b[0m loss-ce: 0.10419\n",
      "\u001b[32m[0107 16:42:51 @monitor.py:459]\u001b[0m loss-ce-12v3: 0.087773\n",
      "\u001b[32m[0107 16:42:51 @monitor.py:459]\u001b[0m loss-ce-1v23: 0.094959\n",
      "\u001b[32m[0107 16:42:51 @monitor.py:459]\u001b[0m loss-dice: 2.2538\n",
      "\u001b[32m[0107 16:42:51 @monitor.py:459]\u001b[0m loss-dice-12v3: 1.487\n",
      "\u001b[32m[0107 16:42:51 @monitor.py:459]\u001b[0m loss-dice-1v23: 1.4267\n",
      "\u001b[32m[0107 16:42:51 @monitor.py:459]\u001b[0m loss-reg-mae: 1.3585\n",
      "\u001b[32m[0107 16:42:51 @monitor.py:459]\u001b[0m valid_acc: 0.97432\n",
      "\u001b[32m[0107 16:42:51 @monitor.py:459]\u001b[0m valid_dice: 0.84855\n",
      "\u001b[32m[0107 16:42:51 @monitor.py:459]\u001b[0m valid_dice_Endothelium: 0.60798\n",
      "\u001b[32m[0107 16:42:51 @monitor.py:459]\u001b[0m valid_dice_Grade1: 0.74378\n",
      "\u001b[32m[0107 16:42:51 @monitor.py:459]\u001b[0m valid_dice_Grade2: 0.42535\n",
      "\u001b[32m[0107 16:42:51 @monitor.py:459]\u001b[0m valid_dice_Grade3: 0.70608\n",
      "\u001b[32m[0107 16:42:51 @monitor.py:459]\u001b[0m valid_mae: 0.040123\n",
      "\u001b[32m[0107 16:42:51 @monitor.py:459]\u001b[0m valid_mean_dice: 0.6208\n",
      "\u001b[32m[0107 16:42:51 @monitor.py:459]\u001b[0m valid_ssim: 1.5528\n",
      "\u001b[32m[0107 16:42:51 @group.py:48]\u001b[0m Callbacks took 17.779 sec in total. DataParallelInferenceRunner: 17.1 seconds\n",
      "\u001b[32m[0107 16:42:51 @base.py:286]\u001b[0m Training has finished!\n",
      "\u001b[32m[0107 16:42:51 @varmanip.py:180]\u001b[0m Checkpoint path ./logs//High_CCRCC//hcnet_mix_dist_v/00/model-17500.index is auto-corrected to ./logs//High_CCRCC//hcnet_mix_dist_v/00/model-17500.\n",
      "[262, 262] [256, 256]\n",
      "\u001b[32m[0107 16:42:52 @parallel.py:293]\u001b[0m [PrefetchDataZMQ] Will fork a dataflow more than one times. This assumes the datapoints are i.i.d.\n",
      "[262, 262] [256, 256]\n",
      "\u001b[32m[0107 16:42:52 @input_source.py:174]\u001b[0m EnqueueThread DataParallelInferenceRunner/QueueInput/input_queue Exited.\n",
      "\u001b[32m[0107 16:42:52 @logger.py:73]\u001b[0m Argv: /home1/gzy/.conda/envs/hovernet/lib/python3.6/site-packages/ipykernel_launcher.py -f /home1/gzy/.local/share/jupyter/runtime/kernel-cb8afe9f-ff22-4517-a71b-4fd8850f9cdc.json\n",
      "['/home1/gzy/NucleiSegmentation/High_CCRCC/Train/512x512_256x256_dist/']\n",
      "['/home1/gzy/NucleiSegmentation/High_CCRCC/Valid/512x512_256x256_dist/']\n",
      "['/home1/gzy/NucleiSegmentation/High_CCRCC/Train/512x512_256x256_dist/']\n",
      "['/home1/gzy/NucleiSegmentation/High_CCRCC/Valid/512x512_256x256_dist/']\n",
      "\u001b[32m[0107 16:42:52 @training.py:52]\u001b[0m [DataParallel] Training a model of 2 towers.\n",
      "\u001b[32m[0107 16:42:52 @interface.py:34]\u001b[0m Automatically applying QueueInput on the DataFlow.\n",
      "\u001b[32m[0107 16:42:52 @interface.py:46]\u001b[0m Automatically applying StagingInput on the DataFlow.\n",
      "\u001b[32m[0107 16:42:52 @develop.py:96]\u001b[0m \u001b[5m\u001b[31mWRN\u001b[0m [Deprecated] ModelDescBase._get_inputs() interface will be deprecated after 30 Mar. Use inputs() instead!\n",
      "\u001b[32m[0107 16:42:52 @input_source.py:220]\u001b[0m Setting up the queue 'QueueInput/input_queue' for CPU prefetching ...\n",
      "\u001b[32m[0107 16:42:52 @training.py:114]\u001b[0m Building graph for training tower 0 ...\n",
      "\u001b[32m[0107 16:42:52 @develop.py:96]\u001b[0m \u001b[5m\u001b[31mWRN\u001b[0m [Deprecated] ModelDescBase._build_graph() interface will be deprecated after 30 Mar. Use build_graph() instead!\n",
      "\u001b[32m[0107 16:42:52 @input_source.py:174]\u001b[0m EnqueueThread QueueInput/input_queue Exited.\n",
      "PrefetchDataZMQ successfully cleaned-up.\n",
      "\u001b[32m[0107 16:43:04 @develop.py:96]\u001b[0m \u001b[5m\u001b[31mWRN\u001b[0m [Deprecated] get_cost() and self.cost will be deprecated after 30 Mar. Return the cost tensor directly in build_graph() instead!\n",
      "\u001b[32m[0107 16:43:04 @develop.py:96]\u001b[0m \u001b[5m\u001b[31mWRN\u001b[0m [Deprecated] ModelDescBase._get_optimizer() interface will be deprecated after 30 Mar. Use optimizer() instead!\n",
      "\u001b[32m[0107 16:43:11 @gradproc.py:77]\u001b[0m \u001b[5m\u001b[31mWRN\u001b[0m No gradient w.r.t 5 trainable variables: param1, param2, param3, param4, param5\n",
      "\u001b[32m[0107 16:43:11 @training.py:114]\u001b[0m Building graph for training tower 1 ...\n",
      "\u001b[32m[0107 16:43:11 @develop.py:96]\u001b[0m \u001b[5m\u001b[31mWRN\u001b[0m [Deprecated] ModelDescBase._build_graph() interface will be deprecated after 30 Mar. Use build_graph() instead!\n",
      "\u001b[32m[0107 16:43:17 @develop.py:96]\u001b[0m \u001b[5m\u001b[31mWRN\u001b[0m [Deprecated] get_cost() and self.cost will be deprecated after 30 Mar. Return the cost tensor directly in build_graph() instead!\n",
      "\u001b[32m[0107 16:43:24 @gradproc.py:77]\u001b[0m \u001b[5m\u001b[31mWRN\u001b[0m No gradient w.r.t 5 trainable variables: param1, param2, param3, param4, param5\n",
      "\u001b[32m[0107 16:43:31 @model_utils.py:64]\u001b[0m \u001b[36mTrainable Variables: \n",
      "\u001b[0mname                                                          shape                 dim  device\n",
      "------------------------------------------------------------  ----------------  -------  ------------------------------\n",
      "en_10x/conv_1/W:0                                             [3, 3, 3, 128]       3456  /replica:0/task:0/device:GPU:0\n",
      "en_10x/conv_1/bn/gamma:0                                      [128]                 128  /replica:0/task:0/device:GPU:1\n",
      "en_10x/conv_1/bn/beta:0                                       [128]                 128  /replica:0/task:0/device:GPU:1\n",
      "en_10x/conv_2/W:0                                             [3, 3, 128, 128]   147456  /replica:0/task:0/device:GPU:1\n",
      "en_10x/conv_2/bn/gamma:0                                      [128]                 128  /replica:0/task:0/device:GPU:0\n",
      "en_10x/conv_2/bn/beta:0                                       [128]                 128  /replica:0/task:0/device:GPU:0\n",
      "en_10x/gcb/spatial_pool_conv/W:0                              [1, 1, 128, 1]        128  /replica:0/task:0/device:GPU:0\n",
      "en_10x/gcb/channel_add_conv_1/W:0                             [1, 1, 128, 16]      2048  /replica:0/task:0/device:GPU:0\n",
      "en_10x/gcb/channel_add_layernorm/beta:0                       [16]                   16  /replica:0/task:0/device:GPU:0\n",
      "en_10x/gcb/channel_add_layernorm/gamma:0                      [16]                   16  /replica:0/task:0/device:GPU:0\n",
      "en_10x/gcb/channel_add_conv_2/W:0                             [1, 1, 16, 128]      2048  /replica:0/task:0/device:GPU:0\n",
      "cov_10x_up/W:0                                                [3, 3, 128, 64]     73728  /replica:0/task:0/device:GPU:0\n",
      "cov_10x_up/bn/gamma:0                                         [64]                   64  /replica:0/task:0/device:GPU:0\n",
      "cov_10x_up/bn/beta:0                                          [64]                   64  /replica:0/task:0/device:GPU:0\n",
      "cov_10x_down/W:0                                              [3, 3, 128, 256]   294912  /replica:0/task:0/device:GPU:0\n",
      "cov_10x_down/bn/gamma:0                                       [256]                 256  /replica:0/task:0/device:GPU:1\n",
      "cov_10x_down/bn/beta:0                                        [256]                 256  /replica:0/task:0/device:GPU:1\n",
      "cov_10x_straight/W:0                                          [3, 3, 128, 128]   147456  /replica:0/task:0/device:GPU:1\n",
      "cov_10x_straight/bn/gamma:0                                   [128]                 128  /replica:0/task:0/device:GPU:1\n",
      "cov_10x_straight/bn/beta:0                                    [128]                 128  /replica:0/task:0/device:GPU:1\n",
      "en_40x/conv_1/W:0                                             [3, 3, 3, 128]       3456  /replica:0/task:0/device:GPU:1\n",
      "en_40x/conv_1/bn/gamma:0                                      [128]                 128  /replica:0/task:0/device:GPU:1\n",
      "en_40x/conv_1/bn/beta:0                                       [128]                 128  /replica:0/task:0/device:GPU:1\n",
      "en_40x/conv_2/W:0                                             [3, 3, 128, 128]   147456  /replica:0/task:0/device:GPU:1\n",
      "en_40x/conv_2/bn/gamma:0                                      [128]                 128  /replica:0/task:0/device:GPU:0\n",
      "en_40x/conv_2/bn/beta:0                                       [128]                 128  /replica:0/task:0/device:GPU:0\n",
      "en_40x/gcb/spatial_pool_conv/W:0                              [1, 1, 128, 1]        128  /replica:0/task:0/device:GPU:0\n",
      "en_40x/gcb/channel_add_conv_1/W:0                             [1, 1, 128, 16]      2048  /replica:0/task:0/device:GPU:0\n",
      "en_40x/gcb/channel_add_layernorm/beta:0                       [16]                   16  /replica:0/task:0/device:GPU:0\n",
      "en_40x/gcb/channel_add_layernorm/gamma:0                      [16]                   16  /replica:0/task:0/device:GPU:0\n",
      "en_40x/gcb/channel_add_conv_2/W:0                             [1, 1, 16, 128]      2048  /replica:0/task:0/device:GPU:0\n",
      "cov_40x_up/W:0                                                [3, 3, 128, 64]     73728  /replica:0/task:0/device:GPU:0\n",
      "cov_40x_up/bn/gamma:0                                         [64]                   64  /replica:0/task:0/device:GPU:1\n",
      "cov_40x_up/bn/beta:0                                          [64]                   64  /replica:0/task:0/device:GPU:1\n",
      "cov_40x_down/W:0                                              [3, 3, 128, 256]   294912  /replica:0/task:0/device:GPU:1\n",
      "cov_40x_down/bn/gamma:0                                       [256]                 256  /replica:0/task:0/device:GPU:0\n",
      "cov_40x_down/bn/beta:0                                        [256]                 256  /replica:0/task:0/device:GPU:0\n",
      "cov_40x_straight/W:0                                          [3, 3, 128, 128]   147456  /replica:0/task:0/device:GPU:0\n",
      "cov_40x_straight/bn/gamma:0                                   [128]                 128  /replica:0/task:0/device:GPU:0\n",
      "cov_40x_straight/bn/beta:0                                    [128]                 128  /replica:0/task:0/device:GPU:0\n",
      "conv0/W:0                                                     [7, 7, 3, 64]        9408  /replica:0/task:0/device:GPU:0\n",
      "conv0/bn/gamma:0                                              [64]                   64  /replica:0/task:0/device:GPU:0\n",
      "conv0/bn/beta:0                                               [64]                   64  /replica:0/task:0/device:GPU:0\n",
      "group0/block0/conv1/W:0                                       [3, 3, 64, 64]      36864  /replica:0/task:0/device:GPU:0\n",
      "group0/block0/conv1/bn/gamma:0                                [64]                   64  /replica:0/task:0/device:GPU:0\n",
      "group0/block0/conv1/bn/beta:0                                 [64]                   64  /replica:0/task:0/device:GPU:0\n",
      "group0/block0/conv2/W:0                                       [3, 3, 64, 64]      36864  /replica:0/task:0/device:GPU:0\n",
      "group0/block0/conv2/bn/gamma:0                                [64]                   64  /replica:0/task:0/device:GPU:0\n",
      "group0/block0/conv2/bn/beta:0                                 [64]                   64  /replica:0/task:0/device:GPU:0\n",
      "group0/block0/gcb/spatial_pool_conv/W:0                       [1, 1, 64, 1]          64  /replica:0/task:0/device:GPU:0\n",
      "group0/block0/gcb/channel_add_conv_1/W:0                      [1, 1, 64, 8]         512  /replica:0/task:0/device:GPU:0\n",
      "group0/block0/gcb/channel_add_layernorm/beta:0                [8]                     8  /replica:0/task:0/device:GPU:0\n",
      "group0/block0/gcb/channel_add_layernorm/gamma:0               [8]                     8  /replica:0/task:0/device:GPU:0\n",
      "group0/block0/gcb/channel_add_conv_2/W:0                      [1, 1, 8, 64]         512  /replica:0/task:0/device:GPU:0\n",
      "group0/block1/conv1/W:0                                       [3, 3, 64, 64]      36864  /replica:0/task:0/device:GPU:0\n",
      "group0/block1/conv1/bn/gamma:0                                [64]                   64  /replica:0/task:0/device:GPU:0\n",
      "group0/block1/conv1/bn/beta:0                                 [64]                   64  /replica:0/task:0/device:GPU:0\n",
      "group0/block1/conv2/W:0                                       [3, 3, 64, 64]      36864  /replica:0/task:0/device:GPU:0\n",
      "group0/block1/conv2/bn/gamma:0                                [64]                   64  /replica:0/task:0/device:GPU:1\n",
      "group0/block1/conv2/bn/beta:0                                 [64]                   64  /replica:0/task:0/device:GPU:1\n",
      "group0/block1/gcb/spatial_pool_conv/W:0                       [1, 1, 64, 1]          64  /replica:0/task:0/device:GPU:1\n",
      "group0/block1/gcb/channel_add_conv_1/W:0                      [1, 1, 64, 8]         512  /replica:0/task:0/device:GPU:1\n",
      "group0/block1/gcb/channel_add_layernorm/beta:0                [8]                     8  /replica:0/task:0/device:GPU:1\n",
      "group0/block1/gcb/channel_add_layernorm/gamma:0               [8]                     8  /replica:0/task:0/device:GPU:1\n",
      "group0/block1/gcb/channel_add_conv_2/W:0                      [1, 1, 8, 64]         512  /replica:0/task:0/device:GPU:1\n",
      "group0/block2/conv1/W:0                                       [3, 3, 64, 64]      36864  /replica:0/task:0/device:GPU:1\n",
      "group0/block2/conv1/bn/gamma:0                                [64]                   64  /replica:0/task:0/device:GPU:0\n",
      "group0/block2/conv1/bn/beta:0                                 [64]                   64  /replica:0/task:0/device:GPU:0\n",
      "group0/block2/conv2/W:0                                       [3, 3, 64, 64]      36864  /replica:0/task:0/device:GPU:0\n",
      "group0/block2/conv2/bn/gamma:0                                [64]                   64  /replica:0/task:0/device:GPU:1\n",
      "group0/block2/conv2/bn/beta:0                                 [64]                   64  /replica:0/task:0/device:GPU:1\n",
      "group0/block2/gcb/spatial_pool_conv/W:0                       [1, 1, 64, 1]          64  /replica:0/task:0/device:GPU:1\n",
      "group0/block2/gcb/channel_add_conv_1/W:0                      [1, 1, 64, 8]         512  /replica:0/task:0/device:GPU:1\n",
      "group0/block2/gcb/channel_add_layernorm/beta:0                [8]                     8  /replica:0/task:0/device:GPU:1\n",
      "group0/block2/gcb/channel_add_layernorm/gamma:0               [8]                     8  /replica:0/task:0/device:GPU:1\n",
      "group0/block2/gcb/channel_add_conv_2/W:0                      [1, 1, 8, 64]         512  /replica:0/task:0/device:GPU:1\n",
      "group1/block0/conv1/W:0                                       [3, 3, 64, 128]     73728  /replica:0/task:0/device:GPU:1\n",
      "group1/block0/conv1/bn/gamma:0                                [128]                 128  /replica:0/task:0/device:GPU:0\n",
      "group1/block0/conv1/bn/beta:0                                 [128]                 128  /replica:0/task:0/device:GPU:0\n",
      "group1/block0/conv2/W:0                                       [3, 3, 128, 128]   147456  /replica:0/task:0/device:GPU:0\n",
      "group1/block0/conv2/bn/gamma:0                                [128]                 128  /replica:0/task:0/device:GPU:1\n",
      "group1/block0/conv2/bn/beta:0                                 [128]                 128  /replica:0/task:0/device:GPU:1\n",
      "group1/block0/gcb/spatial_pool_conv/W:0                       [1, 1, 128, 1]        128  /replica:0/task:0/device:GPU:1\n",
      "group1/block0/gcb/channel_add_conv_1/W:0                      [1, 1, 128, 16]      2048  /replica:0/task:0/device:GPU:1\n",
      "group1/block0/gcb/channel_add_layernorm/beta:0                [16]                   16  /replica:0/task:0/device:GPU:1\n",
      "group1/block0/gcb/channel_add_layernorm/gamma:0               [16]                   16  /replica:0/task:0/device:GPU:1\n",
      "group1/block0/gcb/channel_add_conv_2/W:0                      [1, 1, 16, 128]      2048  /replica:0/task:0/device:GPU:1\n",
      "group1/block0/convshortcut/W:0                                [1, 1, 64, 128]      8192  /replica:0/task:0/device:GPU:1\n",
      "group1/block0/convshortcut/bn/gamma:0                         [128]                 128  /replica:0/task:0/device:GPU:1\n",
      "group1/block0/convshortcut/bn/beta:0                          [128]                 128  /replica:0/task:0/device:GPU:1\n",
      "group1/block1/conv1/W:0                                       [3, 3, 128, 128]   147456  /replica:0/task:0/device:GPU:1\n",
      "group1/block1/conv1/bn/gamma:0                                [128]                 128  /replica:0/task:0/device:GPU:0\n",
      "group1/block1/conv1/bn/beta:0                                 [128]                 128  /replica:0/task:0/device:GPU:0\n",
      "group1/block1/conv2/W:0                                       [3, 3, 128, 128]   147456  /replica:0/task:0/device:GPU:0\n",
      "group1/block1/conv2/bn/gamma:0                                [128]                 128  /replica:0/task:0/device:GPU:1\n",
      "group1/block1/conv2/bn/beta:0                                 [128]                 128  /replica:0/task:0/device:GPU:1\n",
      "group1/block1/gcb/spatial_pool_conv/W:0                       [1, 1, 128, 1]        128  /replica:0/task:0/device:GPU:1\n",
      "group1/block1/gcb/channel_add_conv_1/W:0                      [1, 1, 128, 16]      2048  /replica:0/task:0/device:GPU:1\n",
      "group1/block1/gcb/channel_add_layernorm/beta:0                [16]                   16  /replica:0/task:0/device:GPU:1\n",
      "group1/block1/gcb/channel_add_layernorm/gamma:0               [16]                   16  /replica:0/task:0/device:GPU:1\n",
      "group1/block1/gcb/channel_add_conv_2/W:0                      [1, 1, 16, 128]      2048  /replica:0/task:0/device:GPU:1\n",
      "group1/block2/conv1/W:0                                       [3, 3, 128, 128]   147456  /replica:0/task:0/device:GPU:1\n",
      "group1/block2/conv1/bn/gamma:0                                [128]                 128  /replica:0/task:0/device:GPU:0\n",
      "group1/block2/conv1/bn/beta:0                                 [128]                 128  /replica:0/task:0/device:GPU:0\n",
      "group1/block2/conv2/W:0                                       [3, 3, 128, 128]   147456  /replica:0/task:0/device:GPU:0\n",
      "group1/block2/conv2/bn/gamma:0                                [128]                 128  /replica:0/task:0/device:GPU:1\n",
      "group1/block2/conv2/bn/beta:0                                 [128]                 128  /replica:0/task:0/device:GPU:1\n",
      "group1/block2/gcb/spatial_pool_conv/W:0                       [1, 1, 128, 1]        128  /replica:0/task:0/device:GPU:1\n",
      "group1/block2/gcb/channel_add_conv_1/W:0                      [1, 1, 128, 16]      2048  /replica:0/task:0/device:GPU:1\n",
      "group1/block2/gcb/channel_add_layernorm/beta:0                [16]                   16  /replica:0/task:0/device:GPU:1\n",
      "group1/block2/gcb/channel_add_layernorm/gamma:0               [16]                   16  /replica:0/task:0/device:GPU:1\n",
      "group1/block2/gcb/channel_add_conv_2/W:0                      [1, 1, 16, 128]      2048  /replica:0/task:0/device:GPU:1\n",
      "group1/block3/conv1/W:0                                       [3, 3, 128, 128]   147456  /replica:0/task:0/device:GPU:1\n",
      "group1/block3/conv1/bn/gamma:0                                [128]                 128  /replica:0/task:0/device:GPU:0\n",
      "group1/block3/conv1/bn/beta:0                                 [128]                 128  /replica:0/task:0/device:GPU:0\n",
      "group1/block3/conv2/W:0                                       [3, 3, 128, 128]   147456  /replica:0/task:0/device:GPU:0\n",
      "group1/block3/conv2/bn/gamma:0                                [128]                 128  /replica:0/task:0/device:GPU:1\n",
      "group1/block3/conv2/bn/beta:0                                 [128]                 128  /replica:0/task:0/device:GPU:1\n",
      "group1/block3/gcb/spatial_pool_conv/W:0                       [1, 1, 128, 1]        128  /replica:0/task:0/device:GPU:1\n",
      "group1/block3/gcb/channel_add_conv_1/W:0                      [1, 1, 128, 16]      2048  /replica:0/task:0/device:GPU:1\n",
      "group1/block3/gcb/channel_add_layernorm/beta:0                [16]                   16  /replica:0/task:0/device:GPU:1\n",
      "group1/block3/gcb/channel_add_layernorm/gamma:0               [16]                   16  /replica:0/task:0/device:GPU:1\n",
      "group1/block3/gcb/channel_add_conv_2/W:0                      [1, 1, 16, 128]      2048  /replica:0/task:0/device:GPU:1\n",
      "group2/block0/conv1/W:0                                       [3, 3, 128, 256]   294912  /replica:0/task:0/device:GPU:1\n",
      "group2/block0/conv1/bn/gamma:0                                [256]                 256  /replica:0/task:0/device:GPU:0\n",
      "group2/block0/conv1/bn/beta:0                                 [256]                 256  /replica:0/task:0/device:GPU:0\n",
      "group2/block0/conv2/W:0                                       [3, 3, 256, 256]   589824  /replica:0/task:0/device:GPU:0\n",
      "group2/block0/conv2/bn/gamma:0                                [256]                 256  /replica:0/task:0/device:GPU:1\n",
      "group2/block0/conv2/bn/beta:0                                 [256]                 256  /replica:0/task:0/device:GPU:1\n",
      "group2/block0/gcb/spatial_pool_conv/W:0                       [1, 1, 256, 1]        256  /replica:0/task:0/device:GPU:1\n",
      "group2/block0/gcb/channel_add_conv_1/W:0                      [1, 1, 256, 32]      8192  /replica:0/task:0/device:GPU:1\n",
      "group2/block0/gcb/channel_add_layernorm/beta:0                [32]                   32  /replica:0/task:0/device:GPU:1\n",
      "group2/block0/gcb/channel_add_layernorm/gamma:0               [32]                   32  /replica:0/task:0/device:GPU:1\n",
      "group2/block0/gcb/channel_add_conv_2/W:0                      [1, 1, 32, 256]      8192  /replica:0/task:0/device:GPU:1\n",
      "group2/block0/convshortcut/W:0                                [1, 1, 128, 256]    32768  /replica:0/task:0/device:GPU:1\n",
      "group2/block0/convshortcut/bn/gamma:0                         [256]                 256  /replica:0/task:0/device:GPU:1\n",
      "group2/block0/convshortcut/bn/beta:0                          [256]                 256  /replica:0/task:0/device:GPU:1\n",
      "group2/block1/conv1/W:0                                       [3, 3, 256, 256]   589824  /replica:0/task:0/device:GPU:1\n",
      "group2/block1/conv1/bn/gamma:0                                [256]                 256  /replica:0/task:0/device:GPU:0\n",
      "group2/block1/conv1/bn/beta:0                                 [256]                 256  /replica:0/task:0/device:GPU:0\n",
      "group2/block1/conv2/W:0                                       [3, 3, 256, 256]   589824  /replica:0/task:0/device:GPU:0\n",
      "group2/block1/conv2/bn/gamma:0                                [256]                 256  /replica:0/task:0/device:GPU:1\n",
      "group2/block1/conv2/bn/beta:0                                 [256]                 256  /replica:0/task:0/device:GPU:1\n",
      "group2/block1/gcb/spatial_pool_conv/W:0                       [1, 1, 256, 1]        256  /replica:0/task:0/device:GPU:1\n",
      "group2/block1/gcb/channel_add_conv_1/W:0                      [1, 1, 256, 32]      8192  /replica:0/task:0/device:GPU:1\n",
      "group2/block1/gcb/channel_add_layernorm/beta:0                [32]                   32  /replica:0/task:0/device:GPU:1\n",
      "group2/block1/gcb/channel_add_layernorm/gamma:0               [32]                   32  /replica:0/task:0/device:GPU:1\n",
      "group2/block1/gcb/channel_add_conv_2/W:0                      [1, 1, 32, 256]      8192  /replica:0/task:0/device:GPU:1\n",
      "group2/block2/conv1/W:0                                       [3, 3, 256, 256]   589824  /replica:0/task:0/device:GPU:1\n",
      "group2/block2/conv1/bn/gamma:0                                [256]                 256  /replica:0/task:0/device:GPU:0\n",
      "group2/block2/conv1/bn/beta:0                                 [256]                 256  /replica:0/task:0/device:GPU:0\n",
      "group2/block2/conv2/W:0                                       [3, 3, 256, 256]   589824  /replica:0/task:0/device:GPU:0\n",
      "group2/block2/conv2/bn/gamma:0                                [256]                 256  /replica:0/task:0/device:GPU:1\n",
      "group2/block2/conv2/bn/beta:0                                 [256]                 256  /replica:0/task:0/device:GPU:1\n",
      "group2/block2/gcb/spatial_pool_conv/W:0                       [1, 1, 256, 1]        256  /replica:0/task:0/device:GPU:1\n",
      "group2/block2/gcb/channel_add_conv_1/W:0                      [1, 1, 256, 32]      8192  /replica:0/task:0/device:GPU:1\n",
      "group2/block2/gcb/channel_add_layernorm/beta:0                [32]                   32  /replica:0/task:0/device:GPU:1\n",
      "group2/block2/gcb/channel_add_layernorm/gamma:0               [32]                   32  /replica:0/task:0/device:GPU:1\n",
      "group2/block2/gcb/channel_add_conv_2/W:0                      [1, 1, 32, 256]      8192  /replica:0/task:0/device:GPU:1\n",
      "group2/block3/conv1/W:0                                       [3, 3, 256, 256]   589824  /replica:0/task:0/device:GPU:1\n",
      "group2/block3/conv1/bn/gamma:0                                [256]                 256  /replica:0/task:0/device:GPU:0\n",
      "group2/block3/conv1/bn/beta:0                                 [256]                 256  /replica:0/task:0/device:GPU:0\n",
      "group2/block3/conv2/W:0                                       [3, 3, 256, 256]   589824  /replica:0/task:0/device:GPU:0\n",
      "group2/block3/conv2/bn/gamma:0                                [256]                 256  /replica:0/task:0/device:GPU:1\n",
      "group2/block3/conv2/bn/beta:0                                 [256]                 256  /replica:0/task:0/device:GPU:1\n",
      "group2/block3/gcb/spatial_pool_conv/W:0                       [1, 1, 256, 1]        256  /replica:0/task:0/device:GPU:1\n",
      "group2/block3/gcb/channel_add_conv_1/W:0                      [1, 1, 256, 32]      8192  /replica:0/task:0/device:GPU:1\n",
      "group2/block3/gcb/channel_add_layernorm/beta:0                [32]                   32  /replica:0/task:0/device:GPU:1\n",
      "group2/block3/gcb/channel_add_layernorm/gamma:0               [32]                   32  /replica:0/task:0/device:GPU:1\n",
      "group2/block3/gcb/channel_add_conv_2/W:0                      [1, 1, 32, 256]      8192  /replica:0/task:0/device:GPU:1\n",
      "group2/block4/conv1/W:0                                       [3, 3, 256, 256]   589824  /replica:0/task:0/device:GPU:1\n",
      "group2/block4/conv1/bn/gamma:0                                [256]                 256  /replica:0/task:0/device:GPU:0\n",
      "group2/block4/conv1/bn/beta:0                                 [256]                 256  /replica:0/task:0/device:GPU:0\n",
      "group2/block4/conv2/W:0                                       [3, 3, 256, 256]   589824  /replica:0/task:0/device:GPU:0\n",
      "group2/block4/conv2/bn/gamma:0                                [256]                 256  /replica:0/task:0/device:GPU:1\n",
      "group2/block4/conv2/bn/beta:0                                 [256]                 256  /replica:0/task:0/device:GPU:1\n",
      "group2/block4/gcb/spatial_pool_conv/W:0                       [1, 1, 256, 1]        256  /replica:0/task:0/device:GPU:1\n",
      "group2/block4/gcb/channel_add_conv_1/W:0                      [1, 1, 256, 32]      8192  /replica:0/task:0/device:GPU:1\n",
      "group2/block4/gcb/channel_add_layernorm/beta:0                [32]                   32  /replica:0/task:0/device:GPU:1\n",
      "group2/block4/gcb/channel_add_layernorm/gamma:0               [32]                   32  /replica:0/task:0/device:GPU:1\n",
      "group2/block4/gcb/channel_add_conv_2/W:0                      [1, 1, 32, 256]      8192  /replica:0/task:0/device:GPU:1\n",
      "group2/block5/conv1/W:0                                       [3, 3, 256, 256]   589824  /replica:0/task:0/device:GPU:1\n",
      "group2/block5/conv1/bn/gamma:0                                [256]                 256  /replica:0/task:0/device:GPU:0\n",
      "group2/block5/conv1/bn/beta:0                                 [256]                 256  /replica:0/task:0/device:GPU:0\n",
      "group2/block5/conv2/W:0                                       [3, 3, 256, 256]   589824  /replica:0/task:0/device:GPU:0\n",
      "group2/block5/conv2/bn/gamma:0                                [256]                 256  /replica:0/task:0/device:GPU:1\n",
      "group2/block5/conv2/bn/beta:0                                 [256]                 256  /replica:0/task:0/device:GPU:1\n",
      "group2/block5/gcb/spatial_pool_conv/W:0                       [1, 1, 256, 1]        256  /replica:0/task:0/device:GPU:1\n",
      "group2/block5/gcb/channel_add_conv_1/W:0                      [1, 1, 256, 32]      8192  /replica:0/task:0/device:GPU:1\n",
      "group2/block5/gcb/channel_add_layernorm/beta:0                [32]                   32  /replica:0/task:0/device:GPU:1\n",
      "group2/block5/gcb/channel_add_layernorm/gamma:0               [32]                   32  /replica:0/task:0/device:GPU:1\n",
      "group2/block5/gcb/channel_add_conv_2/W:0                      [1, 1, 32, 256]      8192  /replica:0/task:0/device:GPU:1\n",
      "group3/block0/conv1/W:0                                       [3, 3, 256, 512]  1179648  /replica:0/task:0/device:GPU:1\n",
      "group3/block0/conv1/bn/gamma:0                                [512]                 512  /replica:0/task:0/device:GPU:0\n",
      "group3/block0/conv1/bn/beta:0                                 [512]                 512  /replica:0/task:0/device:GPU:0\n",
      "group3/block0/conv2/W:0                                       [3, 3, 512, 512]  2359296  /replica:0/task:0/device:GPU:0\n",
      "group3/block0/conv2/bn/gamma:0                                [512]                 512  /replica:0/task:0/device:GPU:1\n",
      "group3/block0/conv2/bn/beta:0                                 [512]                 512  /replica:0/task:0/device:GPU:1\n",
      "group3/block0/gcb/spatial_pool_conv/W:0                       [1, 1, 512, 1]        512  /replica:0/task:0/device:GPU:1\n",
      "group3/block0/gcb/channel_add_conv_1/W:0                      [1, 1, 512, 64]     32768  /replica:0/task:0/device:GPU:1\n",
      "group3/block0/gcb/channel_add_layernorm/beta:0                [64]                   64  /replica:0/task:0/device:GPU:1\n",
      "group3/block0/gcb/channel_add_layernorm/gamma:0               [64]                   64  /replica:0/task:0/device:GPU:1\n",
      "group3/block0/gcb/channel_add_conv_2/W:0                      [1, 1, 64, 512]     32768  /replica:0/task:0/device:GPU:1\n",
      "group3/block0/convshortcut/W:0                                [1, 1, 256, 512]   131072  /replica:0/task:0/device:GPU:1\n",
      "group3/block0/convshortcut/bn/gamma:0                         [512]                 512  /replica:0/task:0/device:GPU:1\n",
      "group3/block0/convshortcut/bn/beta:0                          [512]                 512  /replica:0/task:0/device:GPU:1\n",
      "group3/block1/conv1/W:0                                       [3, 3, 512, 512]  2359296  /replica:0/task:0/device:GPU:1\n",
      "group3/block1/conv1/bn/gamma:0                                [512]                 512  /replica:0/task:0/device:GPU:0\n",
      "group3/block1/conv1/bn/beta:0                                 [512]                 512  /replica:0/task:0/device:GPU:0\n",
      "group3/block1/conv2/W:0                                       [3, 3, 512, 512]  2359296  /replica:0/task:0/device:GPU:0\n",
      "group3/block1/conv2/bn/gamma:0                                [512]                 512  /replica:0/task:0/device:GPU:1\n",
      "group3/block1/conv2/bn/beta:0                                 [512]                 512  /replica:0/task:0/device:GPU:1\n",
      "group3/block1/gcb/spatial_pool_conv/W:0                       [1, 1, 512, 1]        512  /replica:0/task:0/device:GPU:1\n",
      "group3/block1/gcb/channel_add_conv_1/W:0                      [1, 1, 512, 64]     32768  /replica:0/task:0/device:GPU:1\n",
      "group3/block1/gcb/channel_add_layernorm/beta:0                [64]                   64  /replica:0/task:0/device:GPU:1\n",
      "group3/block1/gcb/channel_add_layernorm/gamma:0               [64]                   64  /replica:0/task:0/device:GPU:1\n",
      "group3/block1/gcb/channel_add_conv_2/W:0                      [1, 1, 64, 512]     32768  /replica:0/task:0/device:GPU:1\n",
      "group3/block2/conv1/W:0                                       [3, 3, 512, 512]  2359296  /replica:0/task:0/device:GPU:1\n",
      "group3/block2/conv1/bn/gamma:0                                [512]                 512  /replica:0/task:0/device:GPU:0\n",
      "group3/block2/conv1/bn/beta:0                                 [512]                 512  /replica:0/task:0/device:GPU:0\n",
      "group3/block2/conv2/W:0                                       [3, 3, 512, 512]  2359296  /replica:0/task:0/device:GPU:0\n",
      "group3/block2/conv2/bn/gamma:0                                [512]                 512  /replica:0/task:0/device:GPU:1\n",
      "group3/block2/conv2/bn/beta:0                                 [512]                 512  /replica:0/task:0/device:GPU:1\n",
      "group3/block2/gcb/spatial_pool_conv/W:0                       [1, 1, 512, 1]        512  /replica:0/task:0/device:GPU:1\n",
      "group3/block2/gcb/channel_add_conv_1/W:0                      [1, 1, 512, 64]     32768  /replica:0/task:0/device:GPU:1\n",
      "group3/block2/gcb/channel_add_layernorm/beta:0                [64]                   64  /replica:0/task:0/device:GPU:1\n",
      "group3/block2/gcb/channel_add_layernorm/gamma:0               [64]                   64  /replica:0/task:0/device:GPU:1\n",
      "group3/block2/gcb/channel_add_conv_2/W:0                      [1, 1, 64, 512]     32768  /replica:0/task:0/device:GPU:1\n",
      "classify_1/com_11/conv_up/W:0                                 [1, 1, 256, 128]    32768  /replica:0/task:0/device:GPU:1\n",
      "classify_1/com_11/conv_up/bn/gamma:0                          [128]                 128  /replica:0/task:0/device:GPU:1\n",
      "classify_1/com_11/conv_up/bn/beta:0                           [128]                 128  /replica:0/task:0/device:GPU:1\n",
      "classify_1/conv_img12/W:0                                     [1, 1, 192, 128]    24576  /replica:0/task:0/device:GPU:1\n",
      "classify_1/conv_img12/bn/gamma:0                              [128]                 128  /replica:0/task:0/device:GPU:1\n",
      "classify_1/conv_img12/bn/beta:0                               [128]                 128  /replica:0/task:0/device:GPU:1\n",
      "classify_1/groupl11/block0/conv1/W:0                          [3, 3, 128, 128]   147456  /replica:0/task:0/device:GPU:1\n",
      "classify_1/groupl11/block0/conv1/bn/gamma:0                   [128]                 128  /replica:0/task:0/device:GPU:1\n",
      "classify_1/groupl11/block0/conv1/bn/beta:0                    [128]                 128  /replica:0/task:0/device:GPU:1\n",
      "classify_1/groupl11/block0/conv2/W:0                          [3, 3, 128, 128]   147456  /replica:0/task:0/device:GPU:1\n",
      "classify_1/groupl11/block0/conv2/bn/gamma:0                   [128]                 128  /replica:0/task:0/device:GPU:1\n",
      "classify_1/groupl11/block0/conv2/bn/beta:0                    [128]                 128  /replica:0/task:0/device:GPU:1\n",
      "classify_1/groupl11/block0/gcb/spatial_pool_conv/W:0          [1, 1, 128, 1]        128  /replica:0/task:0/device:GPU:1\n",
      "classify_1/groupl11/block0/gcb/channel_add_conv_1/W:0         [1, 1, 128, 16]      2048  /replica:0/task:0/device:GPU:1\n",
      "classify_1/groupl11/block0/gcb/channel_add_layernorm/beta:0   [16]                   16  /replica:0/task:0/device:GPU:1\n",
      "classify_1/groupl11/block0/gcb/channel_add_layernorm/gamma:0  [16]                   16  /replica:0/task:0/device:GPU:1\n",
      "classify_1/groupl11/block0/gcb/channel_add_conv_2/W:0         [1, 1, 16, 128]      2048  /replica:0/task:0/device:GPU:1\n",
      "classify_1/conv_straight11/W:0                                [3, 3, 128, 128]   147456  /replica:0/task:0/device:GPU:1\n",
      "classify_1/conv_straight11/bn/gamma:0                         [128]                 128  /replica:0/task:0/device:GPU:1\n",
      "classify_1/conv_straight11/bn/beta:0                          [128]                 128  /replica:0/task:0/device:GPU:1\n",
      "classify_1/conv_down11/W:0                                    [3, 3, 128, 256]   294912  /replica:0/task:0/device:GPU:1\n",
      "classify_1/conv_down11/bn/gamma:0                             [256]                 256  /replica:0/task:0/device:GPU:1\n",
      "classify_1/conv_down11/bn/beta:0                              [256]                 256  /replica:0/task:0/device:GPU:1\n",
      "classify_1/com_12/conv_up/W:0                                 [1, 1, 512, 128]    65536  /replica:0/task:0/device:GPU:1\n",
      "classify_1/com_12/conv_up/bn/gamma:0                          [128]                 128  /replica:0/task:0/device:GPU:1\n",
      "classify_1/com_12/conv_up/bn/beta:0                           [128]                 128  /replica:0/task:0/device:GPU:1\n",
      "classify_1/com_22/conv_up/W:0                                 [1, 1, 512, 256]   131072  /replica:0/task:0/device:GPU:1\n",
      "classify_1/com_22/conv_up/bn/gamma:0                          [256]                 256  /replica:0/task:0/device:GPU:1\n",
      "classify_1/com_22/conv_up/bn/beta:0                           [256]                 256  /replica:0/task:0/device:GPU:1\n",
      "classify_1/conv_img22/W:0                                     [1, 1, 384, 256]    98304  /replica:0/task:0/device:GPU:1\n",
      "classify_1/conv_img22/bn/gamma:0                              [256]                 256  /replica:0/task:0/device:GPU:0\n",
      "classify_1/conv_img22/bn/beta:0                               [256]                 256  /replica:0/task:0/device:GPU:0\n",
      "classify_1/groupl12/block0/conv1/W:0                          [3, 3, 128, 128]   147456  /replica:0/task:0/device:GPU:0\n",
      "classify_1/groupl12/block0/conv1/bn/gamma:0                   [128]                 128  /replica:0/task:0/device:GPU:1\n",
      "classify_1/groupl12/block0/conv1/bn/beta:0                    [128]                 128  /replica:0/task:0/device:GPU:1\n",
      "classify_1/groupl12/block0/conv2/W:0                          [3, 3, 128, 128]   147456  /replica:0/task:0/device:GPU:1\n",
      "classify_1/groupl12/block0/conv2/bn/gamma:0                   [128]                 128  /replica:0/task:0/device:GPU:0\n",
      "classify_1/groupl12/block0/conv2/bn/beta:0                    [128]                 128  /replica:0/task:0/device:GPU:0\n",
      "classify_1/groupl12/block0/gcb/spatial_pool_conv/W:0          [1, 1, 128, 1]        128  /replica:0/task:0/device:GPU:0\n",
      "classify_1/groupl12/block0/gcb/channel_add_conv_1/W:0         [1, 1, 128, 16]      2048  /replica:0/task:0/device:GPU:0\n",
      "classify_1/groupl12/block0/gcb/channel_add_layernorm/beta:0   [16]                   16  /replica:0/task:0/device:GPU:0\n",
      "classify_1/groupl12/block0/gcb/channel_add_layernorm/gamma:0  [16]                   16  /replica:0/task:0/device:GPU:0\n",
      "classify_1/groupl12/block0/gcb/channel_add_conv_2/W:0         [1, 1, 16, 128]      2048  /replica:0/task:0/device:GPU:0\n",
      "classify_1/groupl22/block0/conv1/W:0                          [3, 3, 256, 256]   589824  /replica:0/task:0/device:GPU:0\n",
      "classify_1/groupl22/block0/conv1/bn/gamma:0                   [256]                 256  /replica:0/task:0/device:GPU:1\n",
      "classify_1/groupl22/block0/conv1/bn/beta:0                    [256]                 256  /replica:0/task:0/device:GPU:1\n",
      "classify_1/groupl22/block0/conv2/W:0                          [3, 3, 256, 256]   589824  /replica:0/task:0/device:GPU:1\n",
      "classify_1/groupl22/block0/conv2/bn/gamma:0                   [256]                 256  /replica:0/task:0/device:GPU:0\n",
      "classify_1/groupl22/block0/conv2/bn/beta:0                    [256]                 256  /replica:0/task:0/device:GPU:0\n",
      "classify_1/groupl22/block0/gcb/spatial_pool_conv/W:0          [1, 1, 256, 1]        256  /replica:0/task:0/device:GPU:0\n",
      "classify_1/groupl22/block0/gcb/channel_add_conv_1/W:0         [1, 1, 256, 32]      8192  /replica:0/task:0/device:GPU:0\n",
      "classify_1/groupl22/block0/gcb/channel_add_layernorm/beta:0   [32]                   32  /replica:0/task:0/device:GPU:0\n",
      "classify_1/groupl22/block0/gcb/channel_add_layernorm/gamma:0  [32]                   32  /replica:0/task:0/device:GPU:0\n",
      "classify_1/groupl22/block0/gcb/channel_add_conv_2/W:0         [1, 1, 32, 256]      8192  /replica:0/task:0/device:GPU:0\n",
      "classify_1/conv_straight12/W:0                                [3, 3, 128, 128]   147456  /replica:0/task:0/device:GPU:0\n",
      "classify_1/conv_straight12/bn/gamma:0                         [128]                 128  /replica:0/task:0/device:GPU:1\n",
      "classify_1/conv_straight12/bn/beta:0                          [128]                 128  /replica:0/task:0/device:GPU:1\n",
      "classify_1/com_13/conv_up/W:0                                 [1, 1, 256, 128]    32768  /replica:0/task:0/device:GPU:1\n",
      "classify_1/com_13/conv_up/bn/gamma:0                          [128]                 128  /replica:0/task:0/device:GPU:1\n",
      "classify_1/com_13/conv_up/bn/beta:0                           [128]                 128  /replica:0/task:0/device:GPU:1\n",
      "classify_1/conv_straight22/W:0                                [3, 3, 256, 256]   589824  /replica:0/task:0/device:GPU:1\n",
      "classify_1/conv_straight22/bn/gamma:0                         [256]                 256  /replica:0/task:0/device:GPU:0\n",
      "classify_1/conv_straight22/bn/beta:0                          [256]                 256  /replica:0/task:0/device:GPU:0\n",
      "classify_1/conv_down12/W:0                                    [3, 3, 128, 256]   294912  /replica:0/task:0/device:GPU:0\n",
      "classify_1/conv_down12/bn/gamma:0                             [256]                 256  /replica:0/task:0/device:GPU:0\n",
      "classify_1/conv_down12/bn/beta:0                              [256]                 256  /replica:0/task:0/device:GPU:0\n",
      "classify_1/conv_down22/W:0                                    [3, 3, 256, 512]  1179648  /replica:0/task:0/device:GPU:0\n",
      "classify_1/conv_down22/bn/gamma:0                             [512]                 512  /replica:0/task:0/device:GPU:1\n",
      "classify_1/conv_down22/bn/beta:0                              [512]                 512  /replica:0/task:0/device:GPU:1\n",
      "classify_1/conv_downdown12/W:0                                [3, 3, 256, 512]  1179648  /replica:0/task:0/device:GPU:1\n",
      "classify_1/conv_downdown12/bn/gamma:0                         [512]                 512  /replica:0/task:0/device:GPU:0\n",
      "classify_1/conv_downdown12/bn/beta:0                          [512]                 512  /replica:0/task:0/device:GPU:0\n",
      "classify_1/conv_img32/W:0                                     [1, 1, 768, 512]   393216  /replica:0/task:0/device:GPU:0\n",
      "classify_1/conv_img32/bn/gamma:0                              [512]                 512  /replica:0/task:0/device:GPU:1\n",
      "classify_1/conv_img32/bn/beta:0                               [512]                 512  /replica:0/task:0/device:GPU:1\n",
      "classify_1/groupl13/block0/conv1/W:0                          [3, 3, 128, 128]   147456  /replica:0/task:0/device:GPU:1\n",
      "classify_1/groupl13/block0/conv1/bn/gamma:0                   [128]                 128  /replica:0/task:0/device:GPU:1\n",
      "classify_1/groupl13/block0/conv1/bn/beta:0                    [128]                 128  /replica:0/task:0/device:GPU:1\n",
      "classify_1/groupl13/block0/conv2/W:0                          [3, 3, 128, 128]   147456  /replica:0/task:0/device:GPU:1\n",
      "classify_1/groupl13/block0/conv2/bn/gamma:0                   [128]                 128  /replica:0/task:0/device:GPU:0\n",
      "classify_1/groupl13/block0/conv2/bn/beta:0                    [128]                 128  /replica:0/task:0/device:GPU:0\n",
      "classify_1/groupl13/block0/gcb/spatial_pool_conv/W:0          [1, 1, 128, 1]        128  /replica:0/task:0/device:GPU:0\n",
      "classify_1/groupl13/block0/gcb/channel_add_conv_1/W:0         [1, 1, 128, 16]      2048  /replica:0/task:0/device:GPU:0\n",
      "classify_1/groupl13/block0/gcb/channel_add_layernorm/beta:0   [16]                   16  /replica:0/task:0/device:GPU:0\n",
      "classify_1/groupl13/block0/gcb/channel_add_layernorm/gamma:0  [16]                   16  /replica:0/task:0/device:GPU:0\n",
      "classify_1/groupl13/block0/gcb/channel_add_conv_2/W:0         [1, 1, 16, 128]      2048  /replica:0/task:0/device:GPU:0\n",
      "classify_1/groupl23/block0/conv1/W:0                          [3, 3, 256, 256]   589824  /replica:0/task:0/device:GPU:0\n",
      "classify_1/groupl23/block0/conv1/bn/gamma:0                   [256]                 256  /replica:0/task:0/device:GPU:1\n",
      "classify_1/groupl23/block0/conv1/bn/beta:0                    [256]                 256  /replica:0/task:0/device:GPU:1\n",
      "classify_1/groupl23/block0/conv2/W:0                          [3, 3, 256, 256]   589824  /replica:0/task:0/device:GPU:1\n",
      "classify_1/groupl23/block0/conv2/bn/gamma:0                   [256]                 256  /replica:0/task:0/device:GPU:0\n",
      "classify_1/groupl23/block0/conv2/bn/beta:0                    [256]                 256  /replica:0/task:0/device:GPU:0\n",
      "classify_1/groupl23/block0/gcb/spatial_pool_conv/W:0          [1, 1, 256, 1]        256  /replica:0/task:0/device:GPU:0\n",
      "classify_1/groupl23/block0/gcb/channel_add_conv_1/W:0         [1, 1, 256, 32]      8192  /replica:0/task:0/device:GPU:0\n",
      "classify_1/groupl23/block0/gcb/channel_add_layernorm/beta:0   [32]                   32  /replica:0/task:0/device:GPU:0\n",
      "classify_1/groupl23/block0/gcb/channel_add_layernorm/gamma:0  [32]                   32  /replica:0/task:0/device:GPU:0\n",
      "classify_1/groupl23/block0/gcb/channel_add_conv_2/W:0         [1, 1, 32, 256]      8192  /replica:0/task:0/device:GPU:0\n",
      "classify_1/groupl33/block0/conv1/W:0                          [3, 3, 512, 512]  2359296  /replica:0/task:0/device:GPU:0\n",
      "classify_1/groupl33/block0/conv1/bn/gamma:0                   [512]                 512  /replica:0/task:0/device:GPU:1\n",
      "classify_1/groupl33/block0/conv1/bn/beta:0                    [512]                 512  /replica:0/task:0/device:GPU:1\n",
      "classify_1/groupl33/block0/conv2/W:0                          [3, 3, 512, 512]  2359296  /replica:0/task:0/device:GPU:1\n",
      "classify_1/groupl33/block0/conv2/bn/gamma:0                   [512]                 512  /replica:0/task:0/device:GPU:0\n",
      "classify_1/groupl33/block0/conv2/bn/beta:0                    [512]                 512  /replica:0/task:0/device:GPU:0\n",
      "classify_1/groupl33/block0/gcb/spatial_pool_conv/W:0          [1, 1, 512, 1]        512  /replica:0/task:0/device:GPU:0\n",
      "classify_1/groupl33/block0/gcb/channel_add_conv_1/W:0         [1, 1, 512, 64]     32768  /replica:0/task:0/device:GPU:0\n",
      "classify_1/groupl33/block0/gcb/channel_add_layernorm/beta:0   [64]                   64  /replica:0/task:0/device:GPU:0\n",
      "classify_1/groupl33/block0/gcb/channel_add_layernorm/gamma:0  [64]                   64  /replica:0/task:0/device:GPU:0\n",
      "classify_1/groupl33/block0/gcb/channel_add_conv_2/W:0         [1, 1, 64, 512]     32768  /replica:0/task:0/device:GPU:0\n",
      "classify_1/conv_straight13/W:0                                [3, 3, 128, 128]   147456  /replica:0/task:0/device:GPU:1\n",
      "classify_1/conv_straight13/bn/gamma:0                         [128]                 128  /replica:0/task:0/device:GPU:0\n",
      "classify_1/conv_straight13/bn/beta:0                          [128]                 128  /replica:0/task:0/device:GPU:0\n",
      "classify_1/com_141/conv_up/W:0                                [1, 1, 256, 128]    32768  /replica:0/task:0/device:GPU:0\n",
      "classify_1/com_141/conv_up/bn/gamma:0                         [128]                 128  /replica:0/task:0/device:GPU:0\n",
      "classify_1/com_141/conv_up/bn/beta:0                          [128]                 128  /replica:0/task:0/device:GPU:0\n",
      "classify_1/com_142/conv_up/W:0                                [1, 1, 512, 128]    65536  /replica:0/task:0/device:GPU:0\n",
      "classify_1/com_142/conv_up/bn/gamma:0                         [128]                 128  /replica:0/task:0/device:GPU:0\n",
      "classify_1/com_142/conv_up/bn/beta:0                          [128]                 128  /replica:0/task:0/device:GPU:0\n",
      "classify_1/conv_straight23/W:0                                [3, 3, 256, 256]   589824  /replica:0/task:0/device:GPU:0\n",
      "classify_1/conv_straight23/bn/gamma:0                         [256]                 256  /replica:0/task:0/device:GPU:1\n",
      "classify_1/conv_straight23/bn/beta:0                          [256]                 256  /replica:0/task:0/device:GPU:1\n",
      "classify_1/conv_down13/W:0                                    [3, 3, 128, 256]   294912  /replica:0/task:0/device:GPU:1\n",
      "classify_1/conv_down13/bn/gamma:0                             [256]                 256  /replica:0/task:0/device:GPU:1\n",
      "classify_1/conv_down13/bn/beta:0                              [256]                 256  /replica:0/task:0/device:GPU:1\n",
      "classify_1/com_24/conv_up/W:0                                 [1, 1, 512, 256]   131072  /replica:0/task:0/device:GPU:1\n",
      "classify_1/com_24/conv_up/bn/gamma:0                          [256]                 256  /replica:0/task:0/device:GPU:1\n",
      "classify_1/com_24/conv_up/bn/beta:0                           [256]                 256  /replica:0/task:0/device:GPU:1\n",
      "classify_1/conv_straight33/W:0                                [3, 3, 512, 512]  2359296  /replica:0/task:0/device:GPU:1\n",
      "classify_1/conv_straight33/bn/gamma:0                         [512]                 512  /replica:0/task:0/device:GPU:0\n",
      "classify_1/conv_straight33/bn/beta:0                          [512]                 512  /replica:0/task:0/device:GPU:0\n",
      "classify_1/conv_downdown13/W:0                                [3, 3, 256, 512]  1179648  /replica:0/task:0/device:GPU:0\n",
      "classify_1/conv_downdown13/bn/gamma:0                         [512]                 512  /replica:0/task:0/device:GPU:0\n",
      "classify_1/conv_downdown13/bn/beta:0                          [512]                 512  /replica:0/task:0/device:GPU:0\n",
      "classify_1/conv_down23/W:0                                    [3, 3, 256, 512]  1179648  /replica:0/task:0/device:GPU:0\n",
      "classify_1/conv_down23/bn/gamma:0                             [512]                 512  /replica:0/task:0/device:GPU:1\n",
      "classify_1/conv_down23/bn/beta:0                              [512]                 512  /replica:0/task:0/device:GPU:1\n",
      "head_fusion_classify_1/conv_mix/W:0                           [1, 1, 896, 256]   229376  /replica:0/task:0/device:GPU:1\n",
      "head_fusion_classify_1/conv_mix/bn/gamma:0                    [256]                 256  /replica:0/task:0/device:GPU:0\n",
      "head_fusion_classify_1/conv_mix/bn/beta:0                     [256]                 256  /replica:0/task:0/device:GPU:0\n",
      "classify_1/conv_out/W:0                                       [1, 1, 256, 4]       1024  /replica:0/task:0/device:GPU:0\n",
      "classify_1/conv_out/b:0                                       [4]                     4  /replica:0/task:0/device:GPU:0\n",
      "classify_2/com_11/conv_up/W:0                                 [1, 1, 256, 128]    32768  /replica:0/task:0/device:GPU:0\n",
      "classify_2/com_11/conv_up/bn/gamma:0                          [128]                 128  /replica:0/task:0/device:GPU:0\n",
      "classify_2/com_11/conv_up/bn/beta:0                           [128]                 128  /replica:0/task:0/device:GPU:0\n",
      "classify_2/conv_img12/W:0                                     [1, 1, 192, 128]    24576  /replica:0/task:0/device:GPU:0\n",
      "classify_2/conv_img12/bn/gamma:0                              [128]                 128  /replica:0/task:0/device:GPU:0\n",
      "classify_2/conv_img12/bn/beta:0                               [128]                 128  /replica:0/task:0/device:GPU:0\n",
      "classify_2/groupl11/block0/conv1/W:0                          [3, 3, 128, 128]   147456  /replica:0/task:0/device:GPU:0\n",
      "classify_2/groupl11/block0/conv1/bn/gamma:0                   [128]                 128  /replica:0/task:0/device:GPU:1\n",
      "classify_2/groupl11/block0/conv1/bn/beta:0                    [128]                 128  /replica:0/task:0/device:GPU:1\n",
      "classify_2/groupl11/block0/conv2/W:0                          [3, 3, 128, 128]   147456  /replica:0/task:0/device:GPU:1\n",
      "classify_2/groupl11/block0/conv2/bn/gamma:0                   [128]                 128  /replica:0/task:0/device:GPU:0\n",
      "classify_2/groupl11/block0/conv2/bn/beta:0                    [128]                 128  /replica:0/task:0/device:GPU:0\n",
      "classify_2/groupl11/block0/gcb/spatial_pool_conv/W:0          [1, 1, 128, 1]        128  /replica:0/task:0/device:GPU:0\n",
      "classify_2/groupl11/block0/gcb/channel_add_conv_1/W:0         [1, 1, 128, 16]      2048  /replica:0/task:0/device:GPU:0\n",
      "classify_2/groupl11/block0/gcb/channel_add_layernorm/beta:0   [16]                   16  /replica:0/task:0/device:GPU:0\n",
      "classify_2/groupl11/block0/gcb/channel_add_layernorm/gamma:0  [16]                   16  /replica:0/task:0/device:GPU:0\n",
      "classify_2/groupl11/block0/gcb/channel_add_conv_2/W:0         [1, 1, 16, 128]      2048  /replica:0/task:0/device:GPU:0\n",
      "classify_2/conv_straight11/W:0                                [3, 3, 128, 128]   147456  /replica:0/task:0/device:GPU:0\n",
      "classify_2/conv_straight11/bn/gamma:0                         [128]                 128  /replica:0/task:0/device:GPU:1\n",
      "classify_2/conv_straight11/bn/beta:0                          [128]                 128  /replica:0/task:0/device:GPU:1\n",
      "classify_2/conv_down11/W:0                                    [3, 3, 128, 256]   294912  /replica:0/task:0/device:GPU:1\n",
      "classify_2/conv_down11/bn/gamma:0                             [256]                 256  /replica:0/task:0/device:GPU:0\n",
      "classify_2/conv_down11/bn/beta:0                              [256]                 256  /replica:0/task:0/device:GPU:0\n",
      "classify_2/com_12/conv_up/W:0                                 [1, 1, 512, 128]    65536  /replica:0/task:0/device:GPU:0\n",
      "classify_2/com_12/conv_up/bn/gamma:0                          [128]                 128  /replica:0/task:0/device:GPU:0\n",
      "classify_2/com_12/conv_up/bn/beta:0                           [128]                 128  /replica:0/task:0/device:GPU:0\n",
      "classify_2/com_22/conv_up/W:0                                 [1, 1, 512, 256]   131072  /replica:0/task:0/device:GPU:0\n",
      "classify_2/com_22/conv_up/bn/gamma:0                          [256]                 256  /replica:0/task:0/device:GPU:1\n",
      "classify_2/com_22/conv_up/bn/beta:0                           [256]                 256  /replica:0/task:0/device:GPU:1\n",
      "classify_2/conv_img22/W:0                                     [1, 1, 384, 256]    98304  /replica:0/task:0/device:GPU:1\n",
      "classify_2/conv_img22/bn/gamma:0                              [256]                 256  /replica:0/task:0/device:GPU:0\n",
      "classify_2/conv_img22/bn/beta:0                               [256]                 256  /replica:0/task:0/device:GPU:0\n",
      "classify_2/groupl12/block0/conv1/W:0                          [3, 3, 128, 128]   147456  /replica:0/task:0/device:GPU:0\n",
      "classify_2/groupl12/block0/conv1/bn/gamma:0                   [128]                 128  /replica:0/task:0/device:GPU:1\n",
      "classify_2/groupl12/block0/conv1/bn/beta:0                    [128]                 128  /replica:0/task:0/device:GPU:1\n",
      "classify_2/groupl12/block0/conv2/W:0                          [3, 3, 128, 128]   147456  /replica:0/task:0/device:GPU:1\n",
      "classify_2/groupl12/block0/conv2/bn/gamma:0                   [128]                 128  /replica:0/task:0/device:GPU:0\n",
      "classify_2/groupl12/block0/conv2/bn/beta:0                    [128]                 128  /replica:0/task:0/device:GPU:0\n",
      "classify_2/groupl12/block0/gcb/spatial_pool_conv/W:0          [1, 1, 128, 1]        128  /replica:0/task:0/device:GPU:0\n",
      "classify_2/groupl12/block0/gcb/channel_add_conv_1/W:0         [1, 1, 128, 16]      2048  /replica:0/task:0/device:GPU:0\n",
      "classify_2/groupl12/block0/gcb/channel_add_layernorm/beta:0   [16]                   16  /replica:0/task:0/device:GPU:0\n",
      "classify_2/groupl12/block0/gcb/channel_add_layernorm/gamma:0  [16]                   16  /replica:0/task:0/device:GPU:0\n",
      "classify_2/groupl12/block0/gcb/channel_add_conv_2/W:0         [1, 1, 16, 128]      2048  /replica:0/task:0/device:GPU:0\n",
      "classify_2/groupl22/block0/conv1/W:0                          [3, 3, 256, 256]   589824  /replica:0/task:0/device:GPU:0\n",
      "classify_2/groupl22/block0/conv1/bn/gamma:0                   [256]                 256  /replica:0/task:0/device:GPU:1\n",
      "classify_2/groupl22/block0/conv1/bn/beta:0                    [256]                 256  /replica:0/task:0/device:GPU:1\n",
      "classify_2/groupl22/block0/conv2/W:0                          [3, 3, 256, 256]   589824  /replica:0/task:0/device:GPU:1\n",
      "classify_2/groupl22/block0/conv2/bn/gamma:0                   [256]                 256  /replica:0/task:0/device:GPU:0\n",
      "classify_2/groupl22/block0/conv2/bn/beta:0                    [256]                 256  /replica:0/task:0/device:GPU:0\n",
      "classify_2/groupl22/block0/gcb/spatial_pool_conv/W:0          [1, 1, 256, 1]        256  /replica:0/task:0/device:GPU:0\n",
      "classify_2/groupl22/block0/gcb/channel_add_conv_1/W:0         [1, 1, 256, 32]      8192  /replica:0/task:0/device:GPU:0\n",
      "classify_2/groupl22/block0/gcb/channel_add_layernorm/beta:0   [32]                   32  /replica:0/task:0/device:GPU:0\n",
      "classify_2/groupl22/block0/gcb/channel_add_layernorm/gamma:0  [32]                   32  /replica:0/task:0/device:GPU:0\n",
      "classify_2/groupl22/block0/gcb/channel_add_conv_2/W:0         [1, 1, 32, 256]      8192  /replica:0/task:0/device:GPU:0\n",
      "classify_2/conv_straight12/W:0                                [3, 3, 128, 128]   147456  /replica:0/task:0/device:GPU:0\n",
      "classify_2/conv_straight12/bn/gamma:0                         [128]                 128  /replica:0/task:0/device:GPU:1\n",
      "classify_2/conv_straight12/bn/beta:0                          [128]                 128  /replica:0/task:0/device:GPU:1\n",
      "classify_2/com_13/conv_up/W:0                                 [1, 1, 256, 128]    32768  /replica:0/task:0/device:GPU:1\n",
      "classify_2/com_13/conv_up/bn/gamma:0                          [128]                 128  /replica:0/task:0/device:GPU:1\n",
      "classify_2/com_13/conv_up/bn/beta:0                           [128]                 128  /replica:0/task:0/device:GPU:1\n",
      "classify_2/conv_straight22/W:0                                [3, 3, 256, 256]   589824  /replica:0/task:0/device:GPU:1\n",
      "classify_2/conv_straight22/bn/gamma:0                         [256]                 256  /replica:0/task:0/device:GPU:0\n",
      "classify_2/conv_straight22/bn/beta:0                          [256]                 256  /replica:0/task:0/device:GPU:0\n",
      "classify_2/conv_down12/W:0                                    [3, 3, 128, 256]   294912  /replica:0/task:0/device:GPU:0\n",
      "classify_2/conv_down12/bn/gamma:0                             [256]                 256  /replica:0/task:0/device:GPU:0\n",
      "classify_2/conv_down12/bn/beta:0                              [256]                 256  /replica:0/task:0/device:GPU:0\n",
      "classify_2/conv_down22/W:0                                    [3, 3, 256, 512]  1179648  /replica:0/task:0/device:GPU:0\n",
      "classify_2/conv_down22/bn/gamma:0                             [512]                 512  /replica:0/task:0/device:GPU:1\n",
      "classify_2/conv_down22/bn/beta:0                              [512]                 512  /replica:0/task:0/device:GPU:1\n",
      "classify_2/conv_downdown12/W:0                                [3, 3, 256, 512]  1179648  /replica:0/task:0/device:GPU:1\n",
      "classify_2/conv_downdown12/bn/gamma:0                         [512]                 512  /replica:0/task:0/device:GPU:0\n",
      "classify_2/conv_downdown12/bn/beta:0                          [512]                 512  /replica:0/task:0/device:GPU:0\n",
      "classify_2/conv_img32/W:0                                     [1, 1, 768, 512]   393216  /replica:0/task:0/device:GPU:0\n",
      "classify_2/conv_img32/bn/gamma:0                              [512]                 512  /replica:0/task:0/device:GPU:1\n",
      "classify_2/conv_img32/bn/beta:0                               [512]                 512  /replica:0/task:0/device:GPU:1\n",
      "classify_2/groupl13/block0/conv1/W:0                          [3, 3, 128, 128]   147456  /replica:0/task:0/device:GPU:1\n",
      "classify_2/groupl13/block0/conv1/bn/gamma:0                   [128]                 128  /replica:0/task:0/device:GPU:0\n",
      "classify_2/groupl13/block0/conv1/bn/beta:0                    [128]                 128  /replica:0/task:0/device:GPU:0\n",
      "classify_2/groupl13/block0/conv2/W:0                          [3, 3, 128, 128]   147456  /replica:0/task:0/device:GPU:0\n",
      "classify_2/groupl13/block0/conv2/bn/gamma:0                   [128]                 128  /replica:0/task:0/device:GPU:1\n",
      "classify_2/groupl13/block0/conv2/bn/beta:0                    [128]                 128  /replica:0/task:0/device:GPU:1\n",
      "classify_2/groupl13/block0/gcb/spatial_pool_conv/W:0          [1, 1, 128, 1]        128  /replica:0/task:0/device:GPU:1\n",
      "classify_2/groupl13/block0/gcb/channel_add_conv_1/W:0         [1, 1, 128, 16]      2048  /replica:0/task:0/device:GPU:1\n",
      "classify_2/groupl13/block0/gcb/channel_add_layernorm/beta:0   [16]                   16  /replica:0/task:0/device:GPU:1\n",
      "classify_2/groupl13/block0/gcb/channel_add_layernorm/gamma:0  [16]                   16  /replica:0/task:0/device:GPU:1\n",
      "classify_2/groupl13/block0/gcb/channel_add_conv_2/W:0         [1, 1, 16, 128]      2048  /replica:0/task:0/device:GPU:1\n",
      "classify_2/groupl23/block0/conv1/W:0                          [3, 3, 256, 256]   589824  /replica:0/task:0/device:GPU:1\n",
      "classify_2/groupl23/block0/conv1/bn/gamma:0                   [256]                 256  /replica:0/task:0/device:GPU:0\n",
      "classify_2/groupl23/block0/conv1/bn/beta:0                    [256]                 256  /replica:0/task:0/device:GPU:0\n",
      "classify_2/groupl23/block0/conv2/W:0                          [3, 3, 256, 256]   589824  /replica:0/task:0/device:GPU:0\n",
      "classify_2/groupl23/block0/conv2/bn/gamma:0                   [256]                 256  /replica:0/task:0/device:GPU:1\n",
      "classify_2/groupl23/block0/conv2/bn/beta:0                    [256]                 256  /replica:0/task:0/device:GPU:1\n",
      "classify_2/groupl23/block0/gcb/spatial_pool_conv/W:0          [1, 1, 256, 1]        256  /replica:0/task:0/device:GPU:1\n",
      "classify_2/groupl23/block0/gcb/channel_add_conv_1/W:0         [1, 1, 256, 32]      8192  /replica:0/task:0/device:GPU:1\n",
      "classify_2/groupl23/block0/gcb/channel_add_layernorm/beta:0   [32]                   32  /replica:0/task:0/device:GPU:1\n",
      "classify_2/groupl23/block0/gcb/channel_add_layernorm/gamma:0  [32]                   32  /replica:0/task:0/device:GPU:1\n",
      "classify_2/groupl23/block0/gcb/channel_add_conv_2/W:0         [1, 1, 32, 256]      8192  /replica:0/task:0/device:GPU:1\n",
      "classify_2/groupl33/block0/conv1/W:0                          [3, 3, 512, 512]  2359296  /replica:0/task:0/device:GPU:1\n",
      "classify_2/groupl33/block0/conv1/bn/gamma:0                   [512]                 512  /replica:0/task:0/device:GPU:0\n",
      "classify_2/groupl33/block0/conv1/bn/beta:0                    [512]                 512  /replica:0/task:0/device:GPU:0\n",
      "classify_2/groupl33/block0/conv2/W:0                          [3, 3, 512, 512]  2359296  /replica:0/task:0/device:GPU:0\n",
      "classify_2/groupl33/block0/conv2/bn/gamma:0                   [512]                 512  /replica:0/task:0/device:GPU:1\n",
      "classify_2/groupl33/block0/conv2/bn/beta:0                    [512]                 512  /replica:0/task:0/device:GPU:1\n",
      "classify_2/groupl33/block0/gcb/spatial_pool_conv/W:0          [1, 1, 512, 1]        512  /replica:0/task:0/device:GPU:1\n",
      "classify_2/groupl33/block0/gcb/channel_add_conv_1/W:0         [1, 1, 512, 64]     32768  /replica:0/task:0/device:GPU:1\n",
      "classify_2/groupl33/block0/gcb/channel_add_layernorm/beta:0   [64]                   64  /replica:0/task:0/device:GPU:1\n",
      "classify_2/groupl33/block0/gcb/channel_add_layernorm/gamma:0  [64]                   64  /replica:0/task:0/device:GPU:1\n",
      "classify_2/groupl33/block0/gcb/channel_add_conv_2/W:0         [1, 1, 64, 512]     32768  /replica:0/task:0/device:GPU:1\n",
      "classify_2/conv_straight13/W:0                                [3, 3, 128, 128]   147456  /replica:0/task:0/device:GPU:1\n",
      "classify_2/conv_straight13/bn/gamma:0                         [128]                 128  /replica:0/task:0/device:GPU:0\n",
      "classify_2/conv_straight13/bn/beta:0                          [128]                 128  /replica:0/task:0/device:GPU:0\n",
      "classify_2/com_141/conv_up/W:0                                [1, 1, 256, 128]    32768  /replica:0/task:0/device:GPU:0\n",
      "classify_2/com_141/conv_up/bn/gamma:0                         [128]                 128  /replica:0/task:0/device:GPU:0\n",
      "classify_2/com_141/conv_up/bn/beta:0                          [128]                 128  /replica:0/task:0/device:GPU:0\n",
      "classify_2/com_142/conv_up/W:0                                [1, 1, 512, 128]    65536  /replica:0/task:0/device:GPU:0\n",
      "classify_2/com_142/conv_up/bn/gamma:0                         [128]                 128  /replica:0/task:0/device:GPU:1\n",
      "classify_2/com_142/conv_up/bn/beta:0                          [128]                 128  /replica:0/task:0/device:GPU:1\n",
      "classify_2/conv_straight23/W:0                                [3, 3, 256, 256]   589824  /replica:0/task:0/device:GPU:1\n",
      "classify_2/conv_straight23/bn/gamma:0                         [256]                 256  /replica:0/task:0/device:GPU:0\n",
      "classify_2/conv_straight23/bn/beta:0                          [256]                 256  /replica:0/task:0/device:GPU:0\n",
      "classify_2/conv_down13/W:0                                    [3, 3, 128, 256]   294912  /replica:0/task:0/device:GPU:0\n",
      "classify_2/conv_down13/bn/gamma:0                             [256]                 256  /replica:0/task:0/device:GPU:0\n",
      "classify_2/conv_down13/bn/beta:0                              [256]                 256  /replica:0/task:0/device:GPU:0\n",
      "classify_2/com_24/conv_up/W:0                                 [1, 1, 512, 256]   131072  /replica:0/task:0/device:GPU:0\n",
      "classify_2/com_24/conv_up/bn/gamma:0                          [256]                 256  /replica:0/task:0/device:GPU:0\n",
      "classify_2/com_24/conv_up/bn/beta:0                           [256]                 256  /replica:0/task:0/device:GPU:0\n",
      "classify_2/conv_straight33/W:0                                [3, 3, 512, 512]  2359296  /replica:0/task:0/device:GPU:0\n",
      "classify_2/conv_straight33/bn/gamma:0                         [512]                 512  /replica:0/task:0/device:GPU:1\n",
      "classify_2/conv_straight33/bn/beta:0                          [512]                 512  /replica:0/task:0/device:GPU:1\n",
      "classify_2/conv_downdown13/W:0                                [3, 3, 256, 512]  1179648  /replica:0/task:0/device:GPU:1\n",
      "classify_2/conv_downdown13/bn/gamma:0                         [512]                 512  /replica:0/task:0/device:GPU:1\n",
      "classify_2/conv_downdown13/bn/beta:0                          [512]                 512  /replica:0/task:0/device:GPU:1\n",
      "classify_2/conv_down23/W:0                                    [3, 3, 256, 512]  1179648  /replica:0/task:0/device:GPU:1\n",
      "classify_2/conv_down23/bn/gamma:0                             [512]                 512  /replica:0/task:0/device:GPU:0\n",
      "classify_2/conv_down23/bn/beta:0                              [512]                 512  /replica:0/task:0/device:GPU:0\n",
      "head_fusion_classify_2/conv_mix/W:0                           [1, 1, 896, 256]   229376  /replica:0/task:0/device:GPU:0\n",
      "head_fusion_classify_2/conv_mix/bn/gamma:0                    [256]                 256  /replica:0/task:0/device:GPU:1\n",
      "head_fusion_classify_2/conv_mix/bn/beta:0                     [256]                 256  /replica:0/task:0/device:GPU:1\n",
      "classify_2/conv_out/W:0                                       [1, 1, 256, 4]       1024  /replica:0/task:0/device:GPU:1\n",
      "classify_2/conv_out/b:0                                       [4]                     4  /replica:0/task:0/device:GPU:1\n",
      "conv_out_type/W:0                                             [1, 1, 8, 5]           40  /replica:0/task:0/device:GPU:1\n",
      "conv_out_type/b:0                                             [5]                     5  /replica:0/task:0/device:GPU:1\n",
      "u3b/conv_1/W:0                                                [3, 3, 768, 256]  1769472  /replica:0/task:0/device:GPU:1\n",
      "u3b/conv_1/bn/gamma:0                                         [256]                 256  /replica:0/task:0/device:GPU:0\n",
      "u3b/conv_1/bn/beta:0                                          [256]                 256  /replica:0/task:0/device:GPU:0\n",
      "u3b/conv_2/W:0                                                [3, 3, 256, 256]   589824  /replica:0/task:0/device:GPU:0\n",
      "u3b/conv_2/bn/gamma:0                                         [256]                 256  /replica:0/task:0/device:GPU:0\n",
      "u3b/conv_2/bn/beta:0                                          [256]                 256  /replica:0/task:0/device:GPU:0\n",
      "u2b/conv_1/W:0                                                [3, 3, 384, 128]   442368  /replica:0/task:0/device:GPU:0\n",
      "u2b/conv_1/bn/gamma:0                                         [128]                 128  /replica:0/task:0/device:GPU:0\n",
      "u2b/conv_1/bn/beta:0                                          [128]                 128  /replica:0/task:0/device:GPU:0\n",
      "u2b/conv_2/W:0                                                [3, 3, 128, 128]   147456  /replica:0/task:0/device:GPU:0\n",
      "u2b/conv_2/bn/gamma:0                                         [128]                 128  /replica:0/task:0/device:GPU:0\n",
      "u2b/conv_2/bn/beta:0                                          [128]                 128  /replica:0/task:0/device:GPU:0\n",
      "u1b/conv_1/W:0                                                [3, 3, 192, 64]    110592  /replica:0/task:0/device:GPU:0\n",
      "u1b/conv_1/bn/gamma:0                                         [64]                   64  /replica:0/task:0/device:GPU:0\n",
      "u1b/conv_1/bn/beta:0                                          [64]                   64  /replica:0/task:0/device:GPU:0\n",
      "u1b/conv_2/W:0                                                [3, 3, 64, 64]      36864  /replica:0/task:0/device:GPU:0\n",
      "u1b/conv_2/bn/gamma:0                                         [64]                   64  /replica:0/task:0/device:GPU:0\n",
      "u1b/conv_2/bn/beta:0                                          [64]                   64  /replica:0/task:0/device:GPU:0\n",
      "conv_out_r/W:0                                                [1, 1, 64, 1]          64  /replica:0/task:0/device:GPU:0\n",
      "conv_out_r/b:0                                                [1]                     1  /replica:0/task:0/device:GPU:0\n",
      "param1:0                                                      [1]                     1  /replica:0/task:0/device:GPU:0\n",
      "param2:0                                                      [1]                     1  /replica:0/task:0/device:GPU:0\n",
      "param3:0                                                      [1]                     1  /replica:0/task:0/device:GPU:0\n",
      "param4:0                                                      [1]                     1  /replica:0/task:0/device:GPU:0\n",
      "param5:0                                                      [1]                     1  /replica:0/task:0/device:GPU:0\u001b[36m\n",
      "Total #vars=535, #params=63880235, size=243.68MB\u001b[0m\n"
     ]
    },
    {
     "name": "stdout",
     "output_type": "stream",
     "text": [
      "\u001b[32m[0107 16:43:31 @base.py:209]\u001b[0m Setup callbacks graph ...\n",
      "\u001b[32m[0107 16:43:35 @input_source.py:220]\u001b[0m Setting up the queue 'DataParallelInferenceRunner/QueueInput/input_queue' for CPU prefetching ...\n",
      "\u001b[32m[0107 16:43:35 @inference_runner.py:238]\u001b[0m [InferenceRunner] Building tower 'InferenceTower0' on device /gpu:0 ...\n",
      "\u001b[32m[0107 16:43:35 @develop.py:96]\u001b[0m \u001b[5m\u001b[31mWRN\u001b[0m [Deprecated] ModelDescBase._build_graph() interface will be deprecated after 30 Mar. Use build_graph() instead!\n",
      "\u001b[32m[0107 16:43:41 @inference_runner.py:238]\u001b[0m [InferenceRunner] Building tower 'InferenceTower1' on device /gpu:1 ...\n",
      "\u001b[32m[0107 16:43:41 @develop.py:96]\u001b[0m \u001b[5m\u001b[31mWRN\u001b[0m [Deprecated] ModelDescBase._build_graph() interface will be deprecated after 30 Mar. Use build_graph() instead!\n",
      "\u001b[32m[0107 16:43:49 @summary.py:38]\u001b[0m Maintain moving average summary of 7 tensors in collection MOVING_SUMMARY_OPS.\n",
      "\u001b[32m[0107 16:43:49 @summary.py:75]\u001b[0m Summarizing collection 'summaries' of size 228.\n",
      "\u001b[32m[0107 16:43:49 @graph.py:91]\u001b[0m Applying collection UPDATE_OPS of 248 ops.\n",
      "\u001b[32m[0107 16:43:59 @sessinit.py:137]\u001b[0m Variable learning_rate:0 in the graph will not be loaded from the checkpoint!\n",
      "\u001b[32m[0107 16:43:59 @sessinit.py:90]\u001b[0m \u001b[5m\u001b[31mWRN\u001b[0m The following variables are in the checkpoint, but not found in the graph: learning_rate:0\n",
      "\u001b[32m[0107 16:44:01 @base.py:227]\u001b[0m Creating the session ...\n",
      "\u001b[32m[0107 16:44:15 @base.py:233]\u001b[0m Initializing the session ...\n",
      "\u001b[32m[0107 16:44:15 @sessinit.py:117]\u001b[0m Restoring checkpoint from ./logs//High_CCRCC//hcnet_mix_dist_v/00/model-17500 ...\n",
      "INFO:tensorflow:Restoring parameters from ./logs//High_CCRCC//hcnet_mix_dist_v/00/model-17500\n",
      "\u001b[32m[0107 16:44:16 @base.py:240]\u001b[0m Graph Finalized.\n",
      "\u001b[32m[0107 16:44:17 @concurrency.py:37]\u001b[0m Starting EnqueueThread QueueInput/input_queue ...\n",
      "\u001b[32m[0107 16:44:17 @steps.py:126]\u001b[0m Start training with global_step=17500\n",
      "\u001b[32m[0107 16:44:23 @concurrency.py:37]\u001b[0m Starting EnqueueThread DataParallelInferenceRunner/QueueInput/input_queue ...\n",
      "\u001b[32m[0107 16:44:23 @inference_runner.py:101]\u001b[0m [InferenceRunner] Will eval 67 iterations\n",
      "\u001b[32m[0107 16:44:23 @base.py:272]\u001b[0m Start Epoch 1 ...\n"
     ]
    },
    {
     "name": "stderr",
     "output_type": "stream",
     "text": [
      "\r",
      "  0%|          |0/466[00:00<?,?it/s]"
     ]
    },
    {
     "name": "stdout",
     "output_type": "stream",
     "text": [
      "\u001b[32m[0107 16:44:23 @input_source.py:551]\u001b[0m Pre-filling StagingArea ...\n",
      "\u001b[32m[0107 16:44:24 @input_source.py:555]\u001b[0m 1 element was put into StagingArea on each tower.\n"
     ]
    },
    {
     "name": "stderr",
     "output_type": "stream",
     "text": [
      "100%|##########|466/466[05:30<00:00, 1.41it/s]"
     ]
    },
    {
     "name": "stdout",
     "output_type": "stream",
     "text": [
      "\u001b[32m[0107 16:49:53 @base.py:282]\u001b[0m Epoch 1 (global_step 17966) finished, time:5 minutes 30 seconds.\n"
     ]
    },
    {
     "name": "stderr",
     "output_type": "stream",
     "text": [
      "\n"
     ]
    },
    {
     "name": "stdout",
     "output_type": "stream",
     "text": [
      "\u001b[32m[0107 16:49:55 @saver.py:77]\u001b[0m Model saved to ./logs//High_CCRCC//hcnet_mix_dist_v/01/model-17966.\n"
     ]
    },
    {
     "name": "stderr",
     "output_type": "stream",
     "text": [
      "100%|##########|67/67[00:30<00:00, 2.22it/s]\n"
     ]
    },
    {
     "name": "stdout",
     "output_type": "stream",
     "text": [
      "\u001b[32m[0107 16:50:31 @saver.py:159]\u001b[0m Model at global_step=17966 with maximum valid_dice=0.84789 saved.\n",
      "\u001b[32m[0107 16:50:31 @monitor.py:459]\u001b[0m DataParallelInferenceRunner/QueueInput/queue_size: 50\n",
      "\u001b[32m[0107 16:50:31 @monitor.py:459]\u001b[0m QueueInput/queue_size: 49.734\n",
      "\u001b[32m[0107 16:50:31 @monitor.py:459]\u001b[0m learning_rate: 0.0001\n",
      "\u001b[32m[0107 16:50:31 @monitor.py:459]\u001b[0m loss-ce: 0.10468\n",
      "\u001b[32m[0107 16:50:31 @monitor.py:459]\u001b[0m loss-ce-12v3: 0.087006\n",
      "\u001b[32m[0107 16:50:31 @monitor.py:459]\u001b[0m loss-ce-1v23: 0.096896\n",
      "\u001b[32m[0107 16:50:31 @monitor.py:459]\u001b[0m loss-dice: 2.4029\n",
      "\u001b[32m[0107 16:50:31 @monitor.py:459]\u001b[0m loss-dice-12v3: 1.5858\n",
      "\u001b[32m[0107 16:50:31 @monitor.py:459]\u001b[0m loss-dice-1v23: 1.5231\n",
      "\u001b[32m[0107 16:50:31 @monitor.py:459]\u001b[0m loss-reg-mae: 1.4738\n",
      "\u001b[32m[0107 16:50:31 @monitor.py:459]\u001b[0m valid_acc: 0.97323\n",
      "\u001b[32m[0107 16:50:31 @monitor.py:459]\u001b[0m valid_dice: 0.84789\n",
      "\u001b[32m[0107 16:50:31 @monitor.py:459]\u001b[0m valid_dice_Endothelium: 0.61423\n",
      "\u001b[32m[0107 16:50:31 @monitor.py:459]\u001b[0m valid_dice_Grade1: 0.74368\n",
      "\u001b[32m[0107 16:50:31 @monitor.py:459]\u001b[0m valid_dice_Grade2: 0.40751\n",
      "\u001b[32m[0107 16:50:31 @monitor.py:459]\u001b[0m valid_dice_Grade3: 0.67735\n",
      "\u001b[32m[0107 16:50:31 @monitor.py:459]\u001b[0m valid_mae: 0.039995\n",
      "\u001b[32m[0107 16:50:31 @monitor.py:459]\u001b[0m valid_mean_dice: 0.61069\n",
      "\u001b[32m[0107 16:50:31 @monitor.py:459]\u001b[0m valid_ssim: 1.5476\n",
      "\u001b[32m[0107 16:50:31 @group.py:48]\u001b[0m Callbacks took 37.347 sec in total. DataParallelInferenceRunner: 35.2 seconds\n",
      "\u001b[32m[0107 16:50:31 @base.py:272]\u001b[0m Start Epoch 2 ...\n"
     ]
    },
    {
     "name": "stderr",
     "output_type": "stream",
     "text": [
      "100%|##########|466/466[04:31<00:00, 1.71it/s]"
     ]
    },
    {
     "name": "stdout",
     "output_type": "stream",
     "text": [
      "\u001b[32m[0107 16:55:02 @base.py:282]\u001b[0m Epoch 2 (global_step 18432) finished, time:4 minutes 31 seconds.\n"
     ]
    },
    {
     "name": "stderr",
     "output_type": "stream",
     "text": [
      "\n"
     ]
    },
    {
     "name": "stdout",
     "output_type": "stream",
     "text": [
      "\u001b[32m[0107 16:55:03 @saver.py:77]\u001b[0m Model saved to ./logs//High_CCRCC//hcnet_mix_dist_v/01/model-18432.\n"
     ]
    },
    {
     "name": "stderr",
     "output_type": "stream",
     "text": [
      "100%|##########|67/67[00:14<00:00, 4.72it/s]\n"
     ]
    },
    {
     "name": "stdout",
     "output_type": "stream",
     "text": [
      "\u001b[32m[0107 16:55:23 @saver.py:159]\u001b[0m Model at global_step=18432 with maximum valid_dice=0.85449 saved.\n",
      "\u001b[32m[0107 16:55:23 @monitor.py:459]\u001b[0m DataParallelInferenceRunner/QueueInput/queue_size: 49.951\n",
      "\u001b[32m[0107 16:55:23 @monitor.py:459]\u001b[0m QueueInput/queue_size: 49.49\n",
      "\u001b[32m[0107 16:55:23 @monitor.py:459]\u001b[0m learning_rate: 0.0001\n",
      "\u001b[32m[0107 16:55:23 @monitor.py:459]\u001b[0m loss-ce: 0.10139\n",
      "\u001b[32m[0107 16:55:23 @monitor.py:459]\u001b[0m loss-ce-12v3: 0.087896\n",
      "\u001b[32m[0107 16:55:23 @monitor.py:459]\u001b[0m loss-ce-1v23: 0.093358\n",
      "\u001b[32m[0107 16:55:23 @monitor.py:459]\u001b[0m loss-dice: 2.3963\n",
      "\u001b[32m[0107 16:55:23 @monitor.py:459]\u001b[0m loss-dice-12v3: 1.5681\n",
      "\u001b[32m[0107 16:55:23 @monitor.py:459]\u001b[0m loss-dice-1v23: 1.4769\n",
      "\u001b[32m[0107 16:55:23 @monitor.py:459]\u001b[0m loss-reg-mae: 0.016237\n",
      "\u001b[32m[0107 16:55:23 @monitor.py:459]\u001b[0m valid_acc: 0.9743\n",
      "\u001b[32m[0107 16:55:23 @monitor.py:459]\u001b[0m valid_dice: 0.85449\n",
      "\u001b[32m[0107 16:55:23 @monitor.py:459]\u001b[0m valid_dice_Endothelium: 0.59868\n",
      "\u001b[32m[0107 16:55:23 @monitor.py:459]\u001b[0m valid_dice_Grade1: 0.75203\n",
      "\u001b[32m[0107 16:55:23 @monitor.py:459]\u001b[0m valid_dice_Grade2: 0.38884\n",
      "\u001b[32m[0107 16:55:23 @monitor.py:459]\u001b[0m valid_dice_Grade3: 0.6858\n",
      "\u001b[32m[0107 16:55:23 @monitor.py:459]\u001b[0m valid_mae: 0.040842\n",
      "\u001b[32m[0107 16:55:23 @monitor.py:459]\u001b[0m valid_mean_dice: 0.60634\n",
      "\u001b[32m[0107 16:55:23 @monitor.py:459]\u001b[0m valid_ssim: 1.5395\n",
      "\u001b[32m[0107 16:55:23 @group.py:48]\u001b[0m Callbacks took 20.500 sec in total. DataParallelInferenceRunner: 19.2 seconds\n",
      "\u001b[32m[0107 16:55:23 @base.py:272]\u001b[0m Start Epoch 3 ...\n"
     ]
    },
    {
     "name": "stderr",
     "output_type": "stream",
     "text": [
      "100%|##########|466/466[04:31<00:00, 1.72it/s]"
     ]
    },
    {
     "name": "stdout",
     "output_type": "stream",
     "text": [
      "\u001b[32m[0107 16:59:55 @base.py:282]\u001b[0m Epoch 3 (global_step 18898) finished, time:4 minutes 31 seconds.\n"
     ]
    },
    {
     "name": "stderr",
     "output_type": "stream",
     "text": [
      "\n"
     ]
    },
    {
     "name": "stdout",
     "output_type": "stream",
     "text": [
      "\u001b[32m[0107 16:59:55 @saver.py:77]\u001b[0m Model saved to ./logs//High_CCRCC//hcnet_mix_dist_v/01/model-18898.\n"
     ]
    },
    {
     "name": "stderr",
     "output_type": "stream",
     "text": [
      "100%|##########|67/67[00:13<00:00, 4.80it/s]\n"
     ]
    },
    {
     "name": "stdout",
     "output_type": "stream",
     "text": [
      "\u001b[32m[0107 17:00:15 @saver.py:159]\u001b[0m Model at global_step=18898 with maximum valid_dice=0.85544 saved.\n",
      "\u001b[32m[0107 17:00:15 @monitor.py:459]\u001b[0m DataParallelInferenceRunner/QueueInput/queue_size: 49.873\n",
      "\u001b[32m[0107 17:00:15 @monitor.py:459]\u001b[0m QueueInput/queue_size: 49.362\n",
      "\u001b[32m[0107 17:00:15 @monitor.py:459]\u001b[0m learning_rate: 0.0001\n",
      "\u001b[32m[0107 17:00:15 @monitor.py:459]\u001b[0m loss-ce: 0.094705\n",
      "\u001b[32m[0107 17:00:15 @monitor.py:459]\u001b[0m loss-ce-12v3: 0.079808\n",
      "\u001b[32m[0107 17:00:15 @monitor.py:459]\u001b[0m loss-ce-1v23: 0.088809\n",
      "\u001b[32m[0107 17:00:15 @monitor.py:459]\u001b[0m loss-dice: 2.4207\n",
      "\u001b[32m[0107 17:00:15 @monitor.py:459]\u001b[0m loss-dice-12v3: 1.6028\n",
      "\u001b[32m[0107 17:00:15 @monitor.py:459]\u001b[0m loss-dice-1v23: 1.5078\n",
      "\u001b[32m[0107 17:00:15 @monitor.py:459]\u001b[0m loss-reg-mae: 2.6468\n",
      "\u001b[32m[0107 17:00:15 @monitor.py:459]\u001b[0m valid_acc: 0.97444\n",
      "\u001b[32m[0107 17:00:15 @monitor.py:459]\u001b[0m valid_dice: 0.85544\n",
      "\u001b[32m[0107 17:00:15 @monitor.py:459]\u001b[0m valid_dice_Endothelium: 0.61586\n",
      "\u001b[32m[0107 17:00:15 @monitor.py:459]\u001b[0m valid_dice_Grade1: 0.75545\n",
      "\u001b[32m[0107 17:00:15 @monitor.py:459]\u001b[0m valid_dice_Grade2: 0.47671\n",
      "\u001b[32m[0107 17:00:15 @monitor.py:459]\u001b[0m valid_dice_Grade3: 0.69428\n",
      "\u001b[32m[0107 17:00:15 @monitor.py:459]\u001b[0m valid_mae: 0.040539\n",
      "\u001b[32m[0107 17:00:15 @monitor.py:459]\u001b[0m valid_mean_dice: 0.63557\n",
      "\u001b[32m[0107 17:00:15 @monitor.py:459]\u001b[0m valid_ssim: 1.5446\n",
      "\u001b[32m[0107 17:00:15 @group.py:48]\u001b[0m Callbacks took 20.132 sec in total. DataParallelInferenceRunner: 18.9 seconds\n",
      "\u001b[32m[0107 17:00:15 @base.py:272]\u001b[0m Start Epoch 4 ...\n"
     ]
    },
    {
     "name": "stderr",
     "output_type": "stream",
     "text": [
      "100%|##########|466/466[04:31<00:00, 1.72it/s]"
     ]
    },
    {
     "name": "stdout",
     "output_type": "stream",
     "text": [
      "\u001b[32m[0107 17:04:46 @base.py:282]\u001b[0m Epoch 4 (global_step 19364) finished, time:4 minutes 31 seconds.\n"
     ]
    },
    {
     "name": "stderr",
     "output_type": "stream",
     "text": [
      "\n"
     ]
    },
    {
     "name": "stdout",
     "output_type": "stream",
     "text": [
      "\u001b[32m[0107 17:04:47 @saver.py:77]\u001b[0m Model saved to ./logs//High_CCRCC//hcnet_mix_dist_v/01/model-19364.\n"
     ]
    },
    {
     "name": "stderr",
     "output_type": "stream",
     "text": [
      "100%|##########|67/67[00:13<00:00, 4.80it/s]\n"
     ]
    },
    {
     "name": "stdout",
     "output_type": "stream",
     "text": [
      "\u001b[32m[0107 17:05:06 @monitor.py:459]\u001b[0m DataParallelInferenceRunner/QueueInput/queue_size: 49.945\n",
      "\u001b[32m[0107 17:05:06 @monitor.py:459]\u001b[0m QueueInput/queue_size: 49.965\n",
      "\u001b[32m[0107 17:05:06 @monitor.py:459]\u001b[0m learning_rate: 0.0001\n",
      "\u001b[32m[0107 17:05:06 @monitor.py:459]\u001b[0m loss-ce: 0.099325\n",
      "\u001b[32m[0107 17:05:06 @monitor.py:459]\u001b[0m loss-ce-12v3: 0.082645\n",
      "\u001b[32m[0107 17:05:06 @monitor.py:459]\u001b[0m loss-ce-1v23: 0.09119\n",
      "\u001b[32m[0107 17:05:06 @monitor.py:459]\u001b[0m loss-dice: 2.3678\n",
      "\u001b[32m[0107 17:05:06 @monitor.py:459]\u001b[0m loss-dice-12v3: 1.5365\n",
      "\u001b[32m[0107 17:05:06 @monitor.py:459]\u001b[0m loss-dice-1v23: 1.4553\n",
      "\u001b[32m[0107 17:05:06 @monitor.py:459]\u001b[0m loss-reg-mae: 0.0143\n",
      "\u001b[32m[0107 17:05:06 @monitor.py:459]\u001b[0m valid_acc: 0.97422\n",
      "\u001b[32m[0107 17:05:06 @monitor.py:459]\u001b[0m valid_dice: 0.85249\n",
      "\u001b[32m[0107 17:05:06 @monitor.py:459]\u001b[0m valid_dice_Endothelium: 0.61931\n",
      "\u001b[32m[0107 17:05:06 @monitor.py:459]\u001b[0m valid_dice_Grade1: 0.75259\n",
      "\u001b[32m[0107 17:05:06 @monitor.py:459]\u001b[0m valid_dice_Grade2: 0.44313\n",
      "\u001b[32m[0107 17:05:06 @monitor.py:459]\u001b[0m valid_dice_Grade3: 0.69346\n",
      "\u001b[32m[0107 17:05:06 @monitor.py:459]\u001b[0m valid_mae: 0.04011\n",
      "\u001b[32m[0107 17:05:06 @monitor.py:459]\u001b[0m valid_mean_dice: 0.62712\n",
      "\u001b[32m[0107 17:05:06 @monitor.py:459]\u001b[0m valid_ssim: 1.5505\n",
      "\u001b[32m[0107 17:05:06 @group.py:48]\u001b[0m Callbacks took 19.748 sec in total. DataParallelInferenceRunner: 18.9 seconds\n",
      "\u001b[32m[0107 17:05:06 @base.py:272]\u001b[0m Start Epoch 5 ...\n"
     ]
    },
    {
     "name": "stderr",
     "output_type": "stream",
     "text": [
      "100%|##########|466/466[04:31<00:00, 1.72it/s]"
     ]
    },
    {
     "name": "stdout",
     "output_type": "stream",
     "text": [
      "\u001b[32m[0107 17:09:37 @base.py:282]\u001b[0m Epoch 5 (global_step 19830) finished, time:4 minutes 31 seconds.\n"
     ]
    },
    {
     "name": "stderr",
     "output_type": "stream",
     "text": [
      "\n"
     ]
    },
    {
     "name": "stdout",
     "output_type": "stream",
     "text": [
      "\u001b[32m[0107 17:09:38 @saver.py:77]\u001b[0m Model saved to ./logs//High_CCRCC//hcnet_mix_dist_v/01/model-19830.\n"
     ]
    },
    {
     "name": "stderr",
     "output_type": "stream",
     "text": [
      "100%|##########|67/67[00:14<00:00, 4.76it/s]\n"
     ]
    },
    {
     "name": "stdout",
     "output_type": "stream",
     "text": [
      "\u001b[32m[0107 17:09:58 @monitor.py:459]\u001b[0m DataParallelInferenceRunner/QueueInput/queue_size: 49.965\n",
      "\u001b[32m[0107 17:09:58 @monitor.py:459]\u001b[0m QueueInput/queue_size: 49.171\n",
      "\u001b[32m[0107 17:09:58 @monitor.py:459]\u001b[0m learning_rate: 0.0001\n",
      "\u001b[32m[0107 17:09:58 @monitor.py:459]\u001b[0m loss-ce: 0.097749\n",
      "\u001b[32m[0107 17:09:58 @monitor.py:459]\u001b[0m loss-ce-12v3: 0.079376\n",
      "\u001b[32m[0107 17:09:58 @monitor.py:459]\u001b[0m loss-ce-1v23: 0.090724\n",
      "\u001b[32m[0107 17:09:58 @monitor.py:459]\u001b[0m loss-dice: 2.4059\n",
      "\u001b[32m[0107 17:09:58 @monitor.py:459]\u001b[0m loss-dice-12v3: 1.62\n",
      "\u001b[32m[0107 17:09:58 @monitor.py:459]\u001b[0m loss-dice-1v23: 1.4733\n",
      "\u001b[32m[0107 17:09:58 @monitor.py:459]\u001b[0m loss-reg-mae: 1.5593\n",
      "\u001b[32m[0107 17:09:58 @monitor.py:459]\u001b[0m valid_acc: 0.97468\n",
      "\u001b[32m[0107 17:09:58 @monitor.py:459]\u001b[0m valid_dice: 0.85384\n",
      "\u001b[32m[0107 17:09:58 @monitor.py:459]\u001b[0m valid_dice_Endothelium: 0.62816\n",
      "\u001b[32m[0107 17:09:58 @monitor.py:459]\u001b[0m valid_dice_Grade1: 0.74468\n",
      "\u001b[32m[0107 17:09:58 @monitor.py:459]\u001b[0m valid_dice_Grade2: 0.46405\n",
      "\u001b[32m[0107 17:09:58 @monitor.py:459]\u001b[0m valid_dice_Grade3: 0.71203\n",
      "\u001b[32m[0107 17:09:58 @monitor.py:459]\u001b[0m valid_mae: 0.041296\n",
      "\u001b[32m[0107 17:09:58 @monitor.py:459]\u001b[0m valid_mean_dice: 0.63723\n",
      "\u001b[32m[0107 17:09:58 @monitor.py:459]\u001b[0m valid_ssim: 1.5367\n",
      "\u001b[32m[0107 17:09:58 @group.py:48]\u001b[0m Callbacks took 20.076 sec in total. DataParallelInferenceRunner: 19.2 seconds\n",
      "\u001b[32m[0107 17:09:58 @base.py:272]\u001b[0m Start Epoch 6 ...\n"
     ]
    },
    {
     "name": "stderr",
     "output_type": "stream",
     "text": [
      "100%|##########|466/466[04:31<00:00, 1.72it/s]"
     ]
    },
    {
     "name": "stdout",
     "output_type": "stream",
     "text": [
      "\u001b[32m[0107 17:14:29 @base.py:282]\u001b[0m Epoch 6 (global_step 20296) finished, time:4 minutes 31 seconds.\n"
     ]
    },
    {
     "name": "stderr",
     "output_type": "stream",
     "text": [
      "\n"
     ]
    },
    {
     "name": "stdout",
     "output_type": "stream",
     "text": [
      "\u001b[32m[0107 17:14:30 @saver.py:77]\u001b[0m Model saved to ./logs//High_CCRCC//hcnet_mix_dist_v/01/model-20296.\n"
     ]
    },
    {
     "name": "stderr",
     "output_type": "stream",
     "text": [
      "100%|##########|67/67[00:13<00:00, 4.80it/s]\n"
     ]
    },
    {
     "name": "stdout",
     "output_type": "stream",
     "text": [
      "\u001b[32m[0107 17:14:49 @monitor.py:459]\u001b[0m DataParallelInferenceRunner/QueueInput/queue_size: 49.84\n",
      "\u001b[32m[0107 17:14:49 @monitor.py:459]\u001b[0m QueueInput/queue_size: 49.343\n",
      "\u001b[32m[0107 17:14:49 @monitor.py:459]\u001b[0m learning_rate: 0.0001\n",
      "\u001b[32m[0107 17:14:49 @monitor.py:459]\u001b[0m loss-ce: 0.090386\n",
      "\u001b[32m[0107 17:14:49 @monitor.py:459]\u001b[0m loss-ce-12v3: 0.077604\n",
      "\u001b[32m[0107 17:14:49 @monitor.py:459]\u001b[0m loss-ce-1v23: 0.084209\n",
      "\u001b[32m[0107 17:14:49 @monitor.py:459]\u001b[0m loss-dice: 2.3259\n",
      "\u001b[32m[0107 17:14:49 @monitor.py:459]\u001b[0m loss-dice-12v3: 1.5645\n",
      "\u001b[32m[0107 17:14:49 @monitor.py:459]\u001b[0m loss-dice-1v23: 1.3857\n",
      "\u001b[32m[0107 17:14:49 @monitor.py:459]\u001b[0m loss-reg-mae: 1.1951\n",
      "\u001b[32m[0107 17:14:49 @monitor.py:459]\u001b[0m valid_acc: 0.97455\n",
      "\u001b[32m[0107 17:14:49 @monitor.py:459]\u001b[0m valid_dice: 0.85491\n",
      "\u001b[32m[0107 17:14:49 @monitor.py:459]\u001b[0m valid_dice_Endothelium: 0.62373\n",
      "\u001b[32m[0107 17:14:49 @monitor.py:459]\u001b[0m valid_dice_Grade1: 0.75808\n",
      "\u001b[32m[0107 17:14:49 @monitor.py:459]\u001b[0m valid_dice_Grade2: 0.4328\n",
      "\u001b[32m[0107 17:14:49 @monitor.py:459]\u001b[0m valid_dice_Grade3: 0.69151\n",
      "\u001b[32m[0107 17:14:49 @monitor.py:459]\u001b[0m valid_mae: 0.041597\n",
      "\u001b[32m[0107 17:14:49 @monitor.py:459]\u001b[0m valid_mean_dice: 0.62653\n",
      "\u001b[32m[0107 17:14:49 @monitor.py:459]\u001b[0m valid_ssim: 1.5355\n",
      "\u001b[32m[0107 17:14:49 @group.py:48]\u001b[0m Callbacks took 20.216 sec in total. DataParallelInferenceRunner: 18.7 seconds\n",
      "\u001b[32m[0107 17:14:49 @base.py:272]\u001b[0m Start Epoch 7 ...\n"
     ]
    },
    {
     "name": "stderr",
     "output_type": "stream",
     "text": [
      "100%|##########|466/466[04:31<00:00, 1.72it/s]"
     ]
    },
    {
     "name": "stdout",
     "output_type": "stream",
     "text": [
      "\u001b[32m[0107 17:19:21 @base.py:282]\u001b[0m Epoch 7 (global_step 20762) finished, time:4 minutes 31 seconds.\n"
     ]
    },
    {
     "name": "stderr",
     "output_type": "stream",
     "text": [
      "\n"
     ]
    },
    {
     "name": "stdout",
     "output_type": "stream",
     "text": [
      "\u001b[32m[0107 17:19:22 @saver.py:77]\u001b[0m Model saved to ./logs//High_CCRCC//hcnet_mix_dist_v/01/model-20762.\n"
     ]
    },
    {
     "name": "stderr",
     "output_type": "stream",
     "text": [
      "100%|##########|67/67[00:14<00:00, 4.78it/s]\n"
     ]
    },
    {
     "name": "stdout",
     "output_type": "stream",
     "text": [
      "\u001b[32m[0107 17:19:41 @monitor.py:459]\u001b[0m DataParallelInferenceRunner/QueueInput/queue_size: 49.996\n",
      "\u001b[32m[0107 17:19:41 @monitor.py:459]\u001b[0m QueueInput/queue_size: 49.634\n",
      "\u001b[32m[0107 17:19:41 @monitor.py:459]\u001b[0m learning_rate: 0.0001\n",
      "\u001b[32m[0107 17:19:41 @monitor.py:459]\u001b[0m loss-ce: 0.1064\n",
      "\u001b[32m[0107 17:19:41 @monitor.py:459]\u001b[0m loss-ce-12v3: 0.088018\n",
      "\u001b[32m[0107 17:19:41 @monitor.py:459]\u001b[0m loss-ce-1v23: 0.09823\n",
      "\u001b[32m[0107 17:19:41 @monitor.py:459]\u001b[0m loss-dice: 2.2543\n",
      "\u001b[32m[0107 17:19:41 @monitor.py:459]\u001b[0m loss-dice-12v3: 1.5371\n",
      "\u001b[32m[0107 17:19:41 @monitor.py:459]\u001b[0m loss-dice-1v23: 1.4079\n",
      "\u001b[32m[0107 17:19:41 @monitor.py:459]\u001b[0m loss-reg-mae: 0.014787\n",
      "\u001b[32m[0107 17:19:41 @monitor.py:459]\u001b[0m valid_acc: 0.97433\n",
      "\u001b[32m[0107 17:19:41 @monitor.py:459]\u001b[0m valid_dice: 0.8502\n",
      "\u001b[32m[0107 17:19:41 @monitor.py:459]\u001b[0m valid_dice_Endothelium: 0.63057\n",
      "\u001b[32m[0107 17:19:41 @monitor.py:459]\u001b[0m valid_dice_Grade1: 0.75509\n",
      "\u001b[32m[0107 17:19:41 @monitor.py:459]\u001b[0m valid_dice_Grade2: 0.47094\n",
      "\u001b[32m[0107 17:19:41 @monitor.py:459]\u001b[0m valid_dice_Grade3: 0.71452\n",
      "\u001b[32m[0107 17:19:41 @monitor.py:459]\u001b[0m valid_mae: 0.041423\n",
      "\u001b[32m[0107 17:19:41 @monitor.py:459]\u001b[0m valid_mean_dice: 0.64278\n",
      "\u001b[32m[0107 17:19:41 @monitor.py:459]\u001b[0m valid_ssim: 1.5458\n",
      "\u001b[32m[0107 17:19:41 @group.py:48]\u001b[0m Callbacks took 19.726 sec in total. DataParallelInferenceRunner: 18.8 seconds\n",
      "\u001b[32m[0107 17:19:41 @base.py:272]\u001b[0m Start Epoch 8 ...\n"
     ]
    },
    {
     "name": "stderr",
     "output_type": "stream",
     "text": [
      "100%|##########|466/466[04:31<00:00, 1.72it/s]"
     ]
    },
    {
     "name": "stdout",
     "output_type": "stream",
     "text": [
      "\u001b[32m[0107 17:24:12 @base.py:282]\u001b[0m Epoch 8 (global_step 21228) finished, time:4 minutes 31 seconds.\n"
     ]
    },
    {
     "name": "stderr",
     "output_type": "stream",
     "text": [
      "\n"
     ]
    },
    {
     "name": "stdout",
     "output_type": "stream",
     "text": [
      "\u001b[32m[0107 17:24:13 @saver.py:77]\u001b[0m Model saved to ./logs//High_CCRCC//hcnet_mix_dist_v/01/model-21228.\n"
     ]
    },
    {
     "name": "stderr",
     "output_type": "stream",
     "text": [
      "100%|##########|67/67[00:13<00:00, 4.82it/s]\n"
     ]
    },
    {
     "name": "stdout",
     "output_type": "stream",
     "text": [
      "\u001b[32m[0107 17:24:32 @monitor.py:459]\u001b[0m DataParallelInferenceRunner/QueueInput/queue_size: 49.89\n",
      "\u001b[32m[0107 17:24:32 @monitor.py:459]\u001b[0m QueueInput/queue_size: 49.906\n",
      "\u001b[32m[0107 17:24:32 @monitor.py:459]\u001b[0m learning_rate: 0.0001\n",
      "\u001b[32m[0107 17:24:32 @monitor.py:459]\u001b[0m loss-ce: 0.10161\n",
      "\u001b[32m[0107 17:24:32 @monitor.py:459]\u001b[0m loss-ce-12v3: 0.083817\n",
      "\u001b[32m[0107 17:24:32 @monitor.py:459]\u001b[0m loss-ce-1v23: 0.092882\n",
      "\u001b[32m[0107 17:24:32 @monitor.py:459]\u001b[0m loss-dice: 2.3475\n",
      "\u001b[32m[0107 17:24:32 @monitor.py:459]\u001b[0m loss-dice-12v3: 1.5404\n",
      "\u001b[32m[0107 17:24:32 @monitor.py:459]\u001b[0m loss-dice-1v23: 1.444\n",
      "\u001b[32m[0107 17:24:32 @monitor.py:459]\u001b[0m loss-reg-mae: 0.014737\n",
      "\u001b[32m[0107 17:24:32 @monitor.py:459]\u001b[0m valid_acc: 0.97461\n",
      "\u001b[32m[0107 17:24:32 @monitor.py:459]\u001b[0m valid_dice: 0.85339\n",
      "\u001b[32m[0107 17:24:32 @monitor.py:459]\u001b[0m valid_dice_Endothelium: 0.63641\n",
      "\u001b[32m[0107 17:24:32 @monitor.py:459]\u001b[0m valid_dice_Grade1: 0.75297\n",
      "\u001b[32m[0107 17:24:32 @monitor.py:459]\u001b[0m valid_dice_Grade2: 0.48124\n",
      "\u001b[32m[0107 17:24:32 @monitor.py:459]\u001b[0m valid_dice_Grade3: 0.72192\n",
      "\u001b[32m[0107 17:24:32 @monitor.py:459]\u001b[0m valid_mae: 0.041854\n",
      "\u001b[32m[0107 17:24:32 @monitor.py:459]\u001b[0m valid_mean_dice: 0.64813\n",
      "\u001b[32m[0107 17:24:32 @monitor.py:459]\u001b[0m valid_ssim: 1.5469\n",
      "\u001b[32m[0107 17:24:32 @group.py:48]\u001b[0m Callbacks took 19.642 sec in total. DataParallelInferenceRunner: 18.8 seconds\n",
      "\u001b[32m[0107 17:24:32 @base.py:272]\u001b[0m Start Epoch 9 ...\n"
     ]
    },
    {
     "name": "stderr",
     "output_type": "stream",
     "text": [
      "100%|##########|466/466[04:31<00:00, 1.72it/s]"
     ]
    },
    {
     "name": "stdout",
     "output_type": "stream",
     "text": [
      "\u001b[32m[0107 17:29:03 @base.py:282]\u001b[0m Epoch 9 (global_step 21694) finished, time:4 minutes 31 seconds.\n"
     ]
    },
    {
     "name": "stderr",
     "output_type": "stream",
     "text": [
      "\n"
     ]
    },
    {
     "name": "stdout",
     "output_type": "stream",
     "text": [
      "\u001b[32m[0107 17:29:05 @saver.py:77]\u001b[0m Model saved to ./logs//High_CCRCC//hcnet_mix_dist_v/01/model-21694.\n"
     ]
    },
    {
     "name": "stderr",
     "output_type": "stream",
     "text": [
      "100%|##########|67/67[00:13<00:00, 4.82it/s]\n"
     ]
    },
    {
     "name": "stdout",
     "output_type": "stream",
     "text": [
      "\u001b[32m[0107 17:29:24 @saver.py:159]\u001b[0m Model at global_step=21694 with maximum valid_dice=0.85607 saved.\n",
      "\u001b[32m[0107 17:29:24 @monitor.py:459]\u001b[0m DataParallelInferenceRunner/QueueInput/queue_size: 49.875\n",
      "\u001b[32m[0107 17:29:24 @monitor.py:459]\u001b[0m QueueInput/queue_size: 49.183\n",
      "\u001b[32m[0107 17:29:24 @monitor.py:459]\u001b[0m learning_rate: 0.0001\n",
      "\u001b[32m[0107 17:29:24 @monitor.py:459]\u001b[0m loss-ce: 0.097249\n",
      "\u001b[32m[0107 17:29:24 @monitor.py:459]\u001b[0m loss-ce-12v3: 0.078594\n",
      "\u001b[32m[0107 17:29:24 @monitor.py:459]\u001b[0m loss-ce-1v23: 0.090579\n",
      "\u001b[32m[0107 17:29:24 @monitor.py:459]\u001b[0m loss-dice: 2.2373\n",
      "\u001b[32m[0107 17:29:24 @monitor.py:459]\u001b[0m loss-dice-12v3: 1.4633\n",
      "\u001b[32m[0107 17:29:24 @monitor.py:459]\u001b[0m loss-dice-1v23: 1.3864\n",
      "\u001b[32m[0107 17:29:24 @monitor.py:459]\u001b[0m loss-reg-mae: 0.013719\n",
      "\u001b[32m[0107 17:29:24 @monitor.py:459]\u001b[0m valid_acc: 0.97449\n",
      "\u001b[32m[0107 17:29:24 @monitor.py:459]\u001b[0m valid_dice: 0.85607\n",
      "\u001b[32m[0107 17:29:24 @monitor.py:459]\u001b[0m valid_dice_Endothelium: 0.61818\n",
      "\u001b[32m[0107 17:29:24 @monitor.py:459]\u001b[0m valid_dice_Grade1: 0.74582\n",
      "\u001b[32m[0107 17:29:24 @monitor.py:459]\u001b[0m valid_dice_Grade2: 0.43513\n",
      "\u001b[32m[0107 17:29:24 @monitor.py:459]\u001b[0m valid_dice_Grade3: 0.70611\n",
      "\u001b[32m[0107 17:29:24 @monitor.py:459]\u001b[0m valid_mae: 0.041325\n",
      "\u001b[32m[0107 17:29:24 @monitor.py:459]\u001b[0m valid_mean_dice: 0.62631\n",
      "\u001b[32m[0107 17:29:24 @monitor.py:459]\u001b[0m valid_ssim: 1.5499\n",
      "\u001b[32m[0107 17:29:24 @group.py:48]\u001b[0m Callbacks took 20.291 sec in total. DataParallelInferenceRunner: 18.8 seconds\n",
      "\u001b[32m[0107 17:29:24 @base.py:272]\u001b[0m Start Epoch 10 ...\n"
     ]
    },
    {
     "name": "stderr",
     "output_type": "stream",
     "text": [
      "100%|##########|466/466[04:31<00:00, 1.72it/s]"
     ]
    },
    {
     "name": "stdout",
     "output_type": "stream",
     "text": [
      "\u001b[32m[0107 17:33:55 @base.py:282]\u001b[0m Epoch 10 (global_step 22160) finished, time:4 minutes 31 seconds.\n"
     ]
    },
    {
     "name": "stderr",
     "output_type": "stream",
     "text": [
      "\n"
     ]
    },
    {
     "name": "stdout",
     "output_type": "stream",
     "text": [
      "\u001b[32m[0107 17:33:56 @saver.py:77]\u001b[0m Model saved to ./logs//High_CCRCC//hcnet_mix_dist_v/01/model-22160.\n"
     ]
    },
    {
     "name": "stderr",
     "output_type": "stream",
     "text": [
      "100%|##########|67/67[00:13<00:00, 4.82it/s]\n"
     ]
    },
    {
     "name": "stdout",
     "output_type": "stream",
     "text": [
      "\u001b[32m[0107 17:34:14 @monitor.py:459]\u001b[0m DataParallelInferenceRunner/QueueInput/queue_size: 49.865\n",
      "\u001b[32m[0107 17:34:14 @monitor.py:459]\u001b[0m QueueInput/queue_size: 49.798\n",
      "\u001b[32m[0107 17:34:14 @monitor.py:459]\u001b[0m learning_rate: 0.0001\n",
      "\u001b[32m[0107 17:34:14 @monitor.py:459]\u001b[0m loss-ce: 0.10013\n",
      "\u001b[32m[0107 17:34:14 @monitor.py:459]\u001b[0m loss-ce-12v3: 0.083041\n",
      "\u001b[32m[0107 17:34:14 @monitor.py:459]\u001b[0m loss-ce-1v23: 0.093309\n",
      "\u001b[32m[0107 17:34:14 @monitor.py:459]\u001b[0m loss-dice: 2.2302\n",
      "\u001b[32m[0107 17:34:14 @monitor.py:459]\u001b[0m loss-dice-12v3: 1.4634\n",
      "\u001b[32m[0107 17:34:14 @monitor.py:459]\u001b[0m loss-dice-1v23: 1.3597\n",
      "\u001b[32m[0107 17:34:14 @monitor.py:459]\u001b[0m loss-reg-mae: 0.020542\n",
      "\u001b[32m[0107 17:34:14 @monitor.py:459]\u001b[0m valid_acc: 0.97431\n",
      "\u001b[32m[0107 17:34:14 @monitor.py:459]\u001b[0m valid_dice: 0.85507\n",
      "\u001b[32m[0107 17:34:14 @monitor.py:459]\u001b[0m valid_dice_Endothelium: 0.61543\n",
      "\u001b[32m[0107 17:34:14 @monitor.py:459]\u001b[0m valid_dice_Grade1: 0.76383\n",
      "\u001b[32m[0107 17:34:14 @monitor.py:459]\u001b[0m valid_dice_Grade2: 0.41098\n",
      "\u001b[32m[0107 17:34:14 @monitor.py:459]\u001b[0m valid_dice_Grade3: 0.70657\n",
      "\u001b[32m[0107 17:34:14 @monitor.py:459]\u001b[0m valid_mae: 0.041072\n",
      "\u001b[32m[0107 17:34:14 @monitor.py:459]\u001b[0m valid_mean_dice: 0.6242\n",
      "\u001b[32m[0107 17:34:14 @monitor.py:459]\u001b[0m valid_ssim: 1.5489\n",
      "\u001b[32m[0107 17:34:14 @group.py:48]\u001b[0m Callbacks took 19.568 sec in total. DataParallelInferenceRunner: 18.6 seconds\n",
      "\u001b[32m[0107 17:34:14 @base.py:272]\u001b[0m Start Epoch 11 ...\n"
     ]
    },
    {
     "name": "stderr",
     "output_type": "stream",
     "text": [
      "100%|##########|466/466[04:31<00:00, 1.72it/s]"
     ]
    },
    {
     "name": "stdout",
     "output_type": "stream",
     "text": [
      "\u001b[32m[0107 17:38:46 @base.py:282]\u001b[0m Epoch 11 (global_step 22626) finished, time:4 minutes 31 seconds.\n"
     ]
    },
    {
     "name": "stderr",
     "output_type": "stream",
     "text": [
      "\n"
     ]
    },
    {
     "name": "stdout",
     "output_type": "stream",
     "text": [
      "\u001b[32m[0107 17:38:47 @saver.py:77]\u001b[0m Model saved to ./logs//High_CCRCC//hcnet_mix_dist_v/01/model-22626.\n"
     ]
    },
    {
     "name": "stderr",
     "output_type": "stream",
     "text": [
      "100%|##########|67/67[00:13<00:00, 4.80it/s]\n"
     ]
    },
    {
     "name": "stdout",
     "output_type": "stream",
     "text": [
      "\u001b[32m[0107 17:39:05 @monitor.py:459]\u001b[0m DataParallelInferenceRunner/QueueInput/queue_size: 49.867\n",
      "\u001b[32m[0107 17:39:05 @monitor.py:459]\u001b[0m QueueInput/queue_size: 49.429\n",
      "\u001b[32m[0107 17:39:05 @monitor.py:459]\u001b[0m learning_rate: 0.0001\n",
      "\u001b[32m[0107 17:39:05 @monitor.py:459]\u001b[0m loss-ce: 0.091114\n",
      "\u001b[32m[0107 17:39:05 @monitor.py:459]\u001b[0m loss-ce-12v3: 0.075047\n",
      "\u001b[32m[0107 17:39:05 @monitor.py:459]\u001b[0m loss-ce-1v23: 0.083708\n",
      "\u001b[32m[0107 17:39:05 @monitor.py:459]\u001b[0m loss-dice: 2.3285\n",
      "\u001b[32m[0107 17:39:05 @monitor.py:459]\u001b[0m loss-dice-12v3: 1.5311\n",
      "\u001b[32m[0107 17:39:05 @monitor.py:459]\u001b[0m loss-dice-1v23: 1.4395\n",
      "\u001b[32m[0107 17:39:05 @monitor.py:459]\u001b[0m loss-reg-mae: 0.012768\n",
      "\u001b[32m[0107 17:39:05 @monitor.py:459]\u001b[0m valid_acc: 0.97481\n",
      "\u001b[32m[0107 17:39:05 @monitor.py:459]\u001b[0m valid_dice: 0.85351\n",
      "\u001b[32m[0107 17:39:05 @monitor.py:459]\u001b[0m valid_dice_Endothelium: 0.62316\n",
      "\u001b[32m[0107 17:39:05 @monitor.py:459]\u001b[0m valid_dice_Grade1: 0.737\n",
      "\u001b[32m[0107 17:39:05 @monitor.py:459]\u001b[0m valid_dice_Grade2: 0.4501\n",
      "\u001b[32m[0107 17:39:05 @monitor.py:459]\u001b[0m valid_dice_Grade3: 0.69387\n",
      "\u001b[32m[0107 17:39:05 @monitor.py:459]\u001b[0m valid_mae: 0.039752\n",
      "\u001b[32m[0107 17:39:05 @monitor.py:459]\u001b[0m valid_mean_dice: 0.62604\n",
      "\u001b[32m[0107 17:39:05 @monitor.py:459]\u001b[0m valid_ssim: 1.5569\n",
      "\u001b[32m[0107 17:39:05 @group.py:48]\u001b[0m Callbacks took 19.775 sec in total. DataParallelInferenceRunner: 18.9 seconds\n",
      "\u001b[32m[0107 17:39:05 @base.py:272]\u001b[0m Start Epoch 12 ...\n"
     ]
    },
    {
     "name": "stderr",
     "output_type": "stream",
     "text": [
      "100%|##########|466/466[04:31<00:00, 1.72it/s]"
     ]
    },
    {
     "name": "stdout",
     "output_type": "stream",
     "text": [
      "\u001b[32m[0107 17:43:37 @base.py:282]\u001b[0m Epoch 12 (global_step 23092) finished, time:4 minutes 31 seconds.\n"
     ]
    },
    {
     "name": "stderr",
     "output_type": "stream",
     "text": [
      "\n"
     ]
    },
    {
     "name": "stdout",
     "output_type": "stream",
     "text": [
      "\u001b[32m[0107 17:43:38 @saver.py:77]\u001b[0m Model saved to ./logs//High_CCRCC//hcnet_mix_dist_v/01/model-23092.\n"
     ]
    },
    {
     "name": "stderr",
     "output_type": "stream",
     "text": [
      "100%|##########|67/67[00:13<00:00, 4.83it/s]\n"
     ]
    },
    {
     "name": "stdout",
     "output_type": "stream",
     "text": [
      "\u001b[32m[0107 17:43:56 @monitor.py:459]\u001b[0m DataParallelInferenceRunner/QueueInput/queue_size: 49.99\n",
      "\u001b[32m[0107 17:43:56 @monitor.py:459]\u001b[0m QueueInput/queue_size: 49.55\n",
      "\u001b[32m[0107 17:43:56 @monitor.py:459]\u001b[0m learning_rate: 0.0001\n",
      "\u001b[32m[0107 17:43:56 @monitor.py:459]\u001b[0m loss-ce: 0.088329\n",
      "\u001b[32m[0107 17:43:56 @monitor.py:459]\u001b[0m loss-ce-12v3: 0.073588\n",
      "\u001b[32m[0107 17:43:56 @monitor.py:459]\u001b[0m loss-ce-1v23: 0.082619\n",
      "\u001b[32m[0107 17:43:56 @monitor.py:459]\u001b[0m loss-dice: 2.259\n",
      "\u001b[32m[0107 17:43:56 @monitor.py:459]\u001b[0m loss-dice-12v3: 1.5399\n",
      "\u001b[32m[0107 17:43:56 @monitor.py:459]\u001b[0m loss-dice-1v23: 1.3576\n",
      "\u001b[32m[0107 17:43:56 @monitor.py:459]\u001b[0m loss-reg-mae: 0.013397\n",
      "\u001b[32m[0107 17:43:56 @monitor.py:459]\u001b[0m valid_acc: 0.97527\n",
      "\u001b[32m[0107 17:43:56 @monitor.py:459]\u001b[0m valid_dice: 0.85495\n",
      "\u001b[32m[0107 17:43:56 @monitor.py:459]\u001b[0m valid_dice_Endothelium: 0.6366\n",
      "\u001b[32m[0107 17:43:56 @monitor.py:459]\u001b[0m valid_dice_Grade1: 0.76316\n",
      "\u001b[32m[0107 17:43:56 @monitor.py:459]\u001b[0m valid_dice_Grade2: 0.49983\n",
      "\u001b[32m[0107 17:43:56 @monitor.py:459]\u001b[0m valid_dice_Grade3: 0.71029\n",
      "\u001b[32m[0107 17:43:56 @monitor.py:459]\u001b[0m valid_mae: 0.041592\n",
      "\u001b[32m[0107 17:43:56 @monitor.py:459]\u001b[0m valid_mean_dice: 0.65247\n",
      "\u001b[32m[0107 17:43:56 @monitor.py:459]\u001b[0m valid_ssim: 1.538\n",
      "\u001b[32m[0107 17:43:56 @group.py:48]\u001b[0m Callbacks took 19.701 sec in total. DataParallelInferenceRunner: 18.6 seconds\n",
      "\u001b[32m[0107 17:43:56 @base.py:272]\u001b[0m Start Epoch 13 ...\n"
     ]
    },
    {
     "name": "stderr",
     "output_type": "stream",
     "text": [
      "100%|##########|466/466[04:31<00:00, 1.72it/s]"
     ]
    },
    {
     "name": "stdout",
     "output_type": "stream",
     "text": [
      "\u001b[32m[0107 17:48:28 @base.py:282]\u001b[0m Epoch 13 (global_step 23558) finished, time:4 minutes 31 seconds.\n"
     ]
    },
    {
     "name": "stderr",
     "output_type": "stream",
     "text": [
      "\n"
     ]
    },
    {
     "name": "stdout",
     "output_type": "stream",
     "text": [
      "\u001b[32m[0107 17:48:29 @saver.py:77]\u001b[0m Model saved to ./logs//High_CCRCC//hcnet_mix_dist_v/01/model-23558.\n"
     ]
    },
    {
     "name": "stderr",
     "output_type": "stream",
     "text": [
      "100%|##########|67/67[00:13<00:00, 4.82it/s]\n"
     ]
    },
    {
     "name": "stdout",
     "output_type": "stream",
     "text": [
      "\u001b[32m[0107 17:48:48 @monitor.py:459]\u001b[0m DataParallelInferenceRunner/QueueInput/queue_size: 49.927\n",
      "\u001b[32m[0107 17:48:48 @monitor.py:459]\u001b[0m QueueInput/queue_size: 49.833\n",
      "\u001b[32m[0107 17:48:48 @monitor.py:459]\u001b[0m learning_rate: 0.0001\n",
      "\u001b[32m[0107 17:48:48 @monitor.py:459]\u001b[0m loss-ce: 0.096841\n",
      "\u001b[32m[0107 17:48:48 @monitor.py:459]\u001b[0m loss-ce-12v3: 0.080007\n",
      "\u001b[32m[0107 17:48:48 @monitor.py:459]\u001b[0m loss-ce-1v23: 0.088551\n",
      "\u001b[32m[0107 17:48:48 @monitor.py:459]\u001b[0m loss-dice: 2.1975\n",
      "\u001b[32m[0107 17:48:48 @monitor.py:459]\u001b[0m loss-dice-12v3: 1.4291\n",
      "\u001b[32m[0107 17:48:48 @monitor.py:459]\u001b[0m loss-dice-1v23: 1.3468\n",
      "\u001b[32m[0107 17:48:48 @monitor.py:459]\u001b[0m loss-reg-mae: 0.013443\n",
      "\u001b[32m[0107 17:48:48 @monitor.py:459]\u001b[0m valid_acc: 0.97532\n",
      "\u001b[32m[0107 17:48:48 @monitor.py:459]\u001b[0m valid_dice: 0.8556\n",
      "\u001b[32m[0107 17:48:48 @monitor.py:459]\u001b[0m valid_dice_Endothelium: 0.6138\n",
      "\u001b[32m[0107 17:48:48 @monitor.py:459]\u001b[0m valid_dice_Grade1: 0.73848\n",
      "\u001b[32m[0107 17:48:48 @monitor.py:459]\u001b[0m valid_dice_Grade2: 0.374\n",
      "\u001b[32m[0107 17:48:48 @monitor.py:459]\u001b[0m valid_dice_Grade3: 0.65241\n",
      "\u001b[32m[0107 17:48:48 @monitor.py:459]\u001b[0m valid_mae: 0.041448\n",
      "\u001b[32m[0107 17:48:48 @monitor.py:459]\u001b[0m valid_mean_dice: 0.59467\n",
      "\u001b[32m[0107 17:48:48 @monitor.py:459]\u001b[0m valid_ssim: 1.5537\n",
      "\u001b[32m[0107 17:48:48 @group.py:48]\u001b[0m Callbacks took 19.595 sec in total. DataParallelInferenceRunner: 18.7 seconds\n",
      "\u001b[32m[0107 17:48:48 @base.py:272]\u001b[0m Start Epoch 14 ...\n"
     ]
    },
    {
     "name": "stderr",
     "output_type": "stream",
     "text": [
      "100%|##########|466/466[04:31<00:00, 1.72it/s]"
     ]
    },
    {
     "name": "stdout",
     "output_type": "stream",
     "text": [
      "\u001b[32m[0107 17:53:19 @base.py:282]\u001b[0m Epoch 14 (global_step 24024) finished, time:4 minutes 31 seconds.\n"
     ]
    },
    {
     "name": "stderr",
     "output_type": "stream",
     "text": [
      "\n"
     ]
    },
    {
     "name": "stdout",
     "output_type": "stream",
     "text": [
      "\u001b[32m[0107 17:53:20 @saver.py:77]\u001b[0m Model saved to ./logs//High_CCRCC//hcnet_mix_dist_v/01/model-24024.\n"
     ]
    },
    {
     "name": "stderr",
     "output_type": "stream",
     "text": [
      "100%|##########|67/67[00:13<00:00, 4.82it/s]\n"
     ]
    },
    {
     "name": "stdout",
     "output_type": "stream",
     "text": [
      "\u001b[32m[0107 17:53:39 @saver.py:159]\u001b[0m Model at global_step=24024 with maximum valid_dice=0.85759 saved.\n",
      "\u001b[32m[0107 17:53:39 @monitor.py:459]\u001b[0m DataParallelInferenceRunner/QueueInput/queue_size: 49.867\n",
      "\u001b[32m[0107 17:53:39 @monitor.py:459]\u001b[0m QueueInput/queue_size: 49.77\n",
      "\u001b[32m[0107 17:53:39 @monitor.py:459]\u001b[0m learning_rate: 0.0001\n",
      "\u001b[32m[0107 17:53:39 @monitor.py:459]\u001b[0m loss-ce: 0.097615\n",
      "\u001b[32m[0107 17:53:39 @monitor.py:459]\u001b[0m loss-ce-12v3: 0.080932\n",
      "\u001b[32m[0107 17:53:39 @monitor.py:459]\u001b[0m loss-ce-1v23: 0.087833\n",
      "\u001b[32m[0107 17:53:39 @monitor.py:459]\u001b[0m loss-dice: 2.2134\n",
      "\u001b[32m[0107 17:53:39 @monitor.py:459]\u001b[0m loss-dice-12v3: 1.4586\n",
      "\u001b[32m[0107 17:53:39 @monitor.py:459]\u001b[0m loss-dice-1v23: 1.3674\n",
      "\u001b[32m[0107 17:53:39 @monitor.py:459]\u001b[0m loss-reg-mae: 0.26854\n",
      "\u001b[32m[0107 17:53:39 @monitor.py:459]\u001b[0m valid_acc: 0.97521\n",
      "\u001b[32m[0107 17:53:39 @monitor.py:459]\u001b[0m valid_dice: 0.85759\n",
      "\u001b[32m[0107 17:53:39 @monitor.py:459]\u001b[0m valid_dice_Endothelium: 0.63676\n",
      "\u001b[32m[0107 17:53:39 @monitor.py:459]\u001b[0m valid_dice_Grade1: 0.76058\n",
      "\u001b[32m[0107 17:53:39 @monitor.py:459]\u001b[0m valid_dice_Grade2: 0.51896\n",
      "\u001b[32m[0107 17:53:39 @monitor.py:459]\u001b[0m valid_dice_Grade3: 0.69167\n",
      "\u001b[32m[0107 17:53:39 @monitor.py:459]\u001b[0m valid_mae: 0.040664\n",
      "\u001b[32m[0107 17:53:39 @monitor.py:459]\u001b[0m valid_mean_dice: 0.652\n",
      "\u001b[32m[0107 17:53:39 @monitor.py:459]\u001b[0m valid_ssim: 1.5494\n",
      "\u001b[32m[0107 17:53:39 @group.py:48]\u001b[0m Callbacks took 20.164 sec in total. DataParallelInferenceRunner: 18.8 seconds\n",
      "\u001b[32m[0107 17:53:39 @base.py:272]\u001b[0m Start Epoch 15 ...\n"
     ]
    },
    {
     "name": "stderr",
     "output_type": "stream",
     "text": [
      "100%|##########|466/466[04:31<00:00, 1.71it/s]"
     ]
    },
    {
     "name": "stdout",
     "output_type": "stream",
     "text": [
      "\u001b[32m[0107 17:58:11 @base.py:282]\u001b[0m Epoch 15 (global_step 24490) finished, time:4 minutes 31 seconds.\n"
     ]
    },
    {
     "name": "stderr",
     "output_type": "stream",
     "text": [
      "\n"
     ]
    },
    {
     "name": "stdout",
     "output_type": "stream",
     "text": [
      "\u001b[32m[0107 17:58:12 @saver.py:77]\u001b[0m Model saved to ./logs//High_CCRCC//hcnet_mix_dist_v/01/model-24490.\n"
     ]
    },
    {
     "name": "stderr",
     "output_type": "stream",
     "text": [
      "100%|##########|67/67[00:13<00:00, 4.80it/s]\n"
     ]
    },
    {
     "name": "stdout",
     "output_type": "stream",
     "text": [
      "\u001b[32m[0107 17:58:31 @monitor.py:459]\u001b[0m DataParallelInferenceRunner/QueueInput/queue_size: 49.819\n",
      "\u001b[32m[0107 17:58:31 @monitor.py:459]\u001b[0m QueueInput/queue_size: 49.636\n",
      "\u001b[32m[0107 17:58:31 @monitor.py:459]\u001b[0m learning_rate: 0.0001\n",
      "\u001b[32m[0107 17:58:31 @monitor.py:459]\u001b[0m loss-ce: 0.096844\n",
      "\u001b[32m[0107 17:58:31 @monitor.py:459]\u001b[0m loss-ce-12v3: 0.079801\n",
      "\u001b[32m[0107 17:58:31 @monitor.py:459]\u001b[0m loss-ce-1v23: 0.090391\n",
      "\u001b[32m[0107 17:58:31 @monitor.py:459]\u001b[0m loss-dice: 2.2834\n",
      "\u001b[32m[0107 17:58:31 @monitor.py:459]\u001b[0m loss-dice-12v3: 1.5246\n",
      "\u001b[32m[0107 17:58:31 @monitor.py:459]\u001b[0m loss-dice-1v23: 1.3783\n",
      "\u001b[32m[0107 17:58:31 @monitor.py:459]\u001b[0m loss-reg-mae: 0.027265\n",
      "\u001b[32m[0107 17:58:31 @monitor.py:459]\u001b[0m valid_acc: 0.97513\n",
      "\u001b[32m[0107 17:58:31 @monitor.py:459]\u001b[0m valid_dice: 0.85618\n",
      "\u001b[32m[0107 17:58:31 @monitor.py:459]\u001b[0m valid_dice_Endothelium: 0.62513\n",
      "\u001b[32m[0107 17:58:31 @monitor.py:459]\u001b[0m valid_dice_Grade1: 0.76379\n",
      "\u001b[32m[0107 17:58:31 @monitor.py:459]\u001b[0m valid_dice_Grade2: 0.46936\n",
      "\u001b[32m[0107 17:58:31 @monitor.py:459]\u001b[0m valid_dice_Grade3: 0.72837\n",
      "\u001b[32m[0107 17:58:31 @monitor.py:459]\u001b[0m valid_mae: 0.040829\n",
      "\u001b[32m[0107 17:58:31 @monitor.py:459]\u001b[0m valid_mean_dice: 0.64666\n",
      "\u001b[32m[0107 17:58:31 @monitor.py:459]\u001b[0m valid_ssim: 1.5405\n",
      "\u001b[32m[0107 17:58:31 @group.py:48]\u001b[0m Callbacks took 19.818 sec in total. DataParallelInferenceRunner: 18.8 seconds\n",
      "\u001b[32m[0107 17:58:31 @base.py:272]\u001b[0m Start Epoch 16 ...\n"
     ]
    },
    {
     "name": "stderr",
     "output_type": "stream",
     "text": [
      "100%|##########|466/466[04:31<00:00, 1.72it/s]"
     ]
    },
    {
     "name": "stdout",
     "output_type": "stream",
     "text": [
      "\u001b[32m[0107 18:03:02 @base.py:282]\u001b[0m Epoch 16 (global_step 24956) finished, time:4 minutes 31 seconds.\n"
     ]
    },
    {
     "name": "stderr",
     "output_type": "stream",
     "text": [
      "\n"
     ]
    },
    {
     "name": "stdout",
     "output_type": "stream",
     "text": [
      "\u001b[32m[0107 18:03:03 @saver.py:77]\u001b[0m Model saved to ./logs//High_CCRCC//hcnet_mix_dist_v/01/model-24956.\n"
     ]
    },
    {
     "name": "stderr",
     "output_type": "stream",
     "text": [
      "100%|##########|67/67[00:14<00:00, 4.76it/s]\n"
     ]
    },
    {
     "name": "stdout",
     "output_type": "stream",
     "text": [
      "\u001b[32m[0107 18:03:22 @monitor.py:459]\u001b[0m DataParallelInferenceRunner/QueueInput/queue_size: 49.889\n",
      "\u001b[32m[0107 18:03:22 @monitor.py:459]\u001b[0m QueueInput/queue_size: 49.662\n",
      "\u001b[32m[0107 18:03:22 @monitor.py:459]\u001b[0m learning_rate: 0.0001\n",
      "\u001b[32m[0107 18:03:22 @monitor.py:459]\u001b[0m loss-ce: 0.091911\n",
      "\u001b[32m[0107 18:03:22 @monitor.py:459]\u001b[0m loss-ce-12v3: 0.076363\n",
      "\u001b[32m[0107 18:03:22 @monitor.py:459]\u001b[0m loss-ce-1v23: 0.086438\n",
      "\u001b[32m[0107 18:03:22 @monitor.py:459]\u001b[0m loss-dice: 2.2298\n",
      "\u001b[32m[0107 18:03:22 @monitor.py:459]\u001b[0m loss-dice-12v3: 1.4632\n",
      "\u001b[32m[0107 18:03:22 @monitor.py:459]\u001b[0m loss-dice-1v23: 1.3857\n",
      "\u001b[32m[0107 18:03:22 @monitor.py:459]\u001b[0m loss-reg-mae: 0.013453\n",
      "\u001b[32m[0107 18:03:22 @monitor.py:459]\u001b[0m valid_acc: 0.97538\n",
      "\u001b[32m[0107 18:03:22 @monitor.py:459]\u001b[0m valid_dice: 0.85647\n",
      "\u001b[32m[0107 18:03:22 @monitor.py:459]\u001b[0m valid_dice_Endothelium: 0.6287\n",
      "\u001b[32m[0107 18:03:22 @monitor.py:459]\u001b[0m valid_dice_Grade1: 0.76401\n",
      "\u001b[32m[0107 18:03:22 @monitor.py:459]\u001b[0m valid_dice_Grade2: 0.45316\n",
      "\u001b[32m[0107 18:03:22 @monitor.py:459]\u001b[0m valid_dice_Grade3: 0.6969\n",
      "\u001b[32m[0107 18:03:22 @monitor.py:459]\u001b[0m valid_mae: 0.042173\n",
      "\u001b[32m[0107 18:03:22 @monitor.py:459]\u001b[0m valid_mean_dice: 0.63569\n",
      "\u001b[32m[0107 18:03:22 @monitor.py:459]\u001b[0m valid_ssim: 1.5413\n",
      "\u001b[32m[0107 18:03:22 @group.py:48]\u001b[0m Callbacks took 19.669 sec in total. DataParallelInferenceRunner: 18.8 seconds\n",
      "\u001b[32m[0107 18:03:22 @base.py:272]\u001b[0m Start Epoch 17 ...\n"
     ]
    },
    {
     "name": "stderr",
     "output_type": "stream",
     "text": [
      "100%|##########|466/466[04:31<00:00, 1.72it/s]"
     ]
    },
    {
     "name": "stdout",
     "output_type": "stream",
     "text": [
      "\u001b[32m[0107 18:07:54 @base.py:282]\u001b[0m Epoch 17 (global_step 25422) finished, time:4 minutes 31 seconds.\n"
     ]
    },
    {
     "name": "stderr",
     "output_type": "stream",
     "text": [
      "\n"
     ]
    },
    {
     "name": "stdout",
     "output_type": "stream",
     "text": [
      "\u001b[32m[0107 18:07:55 @saver.py:77]\u001b[0m Model saved to ./logs//High_CCRCC//hcnet_mix_dist_v/01/model-25422.\n"
     ]
    },
    {
     "name": "stderr",
     "output_type": "stream",
     "text": [
      "100%|##########|67/67[00:13<00:00, 4.83it/s]\n"
     ]
    },
    {
     "name": "stdout",
     "output_type": "stream",
     "text": [
      "\u001b[32m[0107 18:08:13 @monitor.py:459]\u001b[0m DataParallelInferenceRunner/QueueInput/queue_size: 49.873\n",
      "\u001b[32m[0107 18:08:13 @monitor.py:459]\u001b[0m QueueInput/queue_size: 49.781\n",
      "\u001b[32m[0107 18:08:13 @monitor.py:459]\u001b[0m learning_rate: 0.0001\n",
      "\u001b[32m[0107 18:08:13 @monitor.py:459]\u001b[0m loss-ce: 0.094155\n",
      "\u001b[32m[0107 18:08:13 @monitor.py:459]\u001b[0m loss-ce-12v3: 0.079125\n",
      "\u001b[32m[0107 18:08:13 @monitor.py:459]\u001b[0m loss-ce-1v23: 0.086024\n",
      "\u001b[32m[0107 18:08:13 @monitor.py:459]\u001b[0m loss-dice: 2.2212\n",
      "\u001b[32m[0107 18:08:13 @monitor.py:459]\u001b[0m loss-dice-12v3: 1.5122\n",
      "\u001b[32m[0107 18:08:13 @monitor.py:459]\u001b[0m loss-dice-1v23: 1.3472\n",
      "\u001b[32m[0107 18:08:13 @monitor.py:459]\u001b[0m loss-reg-mae: 0.013858\n",
      "\u001b[32m[0107 18:08:13 @monitor.py:459]\u001b[0m valid_acc: 0.97476\n",
      "\u001b[32m[0107 18:08:13 @monitor.py:459]\u001b[0m valid_dice: 0.85201\n",
      "\u001b[32m[0107 18:08:13 @monitor.py:459]\u001b[0m valid_dice_Endothelium: 0.61209\n",
      "\u001b[32m[0107 18:08:13 @monitor.py:459]\u001b[0m valid_dice_Grade1: 0.75456\n",
      "\u001b[32m[0107 18:08:13 @monitor.py:459]\u001b[0m valid_dice_Grade2: 0.50038\n",
      "\u001b[32m[0107 18:08:13 @monitor.py:459]\u001b[0m valid_dice_Grade3: 0.7325\n",
      "\u001b[32m[0107 18:08:13 @monitor.py:459]\u001b[0m valid_mae: 0.041348\n",
      "\u001b[32m[0107 18:08:13 @monitor.py:459]\u001b[0m valid_mean_dice: 0.64988\n",
      "\u001b[32m[0107 18:08:13 @monitor.py:459]\u001b[0m valid_ssim: 1.542\n",
      "\u001b[32m[0107 18:08:13 @group.py:48]\u001b[0m Callbacks took 19.544 sec in total. DataParallelInferenceRunner: 18.6 seconds\n",
      "\u001b[32m[0107 18:08:13 @base.py:272]\u001b[0m Start Epoch 18 ...\n"
     ]
    },
    {
     "name": "stderr",
     "output_type": "stream",
     "text": [
      "100%|##########|466/466[04:31<00:00, 1.72it/s]"
     ]
    },
    {
     "name": "stdout",
     "output_type": "stream",
     "text": [
      "\u001b[32m[0107 18:12:44 @base.py:282]\u001b[0m Epoch 18 (global_step 25888) finished, time:4 minutes 31 seconds.\n"
     ]
    },
    {
     "name": "stderr",
     "output_type": "stream",
     "text": [
      "\n"
     ]
    },
    {
     "name": "stdout",
     "output_type": "stream",
     "text": [
      "\u001b[32m[0107 18:12:45 @saver.py:77]\u001b[0m Model saved to ./logs//High_CCRCC//hcnet_mix_dist_v/01/model-25888.\n"
     ]
    },
    {
     "name": "stderr",
     "output_type": "stream",
     "text": [
      "100%|##########|67/67[00:13<00:00, 4.80it/s]\n"
     ]
    },
    {
     "name": "stdout",
     "output_type": "stream",
     "text": [
      "\u001b[32m[0107 18:13:04 @monitor.py:459]\u001b[0m DataParallelInferenceRunner/QueueInput/queue_size: 49.823\n",
      "\u001b[32m[0107 18:13:04 @monitor.py:459]\u001b[0m QueueInput/queue_size: 49.68\n",
      "\u001b[32m[0107 18:13:04 @monitor.py:459]\u001b[0m learning_rate: 0.0001\n",
      "\u001b[32m[0107 18:13:04 @monitor.py:459]\u001b[0m loss-ce: 0.094127\n",
      "\u001b[32m[0107 18:13:04 @monitor.py:459]\u001b[0m loss-ce-12v3: 0.080718\n",
      "\u001b[32m[0107 18:13:04 @monitor.py:459]\u001b[0m loss-ce-1v23: 0.086258\n",
      "\u001b[32m[0107 18:13:04 @monitor.py:459]\u001b[0m loss-dice: 2.1964\n",
      "\u001b[32m[0107 18:13:04 @monitor.py:459]\u001b[0m loss-dice-12v3: 1.469\n",
      "\u001b[32m[0107 18:13:04 @monitor.py:459]\u001b[0m loss-dice-1v23: 1.3253\n",
      "\u001b[32m[0107 18:13:04 @monitor.py:459]\u001b[0m loss-reg-mae: 0.013486\n",
      "\u001b[32m[0107 18:13:04 @monitor.py:459]\u001b[0m valid_acc: 0.97518\n",
      "\u001b[32m[0107 18:13:04 @monitor.py:459]\u001b[0m valid_dice: 0.8543\n",
      "\u001b[32m[0107 18:13:04 @monitor.py:459]\u001b[0m valid_dice_Endothelium: 0.63573\n",
      "\u001b[32m[0107 18:13:04 @monitor.py:459]\u001b[0m valid_dice_Grade1: 0.7603\n",
      "\u001b[32m[0107 18:13:04 @monitor.py:459]\u001b[0m valid_dice_Grade2: 0.44488\n",
      "\u001b[32m[0107 18:13:04 @monitor.py:459]\u001b[0m valid_dice_Grade3: 0.70386\n",
      "\u001b[32m[0107 18:13:04 @monitor.py:459]\u001b[0m valid_mae: 0.040811\n",
      "\u001b[32m[0107 18:13:04 @monitor.py:459]\u001b[0m valid_mean_dice: 0.63619\n",
      "\u001b[32m[0107 18:13:04 @monitor.py:459]\u001b[0m valid_ssim: 1.552\n",
      "\u001b[32m[0107 18:13:04 @group.py:48]\u001b[0m Callbacks took 19.763 sec in total. DataParallelInferenceRunner: 18.7 seconds\n",
      "\u001b[32m[0107 18:13:04 @base.py:272]\u001b[0m Start Epoch 19 ...\n"
     ]
    },
    {
     "name": "stderr",
     "output_type": "stream",
     "text": [
      "100%|##########|466/466[04:31<00:00, 1.72it/s]"
     ]
    },
    {
     "name": "stdout",
     "output_type": "stream",
     "text": [
      "\u001b[32m[0107 18:17:35 @base.py:282]\u001b[0m Epoch 19 (global_step 26354) finished, time:4 minutes 31 seconds.\n"
     ]
    },
    {
     "name": "stderr",
     "output_type": "stream",
     "text": [
      "\n"
     ]
    },
    {
     "name": "stdout",
     "output_type": "stream",
     "text": [
      "\u001b[32m[0107 18:17:36 @saver.py:77]\u001b[0m Model saved to ./logs//High_CCRCC//hcnet_mix_dist_v/01/model-26354.\n"
     ]
    },
    {
     "name": "stderr",
     "output_type": "stream",
     "text": [
      "100%|##########|67/67[00:13<00:00, 4.80it/s]\n"
     ]
    },
    {
     "name": "stdout",
     "output_type": "stream",
     "text": [
      "\u001b[32m[0107 18:17:55 @monitor.py:459]\u001b[0m DataParallelInferenceRunner/QueueInput/queue_size: 49.965\n",
      "\u001b[32m[0107 18:17:55 @monitor.py:459]\u001b[0m QueueInput/queue_size: 49.952\n",
      "\u001b[32m[0107 18:17:55 @monitor.py:459]\u001b[0m learning_rate: 0.0001\n",
      "\u001b[32m[0107 18:17:55 @monitor.py:459]\u001b[0m loss-ce: 0.085556\n",
      "\u001b[32m[0107 18:17:55 @monitor.py:459]\u001b[0m loss-ce-12v3: 0.072211\n",
      "\u001b[32m[0107 18:17:55 @monitor.py:459]\u001b[0m loss-ce-1v23: 0.080484\n",
      "\u001b[32m[0107 18:17:55 @monitor.py:459]\u001b[0m loss-dice: 2.3438\n",
      "\u001b[32m[0107 18:17:55 @monitor.py:459]\u001b[0m loss-dice-12v3: 1.5889\n",
      "\u001b[32m[0107 18:17:55 @monitor.py:459]\u001b[0m loss-dice-1v23: 1.4127\n",
      "\u001b[32m[0107 18:17:55 @monitor.py:459]\u001b[0m loss-reg-mae: 0.012327\n",
      "\u001b[32m[0107 18:17:55 @monitor.py:459]\u001b[0m valid_acc: 0.97509\n",
      "\u001b[32m[0107 18:17:55 @monitor.py:459]\u001b[0m valid_dice: 0.85521\n",
      "\u001b[32m[0107 18:17:55 @monitor.py:459]\u001b[0m valid_dice_Endothelium: 0.63794\n",
      "\u001b[32m[0107 18:17:55 @monitor.py:459]\u001b[0m valid_dice_Grade1: 0.76023\n",
      "\u001b[32m[0107 18:17:55 @monitor.py:459]\u001b[0m valid_dice_Grade2: 0.46005\n",
      "\u001b[32m[0107 18:17:55 @monitor.py:459]\u001b[0m valid_dice_Grade3: 0.70668\n",
      "\u001b[32m[0107 18:17:55 @monitor.py:459]\u001b[0m valid_mae: 0.041575\n",
      "\u001b[32m[0107 18:17:55 @monitor.py:459]\u001b[0m valid_mean_dice: 0.64122\n",
      "\u001b[32m[0107 18:17:55 @monitor.py:459]\u001b[0m valid_ssim: 1.5444\n",
      "\u001b[32m[0107 18:17:55 @group.py:48]\u001b[0m Callbacks took 19.748 sec in total. DataParallelInferenceRunner: 18.8 seconds\n",
      "\u001b[32m[0107 18:17:55 @base.py:272]\u001b[0m Start Epoch 20 ...\n"
     ]
    },
    {
     "name": "stderr",
     "output_type": "stream",
     "text": [
      "100%|##########|466/466[04:31<00:00, 1.72it/s]"
     ]
    },
    {
     "name": "stdout",
     "output_type": "stream",
     "text": [
      "\u001b[32m[0107 18:22:27 @base.py:282]\u001b[0m Epoch 20 (global_step 26820) finished, time:4 minutes 31 seconds.\n"
     ]
    },
    {
     "name": "stderr",
     "output_type": "stream",
     "text": [
      "\n"
     ]
    },
    {
     "name": "stdout",
     "output_type": "stream",
     "text": [
      "\u001b[32m[0107 18:22:28 @saver.py:77]\u001b[0m Model saved to ./logs//High_CCRCC//hcnet_mix_dist_v/01/model-26820.\n"
     ]
    },
    {
     "name": "stderr",
     "output_type": "stream",
     "text": [
      "100%|##########|67/67[00:13<00:00, 4.81it/s]\n"
     ]
    },
    {
     "name": "stdout",
     "output_type": "stream",
     "text": [
      "\u001b[32m[0107 18:22:46 @monitor.py:459]\u001b[0m DataParallelInferenceRunner/QueueInput/queue_size: 49.953\n",
      "\u001b[32m[0107 18:22:46 @monitor.py:459]\u001b[0m QueueInput/queue_size: 49.203\n",
      "\u001b[32m[0107 18:22:46 @monitor.py:459]\u001b[0m learning_rate: 0.0001\n",
      "\u001b[32m[0107 18:22:46 @monitor.py:459]\u001b[0m loss-ce: 0.090538\n",
      "\u001b[32m[0107 18:22:46 @monitor.py:459]\u001b[0m loss-ce-12v3: 0.075313\n",
      "\u001b[32m[0107 18:22:46 @monitor.py:459]\u001b[0m loss-ce-1v23: 0.085331\n",
      "\u001b[32m[0107 18:22:46 @monitor.py:459]\u001b[0m loss-dice: 2.3677\n",
      "\u001b[32m[0107 18:22:46 @monitor.py:459]\u001b[0m loss-dice-12v3: 1.5743\n",
      "\u001b[32m[0107 18:22:46 @monitor.py:459]\u001b[0m loss-dice-1v23: 1.4434\n",
      "\u001b[32m[0107 18:22:46 @monitor.py:459]\u001b[0m loss-reg-mae: 0.013215\n",
      "\u001b[32m[0107 18:22:46 @monitor.py:459]\u001b[0m valid_acc: 0.97551\n",
      "\u001b[32m[0107 18:22:46 @monitor.py:459]\u001b[0m valid_dice: 0.85511\n",
      "\u001b[32m[0107 18:22:46 @monitor.py:459]\u001b[0m valid_dice_Endothelium: 0.62029\n",
      "\u001b[32m[0107 18:22:46 @monitor.py:459]\u001b[0m valid_dice_Grade1: 0.7439\n",
      "\u001b[32m[0107 18:22:46 @monitor.py:459]\u001b[0m valid_dice_Grade2: 0.4688\n",
      "\u001b[32m[0107 18:22:46 @monitor.py:459]\u001b[0m valid_dice_Grade3: 0.70993\n",
      "\u001b[32m[0107 18:22:46 @monitor.py:459]\u001b[0m valid_mae: 0.042386\n",
      "\u001b[32m[0107 18:22:46 @monitor.py:459]\u001b[0m valid_mean_dice: 0.63573\n",
      "\u001b[32m[0107 18:22:46 @monitor.py:459]\u001b[0m valid_ssim: 1.5376\n",
      "\u001b[32m[0107 18:22:46 @group.py:48]\u001b[0m Callbacks took 19.702 sec in total. DataParallelInferenceRunner: 18.7 seconds\n",
      "\u001b[32m[0107 18:22:46 @base.py:272]\u001b[0m Start Epoch 21 ...\n"
     ]
    },
    {
     "name": "stderr",
     "output_type": "stream",
     "text": [
      "100%|##########|466/466[04:31<00:00, 1.72it/s]"
     ]
    },
    {
     "name": "stdout",
     "output_type": "stream",
     "text": [
      "\u001b[32m[0107 18:27:18 @base.py:282]\u001b[0m Epoch 21 (global_step 27286) finished, time:4 minutes 31 seconds.\n"
     ]
    },
    {
     "name": "stderr",
     "output_type": "stream",
     "text": [
      "\n"
     ]
    },
    {
     "name": "stdout",
     "output_type": "stream",
     "text": [
      "\u001b[32m[0107 18:27:19 @saver.py:77]\u001b[0m Model saved to ./logs//High_CCRCC//hcnet_mix_dist_v/01/model-27286.\n"
     ]
    },
    {
     "name": "stderr",
     "output_type": "stream",
     "text": [
      "100%|##########|67/67[00:13<00:00, 4.79it/s]\n"
     ]
    },
    {
     "name": "stdout",
     "output_type": "stream",
     "text": [
      "\u001b[32m[0107 18:27:38 @monitor.py:459]\u001b[0m DataParallelInferenceRunner/QueueInput/queue_size: 49.996\n",
      "\u001b[32m[0107 18:27:38 @monitor.py:459]\u001b[0m QueueInput/queue_size: 49.495\n",
      "\u001b[32m[0107 18:27:38 @monitor.py:459]\u001b[0m learning_rate: 0.0001\n",
      "\u001b[32m[0107 18:27:38 @monitor.py:459]\u001b[0m loss-ce: 0.091155\n",
      "\u001b[32m[0107 18:27:38 @monitor.py:459]\u001b[0m loss-ce-12v3: 0.075067\n",
      "\u001b[32m[0107 18:27:38 @monitor.py:459]\u001b[0m loss-ce-1v23: 0.084505\n",
      "\u001b[32m[0107 18:27:38 @monitor.py:459]\u001b[0m loss-dice: 2.2156\n",
      "\u001b[32m[0107 18:27:38 @monitor.py:459]\u001b[0m loss-dice-12v3: 1.4506\n",
      "\u001b[32m[0107 18:27:38 @monitor.py:459]\u001b[0m loss-dice-1v23: 1.3777\n",
      "\u001b[32m[0107 18:27:38 @monitor.py:459]\u001b[0m loss-reg-mae: 0.16177\n",
      "\u001b[32m[0107 18:27:38 @monitor.py:459]\u001b[0m valid_acc: 0.97458\n",
      "\u001b[32m[0107 18:27:38 @monitor.py:459]\u001b[0m valid_dice: 0.85536\n",
      "\u001b[32m[0107 18:27:38 @monitor.py:459]\u001b[0m valid_dice_Endothelium: 0.61475\n",
      "\u001b[32m[0107 18:27:38 @monitor.py:459]\u001b[0m valid_dice_Grade1: 0.7662\n",
      "\u001b[32m[0107 18:27:38 @monitor.py:459]\u001b[0m valid_dice_Grade2: 0.46037\n",
      "\u001b[32m[0107 18:27:38 @monitor.py:459]\u001b[0m valid_dice_Grade3: 0.71656\n",
      "\u001b[32m[0107 18:27:38 @monitor.py:459]\u001b[0m valid_mae: 0.041746\n",
      "\u001b[32m[0107 18:27:38 @monitor.py:459]\u001b[0m valid_mean_dice: 0.63947\n",
      "\u001b[32m[0107 18:27:38 @monitor.py:459]\u001b[0m valid_ssim: 1.5479\n",
      "\u001b[32m[0107 18:27:38 @group.py:48]\u001b[0m Callbacks took 20.012 sec in total. DataParallelInferenceRunner: 18.9 seconds\n",
      "\u001b[32m[0107 18:27:38 @base.py:272]\u001b[0m Start Epoch 22 ...\n"
     ]
    },
    {
     "name": "stderr",
     "output_type": "stream",
     "text": [
      "100%|##########|466/466[04:31<00:00, 1.72it/s]"
     ]
    },
    {
     "name": "stdout",
     "output_type": "stream",
     "text": [
      "\u001b[32m[0107 18:32:09 @base.py:282]\u001b[0m Epoch 22 (global_step 27752) finished, time:4 minutes 31 seconds.\n"
     ]
    },
    {
     "name": "stderr",
     "output_type": "stream",
     "text": [
      "\n"
     ]
    },
    {
     "name": "stdout",
     "output_type": "stream",
     "text": [
      "\u001b[32m[0107 18:32:10 @saver.py:77]\u001b[0m Model saved to ./logs//High_CCRCC//hcnet_mix_dist_v/01/model-27752.\n"
     ]
    },
    {
     "name": "stderr",
     "output_type": "stream",
     "text": [
      "100%|##########|67/67[00:13<00:00, 4.83it/s]\n"
     ]
    },
    {
     "name": "stdout",
     "output_type": "stream",
     "text": [
      "\u001b[32m[0107 18:32:29 @monitor.py:459]\u001b[0m DataParallelInferenceRunner/QueueInput/queue_size: 49.936\n",
      "\u001b[32m[0107 18:32:29 @monitor.py:459]\u001b[0m QueueInput/queue_size: 49.043\n",
      "\u001b[32m[0107 18:32:29 @monitor.py:459]\u001b[0m learning_rate: 0.0001\n",
      "\u001b[32m[0107 18:32:29 @monitor.py:459]\u001b[0m loss-ce: 0.095563\n",
      "\u001b[32m[0107 18:32:29 @monitor.py:459]\u001b[0m loss-ce-12v3: 0.081021\n",
      "\u001b[32m[0107 18:32:29 @monitor.py:459]\u001b[0m loss-ce-1v23: 0.088983\n",
      "\u001b[32m[0107 18:32:29 @monitor.py:459]\u001b[0m loss-dice: 2.294\n",
      "\u001b[32m[0107 18:32:29 @monitor.py:459]\u001b[0m loss-dice-12v3: 1.5379\n",
      "\u001b[32m[0107 18:32:29 @monitor.py:459]\u001b[0m loss-dice-1v23: 1.4207\n",
      "\u001b[32m[0107 18:32:29 @monitor.py:459]\u001b[0m loss-reg-mae: 0.013568\n",
      "\u001b[32m[0107 18:32:29 @monitor.py:459]\u001b[0m valid_acc: 0.97522\n",
      "\u001b[32m[0107 18:32:29 @monitor.py:459]\u001b[0m valid_dice: 0.85249\n",
      "\u001b[32m[0107 18:32:29 @monitor.py:459]\u001b[0m valid_dice_Endothelium: 0.61742\n",
      "\u001b[32m[0107 18:32:29 @monitor.py:459]\u001b[0m valid_dice_Grade1: 0.75866\n",
      "\u001b[32m[0107 18:32:29 @monitor.py:459]\u001b[0m valid_dice_Grade2: 0.52759\n",
      "\u001b[32m[0107 18:32:29 @monitor.py:459]\u001b[0m valid_dice_Grade3: 0.74079\n",
      "\u001b[32m[0107 18:32:29 @monitor.py:459]\u001b[0m valid_mae: 0.039332\n",
      "\u001b[32m[0107 18:32:29 @monitor.py:459]\u001b[0m valid_mean_dice: 0.66112\n",
      "\u001b[32m[0107 18:32:29 @monitor.py:459]\u001b[0m valid_ssim: 1.5526\n",
      "\u001b[32m[0107 18:32:29 @group.py:48]\u001b[0m Callbacks took 19.503 sec in total. DataParallelInferenceRunner: 18.7 seconds\n",
      "\u001b[32m[0107 18:32:29 @base.py:272]\u001b[0m Start Epoch 23 ...\n"
     ]
    },
    {
     "name": "stderr",
     "output_type": "stream",
     "text": [
      "100%|##########|466/466[04:31<00:00, 1.72it/s]"
     ]
    },
    {
     "name": "stdout",
     "output_type": "stream",
     "text": [
      "\u001b[32m[0107 18:37:01 @base.py:282]\u001b[0m Epoch 23 (global_step 28218) finished, time:4 minutes 31 seconds.\n"
     ]
    },
    {
     "name": "stderr",
     "output_type": "stream",
     "text": [
      "\n"
     ]
    },
    {
     "name": "stdout",
     "output_type": "stream",
     "text": [
      "\u001b[32m[0107 18:37:01 @saver.py:77]\u001b[0m Model saved to ./logs//High_CCRCC//hcnet_mix_dist_v/01/model-28218.\n"
     ]
    },
    {
     "name": "stderr",
     "output_type": "stream",
     "text": [
      "100%|##########|67/67[00:13<00:00, 4.80it/s]\n"
     ]
    },
    {
     "name": "stdout",
     "output_type": "stream",
     "text": [
      "\u001b[32m[0107 18:37:20 @monitor.py:459]\u001b[0m DataParallelInferenceRunner/QueueInput/queue_size: 49.968\n",
      "\u001b[32m[0107 18:37:20 @monitor.py:459]\u001b[0m QueueInput/queue_size: 49.873\n",
      "\u001b[32m[0107 18:37:20 @monitor.py:459]\u001b[0m learning_rate: 0.0001\n",
      "\u001b[32m[0107 18:37:20 @monitor.py:459]\u001b[0m loss-ce: 0.086106\n",
      "\u001b[32m[0107 18:37:20 @monitor.py:459]\u001b[0m loss-ce-12v3: 0.073649\n",
      "\u001b[32m[0107 18:37:20 @monitor.py:459]\u001b[0m loss-ce-1v23: 0.080926\n",
      "\u001b[32m[0107 18:37:20 @monitor.py:459]\u001b[0m loss-dice: 2.1894\n",
      "\u001b[32m[0107 18:37:20 @monitor.py:459]\u001b[0m loss-dice-12v3: 1.476\n",
      "\u001b[32m[0107 18:37:20 @monitor.py:459]\u001b[0m loss-dice-1v23: 1.3292\n",
      "\u001b[32m[0107 18:37:20 @monitor.py:459]\u001b[0m loss-reg-mae: 0.012992\n",
      "\u001b[32m[0107 18:37:20 @monitor.py:459]\u001b[0m valid_acc: 0.97511\n",
      "\u001b[32m[0107 18:37:20 @monitor.py:459]\u001b[0m valid_dice: 0.85557\n",
      "\u001b[32m[0107 18:37:20 @monitor.py:459]\u001b[0m valid_dice_Endothelium: 0.61722\n",
      "\u001b[32m[0107 18:37:20 @monitor.py:459]\u001b[0m valid_dice_Grade1: 0.76494\n",
      "\u001b[32m[0107 18:37:20 @monitor.py:459]\u001b[0m valid_dice_Grade2: 0.52393\n",
      "\u001b[32m[0107 18:37:20 @monitor.py:459]\u001b[0m valid_dice_Grade3: 0.72465\n",
      "\u001b[32m[0107 18:37:20 @monitor.py:459]\u001b[0m valid_mae: 0.041558\n",
      "\u001b[32m[0107 18:37:20 @monitor.py:459]\u001b[0m valid_mean_dice: 0.65769\n",
      "\u001b[32m[0107 18:37:20 @monitor.py:459]\u001b[0m valid_ssim: 1.5418\n",
      "\u001b[32m[0107 18:37:20 @group.py:48]\u001b[0m Callbacks took 19.586 sec in total. DataParallelInferenceRunner: 18.8 seconds\n",
      "\u001b[32m[0107 18:37:20 @base.py:272]\u001b[0m Start Epoch 24 ...\n"
     ]
    },
    {
     "name": "stderr",
     "output_type": "stream",
     "text": [
      "100%|##########|466/466[04:31<00:00, 1.72it/s]"
     ]
    },
    {
     "name": "stdout",
     "output_type": "stream",
     "text": [
      "\u001b[32m[0107 18:41:52 @base.py:282]\u001b[0m Epoch 24 (global_step 28684) finished, time:4 minutes 31 seconds.\n"
     ]
    },
    {
     "name": "stderr",
     "output_type": "stream",
     "text": [
      "\n"
     ]
    },
    {
     "name": "stdout",
     "output_type": "stream",
     "text": [
      "\u001b[32m[0107 18:41:53 @saver.py:77]\u001b[0m Model saved to ./logs//High_CCRCC//hcnet_mix_dist_v/01/model-28684.\n"
     ]
    },
    {
     "name": "stderr",
     "output_type": "stream",
     "text": [
      "100%|##########|67/67[00:13<00:00, 4.79it/s]\n"
     ]
    },
    {
     "name": "stdout",
     "output_type": "stream",
     "text": [
      "\u001b[32m[0107 18:42:11 @monitor.py:459]\u001b[0m DataParallelInferenceRunner/QueueInput/queue_size: 49.87\n",
      "\u001b[32m[0107 18:42:11 @monitor.py:459]\u001b[0m QueueInput/queue_size: 49.153\n",
      "\u001b[32m[0107 18:42:11 @monitor.py:459]\u001b[0m learning_rate: 0.0001\n",
      "\u001b[32m[0107 18:42:11 @monitor.py:459]\u001b[0m loss-ce: 0.079394\n",
      "\u001b[32m[0107 18:42:11 @monitor.py:459]\u001b[0m loss-ce-12v3: 0.064633\n",
      "\u001b[32m[0107 18:42:11 @monitor.py:459]\u001b[0m loss-ce-1v23: 0.073819\n",
      "\u001b[32m[0107 18:42:11 @monitor.py:459]\u001b[0m loss-dice: 2.3276\n",
      "\u001b[32m[0107 18:42:11 @monitor.py:459]\u001b[0m loss-dice-12v3: 1.5127\n",
      "\u001b[32m[0107 18:42:11 @monitor.py:459]\u001b[0m loss-dice-1v23: 1.4115\n",
      "\u001b[32m[0107 18:42:11 @monitor.py:459]\u001b[0m loss-reg-mae: 0.011032\n",
      "\u001b[32m[0107 18:42:11 @monitor.py:459]\u001b[0m valid_acc: 0.97528\n",
      "\u001b[32m[0107 18:42:11 @monitor.py:459]\u001b[0m valid_dice: 0.85511\n",
      "\u001b[32m[0107 18:42:11 @monitor.py:459]\u001b[0m valid_dice_Endothelium: 0.63176\n",
      "\u001b[32m[0107 18:42:11 @monitor.py:459]\u001b[0m valid_dice_Grade1: 0.74848\n",
      "\u001b[32m[0107 18:42:11 @monitor.py:459]\u001b[0m valid_dice_Grade2: 0.50206\n",
      "\u001b[32m[0107 18:42:11 @monitor.py:459]\u001b[0m valid_dice_Grade3: 0.70949\n",
      "\u001b[32m[0107 18:42:11 @monitor.py:459]\u001b[0m valid_mae: 0.041029\n",
      "\u001b[32m[0107 18:42:11 @monitor.py:459]\u001b[0m valid_mean_dice: 0.64795\n",
      "\u001b[32m[0107 18:42:11 @monitor.py:459]\u001b[0m valid_ssim: 1.5393\n",
      "\u001b[32m[0107 18:42:11 @group.py:48]\u001b[0m Callbacks took 19.778 sec in total. DataParallelInferenceRunner: 18.7 seconds\n",
      "\u001b[32m[0107 18:42:11 @base.py:272]\u001b[0m Start Epoch 25 ...\n"
     ]
    },
    {
     "name": "stderr",
     "output_type": "stream",
     "text": [
      "100%|##########|466/466[04:31<00:00, 1.72it/s]"
     ]
    },
    {
     "name": "stdout",
     "output_type": "stream",
     "text": [
      "\u001b[32m[0107 18:46:43 @base.py:282]\u001b[0m Epoch 25 (global_step 29150) finished, time:4 minutes 31 seconds.\n"
     ]
    },
    {
     "name": "stderr",
     "output_type": "stream",
     "text": [
      "\n"
     ]
    },
    {
     "name": "stdout",
     "output_type": "stream",
     "text": [
      "\u001b[32m[0107 18:46:44 @saver.py:77]\u001b[0m Model saved to ./logs//High_CCRCC//hcnet_mix_dist_v/01/model-29150.\n",
      "\u001b[32m[0107 18:46:44 @param.py:158]\u001b[0m [HyperParamSetter] At global_step=29150, learning_rate is set to 0.000010\n"
     ]
    },
    {
     "name": "stderr",
     "output_type": "stream",
     "text": [
      "100%|##########|67/67[00:13<00:00, 4.82it/s]\n"
     ]
    },
    {
     "name": "stdout",
     "output_type": "stream",
     "text": [
      "\u001b[32m[0107 18:47:03 @monitor.py:459]\u001b[0m DataParallelInferenceRunner/QueueInput/queue_size: 49.867\n",
      "\u001b[32m[0107 18:47:03 @monitor.py:459]\u001b[0m QueueInput/queue_size: 49.984\n",
      "\u001b[32m[0107 18:47:03 @monitor.py:459]\u001b[0m learning_rate: 0.0001\n",
      "\u001b[32m[0107 18:47:03 @monitor.py:459]\u001b[0m loss-ce: 0.093921\n",
      "\u001b[32m[0107 18:47:03 @monitor.py:459]\u001b[0m loss-ce-12v3: 0.076984\n",
      "\u001b[32m[0107 18:47:03 @monitor.py:459]\u001b[0m loss-ce-1v23: 0.086448\n",
      "\u001b[32m[0107 18:47:03 @monitor.py:459]\u001b[0m loss-dice: 2.2187\n",
      "\u001b[32m[0107 18:47:03 @monitor.py:459]\u001b[0m loss-dice-12v3: 1.492\n",
      "\u001b[32m[0107 18:47:03 @monitor.py:459]\u001b[0m loss-dice-1v23: 1.3413\n",
      "\u001b[32m[0107 18:47:03 @monitor.py:459]\u001b[0m loss-reg-mae: 0.013963\n",
      "\u001b[32m[0107 18:47:03 @monitor.py:459]\u001b[0m valid_acc: 0.97511\n",
      "\u001b[32m[0107 18:47:03 @monitor.py:459]\u001b[0m valid_dice: 0.85623\n",
      "\u001b[32m[0107 18:47:03 @monitor.py:459]\u001b[0m valid_dice_Endothelium: 0.64297\n",
      "\u001b[32m[0107 18:47:03 @monitor.py:459]\u001b[0m valid_dice_Grade1: 0.76102\n",
      "\u001b[32m[0107 18:47:03 @monitor.py:459]\u001b[0m valid_dice_Grade2: 0.51589\n",
      "\u001b[32m[0107 18:47:03 @monitor.py:459]\u001b[0m valid_dice_Grade3: 0.71866\n",
      "\u001b[32m[0107 18:47:03 @monitor.py:459]\u001b[0m valid_mae: 0.041814\n",
      "\u001b[32m[0107 18:47:03 @monitor.py:459]\u001b[0m valid_mean_dice: 0.65964\n",
      "\u001b[32m[0107 18:47:03 @monitor.py:459]\u001b[0m valid_ssim: 1.5431\n",
      "\u001b[32m[0107 18:47:03 @group.py:48]\u001b[0m Callbacks took 20.004 sec in total. DataParallelInferenceRunner: 18.7 seconds\n",
      "\u001b[32m[0107 18:47:03 @base.py:272]\u001b[0m Start Epoch 26 ...\n"
     ]
    },
    {
     "name": "stderr",
     "output_type": "stream",
     "text": [
      "100%|##########|466/466[04:31<00:00, 1.72it/s]"
     ]
    },
    {
     "name": "stdout",
     "output_type": "stream",
     "text": [
      "\u001b[32m[0107 18:51:35 @base.py:282]\u001b[0m Epoch 26 (global_step 29616) finished, time:4 minutes 31 seconds.\n"
     ]
    },
    {
     "name": "stderr",
     "output_type": "stream",
     "text": [
      "\n"
     ]
    },
    {
     "name": "stdout",
     "output_type": "stream",
     "text": [
      "\u001b[32m[0107 18:51:36 @saver.py:77]\u001b[0m Model saved to ./logs//High_CCRCC//hcnet_mix_dist_v/01/model-29616.\n"
     ]
    },
    {
     "name": "stderr",
     "output_type": "stream",
     "text": [
      "100%|##########|67/67[00:13<00:00, 4.81it/s]\n"
     ]
    },
    {
     "name": "stdout",
     "output_type": "stream",
     "text": [
      "\u001b[32m[0107 18:51:55 @saver.py:159]\u001b[0m Model at global_step=29616 with maximum valid_dice=0.85807 saved.\n",
      "\u001b[32m[0107 18:51:55 @monitor.py:459]\u001b[0m DataParallelInferenceRunner/QueueInput/queue_size: 49.982\n",
      "\u001b[32m[0107 18:51:55 @monitor.py:459]\u001b[0m QueueInput/queue_size: 49.711\n",
      "\u001b[32m[0107 18:51:55 @monitor.py:459]\u001b[0m learning_rate: 1e-05\n",
      "\u001b[32m[0107 18:51:55 @monitor.py:459]\u001b[0m loss-ce: 0.087932\n",
      "\u001b[32m[0107 18:51:55 @monitor.py:459]\u001b[0m loss-ce-12v3: 0.074681\n",
      "\u001b[32m[0107 18:51:55 @monitor.py:459]\u001b[0m loss-ce-1v23: 0.08354\n",
      "\u001b[32m[0107 18:51:55 @monitor.py:459]\u001b[0m loss-dice: 2.2346\n",
      "\u001b[32m[0107 18:51:55 @monitor.py:459]\u001b[0m loss-dice-12v3: 1.4739\n",
      "\u001b[32m[0107 18:51:55 @monitor.py:459]\u001b[0m loss-dice-1v23: 1.36\n",
      "\u001b[32m[0107 18:51:55 @monitor.py:459]\u001b[0m loss-reg-mae: 0.012732\n",
      "\u001b[32m[0107 18:51:55 @monitor.py:459]\u001b[0m valid_acc: 0.97538\n",
      "\u001b[32m[0107 18:51:55 @monitor.py:459]\u001b[0m valid_dice: 0.85807\n",
      "\u001b[32m[0107 18:51:55 @monitor.py:459]\u001b[0m valid_dice_Endothelium: 0.63928\n",
      "\u001b[32m[0107 18:51:55 @monitor.py:459]\u001b[0m valid_dice_Grade1: 0.76174\n",
      "\u001b[32m[0107 18:51:55 @monitor.py:459]\u001b[0m valid_dice_Grade2: 0.52127\n",
      "\u001b[32m[0107 18:51:55 @monitor.py:459]\u001b[0m valid_dice_Grade3: 0.72687\n",
      "\u001b[32m[0107 18:51:55 @monitor.py:459]\u001b[0m valid_mae: 0.042326\n",
      "\u001b[32m[0107 18:51:55 @monitor.py:459]\u001b[0m valid_mean_dice: 0.66229\n",
      "\u001b[32m[0107 18:51:55 @monitor.py:459]\u001b[0m valid_ssim: 1.537\n",
      "\u001b[32m[0107 18:51:55 @group.py:48]\u001b[0m Callbacks took 19.942 sec in total. DataParallelInferenceRunner: 18.7 seconds\n",
      "\u001b[32m[0107 18:51:55 @base.py:272]\u001b[0m Start Epoch 27 ...\n"
     ]
    },
    {
     "name": "stderr",
     "output_type": "stream",
     "text": [
      "100%|##########|466/466[04:31<00:00, 1.72it/s]"
     ]
    },
    {
     "name": "stdout",
     "output_type": "stream",
     "text": [
      "\u001b[32m[0107 18:56:26 @base.py:282]\u001b[0m Epoch 27 (global_step 30082) finished, time:4 minutes 31 seconds.\n"
     ]
    },
    {
     "name": "stderr",
     "output_type": "stream",
     "text": [
      "\n"
     ]
    },
    {
     "name": "stdout",
     "output_type": "stream",
     "text": [
      "\u001b[32m[0107 18:56:27 @saver.py:77]\u001b[0m Model saved to ./logs//High_CCRCC//hcnet_mix_dist_v/01/model-30082.\n"
     ]
    },
    {
     "name": "stderr",
     "output_type": "stream",
     "text": [
      "100%|##########|67/67[00:14<00:00, 4.78it/s]\n"
     ]
    },
    {
     "name": "stdout",
     "output_type": "stream",
     "text": [
      "\u001b[32m[0107 18:56:46 @saver.py:159]\u001b[0m Model at global_step=30082 with maximum valid_dice=0.85899 saved.\n",
      "\u001b[32m[0107 18:56:46 @monitor.py:459]\u001b[0m DataParallelInferenceRunner/QueueInput/queue_size: 49.981\n",
      "\u001b[32m[0107 18:56:46 @monitor.py:459]\u001b[0m QueueInput/queue_size: 49.68\n",
      "\u001b[32m[0107 18:56:46 @monitor.py:459]\u001b[0m learning_rate: 1e-05\n",
      "\u001b[32m[0107 18:56:46 @monitor.py:459]\u001b[0m loss-ce: 0.079077\n",
      "\u001b[32m[0107 18:56:46 @monitor.py:459]\u001b[0m loss-ce-12v3: 0.066727\n",
      "\u001b[32m[0107 18:56:46 @monitor.py:459]\u001b[0m loss-ce-1v23: 0.073738\n",
      "\u001b[32m[0107 18:56:46 @monitor.py:459]\u001b[0m loss-dice: 2.2139\n",
      "\u001b[32m[0107 18:56:46 @monitor.py:459]\u001b[0m loss-dice-12v3: 1.4827\n",
      "\u001b[32m[0107 18:56:46 @monitor.py:459]\u001b[0m loss-dice-1v23: 1.3064\n",
      "\u001b[32m[0107 18:56:46 @monitor.py:459]\u001b[0m loss-reg-mae: 1.2625\n",
      "\u001b[32m[0107 18:56:46 @monitor.py:459]\u001b[0m valid_acc: 0.97566\n",
      "\u001b[32m[0107 18:56:46 @monitor.py:459]\u001b[0m valid_dice: 0.85899\n",
      "\u001b[32m[0107 18:56:46 @monitor.py:459]\u001b[0m valid_dice_Endothelium: 0.63621\n",
      "\u001b[32m[0107 18:56:46 @monitor.py:459]\u001b[0m valid_dice_Grade1: 0.76298\n",
      "\u001b[32m[0107 18:56:46 @monitor.py:459]\u001b[0m valid_dice_Grade2: 0.5233\n",
      "\u001b[32m[0107 18:56:46 @monitor.py:459]\u001b[0m valid_dice_Grade3: 0.73042\n",
      "\u001b[32m[0107 18:56:46 @monitor.py:459]\u001b[0m valid_mae: 0.041553\n",
      "\u001b[32m[0107 18:56:46 @monitor.py:459]\u001b[0m valid_mean_dice: 0.66323\n",
      "\u001b[32m[0107 18:56:46 @monitor.py:459]\u001b[0m valid_ssim: 1.5422\n",
      "\u001b[32m[0107 18:56:46 @group.py:48]\u001b[0m Callbacks took 20.299 sec in total. DataParallelInferenceRunner: 18.8 seconds\n",
      "\u001b[32m[0107 18:56:46 @base.py:272]\u001b[0m Start Epoch 28 ...\n"
     ]
    },
    {
     "name": "stderr",
     "output_type": "stream",
     "text": [
      "100%|##########|466/466[04:31<00:00, 1.72it/s]"
     ]
    },
    {
     "name": "stdout",
     "output_type": "stream",
     "text": [
      "\u001b[32m[0107 19:01:18 @base.py:282]\u001b[0m Epoch 28 (global_step 30548) finished, time:4 minutes 31 seconds.\n"
     ]
    },
    {
     "name": "stderr",
     "output_type": "stream",
     "text": [
      "\n"
     ]
    },
    {
     "name": "stdout",
     "output_type": "stream",
     "text": [
      "\u001b[32m[0107 19:01:19 @saver.py:77]\u001b[0m Model saved to ./logs//High_CCRCC//hcnet_mix_dist_v/01/model-30548.\n"
     ]
    },
    {
     "name": "stderr",
     "output_type": "stream",
     "text": [
      "100%|##########|67/67[00:14<00:00, 4.76it/s]\n"
     ]
    },
    {
     "name": "stdout",
     "output_type": "stream",
     "text": [
      "\u001b[32m[0107 19:01:38 @monitor.py:459]\u001b[0m DataParallelInferenceRunner/QueueInput/queue_size: 49.898\n",
      "\u001b[32m[0107 19:01:38 @monitor.py:459]\u001b[0m QueueInput/queue_size: 50\n",
      "\u001b[32m[0107 19:01:38 @monitor.py:459]\u001b[0m learning_rate: 1e-05\n",
      "\u001b[32m[0107 19:01:38 @monitor.py:459]\u001b[0m loss-ce: 0.086525\n",
      "\u001b[32m[0107 19:01:38 @monitor.py:459]\u001b[0m loss-ce-12v3: 0.070819\n",
      "\u001b[32m[0107 19:01:38 @monitor.py:459]\u001b[0m loss-ce-1v23: 0.080742\n",
      "\u001b[32m[0107 19:01:38 @monitor.py:459]\u001b[0m loss-dice: 2.0948\n",
      "\u001b[32m[0107 19:01:38 @monitor.py:459]\u001b[0m loss-dice-12v3: 1.3965\n",
      "\u001b[32m[0107 19:01:38 @monitor.py:459]\u001b[0m loss-dice-1v23: 1.2365\n",
      "\u001b[32m[0107 19:01:38 @monitor.py:459]\u001b[0m loss-reg-mae: 0.066923\n",
      "\u001b[32m[0107 19:01:38 @monitor.py:459]\u001b[0m valid_acc: 0.97543\n",
      "\u001b[32m[0107 19:01:38 @monitor.py:459]\u001b[0m valid_dice: 0.85803\n",
      "\u001b[32m[0107 19:01:38 @monitor.py:459]\u001b[0m valid_dice_Endothelium: 0.6396\n",
      "\u001b[32m[0107 19:01:38 @monitor.py:459]\u001b[0m valid_dice_Grade1: 0.76759\n",
      "\u001b[32m[0107 19:01:38 @monitor.py:459]\u001b[0m valid_dice_Grade2: 0.51914\n",
      "\u001b[32m[0107 19:01:38 @monitor.py:459]\u001b[0m valid_dice_Grade3: 0.73079\n",
      "\u001b[32m[0107 19:01:38 @monitor.py:459]\u001b[0m valid_mae: 0.04217\n",
      "\u001b[32m[0107 19:01:38 @monitor.py:459]\u001b[0m valid_mean_dice: 0.66428\n",
      "\u001b[32m[0107 19:01:38 @monitor.py:459]\u001b[0m valid_ssim: 1.5349\n",
      "\u001b[32m[0107 19:01:38 @group.py:48]\u001b[0m Callbacks took 19.767 sec in total. DataParallelInferenceRunner: 18.9 seconds\n",
      "\u001b[32m[0107 19:01:38 @base.py:272]\u001b[0m Start Epoch 29 ...\n"
     ]
    },
    {
     "name": "stderr",
     "output_type": "stream",
     "text": [
      "100%|##########|466/466[04:31<00:00, 1.72it/s]"
     ]
    },
    {
     "name": "stdout",
     "output_type": "stream",
     "text": [
      "\u001b[32m[0107 19:06:09 @base.py:282]\u001b[0m Epoch 29 (global_step 31014) finished, time:4 minutes 31 seconds.\n"
     ]
    },
    {
     "name": "stderr",
     "output_type": "stream",
     "text": [
      "\n"
     ]
    },
    {
     "name": "stdout",
     "output_type": "stream",
     "text": [
      "\u001b[32m[0107 19:06:10 @saver.py:77]\u001b[0m Model saved to ./logs//High_CCRCC//hcnet_mix_dist_v/01/model-31014.\n"
     ]
    },
    {
     "name": "stderr",
     "output_type": "stream",
     "text": [
      "100%|##########|67/67[00:14<00:00, 4.78it/s]\n"
     ]
    },
    {
     "name": "stdout",
     "output_type": "stream",
     "text": [
      "\u001b[32m[0107 19:06:29 @monitor.py:459]\u001b[0m DataParallelInferenceRunner/QueueInput/queue_size: 49.768\n",
      "\u001b[32m[0107 19:06:29 @monitor.py:459]\u001b[0m QueueInput/queue_size: 49.495\n",
      "\u001b[32m[0107 19:06:29 @monitor.py:459]\u001b[0m learning_rate: 1e-05\n",
      "\u001b[32m[0107 19:06:29 @monitor.py:459]\u001b[0m loss-ce: 0.086529\n",
      "\u001b[32m[0107 19:06:29 @monitor.py:459]\u001b[0m loss-ce-12v3: 0.073918\n",
      "\u001b[32m[0107 19:06:29 @monitor.py:459]\u001b[0m loss-ce-1v23: 0.081526\n",
      "\u001b[32m[0107 19:06:29 @monitor.py:459]\u001b[0m loss-dice: 2.1886\n",
      "\u001b[32m[0107 19:06:29 @monitor.py:459]\u001b[0m loss-dice-12v3: 1.4855\n",
      "\u001b[32m[0107 19:06:29 @monitor.py:459]\u001b[0m loss-dice-1v23: 1.3511\n",
      "\u001b[32m[0107 19:06:29 @monitor.py:459]\u001b[0m loss-reg-mae: 0.2814\n",
      "\u001b[32m[0107 19:06:29 @monitor.py:459]\u001b[0m valid_acc: 0.97562\n",
      "\u001b[32m[0107 19:06:29 @monitor.py:459]\u001b[0m valid_dice: 0.85814\n",
      "\u001b[32m[0107 19:06:29 @monitor.py:459]\u001b[0m valid_dice_Endothelium: 0.64284\n",
      "\u001b[32m[0107 19:06:29 @monitor.py:459]\u001b[0m valid_dice_Grade1: 0.76481\n",
      "\u001b[32m[0107 19:06:29 @monitor.py:459]\u001b[0m valid_dice_Grade2: 0.5222\n",
      "\u001b[32m[0107 19:06:29 @monitor.py:459]\u001b[0m valid_dice_Grade3: 0.73269\n",
      "\u001b[32m[0107 19:06:29 @monitor.py:459]\u001b[0m valid_mae: 0.04237\n",
      "\u001b[32m[0107 19:06:29 @monitor.py:459]\u001b[0m valid_mean_dice: 0.66563\n",
      "\u001b[32m[0107 19:06:29 @monitor.py:459]\u001b[0m valid_ssim: 1.541\n",
      "\u001b[32m[0107 19:06:29 @group.py:48]\u001b[0m Callbacks took 19.704 sec in total. DataParallelInferenceRunner: 18.8 seconds\n",
      "\u001b[32m[0107 19:06:29 @base.py:272]\u001b[0m Start Epoch 30 ...\n"
     ]
    },
    {
     "name": "stderr",
     "output_type": "stream",
     "text": [
      "100%|##########|466/466[04:31<00:00, 1.72it/s]"
     ]
    },
    {
     "name": "stdout",
     "output_type": "stream",
     "text": [
      "\u001b[32m[0107 19:11:00 @base.py:282]\u001b[0m Epoch 30 (global_step 31480) finished, time:4 minutes 31 seconds.\n"
     ]
    },
    {
     "name": "stderr",
     "output_type": "stream",
     "text": [
      "\n"
     ]
    },
    {
     "name": "stdout",
     "output_type": "stream",
     "text": [
      "\u001b[32m[0107 19:11:01 @saver.py:77]\u001b[0m Model saved to ./logs//High_CCRCC//hcnet_mix_dist_v/01/model-31480.\n"
     ]
    },
    {
     "name": "stderr",
     "output_type": "stream",
     "text": [
      "100%|##########|67/67[00:13<00:00, 4.80it/s]\n"
     ]
    },
    {
     "name": "stdout",
     "output_type": "stream",
     "text": [
      "\u001b[32m[0107 19:11:20 @monitor.py:459]\u001b[0m DataParallelInferenceRunner/QueueInput/queue_size: 49.886\n",
      "\u001b[32m[0107 19:11:20 @monitor.py:459]\u001b[0m QueueInput/queue_size: 49.948\n",
      "\u001b[32m[0107 19:11:20 @monitor.py:459]\u001b[0m learning_rate: 1e-05\n",
      "\u001b[32m[0107 19:11:20 @monitor.py:459]\u001b[0m loss-ce: 0.092588\n",
      "\u001b[32m[0107 19:11:20 @monitor.py:459]\u001b[0m loss-ce-12v3: 0.079101\n",
      "\u001b[32m[0107 19:11:20 @monitor.py:459]\u001b[0m loss-ce-1v23: 0.086007\n",
      "\u001b[32m[0107 19:11:20 @monitor.py:459]\u001b[0m loss-dice: 2.0717\n",
      "\u001b[32m[0107 19:11:20 @monitor.py:459]\u001b[0m loss-dice-12v3: 1.3921\n",
      "\u001b[32m[0107 19:11:20 @monitor.py:459]\u001b[0m loss-dice-1v23: 1.2502\n",
      "\u001b[32m[0107 19:11:20 @monitor.py:459]\u001b[0m loss-reg-mae: 0.015412\n",
      "\u001b[32m[0107 19:11:20 @monitor.py:459]\u001b[0m valid_acc: 0.97552\n",
      "\u001b[32m[0107 19:11:20 @monitor.py:459]\u001b[0m valid_dice: 0.85786\n",
      "\u001b[32m[0107 19:11:20 @monitor.py:459]\u001b[0m valid_dice_Endothelium: 0.63386\n",
      "\u001b[32m[0107 19:11:20 @monitor.py:459]\u001b[0m valid_dice_Grade1: 0.7623\n",
      "\u001b[32m[0107 19:11:20 @monitor.py:459]\u001b[0m valid_dice_Grade2: 0.51622\n",
      "\u001b[32m[0107 19:11:20 @monitor.py:459]\u001b[0m valid_dice_Grade3: 0.72898\n",
      "\u001b[32m[0107 19:11:20 @monitor.py:459]\u001b[0m valid_mae: 0.041547\n",
      "\u001b[32m[0107 19:11:20 @monitor.py:459]\u001b[0m valid_mean_dice: 0.66034\n",
      "\u001b[32m[0107 19:11:20 @monitor.py:459]\u001b[0m valid_ssim: 1.5461\n",
      "\u001b[32m[0107 19:11:20 @group.py:48]\u001b[0m Callbacks took 19.860 sec in total. DataParallelInferenceRunner: 18.8 seconds\n",
      "\u001b[32m[0107 19:11:20 @base.py:272]\u001b[0m Start Epoch 31 ...\n"
     ]
    },
    {
     "name": "stderr",
     "output_type": "stream",
     "text": [
      "100%|##########|466/466[04:31<00:00, 1.72it/s]"
     ]
    },
    {
     "name": "stdout",
     "output_type": "stream",
     "text": [
      "\u001b[32m[0107 19:15:52 @base.py:282]\u001b[0m Epoch 31 (global_step 31946) finished, time:4 minutes 31 seconds.\n"
     ]
    },
    {
     "name": "stderr",
     "output_type": "stream",
     "text": [
      "\n"
     ]
    },
    {
     "name": "stdout",
     "output_type": "stream",
     "text": [
      "\u001b[32m[0107 19:15:52 @saver.py:77]\u001b[0m Model saved to ./logs//High_CCRCC//hcnet_mix_dist_v/01/model-31946.\n"
     ]
    },
    {
     "name": "stderr",
     "output_type": "stream",
     "text": [
      "100%|##########|67/67[00:13<00:00, 4.82it/s]\n"
     ]
    },
    {
     "name": "stdout",
     "output_type": "stream",
     "text": [
      "\u001b[32m[0107 19:16:11 @monitor.py:459]\u001b[0m DataParallelInferenceRunner/QueueInput/queue_size: 49.804\n",
      "\u001b[32m[0107 19:16:11 @monitor.py:459]\u001b[0m QueueInput/queue_size: 49.802\n",
      "\u001b[32m[0107 19:16:11 @monitor.py:459]\u001b[0m learning_rate: 1e-05\n",
      "\u001b[32m[0107 19:16:11 @monitor.py:459]\u001b[0m loss-ce: 0.090298\n",
      "\u001b[32m[0107 19:16:11 @monitor.py:459]\u001b[0m loss-ce-12v3: 0.074844\n",
      "\u001b[32m[0107 19:16:11 @monitor.py:459]\u001b[0m loss-ce-1v23: 0.083704\n",
      "\u001b[32m[0107 19:16:11 @monitor.py:459]\u001b[0m loss-dice: 2.1095\n",
      "\u001b[32m[0107 19:16:11 @monitor.py:459]\u001b[0m loss-dice-12v3: 1.3889\n",
      "\u001b[32m[0107 19:16:11 @monitor.py:459]\u001b[0m loss-dice-1v23: 1.28\n",
      "\u001b[32m[0107 19:16:11 @monitor.py:459]\u001b[0m loss-reg-mae: 0.012863\n",
      "\u001b[32m[0107 19:16:11 @monitor.py:459]\u001b[0m valid_acc: 0.97552\n",
      "\u001b[32m[0107 19:16:11 @monitor.py:459]\u001b[0m valid_dice: 0.85816\n",
      "\u001b[32m[0107 19:16:11 @monitor.py:459]\u001b[0m valid_dice_Endothelium: 0.63861\n",
      "\u001b[32m[0107 19:16:11 @monitor.py:459]\u001b[0m valid_dice_Grade1: 0.76434\n",
      "\u001b[32m[0107 19:16:11 @monitor.py:459]\u001b[0m valid_dice_Grade2: 0.52111\n",
      "\u001b[32m[0107 19:16:11 @monitor.py:459]\u001b[0m valid_dice_Grade3: 0.72925\n",
      "\u001b[32m[0107 19:16:11 @monitor.py:459]\u001b[0m valid_mae: 0.042201\n",
      "\u001b[32m[0107 19:16:11 @monitor.py:459]\u001b[0m valid_mean_dice: 0.66333\n",
      "\u001b[32m[0107 19:16:11 @monitor.py:459]\u001b[0m valid_ssim: 1.5402\n",
      "\u001b[32m[0107 19:16:11 @group.py:48]\u001b[0m Callbacks took 19.531 sec in total. DataParallelInferenceRunner: 18.7 seconds\n",
      "\u001b[32m[0107 19:16:11 @base.py:272]\u001b[0m Start Epoch 32 ...\n"
     ]
    },
    {
     "name": "stderr",
     "output_type": "stream",
     "text": [
      "100%|##########|466/466[04:31<00:00, 1.72it/s]"
     ]
    },
    {
     "name": "stdout",
     "output_type": "stream",
     "text": [
      "\u001b[32m[0107 19:20:43 @base.py:282]\u001b[0m Epoch 32 (global_step 32412) finished, time:4 minutes 31 seconds.\n"
     ]
    },
    {
     "name": "stderr",
     "output_type": "stream",
     "text": [
      "\n"
     ]
    },
    {
     "name": "stdout",
     "output_type": "stream",
     "text": [
      "\u001b[32m[0107 19:20:44 @saver.py:77]\u001b[0m Model saved to ./logs//High_CCRCC//hcnet_mix_dist_v/01/model-32412.\n"
     ]
    },
    {
     "name": "stderr",
     "output_type": "stream",
     "text": [
      "100%|##########|67/67[00:13<00:00, 4.82it/s]\n"
     ]
    },
    {
     "name": "stdout",
     "output_type": "stream",
     "text": [
      "\u001b[32m[0107 19:21:02 @monitor.py:459]\u001b[0m DataParallelInferenceRunner/QueueInput/queue_size: 49.87\n",
      "\u001b[32m[0107 19:21:02 @monitor.py:459]\u001b[0m QueueInput/queue_size: 49.558\n",
      "\u001b[32m[0107 19:21:02 @monitor.py:459]\u001b[0m learning_rate: 1e-05\n",
      "\u001b[32m[0107 19:21:02 @monitor.py:459]\u001b[0m loss-ce: 0.079066\n",
      "\u001b[32m[0107 19:21:02 @monitor.py:459]\u001b[0m loss-ce-12v3: 0.066109\n",
      "\u001b[32m[0107 19:21:02 @monitor.py:459]\u001b[0m loss-ce-1v23: 0.075121\n",
      "\u001b[32m[0107 19:21:02 @monitor.py:459]\u001b[0m loss-dice: 2.1944\n",
      "\u001b[32m[0107 19:21:02 @monitor.py:459]\u001b[0m loss-dice-12v3: 1.4691\n",
      "\u001b[32m[0107 19:21:02 @monitor.py:459]\u001b[0m loss-dice-1v23: 1.3228\n",
      "\u001b[32m[0107 19:21:02 @monitor.py:459]\u001b[0m loss-reg-mae: 0.012011\n",
      "\u001b[32m[0107 19:21:02 @monitor.py:459]\u001b[0m valid_acc: 0.97561\n",
      "\u001b[32m[0107 19:21:02 @monitor.py:459]\u001b[0m valid_dice: 0.85847\n",
      "\u001b[32m[0107 19:21:02 @monitor.py:459]\u001b[0m valid_dice_Endothelium: 0.64593\n",
      "\u001b[32m[0107 19:21:02 @monitor.py:459]\u001b[0m valid_dice_Grade1: 0.76531\n",
      "\u001b[32m[0107 19:21:02 @monitor.py:459]\u001b[0m valid_dice_Grade2: 0.53655\n",
      "\u001b[32m[0107 19:21:02 @monitor.py:459]\u001b[0m valid_dice_Grade3: 0.72562\n",
      "\u001b[32m[0107 19:21:02 @monitor.py:459]\u001b[0m valid_mae: 0.041739\n",
      "\u001b[32m[0107 19:21:02 @monitor.py:459]\u001b[0m valid_mean_dice: 0.66835\n",
      "\u001b[32m[0107 19:21:02 @monitor.py:459]\u001b[0m valid_ssim: 1.5403\n",
      "\u001b[32m[0107 19:21:02 @group.py:48]\u001b[0m Callbacks took 19.565 sec in total. DataParallelInferenceRunner: 18.7 seconds\n",
      "\u001b[32m[0107 19:21:02 @base.py:272]\u001b[0m Start Epoch 33 ...\n"
     ]
    },
    {
     "name": "stderr",
     "output_type": "stream",
     "text": [
      "100%|##########|466/466[04:31<00:00, 1.72it/s]"
     ]
    },
    {
     "name": "stdout",
     "output_type": "stream",
     "text": [
      "\u001b[32m[0107 19:25:33 @base.py:282]\u001b[0m Epoch 33 (global_step 32878) finished, time:4 minutes 31 seconds.\n"
     ]
    },
    {
     "name": "stderr",
     "output_type": "stream",
     "text": [
      "\n"
     ]
    },
    {
     "name": "stdout",
     "output_type": "stream",
     "text": [
      "\u001b[32m[0107 19:25:35 @saver.py:77]\u001b[0m Model saved to ./logs//High_CCRCC//hcnet_mix_dist_v/01/model-32878.\n"
     ]
    },
    {
     "name": "stderr",
     "output_type": "stream",
     "text": [
      "100%|##########|67/67[00:14<00:00, 4.76it/s]\n"
     ]
    },
    {
     "name": "stdout",
     "output_type": "stream",
     "text": [
      "\u001b[32m[0107 19:25:54 @monitor.py:459]\u001b[0m DataParallelInferenceRunner/QueueInput/queue_size: 49.838\n",
      "\u001b[32m[0107 19:25:54 @monitor.py:459]\u001b[0m QueueInput/queue_size: 49.465\n",
      "\u001b[32m[0107 19:25:54 @monitor.py:459]\u001b[0m learning_rate: 1e-05\n",
      "\u001b[32m[0107 19:25:54 @monitor.py:459]\u001b[0m loss-ce: 0.088219\n",
      "\u001b[32m[0107 19:25:54 @monitor.py:459]\u001b[0m loss-ce-12v3: 0.075967\n",
      "\u001b[32m[0107 19:25:54 @monitor.py:459]\u001b[0m loss-ce-1v23: 0.082135\n",
      "\u001b[32m[0107 19:25:54 @monitor.py:459]\u001b[0m loss-dice: 2.1568\n",
      "\u001b[32m[0107 19:25:54 @monitor.py:459]\u001b[0m loss-dice-12v3: 1.4563\n",
      "\u001b[32m[0107 19:25:54 @monitor.py:459]\u001b[0m loss-dice-1v23: 1.2953\n",
      "\u001b[32m[0107 19:25:54 @monitor.py:459]\u001b[0m loss-reg-mae: 0.013716\n",
      "\u001b[32m[0107 19:25:54 @monitor.py:459]\u001b[0m valid_acc: 0.9756\n",
      "\u001b[32m[0107 19:25:54 @monitor.py:459]\u001b[0m valid_dice: 0.85876\n",
      "\u001b[32m[0107 19:25:54 @monitor.py:459]\u001b[0m valid_dice_Endothelium: 0.64154\n",
      "\u001b[32m[0107 19:25:54 @monitor.py:459]\u001b[0m valid_dice_Grade1: 0.76143\n",
      "\u001b[32m[0107 19:25:54 @monitor.py:459]\u001b[0m valid_dice_Grade2: 0.51303\n",
      "\u001b[32m[0107 19:25:54 @monitor.py:459]\u001b[0m valid_dice_Grade3: 0.72644\n",
      "\u001b[32m[0107 19:25:54 @monitor.py:459]\u001b[0m valid_mae: 0.041909\n",
      "\u001b[32m[0107 19:25:54 @monitor.py:459]\u001b[0m valid_mean_dice: 0.66061\n",
      "\u001b[32m[0107 19:25:54 @monitor.py:459]\u001b[0m valid_ssim: 1.5403\n",
      "\u001b[32m[0107 19:25:54 @group.py:48]\u001b[0m Callbacks took 20.074 sec in total. DataParallelInferenceRunner: 19 seconds\n",
      "\u001b[32m[0107 19:25:54 @base.py:272]\u001b[0m Start Epoch 34 ...\n"
     ]
    },
    {
     "name": "stderr",
     "output_type": "stream",
     "text": [
      "100%|##########|466/466[04:31<00:00, 1.72it/s]"
     ]
    },
    {
     "name": "stdout",
     "output_type": "stream",
     "text": [
      "\u001b[32m[0107 19:30:25 @base.py:282]\u001b[0m Epoch 34 (global_step 33344) finished, time:4 minutes 31 seconds.\n"
     ]
    },
    {
     "name": "stderr",
     "output_type": "stream",
     "text": [
      "\n"
     ]
    },
    {
     "name": "stdout",
     "output_type": "stream",
     "text": [
      "\u001b[32m[0107 19:30:26 @saver.py:77]\u001b[0m Model saved to ./logs//High_CCRCC//hcnet_mix_dist_v/01/model-33344.\n"
     ]
    },
    {
     "name": "stderr",
     "output_type": "stream",
     "text": [
      "100%|##########|67/67[00:13<00:00, 4.80it/s]\n"
     ]
    },
    {
     "name": "stdout",
     "output_type": "stream",
     "text": [
      "\u001b[32m[0107 19:30:45 @monitor.py:459]\u001b[0m DataParallelInferenceRunner/QueueInput/queue_size: 49.832\n",
      "\u001b[32m[0107 19:30:45 @monitor.py:459]\u001b[0m QueueInput/queue_size: 49.789\n",
      "\u001b[32m[0107 19:30:45 @monitor.py:459]\u001b[0m learning_rate: 1e-05\n",
      "\u001b[32m[0107 19:30:45 @monitor.py:459]\u001b[0m loss-ce: 0.088136\n",
      "\u001b[32m[0107 19:30:45 @monitor.py:459]\u001b[0m loss-ce-12v3: 0.072955\n",
      "\u001b[32m[0107 19:30:45 @monitor.py:459]\u001b[0m loss-ce-1v23: 0.082695\n",
      "\u001b[32m[0107 19:30:45 @monitor.py:459]\u001b[0m loss-dice: 2.267\n",
      "\u001b[32m[0107 19:30:45 @monitor.py:459]\u001b[0m loss-dice-12v3: 1.5195\n",
      "\u001b[32m[0107 19:30:45 @monitor.py:459]\u001b[0m loss-dice-1v23: 1.3609\n",
      "\u001b[32m[0107 19:30:45 @monitor.py:459]\u001b[0m loss-reg-mae: 0.013005\n",
      "\u001b[32m[0107 19:30:45 @monitor.py:459]\u001b[0m valid_acc: 0.97549\n",
      "\u001b[32m[0107 19:30:45 @monitor.py:459]\u001b[0m valid_dice: 0.85733\n",
      "\u001b[32m[0107 19:30:45 @monitor.py:459]\u001b[0m valid_dice_Endothelium: 0.63837\n",
      "\u001b[32m[0107 19:30:45 @monitor.py:459]\u001b[0m valid_dice_Grade1: 0.76178\n",
      "\u001b[32m[0107 19:30:45 @monitor.py:459]\u001b[0m valid_dice_Grade2: 0.53126\n",
      "\u001b[32m[0107 19:30:45 @monitor.py:459]\u001b[0m valid_dice_Grade3: 0.72803\n",
      "\u001b[32m[0107 19:30:45 @monitor.py:459]\u001b[0m valid_mae: 0.041625\n",
      "\u001b[32m[0107 19:30:45 @monitor.py:459]\u001b[0m valid_mean_dice: 0.66486\n",
      "\u001b[32m[0107 19:30:45 @monitor.py:459]\u001b[0m valid_ssim: 1.5454\n",
      "\u001b[32m[0107 19:30:45 @group.py:48]\u001b[0m Callbacks took 19.568 sec in total. DataParallelInferenceRunner: 18.7 seconds\n",
      "\u001b[32m[0107 19:30:45 @base.py:272]\u001b[0m Start Epoch 35 ...\n"
     ]
    },
    {
     "name": "stderr",
     "output_type": "stream",
     "text": [
      "100%|##########|466/466[04:31<00:00, 1.72it/s]"
     ]
    },
    {
     "name": "stdout",
     "output_type": "stream",
     "text": [
      "\u001b[32m[0107 19:35:16 @base.py:282]\u001b[0m Epoch 35 (global_step 33810) finished, time:4 minutes 31 seconds.\n"
     ]
    },
    {
     "name": "stderr",
     "output_type": "stream",
     "text": [
      "\n"
     ]
    },
    {
     "name": "stdout",
     "output_type": "stream",
     "text": [
      "\u001b[32m[0107 19:35:17 @saver.py:77]\u001b[0m Model saved to ./logs//High_CCRCC//hcnet_mix_dist_v/01/model-33810.\n"
     ]
    },
    {
     "name": "stderr",
     "output_type": "stream",
     "text": [
      "100%|##########|67/67[00:13<00:00, 4.82it/s]\n"
     ]
    },
    {
     "name": "stdout",
     "output_type": "stream",
     "text": [
      "\u001b[32m[0107 19:35:35 @monitor.py:459]\u001b[0m DataParallelInferenceRunner/QueueInput/queue_size: 49.782\n",
      "\u001b[32m[0107 19:35:35 @monitor.py:459]\u001b[0m QueueInput/queue_size: 49.993\n",
      "\u001b[32m[0107 19:35:35 @monitor.py:459]\u001b[0m learning_rate: 1e-05\n",
      "\u001b[32m[0107 19:35:35 @monitor.py:459]\u001b[0m loss-ce: 0.077397\n",
      "\u001b[32m[0107 19:35:36 @monitor.py:459]\u001b[0m loss-ce-12v3: 0.066807\n",
      "\u001b[32m[0107 19:35:36 @monitor.py:459]\u001b[0m loss-ce-1v23: 0.071848\n",
      "\u001b[32m[0107 19:35:36 @monitor.py:459]\u001b[0m loss-dice: 2.1032\n",
      "\u001b[32m[0107 19:35:36 @monitor.py:459]\u001b[0m loss-dice-12v3: 1.3972\n",
      "\u001b[32m[0107 19:35:36 @monitor.py:459]\u001b[0m loss-dice-1v23: 1.2421\n",
      "\u001b[32m[0107 19:35:36 @monitor.py:459]\u001b[0m loss-reg-mae: 0.01189\n",
      "\u001b[32m[0107 19:35:36 @monitor.py:459]\u001b[0m valid_acc: 0.97562\n",
      "\u001b[32m[0107 19:35:36 @monitor.py:459]\u001b[0m valid_dice: 0.85722\n",
      "\u001b[32m[0107 19:35:36 @monitor.py:459]\u001b[0m valid_dice_Endothelium: 0.6399\n",
      "\u001b[32m[0107 19:35:36 @monitor.py:459]\u001b[0m valid_dice_Grade1: 0.76405\n",
      "\u001b[32m[0107 19:35:36 @monitor.py:459]\u001b[0m valid_dice_Grade2: 0.52959\n",
      "\u001b[32m[0107 19:35:36 @monitor.py:459]\u001b[0m valid_dice_Grade3: 0.72626\n",
      "\u001b[32m[0107 19:35:36 @monitor.py:459]\u001b[0m valid_mae: 0.040661\n",
      "\u001b[32m[0107 19:35:36 @monitor.py:459]\u001b[0m valid_mean_dice: 0.66495\n",
      "\u001b[32m[0107 19:35:36 @monitor.py:459]\u001b[0m valid_ssim: 1.5491\n",
      "\u001b[32m[0107 19:35:36 @group.py:48]\u001b[0m Callbacks took 19.458 sec in total. DataParallelInferenceRunner: 18.6 seconds\n",
      "\u001b[32m[0107 19:35:36 @base.py:272]\u001b[0m Start Epoch 36 ...\n"
     ]
    },
    {
     "name": "stderr",
     "output_type": "stream",
     "text": [
      "100%|##########|466/466[04:31<00:00, 1.72it/s]"
     ]
    },
    {
     "name": "stdout",
     "output_type": "stream",
     "text": [
      "\u001b[32m[0107 19:40:07 @base.py:282]\u001b[0m Epoch 36 (global_step 34276) finished, time:4 minutes 31 seconds.\n"
     ]
    },
    {
     "name": "stderr",
     "output_type": "stream",
     "text": [
      "\n"
     ]
    },
    {
     "name": "stdout",
     "output_type": "stream",
     "text": [
      "\u001b[32m[0107 19:40:08 @saver.py:77]\u001b[0m Model saved to ./logs//High_CCRCC//hcnet_mix_dist_v/01/model-34276.\n"
     ]
    },
    {
     "name": "stderr",
     "output_type": "stream",
     "text": [
      "100%|##########|67/67[00:14<00:00, 4.77it/s]\n"
     ]
    },
    {
     "name": "stdout",
     "output_type": "stream",
     "text": [
      "\u001b[32m[0107 19:40:27 @saver.py:159]\u001b[0m Model at global_step=34276 with maximum valid_dice=0.8597 saved.\n",
      "\u001b[32m[0107 19:40:27 @monitor.py:459]\u001b[0m DataParallelInferenceRunner/QueueInput/queue_size: 49.82\n",
      "\u001b[32m[0107 19:40:27 @monitor.py:459]\u001b[0m QueueInput/queue_size: 49.993\n",
      "\u001b[32m[0107 19:40:27 @monitor.py:459]\u001b[0m learning_rate: 1e-05\n",
      "\u001b[32m[0107 19:40:27 @monitor.py:459]\u001b[0m loss-ce: 0.091434\n",
      "\u001b[32m[0107 19:40:27 @monitor.py:459]\u001b[0m loss-ce-12v3: 0.077244\n",
      "\u001b[32m[0107 19:40:27 @monitor.py:459]\u001b[0m loss-ce-1v23: 0.085634\n",
      "\u001b[32m[0107 19:40:27 @monitor.py:459]\u001b[0m loss-dice: 1.9927\n",
      "\u001b[32m[0107 19:40:27 @monitor.py:459]\u001b[0m loss-dice-12v3: 1.3077\n",
      "\u001b[32m[0107 19:40:27 @monitor.py:459]\u001b[0m loss-dice-1v23: 1.2343\n",
      "\u001b[32m[0107 19:40:27 @monitor.py:459]\u001b[0m loss-reg-mae: 1.7151\n",
      "\u001b[32m[0107 19:40:27 @monitor.py:459]\u001b[0m valid_acc: 0.97577\n",
      "\u001b[32m[0107 19:40:27 @monitor.py:459]\u001b[0m valid_dice: 0.8597\n",
      "\u001b[32m[0107 19:40:27 @monitor.py:459]\u001b[0m valid_dice_Endothelium: 0.63795\n",
      "\u001b[32m[0107 19:40:27 @monitor.py:459]\u001b[0m valid_dice_Grade1: 0.76877\n",
      "\u001b[32m[0107 19:40:27 @monitor.py:459]\u001b[0m valid_dice_Grade2: 0.52645\n",
      "\u001b[32m[0107 19:40:27 @monitor.py:459]\u001b[0m valid_dice_Grade3: 0.73231\n",
      "\u001b[32m[0107 19:40:27 @monitor.py:459]\u001b[0m valid_mae: 0.042036\n",
      "\u001b[32m[0107 19:40:27 @monitor.py:459]\u001b[0m valid_mean_dice: 0.66637\n",
      "\u001b[32m[0107 19:40:27 @monitor.py:459]\u001b[0m valid_ssim: 1.5416\n",
      "\u001b[32m[0107 19:40:27 @group.py:48]\u001b[0m Callbacks took 20.370 sec in total. DataParallelInferenceRunner: 18.9 seconds\n",
      "\u001b[32m[0107 19:40:27 @base.py:272]\u001b[0m Start Epoch 37 ...\n"
     ]
    },
    {
     "name": "stderr",
     "output_type": "stream",
     "text": [
      "100%|##########|466/466[04:31<00:00, 1.72it/s]"
     ]
    },
    {
     "name": "stdout",
     "output_type": "stream",
     "text": [
      "\u001b[32m[0107 19:44:58 @base.py:282]\u001b[0m Epoch 37 (global_step 34742) finished, time:4 minutes 31 seconds.\n"
     ]
    },
    {
     "name": "stderr",
     "output_type": "stream",
     "text": [
      "\n"
     ]
    },
    {
     "name": "stdout",
     "output_type": "stream",
     "text": [
      "\u001b[32m[0107 19:44:59 @saver.py:77]\u001b[0m Model saved to ./logs//High_CCRCC//hcnet_mix_dist_v/01/model-34742.\n"
     ]
    },
    {
     "name": "stderr",
     "output_type": "stream",
     "text": [
      "100%|##########|67/67[00:13<00:00, 4.79it/s]\n"
     ]
    },
    {
     "name": "stdout",
     "output_type": "stream",
     "text": [
      "\u001b[32m[0107 19:45:18 @monitor.py:459]\u001b[0m DataParallelInferenceRunner/QueueInput/queue_size: 49.996\n",
      "\u001b[32m[0107 19:45:18 @monitor.py:459]\u001b[0m QueueInput/queue_size: 49.715\n",
      "\u001b[32m[0107 19:45:18 @monitor.py:459]\u001b[0m learning_rate: 1e-05\n",
      "\u001b[32m[0107 19:45:18 @monitor.py:459]\u001b[0m loss-ce: 0.077671\n",
      "\u001b[32m[0107 19:45:18 @monitor.py:459]\u001b[0m loss-ce-12v3: 0.067414\n",
      "\u001b[32m[0107 19:45:18 @monitor.py:459]\u001b[0m loss-ce-1v23: 0.07378\n",
      "\u001b[32m[0107 19:45:18 @monitor.py:459]\u001b[0m loss-dice: 2.1661\n",
      "\u001b[32m[0107 19:45:18 @monitor.py:459]\u001b[0m loss-dice-12v3: 1.4365\n",
      "\u001b[32m[0107 19:45:18 @monitor.py:459]\u001b[0m loss-dice-1v23: 1.3128\n",
      "\u001b[32m[0107 19:45:18 @monitor.py:459]\u001b[0m loss-reg-mae: 0.012054\n",
      "\u001b[32m[0107 19:45:18 @monitor.py:459]\u001b[0m valid_acc: 0.97561\n",
      "\u001b[32m[0107 19:45:18 @monitor.py:459]\u001b[0m valid_dice: 0.85889\n",
      "\u001b[32m[0107 19:45:18 @monitor.py:459]\u001b[0m valid_dice_Endothelium: 0.64383\n",
      "\u001b[32m[0107 19:45:18 @monitor.py:459]\u001b[0m valid_dice_Grade1: 0.76512\n",
      "\u001b[32m[0107 19:45:18 @monitor.py:459]\u001b[0m valid_dice_Grade2: 0.53454\n",
      "\u001b[32m[0107 19:45:18 @monitor.py:459]\u001b[0m valid_dice_Grade3: 0.73136\n",
      "\u001b[32m[0107 19:45:18 @monitor.py:459]\u001b[0m valid_mae: 0.04217\n",
      "\u001b[32m[0107 19:45:18 @monitor.py:459]\u001b[0m valid_mean_dice: 0.66871\n",
      "\u001b[32m[0107 19:45:18 @monitor.py:459]\u001b[0m valid_ssim: 1.5395\n",
      "\u001b[32m[0107 19:45:18 @group.py:48]\u001b[0m Callbacks took 19.629 sec in total. DataParallelInferenceRunner: 18.7 seconds\n",
      "\u001b[32m[0107 19:45:18 @base.py:272]\u001b[0m Start Epoch 38 ...\n"
     ]
    },
    {
     "name": "stderr",
     "output_type": "stream",
     "text": [
      "100%|##########|466/466[04:31<00:00, 1.72it/s]"
     ]
    },
    {
     "name": "stdout",
     "output_type": "stream",
     "text": [
      "\u001b[32m[0107 19:49:50 @base.py:282]\u001b[0m Epoch 38 (global_step 35208) finished, time:4 minutes 31 seconds.\n"
     ]
    },
    {
     "name": "stderr",
     "output_type": "stream",
     "text": [
      "\n"
     ]
    },
    {
     "name": "stdout",
     "output_type": "stream",
     "text": [
      "\u001b[32m[0107 19:49:51 @saver.py:77]\u001b[0m Model saved to ./logs//High_CCRCC//hcnet_mix_dist_v/01/model-35208.\n"
     ]
    },
    {
     "name": "stderr",
     "output_type": "stream",
     "text": [
      "100%|##########|67/67[00:13<00:00, 4.81it/s]\n"
     ]
    },
    {
     "name": "stdout",
     "output_type": "stream",
     "text": [
      "\u001b[32m[0107 19:50:09 @monitor.py:459]\u001b[0m DataParallelInferenceRunner/QueueInput/queue_size: 49.964\n",
      "\u001b[32m[0107 19:50:09 @monitor.py:459]\u001b[0m QueueInput/queue_size: 49.874\n",
      "\u001b[32m[0107 19:50:09 @monitor.py:459]\u001b[0m learning_rate: 1e-05\n",
      "\u001b[32m[0107 19:50:09 @monitor.py:459]\u001b[0m loss-ce: 0.088266\n",
      "\u001b[32m[0107 19:50:09 @monitor.py:459]\u001b[0m loss-ce-12v3: 0.075321\n",
      "\u001b[32m[0107 19:50:09 @monitor.py:459]\u001b[0m loss-ce-1v23: 0.082706\n",
      "\u001b[32m[0107 19:50:09 @monitor.py:459]\u001b[0m loss-dice: 2.1532\n",
      "\u001b[32m[0107 19:50:09 @monitor.py:459]\u001b[0m loss-dice-12v3: 1.4519\n",
      "\u001b[32m[0107 19:50:09 @monitor.py:459]\u001b[0m loss-dice-1v23: 1.2925\n",
      "\u001b[32m[0107 19:50:09 @monitor.py:459]\u001b[0m loss-reg-mae: 0.022443\n",
      "\u001b[32m[0107 19:50:09 @monitor.py:459]\u001b[0m valid_acc: 0.9755\n",
      "\u001b[32m[0107 19:50:09 @monitor.py:459]\u001b[0m valid_dice: 0.85863\n",
      "\u001b[32m[0107 19:50:09 @monitor.py:459]\u001b[0m valid_dice_Endothelium: 0.64854\n",
      "\u001b[32m[0107 19:50:09 @monitor.py:459]\u001b[0m valid_dice_Grade1: 0.76847\n",
      "\u001b[32m[0107 19:50:09 @monitor.py:459]\u001b[0m valid_dice_Grade2: 0.52829\n",
      "\u001b[32m[0107 19:50:09 @monitor.py:459]\u001b[0m valid_dice_Grade3: 0.72969\n",
      "\u001b[32m[0107 19:50:09 @monitor.py:459]\u001b[0m valid_mae: 0.042624\n",
      "\u001b[32m[0107 19:50:09 @monitor.py:459]\u001b[0m valid_mean_dice: 0.66875\n",
      "\u001b[32m[0107 19:50:09 @monitor.py:459]\u001b[0m valid_ssim: 1.5404\n",
      "\u001b[32m[0107 19:50:09 @group.py:48]\u001b[0m Callbacks took 19.582 sec in total. DataParallelInferenceRunner: 18.7 seconds\n",
      "\u001b[32m[0107 19:50:09 @base.py:272]\u001b[0m Start Epoch 39 ...\n"
     ]
    },
    {
     "name": "stderr",
     "output_type": "stream",
     "text": [
      "100%|##########|466/466[04:31<00:00, 1.72it/s]"
     ]
    },
    {
     "name": "stdout",
     "output_type": "stream",
     "text": [
      "\u001b[32m[0107 19:54:40 @base.py:282]\u001b[0m Epoch 39 (global_step 35674) finished, time:4 minutes 31 seconds.\n"
     ]
    },
    {
     "name": "stderr",
     "output_type": "stream",
     "text": [
      "\n"
     ]
    },
    {
     "name": "stdout",
     "output_type": "stream",
     "text": [
      "\u001b[32m[0107 19:54:42 @saver.py:77]\u001b[0m Model saved to ./logs//High_CCRCC//hcnet_mix_dist_v/01/model-35674.\n"
     ]
    },
    {
     "name": "stderr",
     "output_type": "stream",
     "text": [
      "100%|##########|67/67[00:14<00:00, 4.77it/s]\n"
     ]
    },
    {
     "name": "stdout",
     "output_type": "stream",
     "text": [
      "\u001b[32m[0107 19:55:00 @monitor.py:459]\u001b[0m DataParallelInferenceRunner/QueueInput/queue_size: 49.988\n",
      "\u001b[32m[0107 19:55:00 @monitor.py:459]\u001b[0m QueueInput/queue_size: 49.983\n",
      "\u001b[32m[0107 19:55:00 @monitor.py:459]\u001b[0m learning_rate: 1e-05\n",
      "\u001b[32m[0107 19:55:00 @monitor.py:459]\u001b[0m loss-ce: 0.090362\n",
      "\u001b[32m[0107 19:55:00 @monitor.py:459]\u001b[0m loss-ce-12v3: 0.075309\n",
      "\u001b[32m[0107 19:55:00 @monitor.py:459]\u001b[0m loss-ce-1v23: 0.083876\n",
      "\u001b[32m[0107 19:55:00 @monitor.py:459]\u001b[0m loss-dice: 2.0667\n",
      "\u001b[32m[0107 19:55:00 @monitor.py:459]\u001b[0m loss-dice-12v3: 1.3733\n",
      "\u001b[32m[0107 19:55:00 @monitor.py:459]\u001b[0m loss-dice-1v23: 1.2484\n",
      "\u001b[32m[0107 19:55:00 @monitor.py:459]\u001b[0m loss-reg-mae: 0.013369\n",
      "\u001b[32m[0107 19:55:00 @monitor.py:459]\u001b[0m valid_acc: 0.97557\n",
      "\u001b[32m[0107 19:55:00 @monitor.py:459]\u001b[0m valid_dice: 0.85843\n",
      "\u001b[32m[0107 19:55:00 @monitor.py:459]\u001b[0m valid_dice_Endothelium: 0.642\n",
      "\u001b[32m[0107 19:55:00 @monitor.py:459]\u001b[0m valid_dice_Grade1: 0.76473\n",
      "\u001b[32m[0107 19:55:00 @monitor.py:459]\u001b[0m valid_dice_Grade2: 0.52275\n",
      "\u001b[32m[0107 19:55:00 @monitor.py:459]\u001b[0m valid_dice_Grade3: 0.72669\n",
      "\u001b[32m[0107 19:55:00 @monitor.py:459]\u001b[0m valid_mae: 0.041557\n",
      "\u001b[32m[0107 19:55:00 @monitor.py:459]\u001b[0m valid_mean_dice: 0.66404\n",
      "\u001b[32m[0107 19:55:00 @monitor.py:459]\u001b[0m valid_ssim: 1.5445\n",
      "\u001b[32m[0107 19:55:00 @group.py:48]\u001b[0m Callbacks took 19.805 sec in total. DataParallelInferenceRunner: 18.7 seconds\n",
      "\u001b[32m[0107 19:55:00 @base.py:272]\u001b[0m Start Epoch 40 ...\n"
     ]
    },
    {
     "name": "stderr",
     "output_type": "stream",
     "text": [
      "100%|##########|466/466[04:31<00:00, 1.72it/s]"
     ]
    },
    {
     "name": "stdout",
     "output_type": "stream",
     "text": [
      "\u001b[32m[0107 19:59:32 @base.py:282]\u001b[0m Epoch 40 (global_step 36140) finished, time:4 minutes 31 seconds.\n"
     ]
    },
    {
     "name": "stderr",
     "output_type": "stream",
     "text": [
      "\n"
     ]
    },
    {
     "name": "stdout",
     "output_type": "stream",
     "text": [
      "\u001b[32m[0107 19:59:33 @saver.py:77]\u001b[0m Model saved to ./logs//High_CCRCC//hcnet_mix_dist_v/01/model-36140.\n"
     ]
    },
    {
     "name": "stderr",
     "output_type": "stream",
     "text": [
      "100%|##########|67/67[00:13<00:00, 4.80it/s]\n"
     ]
    },
    {
     "name": "stdout",
     "output_type": "stream",
     "text": [
      "\u001b[32m[0107 19:59:51 @monitor.py:459]\u001b[0m DataParallelInferenceRunner/QueueInput/queue_size: 50\n",
      "\u001b[32m[0107 19:59:51 @monitor.py:459]\u001b[0m QueueInput/queue_size: 49.973\n",
      "\u001b[32m[0107 19:59:51 @monitor.py:459]\u001b[0m learning_rate: 1e-05\n",
      "\u001b[32m[0107 19:59:51 @monitor.py:459]\u001b[0m loss-ce: 0.089243\n",
      "\u001b[32m[0107 19:59:51 @monitor.py:459]\u001b[0m loss-ce-12v3: 0.076279\n",
      "\u001b[32m[0107 19:59:51 @monitor.py:459]\u001b[0m loss-ce-1v23: 0.082024\n",
      "\u001b[32m[0107 19:59:51 @monitor.py:459]\u001b[0m loss-dice: 2.0871\n",
      "\u001b[32m[0107 19:59:51 @monitor.py:459]\u001b[0m loss-dice-12v3: 1.3745\n",
      "\u001b[32m[0107 19:59:51 @monitor.py:459]\u001b[0m loss-dice-1v23: 1.2496\n",
      "\u001b[32m[0107 19:59:51 @monitor.py:459]\u001b[0m loss-reg-mae: 0.097833\n",
      "\u001b[32m[0107 19:59:51 @monitor.py:459]\u001b[0m valid_acc: 0.97559\n",
      "\u001b[32m[0107 19:59:51 @monitor.py:459]\u001b[0m valid_dice: 0.85856\n",
      "\u001b[32m[0107 19:59:51 @monitor.py:459]\u001b[0m valid_dice_Endothelium: 0.63507\n",
      "\u001b[32m[0107 19:59:51 @monitor.py:459]\u001b[0m valid_dice_Grade1: 0.7644\n",
      "\u001b[32m[0107 19:59:51 @monitor.py:459]\u001b[0m valid_dice_Grade2: 0.52721\n",
      "\u001b[32m[0107 19:59:51 @monitor.py:459]\u001b[0m valid_dice_Grade3: 0.72303\n",
      "\u001b[32m[0107 19:59:51 @monitor.py:459]\u001b[0m valid_mae: 0.041886\n",
      "\u001b[32m[0107 19:59:51 @monitor.py:459]\u001b[0m valid_mean_dice: 0.66243\n",
      "\u001b[32m[0107 19:59:51 @monitor.py:459]\u001b[0m valid_ssim: 1.5445\n",
      "\u001b[32m[0107 19:59:51 @group.py:48]\u001b[0m Callbacks took 19.562 sec in total. DataParallelInferenceRunner: 18.7 seconds\n",
      "\u001b[32m[0107 19:59:51 @base.py:272]\u001b[0m Start Epoch 41 ...\n"
     ]
    },
    {
     "name": "stderr",
     "output_type": "stream",
     "text": [
      "100%|##########|466/466[04:31<00:00, 1.72it/s]"
     ]
    },
    {
     "name": "stdout",
     "output_type": "stream",
     "text": [
      "\u001b[32m[0107 20:04:23 @base.py:282]\u001b[0m Epoch 41 (global_step 36606) finished, time:4 minutes 31 seconds.\n"
     ]
    },
    {
     "name": "stderr",
     "output_type": "stream",
     "text": [
      "\n"
     ]
    },
    {
     "name": "stdout",
     "output_type": "stream",
     "text": [
      "\u001b[32m[0107 20:04:23 @saver.py:77]\u001b[0m Model saved to ./logs//High_CCRCC//hcnet_mix_dist_v/01/model-36606.\n"
     ]
    },
    {
     "name": "stderr",
     "output_type": "stream",
     "text": [
      "100%|##########|67/67[00:13<00:00, 4.81it/s]\n"
     ]
    },
    {
     "name": "stdout",
     "output_type": "stream",
     "text": [
      "\u001b[32m[0107 20:04:42 @monitor.py:459]\u001b[0m DataParallelInferenceRunner/QueueInput/queue_size: 49.956\n",
      "\u001b[32m[0107 20:04:42 @monitor.py:459]\u001b[0m QueueInput/queue_size: 49.999\n",
      "\u001b[32m[0107 20:04:42 @monitor.py:459]\u001b[0m learning_rate: 1e-05\n",
      "\u001b[32m[0107 20:04:42 @monitor.py:459]\u001b[0m loss-ce: 0.079206\n",
      "\u001b[32m[0107 20:04:42 @monitor.py:459]\u001b[0m loss-ce-12v3: 0.066828\n",
      "\u001b[32m[0107 20:04:42 @monitor.py:459]\u001b[0m loss-ce-1v23: 0.074276\n",
      "\u001b[32m[0107 20:04:42 @monitor.py:459]\u001b[0m loss-dice: 2.1734\n",
      "\u001b[32m[0107 20:04:42 @monitor.py:459]\u001b[0m loss-dice-12v3: 1.5186\n",
      "\u001b[32m[0107 20:04:42 @monitor.py:459]\u001b[0m loss-dice-1v23: 1.2734\n",
      "\u001b[32m[0107 20:04:42 @monitor.py:459]\u001b[0m loss-reg-mae: 0.012081\n",
      "\u001b[32m[0107 20:04:42 @monitor.py:459]\u001b[0m valid_acc: 0.97566\n",
      "\u001b[32m[0107 20:04:42 @monitor.py:459]\u001b[0m valid_dice: 0.85862\n",
      "\u001b[32m[0107 20:04:42 @monitor.py:459]\u001b[0m valid_dice_Endothelium: 0.64086\n",
      "\u001b[32m[0107 20:04:42 @monitor.py:459]\u001b[0m valid_dice_Grade1: 0.76445\n",
      "\u001b[32m[0107 20:04:42 @monitor.py:459]\u001b[0m valid_dice_Grade2: 0.52936\n",
      "\u001b[32m[0107 20:04:42 @monitor.py:459]\u001b[0m valid_dice_Grade3: 0.72597\n",
      "\u001b[32m[0107 20:04:42 @monitor.py:459]\u001b[0m valid_mae: 0.041768\n",
      "\u001b[32m[0107 20:04:42 @monitor.py:459]\u001b[0m valid_mean_dice: 0.66516\n",
      "\u001b[32m[0107 20:04:42 @monitor.py:459]\u001b[0m valid_ssim: 1.5446\n",
      "\u001b[32m[0107 20:04:42 @group.py:48]\u001b[0m Callbacks took 19.462 sec in total. DataParallelInferenceRunner: 18.6 seconds\n",
      "\u001b[32m[0107 20:04:42 @base.py:272]\u001b[0m Start Epoch 42 ...\n"
     ]
    },
    {
     "name": "stderr",
     "output_type": "stream",
     "text": [
      "100%|##########|466/466[04:31<00:00, 1.72it/s]"
     ]
    },
    {
     "name": "stdout",
     "output_type": "stream",
     "text": [
      "\u001b[32m[0107 20:09:13 @base.py:282]\u001b[0m Epoch 42 (global_step 37072) finished, time:4 minutes 31 seconds.\n"
     ]
    },
    {
     "name": "stderr",
     "output_type": "stream",
     "text": [
      "\n"
     ]
    },
    {
     "name": "stdout",
     "output_type": "stream",
     "text": [
      "\u001b[32m[0107 20:09:14 @saver.py:77]\u001b[0m Model saved to ./logs//High_CCRCC//hcnet_mix_dist_v/01/model-37072.\n"
     ]
    },
    {
     "name": "stderr",
     "output_type": "stream",
     "text": [
      "100%|##########|67/67[00:13<00:00, 4.80it/s]\n"
     ]
    },
    {
     "name": "stdout",
     "output_type": "stream",
     "text": [
      "\u001b[32m[0107 20:09:33 @monitor.py:459]\u001b[0m DataParallelInferenceRunner/QueueInput/queue_size: 49.792\n",
      "\u001b[32m[0107 20:09:33 @monitor.py:459]\u001b[0m QueueInput/queue_size: 49.437\n",
      "\u001b[32m[0107 20:09:33 @monitor.py:459]\u001b[0m learning_rate: 1e-05\n",
      "\u001b[32m[0107 20:09:33 @monitor.py:459]\u001b[0m loss-ce: 0.081415\n",
      "\u001b[32m[0107 20:09:33 @monitor.py:459]\u001b[0m loss-ce-12v3: 0.070838\n",
      "\u001b[32m[0107 20:09:33 @monitor.py:459]\u001b[0m loss-ce-1v23: 0.076281\n",
      "\u001b[32m[0107 20:09:33 @monitor.py:459]\u001b[0m loss-dice: 2.0259\n",
      "\u001b[32m[0107 20:09:33 @monitor.py:459]\u001b[0m loss-dice-12v3: 1.3189\n",
      "\u001b[32m[0107 20:09:33 @monitor.py:459]\u001b[0m loss-dice-1v23: 1.2087\n",
      "\u001b[32m[0107 20:09:33 @monitor.py:459]\u001b[0m loss-reg-mae: 0.050407\n",
      "\u001b[32m[0107 20:09:33 @monitor.py:459]\u001b[0m valid_acc: 0.97562\n",
      "\u001b[32m[0107 20:09:33 @monitor.py:459]\u001b[0m valid_dice: 0.85901\n",
      "\u001b[32m[0107 20:09:33 @monitor.py:459]\u001b[0m valid_dice_Endothelium: 0.64362\n",
      "\u001b[32m[0107 20:09:33 @monitor.py:459]\u001b[0m valid_dice_Grade1: 0.76782\n",
      "\u001b[32m[0107 20:09:33 @monitor.py:459]\u001b[0m valid_dice_Grade2: 0.53221\n",
      "\u001b[32m[0107 20:09:33 @monitor.py:459]\u001b[0m valid_dice_Grade3: 0.72729\n",
      "\u001b[32m[0107 20:09:33 @monitor.py:459]\u001b[0m valid_mae: 0.041941\n",
      "\u001b[32m[0107 20:09:33 @monitor.py:459]\u001b[0m valid_mean_dice: 0.66773\n",
      "\u001b[32m[0107 20:09:33 @monitor.py:459]\u001b[0m valid_ssim: 1.5391\n",
      "\u001b[32m[0107 20:09:33 @group.py:48]\u001b[0m Callbacks took 19.850 sec in total. DataParallelInferenceRunner: 18.8 seconds\n",
      "\u001b[32m[0107 20:09:33 @base.py:272]\u001b[0m Start Epoch 43 ...\n"
     ]
    },
    {
     "name": "stderr",
     "output_type": "stream",
     "text": [
      "100%|##########|466/466[04:31<00:00, 1.72it/s]"
     ]
    },
    {
     "name": "stdout",
     "output_type": "stream",
     "text": [
      "\u001b[32m[0107 20:14:05 @base.py:282]\u001b[0m Epoch 43 (global_step 37538) finished, time:4 minutes 31 seconds.\n"
     ]
    },
    {
     "name": "stderr",
     "output_type": "stream",
     "text": [
      "\n"
     ]
    },
    {
     "name": "stdout",
     "output_type": "stream",
     "text": [
      "\u001b[32m[0107 20:14:06 @saver.py:77]\u001b[0m Model saved to ./logs//High_CCRCC//hcnet_mix_dist_v/01/model-37538.\n"
     ]
    },
    {
     "name": "stderr",
     "output_type": "stream",
     "text": [
      "100%|##########|67/67[00:13<00:00, 4.82it/s]\n"
     ]
    },
    {
     "name": "stdout",
     "output_type": "stream",
     "text": [
      "\u001b[32m[0107 20:14:24 @monitor.py:459]\u001b[0m DataParallelInferenceRunner/QueueInput/queue_size: 49.804\n",
      "\u001b[32m[0107 20:14:24 @monitor.py:459]\u001b[0m QueueInput/queue_size: 49.987\n",
      "\u001b[32m[0107 20:14:24 @monitor.py:459]\u001b[0m learning_rate: 1e-05\n",
      "\u001b[32m[0107 20:14:24 @monitor.py:459]\u001b[0m loss-ce: 0.089157\n",
      "\u001b[32m[0107 20:14:24 @monitor.py:459]\u001b[0m loss-ce-12v3: 0.074832\n",
      "\u001b[32m[0107 20:14:24 @monitor.py:459]\u001b[0m loss-ce-1v23: 0.082676\n",
      "\u001b[32m[0107 20:14:24 @monitor.py:459]\u001b[0m loss-dice: 2.0746\n",
      "\u001b[32m[0107 20:14:24 @monitor.py:459]\u001b[0m loss-dice-12v3: 1.4008\n",
      "\u001b[32m[0107 20:14:24 @monitor.py:459]\u001b[0m loss-dice-1v23: 1.2479\n",
      "\u001b[32m[0107 20:14:24 @monitor.py:459]\u001b[0m loss-reg-mae: 0.43974\n",
      "\u001b[32m[0107 20:14:24 @monitor.py:459]\u001b[0m valid_acc: 0.97554\n",
      "\u001b[32m[0107 20:14:24 @monitor.py:459]\u001b[0m valid_dice: 0.85859\n",
      "\u001b[32m[0107 20:14:24 @monitor.py:459]\u001b[0m valid_dice_Endothelium: 0.64252\n",
      "\u001b[32m[0107 20:14:24 @monitor.py:459]\u001b[0m valid_dice_Grade1: 0.76646\n",
      "\u001b[32m[0107 20:14:24 @monitor.py:459]\u001b[0m valid_dice_Grade2: 0.5341\n",
      "\u001b[32m[0107 20:14:24 @monitor.py:459]\u001b[0m valid_dice_Grade3: 0.72695\n",
      "\u001b[32m[0107 20:14:24 @monitor.py:459]\u001b[0m valid_mae: 0.042157\n",
      "\u001b[32m[0107 20:14:24 @monitor.py:459]\u001b[0m valid_mean_dice: 0.66751\n",
      "\u001b[32m[0107 20:14:24 @monitor.py:459]\u001b[0m valid_ssim: 1.54\n",
      "\u001b[32m[0107 20:14:24 @group.py:48]\u001b[0m Callbacks took 19.491 sec in total. DataParallelInferenceRunner: 18.6 seconds\n",
      "\u001b[32m[0107 20:14:24 @base.py:272]\u001b[0m Start Epoch 44 ...\n"
     ]
    },
    {
     "name": "stderr",
     "output_type": "stream",
     "text": [
      "100%|##########|466/466[04:31<00:00, 1.72it/s]"
     ]
    },
    {
     "name": "stdout",
     "output_type": "stream",
     "text": [
      "\u001b[32m[0107 20:18:56 @base.py:282]\u001b[0m Epoch 44 (global_step 38004) finished, time:4 minutes 31 seconds.\n"
     ]
    },
    {
     "name": "stderr",
     "output_type": "stream",
     "text": [
      "\n"
     ]
    },
    {
     "name": "stdout",
     "output_type": "stream",
     "text": [
      "\u001b[32m[0107 20:18:56 @saver.py:77]\u001b[0m Model saved to ./logs//High_CCRCC//hcnet_mix_dist_v/01/model-38004.\n"
     ]
    },
    {
     "name": "stderr",
     "output_type": "stream",
     "text": [
      "100%|##########|67/67[00:13<00:00, 4.82it/s]\n"
     ]
    },
    {
     "name": "stdout",
     "output_type": "stream",
     "text": [
      "\u001b[32m[0107 20:19:15 @monitor.py:459]\u001b[0m DataParallelInferenceRunner/QueueInput/queue_size: 49.99\n",
      "\u001b[32m[0107 20:19:15 @monitor.py:459]\u001b[0m QueueInput/queue_size: 49.898\n",
      "\u001b[32m[0107 20:19:15 @monitor.py:459]\u001b[0m learning_rate: 1e-05\n",
      "\u001b[32m[0107 20:19:15 @monitor.py:459]\u001b[0m loss-ce: 0.087918\n",
      "\u001b[32m[0107 20:19:15 @monitor.py:459]\u001b[0m loss-ce-12v3: 0.072672\n",
      "\u001b[32m[0107 20:19:15 @monitor.py:459]\u001b[0m loss-ce-1v23: 0.081048\n",
      "\u001b[32m[0107 20:19:15 @monitor.py:459]\u001b[0m loss-dice: 2.0796\n",
      "\u001b[32m[0107 20:19:15 @monitor.py:459]\u001b[0m loss-dice-12v3: 1.375\n",
      "\u001b[32m[0107 20:19:15 @monitor.py:459]\u001b[0m loss-dice-1v23: 1.3043\n",
      "\u001b[32m[0107 20:19:15 @monitor.py:459]\u001b[0m loss-reg-mae: 0.01272\n",
      "\u001b[32m[0107 20:19:15 @monitor.py:459]\u001b[0m valid_acc: 0.9758\n",
      "\u001b[32m[0107 20:19:15 @monitor.py:459]\u001b[0m valid_dice: 0.85951\n",
      "\u001b[32m[0107 20:19:15 @monitor.py:459]\u001b[0m valid_dice_Endothelium: 0.64302\n",
      "\u001b[32m[0107 20:19:15 @monitor.py:459]\u001b[0m valid_dice_Grade1: 0.76727\n",
      "\u001b[32m[0107 20:19:15 @monitor.py:459]\u001b[0m valid_dice_Grade2: 0.53519\n",
      "\u001b[32m[0107 20:19:15 @monitor.py:459]\u001b[0m valid_dice_Grade3: 0.73046\n",
      "\u001b[32m[0107 20:19:15 @monitor.py:459]\u001b[0m valid_mae: 0.041758\n",
      "\u001b[32m[0107 20:19:15 @monitor.py:459]\u001b[0m valid_mean_dice: 0.66899\n",
      "\u001b[32m[0107 20:19:15 @monitor.py:459]\u001b[0m valid_ssim: 1.5451\n",
      "\u001b[32m[0107 20:19:15 @group.py:48]\u001b[0m Callbacks took 19.539 sec in total. DataParallelInferenceRunner: 18.7 seconds\n",
      "\u001b[32m[0107 20:19:15 @base.py:272]\u001b[0m Start Epoch 45 ...\n"
     ]
    },
    {
     "name": "stderr",
     "output_type": "stream",
     "text": [
      "100%|##########|466/466[04:31<00:00, 1.72it/s]"
     ]
    },
    {
     "name": "stdout",
     "output_type": "stream",
     "text": [
      "\u001b[32m[0107 20:23:46 @base.py:282]\u001b[0m Epoch 45 (global_step 38470) finished, time:4 minutes 31 seconds.\n"
     ]
    },
    {
     "name": "stderr",
     "output_type": "stream",
     "text": [
      "\n"
     ]
    },
    {
     "name": "stdout",
     "output_type": "stream",
     "text": [
      "\u001b[32m[0107 20:23:47 @saver.py:77]\u001b[0m Model saved to ./logs//High_CCRCC//hcnet_mix_dist_v/01/model-38470.\n"
     ]
    },
    {
     "name": "stderr",
     "output_type": "stream",
     "text": [
      "100%|##########|67/67[00:13<00:00, 4.82it/s]\n"
     ]
    },
    {
     "name": "stdout",
     "output_type": "stream",
     "text": [
      "\u001b[32m[0107 20:24:06 @monitor.py:459]\u001b[0m DataParallelInferenceRunner/QueueInput/queue_size: 49.87\n",
      "\u001b[32m[0107 20:24:06 @monitor.py:459]\u001b[0m QueueInput/queue_size: 49.49\n",
      "\u001b[32m[0107 20:24:06 @monitor.py:459]\u001b[0m learning_rate: 1e-05\n",
      "\u001b[32m[0107 20:24:06 @monitor.py:459]\u001b[0m loss-ce: 0.08243\n",
      "\u001b[32m[0107 20:24:06 @monitor.py:459]\u001b[0m loss-ce-12v3: 0.069131\n",
      "\u001b[32m[0107 20:24:06 @monitor.py:459]\u001b[0m loss-ce-1v23: 0.077511\n",
      "\u001b[32m[0107 20:24:06 @monitor.py:459]\u001b[0m loss-dice: 2.1767\n",
      "\u001b[32m[0107 20:24:06 @monitor.py:459]\u001b[0m loss-dice-12v3: 1.4565\n",
      "\u001b[32m[0107 20:24:06 @monitor.py:459]\u001b[0m loss-dice-1v23: 1.2807\n",
      "\u001b[32m[0107 20:24:06 @monitor.py:459]\u001b[0m loss-reg-mae: 0.012649\n",
      "\u001b[32m[0107 20:24:06 @monitor.py:459]\u001b[0m valid_acc: 0.97554\n",
      "\u001b[32m[0107 20:24:06 @monitor.py:459]\u001b[0m valid_dice: 0.85864\n",
      "\u001b[32m[0107 20:24:06 @monitor.py:459]\u001b[0m valid_dice_Endothelium: 0.64421\n",
      "\u001b[32m[0107 20:24:06 @monitor.py:459]\u001b[0m valid_dice_Grade1: 0.76186\n",
      "\u001b[32m[0107 20:24:06 @monitor.py:459]\u001b[0m valid_dice_Grade2: 0.52273\n",
      "\u001b[32m[0107 20:24:06 @monitor.py:459]\u001b[0m valid_dice_Grade3: 0.72674\n",
      "\u001b[32m[0107 20:24:06 @monitor.py:459]\u001b[0m valid_mae: 0.042279\n",
      "\u001b[32m[0107 20:24:06 @monitor.py:459]\u001b[0m valid_mean_dice: 0.66388\n",
      "\u001b[32m[0107 20:24:06 @monitor.py:459]\u001b[0m valid_ssim: 1.5444\n",
      "\u001b[32m[0107 20:24:06 @group.py:48]\u001b[0m Callbacks took 19.473 sec in total. DataParallelInferenceRunner: 18.6 seconds\n",
      "\u001b[32m[0107 20:24:06 @base.py:272]\u001b[0m Start Epoch 46 ...\n"
     ]
    },
    {
     "name": "stderr",
     "output_type": "stream",
     "text": [
      "100%|##########|466/466[04:31<00:00, 1.72it/s]"
     ]
    },
    {
     "name": "stdout",
     "output_type": "stream",
     "text": [
      "\u001b[32m[0107 20:28:37 @base.py:282]\u001b[0m Epoch 46 (global_step 38936) finished, time:4 minutes 31 seconds.\n"
     ]
    },
    {
     "name": "stderr",
     "output_type": "stream",
     "text": [
      "\n"
     ]
    },
    {
     "name": "stdout",
     "output_type": "stream",
     "text": [
      "\u001b[32m[0107 20:28:38 @saver.py:77]\u001b[0m Model saved to ./logs//High_CCRCC//hcnet_mix_dist_v/01/model-38936.\n"
     ]
    },
    {
     "name": "stderr",
     "output_type": "stream",
     "text": [
      "100%|##########|67/67[00:13<00:00, 4.80it/s]\n"
     ]
    },
    {
     "name": "stdout",
     "output_type": "stream",
     "text": [
      "\u001b[32m[0107 20:28:56 @monitor.py:459]\u001b[0m DataParallelInferenceRunner/QueueInput/queue_size: 49.999\n",
      "\u001b[32m[0107 20:28:56 @monitor.py:459]\u001b[0m QueueInput/queue_size: 49.475\n",
      "\u001b[32m[0107 20:28:56 @monitor.py:459]\u001b[0m learning_rate: 1e-05\n",
      "\u001b[32m[0107 20:28:56 @monitor.py:459]\u001b[0m loss-ce: 0.086314\n",
      "\u001b[32m[0107 20:28:56 @monitor.py:459]\u001b[0m loss-ce-12v3: 0.076447\n",
      "\u001b[32m[0107 20:28:56 @monitor.py:459]\u001b[0m loss-ce-1v23: 0.081332\n",
      "\u001b[32m[0107 20:28:56 @monitor.py:459]\u001b[0m loss-dice: 2.1291\n",
      "\u001b[32m[0107 20:28:56 @monitor.py:459]\u001b[0m loss-dice-12v3: 1.4357\n",
      "\u001b[32m[0107 20:28:56 @monitor.py:459]\u001b[0m loss-dice-1v23: 1.2997\n",
      "\u001b[32m[0107 20:28:56 @monitor.py:459]\u001b[0m loss-reg-mae: 0.015379\n",
      "\u001b[32m[0107 20:28:56 @monitor.py:459]\u001b[0m valid_acc: 0.97555\n",
      "\u001b[32m[0107 20:28:56 @monitor.py:459]\u001b[0m valid_dice: 0.8591\n",
      "\u001b[32m[0107 20:28:56 @monitor.py:459]\u001b[0m valid_dice_Endothelium: 0.6479\n",
      "\u001b[32m[0107 20:28:56 @monitor.py:459]\u001b[0m valid_dice_Grade1: 0.76508\n",
      "\u001b[32m[0107 20:28:56 @monitor.py:459]\u001b[0m valid_dice_Grade2: 0.52231\n",
      "\u001b[32m[0107 20:28:56 @monitor.py:459]\u001b[0m valid_dice_Grade3: 0.72371\n",
      "\u001b[32m[0107 20:28:56 @monitor.py:459]\u001b[0m valid_mae: 0.042819\n",
      "\u001b[32m[0107 20:28:56 @monitor.py:459]\u001b[0m valid_mean_dice: 0.66475\n",
      "\u001b[32m[0107 20:28:56 @monitor.py:459]\u001b[0m valid_ssim: 1.5373\n",
      "\u001b[32m[0107 20:28:56 @group.py:48]\u001b[0m Callbacks took 19.485 sec in total. DataParallelInferenceRunner: 18.6 seconds\n",
      "\u001b[32m[0107 20:28:56 @base.py:272]\u001b[0m Start Epoch 47 ...\n"
     ]
    },
    {
     "name": "stderr",
     "output_type": "stream",
     "text": [
      "100%|##########|466/466[04:31<00:00, 1.72it/s]"
     ]
    },
    {
     "name": "stdout",
     "output_type": "stream",
     "text": [
      "\u001b[32m[0107 20:33:28 @base.py:282]\u001b[0m Epoch 47 (global_step 39402) finished, time:4 minutes 31 seconds.\n"
     ]
    },
    {
     "name": "stderr",
     "output_type": "stream",
     "text": [
      "\n"
     ]
    },
    {
     "name": "stdout",
     "output_type": "stream",
     "text": [
      "\u001b[32m[0107 20:33:28 @saver.py:77]\u001b[0m Model saved to ./logs//High_CCRCC//hcnet_mix_dist_v/01/model-39402.\n"
     ]
    },
    {
     "name": "stderr",
     "output_type": "stream",
     "text": [
      "100%|##########|67/67[00:13<00:00, 4.81it/s]\n"
     ]
    },
    {
     "name": "stdout",
     "output_type": "stream",
     "text": [
      "\u001b[32m[0107 20:33:47 @monitor.py:459]\u001b[0m DataParallelInferenceRunner/QueueInput/queue_size: 49.952\n",
      "\u001b[32m[0107 20:33:47 @monitor.py:459]\u001b[0m QueueInput/queue_size: 49.907\n",
      "\u001b[32m[0107 20:33:47 @monitor.py:459]\u001b[0m learning_rate: 1e-05\n",
      "\u001b[32m[0107 20:33:47 @monitor.py:459]\u001b[0m loss-ce: 0.09244\n",
      "\u001b[32m[0107 20:33:47 @monitor.py:459]\u001b[0m loss-ce-12v3: 0.078929\n",
      "\u001b[32m[0107 20:33:47 @monitor.py:459]\u001b[0m loss-ce-1v23: 0.085897\n",
      "\u001b[32m[0107 20:33:47 @monitor.py:459]\u001b[0m loss-dice: 2.1248\n",
      "\u001b[32m[0107 20:33:47 @monitor.py:459]\u001b[0m loss-dice-12v3: 1.4659\n",
      "\u001b[32m[0107 20:33:47 @monitor.py:459]\u001b[0m loss-dice-1v23: 1.2569\n",
      "\u001b[32m[0107 20:33:47 @monitor.py:459]\u001b[0m loss-reg-mae: 0.015012\n",
      "\u001b[32m[0107 20:33:47 @monitor.py:459]\u001b[0m valid_acc: 0.97551\n",
      "\u001b[32m[0107 20:33:47 @monitor.py:459]\u001b[0m valid_dice: 0.85692\n",
      "\u001b[32m[0107 20:33:47 @monitor.py:459]\u001b[0m valid_dice_Endothelium: 0.6387\n",
      "\u001b[32m[0107 20:33:47 @monitor.py:459]\u001b[0m valid_dice_Grade1: 0.76328\n",
      "\u001b[32m[0107 20:33:47 @monitor.py:459]\u001b[0m valid_dice_Grade2: 0.52349\n",
      "\u001b[32m[0107 20:33:47 @monitor.py:459]\u001b[0m valid_dice_Grade3: 0.72461\n",
      "\u001b[32m[0107 20:33:47 @monitor.py:459]\u001b[0m valid_mae: 0.041801\n",
      "\u001b[32m[0107 20:33:47 @monitor.py:459]\u001b[0m valid_mean_dice: 0.66252\n",
      "\u001b[32m[0107 20:33:47 @monitor.py:459]\u001b[0m valid_ssim: 1.5409\n",
      "\u001b[32m[0107 20:33:47 @group.py:48]\u001b[0m Callbacks took 19.421 sec in total. DataParallelInferenceRunner: 18.6 seconds\n",
      "\u001b[32m[0107 20:33:47 @base.py:272]\u001b[0m Start Epoch 48 ...\n"
     ]
    },
    {
     "name": "stderr",
     "output_type": "stream",
     "text": [
      "100%|##########|466/466[04:31<00:00, 1.72it/s]"
     ]
    },
    {
     "name": "stdout",
     "output_type": "stream",
     "text": [
      "\u001b[32m[0107 20:38:18 @base.py:282]\u001b[0m Epoch 48 (global_step 39868) finished, time:4 minutes 31 seconds.\n"
     ]
    },
    {
     "name": "stderr",
     "output_type": "stream",
     "text": [
      "\n"
     ]
    },
    {
     "name": "stdout",
     "output_type": "stream",
     "text": [
      "\u001b[32m[0107 20:38:19 @saver.py:77]\u001b[0m Model saved to ./logs//High_CCRCC//hcnet_mix_dist_v/01/model-39868.\n"
     ]
    },
    {
     "name": "stderr",
     "output_type": "stream",
     "text": [
      "100%|##########|67/67[00:13<00:00, 4.81it/s]\n"
     ]
    },
    {
     "name": "stdout",
     "output_type": "stream",
     "text": [
      "\u001b[32m[0107 20:38:38 @monitor.py:459]\u001b[0m DataParallelInferenceRunner/QueueInput/queue_size: 49.996\n",
      "\u001b[32m[0107 20:38:38 @monitor.py:459]\u001b[0m QueueInput/queue_size: 49.232\n",
      "\u001b[32m[0107 20:38:38 @monitor.py:459]\u001b[0m learning_rate: 1e-05\n",
      "\u001b[32m[0107 20:38:38 @monitor.py:459]\u001b[0m loss-ce: 0.087577\n",
      "\u001b[32m[0107 20:38:38 @monitor.py:459]\u001b[0m loss-ce-12v3: 0.074756\n",
      "\u001b[32m[0107 20:38:38 @monitor.py:459]\u001b[0m loss-ce-1v23: 0.082155\n",
      "\u001b[32m[0107 20:38:38 @monitor.py:459]\u001b[0m loss-dice: 2.0484\n",
      "\u001b[32m[0107 20:38:38 @monitor.py:459]\u001b[0m loss-dice-12v3: 1.3625\n",
      "\u001b[32m[0107 20:38:38 @monitor.py:459]\u001b[0m loss-dice-1v23: 1.2341\n",
      "\u001b[32m[0107 20:38:38 @monitor.py:459]\u001b[0m loss-reg-mae: 0.15588\n",
      "\u001b[32m[0107 20:38:38 @monitor.py:459]\u001b[0m valid_acc: 0.97567\n",
      "\u001b[32m[0107 20:38:38 @monitor.py:459]\u001b[0m valid_dice: 0.85849\n",
      "\u001b[32m[0107 20:38:38 @monitor.py:459]\u001b[0m valid_dice_Endothelium: 0.64526\n",
      "\u001b[32m[0107 20:38:38 @monitor.py:459]\u001b[0m valid_dice_Grade1: 0.76376\n",
      "\u001b[32m[0107 20:38:38 @monitor.py:459]\u001b[0m valid_dice_Grade2: 0.52615\n",
      "\u001b[32m[0107 20:38:38 @monitor.py:459]\u001b[0m valid_dice_Grade3: 0.72078\n",
      "\u001b[32m[0107 20:38:38 @monitor.py:459]\u001b[0m valid_mae: 0.042586\n",
      "\u001b[32m[0107 20:38:38 @monitor.py:459]\u001b[0m valid_mean_dice: 0.66399\n",
      "\u001b[32m[0107 20:38:38 @monitor.py:459]\u001b[0m valid_ssim: 1.5387\n",
      "\u001b[32m[0107 20:38:38 @group.py:48]\u001b[0m Callbacks took 19.851 sec in total. DataParallelInferenceRunner: 19 seconds\n",
      "\u001b[32m[0107 20:38:38 @base.py:272]\u001b[0m Start Epoch 49 ...\n"
     ]
    },
    {
     "name": "stderr",
     "output_type": "stream",
     "text": [
      "100%|##########|466/466[04:30<00:00, 1.72it/s]"
     ]
    },
    {
     "name": "stdout",
     "output_type": "stream",
     "text": [
      "\u001b[32m[0107 20:43:09 @base.py:282]\u001b[0m Epoch 49 (global_step 40334) finished, time:4 minutes 30 seconds.\n"
     ]
    },
    {
     "name": "stderr",
     "output_type": "stream",
     "text": [
      "\n"
     ]
    },
    {
     "name": "stdout",
     "output_type": "stream",
     "text": [
      "\u001b[32m[0107 20:43:10 @saver.py:77]\u001b[0m Model saved to ./logs//High_CCRCC//hcnet_mix_dist_v/01/model-40334.\n"
     ]
    },
    {
     "name": "stderr",
     "output_type": "stream",
     "text": [
      "100%|##########|67/67[00:13<00:00, 4.79it/s]\n"
     ]
    },
    {
     "name": "stdout",
     "output_type": "stream",
     "text": [
      "\u001b[32m[0107 20:43:28 @monitor.py:459]\u001b[0m DataParallelInferenceRunner/QueueInput/queue_size: 49.906\n",
      "\u001b[32m[0107 20:43:28 @monitor.py:459]\u001b[0m QueueInput/queue_size: 49.716\n",
      "\u001b[32m[0107 20:43:28 @monitor.py:459]\u001b[0m learning_rate: 1e-05\n",
      "\u001b[32m[0107 20:43:28 @monitor.py:459]\u001b[0m loss-ce: 0.093495\n",
      "\u001b[32m[0107 20:43:28 @monitor.py:459]\u001b[0m loss-ce-12v3: 0.077314\n",
      "\u001b[32m[0107 20:43:28 @monitor.py:459]\u001b[0m loss-ce-1v23: 0.088698\n",
      "\u001b[32m[0107 20:43:28 @monitor.py:459]\u001b[0m loss-dice: 2.0759\n",
      "\u001b[32m[0107 20:43:28 @monitor.py:459]\u001b[0m loss-dice-12v3: 1.3893\n",
      "\u001b[32m[0107 20:43:28 @monitor.py:459]\u001b[0m loss-dice-1v23: 1.2589\n",
      "\u001b[32m[0107 20:43:28 @monitor.py:459]\u001b[0m loss-reg-mae: 0.013465\n",
      "\u001b[32m[0107 20:43:28 @monitor.py:459]\u001b[0m valid_acc: 0.97546\n",
      "\u001b[32m[0107 20:43:28 @monitor.py:459]\u001b[0m valid_dice: 0.85668\n",
      "\u001b[32m[0107 20:43:28 @monitor.py:459]\u001b[0m valid_dice_Endothelium: 0.64057\n",
      "\u001b[32m[0107 20:43:28 @monitor.py:459]\u001b[0m valid_dice_Grade1: 0.76113\n",
      "\u001b[32m[0107 20:43:28 @monitor.py:459]\u001b[0m valid_dice_Grade2: 0.5242\n",
      "\u001b[32m[0107 20:43:28 @monitor.py:459]\u001b[0m valid_dice_Grade3: 0.72509\n",
      "\u001b[32m[0107 20:43:28 @monitor.py:459]\u001b[0m valid_mae: 0.041839\n",
      "\u001b[32m[0107 20:43:28 @monitor.py:459]\u001b[0m valid_mean_dice: 0.66275\n",
      "\u001b[32m[0107 20:43:28 @monitor.py:459]\u001b[0m valid_ssim: 1.545\n",
      "\u001b[32m[0107 20:43:28 @group.py:48]\u001b[0m Callbacks took 19.445 sec in total. DataParallelInferenceRunner: 18.6 seconds\n",
      "\u001b[32m[0107 20:43:28 @base.py:272]\u001b[0m Start Epoch 50 ...\n"
     ]
    },
    {
     "name": "stderr",
     "output_type": "stream",
     "text": [
      "100%|##########|466/466[04:30<00:00, 1.72it/s]"
     ]
    },
    {
     "name": "stdout",
     "output_type": "stream",
     "text": [
      "\u001b[32m[0107 20:47:59 @base.py:282]\u001b[0m Epoch 50 (global_step 40800) finished, time:4 minutes 30 seconds.\n"
     ]
    },
    {
     "name": "stderr",
     "output_type": "stream",
     "text": [
      "\n"
     ]
    },
    {
     "name": "stdout",
     "output_type": "stream",
     "text": [
      "\u001b[32m[0107 20:48:00 @saver.py:77]\u001b[0m Model saved to ./logs//High_CCRCC//hcnet_mix_dist_v/01/model-40800.\n"
     ]
    },
    {
     "name": "stderr",
     "output_type": "stream",
     "text": [
      "100%|##########|67/67[00:13<00:00, 4.83it/s]\n"
     ]
    },
    {
     "name": "stdout",
     "output_type": "stream",
     "text": [
      "\u001b[32m[0107 20:48:19 @monitor.py:459]\u001b[0m DataParallelInferenceRunner/QueueInput/queue_size: 49.871\n",
      "\u001b[32m[0107 20:48:19 @monitor.py:459]\u001b[0m QueueInput/queue_size: 49.738\n",
      "\u001b[32m[0107 20:48:19 @monitor.py:459]\u001b[0m learning_rate: 1e-05\n",
      "\u001b[32m[0107 20:48:19 @monitor.py:459]\u001b[0m loss-ce: 0.085852\n",
      "\u001b[32m[0107 20:48:19 @monitor.py:459]\u001b[0m loss-ce-12v3: 0.071147\n",
      "\u001b[32m[0107 20:48:19 @monitor.py:459]\u001b[0m loss-ce-1v23: 0.07977\n",
      "\u001b[32m[0107 20:48:19 @monitor.py:459]\u001b[0m loss-dice: 2.0821\n",
      "\u001b[32m[0107 20:48:19 @monitor.py:459]\u001b[0m loss-dice-12v3: 1.3965\n",
      "\u001b[32m[0107 20:48:19 @monitor.py:459]\u001b[0m loss-dice-1v23: 1.2691\n",
      "\u001b[32m[0107 20:48:19 @monitor.py:459]\u001b[0m loss-reg-mae: 0.012815\n",
      "\u001b[32m[0107 20:48:19 @monitor.py:459]\u001b[0m valid_acc: 0.9756\n",
      "\u001b[32m[0107 20:48:19 @monitor.py:459]\u001b[0m valid_dice: 0.85836\n",
      "\u001b[32m[0107 20:48:19 @monitor.py:459]\u001b[0m valid_dice_Endothelium: 0.64253\n",
      "\u001b[32m[0107 20:48:19 @monitor.py:459]\u001b[0m valid_dice_Grade1: 0.76449\n",
      "\u001b[32m[0107 20:48:19 @monitor.py:459]\u001b[0m valid_dice_Grade2: 0.53296\n",
      "\u001b[32m[0107 20:48:19 @monitor.py:459]\u001b[0m valid_dice_Grade3: 0.72757\n",
      "\u001b[32m[0107 20:48:19 @monitor.py:459]\u001b[0m valid_mae: 0.042135\n",
      "\u001b[32m[0107 20:48:19 @monitor.py:459]\u001b[0m valid_mean_dice: 0.66689\n",
      "\u001b[32m[0107 20:48:19 @monitor.py:459]\u001b[0m valid_ssim: 1.5413\n",
      "\u001b[32m[0107 20:48:19 @group.py:48]\u001b[0m Callbacks took 19.473 sec in total. DataParallelInferenceRunner: 18.6 seconds\n",
      "\u001b[32m[0107 20:48:19 @base.py:286]\u001b[0m Training has finished!\n"
     ]
    }
   ],
   "source": [
    "trainer = Trainer()\n",
    "gpus = \"3,6\"\n",
    "os.environ['CUDA_VISIBLE_DEVICES'] = gpus\n",
    "nr_gpus = len(gpus.split(','))\n",
    "trainer.run(nr_gpus)"
   ]
  },
  {
   "cell_type": "code",
   "execution_count": null,
   "metadata": {},
   "outputs": [],
   "source": []
  }
 ],
 "metadata": {
  "kernelspec": {
   "display_name": "Python [conda env:.conda-hovernet] *",
   "language": "python",
   "name": "conda-env-.conda-hovernet-py"
  },
  "language_info": {
   "codemirror_mode": {
    "name": "ipython",
    "version": 3
   },
   "file_extension": ".py",
   "mimetype": "text/x-python",
   "name": "python",
   "nbconvert_exporter": "python",
   "pygments_lexer": "ipython3",
   "version": "3.6.10"
  }
 },
 "nbformat": 4,
 "nbformat_minor": 4
}
