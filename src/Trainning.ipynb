{
 "cells": [
  {
   "cell_type": "code",
   "execution_count": 1,
   "metadata": {},
   "outputs": [],
   "source": [
    "import os\n",
    "from train import Trainer"
   ]
  },
  {
   "cell_type": "code",
   "execution_count": null,
   "metadata": {},
   "outputs": [
    {
     "name": "stdout",
     "output_type": "stream",
     "text": [
      "['/home1/gzy/NucleiSegmentation/High_CCRCC/Train/512x512_256x256_dist/']\n",
      "['/home1/gzy/NucleiSegmentation/High_CCRCC/Valid/512x512_256x256_dist/']\n",
      "[262, 262] [256, 256]\n",
      "\u001b[32m[0618 12:44:13 @parallel.py:293]\u001b[0m [PrefetchDataZMQ] Will fork a dataflow more than one times. This assumes the datapoints are i.i.d.\n",
      "[262, 262] [256, 256]\n",
      "\u001b[32m[0618 12:44:13 @logger.py:108]\u001b[0m \u001b[5m\u001b[31mWRN\u001b[0m Log directory ./logs//High_CCRCC//hcnet_test/00/ exists! Use 'd' to delete it. \n",
      "\u001b[32m[0618 12:44:13 @logger.py:111]\u001b[0m \u001b[5m\u001b[31mWRN\u001b[0m If you're resuming from a previous run, you can choose to keep it.\n",
      "Press any other key to exit. \n",
      "Select Action: k (keep) / d (delete) / q (quit):d\n",
      "\u001b[32m[0618 12:45:07 @logger.py:73]\u001b[0m Argv: /home1/gzy/.conda/envs/hovernet/lib/python3.6/site-packages/ipykernel_launcher.py -f /home1/gzy/.local/share/jupyter/runtime/kernel-1cf35e4c-a388-498e-958e-bfabce9208ac.json\n",
      "['/home1/gzy/NucleiSegmentation/High_CCRCC/Train/512x512_256x256_dist/']\n",
      "['/home1/gzy/NucleiSegmentation/High_CCRCC/Valid/512x512_256x256_dist/']\n",
      "['/home1/gzy/NucleiSegmentation/High_CCRCC/Train/512x512_256x256_dist/']\n",
      "['/home1/gzy/NucleiSegmentation/High_CCRCC/Valid/512x512_256x256_dist/']\n",
      "\u001b[32m[0618 12:45:12 @training.py:52]\u001b[0m [DataParallel] Training a model of 2 towers.\n",
      "\u001b[32m[0618 12:45:12 @interface.py:34]\u001b[0m Automatically applying QueueInput on the DataFlow.\n",
      "\u001b[32m[0618 12:45:12 @interface.py:46]\u001b[0m Automatically applying StagingInput on the DataFlow.\n",
      "\u001b[32m[0618 12:45:12 @develop.py:96]\u001b[0m \u001b[5m\u001b[31mWRN\u001b[0m [Deprecated] ModelDescBase._get_inputs() interface will be deprecated after 30 Mar. Use inputs() instead!\n",
      "\u001b[32m[0618 12:45:12 @input_source.py:220]\u001b[0m Setting up the queue 'QueueInput/input_queue' for CPU prefetching ...\n",
      "\u001b[32m[0618 12:45:12 @training.py:114]\u001b[0m Building graph for training tower 0 ...\n",
      "\u001b[32m[0618 12:45:12 @develop.py:96]\u001b[0m \u001b[5m\u001b[31mWRN\u001b[0m [Deprecated] ModelDescBase._build_graph() interface will be deprecated after 30 Mar. Use build_graph() instead!\n",
      "\u001b[32m[0618 12:45:13 @registry.py:121]\u001b[0m en_10x/conv_1 input: [None, 3, 64, 64]\n",
      "\u001b[32m[0618 12:45:13 @registry.py:129]\u001b[0m en_10x/conv_1 output: [None, 128, 64, 64]\n",
      "\u001b[32m[0618 12:45:13 @registry.py:121]\u001b[0m en_10x/conv_2 input: [None, 128, 64, 64]\n",
      "\u001b[32m[0618 12:45:13 @registry.py:129]\u001b[0m en_10x/conv_2 output: [None, 128, 64, 64]\n",
      "\u001b[32m[0618 12:45:13 @registry.py:121]\u001b[0m en_10x/gcb/spatial_pool_conv input: [None, 128, 64, 64]\n",
      "\u001b[32m[0618 12:45:13 @registry.py:129]\u001b[0m en_10x/gcb/spatial_pool_conv output: [None, 1, 64, 64]\n",
      "\u001b[32m[0618 12:45:13 @registry.py:121]\u001b[0m en_10x/gcb/channel_add_conv_1 input: [None, 128, 1, 1]\n",
      "\u001b[32m[0618 12:45:13 @registry.py:129]\u001b[0m en_10x/gcb/channel_add_conv_1 output: [None, 16, 1, 1]\n",
      "\u001b[32m[0618 12:45:13 @registry.py:121]\u001b[0m en_10x/gcb/channel_add_conv_2 input: [None, 16, 1, 1]\n",
      "\u001b[32m[0618 12:45:13 @registry.py:129]\u001b[0m en_10x/gcb/channel_add_conv_2 output: [None, 128, 1, 1]\n",
      "\u001b[32m[0618 12:45:13 @registry.py:121]\u001b[0m up_10x input: [None, 128, 64, 64]\n",
      "\u001b[32m[0618 12:45:13 @registry.py:129]\u001b[0m up_10x output: [None, 128, 128, 128]\n",
      "\u001b[32m[0618 12:45:13 @registry.py:121]\u001b[0m cov_10x_up input: [None, 128, 128, 128]\n",
      "\u001b[32m[0618 12:45:13 @registry.py:129]\u001b[0m cov_10x_up output: [None, 64, 128, 128]\n",
      "\u001b[32m[0618 12:45:13 @registry.py:121]\u001b[0m cov_10x_down input: [None, 128, 64, 64]\n",
      "\u001b[32m[0618 12:45:13 @registry.py:129]\u001b[0m cov_10x_down output: [None, 256, 32, 32]\n",
      "\u001b[32m[0618 12:45:13 @registry.py:121]\u001b[0m cov_10x_straight input: [None, 128, 64, 64]\n",
      "\u001b[32m[0618 12:45:13 @registry.py:129]\u001b[0m cov_10x_straight output: [None, 128, 64, 64]\n",
      "\u001b[32m[0618 12:45:13 @registry.py:121]\u001b[0m en_40x/conv_1 input: [None, 3, 256, 256]\n",
      "\u001b[32m[0618 12:45:13 @registry.py:129]\u001b[0m en_40x/conv_1 output: [None, 128, 128, 128]\n",
      "\u001b[32m[0618 12:45:13 @registry.py:121]\u001b[0m en_40x/conv_2 input: [None, 128, 128, 128]\n",
      "\u001b[32m[0618 12:45:13 @registry.py:129]\u001b[0m en_40x/conv_2 output: [None, 128, 64, 64]\n",
      "\u001b[32m[0618 12:45:13 @registry.py:121]\u001b[0m en_40x/gcb/spatial_pool_conv input: [None, 128, 64, 64]\n",
      "\u001b[32m[0618 12:45:13 @registry.py:129]\u001b[0m en_40x/gcb/spatial_pool_conv output: [None, 1, 64, 64]\n",
      "\u001b[32m[0618 12:45:13 @registry.py:121]\u001b[0m en_40x/gcb/channel_add_conv_1 input: [None, 128, 1, 1]\n",
      "\u001b[32m[0618 12:45:13 @registry.py:129]\u001b[0m en_40x/gcb/channel_add_conv_1 output: [None, 16, 1, 1]\n",
      "\u001b[32m[0618 12:45:13 @registry.py:121]\u001b[0m en_40x/gcb/channel_add_conv_2 input: [None, 16, 1, 1]\n",
      "\u001b[32m[0618 12:45:13 @registry.py:129]\u001b[0m en_40x/gcb/channel_add_conv_2 output: [None, 128, 1, 1]\n",
      "\u001b[32m[0618 12:45:13 @registry.py:121]\u001b[0m up_40x input: [None, 128, 64, 64]\n",
      "\u001b[32m[0618 12:45:13 @registry.py:129]\u001b[0m up_40x output: [None, 128, 128, 128]\n",
      "\u001b[32m[0618 12:45:13 @registry.py:121]\u001b[0m cov_40x_up input: [None, 128, 128, 128]\n",
      "\u001b[32m[0618 12:45:13 @registry.py:129]\u001b[0m cov_40x_up output: [None, 64, 128, 128]\n",
      "\u001b[32m[0618 12:45:13 @registry.py:121]\u001b[0m cov_40x_down input: [None, 128, 64, 64]\n",
      "\u001b[32m[0618 12:45:14 @registry.py:129]\u001b[0m cov_40x_down output: [None, 256, 32, 32]\n",
      "\u001b[32m[0618 12:45:14 @registry.py:121]\u001b[0m cov_40x_straight input: [None, 128, 64, 64]\n",
      "\u001b[32m[0618 12:45:14 @registry.py:129]\u001b[0m cov_40x_straight output: [None, 128, 64, 64]\n",
      "\u001b[32m[0618 12:45:14 @registry.py:121]\u001b[0m conv0 input: [None, 3, 262, 262]\n",
      "\u001b[32m[0618 12:45:14 @registry.py:129]\u001b[0m conv0 output: [None, 64, 256, 256]\n",
      "\u001b[32m[0618 12:45:14 @registry.py:121]\u001b[0m group0/block0/conv1 input: [None, 64, 256, 256]\n",
      "\u001b[32m[0618 12:45:14 @registry.py:129]\u001b[0m group0/block0/conv1 output: [None, 64, 256, 256]\n",
      "\u001b[32m[0618 12:45:14 @registry.py:121]\u001b[0m group0/block0/conv2 input: [None, 64, 256, 256]\n",
      "\u001b[32m[0618 12:45:14 @registry.py:129]\u001b[0m group0/block0/conv2 output: [None, 64, 256, 256]\n",
      "\u001b[32m[0618 12:45:14 @registry.py:121]\u001b[0m group0/block0/gcb/spatial_pool_conv input: [None, 64, 256, 256]\n",
      "\u001b[32m[0618 12:45:14 @registry.py:129]\u001b[0m group0/block0/gcb/spatial_pool_conv output: [None, 1, 256, 256]\n",
      "\u001b[32m[0618 12:45:14 @registry.py:121]\u001b[0m group0/block0/gcb/channel_add_conv_1 input: [None, 64, 1, 1]\n",
      "\u001b[32m[0618 12:45:14 @registry.py:129]\u001b[0m group0/block0/gcb/channel_add_conv_1 output: [None, 8, 1, 1]\n",
      "\u001b[32m[0618 12:45:14 @registry.py:121]\u001b[0m group0/block0/gcb/channel_add_conv_2 input: [None, 8, 1, 1]\n",
      "\u001b[32m[0618 12:45:14 @registry.py:129]\u001b[0m group0/block0/gcb/channel_add_conv_2 output: [None, 64, 1, 1]\n",
      "\u001b[32m[0618 12:45:14 @registry.py:121]\u001b[0m group0/block1/conv1 input: [None, 64, 256, 256]\n",
      "\u001b[32m[0618 12:45:14 @registry.py:129]\u001b[0m group0/block1/conv1 output: [None, 64, 256, 256]\n",
      "\u001b[32m[0618 12:45:14 @registry.py:121]\u001b[0m group0/block1/conv2 input: [None, 64, 256, 256]\n",
      "\u001b[32m[0618 12:45:14 @registry.py:129]\u001b[0m group0/block1/conv2 output: [None, 64, 256, 256]\n",
      "\u001b[32m[0618 12:45:14 @registry.py:121]\u001b[0m group0/block1/gcb/spatial_pool_conv input: [None, 64, 256, 256]\n",
      "\u001b[32m[0618 12:45:14 @registry.py:129]\u001b[0m group0/block1/gcb/spatial_pool_conv output: [None, 1, 256, 256]\n",
      "\u001b[32m[0618 12:45:14 @registry.py:121]\u001b[0m group0/block1/gcb/channel_add_conv_1 input: [None, 64, 1, 1]\n",
      "\u001b[32m[0618 12:45:14 @registry.py:129]\u001b[0m group0/block1/gcb/channel_add_conv_1 output: [None, 8, 1, 1]\n",
      "\u001b[32m[0618 12:45:14 @registry.py:121]\u001b[0m group0/block1/gcb/channel_add_conv_2 input: [None, 8, 1, 1]\n",
      "\u001b[32m[0618 12:45:14 @registry.py:129]\u001b[0m group0/block1/gcb/channel_add_conv_2 output: [None, 64, 1, 1]\n",
      "\u001b[32m[0618 12:45:14 @registry.py:121]\u001b[0m group0/block2/conv1 input: [None, 64, 256, 256]\n",
      "\u001b[32m[0618 12:45:14 @registry.py:129]\u001b[0m group0/block2/conv1 output: [None, 64, 256, 256]\n",
      "\u001b[32m[0618 12:45:14 @registry.py:121]\u001b[0m group0/block2/conv2 input: [None, 64, 256, 256]\n",
      "\u001b[32m[0618 12:45:14 @registry.py:129]\u001b[0m group0/block2/conv2 output: [None, 64, 256, 256]\n",
      "\u001b[32m[0618 12:45:14 @registry.py:121]\u001b[0m group0/block2/gcb/spatial_pool_conv input: [None, 64, 256, 256]\n",
      "\u001b[32m[0618 12:45:14 @registry.py:129]\u001b[0m group0/block2/gcb/spatial_pool_conv output: [None, 1, 256, 256]\n",
      "\u001b[32m[0618 12:45:14 @registry.py:121]\u001b[0m group0/block2/gcb/channel_add_conv_1 input: [None, 64, 1, 1]\n",
      "\u001b[32m[0618 12:45:14 @registry.py:129]\u001b[0m group0/block2/gcb/channel_add_conv_1 output: [None, 8, 1, 1]\n",
      "\u001b[32m[0618 12:45:14 @registry.py:121]\u001b[0m group0/block2/gcb/channel_add_conv_2 input: [None, 8, 1, 1]\n",
      "\u001b[32m[0618 12:45:14 @registry.py:129]\u001b[0m group0/block2/gcb/channel_add_conv_2 output: [None, 64, 1, 1]\n"
     ]
    },
    {
     "name": "stdout",
     "output_type": "stream",
     "text": [
      "\u001b[32m[0618 12:45:14 @registry.py:121]\u001b[0m group1/block0/conv1 input: [None, 64, 256, 256]\n",
      "\u001b[32m[0618 12:45:15 @registry.py:129]\u001b[0m group1/block0/conv1 output: [None, 128, 128, 128]\n",
      "\u001b[32m[0618 12:45:15 @registry.py:121]\u001b[0m group1/block0/conv2 input: [None, 128, 128, 128]\n",
      "\u001b[32m[0618 12:45:15 @registry.py:129]\u001b[0m group1/block0/conv2 output: [None, 128, 128, 128]\n",
      "\u001b[32m[0618 12:45:15 @registry.py:121]\u001b[0m group1/block0/gcb/spatial_pool_conv input: [None, 128, 128, 128]\n",
      "\u001b[32m[0618 12:45:15 @registry.py:129]\u001b[0m group1/block0/gcb/spatial_pool_conv output: [None, 1, 128, 128]\n",
      "\u001b[32m[0618 12:45:15 @registry.py:121]\u001b[0m group1/block0/gcb/channel_add_conv_1 input: [None, 128, 1, 1]\n",
      "\u001b[32m[0618 12:45:15 @registry.py:129]\u001b[0m group1/block0/gcb/channel_add_conv_1 output: [None, 16, 1, 1]\n",
      "\u001b[32m[0618 12:45:15 @registry.py:121]\u001b[0m group1/block0/gcb/channel_add_conv_2 input: [None, 16, 1, 1]\n",
      "\u001b[32m[0618 12:45:15 @registry.py:129]\u001b[0m group1/block0/gcb/channel_add_conv_2 output: [None, 128, 1, 1]\n",
      "\u001b[32m[0618 12:45:15 @registry.py:121]\u001b[0m group1/block0/convshortcut input: [None, 64, 256, 256]\n",
      "\u001b[32m[0618 12:45:15 @registry.py:129]\u001b[0m group1/block0/convshortcut output: [None, 128, 128, 128]\n",
      "\u001b[32m[0618 12:45:15 @registry.py:121]\u001b[0m group1/block1/conv1 input: [None, 128, 128, 128]\n",
      "\u001b[32m[0618 12:45:15 @registry.py:129]\u001b[0m group1/block1/conv1 output: [None, 128, 128, 128]\n",
      "\u001b[32m[0618 12:45:15 @registry.py:121]\u001b[0m group1/block1/conv2 input: [None, 128, 128, 128]\n",
      "\u001b[32m[0618 12:45:15 @registry.py:129]\u001b[0m group1/block1/conv2 output: [None, 128, 128, 128]\n",
      "\u001b[32m[0618 12:45:15 @registry.py:121]\u001b[0m group1/block1/gcb/spatial_pool_conv input: [None, 128, 128, 128]\n",
      "\u001b[32m[0618 12:45:15 @registry.py:129]\u001b[0m group1/block1/gcb/spatial_pool_conv output: [None, 1, 128, 128]\n",
      "\u001b[32m[0618 12:45:15 @registry.py:121]\u001b[0m group1/block1/gcb/channel_add_conv_1 input: [None, 128, 1, 1]\n",
      "\u001b[32m[0618 12:45:15 @registry.py:129]\u001b[0m group1/block1/gcb/channel_add_conv_1 output: [None, 16, 1, 1]\n",
      "\u001b[32m[0618 12:45:15 @registry.py:121]\u001b[0m group1/block1/gcb/channel_add_conv_2 input: [None, 16, 1, 1]\n",
      "\u001b[32m[0618 12:45:15 @registry.py:129]\u001b[0m group1/block1/gcb/channel_add_conv_2 output: [None, 128, 1, 1]\n",
      "\u001b[32m[0618 12:45:15 @registry.py:121]\u001b[0m group1/block2/conv1 input: [None, 128, 128, 128]\n",
      "\u001b[32m[0618 12:45:15 @registry.py:129]\u001b[0m group1/block2/conv1 output: [None, 128, 128, 128]\n",
      "\u001b[32m[0618 12:45:15 @registry.py:121]\u001b[0m group1/block2/conv2 input: [None, 128, 128, 128]\n",
      "\u001b[32m[0618 12:45:15 @registry.py:129]\u001b[0m group1/block2/conv2 output: [None, 128, 128, 128]\n",
      "\u001b[32m[0618 12:45:15 @registry.py:121]\u001b[0m group1/block2/gcb/spatial_pool_conv input: [None, 128, 128, 128]\n",
      "\u001b[32m[0618 12:45:15 @registry.py:129]\u001b[0m group1/block2/gcb/spatial_pool_conv output: [None, 1, 128, 128]\n",
      "\u001b[32m[0618 12:45:15 @registry.py:121]\u001b[0m group1/block2/gcb/channel_add_conv_1 input: [None, 128, 1, 1]\n",
      "\u001b[32m[0618 12:45:15 @registry.py:129]\u001b[0m group1/block2/gcb/channel_add_conv_1 output: [None, 16, 1, 1]\n",
      "\u001b[32m[0618 12:45:15 @registry.py:121]\u001b[0m group1/block2/gcb/channel_add_conv_2 input: [None, 16, 1, 1]\n",
      "\u001b[32m[0618 12:45:15 @registry.py:129]\u001b[0m group1/block2/gcb/channel_add_conv_2 output: [None, 128, 1, 1]\n",
      "\u001b[32m[0618 12:45:15 @registry.py:121]\u001b[0m group1/block3/conv1 input: [None, 128, 128, 128]\n",
      "\u001b[32m[0618 12:45:15 @registry.py:129]\u001b[0m group1/block3/conv1 output: [None, 128, 128, 128]\n",
      "\u001b[32m[0618 12:45:15 @registry.py:121]\u001b[0m group1/block3/conv2 input: [None, 128, 128, 128]\n",
      "\u001b[32m[0618 12:45:15 @registry.py:129]\u001b[0m group1/block3/conv2 output: [None, 128, 128, 128]\n",
      "\u001b[32m[0618 12:45:15 @registry.py:121]\u001b[0m group1/block3/gcb/spatial_pool_conv input: [None, 128, 128, 128]\n",
      "\u001b[32m[0618 12:45:15 @registry.py:129]\u001b[0m group1/block3/gcb/spatial_pool_conv output: [None, 1, 128, 128]\n",
      "\u001b[32m[0618 12:45:15 @registry.py:121]\u001b[0m group1/block3/gcb/channel_add_conv_1 input: [None, 128, 1, 1]\n",
      "\u001b[32m[0618 12:45:15 @registry.py:129]\u001b[0m group1/block3/gcb/channel_add_conv_1 output: [None, 16, 1, 1]\n",
      "\u001b[32m[0618 12:45:15 @registry.py:121]\u001b[0m group1/block3/gcb/channel_add_conv_2 input: [None, 16, 1, 1]\n",
      "\u001b[32m[0618 12:45:15 @registry.py:129]\u001b[0m group1/block3/gcb/channel_add_conv_2 output: [None, 128, 1, 1]\n",
      "\u001b[32m[0618 12:45:15 @registry.py:121]\u001b[0m group2/block0/conv1 input: [None, 128, 128, 128]\n",
      "\u001b[32m[0618 12:45:15 @registry.py:129]\u001b[0m group2/block0/conv1 output: [None, 256, 64, 64]\n",
      "\u001b[32m[0618 12:45:15 @registry.py:121]\u001b[0m group2/block0/conv2 input: [None, 256, 64, 64]\n",
      "\u001b[32m[0618 12:45:16 @registry.py:129]\u001b[0m group2/block0/conv2 output: [None, 256, 64, 64]\n",
      "\u001b[32m[0618 12:45:16 @registry.py:121]\u001b[0m group2/block0/gcb/spatial_pool_conv input: [None, 256, 64, 64]\n",
      "\u001b[32m[0618 12:45:16 @registry.py:129]\u001b[0m group2/block0/gcb/spatial_pool_conv output: [None, 1, 64, 64]\n",
      "\u001b[32m[0618 12:45:16 @registry.py:121]\u001b[0m group2/block0/gcb/channel_add_conv_1 input: [None, 256, 1, 1]\n",
      "\u001b[32m[0618 12:45:16 @registry.py:129]\u001b[0m group2/block0/gcb/channel_add_conv_1 output: [None, 32, 1, 1]\n",
      "\u001b[32m[0618 12:45:16 @registry.py:121]\u001b[0m group2/block0/gcb/channel_add_conv_2 input: [None, 32, 1, 1]\n",
      "\u001b[32m[0618 12:45:16 @registry.py:129]\u001b[0m group2/block0/gcb/channel_add_conv_2 output: [None, 256, 1, 1]\n",
      "\u001b[32m[0618 12:45:16 @registry.py:121]\u001b[0m group2/block0/convshortcut input: [None, 128, 128, 128]\n",
      "\u001b[32m[0618 12:45:16 @registry.py:129]\u001b[0m group2/block0/convshortcut output: [None, 256, 64, 64]\n",
      "\u001b[32m[0618 12:45:16 @registry.py:121]\u001b[0m group2/block1/conv1 input: [None, 256, 64, 64]\n",
      "\u001b[32m[0618 12:45:16 @registry.py:129]\u001b[0m group2/block1/conv1 output: [None, 256, 64, 64]\n",
      "\u001b[32m[0618 12:45:16 @registry.py:121]\u001b[0m group2/block1/conv2 input: [None, 256, 64, 64]\n",
      "\u001b[32m[0618 12:45:16 @registry.py:129]\u001b[0m group2/block1/conv2 output: [None, 256, 64, 64]\n",
      "\u001b[32m[0618 12:45:16 @registry.py:121]\u001b[0m group2/block1/gcb/spatial_pool_conv input: [None, 256, 64, 64]\n",
      "\u001b[32m[0618 12:45:16 @registry.py:129]\u001b[0m group2/block1/gcb/spatial_pool_conv output: [None, 1, 64, 64]\n",
      "\u001b[32m[0618 12:45:16 @registry.py:121]\u001b[0m group2/block1/gcb/channel_add_conv_1 input: [None, 256, 1, 1]\n",
      "\u001b[32m[0618 12:45:16 @registry.py:129]\u001b[0m group2/block1/gcb/channel_add_conv_1 output: [None, 32, 1, 1]\n",
      "\u001b[32m[0618 12:45:16 @registry.py:121]\u001b[0m group2/block1/gcb/channel_add_conv_2 input: [None, 32, 1, 1]\n",
      "\u001b[32m[0618 12:45:16 @registry.py:129]\u001b[0m group2/block1/gcb/channel_add_conv_2 output: [None, 256, 1, 1]\n",
      "\u001b[32m[0618 12:45:16 @registry.py:121]\u001b[0m group2/block2/conv1 input: [None, 256, 64, 64]\n",
      "\u001b[32m[0618 12:45:16 @registry.py:129]\u001b[0m group2/block2/conv1 output: [None, 256, 64, 64]\n",
      "\u001b[32m[0618 12:45:16 @registry.py:121]\u001b[0m group2/block2/conv2 input: [None, 256, 64, 64]\n",
      "\u001b[32m[0618 12:45:16 @registry.py:129]\u001b[0m group2/block2/conv2 output: [None, 256, 64, 64]\n",
      "\u001b[32m[0618 12:45:16 @registry.py:121]\u001b[0m group2/block2/gcb/spatial_pool_conv input: [None, 256, 64, 64]\n",
      "\u001b[32m[0618 12:45:16 @registry.py:129]\u001b[0m group2/block2/gcb/spatial_pool_conv output: [None, 1, 64, 64]\n",
      "\u001b[32m[0618 12:45:16 @registry.py:121]\u001b[0m group2/block2/gcb/channel_add_conv_1 input: [None, 256, 1, 1]\n",
      "\u001b[32m[0618 12:45:16 @registry.py:129]\u001b[0m group2/block2/gcb/channel_add_conv_1 output: [None, 32, 1, 1]\n",
      "\u001b[32m[0618 12:45:16 @registry.py:121]\u001b[0m group2/block2/gcb/channel_add_conv_2 input: [None, 32, 1, 1]\n",
      "\u001b[32m[0618 12:45:16 @registry.py:129]\u001b[0m group2/block2/gcb/channel_add_conv_2 output: [None, 256, 1, 1]\n",
      "\u001b[32m[0618 12:45:16 @registry.py:121]\u001b[0m group2/block3/conv1 input: [None, 256, 64, 64]\n",
      "\u001b[32m[0618 12:45:16 @registry.py:129]\u001b[0m group2/block3/conv1 output: [None, 256, 64, 64]\n",
      "\u001b[32m[0618 12:45:16 @registry.py:121]\u001b[0m group2/block3/conv2 input: [None, 256, 64, 64]\n",
      "\u001b[32m[0618 12:45:16 @registry.py:129]\u001b[0m group2/block3/conv2 output: [None, 256, 64, 64]\n",
      "\u001b[32m[0618 12:45:16 @registry.py:121]\u001b[0m group2/block3/gcb/spatial_pool_conv input: [None, 256, 64, 64]\n",
      "\u001b[32m[0618 12:45:16 @registry.py:129]\u001b[0m group2/block3/gcb/spatial_pool_conv output: [None, 1, 64, 64]\n",
      "\u001b[32m[0618 12:45:16 @registry.py:121]\u001b[0m group2/block3/gcb/channel_add_conv_1 input: [None, 256, 1, 1]\n",
      "\u001b[32m[0618 12:45:17 @registry.py:129]\u001b[0m group2/block3/gcb/channel_add_conv_1 output: [None, 32, 1, 1]\n",
      "\u001b[32m[0618 12:45:17 @registry.py:121]\u001b[0m group2/block3/gcb/channel_add_conv_2 input: [None, 32, 1, 1]\n"
     ]
    },
    {
     "name": "stdout",
     "output_type": "stream",
     "text": [
      "\u001b[32m[0618 12:45:17 @registry.py:129]\u001b[0m group2/block3/gcb/channel_add_conv_2 output: [None, 256, 1, 1]\n",
      "\u001b[32m[0618 12:45:17 @registry.py:121]\u001b[0m group2/block4/conv1 input: [None, 256, 64, 64]\n",
      "\u001b[32m[0618 12:45:17 @registry.py:129]\u001b[0m group2/block4/conv1 output: [None, 256, 64, 64]\n",
      "\u001b[32m[0618 12:45:17 @registry.py:121]\u001b[0m group2/block4/conv2 input: [None, 256, 64, 64]\n",
      "\u001b[32m[0618 12:45:17 @registry.py:129]\u001b[0m group2/block4/conv2 output: [None, 256, 64, 64]\n",
      "\u001b[32m[0618 12:45:17 @registry.py:121]\u001b[0m group2/block4/gcb/spatial_pool_conv input: [None, 256, 64, 64]\n",
      "\u001b[32m[0618 12:45:17 @registry.py:129]\u001b[0m group2/block4/gcb/spatial_pool_conv output: [None, 1, 64, 64]\n",
      "\u001b[32m[0618 12:45:17 @registry.py:121]\u001b[0m group2/block4/gcb/channel_add_conv_1 input: [None, 256, 1, 1]\n",
      "\u001b[32m[0618 12:45:17 @registry.py:129]\u001b[0m group2/block4/gcb/channel_add_conv_1 output: [None, 32, 1, 1]\n",
      "\u001b[32m[0618 12:45:17 @registry.py:121]\u001b[0m group2/block4/gcb/channel_add_conv_2 input: [None, 32, 1, 1]\n",
      "\u001b[32m[0618 12:45:17 @registry.py:129]\u001b[0m group2/block4/gcb/channel_add_conv_2 output: [None, 256, 1, 1]\n",
      "\u001b[32m[0618 12:45:17 @registry.py:121]\u001b[0m group2/block5/conv1 input: [None, 256, 64, 64]\n",
      "\u001b[32m[0618 12:45:17 @registry.py:129]\u001b[0m group2/block5/conv1 output: [None, 256, 64, 64]\n",
      "\u001b[32m[0618 12:45:17 @registry.py:121]\u001b[0m group2/block5/conv2 input: [None, 256, 64, 64]\n",
      "\u001b[32m[0618 12:45:17 @registry.py:129]\u001b[0m group2/block5/conv2 output: [None, 256, 64, 64]\n",
      "\u001b[32m[0618 12:45:17 @registry.py:121]\u001b[0m group2/block5/gcb/spatial_pool_conv input: [None, 256, 64, 64]\n",
      "\u001b[32m[0618 12:45:17 @registry.py:129]\u001b[0m group2/block5/gcb/spatial_pool_conv output: [None, 1, 64, 64]\n",
      "\u001b[32m[0618 12:45:17 @registry.py:121]\u001b[0m group2/block5/gcb/channel_add_conv_1 input: [None, 256, 1, 1]\n",
      "\u001b[32m[0618 12:45:17 @registry.py:129]\u001b[0m group2/block5/gcb/channel_add_conv_1 output: [None, 32, 1, 1]\n",
      "\u001b[32m[0618 12:45:17 @registry.py:121]\u001b[0m group2/block5/gcb/channel_add_conv_2 input: [None, 32, 1, 1]\n",
      "\u001b[32m[0618 12:45:17 @registry.py:129]\u001b[0m group2/block5/gcb/channel_add_conv_2 output: [None, 256, 1, 1]\n",
      "\u001b[32m[0618 12:45:17 @registry.py:121]\u001b[0m group3/block0/conv1 input: [None, 256, 64, 64]\n",
      "\u001b[32m[0618 12:45:17 @registry.py:129]\u001b[0m group3/block0/conv1 output: [None, 512, 32, 32]\n",
      "\u001b[32m[0618 12:45:17 @registry.py:121]\u001b[0m group3/block0/conv2 input: [None, 512, 32, 32]\n",
      "\u001b[32m[0618 12:45:17 @registry.py:129]\u001b[0m group3/block0/conv2 output: [None, 512, 32, 32]\n",
      "\u001b[32m[0618 12:45:17 @registry.py:121]\u001b[0m group3/block0/gcb/spatial_pool_conv input: [None, 512, 32, 32]\n",
      "\u001b[32m[0618 12:45:17 @registry.py:129]\u001b[0m group3/block0/gcb/spatial_pool_conv output: [None, 1, 32, 32]\n",
      "\u001b[32m[0618 12:45:17 @registry.py:121]\u001b[0m group3/block0/gcb/channel_add_conv_1 input: [None, 512, 1, 1]\n",
      "\u001b[32m[0618 12:45:17 @registry.py:129]\u001b[0m group3/block0/gcb/channel_add_conv_1 output: [None, 64, 1, 1]\n",
      "\u001b[32m[0618 12:45:17 @registry.py:121]\u001b[0m group3/block0/gcb/channel_add_conv_2 input: [None, 64, 1, 1]\n",
      "\u001b[32m[0618 12:45:17 @registry.py:129]\u001b[0m group3/block0/gcb/channel_add_conv_2 output: [None, 512, 1, 1]\n",
      "\u001b[32m[0618 12:45:17 @registry.py:121]\u001b[0m group3/block0/convshortcut input: [None, 256, 64, 64]\n",
      "\u001b[32m[0618 12:45:17 @registry.py:129]\u001b[0m group3/block0/convshortcut output: [None, 512, 32, 32]\n",
      "\u001b[32m[0618 12:45:17 @registry.py:121]\u001b[0m group3/block1/conv1 input: [None, 512, 32, 32]\n",
      "\u001b[32m[0618 12:45:18 @registry.py:129]\u001b[0m group3/block1/conv1 output: [None, 512, 32, 32]\n",
      "\u001b[32m[0618 12:45:18 @registry.py:121]\u001b[0m group3/block1/conv2 input: [None, 512, 32, 32]\n",
      "\u001b[32m[0618 12:45:18 @registry.py:129]\u001b[0m group3/block1/conv2 output: [None, 512, 32, 32]\n",
      "\u001b[32m[0618 12:45:18 @registry.py:121]\u001b[0m group3/block1/gcb/spatial_pool_conv input: [None, 512, 32, 32]\n",
      "\u001b[32m[0618 12:45:18 @registry.py:129]\u001b[0m group3/block1/gcb/spatial_pool_conv output: [None, 1, 32, 32]\n",
      "\u001b[32m[0618 12:45:18 @registry.py:121]\u001b[0m group3/block1/gcb/channel_add_conv_1 input: [None, 512, 1, 1]\n",
      "\u001b[32m[0618 12:45:18 @registry.py:129]\u001b[0m group3/block1/gcb/channel_add_conv_1 output: [None, 64, 1, 1]\n",
      "\u001b[32m[0618 12:45:18 @registry.py:121]\u001b[0m group3/block1/gcb/channel_add_conv_2 input: [None, 64, 1, 1]\n",
      "\u001b[32m[0618 12:45:18 @registry.py:129]\u001b[0m group3/block1/gcb/channel_add_conv_2 output: [None, 512, 1, 1]\n",
      "\u001b[32m[0618 12:45:18 @registry.py:121]\u001b[0m group3/block2/conv1 input: [None, 512, 32, 32]\n",
      "\u001b[32m[0618 12:45:18 @registry.py:129]\u001b[0m group3/block2/conv1 output: [None, 512, 32, 32]\n",
      "\u001b[32m[0618 12:45:18 @registry.py:121]\u001b[0m group3/block2/conv2 input: [None, 512, 32, 32]\n",
      "\u001b[32m[0618 12:45:18 @registry.py:129]\u001b[0m group3/block2/conv2 output: [None, 512, 32, 32]\n",
      "\u001b[32m[0618 12:45:18 @registry.py:121]\u001b[0m group3/block2/gcb/spatial_pool_conv input: [None, 512, 32, 32]\n",
      "\u001b[32m[0618 12:45:18 @registry.py:129]\u001b[0m group3/block2/gcb/spatial_pool_conv output: [None, 1, 32, 32]\n",
      "\u001b[32m[0618 12:45:18 @registry.py:121]\u001b[0m group3/block2/gcb/channel_add_conv_1 input: [None, 512, 1, 1]\n",
      "\u001b[32m[0618 12:45:18 @registry.py:129]\u001b[0m group3/block2/gcb/channel_add_conv_1 output: [None, 64, 1, 1]\n",
      "\u001b[32m[0618 12:45:18 @registry.py:121]\u001b[0m group3/block2/gcb/channel_add_conv_2 input: [None, 64, 1, 1]\n",
      "\u001b[32m[0618 12:45:18 @registry.py:129]\u001b[0m group3/block2/gcb/channel_add_conv_2 output: [None, 512, 1, 1]\n",
      "\u001b[32m[0618 12:45:18 @registry.py:121]\u001b[0m classify_1/com_11/up_0 input: [None, 256, 64, 64]\n",
      "\u001b[32m[0618 12:45:18 @registry.py:129]\u001b[0m classify_1/com_11/up_0 output: [None, 256, 128, 128]\n",
      "\u001b[32m[0618 12:45:18 @registry.py:121]\u001b[0m classify_1/com_11/conv_up input: [None, 256, 128, 128]\n",
      "\u001b[32m[0618 12:45:18 @registry.py:129]\u001b[0m classify_1/com_11/conv_up output: [None, 128, 128, 128]\n",
      "\u001b[32m[0618 12:45:18 @registry.py:121]\u001b[0m classify_1/conv_img12 input: [None, 192, 128, 128]\n",
      "\u001b[32m[0618 12:45:18 @registry.py:129]\u001b[0m classify_1/conv_img12 output: [None, 128, 128, 128]\n",
      "\u001b[32m[0618 12:45:18 @registry.py:121]\u001b[0m classify_1/groupl11/block0/conv1 input: [None, 128, 128, 128]\n",
      "\u001b[32m[0618 12:45:18 @registry.py:129]\u001b[0m classify_1/groupl11/block0/conv1 output: [None, 128, 128, 128]\n",
      "\u001b[32m[0618 12:45:18 @registry.py:121]\u001b[0m classify_1/groupl11/block0/conv2 input: [None, 128, 128, 128]\n",
      "\u001b[32m[0618 12:45:18 @registry.py:129]\u001b[0m classify_1/groupl11/block0/conv2 output: [None, 128, 128, 128]\n",
      "\u001b[32m[0618 12:45:18 @registry.py:121]\u001b[0m classify_1/groupl11/block0/gcb/spatial_pool_conv input: [None, 128, 128, 128]\n",
      "\u001b[32m[0618 12:45:18 @registry.py:129]\u001b[0m classify_1/groupl11/block0/gcb/spatial_pool_conv output: [None, 1, 128, 128]\n",
      "\u001b[32m[0618 12:45:18 @registry.py:121]\u001b[0m classify_1/groupl11/block0/gcb/channel_add_conv_1 input: [None, 128, 1, 1]\n",
      "\u001b[32m[0618 12:45:18 @registry.py:129]\u001b[0m classify_1/groupl11/block0/gcb/channel_add_conv_1 output: [None, 16, 1, 1]\n",
      "\u001b[32m[0618 12:45:18 @registry.py:121]\u001b[0m classify_1/groupl11/block0/gcb/channel_add_conv_2 input: [None, 16, 1, 1]\n",
      "\u001b[32m[0618 12:45:18 @registry.py:129]\u001b[0m classify_1/groupl11/block0/gcb/channel_add_conv_2 output: [None, 128, 1, 1]\n",
      "\u001b[32m[0618 12:45:18 @registry.py:121]\u001b[0m classify_1/conv_straight11 input: [None, 128, 128, 128]\n",
      "\u001b[32m[0618 12:45:18 @registry.py:129]\u001b[0m classify_1/conv_straight11 output: [None, 128, 128, 128]\n",
      "\u001b[32m[0618 12:45:18 @registry.py:121]\u001b[0m classify_1/conv_down11 input: [None, 128, 128, 128]\n",
      "\u001b[32m[0618 12:45:18 @registry.py:129]\u001b[0m classify_1/conv_down11 output: [None, 256, 64, 64]\n",
      "\u001b[32m[0618 12:45:18 @registry.py:121]\u001b[0m classify_1/com_12/up_0 input: [None, 512, 32, 32]\n",
      "\u001b[32m[0618 12:45:19 @registry.py:129]\u001b[0m classify_1/com_12/up_0 output: [None, 512, 64, 64]\n",
      "\u001b[32m[0618 12:45:19 @registry.py:121]\u001b[0m classify_1/com_12/up_1 input: [None, 512, 64, 64]\n",
      "\u001b[32m[0618 12:45:19 @registry.py:129]\u001b[0m classify_1/com_12/up_1 output: [None, 512, 128, 128]\n",
      "\u001b[32m[0618 12:45:19 @registry.py:121]\u001b[0m classify_1/com_12/conv_up input: [None, 512, 128, 128]\n",
      "\u001b[32m[0618 12:45:19 @registry.py:129]\u001b[0m classify_1/com_12/conv_up output: [None, 128, 128, 128]\n",
      "\u001b[32m[0618 12:45:19 @registry.py:121]\u001b[0m classify_1/com_22/up_0 input: [None, 512, 32, 32]\n",
      "\u001b[32m[0618 12:45:19 @registry.py:129]\u001b[0m classify_1/com_22/up_0 output: [None, 512, 64, 64]\n",
      "\u001b[32m[0618 12:45:19 @registry.py:121]\u001b[0m classify_1/com_22/conv_up input: [None, 512, 64, 64]\n",
      "\u001b[32m[0618 12:45:19 @registry.py:129]\u001b[0m classify_1/com_22/conv_up output: [None, 256, 64, 64]\n"
     ]
    },
    {
     "name": "stdout",
     "output_type": "stream",
     "text": [
      "\u001b[32m[0618 12:45:19 @registry.py:121]\u001b[0m classify_1/conv_img22 input: [None, 384, 64, 64]\n",
      "\u001b[32m[0618 12:45:19 @registry.py:129]\u001b[0m classify_1/conv_img22 output: [None, 256, 64, 64]\n",
      "\u001b[32m[0618 12:45:19 @registry.py:121]\u001b[0m classify_1/groupl12/block0/conv1 input: [None, 128, 128, 128]\n",
      "\u001b[32m[0618 12:45:19 @registry.py:129]\u001b[0m classify_1/groupl12/block0/conv1 output: [None, 128, 128, 128]\n",
      "\u001b[32m[0618 12:45:19 @registry.py:121]\u001b[0m classify_1/groupl12/block0/conv2 input: [None, 128, 128, 128]\n",
      "\u001b[32m[0618 12:45:19 @registry.py:129]\u001b[0m classify_1/groupl12/block0/conv2 output: [None, 128, 128, 128]\n",
      "\u001b[32m[0618 12:45:19 @registry.py:121]\u001b[0m classify_1/groupl12/block0/gcb/spatial_pool_conv input: [None, 128, 128, 128]\n",
      "\u001b[32m[0618 12:45:19 @registry.py:129]\u001b[0m classify_1/groupl12/block0/gcb/spatial_pool_conv output: [None, 1, 128, 128]\n",
      "\u001b[32m[0618 12:45:19 @registry.py:121]\u001b[0m classify_1/groupl12/block0/gcb/channel_add_conv_1 input: [None, 128, 1, 1]\n",
      "\u001b[32m[0618 12:45:19 @registry.py:129]\u001b[0m classify_1/groupl12/block0/gcb/channel_add_conv_1 output: [None, 16, 1, 1]\n",
      "\u001b[32m[0618 12:45:19 @registry.py:121]\u001b[0m classify_1/groupl12/block0/gcb/channel_add_conv_2 input: [None, 16, 1, 1]\n",
      "\u001b[32m[0618 12:45:19 @registry.py:129]\u001b[0m classify_1/groupl12/block0/gcb/channel_add_conv_2 output: [None, 128, 1, 1]\n",
      "\u001b[32m[0618 12:45:19 @registry.py:121]\u001b[0m classify_1/groupl22/block0/conv1 input: [None, 256, 64, 64]\n",
      "\u001b[32m[0618 12:45:19 @registry.py:129]\u001b[0m classify_1/groupl22/block0/conv1 output: [None, 256, 64, 64]\n",
      "\u001b[32m[0618 12:45:19 @registry.py:121]\u001b[0m classify_1/groupl22/block0/conv2 input: [None, 256, 64, 64]\n",
      "\u001b[32m[0618 12:45:19 @registry.py:129]\u001b[0m classify_1/groupl22/block0/conv2 output: [None, 256, 64, 64]\n",
      "\u001b[32m[0618 12:45:19 @registry.py:121]\u001b[0m classify_1/groupl22/block0/gcb/spatial_pool_conv input: [None, 256, 64, 64]\n",
      "\u001b[32m[0618 12:45:19 @registry.py:129]\u001b[0m classify_1/groupl22/block0/gcb/spatial_pool_conv output: [None, 1, 64, 64]\n",
      "\u001b[32m[0618 12:45:19 @registry.py:121]\u001b[0m classify_1/groupl22/block0/gcb/channel_add_conv_1 input: [None, 256, 1, 1]\n",
      "\u001b[32m[0618 12:45:19 @registry.py:129]\u001b[0m classify_1/groupl22/block0/gcb/channel_add_conv_1 output: [None, 32, 1, 1]\n",
      "\u001b[32m[0618 12:45:19 @registry.py:121]\u001b[0m classify_1/groupl22/block0/gcb/channel_add_conv_2 input: [None, 32, 1, 1]\n",
      "\u001b[32m[0618 12:45:19 @registry.py:129]\u001b[0m classify_1/groupl22/block0/gcb/channel_add_conv_2 output: [None, 256, 1, 1]\n",
      "\u001b[32m[0618 12:45:19 @registry.py:121]\u001b[0m classify_1/conv_straight12 input: [None, 128, 128, 128]\n",
      "\u001b[32m[0618 12:45:19 @registry.py:129]\u001b[0m classify_1/conv_straight12 output: [None, 128, 128, 128]\n",
      "\u001b[32m[0618 12:45:19 @registry.py:121]\u001b[0m classify_1/com_13/up_0 input: [None, 256, 64, 64]\n",
      "\u001b[32m[0618 12:45:19 @registry.py:129]\u001b[0m classify_1/com_13/up_0 output: [None, 256, 128, 128]\n",
      "\u001b[32m[0618 12:45:19 @registry.py:121]\u001b[0m classify_1/com_13/conv_up input: [None, 256, 128, 128]\n",
      "\u001b[32m[0618 12:45:19 @registry.py:129]\u001b[0m classify_1/com_13/conv_up output: [None, 128, 128, 128]\n",
      "\u001b[32m[0618 12:45:19 @registry.py:121]\u001b[0m classify_1/conv_straight22 input: [None, 256, 64, 64]\n",
      "\u001b[32m[0618 12:45:19 @registry.py:129]\u001b[0m classify_1/conv_straight22 output: [None, 256, 64, 64]\n",
      "\u001b[32m[0618 12:45:19 @registry.py:121]\u001b[0m classify_1/conv_down12 input: [None, 128, 128, 128]\n",
      "\u001b[32m[0618 12:45:20 @registry.py:129]\u001b[0m classify_1/conv_down12 output: [None, 256, 64, 64]\n",
      "\u001b[32m[0618 12:45:20 @registry.py:121]\u001b[0m classify_1/conv_down22 input: [None, 256, 64, 64]\n",
      "\u001b[32m[0618 12:45:20 @registry.py:129]\u001b[0m classify_1/conv_down22 output: [None, 512, 32, 32]\n",
      "\u001b[32m[0618 12:45:20 @registry.py:121]\u001b[0m classify_1/conv_downdown12 input: [None, 256, 64, 64]\n",
      "\u001b[32m[0618 12:45:20 @registry.py:129]\u001b[0m classify_1/conv_downdown12 output: [None, 512, 32, 32]\n",
      "\u001b[32m[0618 12:45:20 @registry.py:121]\u001b[0m classify_1/conv_img32 input: [None, 768, 32, 32]\n",
      "\u001b[32m[0618 12:45:20 @registry.py:129]\u001b[0m classify_1/conv_img32 output: [None, 512, 32, 32]\n",
      "\u001b[32m[0618 12:45:20 @registry.py:121]\u001b[0m classify_1/groupl13/block0/conv1 input: [None, 128, 128, 128]\n",
      "\u001b[32m[0618 12:45:20 @registry.py:129]\u001b[0m classify_1/groupl13/block0/conv1 output: [None, 128, 128, 128]\n",
      "\u001b[32m[0618 12:45:20 @registry.py:121]\u001b[0m classify_1/groupl13/block0/conv2 input: [None, 128, 128, 128]\n",
      "\u001b[32m[0618 12:45:20 @registry.py:129]\u001b[0m classify_1/groupl13/block0/conv2 output: [None, 128, 128, 128]\n",
      "\u001b[32m[0618 12:45:20 @registry.py:121]\u001b[0m classify_1/groupl13/block0/gcb/spatial_pool_conv input: [None, 128, 128, 128]\n",
      "\u001b[32m[0618 12:45:20 @registry.py:129]\u001b[0m classify_1/groupl13/block0/gcb/spatial_pool_conv output: [None, 1, 128, 128]\n",
      "\u001b[32m[0618 12:45:20 @registry.py:121]\u001b[0m classify_1/groupl13/block0/gcb/channel_add_conv_1 input: [None, 128, 1, 1]\n",
      "\u001b[32m[0618 12:45:20 @registry.py:129]\u001b[0m classify_1/groupl13/block0/gcb/channel_add_conv_1 output: [None, 16, 1, 1]\n",
      "\u001b[32m[0618 12:45:20 @registry.py:121]\u001b[0m classify_1/groupl13/block0/gcb/channel_add_conv_2 input: [None, 16, 1, 1]\n",
      "\u001b[32m[0618 12:45:20 @registry.py:129]\u001b[0m classify_1/groupl13/block0/gcb/channel_add_conv_2 output: [None, 128, 1, 1]\n",
      "\u001b[32m[0618 12:45:20 @registry.py:121]\u001b[0m classify_1/groupl23/block0/conv1 input: [None, 256, 64, 64]\n",
      "\u001b[32m[0618 12:45:20 @registry.py:129]\u001b[0m classify_1/groupl23/block0/conv1 output: [None, 256, 64, 64]\n",
      "\u001b[32m[0618 12:45:20 @registry.py:121]\u001b[0m classify_1/groupl23/block0/conv2 input: [None, 256, 64, 64]\n",
      "\u001b[32m[0618 12:45:20 @registry.py:129]\u001b[0m classify_1/groupl23/block0/conv2 output: [None, 256, 64, 64]\n",
      "\u001b[32m[0618 12:45:20 @registry.py:121]\u001b[0m classify_1/groupl23/block0/gcb/spatial_pool_conv input: [None, 256, 64, 64]\n",
      "\u001b[32m[0618 12:45:20 @registry.py:129]\u001b[0m classify_1/groupl23/block0/gcb/spatial_pool_conv output: [None, 1, 64, 64]\n",
      "\u001b[32m[0618 12:45:20 @registry.py:121]\u001b[0m classify_1/groupl23/block0/gcb/channel_add_conv_1 input: [None, 256, 1, 1]\n",
      "\u001b[32m[0618 12:45:20 @registry.py:129]\u001b[0m classify_1/groupl23/block0/gcb/channel_add_conv_1 output: [None, 32, 1, 1]\n",
      "\u001b[32m[0618 12:45:20 @registry.py:121]\u001b[0m classify_1/groupl23/block0/gcb/channel_add_conv_2 input: [None, 32, 1, 1]\n",
      "\u001b[32m[0618 12:45:20 @registry.py:129]\u001b[0m classify_1/groupl23/block0/gcb/channel_add_conv_2 output: [None, 256, 1, 1]\n",
      "\u001b[32m[0618 12:45:20 @registry.py:121]\u001b[0m classify_1/groupl33/block0/conv1 input: [None, 512, 32, 32]\n",
      "\u001b[32m[0618 12:45:20 @registry.py:129]\u001b[0m classify_1/groupl33/block0/conv1 output: [None, 512, 32, 32]\n",
      "\u001b[32m[0618 12:45:20 @registry.py:121]\u001b[0m classify_1/groupl33/block0/conv2 input: [None, 512, 32, 32]\n",
      "\u001b[32m[0618 12:45:20 @registry.py:129]\u001b[0m classify_1/groupl33/block0/conv2 output: [None, 512, 32, 32]\n",
      "\u001b[32m[0618 12:45:21 @registry.py:121]\u001b[0m classify_1/groupl33/block0/gcb/spatial_pool_conv input: [None, 512, 32, 32]\n",
      "\u001b[32m[0618 12:45:21 @registry.py:129]\u001b[0m classify_1/groupl33/block0/gcb/spatial_pool_conv output: [None, 1, 32, 32]\n",
      "\u001b[32m[0618 12:45:21 @registry.py:121]\u001b[0m classify_1/groupl33/block0/gcb/channel_add_conv_1 input: [None, 512, 1, 1]\n",
      "\u001b[32m[0618 12:45:21 @registry.py:129]\u001b[0m classify_1/groupl33/block0/gcb/channel_add_conv_1 output: [None, 64, 1, 1]\n",
      "\u001b[32m[0618 12:45:21 @registry.py:121]\u001b[0m classify_1/groupl33/block0/gcb/channel_add_conv_2 input: [None, 64, 1, 1]\n",
      "\u001b[32m[0618 12:45:21 @registry.py:129]\u001b[0m classify_1/groupl33/block0/gcb/channel_add_conv_2 output: [None, 512, 1, 1]\n",
      "\u001b[32m[0618 12:45:21 @registry.py:121]\u001b[0m classify_1/conv_straight13 input: [None, 128, 128, 128]\n",
      "\u001b[32m[0618 12:45:21 @registry.py:129]\u001b[0m classify_1/conv_straight13 output: [None, 128, 128, 128]\n",
      "\u001b[32m[0618 12:45:21 @registry.py:121]\u001b[0m classify_1/com_141/up_0 input: [None, 256, 64, 64]\n",
      "\u001b[32m[0618 12:45:21 @registry.py:129]\u001b[0m classify_1/com_141/up_0 output: [None, 256, 128, 128]\n",
      "\u001b[32m[0618 12:45:21 @registry.py:121]\u001b[0m classify_1/com_141/conv_up input: [None, 256, 128, 128]\n",
      "\u001b[32m[0618 12:45:21 @registry.py:129]\u001b[0m classify_1/com_141/conv_up output: [None, 128, 128, 128]\n",
      "\u001b[32m[0618 12:45:21 @registry.py:121]\u001b[0m classify_1/com_142/up_0 input: [None, 512, 32, 32]\n",
      "\u001b[32m[0618 12:45:21 @registry.py:129]\u001b[0m classify_1/com_142/up_0 output: [None, 512, 64, 64]\n",
      "\u001b[32m[0618 12:45:21 @registry.py:121]\u001b[0m classify_1/com_142/up_1 input: [None, 512, 64, 64]\n",
      "\u001b[32m[0618 12:45:21 @registry.py:129]\u001b[0m classify_1/com_142/up_1 output: [None, 512, 128, 128]\n"
     ]
    },
    {
     "name": "stdout",
     "output_type": "stream",
     "text": [
      "\u001b[32m[0618 12:45:21 @registry.py:121]\u001b[0m classify_1/com_142/conv_up input: [None, 512, 128, 128]\n",
      "\u001b[32m[0618 12:45:21 @registry.py:129]\u001b[0m classify_1/com_142/conv_up output: [None, 128, 128, 128]\n",
      "\u001b[32m[0618 12:45:21 @registry.py:121]\u001b[0m classify_1/conv_straight23 input: [None, 256, 64, 64]\n",
      "\u001b[32m[0618 12:45:21 @registry.py:129]\u001b[0m classify_1/conv_straight23 output: [None, 256, 64, 64]\n",
      "\u001b[32m[0618 12:45:21 @registry.py:121]\u001b[0m classify_1/conv_down13 input: [None, 128, 128, 128]\n",
      "\u001b[32m[0618 12:45:21 @registry.py:129]\u001b[0m classify_1/conv_down13 output: [None, 256, 64, 64]\n",
      "\u001b[32m[0618 12:45:21 @registry.py:121]\u001b[0m classify_1/com_24/up_0 input: [None, 512, 32, 32]\n",
      "\u001b[32m[0618 12:45:21 @registry.py:129]\u001b[0m classify_1/com_24/up_0 output: [None, 512, 64, 64]\n",
      "\u001b[32m[0618 12:45:21 @registry.py:121]\u001b[0m classify_1/com_24/conv_up input: [None, 512, 64, 64]\n",
      "\u001b[32m[0618 12:45:21 @registry.py:129]\u001b[0m classify_1/com_24/conv_up output: [None, 256, 64, 64]\n",
      "\u001b[32m[0618 12:45:21 @registry.py:121]\u001b[0m classify_1/conv_straight33 input: [None, 512, 32, 32]\n",
      "\u001b[32m[0618 12:45:21 @registry.py:129]\u001b[0m classify_1/conv_straight33 output: [None, 512, 32, 32]\n",
      "\u001b[32m[0618 12:45:21 @registry.py:121]\u001b[0m classify_1/conv_downdown13 input: [None, 256, 64, 64]\n",
      "\u001b[32m[0618 12:45:21 @registry.py:129]\u001b[0m classify_1/conv_downdown13 output: [None, 512, 32, 32]\n",
      "\u001b[32m[0618 12:45:21 @registry.py:121]\u001b[0m classify_1/conv_down23 input: [None, 256, 64, 64]\n",
      "\u001b[32m[0618 12:45:21 @registry.py:129]\u001b[0m classify_1/conv_down23 output: [None, 512, 32, 32]\n",
      "\u001b[32m[0618 12:45:21 @registry.py:121]\u001b[0m head_fusion_classify_1/up_0 input: [None, 256, 64, 64]\n",
      "\u001b[32m[0618 12:45:21 @registry.py:129]\u001b[0m head_fusion_classify_1/up_0 output: [None, 256, 128, 128]\n",
      "\u001b[32m[0618 12:45:21 @registry.py:121]\u001b[0m head_fusion_classify_1/up_1 input: [None, 512, 32, 32]\n",
      "\u001b[32m[0618 12:45:21 @registry.py:129]\u001b[0m head_fusion_classify_1/up_1 output: [None, 512, 64, 64]\n",
      "\u001b[32m[0618 12:45:21 @registry.py:121]\u001b[0m head_fusion_classify_1/up_2 input: [None, 512, 64, 64]\n",
      "\u001b[32m[0618 12:45:21 @registry.py:129]\u001b[0m head_fusion_classify_1/up_2 output: [None, 512, 128, 128]\n",
      "\u001b[32m[0618 12:45:21 @registry.py:121]\u001b[0m head_fusion_classify_1/conv_mix input: [None, 896, 128, 128]\n",
      "\u001b[32m[0618 12:45:21 @registry.py:129]\u001b[0m head_fusion_classify_1/conv_mix output: [None, 256, 128, 128]\n",
      "\u001b[32m[0618 12:45:21 @registry.py:121]\u001b[0m classify_1/up input: [None, 256, 128, 128]\n",
      "\u001b[32m[0618 12:45:21 @registry.py:129]\u001b[0m classify_1/up output: [None, 256, 256, 256]\n",
      "\u001b[32m[0618 12:45:21 @registry.py:121]\u001b[0m classify_1/conv_out input: [None, 256, 256, 256]\n",
      "\u001b[32m[0618 12:45:21 @registry.py:129]\u001b[0m classify_1/conv_out output: [None, 4, 256, 256]\n",
      "\u001b[32m[0618 12:45:21 @registry.py:121]\u001b[0m classify_2/com_11/up_0 input: [None, 256, 64, 64]\n",
      "\u001b[32m[0618 12:45:21 @registry.py:129]\u001b[0m classify_2/com_11/up_0 output: [None, 256, 128, 128]\n",
      "\u001b[32m[0618 12:45:21 @registry.py:121]\u001b[0m classify_2/com_11/conv_up input: [None, 256, 128, 128]\n",
      "\u001b[32m[0618 12:45:21 @registry.py:129]\u001b[0m classify_2/com_11/conv_up output: [None, 128, 128, 128]\n",
      "\u001b[32m[0618 12:45:21 @registry.py:121]\u001b[0m classify_2/conv_img12 input: [None, 192, 128, 128]\n",
      "\u001b[32m[0618 12:45:22 @registry.py:129]\u001b[0m classify_2/conv_img12 output: [None, 128, 128, 128]\n",
      "\u001b[32m[0618 12:45:22 @registry.py:121]\u001b[0m classify_2/groupl11/block0/conv1 input: [None, 128, 128, 128]\n",
      "\u001b[32m[0618 12:45:22 @registry.py:129]\u001b[0m classify_2/groupl11/block0/conv1 output: [None, 128, 128, 128]\n",
      "\u001b[32m[0618 12:45:22 @registry.py:121]\u001b[0m classify_2/groupl11/block0/conv2 input: [None, 128, 128, 128]\n",
      "\u001b[32m[0618 12:45:22 @registry.py:129]\u001b[0m classify_2/groupl11/block0/conv2 output: [None, 128, 128, 128]\n",
      "\u001b[32m[0618 12:45:22 @registry.py:121]\u001b[0m classify_2/groupl11/block0/gcb/spatial_pool_conv input: [None, 128, 128, 128]\n",
      "\u001b[32m[0618 12:45:22 @registry.py:129]\u001b[0m classify_2/groupl11/block0/gcb/spatial_pool_conv output: [None, 1, 128, 128]\n",
      "\u001b[32m[0618 12:45:22 @registry.py:121]\u001b[0m classify_2/groupl11/block0/gcb/channel_add_conv_1 input: [None, 128, 1, 1]\n",
      "\u001b[32m[0618 12:45:22 @registry.py:129]\u001b[0m classify_2/groupl11/block0/gcb/channel_add_conv_1 output: [None, 16, 1, 1]\n",
      "\u001b[32m[0618 12:45:22 @registry.py:121]\u001b[0m classify_2/groupl11/block0/gcb/channel_add_conv_2 input: [None, 16, 1, 1]\n",
      "\u001b[32m[0618 12:45:22 @registry.py:129]\u001b[0m classify_2/groupl11/block0/gcb/channel_add_conv_2 output: [None, 128, 1, 1]\n",
      "\u001b[32m[0618 12:45:22 @registry.py:121]\u001b[0m classify_2/conv_straight11 input: [None, 128, 128, 128]\n",
      "\u001b[32m[0618 12:45:22 @registry.py:129]\u001b[0m classify_2/conv_straight11 output: [None, 128, 128, 128]\n",
      "\u001b[32m[0618 12:45:22 @registry.py:121]\u001b[0m classify_2/conv_down11 input: [None, 128, 128, 128]\n",
      "\u001b[32m[0618 12:45:22 @registry.py:129]\u001b[0m classify_2/conv_down11 output: [None, 256, 64, 64]\n",
      "\u001b[32m[0618 12:45:22 @registry.py:121]\u001b[0m classify_2/com_12/up_0 input: [None, 512, 32, 32]\n",
      "\u001b[32m[0618 12:45:22 @registry.py:129]\u001b[0m classify_2/com_12/up_0 output: [None, 512, 64, 64]\n",
      "\u001b[32m[0618 12:45:22 @registry.py:121]\u001b[0m classify_2/com_12/up_1 input: [None, 512, 64, 64]\n",
      "\u001b[32m[0618 12:45:22 @registry.py:129]\u001b[0m classify_2/com_12/up_1 output: [None, 512, 128, 128]\n",
      "\u001b[32m[0618 12:45:22 @registry.py:121]\u001b[0m classify_2/com_12/conv_up input: [None, 512, 128, 128]\n",
      "\u001b[32m[0618 12:45:22 @registry.py:129]\u001b[0m classify_2/com_12/conv_up output: [None, 128, 128, 128]\n",
      "\u001b[32m[0618 12:45:22 @registry.py:121]\u001b[0m classify_2/com_22/up_0 input: [None, 512, 32, 32]\n",
      "\u001b[32m[0618 12:45:23 @registry.py:129]\u001b[0m classify_2/com_22/up_0 output: [None, 512, 64, 64]\n",
      "\u001b[32m[0618 12:45:23 @registry.py:121]\u001b[0m classify_2/com_22/conv_up input: [None, 512, 64, 64]\n",
      "\u001b[32m[0618 12:45:23 @registry.py:129]\u001b[0m classify_2/com_22/conv_up output: [None, 256, 64, 64]\n",
      "\u001b[32m[0618 12:45:23 @registry.py:121]\u001b[0m classify_2/conv_img22 input: [None, 384, 64, 64]\n",
      "\u001b[32m[0618 12:45:23 @registry.py:129]\u001b[0m classify_2/conv_img22 output: [None, 256, 64, 64]\n",
      "\u001b[32m[0618 12:45:23 @registry.py:121]\u001b[0m classify_2/groupl12/block0/conv1 input: [None, 128, 128, 128]\n",
      "\u001b[32m[0618 12:45:23 @registry.py:129]\u001b[0m classify_2/groupl12/block0/conv1 output: [None, 128, 128, 128]\n",
      "\u001b[32m[0618 12:45:23 @registry.py:121]\u001b[0m classify_2/groupl12/block0/conv2 input: [None, 128, 128, 128]\n",
      "\u001b[32m[0618 12:45:23 @registry.py:129]\u001b[0m classify_2/groupl12/block0/conv2 output: [None, 128, 128, 128]\n",
      "\u001b[32m[0618 12:45:23 @registry.py:121]\u001b[0m classify_2/groupl12/block0/gcb/spatial_pool_conv input: [None, 128, 128, 128]\n",
      "\u001b[32m[0618 12:45:23 @registry.py:129]\u001b[0m classify_2/groupl12/block0/gcb/spatial_pool_conv output: [None, 1, 128, 128]\n",
      "\u001b[32m[0618 12:45:23 @registry.py:121]\u001b[0m classify_2/groupl12/block0/gcb/channel_add_conv_1 input: [None, 128, 1, 1]\n",
      "\u001b[32m[0618 12:45:23 @registry.py:129]\u001b[0m classify_2/groupl12/block0/gcb/channel_add_conv_1 output: [None, 16, 1, 1]\n",
      "\u001b[32m[0618 12:45:23 @registry.py:121]\u001b[0m classify_2/groupl12/block0/gcb/channel_add_conv_2 input: [None, 16, 1, 1]\n",
      "\u001b[32m[0618 12:45:23 @registry.py:129]\u001b[0m classify_2/groupl12/block0/gcb/channel_add_conv_2 output: [None, 128, 1, 1]\n",
      "\u001b[32m[0618 12:45:23 @registry.py:121]\u001b[0m classify_2/groupl22/block0/conv1 input: [None, 256, 64, 64]\n",
      "\u001b[32m[0618 12:45:23 @registry.py:129]\u001b[0m classify_2/groupl22/block0/conv1 output: [None, 256, 64, 64]\n",
      "\u001b[32m[0618 12:45:23 @registry.py:121]\u001b[0m classify_2/groupl22/block0/conv2 input: [None, 256, 64, 64]\n",
      "\u001b[32m[0618 12:45:23 @registry.py:129]\u001b[0m classify_2/groupl22/block0/conv2 output: [None, 256, 64, 64]\n",
      "\u001b[32m[0618 12:45:23 @registry.py:121]\u001b[0m classify_2/groupl22/block0/gcb/spatial_pool_conv input: [None, 256, 64, 64]\n",
      "\u001b[32m[0618 12:45:23 @registry.py:129]\u001b[0m classify_2/groupl22/block0/gcb/spatial_pool_conv output: [None, 1, 64, 64]\n",
      "\u001b[32m[0618 12:45:23 @registry.py:121]\u001b[0m classify_2/groupl22/block0/gcb/channel_add_conv_1 input: [None, 256, 1, 1]\n",
      "\u001b[32m[0618 12:45:23 @registry.py:129]\u001b[0m classify_2/groupl22/block0/gcb/channel_add_conv_1 output: [None, 32, 1, 1]\n",
      "\u001b[32m[0618 12:45:23 @registry.py:121]\u001b[0m classify_2/groupl22/block0/gcb/channel_add_conv_2 input: [None, 32, 1, 1]\n",
      "\u001b[32m[0618 12:45:23 @registry.py:129]\u001b[0m classify_2/groupl22/block0/gcb/channel_add_conv_2 output: [None, 256, 1, 1]\n",
      "\u001b[32m[0618 12:45:23 @registry.py:121]\u001b[0m classify_2/conv_straight12 input: [None, 128, 128, 128]\n"
     ]
    },
    {
     "name": "stdout",
     "output_type": "stream",
     "text": [
      "\u001b[32m[0618 12:45:23 @registry.py:129]\u001b[0m classify_2/conv_straight12 output: [None, 128, 128, 128]\n",
      "\u001b[32m[0618 12:45:23 @registry.py:121]\u001b[0m classify_2/com_13/up_0 input: [None, 256, 64, 64]\n",
      "\u001b[32m[0618 12:45:23 @registry.py:129]\u001b[0m classify_2/com_13/up_0 output: [None, 256, 128, 128]\n",
      "\u001b[32m[0618 12:45:23 @registry.py:121]\u001b[0m classify_2/com_13/conv_up input: [None, 256, 128, 128]\n",
      "\u001b[32m[0618 12:45:23 @registry.py:129]\u001b[0m classify_2/com_13/conv_up output: [None, 128, 128, 128]\n",
      "\u001b[32m[0618 12:45:23 @registry.py:121]\u001b[0m classify_2/conv_straight22 input: [None, 256, 64, 64]\n",
      "\u001b[32m[0618 12:45:23 @registry.py:129]\u001b[0m classify_2/conv_straight22 output: [None, 256, 64, 64]\n",
      "\u001b[32m[0618 12:45:23 @registry.py:121]\u001b[0m classify_2/conv_down12 input: [None, 128, 128, 128]\n",
      "\u001b[32m[0618 12:45:23 @registry.py:129]\u001b[0m classify_2/conv_down12 output: [None, 256, 64, 64]\n",
      "\u001b[32m[0618 12:45:23 @registry.py:121]\u001b[0m classify_2/conv_down22 input: [None, 256, 64, 64]\n",
      "\u001b[32m[0618 12:45:23 @registry.py:129]\u001b[0m classify_2/conv_down22 output: [None, 512, 32, 32]\n",
      "\u001b[32m[0618 12:45:23 @registry.py:121]\u001b[0m classify_2/conv_downdown12 input: [None, 256, 64, 64]\n",
      "\u001b[32m[0618 12:45:23 @registry.py:129]\u001b[0m classify_2/conv_downdown12 output: [None, 512, 32, 32]\n",
      "\u001b[32m[0618 12:45:23 @registry.py:121]\u001b[0m classify_2/conv_img32 input: [None, 768, 32, 32]\n",
      "\u001b[32m[0618 12:45:23 @registry.py:129]\u001b[0m classify_2/conv_img32 output: [None, 512, 32, 32]\n",
      "\u001b[32m[0618 12:45:23 @registry.py:121]\u001b[0m classify_2/groupl13/block0/conv1 input: [None, 128, 128, 128]\n",
      "\u001b[32m[0618 12:45:24 @registry.py:129]\u001b[0m classify_2/groupl13/block0/conv1 output: [None, 128, 128, 128]\n",
      "\u001b[32m[0618 12:45:24 @registry.py:121]\u001b[0m classify_2/groupl13/block0/conv2 input: [None, 128, 128, 128]\n",
      "\u001b[32m[0618 12:45:24 @registry.py:129]\u001b[0m classify_2/groupl13/block0/conv2 output: [None, 128, 128, 128]\n",
      "\u001b[32m[0618 12:45:24 @registry.py:121]\u001b[0m classify_2/groupl13/block0/gcb/spatial_pool_conv input: [None, 128, 128, 128]\n",
      "\u001b[32m[0618 12:45:24 @registry.py:129]\u001b[0m classify_2/groupl13/block0/gcb/spatial_pool_conv output: [None, 1, 128, 128]\n",
      "\u001b[32m[0618 12:45:24 @registry.py:121]\u001b[0m classify_2/groupl13/block0/gcb/channel_add_conv_1 input: [None, 128, 1, 1]\n",
      "\u001b[32m[0618 12:45:24 @registry.py:129]\u001b[0m classify_2/groupl13/block0/gcb/channel_add_conv_1 output: [None, 16, 1, 1]\n",
      "\u001b[32m[0618 12:45:24 @registry.py:121]\u001b[0m classify_2/groupl13/block0/gcb/channel_add_conv_2 input: [None, 16, 1, 1]\n",
      "\u001b[32m[0618 12:45:24 @registry.py:129]\u001b[0m classify_2/groupl13/block0/gcb/channel_add_conv_2 output: [None, 128, 1, 1]\n",
      "\u001b[32m[0618 12:45:24 @registry.py:121]\u001b[0m classify_2/groupl23/block0/conv1 input: [None, 256, 64, 64]\n",
      "\u001b[32m[0618 12:45:24 @registry.py:129]\u001b[0m classify_2/groupl23/block0/conv1 output: [None, 256, 64, 64]\n",
      "\u001b[32m[0618 12:45:24 @registry.py:121]\u001b[0m classify_2/groupl23/block0/conv2 input: [None, 256, 64, 64]\n",
      "\u001b[32m[0618 12:45:24 @registry.py:129]\u001b[0m classify_2/groupl23/block0/conv2 output: [None, 256, 64, 64]\n",
      "\u001b[32m[0618 12:45:24 @registry.py:121]\u001b[0m classify_2/groupl23/block0/gcb/spatial_pool_conv input: [None, 256, 64, 64]\n",
      "\u001b[32m[0618 12:45:24 @registry.py:129]\u001b[0m classify_2/groupl23/block0/gcb/spatial_pool_conv output: [None, 1, 64, 64]\n",
      "\u001b[32m[0618 12:45:24 @registry.py:121]\u001b[0m classify_2/groupl23/block0/gcb/channel_add_conv_1 input: [None, 256, 1, 1]\n",
      "\u001b[32m[0618 12:45:24 @registry.py:129]\u001b[0m classify_2/groupl23/block0/gcb/channel_add_conv_1 output: [None, 32, 1, 1]\n",
      "\u001b[32m[0618 12:45:24 @registry.py:121]\u001b[0m classify_2/groupl23/block0/gcb/channel_add_conv_2 input: [None, 32, 1, 1]\n",
      "\u001b[32m[0618 12:45:24 @registry.py:129]\u001b[0m classify_2/groupl23/block0/gcb/channel_add_conv_2 output: [None, 256, 1, 1]\n",
      "\u001b[32m[0618 12:45:24 @registry.py:121]\u001b[0m classify_2/groupl33/block0/conv1 input: [None, 512, 32, 32]\n",
      "\u001b[32m[0618 12:45:24 @registry.py:129]\u001b[0m classify_2/groupl33/block0/conv1 output: [None, 512, 32, 32]\n",
      "\u001b[32m[0618 12:45:24 @registry.py:121]\u001b[0m classify_2/groupl33/block0/conv2 input: [None, 512, 32, 32]\n",
      "\u001b[32m[0618 12:45:24 @registry.py:129]\u001b[0m classify_2/groupl33/block0/conv2 output: [None, 512, 32, 32]\n",
      "\u001b[32m[0618 12:45:24 @registry.py:121]\u001b[0m classify_2/groupl33/block0/gcb/spatial_pool_conv input: [None, 512, 32, 32]\n",
      "\u001b[32m[0618 12:45:24 @registry.py:129]\u001b[0m classify_2/groupl33/block0/gcb/spatial_pool_conv output: [None, 1, 32, 32]\n",
      "\u001b[32m[0618 12:45:24 @registry.py:121]\u001b[0m classify_2/groupl33/block0/gcb/channel_add_conv_1 input: [None, 512, 1, 1]\n",
      "\u001b[32m[0618 12:45:24 @registry.py:129]\u001b[0m classify_2/groupl33/block0/gcb/channel_add_conv_1 output: [None, 64, 1, 1]\n",
      "\u001b[32m[0618 12:45:24 @registry.py:121]\u001b[0m classify_2/groupl33/block0/gcb/channel_add_conv_2 input: [None, 64, 1, 1]\n",
      "\u001b[32m[0618 12:45:24 @registry.py:129]\u001b[0m classify_2/groupl33/block0/gcb/channel_add_conv_2 output: [None, 512, 1, 1]\n",
      "\u001b[32m[0618 12:45:24 @registry.py:121]\u001b[0m classify_2/conv_straight13 input: [None, 128, 128, 128]\n",
      "\u001b[32m[0618 12:45:24 @registry.py:129]\u001b[0m classify_2/conv_straight13 output: [None, 128, 128, 128]\n",
      "\u001b[32m[0618 12:45:24 @registry.py:121]\u001b[0m classify_2/com_141/up_0 input: [None, 256, 64, 64]\n",
      "\u001b[32m[0618 12:45:24 @registry.py:129]\u001b[0m classify_2/com_141/up_0 output: [None, 256, 128, 128]\n",
      "\u001b[32m[0618 12:45:24 @registry.py:121]\u001b[0m classify_2/com_141/conv_up input: [None, 256, 128, 128]\n",
      "\u001b[32m[0618 12:45:24 @registry.py:129]\u001b[0m classify_2/com_141/conv_up output: [None, 128, 128, 128]\n",
      "\u001b[32m[0618 12:45:24 @registry.py:121]\u001b[0m classify_2/com_142/up_0 input: [None, 512, 32, 32]\n",
      "\u001b[32m[0618 12:45:24 @registry.py:129]\u001b[0m classify_2/com_142/up_0 output: [None, 512, 64, 64]\n",
      "\u001b[32m[0618 12:45:24 @registry.py:121]\u001b[0m classify_2/com_142/up_1 input: [None, 512, 64, 64]\n",
      "\u001b[32m[0618 12:45:24 @registry.py:129]\u001b[0m classify_2/com_142/up_1 output: [None, 512, 128, 128]\n",
      "\u001b[32m[0618 12:45:24 @registry.py:121]\u001b[0m classify_2/com_142/conv_up input: [None, 512, 128, 128]\n",
      "\u001b[32m[0618 12:45:24 @registry.py:129]\u001b[0m classify_2/com_142/conv_up output: [None, 128, 128, 128]\n",
      "\u001b[32m[0618 12:45:24 @registry.py:121]\u001b[0m classify_2/conv_straight23 input: [None, 256, 64, 64]\n",
      "\u001b[32m[0618 12:45:24 @registry.py:129]\u001b[0m classify_2/conv_straight23 output: [None, 256, 64, 64]\n",
      "\u001b[32m[0618 12:45:24 @registry.py:121]\u001b[0m classify_2/conv_down13 input: [None, 128, 128, 128]\n",
      "\u001b[32m[0618 12:45:25 @registry.py:129]\u001b[0m classify_2/conv_down13 output: [None, 256, 64, 64]\n",
      "\u001b[32m[0618 12:45:25 @registry.py:121]\u001b[0m classify_2/com_24/up_0 input: [None, 512, 32, 32]\n",
      "\u001b[32m[0618 12:45:25 @registry.py:129]\u001b[0m classify_2/com_24/up_0 output: [None, 512, 64, 64]\n",
      "\u001b[32m[0618 12:45:25 @registry.py:121]\u001b[0m classify_2/com_24/conv_up input: [None, 512, 64, 64]\n",
      "\u001b[32m[0618 12:45:25 @registry.py:129]\u001b[0m classify_2/com_24/conv_up output: [None, 256, 64, 64]\n",
      "\u001b[32m[0618 12:45:25 @registry.py:121]\u001b[0m classify_2/conv_straight33 input: [None, 512, 32, 32]\n",
      "\u001b[32m[0618 12:45:25 @registry.py:129]\u001b[0m classify_2/conv_straight33 output: [None, 512, 32, 32]\n",
      "\u001b[32m[0618 12:45:25 @registry.py:121]\u001b[0m classify_2/conv_downdown13 input: [None, 256, 64, 64]\n",
      "\u001b[32m[0618 12:45:25 @registry.py:129]\u001b[0m classify_2/conv_downdown13 output: [None, 512, 32, 32]\n",
      "\u001b[32m[0618 12:45:25 @registry.py:121]\u001b[0m classify_2/conv_down23 input: [None, 256, 64, 64]\n",
      "\u001b[32m[0618 12:45:25 @registry.py:129]\u001b[0m classify_2/conv_down23 output: [None, 512, 32, 32]\n",
      "\u001b[32m[0618 12:45:25 @registry.py:121]\u001b[0m head_fusion_classify_2/up_0 input: [None, 256, 64, 64]\n",
      "\u001b[32m[0618 12:45:25 @registry.py:129]\u001b[0m head_fusion_classify_2/up_0 output: [None, 256, 128, 128]\n",
      "\u001b[32m[0618 12:45:25 @registry.py:121]\u001b[0m head_fusion_classify_2/up_1 input: [None, 512, 32, 32]\n",
      "\u001b[32m[0618 12:45:25 @registry.py:129]\u001b[0m head_fusion_classify_2/up_1 output: [None, 512, 64, 64]\n",
      "\u001b[32m[0618 12:45:25 @registry.py:121]\u001b[0m head_fusion_classify_2/up_2 input: [None, 512, 64, 64]\n",
      "\u001b[32m[0618 12:45:25 @registry.py:129]\u001b[0m head_fusion_classify_2/up_2 output: [None, 512, 128, 128]\n",
      "\u001b[32m[0618 12:45:25 @registry.py:121]\u001b[0m head_fusion_classify_2/conv_mix input: [None, 896, 128, 128]\n",
      "\u001b[32m[0618 12:45:25 @registry.py:129]\u001b[0m head_fusion_classify_2/conv_mix output: [None, 256, 128, 128]\n",
      "\u001b[32m[0618 12:45:25 @registry.py:121]\u001b[0m classify_2/up input: [None, 256, 128, 128]\n",
      "\u001b[32m[0618 12:45:25 @registry.py:129]\u001b[0m classify_2/up output: [None, 256, 256, 256]\n"
     ]
    },
    {
     "name": "stdout",
     "output_type": "stream",
     "text": [
      "\u001b[32m[0618 12:45:25 @registry.py:121]\u001b[0m classify_2/conv_out input: [None, 256, 256, 256]\n",
      "\u001b[32m[0618 12:45:25 @registry.py:129]\u001b[0m classify_2/conv_out output: [None, 4, 256, 256]\n",
      "\u001b[32m[0618 12:45:25 @registry.py:121]\u001b[0m conv_out_type input: [None, 8, 256, 256]\n",
      "\u001b[32m[0618 12:45:25 @registry.py:129]\u001b[0m conv_out_type output: [None, 5, 256, 256]\n",
      "\u001b[32m[0618 12:45:25 @registry.py:121]\u001b[0m u3b/us input: [None, 512, 32, 32]\n",
      "\u001b[32m[0618 12:45:25 @registry.py:129]\u001b[0m u3b/us output: [None, 512, 64, 64]\n",
      "\u001b[32m[0618 12:45:25 @registry.py:121]\u001b[0m u3b/conv_1 input: [None, 768, 64, 64]\n",
      "\u001b[32m[0618 12:45:25 @registry.py:129]\u001b[0m u3b/conv_1 output: [None, 256, 64, 64]\n",
      "\u001b[32m[0618 12:45:25 @registry.py:121]\u001b[0m u3b/conv_2 input: [None, 256, 64, 64]\n",
      "\u001b[32m[0618 12:45:26 @registry.py:129]\u001b[0m u3b/conv_2 output: [None, 256, 64, 64]\n",
      "\u001b[32m[0618 12:45:26 @registry.py:121]\u001b[0m u2b/us input: [None, 256, 64, 64]\n",
      "\u001b[32m[0618 12:45:26 @registry.py:129]\u001b[0m u2b/us output: [None, 256, 128, 128]\n",
      "\u001b[32m[0618 12:45:26 @registry.py:121]\u001b[0m u2b/conv_1 input: [None, 384, 128, 128]\n",
      "\u001b[32m[0618 12:45:26 @registry.py:129]\u001b[0m u2b/conv_1 output: [None, 128, 128, 128]\n",
      "\u001b[32m[0618 12:45:26 @registry.py:121]\u001b[0m u2b/conv_2 input: [None, 128, 128, 128]\n",
      "\u001b[32m[0618 12:45:26 @registry.py:129]\u001b[0m u2b/conv_2 output: [None, 128, 128, 128]\n",
      "\u001b[32m[0618 12:45:26 @registry.py:121]\u001b[0m u1b/us input: [None, 128, 128, 128]\n",
      "\u001b[32m[0618 12:45:26 @registry.py:129]\u001b[0m u1b/us output: [None, 128, 256, 256]\n",
      "\u001b[32m[0618 12:45:26 @registry.py:121]\u001b[0m u1b/conv_1 input: [None, 192, 256, 256]\n",
      "\u001b[32m[0618 12:45:26 @registry.py:129]\u001b[0m u1b/conv_1 output: [None, 64, 256, 256]\n",
      "\u001b[32m[0618 12:45:26 @registry.py:121]\u001b[0m u1b/conv_2 input: [None, 64, 256, 256]\n",
      "\u001b[32m[0618 12:45:26 @registry.py:129]\u001b[0m u1b/conv_2 output: [None, 64, 256, 256]\n",
      "\u001b[32m[0618 12:45:26 @registry.py:121]\u001b[0m conv_out_b input: [None, 64, 256, 256]\n",
      "\u001b[32m[0618 12:45:26 @registry.py:129]\u001b[0m conv_out_b output: [None, 2, 256, 256]\n",
      "\u001b[32m[0618 12:45:26 @registry.py:121]\u001b[0m d1r/conv_1 input: [None, 2, 256, 256]\n",
      "\u001b[32m[0618 12:45:26 @registry.py:129]\u001b[0m d1r/conv_1 output: [None, 64, 256, 256]\n",
      "\u001b[32m[0618 12:45:26 @registry.py:121]\u001b[0m d1r/conv_2 input: [None, 64, 256, 256]\n",
      "\u001b[32m[0618 12:45:26 @registry.py:129]\u001b[0m d1r/conv_2 output: [None, 64, 256, 256]\n",
      "\u001b[32m[0618 12:45:26 @registry.py:121]\u001b[0m d2r/conv_1 input: [None, 64, 256, 256]\n",
      "\u001b[32m[0618 12:45:26 @registry.py:129]\u001b[0m d2r/conv_1 output: [None, 128, 128, 128]\n",
      "\u001b[32m[0618 12:45:26 @registry.py:121]\u001b[0m d2r/conv_2 input: [None, 128, 128, 128]\n",
      "\u001b[32m[0618 12:45:26 @registry.py:129]\u001b[0m d2r/conv_2 output: [None, 128, 128, 128]\n",
      "\u001b[32m[0618 12:45:26 @registry.py:121]\u001b[0m d3r/conv_1 input: [None, 128, 128, 128]\n",
      "\u001b[32m[0618 12:45:26 @registry.py:129]\u001b[0m d3r/conv_1 output: [None, 256, 64, 64]\n",
      "\u001b[32m[0618 12:45:26 @registry.py:121]\u001b[0m d3r/conv_2 input: [None, 256, 64, 64]\n",
      "\u001b[32m[0618 12:45:26 @registry.py:129]\u001b[0m d3r/conv_2 output: [None, 256, 64, 64]\n",
      "\u001b[32m[0618 12:45:26 @registry.py:121]\u001b[0m u2r/us input: [None, 256, 64, 64]\n",
      "\u001b[32m[0618 12:45:26 @registry.py:129]\u001b[0m u2r/us output: [None, 256, 128, 128]\n",
      "\u001b[32m[0618 12:45:26 @registry.py:121]\u001b[0m u2r/conv_1 input: [None, 384, 128, 128]\n",
      "\u001b[32m[0618 12:45:26 @registry.py:129]\u001b[0m u2r/conv_1 output: [None, 128, 128, 128]\n",
      "\u001b[32m[0618 12:45:26 @registry.py:121]\u001b[0m u2r/conv_2 input: [None, 128, 128, 128]\n",
      "\u001b[32m[0618 12:45:26 @registry.py:129]\u001b[0m u2r/conv_2 output: [None, 128, 128, 128]\n",
      "\u001b[32m[0618 12:45:26 @registry.py:121]\u001b[0m u1r/us input: [None, 128, 128, 128]\n",
      "\u001b[32m[0618 12:45:26 @registry.py:129]\u001b[0m u1r/us output: [None, 128, 256, 256]\n",
      "\u001b[32m[0618 12:45:26 @registry.py:121]\u001b[0m u1r/conv_1 input: [None, 192, 256, 256]\n",
      "\u001b[32m[0618 12:45:27 @registry.py:129]\u001b[0m u1r/conv_1 output: [None, 64, 256, 256]\n",
      "\u001b[32m[0618 12:45:27 @registry.py:121]\u001b[0m u1r/conv_2 input: [None, 64, 256, 256]\n",
      "\u001b[32m[0618 12:45:27 @registry.py:129]\u001b[0m u1r/conv_2 output: [None, 64, 256, 256]\n",
      "\u001b[32m[0618 12:45:27 @registry.py:121]\u001b[0m conv_out_r input: [None, 64, 256, 256]\n",
      "\u001b[32m[0618 12:45:27 @registry.py:129]\u001b[0m conv_out_r output: [None, 1, 256, 256]\n",
      "\u001b[32m[0618 12:45:28 @develop.py:96]\u001b[0m \u001b[5m\u001b[31mWRN\u001b[0m [Deprecated] get_cost() and self.cost will be deprecated after 30 Mar. Return the cost tensor directly in build_graph() instead!\n",
      "\u001b[32m[0618 12:45:28 @develop.py:96]\u001b[0m \u001b[5m\u001b[31mWRN\u001b[0m [Deprecated] ModelDescBase._get_optimizer() interface will be deprecated after 30 Mar. Use optimizer() instead!\n",
      "\u001b[32m[0618 12:45:33 @gradproc.py:77]\u001b[0m \u001b[5m\u001b[31mWRN\u001b[0m No gradient w.r.t 190 trainable variables: group0/block0/conv1/W, group0/block0/conv1/bn/gamma, group0/block0/conv1/bn/beta, group0/block0/conv2/W, group0/block0/conv2/bn/gamma, group0/block0/conv2/bn/beta, group0/block0/gcb/spatial_pool_conv/W, group0/block0/gcb/channel_add_conv_1/W, group0/block0/gcb/channel_add_layernorm/beta, group0/block0/gcb/channel_add_layernorm/gamma, group0/block0/gcb/channel_add_conv_2/W, group0/block1/conv1/W, group0/block1/conv1/bn/gamma, group0/block1/conv1/bn/beta, group0/block1/conv2/W, group0/block1/conv2/bn/gamma, group0/block1/conv2/bn/beta, group0/block1/gcb/spatial_pool_conv/W, group0/block1/gcb/channel_add_conv_1/W, group0/block1/gcb/channel_add_layernorm/beta, group0/block1/gcb/channel_add_layernorm/gamma, group0/block1/gcb/channel_add_conv_2/W, group0/block2/conv1/W, group0/block2/conv1/bn/gamma, group0/block2/conv1/bn/beta, group0/block2/conv2/W, group0/block2/conv2/bn/gamma, group0/block2/conv2/bn/beta, group0/block2/gcb/spatial_pool_conv/W, group0/block2/gcb/channel_add_conv_1/W, group0/block2/gcb/channel_add_layernorm/beta, group0/block2/gcb/channel_add_layernorm/gamma, group0/block2/gcb/channel_add_conv_2/W, group1/block0/conv1/W, group1/block0/conv1/bn/gamma, group1/block0/conv1/bn/beta, group1/block0/conv2/W, group1/block0/conv2/bn/gamma, group1/block0/conv2/bn/beta, group1/block0/gcb/spatial_pool_conv/W, group1/block0/gcb/channel_add_conv_1/W, group1/block0/gcb/channel_add_layernorm/beta, group1/block0/gcb/channel_add_layernorm/gamma, group1/block0/gcb/channel_add_conv_2/W, group1/block0/convshortcut/W, group1/block0/convshortcut/bn/gamma, group1/block0/convshortcut/bn/beta, group1/block1/conv1/W, group1/block1/conv1/bn/gamma, group1/block1/conv1/bn/beta, group1/block1/conv2/W, group1/block1/conv2/bn/gamma, group1/block1/conv2/bn/beta, group1/block1/gcb/spatial_pool_conv/W, group1/block1/gcb/channel_add_conv_1/W, group1/block1/gcb/channel_add_layernorm/beta, group1/block1/gcb/channel_add_layernorm/gamma, group1/block1/gcb/channel_add_conv_2/W, group1/block2/conv1/W, group1/block2/conv1/bn/gamma, group1/block2/conv1/bn/beta, group1/block2/conv2/W, group1/block2/conv2/bn/gamma, group1/block2/conv2/bn/beta, group1/block2/gcb/spatial_pool_conv/W, group1/block2/gcb/channel_add_conv_1/W, group1/block2/gcb/channel_add_layernorm/beta, group1/block2/gcb/channel_add_layernorm/gamma, group1/block2/gcb/channel_add_conv_2/W, group1/block3/conv1/W, group1/block3/conv1/bn/gamma, group1/block3/conv1/bn/beta, group1/block3/conv2/W, group1/block3/conv2/bn/gamma, group1/block3/conv2/bn/beta, group1/block3/gcb/spatial_pool_conv/W, group1/block3/gcb/channel_add_conv_1/W, group1/block3/gcb/channel_add_layernorm/beta, group1/block3/gcb/channel_add_layernorm/gamma, group1/block3/gcb/channel_add_conv_2/W, group2/block0/conv1/W, group2/block0/conv1/bn/gamma, group2/block0/conv1/bn/beta, group2/block0/conv2/W, group2/block0/conv2/bn/gamma, group2/block0/conv2/bn/beta, group2/block0/gcb/spatial_pool_conv/W, group2/block0/gcb/channel_add_conv_1/W, group2/block0/gcb/channel_add_layernorm/beta, group2/block0/gcb/channel_add_layernorm/gamma, group2/block0/gcb/channel_add_conv_2/W, group2/block0/convshortcut/W, group2/block0/convshortcut/bn/gamma, group2/block0/convshortcut/bn/beta, group2/block1/conv1/W, group2/block1/conv1/bn/gamma, group2/block1/conv1/bn/beta, group2/block1/conv2/W, group2/block1/conv2/bn/gamma, group2/block1/conv2/bn/beta, group2/block1/gcb/spatial_pool_conv/W, group2/block1/gcb/channel_add_conv_1/W, group2/block1/gcb/channel_add_layernorm/beta, group2/block1/gcb/channel_add_layernorm/gamma, group2/block1/gcb/channel_add_conv_2/W, group2/block2/conv1/W, group2/block2/conv1/bn/gamma, group2/block2/conv1/bn/beta, group2/block2/conv2/W, group2/block2/conv2/bn/gamma, group2/block2/conv2/bn/beta, group2/block2/gcb/spatial_pool_conv/W, group2/block2/gcb/channel_add_conv_1/W, group2/block2/gcb/channel_add_layernorm/beta, group2/block2/gcb/channel_add_layernorm/gamma, group2/block2/gcb/channel_add_conv_2/W, group2/block3/conv1/W, group2/block3/conv1/bn/gamma, group2/block3/conv1/bn/beta, group2/block3/conv2/W, group2/block3/conv2/bn/gamma, group2/block3/conv2/bn/beta, group2/block3/gcb/spatial_pool_conv/W, group2/block3/gcb/channel_add_conv_1/W, group2/block3/gcb/channel_add_layernorm/beta, group2/block3/gcb/channel_add_layernorm/gamma, group2/block3/gcb/channel_add_conv_2/W, group2/block4/conv1/W, group2/block4/conv1/bn/gamma, group2/block4/conv1/bn/beta, group2/block4/conv2/W, group2/block4/conv2/bn/gamma, group2/block4/conv2/bn/beta, group2/block4/gcb/spatial_pool_conv/W, group2/block4/gcb/channel_add_conv_1/W, group2/block4/gcb/channel_add_layernorm/beta, group2/block4/gcb/channel_add_layernorm/gamma, group2/block4/gcb/channel_add_conv_2/W, group2/block5/conv1/W, group2/block5/conv1/bn/gamma, group2/block5/conv1/bn/beta, group2/block5/conv2/W, group2/block5/conv2/bn/gamma, group2/block5/conv2/bn/beta, group2/block5/gcb/spatial_pool_conv/W, group2/block5/gcb/channel_add_conv_1/W, group2/block5/gcb/channel_add_layernorm/beta, group2/block5/gcb/channel_add_layernorm/gamma, group2/block5/gcb/channel_add_conv_2/W, group3/block0/conv1/W, group3/block0/conv1/bn/gamma, group3/block0/conv1/bn/beta, group3/block0/conv2/W, group3/block0/conv2/bn/gamma, group3/block0/conv2/bn/beta, group3/block0/gcb/spatial_pool_conv/W, group3/block0/gcb/channel_add_conv_1/W, group3/block0/gcb/channel_add_layernorm/beta, group3/block0/gcb/channel_add_layernorm/gamma, group3/block0/gcb/channel_add_conv_2/W, group3/block0/convshortcut/W, group3/block0/convshortcut/bn/gamma, group3/block0/convshortcut/bn/beta, group3/block1/conv1/W, group3/block1/conv1/bn/gamma, group3/block1/conv1/bn/beta, group3/block1/conv2/W, group3/block1/conv2/bn/gamma, group3/block1/conv2/bn/beta, group3/block1/gcb/spatial_pool_conv/W, group3/block1/gcb/channel_add_conv_1/W, group3/block1/gcb/channel_add_layernorm/beta, group3/block1/gcb/channel_add_layernorm/gamma, group3/block1/gcb/channel_add_conv_2/W, group3/block2/conv1/W, group3/block2/conv1/bn/gamma, group3/block2/conv1/bn/beta, group3/block2/conv2/W, group3/block2/conv2/bn/gamma, group3/block2/conv2/bn/beta, group3/block2/gcb/spatial_pool_conv/W, group3/block2/gcb/channel_add_conv_1/W, group3/block2/gcb/channel_add_layernorm/beta, group3/block2/gcb/channel_add_layernorm/gamma, group3/block2/gcb/channel_add_conv_2/W, param1, param2, param3, param4, param5\n"
     ]
    },
    {
     "name": "stdout",
     "output_type": "stream",
     "text": [
      "\u001b[32m[0618 12:45:33 @training.py:114]\u001b[0m Building graph for training tower 1 ...\n",
      "\u001b[32m[0618 12:45:33 @develop.py:96]\u001b[0m \u001b[5m\u001b[31mWRN\u001b[0m [Deprecated] ModelDescBase._build_graph() interface will be deprecated after 30 Mar. Use build_graph() instead!\n",
      "\u001b[32m[0618 12:45:41 @develop.py:96]\u001b[0m \u001b[5m\u001b[31mWRN\u001b[0m [Deprecated] get_cost() and self.cost will be deprecated after 30 Mar. Return the cost tensor directly in build_graph() instead!\n",
      "\u001b[32m[0618 12:45:47 @gradproc.py:77]\u001b[0m \u001b[5m\u001b[31mWRN\u001b[0m No gradient w.r.t 190 trainable variables: group0/block0/conv1/W, group0/block0/conv1/bn/gamma, group0/block0/conv1/bn/beta, group0/block0/conv2/W, group0/block0/conv2/bn/gamma, group0/block0/conv2/bn/beta, group0/block0/gcb/spatial_pool_conv/W, group0/block0/gcb/channel_add_conv_1/W, group0/block0/gcb/channel_add_layernorm/beta, group0/block0/gcb/channel_add_layernorm/gamma, group0/block0/gcb/channel_add_conv_2/W, group0/block1/conv1/W, group0/block1/conv1/bn/gamma, group0/block1/conv1/bn/beta, group0/block1/conv2/W, group0/block1/conv2/bn/gamma, group0/block1/conv2/bn/beta, group0/block1/gcb/spatial_pool_conv/W, group0/block1/gcb/channel_add_conv_1/W, group0/block1/gcb/channel_add_layernorm/beta, group0/block1/gcb/channel_add_layernorm/gamma, group0/block1/gcb/channel_add_conv_2/W, group0/block2/conv1/W, group0/block2/conv1/bn/gamma, group0/block2/conv1/bn/beta, group0/block2/conv2/W, group0/block2/conv2/bn/gamma, group0/block2/conv2/bn/beta, group0/block2/gcb/spatial_pool_conv/W, group0/block2/gcb/channel_add_conv_1/W, group0/block2/gcb/channel_add_layernorm/beta, group0/block2/gcb/channel_add_layernorm/gamma, group0/block2/gcb/channel_add_conv_2/W, group1/block0/conv1/W, group1/block0/conv1/bn/gamma, group1/block0/conv1/bn/beta, group1/block0/conv2/W, group1/block0/conv2/bn/gamma, group1/block0/conv2/bn/beta, group1/block0/gcb/spatial_pool_conv/W, group1/block0/gcb/channel_add_conv_1/W, group1/block0/gcb/channel_add_layernorm/beta, group1/block0/gcb/channel_add_layernorm/gamma, group1/block0/gcb/channel_add_conv_2/W, group1/block0/convshortcut/W, group1/block0/convshortcut/bn/gamma, group1/block0/convshortcut/bn/beta, group1/block1/conv1/W, group1/block1/conv1/bn/gamma, group1/block1/conv1/bn/beta, group1/block1/conv2/W, group1/block1/conv2/bn/gamma, group1/block1/conv2/bn/beta, group1/block1/gcb/spatial_pool_conv/W, group1/block1/gcb/channel_add_conv_1/W, group1/block1/gcb/channel_add_layernorm/beta, group1/block1/gcb/channel_add_layernorm/gamma, group1/block1/gcb/channel_add_conv_2/W, group1/block2/conv1/W, group1/block2/conv1/bn/gamma, group1/block2/conv1/bn/beta, group1/block2/conv2/W, group1/block2/conv2/bn/gamma, group1/block2/conv2/bn/beta, group1/block2/gcb/spatial_pool_conv/W, group1/block2/gcb/channel_add_conv_1/W, group1/block2/gcb/channel_add_layernorm/beta, group1/block2/gcb/channel_add_layernorm/gamma, group1/block2/gcb/channel_add_conv_2/W, group1/block3/conv1/W, group1/block3/conv1/bn/gamma, group1/block3/conv1/bn/beta, group1/block3/conv2/W, group1/block3/conv2/bn/gamma, group1/block3/conv2/bn/beta, group1/block3/gcb/spatial_pool_conv/W, group1/block3/gcb/channel_add_conv_1/W, group1/block3/gcb/channel_add_layernorm/beta, group1/block3/gcb/channel_add_layernorm/gamma, group1/block3/gcb/channel_add_conv_2/W, group2/block0/conv1/W, group2/block0/conv1/bn/gamma, group2/block0/conv1/bn/beta, group2/block0/conv2/W, group2/block0/conv2/bn/gamma, group2/block0/conv2/bn/beta, group2/block0/gcb/spatial_pool_conv/W, group2/block0/gcb/channel_add_conv_1/W, group2/block0/gcb/channel_add_layernorm/beta, group2/block0/gcb/channel_add_layernorm/gamma, group2/block0/gcb/channel_add_conv_2/W, group2/block0/convshortcut/W, group2/block0/convshortcut/bn/gamma, group2/block0/convshortcut/bn/beta, group2/block1/conv1/W, group2/block1/conv1/bn/gamma, group2/block1/conv1/bn/beta, group2/block1/conv2/W, group2/block1/conv2/bn/gamma, group2/block1/conv2/bn/beta, group2/block1/gcb/spatial_pool_conv/W, group2/block1/gcb/channel_add_conv_1/W, group2/block1/gcb/channel_add_layernorm/beta, group2/block1/gcb/channel_add_layernorm/gamma, group2/block1/gcb/channel_add_conv_2/W, group2/block2/conv1/W, group2/block2/conv1/bn/gamma, group2/block2/conv1/bn/beta, group2/block2/conv2/W, group2/block2/conv2/bn/gamma, group2/block2/conv2/bn/beta, group2/block2/gcb/spatial_pool_conv/W, group2/block2/gcb/channel_add_conv_1/W, group2/block2/gcb/channel_add_layernorm/beta, group2/block2/gcb/channel_add_layernorm/gamma, group2/block2/gcb/channel_add_conv_2/W, group2/block3/conv1/W, group2/block3/conv1/bn/gamma, group2/block3/conv1/bn/beta, group2/block3/conv2/W, group2/block3/conv2/bn/gamma, group2/block3/conv2/bn/beta, group2/block3/gcb/spatial_pool_conv/W, group2/block3/gcb/channel_add_conv_1/W, group2/block3/gcb/channel_add_layernorm/beta, group2/block3/gcb/channel_add_layernorm/gamma, group2/block3/gcb/channel_add_conv_2/W, group2/block4/conv1/W, group2/block4/conv1/bn/gamma, group2/block4/conv1/bn/beta, group2/block4/conv2/W, group2/block4/conv2/bn/gamma, group2/block4/conv2/bn/beta, group2/block4/gcb/spatial_pool_conv/W, group2/block4/gcb/channel_add_conv_1/W, group2/block4/gcb/channel_add_layernorm/beta, group2/block4/gcb/channel_add_layernorm/gamma, group2/block4/gcb/channel_add_conv_2/W, group2/block5/conv1/W, group2/block5/conv1/bn/gamma, group2/block5/conv1/bn/beta, group2/block5/conv2/W, group2/block5/conv2/bn/gamma, group2/block5/conv2/bn/beta, group2/block5/gcb/spatial_pool_conv/W, group2/block5/gcb/channel_add_conv_1/W, group2/block5/gcb/channel_add_layernorm/beta, group2/block5/gcb/channel_add_layernorm/gamma, group2/block5/gcb/channel_add_conv_2/W, group3/block0/conv1/W, group3/block0/conv1/bn/gamma, group3/block0/conv1/bn/beta, group3/block0/conv2/W, group3/block0/conv2/bn/gamma, group3/block0/conv2/bn/beta, group3/block0/gcb/spatial_pool_conv/W, group3/block0/gcb/channel_add_conv_1/W, group3/block0/gcb/channel_add_layernorm/beta, group3/block0/gcb/channel_add_layernorm/gamma, group3/block0/gcb/channel_add_conv_2/W, group3/block0/convshortcut/W, group3/block0/convshortcut/bn/gamma, group3/block0/convshortcut/bn/beta, group3/block1/conv1/W, group3/block1/conv1/bn/gamma, group3/block1/conv1/bn/beta, group3/block1/conv2/W, group3/block1/conv2/bn/gamma, group3/block1/conv2/bn/beta, group3/block1/gcb/spatial_pool_conv/W, group3/block1/gcb/channel_add_conv_1/W, group3/block1/gcb/channel_add_layernorm/beta, group3/block1/gcb/channel_add_layernorm/gamma, group3/block1/gcb/channel_add_conv_2/W, group3/block2/conv1/W, group3/block2/conv1/bn/gamma, group3/block2/conv1/bn/beta, group3/block2/conv2/W, group3/block2/conv2/bn/gamma, group3/block2/conv2/bn/beta, group3/block2/gcb/spatial_pool_conv/W, group3/block2/gcb/channel_add_conv_1/W, group3/block2/gcb/channel_add_layernorm/beta, group3/block2/gcb/channel_add_layernorm/gamma, group3/block2/gcb/channel_add_conv_2/W, param1, param2, param3, param4, param5\n",
      "\u001b[32m[0618 12:45:55 @model_utils.py:64]\u001b[0m \u001b[36mTrainable Variables: \n",
      "\u001b[0mname                                                          shape                 dim  device\n",
      "------------------------------------------------------------  ----------------  -------  ------------------------------\n",
      "en_10x/conv_1/W:0                                             [3, 3, 3, 128]       3456  /replica:0/task:0/device:GPU:0\n",
      "en_10x/conv_1/bn/gamma:0                                      [128]                 128  /replica:0/task:0/device:GPU:1\n",
      "en_10x/conv_1/bn/beta:0                                       [128]                 128  /replica:0/task:0/device:GPU:1\n",
      "en_10x/conv_2/W:0                                             [3, 3, 128, 128]   147456  /replica:0/task:0/device:GPU:1\n",
      "en_10x/conv_2/bn/gamma:0                                      [128]                 128  /replica:0/task:0/device:GPU:0\n",
      "en_10x/conv_2/bn/beta:0                                       [128]                 128  /replica:0/task:0/device:GPU:0\n",
      "en_10x/gcb/spatial_pool_conv/W:0                              [1, 1, 128, 1]        128  /replica:0/task:0/device:GPU:0\n",
      "en_10x/gcb/channel_add_conv_1/W:0                             [1, 1, 128, 16]      2048  /replica:0/task:0/device:GPU:0\n",
      "en_10x/gcb/channel_add_layernorm/beta:0                       [16]                   16  /replica:0/task:0/device:GPU:0\n",
      "en_10x/gcb/channel_add_layernorm/gamma:0                      [16]                   16  /replica:0/task:0/device:GPU:0\n",
      "en_10x/gcb/channel_add_conv_2/W:0                             [1, 1, 16, 128]      2048  /replica:0/task:0/device:GPU:0\n",
      "cov_10x_up/W:0                                                [3, 3, 128, 64]     73728  /replica:0/task:0/device:GPU:0\n",
      "cov_10x_up/bn/gamma:0                                         [64]                   64  /replica:0/task:0/device:GPU:0\n",
      "cov_10x_up/bn/beta:0                                          [64]                   64  /replica:0/task:0/device:GPU:0\n",
      "cov_10x_down/W:0                                              [3, 3, 128, 256]   294912  /replica:0/task:0/device:GPU:0\n",
      "cov_10x_down/bn/gamma:0                                       [256]                 256  /replica:0/task:0/device:GPU:1\n",
      "cov_10x_down/bn/beta:0                                        [256]                 256  /replica:0/task:0/device:GPU:1\n",
      "cov_10x_straight/W:0                                          [3, 3, 128, 128]   147456  /replica:0/task:0/device:GPU:1\n",
      "cov_10x_straight/bn/gamma:0                                   [128]                 128  /replica:0/task:0/device:GPU:1\n",
      "cov_10x_straight/bn/beta:0                                    [128]                 128  /replica:0/task:0/device:GPU:1\n",
      "en_40x/conv_1/W:0                                             [3, 3, 3, 128]       3456  /replica:0/task:0/device:GPU:1\n",
      "en_40x/conv_1/bn/gamma:0                                      [128]                 128  /replica:0/task:0/device:GPU:1\n",
      "en_40x/conv_1/bn/beta:0                                       [128]                 128  /replica:0/task:0/device:GPU:1\n",
      "en_40x/conv_2/W:0                                             [3, 3, 128, 128]   147456  /replica:0/task:0/device:GPU:1\n",
      "en_40x/conv_2/bn/gamma:0                                      [128]                 128  /replica:0/task:0/device:GPU:0\n",
      "en_40x/conv_2/bn/beta:0                                       [128]                 128  /replica:0/task:0/device:GPU:0\n",
      "en_40x/gcb/spatial_pool_conv/W:0                              [1, 1, 128, 1]        128  /replica:0/task:0/device:GPU:0\n",
      "en_40x/gcb/channel_add_conv_1/W:0                             [1, 1, 128, 16]      2048  /replica:0/task:0/device:GPU:0\n",
      "en_40x/gcb/channel_add_layernorm/beta:0                       [16]                   16  /replica:0/task:0/device:GPU:0\n",
      "en_40x/gcb/channel_add_layernorm/gamma:0                      [16]                   16  /replica:0/task:0/device:GPU:0\n",
      "en_40x/gcb/channel_add_conv_2/W:0                             [1, 1, 16, 128]      2048  /replica:0/task:0/device:GPU:0\n",
      "cov_40x_up/W:0                                                [3, 3, 128, 64]     73728  /replica:0/task:0/device:GPU:0\n",
      "cov_40x_up/bn/gamma:0                                         [64]                   64  /replica:0/task:0/device:GPU:1\n",
      "cov_40x_up/bn/beta:0                                          [64]                   64  /replica:0/task:0/device:GPU:1\n",
      "cov_40x_down/W:0                                              [3, 3, 128, 256]   294912  /replica:0/task:0/device:GPU:1\n",
      "cov_40x_down/bn/gamma:0                                       [256]                 256  /replica:0/task:0/device:GPU:0\n",
      "cov_40x_down/bn/beta:0                                        [256]                 256  /replica:0/task:0/device:GPU:0\n",
      "cov_40x_straight/W:0                                          [3, 3, 128, 128]   147456  /replica:0/task:0/device:GPU:0\n",
      "cov_40x_straight/bn/gamma:0                                   [128]                 128  /replica:0/task:0/device:GPU:0\n",
      "cov_40x_straight/bn/beta:0                                    [128]                 128  /replica:0/task:0/device:GPU:0\n",
      "conv0/W:0                                                     [7, 7, 3, 64]        9408  /replica:0/task:0/device:GPU:0\n",
      "conv0/bn/gamma:0                                              [64]                   64  /replica:0/task:0/device:GPU:0\n",
      "conv0/bn/beta:0                                               [64]                   64  /replica:0/task:0/device:GPU:0\n",
      "group0/block0/conv1/W:0                                       [3, 3, 64, 64]      36864  /replica:0/task:0/device:GPU:0\n",
      "group0/block0/conv1/bn/gamma:0                                [64]                   64  /replica:0/task:0/device:GPU:0\n",
      "group0/block0/conv1/bn/beta:0                                 [64]                   64  /replica:0/task:0/device:GPU:0\n",
      "group0/block0/conv2/W:0                                       [3, 3, 64, 64]      36864  /replica:0/task:0/device:GPU:0\n",
      "group0/block0/conv2/bn/gamma:0                                [64]                   64  /replica:0/task:0/device:GPU:0\n",
      "group0/block0/conv2/bn/beta:0                                 [64]                   64  /replica:0/task:0/device:GPU:0\n",
      "group0/block0/gcb/spatial_pool_conv/W:0                       [1, 1, 64, 1]          64  /replica:0/task:0/device:GPU:0\n",
      "group0/block0/gcb/channel_add_conv_1/W:0                      [1, 1, 64, 8]         512  /replica:0/task:0/device:GPU:0\n",
      "group0/block0/gcb/channel_add_layernorm/beta:0                [8]                     8  /replica:0/task:0/device:GPU:0\n",
      "group0/block0/gcb/channel_add_layernorm/gamma:0               [8]                     8  /replica:0/task:0/device:GPU:0\n",
      "group0/block0/gcb/channel_add_conv_2/W:0                      [1, 1, 8, 64]         512  /replica:0/task:0/device:GPU:0\n",
      "group0/block1/conv1/W:0                                       [3, 3, 64, 64]      36864  /replica:0/task:0/device:GPU:0\n",
      "group0/block1/conv1/bn/gamma:0                                [64]                   64  /replica:0/task:0/device:GPU:0\n",
      "group0/block1/conv1/bn/beta:0                                 [64]                   64  /replica:0/task:0/device:GPU:0\n",
      "group0/block1/conv2/W:0                                       [3, 3, 64, 64]      36864  /replica:0/task:0/device:GPU:0\n",
      "group0/block1/conv2/bn/gamma:0                                [64]                   64  /replica:0/task:0/device:GPU:1\n",
      "group0/block1/conv2/bn/beta:0                                 [64]                   64  /replica:0/task:0/device:GPU:1\n",
      "group0/block1/gcb/spatial_pool_conv/W:0                       [1, 1, 64, 1]          64  /replica:0/task:0/device:GPU:1\n",
      "group0/block1/gcb/channel_add_conv_1/W:0                      [1, 1, 64, 8]         512  /replica:0/task:0/device:GPU:1\n",
      "group0/block1/gcb/channel_add_layernorm/beta:0                [8]                     8  /replica:0/task:0/device:GPU:1\n",
      "group0/block1/gcb/channel_add_layernorm/gamma:0               [8]                     8  /replica:0/task:0/device:GPU:1\n",
      "group0/block1/gcb/channel_add_conv_2/W:0                      [1, 1, 8, 64]         512  /replica:0/task:0/device:GPU:1\n",
      "group0/block2/conv1/W:0                                       [3, 3, 64, 64]      36864  /replica:0/task:0/device:GPU:1\n",
      "group0/block2/conv1/bn/gamma:0                                [64]                   64  /replica:0/task:0/device:GPU:0\n",
      "group0/block2/conv1/bn/beta:0                                 [64]                   64  /replica:0/task:0/device:GPU:0\n",
      "group0/block2/conv2/W:0                                       [3, 3, 64, 64]      36864  /replica:0/task:0/device:GPU:0\n",
      "group0/block2/conv2/bn/gamma:0                                [64]                   64  /replica:0/task:0/device:GPU:1\n",
      "group0/block2/conv2/bn/beta:0                                 [64]                   64  /replica:0/task:0/device:GPU:1\n",
      "group0/block2/gcb/spatial_pool_conv/W:0                       [1, 1, 64, 1]          64  /replica:0/task:0/device:GPU:1\n",
      "group0/block2/gcb/channel_add_conv_1/W:0                      [1, 1, 64, 8]         512  /replica:0/task:0/device:GPU:1\n",
      "group0/block2/gcb/channel_add_layernorm/beta:0                [8]                     8  /replica:0/task:0/device:GPU:1\n",
      "group0/block2/gcb/channel_add_layernorm/gamma:0               [8]                     8  /replica:0/task:0/device:GPU:1\n",
      "group0/block2/gcb/channel_add_conv_2/W:0                      [1, 1, 8, 64]         512  /replica:0/task:0/device:GPU:1\n",
      "group1/block0/conv1/W:0                                       [3, 3, 64, 128]     73728  /replica:0/task:0/device:GPU:1\n",
      "group1/block0/conv1/bn/gamma:0                                [128]                 128  /replica:0/task:0/device:GPU:0\n",
      "group1/block0/conv1/bn/beta:0                                 [128]                 128  /replica:0/task:0/device:GPU:0\n",
      "group1/block0/conv2/W:0                                       [3, 3, 128, 128]   147456  /replica:0/task:0/device:GPU:0\n",
      "group1/block0/conv2/bn/gamma:0                                [128]                 128  /replica:0/task:0/device:GPU:1\n",
      "group1/block0/conv2/bn/beta:0                                 [128]                 128  /replica:0/task:0/device:GPU:1\n",
      "group1/block0/gcb/spatial_pool_conv/W:0                       [1, 1, 128, 1]        128  /replica:0/task:0/device:GPU:1\n",
      "group1/block0/gcb/channel_add_conv_1/W:0                      [1, 1, 128, 16]      2048  /replica:0/task:0/device:GPU:1\n",
      "group1/block0/gcb/channel_add_layernorm/beta:0                [16]                   16  /replica:0/task:0/device:GPU:1\n",
      "group1/block0/gcb/channel_add_layernorm/gamma:0               [16]                   16  /replica:0/task:0/device:GPU:1\n",
      "group1/block0/gcb/channel_add_conv_2/W:0                      [1, 1, 16, 128]      2048  /replica:0/task:0/device:GPU:1\n",
      "group1/block0/convshortcut/W:0                                [1, 1, 64, 128]      8192  /replica:0/task:0/device:GPU:1\n",
      "group1/block0/convshortcut/bn/gamma:0                         [128]                 128  /replica:0/task:0/device:GPU:1\n",
      "group1/block0/convshortcut/bn/beta:0                          [128]                 128  /replica:0/task:0/device:GPU:1\n",
      "group1/block1/conv1/W:0                                       [3, 3, 128, 128]   147456  /replica:0/task:0/device:GPU:1\n",
      "group1/block1/conv1/bn/gamma:0                                [128]                 128  /replica:0/task:0/device:GPU:0\n",
      "group1/block1/conv1/bn/beta:0                                 [128]                 128  /replica:0/task:0/device:GPU:0\n",
      "group1/block1/conv2/W:0                                       [3, 3, 128, 128]   147456  /replica:0/task:0/device:GPU:0\n",
      "group1/block1/conv2/bn/gamma:0                                [128]                 128  /replica:0/task:0/device:GPU:1\n",
      "group1/block1/conv2/bn/beta:0                                 [128]                 128  /replica:0/task:0/device:GPU:1\n",
      "group1/block1/gcb/spatial_pool_conv/W:0                       [1, 1, 128, 1]        128  /replica:0/task:0/device:GPU:1\n",
      "group1/block1/gcb/channel_add_conv_1/W:0                      [1, 1, 128, 16]      2048  /replica:0/task:0/device:GPU:1\n",
      "group1/block1/gcb/channel_add_layernorm/beta:0                [16]                   16  /replica:0/task:0/device:GPU:1\n",
      "group1/block1/gcb/channel_add_layernorm/gamma:0               [16]                   16  /replica:0/task:0/device:GPU:1\n",
      "group1/block1/gcb/channel_add_conv_2/W:0                      [1, 1, 16, 128]      2048  /replica:0/task:0/device:GPU:1\n",
      "group1/block2/conv1/W:0                                       [3, 3, 128, 128]   147456  /replica:0/task:0/device:GPU:1\n",
      "group1/block2/conv1/bn/gamma:0                                [128]                 128  /replica:0/task:0/device:GPU:0\n",
      "group1/block2/conv1/bn/beta:0                                 [128]                 128  /replica:0/task:0/device:GPU:0\n",
      "group1/block2/conv2/W:0                                       [3, 3, 128, 128]   147456  /replica:0/task:0/device:GPU:0\n",
      "group1/block2/conv2/bn/gamma:0                                [128]                 128  /replica:0/task:0/device:GPU:1\n",
      "group1/block2/conv2/bn/beta:0                                 [128]                 128  /replica:0/task:0/device:GPU:1\n",
      "group1/block2/gcb/spatial_pool_conv/W:0                       [1, 1, 128, 1]        128  /replica:0/task:0/device:GPU:1\n",
      "group1/block2/gcb/channel_add_conv_1/W:0                      [1, 1, 128, 16]      2048  /replica:0/task:0/device:GPU:1\n",
      "group1/block2/gcb/channel_add_layernorm/beta:0                [16]                   16  /replica:0/task:0/device:GPU:1\n",
      "group1/block2/gcb/channel_add_layernorm/gamma:0               [16]                   16  /replica:0/task:0/device:GPU:1\n",
      "group1/block2/gcb/channel_add_conv_2/W:0                      [1, 1, 16, 128]      2048  /replica:0/task:0/device:GPU:1\n",
      "group1/block3/conv1/W:0                                       [3, 3, 128, 128]   147456  /replica:0/task:0/device:GPU:1\n",
      "group1/block3/conv1/bn/gamma:0                                [128]                 128  /replica:0/task:0/device:GPU:0\n",
      "group1/block3/conv1/bn/beta:0                                 [128]                 128  /replica:0/task:0/device:GPU:0\n",
      "group1/block3/conv2/W:0                                       [3, 3, 128, 128]   147456  /replica:0/task:0/device:GPU:0\n",
      "group1/block3/conv2/bn/gamma:0                                [128]                 128  /replica:0/task:0/device:GPU:1\n",
      "group1/block3/conv2/bn/beta:0                                 [128]                 128  /replica:0/task:0/device:GPU:1\n",
      "group1/block3/gcb/spatial_pool_conv/W:0                       [1, 1, 128, 1]        128  /replica:0/task:0/device:GPU:1\n",
      "group1/block3/gcb/channel_add_conv_1/W:0                      [1, 1, 128, 16]      2048  /replica:0/task:0/device:GPU:1\n",
      "group1/block3/gcb/channel_add_layernorm/beta:0                [16]                   16  /replica:0/task:0/device:GPU:1\n",
      "group1/block3/gcb/channel_add_layernorm/gamma:0               [16]                   16  /replica:0/task:0/device:GPU:1\n",
      "group1/block3/gcb/channel_add_conv_2/W:0                      [1, 1, 16, 128]      2048  /replica:0/task:0/device:GPU:1\n",
      "group2/block0/conv1/W:0                                       [3, 3, 128, 256]   294912  /replica:0/task:0/device:GPU:1\n",
      "group2/block0/conv1/bn/gamma:0                                [256]                 256  /replica:0/task:0/device:GPU:0\n",
      "group2/block0/conv1/bn/beta:0                                 [256]                 256  /replica:0/task:0/device:GPU:0\n",
      "group2/block0/conv2/W:0                                       [3, 3, 256, 256]   589824  /replica:0/task:0/device:GPU:0\n",
      "group2/block0/conv2/bn/gamma:0                                [256]                 256  /replica:0/task:0/device:GPU:1\n",
      "group2/block0/conv2/bn/beta:0                                 [256]                 256  /replica:0/task:0/device:GPU:1\n",
      "group2/block0/gcb/spatial_pool_conv/W:0                       [1, 1, 256, 1]        256  /replica:0/task:0/device:GPU:1\n",
      "group2/block0/gcb/channel_add_conv_1/W:0                      [1, 1, 256, 32]      8192  /replica:0/task:0/device:GPU:1\n",
      "group2/block0/gcb/channel_add_layernorm/beta:0                [32]                   32  /replica:0/task:0/device:GPU:1\n",
      "group2/block0/gcb/channel_add_layernorm/gamma:0               [32]                   32  /replica:0/task:0/device:GPU:1\n",
      "group2/block0/gcb/channel_add_conv_2/W:0                      [1, 1, 32, 256]      8192  /replica:0/task:0/device:GPU:1\n",
      "group2/block0/convshortcut/W:0                                [1, 1, 128, 256]    32768  /replica:0/task:0/device:GPU:1\n",
      "group2/block0/convshortcut/bn/gamma:0                         [256]                 256  /replica:0/task:0/device:GPU:1\n",
      "group2/block0/convshortcut/bn/beta:0                          [256]                 256  /replica:0/task:0/device:GPU:1\n",
      "group2/block1/conv1/W:0                                       [3, 3, 256, 256]   589824  /replica:0/task:0/device:GPU:1\n",
      "group2/block1/conv1/bn/gamma:0                                [256]                 256  /replica:0/task:0/device:GPU:0\n",
      "group2/block1/conv1/bn/beta:0                                 [256]                 256  /replica:0/task:0/device:GPU:0\n",
      "group2/block1/conv2/W:0                                       [3, 3, 256, 256]   589824  /replica:0/task:0/device:GPU:0\n",
      "group2/block1/conv2/bn/gamma:0                                [256]                 256  /replica:0/task:0/device:GPU:1\n",
      "group2/block1/conv2/bn/beta:0                                 [256]                 256  /replica:0/task:0/device:GPU:1\n",
      "group2/block1/gcb/spatial_pool_conv/W:0                       [1, 1, 256, 1]        256  /replica:0/task:0/device:GPU:1\n",
      "group2/block1/gcb/channel_add_conv_1/W:0                      [1, 1, 256, 32]      8192  /replica:0/task:0/device:GPU:1\n",
      "group2/block1/gcb/channel_add_layernorm/beta:0                [32]                   32  /replica:0/task:0/device:GPU:1\n",
      "group2/block1/gcb/channel_add_layernorm/gamma:0               [32]                   32  /replica:0/task:0/device:GPU:1\n",
      "group2/block1/gcb/channel_add_conv_2/W:0                      [1, 1, 32, 256]      8192  /replica:0/task:0/device:GPU:1\n",
      "group2/block2/conv1/W:0                                       [3, 3, 256, 256]   589824  /replica:0/task:0/device:GPU:1\n",
      "group2/block2/conv1/bn/gamma:0                                [256]                 256  /replica:0/task:0/device:GPU:0\n",
      "group2/block2/conv1/bn/beta:0                                 [256]                 256  /replica:0/task:0/device:GPU:0\n",
      "group2/block2/conv2/W:0                                       [3, 3, 256, 256]   589824  /replica:0/task:0/device:GPU:0\n",
      "group2/block2/conv2/bn/gamma:0                                [256]                 256  /replica:0/task:0/device:GPU:1\n",
      "group2/block2/conv2/bn/beta:0                                 [256]                 256  /replica:0/task:0/device:GPU:1\n",
      "group2/block2/gcb/spatial_pool_conv/W:0                       [1, 1, 256, 1]        256  /replica:0/task:0/device:GPU:1\n",
      "group2/block2/gcb/channel_add_conv_1/W:0                      [1, 1, 256, 32]      8192  /replica:0/task:0/device:GPU:1\n",
      "group2/block2/gcb/channel_add_layernorm/beta:0                [32]                   32  /replica:0/task:0/device:GPU:1\n",
      "group2/block2/gcb/channel_add_layernorm/gamma:0               [32]                   32  /replica:0/task:0/device:GPU:1\n",
      "group2/block2/gcb/channel_add_conv_2/W:0                      [1, 1, 32, 256]      8192  /replica:0/task:0/device:GPU:1\n",
      "group2/block3/conv1/W:0                                       [3, 3, 256, 256]   589824  /replica:0/task:0/device:GPU:1\n",
      "group2/block3/conv1/bn/gamma:0                                [256]                 256  /replica:0/task:0/device:GPU:0\n",
      "group2/block3/conv1/bn/beta:0                                 [256]                 256  /replica:0/task:0/device:GPU:0\n",
      "group2/block3/conv2/W:0                                       [3, 3, 256, 256]   589824  /replica:0/task:0/device:GPU:0\n",
      "group2/block3/conv2/bn/gamma:0                                [256]                 256  /replica:0/task:0/device:GPU:1\n",
      "group2/block3/conv2/bn/beta:0                                 [256]                 256  /replica:0/task:0/device:GPU:1\n",
      "group2/block3/gcb/spatial_pool_conv/W:0                       [1, 1, 256, 1]        256  /replica:0/task:0/device:GPU:1\n",
      "group2/block3/gcb/channel_add_conv_1/W:0                      [1, 1, 256, 32]      8192  /replica:0/task:0/device:GPU:1\n",
      "group2/block3/gcb/channel_add_layernorm/beta:0                [32]                   32  /replica:0/task:0/device:GPU:1\n",
      "group2/block3/gcb/channel_add_layernorm/gamma:0               [32]                   32  /replica:0/task:0/device:GPU:1\n",
      "group2/block3/gcb/channel_add_conv_2/W:0                      [1, 1, 32, 256]      8192  /replica:0/task:0/device:GPU:1\n",
      "group2/block4/conv1/W:0                                       [3, 3, 256, 256]   589824  /replica:0/task:0/device:GPU:1\n",
      "group2/block4/conv1/bn/gamma:0                                [256]                 256  /replica:0/task:0/device:GPU:0\n",
      "group2/block4/conv1/bn/beta:0                                 [256]                 256  /replica:0/task:0/device:GPU:0\n",
      "group2/block4/conv2/W:0                                       [3, 3, 256, 256]   589824  /replica:0/task:0/device:GPU:0\n",
      "group2/block4/conv2/bn/gamma:0                                [256]                 256  /replica:0/task:0/device:GPU:1\n",
      "group2/block4/conv2/bn/beta:0                                 [256]                 256  /replica:0/task:0/device:GPU:1\n",
      "group2/block4/gcb/spatial_pool_conv/W:0                       [1, 1, 256, 1]        256  /replica:0/task:0/device:GPU:1\n",
      "group2/block4/gcb/channel_add_conv_1/W:0                      [1, 1, 256, 32]      8192  /replica:0/task:0/device:GPU:1\n",
      "group2/block4/gcb/channel_add_layernorm/beta:0                [32]                   32  /replica:0/task:0/device:GPU:1\n",
      "group2/block4/gcb/channel_add_layernorm/gamma:0               [32]                   32  /replica:0/task:0/device:GPU:1\n",
      "group2/block4/gcb/channel_add_conv_2/W:0                      [1, 1, 32, 256]      8192  /replica:0/task:0/device:GPU:1\n",
      "group2/block5/conv1/W:0                                       [3, 3, 256, 256]   589824  /replica:0/task:0/device:GPU:1\n",
      "group2/block5/conv1/bn/gamma:0                                [256]                 256  /replica:0/task:0/device:GPU:0\n",
      "group2/block5/conv1/bn/beta:0                                 [256]                 256  /replica:0/task:0/device:GPU:0\n",
      "group2/block5/conv2/W:0                                       [3, 3, 256, 256]   589824  /replica:0/task:0/device:GPU:0\n",
      "group2/block5/conv2/bn/gamma:0                                [256]                 256  /replica:0/task:0/device:GPU:1\n",
      "group2/block5/conv2/bn/beta:0                                 [256]                 256  /replica:0/task:0/device:GPU:1\n",
      "group2/block5/gcb/spatial_pool_conv/W:0                       [1, 1, 256, 1]        256  /replica:0/task:0/device:GPU:1\n",
      "group2/block5/gcb/channel_add_conv_1/W:0                      [1, 1, 256, 32]      8192  /replica:0/task:0/device:GPU:1\n",
      "group2/block5/gcb/channel_add_layernorm/beta:0                [32]                   32  /replica:0/task:0/device:GPU:1\n",
      "group2/block5/gcb/channel_add_layernorm/gamma:0               [32]                   32  /replica:0/task:0/device:GPU:1\n",
      "group2/block5/gcb/channel_add_conv_2/W:0                      [1, 1, 32, 256]      8192  /replica:0/task:0/device:GPU:1\n",
      "group3/block0/conv1/W:0                                       [3, 3, 256, 512]  1179648  /replica:0/task:0/device:GPU:1\n",
      "group3/block0/conv1/bn/gamma:0                                [512]                 512  /replica:0/task:0/device:GPU:0\n",
      "group3/block0/conv1/bn/beta:0                                 [512]                 512  /replica:0/task:0/device:GPU:0\n",
      "group3/block0/conv2/W:0                                       [3, 3, 512, 512]  2359296  /replica:0/task:0/device:GPU:0\n",
      "group3/block0/conv2/bn/gamma:0                                [512]                 512  /replica:0/task:0/device:GPU:1\n",
      "group3/block0/conv2/bn/beta:0                                 [512]                 512  /replica:0/task:0/device:GPU:1\n",
      "group3/block0/gcb/spatial_pool_conv/W:0                       [1, 1, 512, 1]        512  /replica:0/task:0/device:GPU:1\n",
      "group3/block0/gcb/channel_add_conv_1/W:0                      [1, 1, 512, 64]     32768  /replica:0/task:0/device:GPU:1\n",
      "group3/block0/gcb/channel_add_layernorm/beta:0                [64]                   64  /replica:0/task:0/device:GPU:1\n",
      "group3/block0/gcb/channel_add_layernorm/gamma:0               [64]                   64  /replica:0/task:0/device:GPU:1\n",
      "group3/block0/gcb/channel_add_conv_2/W:0                      [1, 1, 64, 512]     32768  /replica:0/task:0/device:GPU:1\n",
      "group3/block0/convshortcut/W:0                                [1, 1, 256, 512]   131072  /replica:0/task:0/device:GPU:1\n",
      "group3/block0/convshortcut/bn/gamma:0                         [512]                 512  /replica:0/task:0/device:GPU:1\n",
      "group3/block0/convshortcut/bn/beta:0                          [512]                 512  /replica:0/task:0/device:GPU:1\n",
      "group3/block1/conv1/W:0                                       [3, 3, 512, 512]  2359296  /replica:0/task:0/device:GPU:1\n",
      "group3/block1/conv1/bn/gamma:0                                [512]                 512  /replica:0/task:0/device:GPU:0\n",
      "group3/block1/conv1/bn/beta:0                                 [512]                 512  /replica:0/task:0/device:GPU:0\n",
      "group3/block1/conv2/W:0                                       [3, 3, 512, 512]  2359296  /replica:0/task:0/device:GPU:0\n",
      "group3/block1/conv2/bn/gamma:0                                [512]                 512  /replica:0/task:0/device:GPU:1\n",
      "group3/block1/conv2/bn/beta:0                                 [512]                 512  /replica:0/task:0/device:GPU:1\n",
      "group3/block1/gcb/spatial_pool_conv/W:0                       [1, 1, 512, 1]        512  /replica:0/task:0/device:GPU:1\n",
      "group3/block1/gcb/channel_add_conv_1/W:0                      [1, 1, 512, 64]     32768  /replica:0/task:0/device:GPU:1\n",
      "group3/block1/gcb/channel_add_layernorm/beta:0                [64]                   64  /replica:0/task:0/device:GPU:1\n",
      "group3/block1/gcb/channel_add_layernorm/gamma:0               [64]                   64  /replica:0/task:0/device:GPU:1\n",
      "group3/block1/gcb/channel_add_conv_2/W:0                      [1, 1, 64, 512]     32768  /replica:0/task:0/device:GPU:1\n",
      "group3/block2/conv1/W:0                                       [3, 3, 512, 512]  2359296  /replica:0/task:0/device:GPU:1\n",
      "group3/block2/conv1/bn/gamma:0                                [512]                 512  /replica:0/task:0/device:GPU:0\n",
      "group3/block2/conv1/bn/beta:0                                 [512]                 512  /replica:0/task:0/device:GPU:0\n",
      "group3/block2/conv2/W:0                                       [3, 3, 512, 512]  2359296  /replica:0/task:0/device:GPU:0\n",
      "group3/block2/conv2/bn/gamma:0                                [512]                 512  /replica:0/task:0/device:GPU:1\n",
      "group3/block2/conv2/bn/beta:0                                 [512]                 512  /replica:0/task:0/device:GPU:1\n",
      "group3/block2/gcb/spatial_pool_conv/W:0                       [1, 1, 512, 1]        512  /replica:0/task:0/device:GPU:1\n",
      "group3/block2/gcb/channel_add_conv_1/W:0                      [1, 1, 512, 64]     32768  /replica:0/task:0/device:GPU:1\n",
      "group3/block2/gcb/channel_add_layernorm/beta:0                [64]                   64  /replica:0/task:0/device:GPU:1\n",
      "group3/block2/gcb/channel_add_layernorm/gamma:0               [64]                   64  /replica:0/task:0/device:GPU:1\n",
      "group3/block2/gcb/channel_add_conv_2/W:0                      [1, 1, 64, 512]     32768  /replica:0/task:0/device:GPU:1\n",
      "classify_1/com_11/conv_up/W:0                                 [1, 1, 256, 128]    32768  /replica:0/task:0/device:GPU:1\n",
      "classify_1/com_11/conv_up/bn/gamma:0                          [128]                 128  /replica:0/task:0/device:GPU:1\n",
      "classify_1/com_11/conv_up/bn/beta:0                           [128]                 128  /replica:0/task:0/device:GPU:1\n",
      "classify_1/conv_img12/W:0                                     [1, 1, 192, 128]    24576  /replica:0/task:0/device:GPU:1\n",
      "classify_1/conv_img12/bn/gamma:0                              [128]                 128  /replica:0/task:0/device:GPU:1\n",
      "classify_1/conv_img12/bn/beta:0                               [128]                 128  /replica:0/task:0/device:GPU:1\n",
      "classify_1/groupl11/block0/conv1/W:0                          [3, 3, 128, 128]   147456  /replica:0/task:0/device:GPU:1\n",
      "classify_1/groupl11/block0/conv1/bn/gamma:0                   [128]                 128  /replica:0/task:0/device:GPU:1\n",
      "classify_1/groupl11/block0/conv1/bn/beta:0                    [128]                 128  /replica:0/task:0/device:GPU:1\n",
      "classify_1/groupl11/block0/conv2/W:0                          [3, 3, 128, 128]   147456  /replica:0/task:0/device:GPU:1\n",
      "classify_1/groupl11/block0/conv2/bn/gamma:0                   [128]                 128  /replica:0/task:0/device:GPU:1\n",
      "classify_1/groupl11/block0/conv2/bn/beta:0                    [128]                 128  /replica:0/task:0/device:GPU:1\n",
      "classify_1/groupl11/block0/gcb/spatial_pool_conv/W:0          [1, 1, 128, 1]        128  /replica:0/task:0/device:GPU:1\n",
      "classify_1/groupl11/block0/gcb/channel_add_conv_1/W:0         [1, 1, 128, 16]      2048  /replica:0/task:0/device:GPU:1\n",
      "classify_1/groupl11/block0/gcb/channel_add_layernorm/beta:0   [16]                   16  /replica:0/task:0/device:GPU:1\n",
      "classify_1/groupl11/block0/gcb/channel_add_layernorm/gamma:0  [16]                   16  /replica:0/task:0/device:GPU:1\n",
      "classify_1/groupl11/block0/gcb/channel_add_conv_2/W:0         [1, 1, 16, 128]      2048  /replica:0/task:0/device:GPU:1\n",
      "classify_1/conv_straight11/W:0                                [3, 3, 128, 128]   147456  /replica:0/task:0/device:GPU:1\n",
      "classify_1/conv_straight11/bn/gamma:0                         [128]                 128  /replica:0/task:0/device:GPU:1\n",
      "classify_1/conv_straight11/bn/beta:0                          [128]                 128  /replica:0/task:0/device:GPU:1\n",
      "classify_1/conv_down11/W:0                                    [3, 3, 128, 256]   294912  /replica:0/task:0/device:GPU:1\n",
      "classify_1/conv_down11/bn/gamma:0                             [256]                 256  /replica:0/task:0/device:GPU:1\n",
      "classify_1/conv_down11/bn/beta:0                              [256]                 256  /replica:0/task:0/device:GPU:1\n",
      "classify_1/com_12/conv_up/W:0                                 [1, 1, 512, 128]    65536  /replica:0/task:0/device:GPU:1\n",
      "classify_1/com_12/conv_up/bn/gamma:0                          [128]                 128  /replica:0/task:0/device:GPU:1\n",
      "classify_1/com_12/conv_up/bn/beta:0                           [128]                 128  /replica:0/task:0/device:GPU:1\n",
      "classify_1/com_22/conv_up/W:0                                 [1, 1, 512, 256]   131072  /replica:0/task:0/device:GPU:1\n",
      "classify_1/com_22/conv_up/bn/gamma:0                          [256]                 256  /replica:0/task:0/device:GPU:1\n",
      "classify_1/com_22/conv_up/bn/beta:0                           [256]                 256  /replica:0/task:0/device:GPU:1\n",
      "classify_1/conv_img22/W:0                                     [1, 1, 384, 256]    98304  /replica:0/task:0/device:GPU:1\n",
      "classify_1/conv_img22/bn/gamma:0                              [256]                 256  /replica:0/task:0/device:GPU:0\n",
      "classify_1/conv_img22/bn/beta:0                               [256]                 256  /replica:0/task:0/device:GPU:0\n",
      "classify_1/groupl12/block0/conv1/W:0                          [3, 3, 128, 128]   147456  /replica:0/task:0/device:GPU:0\n",
      "classify_1/groupl12/block0/conv1/bn/gamma:0                   [128]                 128  /replica:0/task:0/device:GPU:1\n",
      "classify_1/groupl12/block0/conv1/bn/beta:0                    [128]                 128  /replica:0/task:0/device:GPU:1\n",
      "classify_1/groupl12/block0/conv2/W:0                          [3, 3, 128, 128]   147456  /replica:0/task:0/device:GPU:1\n",
      "classify_1/groupl12/block0/conv2/bn/gamma:0                   [128]                 128  /replica:0/task:0/device:GPU:0\n",
      "classify_1/groupl12/block0/conv2/bn/beta:0                    [128]                 128  /replica:0/task:0/device:GPU:0\n",
      "classify_1/groupl12/block0/gcb/spatial_pool_conv/W:0          [1, 1, 128, 1]        128  /replica:0/task:0/device:GPU:0\n",
      "classify_1/groupl12/block0/gcb/channel_add_conv_1/W:0         [1, 1, 128, 16]      2048  /replica:0/task:0/device:GPU:0\n",
      "classify_1/groupl12/block0/gcb/channel_add_layernorm/beta:0   [16]                   16  /replica:0/task:0/device:GPU:0\n",
      "classify_1/groupl12/block0/gcb/channel_add_layernorm/gamma:0  [16]                   16  /replica:0/task:0/device:GPU:0\n",
      "classify_1/groupl12/block0/gcb/channel_add_conv_2/W:0         [1, 1, 16, 128]      2048  /replica:0/task:0/device:GPU:0\n",
      "classify_1/groupl22/block0/conv1/W:0                          [3, 3, 256, 256]   589824  /replica:0/task:0/device:GPU:0\n",
      "classify_1/groupl22/block0/conv1/bn/gamma:0                   [256]                 256  /replica:0/task:0/device:GPU:1\n",
      "classify_1/groupl22/block0/conv1/bn/beta:0                    [256]                 256  /replica:0/task:0/device:GPU:1\n",
      "classify_1/groupl22/block0/conv2/W:0                          [3, 3, 256, 256]   589824  /replica:0/task:0/device:GPU:1\n",
      "classify_1/groupl22/block0/conv2/bn/gamma:0                   [256]                 256  /replica:0/task:0/device:GPU:0\n",
      "classify_1/groupl22/block0/conv2/bn/beta:0                    [256]                 256  /replica:0/task:0/device:GPU:0\n",
      "classify_1/groupl22/block0/gcb/spatial_pool_conv/W:0          [1, 1, 256, 1]        256  /replica:0/task:0/device:GPU:0\n",
      "classify_1/groupl22/block0/gcb/channel_add_conv_1/W:0         [1, 1, 256, 32]      8192  /replica:0/task:0/device:GPU:0\n",
      "classify_1/groupl22/block0/gcb/channel_add_layernorm/beta:0   [32]                   32  /replica:0/task:0/device:GPU:0\n",
      "classify_1/groupl22/block0/gcb/channel_add_layernorm/gamma:0  [32]                   32  /replica:0/task:0/device:GPU:0\n",
      "classify_1/groupl22/block0/gcb/channel_add_conv_2/W:0         [1, 1, 32, 256]      8192  /replica:0/task:0/device:GPU:0\n",
      "classify_1/conv_straight12/W:0                                [3, 3, 128, 128]   147456  /replica:0/task:0/device:GPU:0\n",
      "classify_1/conv_straight12/bn/gamma:0                         [128]                 128  /replica:0/task:0/device:GPU:1\n",
      "classify_1/conv_straight12/bn/beta:0                          [128]                 128  /replica:0/task:0/device:GPU:1\n",
      "classify_1/com_13/conv_up/W:0                                 [1, 1, 256, 128]    32768  /replica:0/task:0/device:GPU:1\n",
      "classify_1/com_13/conv_up/bn/gamma:0                          [128]                 128  /replica:0/task:0/device:GPU:1\n",
      "classify_1/com_13/conv_up/bn/beta:0                           [128]                 128  /replica:0/task:0/device:GPU:1\n",
      "classify_1/conv_straight22/W:0                                [3, 3, 256, 256]   589824  /replica:0/task:0/device:GPU:1\n",
      "classify_1/conv_straight22/bn/gamma:0                         [256]                 256  /replica:0/task:0/device:GPU:0\n",
      "classify_1/conv_straight22/bn/beta:0                          [256]                 256  /replica:0/task:0/device:GPU:0\n",
      "classify_1/conv_down12/W:0                                    [3, 3, 128, 256]   294912  /replica:0/task:0/device:GPU:0\n",
      "classify_1/conv_down12/bn/gamma:0                             [256]                 256  /replica:0/task:0/device:GPU:0\n",
      "classify_1/conv_down12/bn/beta:0                              [256]                 256  /replica:0/task:0/device:GPU:0\n",
      "classify_1/conv_down22/W:0                                    [3, 3, 256, 512]  1179648  /replica:0/task:0/device:GPU:0\n",
      "classify_1/conv_down22/bn/gamma:0                             [512]                 512  /replica:0/task:0/device:GPU:1\n",
      "classify_1/conv_down22/bn/beta:0                              [512]                 512  /replica:0/task:0/device:GPU:1\n",
      "classify_1/conv_downdown12/W:0                                [3, 3, 256, 512]  1179648  /replica:0/task:0/device:GPU:1\n",
      "classify_1/conv_downdown12/bn/gamma:0                         [512]                 512  /replica:0/task:0/device:GPU:0\n",
      "classify_1/conv_downdown12/bn/beta:0                          [512]                 512  /replica:0/task:0/device:GPU:0\n",
      "classify_1/conv_img32/W:0                                     [1, 1, 768, 512]   393216  /replica:0/task:0/device:GPU:0\n",
      "classify_1/conv_img32/bn/gamma:0                              [512]                 512  /replica:0/task:0/device:GPU:1\n",
      "classify_1/conv_img32/bn/beta:0                               [512]                 512  /replica:0/task:0/device:GPU:1\n",
      "classify_1/groupl13/block0/conv1/W:0                          [3, 3, 128, 128]   147456  /replica:0/task:0/device:GPU:1\n",
      "classify_1/groupl13/block0/conv1/bn/gamma:0                   [128]                 128  /replica:0/task:0/device:GPU:1\n",
      "classify_1/groupl13/block0/conv1/bn/beta:0                    [128]                 128  /replica:0/task:0/device:GPU:1\n",
      "classify_1/groupl13/block0/conv2/W:0                          [3, 3, 128, 128]   147456  /replica:0/task:0/device:GPU:1\n",
      "classify_1/groupl13/block0/conv2/bn/gamma:0                   [128]                 128  /replica:0/task:0/device:GPU:0\n",
      "classify_1/groupl13/block0/conv2/bn/beta:0                    [128]                 128  /replica:0/task:0/device:GPU:0\n",
      "classify_1/groupl13/block0/gcb/spatial_pool_conv/W:0          [1, 1, 128, 1]        128  /replica:0/task:0/device:GPU:0\n",
      "classify_1/groupl13/block0/gcb/channel_add_conv_1/W:0         [1, 1, 128, 16]      2048  /replica:0/task:0/device:GPU:0\n",
      "classify_1/groupl13/block0/gcb/channel_add_layernorm/beta:0   [16]                   16  /replica:0/task:0/device:GPU:0\n",
      "classify_1/groupl13/block0/gcb/channel_add_layernorm/gamma:0  [16]                   16  /replica:0/task:0/device:GPU:0\n",
      "classify_1/groupl13/block0/gcb/channel_add_conv_2/W:0         [1, 1, 16, 128]      2048  /replica:0/task:0/device:GPU:0\n",
      "classify_1/groupl23/block0/conv1/W:0                          [3, 3, 256, 256]   589824  /replica:0/task:0/device:GPU:0\n",
      "classify_1/groupl23/block0/conv1/bn/gamma:0                   [256]                 256  /replica:0/task:0/device:GPU:1\n",
      "classify_1/groupl23/block0/conv1/bn/beta:0                    [256]                 256  /replica:0/task:0/device:GPU:1\n",
      "classify_1/groupl23/block0/conv2/W:0                          [3, 3, 256, 256]   589824  /replica:0/task:0/device:GPU:1\n",
      "classify_1/groupl23/block0/conv2/bn/gamma:0                   [256]                 256  /replica:0/task:0/device:GPU:0\n",
      "classify_1/groupl23/block0/conv2/bn/beta:0                    [256]                 256  /replica:0/task:0/device:GPU:0\n",
      "classify_1/groupl23/block0/gcb/spatial_pool_conv/W:0          [1, 1, 256, 1]        256  /replica:0/task:0/device:GPU:0\n",
      "classify_1/groupl23/block0/gcb/channel_add_conv_1/W:0         [1, 1, 256, 32]      8192  /replica:0/task:0/device:GPU:0\n",
      "classify_1/groupl23/block0/gcb/channel_add_layernorm/beta:0   [32]                   32  /replica:0/task:0/device:GPU:0\n",
      "classify_1/groupl23/block0/gcb/channel_add_layernorm/gamma:0  [32]                   32  /replica:0/task:0/device:GPU:0\n",
      "classify_1/groupl23/block0/gcb/channel_add_conv_2/W:0         [1, 1, 32, 256]      8192  /replica:0/task:0/device:GPU:0\n",
      "classify_1/groupl33/block0/conv1/W:0                          [3, 3, 512, 512]  2359296  /replica:0/task:0/device:GPU:0\n",
      "classify_1/groupl33/block0/conv1/bn/gamma:0                   [512]                 512  /replica:0/task:0/device:GPU:1\n",
      "classify_1/groupl33/block0/conv1/bn/beta:0                    [512]                 512  /replica:0/task:0/device:GPU:1\n",
      "classify_1/groupl33/block0/conv2/W:0                          [3, 3, 512, 512]  2359296  /replica:0/task:0/device:GPU:1\n",
      "classify_1/groupl33/block0/conv2/bn/gamma:0                   [512]                 512  /replica:0/task:0/device:GPU:0\n",
      "classify_1/groupl33/block0/conv2/bn/beta:0                    [512]                 512  /replica:0/task:0/device:GPU:0\n",
      "classify_1/groupl33/block0/gcb/spatial_pool_conv/W:0          [1, 1, 512, 1]        512  /replica:0/task:0/device:GPU:0\n",
      "classify_1/groupl33/block0/gcb/channel_add_conv_1/W:0         [1, 1, 512, 64]     32768  /replica:0/task:0/device:GPU:0\n",
      "classify_1/groupl33/block0/gcb/channel_add_layernorm/beta:0   [64]                   64  /replica:0/task:0/device:GPU:0\n",
      "classify_1/groupl33/block0/gcb/channel_add_layernorm/gamma:0  [64]                   64  /replica:0/task:0/device:GPU:0\n",
      "classify_1/groupl33/block0/gcb/channel_add_conv_2/W:0         [1, 1, 64, 512]     32768  /replica:0/task:0/device:GPU:0\n",
      "classify_1/conv_straight13/W:0                                [3, 3, 128, 128]   147456  /replica:0/task:0/device:GPU:1\n",
      "classify_1/conv_straight13/bn/gamma:0                         [128]                 128  /replica:0/task:0/device:GPU:0\n",
      "classify_1/conv_straight13/bn/beta:0                          [128]                 128  /replica:0/task:0/device:GPU:0\n",
      "classify_1/com_141/conv_up/W:0                                [1, 1, 256, 128]    32768  /replica:0/task:0/device:GPU:0\n",
      "classify_1/com_141/conv_up/bn/gamma:0                         [128]                 128  /replica:0/task:0/device:GPU:0\n",
      "classify_1/com_141/conv_up/bn/beta:0                          [128]                 128  /replica:0/task:0/device:GPU:0\n",
      "classify_1/com_142/conv_up/W:0                                [1, 1, 512, 128]    65536  /replica:0/task:0/device:GPU:0\n",
      "classify_1/com_142/conv_up/bn/gamma:0                         [128]                 128  /replica:0/task:0/device:GPU:0\n",
      "classify_1/com_142/conv_up/bn/beta:0                          [128]                 128  /replica:0/task:0/device:GPU:0\n",
      "classify_1/conv_straight23/W:0                                [3, 3, 256, 256]   589824  /replica:0/task:0/device:GPU:0\n",
      "classify_1/conv_straight23/bn/gamma:0                         [256]                 256  /replica:0/task:0/device:GPU:1\n",
      "classify_1/conv_straight23/bn/beta:0                          [256]                 256  /replica:0/task:0/device:GPU:1\n",
      "classify_1/conv_down13/W:0                                    [3, 3, 128, 256]   294912  /replica:0/task:0/device:GPU:1\n",
      "classify_1/conv_down13/bn/gamma:0                             [256]                 256  /replica:0/task:0/device:GPU:1\n",
      "classify_1/conv_down13/bn/beta:0                              [256]                 256  /replica:0/task:0/device:GPU:1\n",
      "classify_1/com_24/conv_up/W:0                                 [1, 1, 512, 256]   131072  /replica:0/task:0/device:GPU:1\n",
      "classify_1/com_24/conv_up/bn/gamma:0                          [256]                 256  /replica:0/task:0/device:GPU:1\n",
      "classify_1/com_24/conv_up/bn/beta:0                           [256]                 256  /replica:0/task:0/device:GPU:1\n",
      "classify_1/conv_straight33/W:0                                [3, 3, 512, 512]  2359296  /replica:0/task:0/device:GPU:1\n",
      "classify_1/conv_straight33/bn/gamma:0                         [512]                 512  /replica:0/task:0/device:GPU:0\n",
      "classify_1/conv_straight33/bn/beta:0                          [512]                 512  /replica:0/task:0/device:GPU:0\n",
      "classify_1/conv_downdown13/W:0                                [3, 3, 256, 512]  1179648  /replica:0/task:0/device:GPU:0\n",
      "classify_1/conv_downdown13/bn/gamma:0                         [512]                 512  /replica:0/task:0/device:GPU:0\n",
      "classify_1/conv_downdown13/bn/beta:0                          [512]                 512  /replica:0/task:0/device:GPU:0\n",
      "classify_1/conv_down23/W:0                                    [3, 3, 256, 512]  1179648  /replica:0/task:0/device:GPU:0\n",
      "classify_1/conv_down23/bn/gamma:0                             [512]                 512  /replica:0/task:0/device:GPU:1\n",
      "classify_1/conv_down23/bn/beta:0                              [512]                 512  /replica:0/task:0/device:GPU:1\n",
      "head_fusion_classify_1/conv_mix/W:0                           [1, 1, 896, 256]   229376  /replica:0/task:0/device:GPU:1\n",
      "head_fusion_classify_1/conv_mix/bn/gamma:0                    [256]                 256  /replica:0/task:0/device:GPU:0\n",
      "head_fusion_classify_1/conv_mix/bn/beta:0                     [256]                 256  /replica:0/task:0/device:GPU:0\n",
      "classify_1/conv_out/W:0                                       [1, 1, 256, 4]       1024  /replica:0/task:0/device:GPU:0\n",
      "classify_1/conv_out/b:0                                       [4]                     4  /replica:0/task:0/device:GPU:0\n",
      "classify_2/com_11/conv_up/W:0                                 [1, 1, 256, 128]    32768  /replica:0/task:0/device:GPU:0\n",
      "classify_2/com_11/conv_up/bn/gamma:0                          [128]                 128  /replica:0/task:0/device:GPU:0\n",
      "classify_2/com_11/conv_up/bn/beta:0                           [128]                 128  /replica:0/task:0/device:GPU:0\n",
      "classify_2/conv_img12/W:0                                     [1, 1, 192, 128]    24576  /replica:0/task:0/device:GPU:0\n",
      "classify_2/conv_img12/bn/gamma:0                              [128]                 128  /replica:0/task:0/device:GPU:0\n",
      "classify_2/conv_img12/bn/beta:0                               [128]                 128  /replica:0/task:0/device:GPU:0\n",
      "classify_2/groupl11/block0/conv1/W:0                          [3, 3, 128, 128]   147456  /replica:0/task:0/device:GPU:0\n",
      "classify_2/groupl11/block0/conv1/bn/gamma:0                   [128]                 128  /replica:0/task:0/device:GPU:1\n",
      "classify_2/groupl11/block0/conv1/bn/beta:0                    [128]                 128  /replica:0/task:0/device:GPU:1\n",
      "classify_2/groupl11/block0/conv2/W:0                          [3, 3, 128, 128]   147456  /replica:0/task:0/device:GPU:1\n",
      "classify_2/groupl11/block0/conv2/bn/gamma:0                   [128]                 128  /replica:0/task:0/device:GPU:0\n",
      "classify_2/groupl11/block0/conv2/bn/beta:0                    [128]                 128  /replica:0/task:0/device:GPU:0\n",
      "classify_2/groupl11/block0/gcb/spatial_pool_conv/W:0          [1, 1, 128, 1]        128  /replica:0/task:0/device:GPU:0\n",
      "classify_2/groupl11/block0/gcb/channel_add_conv_1/W:0         [1, 1, 128, 16]      2048  /replica:0/task:0/device:GPU:0\n",
      "classify_2/groupl11/block0/gcb/channel_add_layernorm/beta:0   [16]                   16  /replica:0/task:0/device:GPU:0\n",
      "classify_2/groupl11/block0/gcb/channel_add_layernorm/gamma:0  [16]                   16  /replica:0/task:0/device:GPU:0\n",
      "classify_2/groupl11/block0/gcb/channel_add_conv_2/W:0         [1, 1, 16, 128]      2048  /replica:0/task:0/device:GPU:0\n",
      "classify_2/conv_straight11/W:0                                [3, 3, 128, 128]   147456  /replica:0/task:0/device:GPU:0\n",
      "classify_2/conv_straight11/bn/gamma:0                         [128]                 128  /replica:0/task:0/device:GPU:1\n",
      "classify_2/conv_straight11/bn/beta:0                          [128]                 128  /replica:0/task:0/device:GPU:1\n",
      "classify_2/conv_down11/W:0                                    [3, 3, 128, 256]   294912  /replica:0/task:0/device:GPU:1\n",
      "classify_2/conv_down11/bn/gamma:0                             [256]                 256  /replica:0/task:0/device:GPU:0\n",
      "classify_2/conv_down11/bn/beta:0                              [256]                 256  /replica:0/task:0/device:GPU:0\n",
      "classify_2/com_12/conv_up/W:0                                 [1, 1, 512, 128]    65536  /replica:0/task:0/device:GPU:0\n",
      "classify_2/com_12/conv_up/bn/gamma:0                          [128]                 128  /replica:0/task:0/device:GPU:0\n",
      "classify_2/com_12/conv_up/bn/beta:0                           [128]                 128  /replica:0/task:0/device:GPU:0\n",
      "classify_2/com_22/conv_up/W:0                                 [1, 1, 512, 256]   131072  /replica:0/task:0/device:GPU:0\n",
      "classify_2/com_22/conv_up/bn/gamma:0                          [256]                 256  /replica:0/task:0/device:GPU:1\n",
      "classify_2/com_22/conv_up/bn/beta:0                           [256]                 256  /replica:0/task:0/device:GPU:1\n",
      "classify_2/conv_img22/W:0                                     [1, 1, 384, 256]    98304  /replica:0/task:0/device:GPU:1\n",
      "classify_2/conv_img22/bn/gamma:0                              [256]                 256  /replica:0/task:0/device:GPU:0\n",
      "classify_2/conv_img22/bn/beta:0                               [256]                 256  /replica:0/task:0/device:GPU:0\n",
      "classify_2/groupl12/block0/conv1/W:0                          [3, 3, 128, 128]   147456  /replica:0/task:0/device:GPU:0\n",
      "classify_2/groupl12/block0/conv1/bn/gamma:0                   [128]                 128  /replica:0/task:0/device:GPU:1\n",
      "classify_2/groupl12/block0/conv1/bn/beta:0                    [128]                 128  /replica:0/task:0/device:GPU:1\n",
      "classify_2/groupl12/block0/conv2/W:0                          [3, 3, 128, 128]   147456  /replica:0/task:0/device:GPU:1\n",
      "classify_2/groupl12/block0/conv2/bn/gamma:0                   [128]                 128  /replica:0/task:0/device:GPU:0\n",
      "classify_2/groupl12/block0/conv2/bn/beta:0                    [128]                 128  /replica:0/task:0/device:GPU:0\n",
      "classify_2/groupl12/block0/gcb/spatial_pool_conv/W:0          [1, 1, 128, 1]        128  /replica:0/task:0/device:GPU:0\n",
      "classify_2/groupl12/block0/gcb/channel_add_conv_1/W:0         [1, 1, 128, 16]      2048  /replica:0/task:0/device:GPU:0\n",
      "classify_2/groupl12/block0/gcb/channel_add_layernorm/beta:0   [16]                   16  /replica:0/task:0/device:GPU:0\n",
      "classify_2/groupl12/block0/gcb/channel_add_layernorm/gamma:0  [16]                   16  /replica:0/task:0/device:GPU:0\n",
      "classify_2/groupl12/block0/gcb/channel_add_conv_2/W:0         [1, 1, 16, 128]      2048  /replica:0/task:0/device:GPU:0\n",
      "classify_2/groupl22/block0/conv1/W:0                          [3, 3, 256, 256]   589824  /replica:0/task:0/device:GPU:0\n",
      "classify_2/groupl22/block0/conv1/bn/gamma:0                   [256]                 256  /replica:0/task:0/device:GPU:1\n",
      "classify_2/groupl22/block0/conv1/bn/beta:0                    [256]                 256  /replica:0/task:0/device:GPU:1\n",
      "classify_2/groupl22/block0/conv2/W:0                          [3, 3, 256, 256]   589824  /replica:0/task:0/device:GPU:1\n",
      "classify_2/groupl22/block0/conv2/bn/gamma:0                   [256]                 256  /replica:0/task:0/device:GPU:0\n",
      "classify_2/groupl22/block0/conv2/bn/beta:0                    [256]                 256  /replica:0/task:0/device:GPU:0\n",
      "classify_2/groupl22/block0/gcb/spatial_pool_conv/W:0          [1, 1, 256, 1]        256  /replica:0/task:0/device:GPU:0\n",
      "classify_2/groupl22/block0/gcb/channel_add_conv_1/W:0         [1, 1, 256, 32]      8192  /replica:0/task:0/device:GPU:0\n",
      "classify_2/groupl22/block0/gcb/channel_add_layernorm/beta:0   [32]                   32  /replica:0/task:0/device:GPU:0\n",
      "classify_2/groupl22/block0/gcb/channel_add_layernorm/gamma:0  [32]                   32  /replica:0/task:0/device:GPU:0\n",
      "classify_2/groupl22/block0/gcb/channel_add_conv_2/W:0         [1, 1, 32, 256]      8192  /replica:0/task:0/device:GPU:0\n",
      "classify_2/conv_straight12/W:0                                [3, 3, 128, 128]   147456  /replica:0/task:0/device:GPU:0\n",
      "classify_2/conv_straight12/bn/gamma:0                         [128]                 128  /replica:0/task:0/device:GPU:1\n",
      "classify_2/conv_straight12/bn/beta:0                          [128]                 128  /replica:0/task:0/device:GPU:1\n",
      "classify_2/com_13/conv_up/W:0                                 [1, 1, 256, 128]    32768  /replica:0/task:0/device:GPU:1\n",
      "classify_2/com_13/conv_up/bn/gamma:0                          [128]                 128  /replica:0/task:0/device:GPU:1\n",
      "classify_2/com_13/conv_up/bn/beta:0                           [128]                 128  /replica:0/task:0/device:GPU:1\n",
      "classify_2/conv_straight22/W:0                                [3, 3, 256, 256]   589824  /replica:0/task:0/device:GPU:1\n",
      "classify_2/conv_straight22/bn/gamma:0                         [256]                 256  /replica:0/task:0/device:GPU:0\n",
      "classify_2/conv_straight22/bn/beta:0                          [256]                 256  /replica:0/task:0/device:GPU:0\n",
      "classify_2/conv_down12/W:0                                    [3, 3, 128, 256]   294912  /replica:0/task:0/device:GPU:0\n",
      "classify_2/conv_down12/bn/gamma:0                             [256]                 256  /replica:0/task:0/device:GPU:0\n",
      "classify_2/conv_down12/bn/beta:0                              [256]                 256  /replica:0/task:0/device:GPU:0\n",
      "classify_2/conv_down22/W:0                                    [3, 3, 256, 512]  1179648  /replica:0/task:0/device:GPU:0\n",
      "classify_2/conv_down22/bn/gamma:0                             [512]                 512  /replica:0/task:0/device:GPU:1\n",
      "classify_2/conv_down22/bn/beta:0                              [512]                 512  /replica:0/task:0/device:GPU:1\n",
      "classify_2/conv_downdown12/W:0                                [3, 3, 256, 512]  1179648  /replica:0/task:0/device:GPU:1\n",
      "classify_2/conv_downdown12/bn/gamma:0                         [512]                 512  /replica:0/task:0/device:GPU:0\n",
      "classify_2/conv_downdown12/bn/beta:0                          [512]                 512  /replica:0/task:0/device:GPU:0\n",
      "classify_2/conv_img32/W:0                                     [1, 1, 768, 512]   393216  /replica:0/task:0/device:GPU:0\n",
      "classify_2/conv_img32/bn/gamma:0                              [512]                 512  /replica:0/task:0/device:GPU:1\n",
      "classify_2/conv_img32/bn/beta:0                               [512]                 512  /replica:0/task:0/device:GPU:1\n",
      "classify_2/groupl13/block0/conv1/W:0                          [3, 3, 128, 128]   147456  /replica:0/task:0/device:GPU:1\n",
      "classify_2/groupl13/block0/conv1/bn/gamma:0                   [128]                 128  /replica:0/task:0/device:GPU:0\n",
      "classify_2/groupl13/block0/conv1/bn/beta:0                    [128]                 128  /replica:0/task:0/device:GPU:0\n",
      "classify_2/groupl13/block0/conv2/W:0                          [3, 3, 128, 128]   147456  /replica:0/task:0/device:GPU:0\n",
      "classify_2/groupl13/block0/conv2/bn/gamma:0                   [128]                 128  /replica:0/task:0/device:GPU:1\n",
      "classify_2/groupl13/block0/conv2/bn/beta:0                    [128]                 128  /replica:0/task:0/device:GPU:1\n",
      "classify_2/groupl13/block0/gcb/spatial_pool_conv/W:0          [1, 1, 128, 1]        128  /replica:0/task:0/device:GPU:1\n",
      "classify_2/groupl13/block0/gcb/channel_add_conv_1/W:0         [1, 1, 128, 16]      2048  /replica:0/task:0/device:GPU:1\n",
      "classify_2/groupl13/block0/gcb/channel_add_layernorm/beta:0   [16]                   16  /replica:0/task:0/device:GPU:1\n",
      "classify_2/groupl13/block0/gcb/channel_add_layernorm/gamma:0  [16]                   16  /replica:0/task:0/device:GPU:1\n",
      "classify_2/groupl13/block0/gcb/channel_add_conv_2/W:0         [1, 1, 16, 128]      2048  /replica:0/task:0/device:GPU:1\n",
      "classify_2/groupl23/block0/conv1/W:0                          [3, 3, 256, 256]   589824  /replica:0/task:0/device:GPU:1\n",
      "classify_2/groupl23/block0/conv1/bn/gamma:0                   [256]                 256  /replica:0/task:0/device:GPU:0\n",
      "classify_2/groupl23/block0/conv1/bn/beta:0                    [256]                 256  /replica:0/task:0/device:GPU:0\n",
      "classify_2/groupl23/block0/conv2/W:0                          [3, 3, 256, 256]   589824  /replica:0/task:0/device:GPU:0\n",
      "classify_2/groupl23/block0/conv2/bn/gamma:0                   [256]                 256  /replica:0/task:0/device:GPU:1\n",
      "classify_2/groupl23/block0/conv2/bn/beta:0                    [256]                 256  /replica:0/task:0/device:GPU:1\n",
      "classify_2/groupl23/block0/gcb/spatial_pool_conv/W:0          [1, 1, 256, 1]        256  /replica:0/task:0/device:GPU:1\n",
      "classify_2/groupl23/block0/gcb/channel_add_conv_1/W:0         [1, 1, 256, 32]      8192  /replica:0/task:0/device:GPU:1\n",
      "classify_2/groupl23/block0/gcb/channel_add_layernorm/beta:0   [32]                   32  /replica:0/task:0/device:GPU:1\n",
      "classify_2/groupl23/block0/gcb/channel_add_layernorm/gamma:0  [32]                   32  /replica:0/task:0/device:GPU:1\n",
      "classify_2/groupl23/block0/gcb/channel_add_conv_2/W:0         [1, 1, 32, 256]      8192  /replica:0/task:0/device:GPU:1\n",
      "classify_2/groupl33/block0/conv1/W:0                          [3, 3, 512, 512]  2359296  /replica:0/task:0/device:GPU:1\n",
      "classify_2/groupl33/block0/conv1/bn/gamma:0                   [512]                 512  /replica:0/task:0/device:GPU:0\n",
      "classify_2/groupl33/block0/conv1/bn/beta:0                    [512]                 512  /replica:0/task:0/device:GPU:0\n",
      "classify_2/groupl33/block0/conv2/W:0                          [3, 3, 512, 512]  2359296  /replica:0/task:0/device:GPU:0\n",
      "classify_2/groupl33/block0/conv2/bn/gamma:0                   [512]                 512  /replica:0/task:0/device:GPU:1\n",
      "classify_2/groupl33/block0/conv2/bn/beta:0                    [512]                 512  /replica:0/task:0/device:GPU:1\n",
      "classify_2/groupl33/block0/gcb/spatial_pool_conv/W:0          [1, 1, 512, 1]        512  /replica:0/task:0/device:GPU:1\n",
      "classify_2/groupl33/block0/gcb/channel_add_conv_1/W:0         [1, 1, 512, 64]     32768  /replica:0/task:0/device:GPU:1\n",
      "classify_2/groupl33/block0/gcb/channel_add_layernorm/beta:0   [64]                   64  /replica:0/task:0/device:GPU:1\n",
      "classify_2/groupl33/block0/gcb/channel_add_layernorm/gamma:0  [64]                   64  /replica:0/task:0/device:GPU:1\n",
      "classify_2/groupl33/block0/gcb/channel_add_conv_2/W:0         [1, 1, 64, 512]     32768  /replica:0/task:0/device:GPU:1\n",
      "classify_2/conv_straight13/W:0                                [3, 3, 128, 128]   147456  /replica:0/task:0/device:GPU:1\n",
      "classify_2/conv_straight13/bn/gamma:0                         [128]                 128  /replica:0/task:0/device:GPU:0\n",
      "classify_2/conv_straight13/bn/beta:0                          [128]                 128  /replica:0/task:0/device:GPU:0\n",
      "classify_2/com_141/conv_up/W:0                                [1, 1, 256, 128]    32768  /replica:0/task:0/device:GPU:0\n",
      "classify_2/com_141/conv_up/bn/gamma:0                         [128]                 128  /replica:0/task:0/device:GPU:0\n",
      "classify_2/com_141/conv_up/bn/beta:0                          [128]                 128  /replica:0/task:0/device:GPU:0\n",
      "classify_2/com_142/conv_up/W:0                                [1, 1, 512, 128]    65536  /replica:0/task:0/device:GPU:0\n",
      "classify_2/com_142/conv_up/bn/gamma:0                         [128]                 128  /replica:0/task:0/device:GPU:1\n",
      "classify_2/com_142/conv_up/bn/beta:0                          [128]                 128  /replica:0/task:0/device:GPU:1\n",
      "classify_2/conv_straight23/W:0                                [3, 3, 256, 256]   589824  /replica:0/task:0/device:GPU:1\n",
      "classify_2/conv_straight23/bn/gamma:0                         [256]                 256  /replica:0/task:0/device:GPU:0\n",
      "classify_2/conv_straight23/bn/beta:0                          [256]                 256  /replica:0/task:0/device:GPU:0\n",
      "classify_2/conv_down13/W:0                                    [3, 3, 128, 256]   294912  /replica:0/task:0/device:GPU:0\n",
      "classify_2/conv_down13/bn/gamma:0                             [256]                 256  /replica:0/task:0/device:GPU:0\n",
      "classify_2/conv_down13/bn/beta:0                              [256]                 256  /replica:0/task:0/device:GPU:0\n",
      "classify_2/com_24/conv_up/W:0                                 [1, 1, 512, 256]   131072  /replica:0/task:0/device:GPU:0\n",
      "classify_2/com_24/conv_up/bn/gamma:0                          [256]                 256  /replica:0/task:0/device:GPU:0\n",
      "classify_2/com_24/conv_up/bn/beta:0                           [256]                 256  /replica:0/task:0/device:GPU:0\n",
      "classify_2/conv_straight33/W:0                                [3, 3, 512, 512]  2359296  /replica:0/task:0/device:GPU:0\n",
      "classify_2/conv_straight33/bn/gamma:0                         [512]                 512  /replica:0/task:0/device:GPU:1\n",
      "classify_2/conv_straight33/bn/beta:0                          [512]                 512  /replica:0/task:0/device:GPU:1\n",
      "classify_2/conv_downdown13/W:0                                [3, 3, 256, 512]  1179648  /replica:0/task:0/device:GPU:1\n",
      "classify_2/conv_downdown13/bn/gamma:0                         [512]                 512  /replica:0/task:0/device:GPU:1\n",
      "classify_2/conv_downdown13/bn/beta:0                          [512]                 512  /replica:0/task:0/device:GPU:1\n",
      "classify_2/conv_down23/W:0                                    [3, 3, 256, 512]  1179648  /replica:0/task:0/device:GPU:1\n",
      "classify_2/conv_down23/bn/gamma:0                             [512]                 512  /replica:0/task:0/device:GPU:0\n",
      "classify_2/conv_down23/bn/beta:0                              [512]                 512  /replica:0/task:0/device:GPU:0\n",
      "head_fusion_classify_2/conv_mix/W:0                           [1, 1, 896, 256]   229376  /replica:0/task:0/device:GPU:0\n",
      "head_fusion_classify_2/conv_mix/bn/gamma:0                    [256]                 256  /replica:0/task:0/device:GPU:1\n",
      "head_fusion_classify_2/conv_mix/bn/beta:0                     [256]                 256  /replica:0/task:0/device:GPU:1\n",
      "classify_2/conv_out/W:0                                       [1, 1, 256, 4]       1024  /replica:0/task:0/device:GPU:1\n",
      "classify_2/conv_out/b:0                                       [4]                     4  /replica:0/task:0/device:GPU:1\n",
      "conv_out_type/W:0                                             [1, 1, 8, 5]           40  /replica:0/task:0/device:GPU:1\n",
      "conv_out_type/b:0                                             [5]                     5  /replica:0/task:0/device:GPU:1\n",
      "u3b/conv_1/W:0                                                [3, 3, 768, 256]  1769472  /replica:0/task:0/device:GPU:1\n",
      "u3b/conv_1/bn/gamma:0                                         [256]                 256  /replica:0/task:0/device:GPU:0\n",
      "u3b/conv_1/bn/beta:0                                          [256]                 256  /replica:0/task:0/device:GPU:0\n",
      "u3b/conv_2/W:0                                                [3, 3, 256, 256]   589824  /replica:0/task:0/device:GPU:0\n",
      "u3b/conv_2/bn/gamma:0                                         [256]                 256  /replica:0/task:0/device:GPU:0\n",
      "u3b/conv_2/bn/beta:0                                          [256]                 256  /replica:0/task:0/device:GPU:0\n",
      "u2b/conv_1/W:0                                                [3, 3, 384, 128]   442368  /replica:0/task:0/device:GPU:0\n",
      "u2b/conv_1/bn/gamma:0                                         [128]                 128  /replica:0/task:0/device:GPU:0\n",
      "u2b/conv_1/bn/beta:0                                          [128]                 128  /replica:0/task:0/device:GPU:0\n",
      "u2b/conv_2/W:0                                                [3, 3, 128, 128]   147456  /replica:0/task:0/device:GPU:0\n",
      "u2b/conv_2/bn/gamma:0                                         [128]                 128  /replica:0/task:0/device:GPU:0\n",
      "u2b/conv_2/bn/beta:0                                          [128]                 128  /replica:0/task:0/device:GPU:0\n",
      "u1b/conv_1/W:0                                                [3, 3, 192, 64]    110592  /replica:0/task:0/device:GPU:0\n",
      "u1b/conv_1/bn/gamma:0                                         [64]                   64  /replica:0/task:0/device:GPU:0\n",
      "u1b/conv_1/bn/beta:0                                          [64]                   64  /replica:0/task:0/device:GPU:0\n",
      "u1b/conv_2/W:0                                                [3, 3, 64, 64]      36864  /replica:0/task:0/device:GPU:0\n",
      "u1b/conv_2/bn/gamma:0                                         [64]                   64  /replica:0/task:0/device:GPU:0\n",
      "u1b/conv_2/bn/beta:0                                          [64]                   64  /replica:0/task:0/device:GPU:0\n",
      "conv_out_b/W:0                                                [1, 1, 64, 2]         128  /replica:0/task:0/device:GPU:0\n",
      "conv_out_b/b:0                                                [2]                     2  /replica:0/task:0/device:GPU:0\n",
      "d1r/conv_1/W:0                                                [3, 3, 2, 64]        1152  /replica:0/task:0/device:GPU:0\n",
      "d1r/conv_1/bn/gamma:0                                         [64]                   64  /replica:0/task:0/device:GPU:0\n",
      "d1r/conv_1/bn/beta:0                                          [64]                   64  /replica:0/task:0/device:GPU:0\n",
      "d1r/conv_2/W:0                                                [3, 3, 64, 64]      36864  /replica:0/task:0/device:GPU:0\n",
      "d1r/conv_2/bn/gamma:0                                         [64]                   64  /replica:0/task:0/device:GPU:0\n",
      "d1r/conv_2/bn/beta:0                                          [64]                   64  /replica:0/task:0/device:GPU:0\n",
      "d2r/conv_1/W:0                                                [3, 3, 64, 128]     73728  /replica:0/task:0/device:GPU:0\n",
      "d2r/conv_1/bn/gamma:0                                         [128]                 128  /replica:0/task:0/device:GPU:0\n",
      "d2r/conv_1/bn/beta:0                                          [128]                 128  /replica:0/task:0/device:GPU:0\n",
      "d2r/conv_2/W:0                                                [3, 3, 128, 128]   147456  /replica:0/task:0/device:GPU:0\n",
      "d2r/conv_2/bn/gamma:0                                         [128]                 128  /replica:0/task:0/device:GPU:0\n",
      "d2r/conv_2/bn/beta:0                                          [128]                 128  /replica:0/task:0/device:GPU:0\n",
      "d3r/conv_1/W:0                                                [3, 3, 128, 256]   294912  /replica:0/task:0/device:GPU:0\n",
      "d3r/conv_1/bn/gamma:0                                         [256]                 256  /replica:0/task:0/device:GPU:1\n",
      "d3r/conv_1/bn/beta:0                                          [256]                 256  /replica:0/task:0/device:GPU:1\n",
      "d3r/conv_2/W:0                                                [3, 3, 256, 256]   589824  /replica:0/task:0/device:GPU:1\n",
      "d3r/conv_2/bn/gamma:0                                         [256]                 256  /replica:0/task:0/device:GPU:0\n",
      "d3r/conv_2/bn/beta:0                                          [256]                 256  /replica:0/task:0/device:GPU:0\n",
      "u2r/conv_1/W:0                                                [3, 3, 384, 128]   442368  /replica:0/task:0/device:GPU:0\n",
      "u2r/conv_1/bn/gamma:0                                         [128]                 128  /replica:0/task:0/device:GPU:1\n",
      "u2r/conv_1/bn/beta:0                                          [128]                 128  /replica:0/task:0/device:GPU:1\n",
      "u2r/conv_2/W:0                                                [3, 3, 128, 128]   147456  /replica:0/task:0/device:GPU:1\n",
      "u2r/conv_2/bn/gamma:0                                         [128]                 128  /replica:0/task:0/device:GPU:0\n",
      "u2r/conv_2/bn/beta:0                                          [128]                 128  /replica:0/task:0/device:GPU:0\n",
      "u1r/conv_1/W:0                                                [3, 3, 192, 64]    110592  /replica:0/task:0/device:GPU:0\n",
      "u1r/conv_1/bn/gamma:0                                         [64]                   64  /replica:0/task:0/device:GPU:0\n",
      "u1r/conv_1/bn/beta:0                                          [64]                   64  /replica:0/task:0/device:GPU:0\n",
      "u1r/conv_2/W:0                                                [3, 3, 64, 64]      36864  /replica:0/task:0/device:GPU:0\n",
      "u1r/conv_2/bn/gamma:0                                         [64]                   64  /replica:0/task:0/device:GPU:1\n",
      "u1r/conv_2/bn/beta:0                                          [64]                   64  /replica:0/task:0/device:GPU:1\n",
      "conv_out_r/W:0                                                [1, 1, 64, 1]          64  /replica:0/task:0/device:GPU:1\n",
      "conv_out_r/b:0                                                [1]                     1  /replica:0/task:0/device:GPU:1\n",
      "param1:0                                                      [1]                     1  /replica:0/task:0/device:GPU:1\n",
      "param2:0                                                      [1]                     1  /replica:0/task:0/device:GPU:1\n",
      "param3:0                                                      [1]                     1  /replica:0/task:0/device:GPU:1\n",
      "param4:0                                                      [1]                     1  /replica:0/task:0/device:GPU:1\n",
      "param5:0                                                      [1]                     1  /replica:0/task:0/device:GPU:1\u001b[36m\n",
      "Total #vars=567, #params=65764141, size=250.87MB\u001b[0m\n"
     ]
    },
    {
     "name": "stdout",
     "output_type": "stream",
     "text": [
      "\u001b[32m[0618 12:45:55 @base.py:209]\u001b[0m Setup callbacks graph ...\n",
      "\u001b[32m[0618 12:45:57 @input_source.py:220]\u001b[0m Setting up the queue 'DataParallelInferenceRunner/QueueInput/input_queue' for CPU prefetching ...\n",
      "\u001b[32m[0618 12:45:57 @inference_runner.py:238]\u001b[0m [InferenceRunner] Building tower 'InferenceTower0' on device /gpu:0 ...\n",
      "\u001b[32m[0618 12:45:57 @develop.py:96]\u001b[0m \u001b[5m\u001b[31mWRN\u001b[0m [Deprecated] ModelDescBase._build_graph() interface will be deprecated after 30 Mar. Use build_graph() instead!\n",
      "\u001b[32m[0618 12:46:02 @inference_runner.py:238]\u001b[0m [InferenceRunner] Building tower 'InferenceTower1' on device /gpu:1 ...\n",
      "\u001b[32m[0618 12:46:02 @develop.py:96]\u001b[0m \u001b[5m\u001b[31mWRN\u001b[0m [Deprecated] ModelDescBase._build_graph() interface will be deprecated after 30 Mar. Use build_graph() instead!\n",
      "\u001b[32m[0618 12:46:10 @summary.py:38]\u001b[0m Maintain moving average summary of 9 tensors in collection MOVING_SUMMARY_OPS.\n",
      "\u001b[32m[0618 12:46:10 @summary.py:75]\u001b[0m Summarizing collection 'summaries' of size 241.\n",
      "\u001b[32m[0618 12:46:10 @graph.py:91]\u001b[0m Applying collection UPDATE_OPS of 268 ops.\n",
      "\u001b[32m[0618 12:46:19 @base.py:227]\u001b[0m Creating the session ...\n",
      "\u001b[32m[0618 12:46:33 @base.py:233]\u001b[0m Initializing the session ...\n",
      "\u001b[32m[0618 12:46:33 @sessinit.py:207]\u001b[0m Variables to restore from dict: group2/block4/conv1/W:0, group0/block2/conv1/bn/variance/EMA:0, group1/block2/conv1/W:0, group1/block3/conv1/bn/gamma:0, group0/block1/conv2/W:0, group0/block0/conv1/bn/gamma:0, group2/block5/conv2/W:0, group2/block1/conv2/bn/mean/EMA:0, group2/block0/conv1/bn/variance/EMA:0, group1/block0/conv2/bn/mean/EMA:0, group3/block1/conv1/bn/mean/EMA:0, group1/block1/conv1/bn/variance/EMA:0, group2/block1/conv1/bn/beta:0, group3/block1/conv1/W:0, group0/block0/conv2/bn/gamma:0, group3/block1/conv2/bn/gamma:0, group1/block2/conv2/bn/gamma:0, group1/block3/conv2/W:0, group2/block2/conv2/W:0, group2/block5/conv1/bn/beta:0, group3/block1/conv2/W:0, group1/block0/conv1/bn/variance/EMA:0, group2/block0/conv2/bn/mean/EMA:0, group2/block3/conv2/bn/mean/EMA:0, group2/block5/conv1/bn/gamma:0, group3/block2/conv2/bn/variance/EMA:0, group1/block0/conv2/bn/beta:0, group0/block2/conv1/bn/beta:0, group0/block0/conv2/bn/mean/EMA:0, group2/block5/conv2/bn/mean/EMA:0, group1/block2/conv1/bn/variance/EMA:0, group2/block3/conv1/bn/mean/EMA:0, group1/block1/conv1/bn/gamma:0, group0/block0/conv2/W:0, group1/block0/convshortcut/bn/variance/EMA:0, group3/block2/conv1/bn/mean/EMA:0, group2/block5/conv1/bn/mean/EMA:0, group2/block1/conv2/bn/beta:0, group1/block0/conv1/W:0, group1/block0/convshortcut/bn/beta:0, group2/block3/conv1/bn/variance/EMA:0, group2/block5/conv2/bn/gamma:0, conv0/bn/gamma:0, group0/block2/conv2/bn/variance/EMA:0, group2/block2/conv2/bn/mean/EMA:0, group0/block2/conv1/bn/gamma:0, group2/block0/convshortcut/W:0, group3/block0/conv1/bn/variance/EMA:0, group2/block0/conv1/bn/beta:0, group2/block4/conv2/W:0, group2/block0/conv1/bn/gamma:0, conv0/bn/mean/EMA:0, group3/block0/conv1/bn/mean/EMA:0, group0/block0/conv2/bn/variance/EMA:0, group0/block2/conv2/bn/mean/EMA:0, group1/block3/conv2/bn/variance/EMA:0, group3/block0/conv2/W:0, group1/block2/conv2/bn/mean/EMA:0, group2/block0/conv1/bn/mean/EMA:0, group3/block2/conv2/W:0, group1/block0/conv2/bn/gamma:0, group3/block1/conv1/bn/gamma:0, group1/block0/conv1/bn/beta:0, group2/block1/conv2/bn/variance/EMA:0, conv0/bn/variance/EMA:0, group1/block1/conv1/W:0, group2/block0/conv2/bn/variance/EMA:0, group2/block0/conv1/W:0, group2/block3/conv2/bn/variance/EMA:0, group3/block2/conv1/bn/gamma:0, group3/block0/conv2/bn/variance/EMA:0, group0/block1/conv2/bn/mean/EMA:0, group0/block0/conv1/bn/beta:0, group1/block0/convshortcut/W:0, group1/block3/conv2/bn/beta:0, group2/block1/conv2/W:0, group3/block2/conv2/bn/gamma:0, group1/block2/conv2/bn/variance/EMA:0, group2/block0/convshortcut/bn/variance/EMA:0, group1/block1/conv2/bn/gamma:0, group1/block0/convshortcut/bn/gamma:0, group1/block3/conv1/bn/beta:0, group1/block0/conv1/bn/gamma:0, group3/block0/conv1/W:0, group3/block0/conv2/bn/mean/EMA:0, group2/block2/conv2/bn/variance/EMA:0, group2/block4/conv2/bn/beta:0, group3/block0/conv1/bn/beta:0, group3/block2/conv2/bn/beta:0, group2/block4/conv2/bn/variance/EMA:0, group1/block2/conv1/bn/gamma:0, group1/block2/conv1/bn/beta:0, group2/block5/conv2/bn/variance/EMA:0, group2/block1/conv1/bn/gamma:0, group1/block0/convshortcut/bn/mean/EMA:0, group0/block0/conv1/bn/mean/EMA:0, group2/block2/conv2/bn/beta:0, group1/block3/conv2/bn/mean/EMA:0, group2/block1/conv2/bn/gamma:0, group3/block1/conv2/bn/beta:0, group2/block5/conv1/W:0, group3/block0/convshortcut/W:0, group1/block3/conv1/bn/mean/EMA:0, group2/block2/conv1/bn/variance/EMA:0, group2/block1/conv1/W:0, group1/block0/conv1/bn/mean/EMA:0, group2/block3/conv2/bn/beta:0, group2/block4/conv1/bn/gamma:0, group3/block0/conv2/bn/gamma:0, group2/block4/conv2/bn/mean/EMA:0, group0/block0/conv1/bn/variance/EMA:0, group3/block0/convshortcut/bn/beta:0, group3/block2/conv1/bn/beta:0, group0/block2/conv1/bn/mean/EMA:0, group3/block2/conv1/bn/variance/EMA:0, group1/block2/conv2/bn/beta:0, group1/block1/conv2/W:0, group0/block1/conv2/bn/variance/EMA:0, group1/block1/conv1/bn/mean/EMA:0, group1/block3/conv1/W:0, group2/block0/conv2/W:0, group2/block0/convshortcut/bn/beta:0, group2/block4/conv1/bn/mean/EMA:0, conv0/bn/beta:0, group0/block1/conv2/bn/beta:0, group3/block1/conv2/bn/variance/EMA:0, group3/block2/conv1/W:0, group3/block0/conv1/bn/gamma:0, group1/block3/conv2/bn/gamma:0, group2/block4/conv1/bn/variance/EMA:0, group0/block1/conv2/bn/gamma:0, group1/block1/conv1/bn/beta:0, group2/block2/conv1/bn/gamma:0, group3/block2/conv2/bn/mean/EMA:0, group3/block0/convshortcut/bn/variance/EMA:0, group3/block0/convshortcut/bn/gamma:0, group2/block0/convshortcut/bn/gamma:0, group1/block3/conv1/bn/variance/EMA:0, group2/block4/conv1/bn/beta:0, group2/block1/conv1/bn/mean/EMA:0, group2/block5/conv1/bn/variance/EMA:0, group2/block3/conv2/W:0, group1/block1/conv2/bn/mean/EMA:0, group2/block1/conv1/bn/variance/EMA:0, group0/block1/conv1/bn/beta:0, group1/block1/conv2/bn/beta:0, group0/block1/conv1/bn/mean/EMA:0, group1/block0/conv2/W:0, group2/block3/conv2/bn/gamma:0, group0/block2/conv2/bn/gamma:0, group2/block3/conv1/bn/beta:0, group3/block0/conv2/bn/beta:0, group2/block2/conv1/bn/mean/EMA:0, group0/block0/conv1/W:0, group1/block0/conv2/bn/variance/EMA:0, group2/block2/conv2/bn/gamma:0, group2/block4/conv2/bn/gamma:0, group2/block2/conv1/bn/beta:0, group2/block2/conv1/W:0, group0/block1/conv1/W:0, group2/block3/conv1/bn/gamma:0, group0/block2/conv2/bn/beta:0, group2/block5/conv2/bn/beta:0, group1/block2/conv1/bn/mean/EMA:0, group0/block0/conv2/bn/beta:0, group3/block1/conv1/bn/variance/EMA:0, group2/block0/conv2/bn/gamma:0, conv0/W:0, group1/block2/conv2/W:0, group1/block1/conv2/bn/variance/EMA:0, group0/block2/conv2/W:0, group2/block0/conv2/bn/beta:0, group3/block0/convshortcut/bn/mean/EMA:0, group3/block1/conv2/bn/mean/EMA:0, group2/block3/conv1/W:0, group0/block2/conv1/W:0, group0/block1/conv1/bn/variance/EMA:0, group3/block1/conv1/bn/beta:0, group2/block0/convshortcut/bn/mean/EMA:0, group0/block1/conv1/bn/gamma:0\n",
      "\u001b[32m[0618 12:46:33 @sessinit.py:90]\u001b[0m \u001b[5m\u001b[31mWRN\u001b[0m The following variables are in the graph, but not found in the dict: beta1_power:0, beta2_power:0, classify_1/com_11/conv_up/W:0, classify_1/com_11/conv_up/bn/beta:0, classify_1/com_11/conv_up/bn/gamma:0, classify_1/com_11/conv_up/bn/mean/EMA:0, classify_1/com_11/conv_up/bn/variance/EMA:0, classify_1/com_12/conv_up/W:0, classify_1/com_12/conv_up/bn/beta:0, classify_1/com_12/conv_up/bn/gamma:0, classify_1/com_12/conv_up/bn/mean/EMA:0, classify_1/com_12/conv_up/bn/variance/EMA:0, classify_1/com_13/conv_up/W:0, classify_1/com_13/conv_up/bn/beta:0, classify_1/com_13/conv_up/bn/gamma:0, classify_1/com_13/conv_up/bn/mean/EMA:0, classify_1/com_13/conv_up/bn/variance/EMA:0, classify_1/com_141/conv_up/W:0, classify_1/com_141/conv_up/bn/beta:0, classify_1/com_141/conv_up/bn/gamma:0, classify_1/com_141/conv_up/bn/mean/EMA:0, classify_1/com_141/conv_up/bn/variance/EMA:0, classify_1/com_142/conv_up/W:0, classify_1/com_142/conv_up/bn/beta:0, classify_1/com_142/conv_up/bn/gamma:0, classify_1/com_142/conv_up/bn/mean/EMA:0, classify_1/com_142/conv_up/bn/variance/EMA:0, classify_1/com_22/conv_up/W:0, classify_1/com_22/conv_up/bn/beta:0, classify_1/com_22/conv_up/bn/gamma:0, classify_1/com_22/conv_up/bn/mean/EMA:0, classify_1/com_22/conv_up/bn/variance/EMA:0, classify_1/com_24/conv_up/W:0, classify_1/com_24/conv_up/bn/beta:0, classify_1/com_24/conv_up/bn/gamma:0, classify_1/com_24/conv_up/bn/mean/EMA:0, classify_1/com_24/conv_up/bn/variance/EMA:0, classify_1/conv_down11/W:0, classify_1/conv_down11/bn/beta:0, classify_1/conv_down11/bn/gamma:0, classify_1/conv_down11/bn/mean/EMA:0, classify_1/conv_down11/bn/variance/EMA:0, classify_1/conv_down12/W:0, classify_1/conv_down12/bn/beta:0, classify_1/conv_down12/bn/gamma:0, classify_1/conv_down12/bn/mean/EMA:0, classify_1/conv_down12/bn/variance/EMA:0, classify_1/conv_down13/W:0, classify_1/conv_down13/bn/beta:0, classify_1/conv_down13/bn/gamma:0, classify_1/conv_down13/bn/mean/EMA:0, classify_1/conv_down13/bn/variance/EMA:0, classify_1/conv_down22/W:0, classify_1/conv_down22/bn/beta:0, classify_1/conv_down22/bn/gamma:0, classify_1/conv_down22/bn/mean/EMA:0, classify_1/conv_down22/bn/variance/EMA:0, classify_1/conv_down23/W:0, classify_1/conv_down23/bn/beta:0, classify_1/conv_down23/bn/gamma:0, classify_1/conv_down23/bn/mean/EMA:0, classify_1/conv_down23/bn/variance/EMA:0, classify_1/conv_downdown12/W:0, classify_1/conv_downdown12/bn/beta:0, classify_1/conv_downdown12/bn/gamma:0, classify_1/conv_downdown12/bn/mean/EMA:0, classify_1/conv_downdown12/bn/variance/EMA:0, classify_1/conv_downdown13/W:0, classify_1/conv_downdown13/bn/beta:0, classify_1/conv_downdown13/bn/gamma:0, classify_1/conv_downdown13/bn/mean/EMA:0, classify_1/conv_downdown13/bn/variance/EMA:0, classify_1/conv_img12/W:0, classify_1/conv_img12/bn/beta:0, classify_1/conv_img12/bn/gamma:0, classify_1/conv_img12/bn/mean/EMA:0, classify_1/conv_img12/bn/variance/EMA:0, classify_1/conv_img22/W:0, classify_1/conv_img22/bn/beta:0, classify_1/conv_img22/bn/gamma:0, classify_1/conv_img22/bn/mean/EMA:0, classify_1/conv_img22/bn/variance/EMA:0, classify_1/conv_img32/W:0, classify_1/conv_img32/bn/beta:0, classify_1/conv_img32/bn/gamma:0, classify_1/conv_img32/bn/mean/EMA:0, classify_1/conv_img32/bn/variance/EMA:0, classify_1/conv_out/W:0, classify_1/conv_out/b:0, classify_1/conv_straight11/W:0, classify_1/conv_straight11/bn/beta:0, classify_1/conv_straight11/bn/gamma:0, classify_1/conv_straight11/bn/mean/EMA:0, classify_1/conv_straight11/bn/variance/EMA:0, classify_1/conv_straight12/W:0, classify_1/conv_straight12/bn/beta:0, classify_1/conv_straight12/bn/gamma:0, classify_1/conv_straight12/bn/mean/EMA:0, classify_1/conv_straight12/bn/variance/EMA:0, classify_1/conv_straight13/W:0, classify_1/conv_straight13/bn/beta:0, classify_1/conv_straight13/bn/gamma:0, classify_1/conv_straight13/bn/mean/EMA:0, classify_1/conv_straight13/bn/variance/EMA:0, classify_1/conv_straight22/W:0, classify_1/conv_straight22/bn/beta:0, classify_1/conv_straight22/bn/gamma:0, classify_1/conv_straight22/bn/mean/EMA:0, classify_1/conv_straight22/bn/variance/EMA:0, classify_1/conv_straight23/W:0, classify_1/conv_straight23/bn/beta:0, classify_1/conv_straight23/bn/gamma:0, classify_1/conv_straight23/bn/mean/EMA:0, classify_1/conv_straight23/bn/variance/EMA:0, classify_1/conv_straight33/W:0, classify_1/conv_straight33/bn/beta:0, classify_1/conv_straight33/bn/gamma:0, classify_1/conv_straight33/bn/mean/EMA:0, classify_1/conv_straight33/bn/variance/EMA:0, classify_1/groupl11/block0/conv1/W:0, classify_1/groupl11/block0/conv1/bn/beta:0, classify_1/groupl11/block0/conv1/bn/gamma:0, classify_1/groupl11/block0/conv1/bn/mean/EMA:0, classify_1/groupl11/block0/conv1/bn/variance/EMA:0, classify_1/groupl11/block0/conv2/W:0, classify_1/groupl11/block0/conv2/bn/beta:0, classify_1/groupl11/block0/conv2/bn/gamma:0, classify_1/groupl11/block0/conv2/bn/mean/EMA:0, classify_1/groupl11/block0/conv2/bn/variance/EMA:0, classify_1/groupl11/block0/gcb/channel_add_conv_1/W:0, classify_1/groupl11/block0/gcb/channel_add_conv_2/W:0, classify_1/groupl11/block0/gcb/channel_add_layernorm/beta:0, classify_1/groupl11/block0/gcb/channel_add_layernorm/gamma:0, classify_1/groupl11/block0/gcb/spatial_pool_conv/W:0, classify_1/groupl12/block0/conv1/W:0, classify_1/groupl12/block0/conv1/bn/beta:0, classify_1/groupl12/block0/conv1/bn/gamma:0, classify_1/groupl12/block0/conv1/bn/mean/EMA:0, classify_1/groupl12/block0/conv1/bn/variance/EMA:0, classify_1/groupl12/block0/conv2/W:0, classify_1/groupl12/block0/conv2/bn/beta:0, classify_1/groupl12/block0/conv2/bn/gamma:0, classify_1/groupl12/block0/conv2/bn/mean/EMA:0, classify_1/groupl12/block0/conv2/bn/variance/EMA:0, classify_1/groupl12/block0/gcb/channel_add_conv_1/W:0, classify_1/groupl12/block0/gcb/channel_add_conv_2/W:0, classify_1/groupl12/block0/gcb/channel_add_layernorm/beta:0, classify_1/groupl12/block0/gcb/channel_add_layernorm/gamma:0, classify_1/groupl12/block0/gcb/spatial_pool_conv/W:0, classify_1/groupl13/block0/conv1/W:0, classify_1/groupl13/block0/conv1/bn/beta:0, classify_1/groupl13/block0/conv1/bn/gamma:0, classify_1/groupl13/block0/conv1/bn/mean/EMA:0, classify_1/groupl13/block0/conv1/bn/variance/EMA:0, classify_1/groupl13/block0/conv2/W:0, classify_1/groupl13/block0/conv2/bn/beta:0, classify_1/groupl13/block0/conv2/bn/gamma:0, classify_1/groupl13/block0/conv2/bn/mean/EMA:0, classify_1/groupl13/block0/conv2/bn/variance/EMA:0, classify_1/groupl13/block0/gcb/channel_add_conv_1/W:0, classify_1/groupl13/block0/gcb/channel_add_conv_2/W:0, classify_1/groupl13/block0/gcb/channel_add_layernorm/beta:0, classify_1/groupl13/block0/gcb/channel_add_layernorm/gamma:0, classify_1/groupl13/block0/gcb/spatial_pool_conv/W:0, classify_1/groupl22/block0/conv1/W:0, classify_1/groupl22/block0/conv1/bn/beta:0, classify_1/groupl22/block0/conv1/bn/gamma:0, classify_1/groupl22/block0/conv1/bn/mean/EMA:0, classify_1/groupl22/block0/conv1/bn/variance/EMA:0, classify_1/groupl22/block0/conv2/W:0, classify_1/groupl22/block0/conv2/bn/beta:0, classify_1/groupl22/block0/conv2/bn/gamma:0, classify_1/groupl22/block0/conv2/bn/mean/EMA:0, classify_1/groupl22/block0/conv2/bn/variance/EMA:0, classify_1/groupl22/block0/gcb/channel_add_conv_1/W:0, classify_1/groupl22/block0/gcb/channel_add_conv_2/W:0, classify_1/groupl22/block0/gcb/channel_add_layernorm/beta:0, classify_1/groupl22/block0/gcb/channel_add_layernorm/gamma:0, classify_1/groupl22/block0/gcb/spatial_pool_conv/W:0, classify_1/groupl23/block0/conv1/W:0, classify_1/groupl23/block0/conv1/bn/beta:0, classify_1/groupl23/block0/conv1/bn/gamma:0, classify_1/groupl23/block0/conv1/bn/mean/EMA:0, classify_1/groupl23/block0/conv1/bn/variance/EMA:0, classify_1/groupl23/block0/conv2/W:0, classify_1/groupl23/block0/conv2/bn/beta:0, classify_1/groupl23/block0/conv2/bn/gamma:0, classify_1/groupl23/block0/conv2/bn/mean/EMA:0, classify_1/groupl23/block0/conv2/bn/variance/EMA:0, classify_1/groupl23/block0/gcb/channel_add_conv_1/W:0, classify_1/groupl23/block0/gcb/channel_add_conv_2/W:0, classify_1/groupl23/block0/gcb/channel_add_layernorm/beta:0, classify_1/groupl23/block0/gcb/channel_add_layernorm/gamma:0, classify_1/groupl23/block0/gcb/spatial_pool_conv/W:0, classify_1/groupl33/block0/conv1/W:0, classify_1/groupl33/block0/conv1/bn/beta:0, classify_1/groupl33/block0/conv1/bn/gamma:0, classify_1/groupl33/block0/conv1/bn/mean/EMA:0, classify_1/groupl33/block0/conv1/bn/variance/EMA:0, classify_1/groupl33/block0/conv2/W:0, classify_1/groupl33/block0/conv2/bn/beta:0, classify_1/groupl33/block0/conv2/bn/gamma:0, classify_1/groupl33/block0/conv2/bn/mean/EMA:0, classify_1/groupl33/block0/conv2/bn/variance/EMA:0, classify_1/groupl33/block0/gcb/channel_add_conv_1/W:0, classify_1/groupl33/block0/gcb/channel_add_conv_2/W:0, classify_1/groupl33/block0/gcb/channel_add_layernorm/beta:0, classify_1/groupl33/block0/gcb/channel_add_layernorm/gamma:0, classify_1/groupl33/block0/gcb/spatial_pool_conv/W:0, classify_2/com_11/conv_up/W:0, classify_2/com_11/conv_up/bn/beta:0, classify_2/com_11/conv_up/bn/gamma:0, classify_2/com_11/conv_up/bn/mean/EMA:0, classify_2/com_11/conv_up/bn/variance/EMA:0, classify_2/com_12/conv_up/W:0, classify_2/com_12/conv_up/bn/beta:0, classify_2/com_12/conv_up/bn/gamma:0, classify_2/com_12/conv_up/bn/mean/EMA:0, classify_2/com_12/conv_up/bn/variance/EMA:0, classify_2/com_13/conv_up/W:0, classify_2/com_13/conv_up/bn/beta:0, classify_2/com_13/conv_up/bn/gamma:0, classify_2/com_13/conv_up/bn/mean/EMA:0, classify_2/com_13/conv_up/bn/variance/EMA:0, classify_2/com_141/conv_up/W:0, classify_2/com_141/conv_up/bn/beta:0, classify_2/com_141/conv_up/bn/gamma:0, classify_2/com_141/conv_up/bn/mean/EMA:0, classify_2/com_141/conv_up/bn/variance/EMA:0, classify_2/com_142/conv_up/W:0, classify_2/com_142/conv_up/bn/beta:0, classify_2/com_142/conv_up/bn/gamma:0, classify_2/com_142/conv_up/bn/mean/EMA:0, classify_2/com_142/conv_up/bn/variance/EMA:0, classify_2/com_22/conv_up/W:0, classify_2/com_22/conv_up/bn/beta:0, classify_2/com_22/conv_up/bn/gamma:0, classify_2/com_22/conv_up/bn/mean/EMA:0, classify_2/com_22/conv_up/bn/variance/EMA:0, classify_2/com_24/conv_up/W:0, classify_2/com_24/conv_up/bn/beta:0, classify_2/com_24/conv_up/bn/gamma:0, classify_2/com_24/conv_up/bn/mean/EMA:0, classify_2/com_24/conv_up/bn/variance/EMA:0, classify_2/conv_down11/W:0, classify_2/conv_down11/bn/beta:0, classify_2/conv_down11/bn/gamma:0, classify_2/conv_down11/bn/mean/EMA:0, classify_2/conv_down11/bn/variance/EMA:0, classify_2/conv_down12/W:0, classify_2/conv_down12/bn/beta:0, classify_2/conv_down12/bn/gamma:0, classify_2/conv_down12/bn/mean/EMA:0, classify_2/conv_down12/bn/variance/EMA:0, classify_2/conv_down13/W:0, classify_2/conv_down13/bn/beta:0, classify_2/conv_down13/bn/gamma:0, classify_2/conv_down13/bn/mean/EMA:0, classify_2/conv_down13/bn/variance/EMA:0, classify_2/conv_down22/W:0, classify_2/conv_down22/bn/beta:0, classify_2/conv_down22/bn/gamma:0, classify_2/conv_down22/bn/mean/EMA:0, classify_2/conv_down22/bn/variance/EMA:0, classify_2/conv_down23/W:0, classify_2/conv_down23/bn/beta:0, classify_2/conv_down23/bn/gamma:0, classify_2/conv_down23/bn/mean/EMA:0, classify_2/conv_down23/bn/variance/EMA:0, classify_2/conv_downdown12/W:0, classify_2/conv_downdown12/bn/beta:0, classify_2/conv_downdown12/bn/gamma:0, classify_2/conv_downdown12/bn/mean/EMA:0, classify_2/conv_downdown12/bn/variance/EMA:0, classify_2/conv_downdown13/W:0, classify_2/conv_downdown13/bn/beta:0, classify_2/conv_downdown13/bn/gamma:0, classify_2/conv_downdown13/bn/mean/EMA:0, classify_2/conv_downdown13/bn/variance/EMA:0, classify_2/conv_img12/W:0, classify_2/conv_img12/bn/beta:0, classify_2/conv_img12/bn/gamma:0, classify_2/conv_img12/bn/mean/EMA:0, classify_2/conv_img12/bn/variance/EMA:0, classify_2/conv_img22/W:0, classify_2/conv_img22/bn/beta:0, classify_2/conv_img22/bn/gamma:0, classify_2/conv_img22/bn/mean/EMA:0, classify_2/conv_img22/bn/variance/EMA:0, classify_2/conv_img32/W:0, classify_2/conv_img32/bn/beta:0, classify_2/conv_img32/bn/gamma:0, classify_2/conv_img32/bn/mean/EMA:0, classify_2/conv_img32/bn/variance/EMA:0, classify_2/conv_out/W:0, classify_2/conv_out/b:0, classify_2/conv_straight11/W:0, classify_2/conv_straight11/bn/beta:0, classify_2/conv_straight11/bn/gamma:0, classify_2/conv_straight11/bn/mean/EMA:0, classify_2/conv_straight11/bn/variance/EMA:0, classify_2/conv_straight12/W:0, classify_2/conv_straight12/bn/beta:0, classify_2/conv_straight12/bn/gamma:0, classify_2/conv_straight12/bn/mean/EMA:0, classify_2/conv_straight12/bn/variance/EMA:0, classify_2/conv_straight13/W:0, classify_2/conv_straight13/bn/beta:0, classify_2/conv_straight13/bn/gamma:0, classify_2/conv_straight13/bn/mean/EMA:0, classify_2/conv_straight13/bn/variance/EMA:0, classify_2/conv_straight22/W:0, classify_2/conv_straight22/bn/beta:0, classify_2/conv_straight22/bn/gamma:0, classify_2/conv_straight22/bn/mean/EMA:0, classify_2/conv_straight22/bn/variance/EMA:0, classify_2/conv_straight23/W:0, classify_2/conv_straight23/bn/beta:0, classify_2/conv_straight23/bn/gamma:0, classify_2/conv_straight23/bn/mean/EMA:0, classify_2/conv_straight23/bn/variance/EMA:0, classify_2/conv_straight33/W:0, classify_2/conv_straight33/bn/beta:0, classify_2/conv_straight33/bn/gamma:0, classify_2/conv_straight33/bn/mean/EMA:0, classify_2/conv_straight33/bn/variance/EMA:0, classify_2/groupl11/block0/conv1/W:0, classify_2/groupl11/block0/conv1/bn/beta:0, classify_2/groupl11/block0/conv1/bn/gamma:0, classify_2/groupl11/block0/conv1/bn/mean/EMA:0, classify_2/groupl11/block0/conv1/bn/variance/EMA:0, classify_2/groupl11/block0/conv2/W:0, classify_2/groupl11/block0/conv2/bn/beta:0, classify_2/groupl11/block0/conv2/bn/gamma:0, classify_2/groupl11/block0/conv2/bn/mean/EMA:0, classify_2/groupl11/block0/conv2/bn/variance/EMA:0, classify_2/groupl11/block0/gcb/channel_add_conv_1/W:0, classify_2/groupl11/block0/gcb/channel_add_conv_2/W:0, classify_2/groupl11/block0/gcb/channel_add_layernorm/beta:0, classify_2/groupl11/block0/gcb/channel_add_layernorm/gamma:0, classify_2/groupl11/block0/gcb/spatial_pool_conv/W:0, classify_2/groupl12/block0/conv1/W:0, classify_2/groupl12/block0/conv1/bn/beta:0, classify_2/groupl12/block0/conv1/bn/gamma:0, classify_2/groupl12/block0/conv1/bn/mean/EMA:0, classify_2/groupl12/block0/conv1/bn/variance/EMA:0, classify_2/groupl12/block0/conv2/W:0, classify_2/groupl12/block0/conv2/bn/beta:0, classify_2/groupl12/block0/conv2/bn/gamma:0, classify_2/groupl12/block0/conv2/bn/mean/EMA:0, classify_2/groupl12/block0/conv2/bn/variance/EMA:0, classify_2/groupl12/block0/gcb/channel_add_conv_1/W:0, classify_2/groupl12/block0/gcb/channel_add_conv_2/W:0, classify_2/groupl12/block0/gcb/channel_add_layernorm/beta:0, classify_2/groupl12/block0/gcb/channel_add_layernorm/gamma:0, classify_2/groupl12/block0/gcb/spatial_pool_conv/W:0, classify_2/groupl13/block0/conv1/W:0, classify_2/groupl13/block0/conv1/bn/beta:0, classify_2/groupl13/block0/conv1/bn/gamma:0, classify_2/groupl13/block0/conv1/bn/mean/EMA:0, classify_2/groupl13/block0/conv1/bn/variance/EMA:0, classify_2/groupl13/block0/conv2/W:0, classify_2/groupl13/block0/conv2/bn/beta:0, classify_2/groupl13/block0/conv2/bn/gamma:0, classify_2/groupl13/block0/conv2/bn/mean/EMA:0, classify_2/groupl13/block0/conv2/bn/variance/EMA:0, classify_2/groupl13/block0/gcb/channel_add_conv_1/W:0, classify_2/groupl13/block0/gcb/channel_add_conv_2/W:0, classify_2/groupl13/block0/gcb/channel_add_layernorm/beta:0, classify_2/groupl13/block0/gcb/channel_add_layernorm/gamma:0, classify_2/groupl13/block0/gcb/spatial_pool_conv/W:0, classify_2/groupl22/block0/conv1/W:0, classify_2/groupl22/block0/conv1/bn/beta:0, classify_2/groupl22/block0/conv1/bn/gamma:0, classify_2/groupl22/block0/conv1/bn/mean/EMA:0, classify_2/groupl22/block0/conv1/bn/variance/EMA:0, classify_2/groupl22/block0/conv2/W:0, classify_2/groupl22/block0/conv2/bn/beta:0, classify_2/groupl22/block0/conv2/bn/gamma:0, classify_2/groupl22/block0/conv2/bn/mean/EMA:0, classify_2/groupl22/block0/conv2/bn/variance/EMA:0, classify_2/groupl22/block0/gcb/channel_add_conv_1/W:0, classify_2/groupl22/block0/gcb/channel_add_conv_2/W:0, classify_2/groupl22/block0/gcb/channel_add_layernorm/beta:0, classify_2/groupl22/block0/gcb/channel_add_layernorm/gamma:0, classify_2/groupl22/block0/gcb/spatial_pool_conv/W:0, classify_2/groupl23/block0/conv1/W:0, classify_2/groupl23/block0/conv1/bn/beta:0, classify_2/groupl23/block0/conv1/bn/gamma:0, classify_2/groupl23/block0/conv1/bn/mean/EMA:0, classify_2/groupl23/block0/conv1/bn/variance/EMA:0, classify_2/groupl23/block0/conv2/W:0, classify_2/groupl23/block0/conv2/bn/beta:0, classify_2/groupl23/block0/conv2/bn/gamma:0, classify_2/groupl23/block0/conv2/bn/mean/EMA:0, classify_2/groupl23/block0/conv2/bn/variance/EMA:0, classify_2/groupl23/block0/gcb/channel_add_conv_1/W:0, classify_2/groupl23/block0/gcb/channel_add_conv_2/W:0, classify_2/groupl23/block0/gcb/channel_add_layernorm/beta:0, classify_2/groupl23/block0/gcb/channel_add_layernorm/gamma:0, classify_2/groupl23/block0/gcb/spatial_pool_conv/W:0, classify_2/groupl33/block0/conv1/W:0, classify_2/groupl33/block0/conv1/bn/beta:0, classify_2/groupl33/block0/conv1/bn/gamma:0, classify_2/groupl33/block0/conv1/bn/mean/EMA:0, classify_2/groupl33/block0/conv1/bn/variance/EMA:0, classify_2/groupl33/block0/conv2/W:0, classify_2/groupl33/block0/conv2/bn/beta:0, classify_2/groupl33/block0/conv2/bn/gamma:0, classify_2/groupl33/block0/conv2/bn/mean/EMA:0, classify_2/groupl33/block0/conv2/bn/variance/EMA:0, classify_2/groupl33/block0/gcb/channel_add_conv_1/W:0, classify_2/groupl33/block0/gcb/channel_add_conv_2/W:0, classify_2/groupl33/block0/gcb/channel_add_layernorm/beta:0, classify_2/groupl33/block0/gcb/channel_add_layernorm/gamma:0, classify_2/groupl33/block0/gcb/spatial_pool_conv/W:0, conv_out_b/W:0, conv_out_b/b:0, conv_out_r/W:0, conv_out_r/b:0, conv_out_type/W:0, conv_out_type/b:0, cov_10x_down/W:0, cov_10x_down/bn/beta:0, cov_10x_down/bn/gamma:0, cov_10x_down/bn/mean/EMA:0, cov_10x_down/bn/variance/EMA:0, cov_10x_straight/W:0, cov_10x_straight/bn/beta:0, cov_10x_straight/bn/gamma:0, cov_10x_straight/bn/mean/EMA:0, cov_10x_straight/bn/variance/EMA:0, cov_10x_up/W:0, cov_10x_up/bn/beta:0, cov_10x_up/bn/gamma:0, cov_10x_up/bn/mean/EMA:0, cov_10x_up/bn/variance/EMA:0, cov_40x_down/W:0, cov_40x_down/bn/beta:0, cov_40x_down/bn/gamma:0, cov_40x_down/bn/mean/EMA:0, cov_40x_down/bn/variance/EMA:0, cov_40x_straight/W:0, cov_40x_straight/bn/beta:0, cov_40x_straight/bn/gamma:0, cov_40x_straight/bn/mean/EMA:0, cov_40x_straight/bn/variance/EMA:0, cov_40x_up/W:0, cov_40x_up/bn/beta:0, cov_40x_up/bn/gamma:0, cov_40x_up/bn/mean/EMA:0, cov_40x_up/bn/variance/EMA:0, d1r/conv_1/W:0, d1r/conv_1/bn/beta:0, d1r/conv_1/bn/gamma:0, d1r/conv_1/bn/mean/EMA:0, d1r/conv_1/bn/variance/EMA:0, d1r/conv_2/W:0, d1r/conv_2/bn/beta:0, d1r/conv_2/bn/gamma:0, d1r/conv_2/bn/mean/EMA:0, d1r/conv_2/bn/variance/EMA:0, d2r/conv_1/W:0, d2r/conv_1/bn/beta:0, d2r/conv_1/bn/gamma:0, d2r/conv_1/bn/mean/EMA:0, d2r/conv_1/bn/variance/EMA:0, d2r/conv_2/W:0, d2r/conv_2/bn/beta:0, d2r/conv_2/bn/gamma:0, d2r/conv_2/bn/mean/EMA:0, d2r/conv_2/bn/variance/EMA:0, d3r/conv_1/W:0, d3r/conv_1/bn/beta:0, d3r/conv_1/bn/gamma:0, d3r/conv_1/bn/mean/EMA:0, d3r/conv_1/bn/variance/EMA:0, d3r/conv_2/W:0, d3r/conv_2/bn/beta:0, d3r/conv_2/bn/gamma:0, d3r/conv_2/bn/mean/EMA:0, d3r/conv_2/bn/variance/EMA:0, en_10x/conv_1/W:0, en_10x/conv_1/bn/beta:0, en_10x/conv_1/bn/gamma:0, en_10x/conv_1/bn/mean/EMA:0, en_10x/conv_1/bn/variance/EMA:0, en_10x/conv_2/W:0, en_10x/conv_2/bn/beta:0, en_10x/conv_2/bn/gamma:0, en_10x/conv_2/bn/mean/EMA:0, en_10x/conv_2/bn/variance/EMA:0, en_10x/gcb/channel_add_conv_1/W:0, en_10x/gcb/channel_add_conv_2/W:0, en_10x/gcb/channel_add_layernorm/beta:0, en_10x/gcb/channel_add_layernorm/gamma:0, en_10x/gcb/spatial_pool_conv/W:0, en_40x/conv_1/W:0, en_40x/conv_1/bn/beta:0, en_40x/conv_1/bn/gamma:0, en_40x/conv_1/bn/mean/EMA:0, en_40x/conv_1/bn/variance/EMA:0, en_40x/conv_2/W:0, en_40x/conv_2/bn/beta:0, en_40x/conv_2/bn/gamma:0, en_40x/conv_2/bn/mean/EMA:0, en_40x/conv_2/bn/variance/EMA:0, en_40x/gcb/channel_add_conv_1/W:0, en_40x/gcb/channel_add_conv_2/W:0, en_40x/gcb/channel_add_layernorm/beta:0, en_40x/gcb/channel_add_layernorm/gamma:0, en_40x/gcb/spatial_pool_conv/W:0, global_step:0, group0/block0/gcb/channel_add_conv_1/W:0, group0/block0/gcb/channel_add_conv_2/W:0, group0/block0/gcb/channel_add_layernorm/beta:0, group0/block0/gcb/channel_add_layernorm/gamma:0, group0/block0/gcb/spatial_pool_conv/W:0, group0/block1/gcb/channel_add_conv_1/W:0, group0/block1/gcb/channel_add_conv_2/W:0, group0/block1/gcb/channel_add_layernorm/beta:0, group0/block1/gcb/channel_add_layernorm/gamma:0, group0/block1/gcb/spatial_pool_conv/W:0, group0/block2/gcb/channel_add_conv_1/W:0, group0/block2/gcb/channel_add_conv_2/W:0, group0/block2/gcb/channel_add_layernorm/beta:0, group0/block2/gcb/channel_add_layernorm/gamma:0, group0/block2/gcb/spatial_pool_conv/W:0, group1/block0/gcb/channel_add_conv_1/W:0, group1/block0/gcb/channel_add_conv_2/W:0, group1/block0/gcb/channel_add_layernorm/beta:0, group1/block0/gcb/channel_add_layernorm/gamma:0, group1/block0/gcb/spatial_pool_conv/W:0, group1/block1/gcb/channel_add_conv_1/W:0, group1/block1/gcb/channel_add_conv_2/W:0, group1/block1/gcb/channel_add_layernorm/beta:0, group1/block1/gcb/channel_add_layernorm/gamma:0, group1/block1/gcb/spatial_pool_conv/W:0, group1/block2/gcb/channel_add_conv_1/W:0, group1/block2/gcb/channel_add_conv_2/W:0, group1/block2/gcb/channel_add_layernorm/beta:0, group1/block2/gcb/channel_add_layernorm/gamma:0, group1/block2/gcb/spatial_pool_conv/W:0, group1/block3/gcb/channel_add_conv_1/W:0, group1/block3/gcb/channel_add_conv_2/W:0, group1/block3/gcb/channel_add_layernorm/beta:0, group1/block3/gcb/channel_add_layernorm/gamma:0, group1/block3/gcb/spatial_pool_conv/W:0, group2/block0/gcb/channel_add_conv_1/W:0, group2/block0/gcb/channel_add_conv_2/W:0, group2/block0/gcb/channel_add_layernorm/beta:0, group2/block0/gcb/channel_add_layernorm/gamma:0, group2/block0/gcb/spatial_pool_conv/W:0, group2/block1/gcb/channel_add_conv_1/W:0, group2/block1/gcb/channel_add_conv_2/W:0, group2/block1/gcb/channel_add_layernorm/beta:0, group2/block1/gcb/channel_add_layernorm/gamma:0, group2/block1/gcb/spatial_pool_conv/W:0, group2/block2/gcb/channel_add_conv_1/W:0, group2/block2/gcb/channel_add_conv_2/W:0, group2/block2/gcb/channel_add_layernorm/beta:0, group2/block2/gcb/channel_add_layernorm/gamma:0, group2/block2/gcb/spatial_pool_conv/W:0, group2/block3/gcb/channel_add_conv_1/W:0, group2/block3/gcb/channel_add_conv_2/W:0, group2/block3/gcb/channel_add_layernorm/beta:0, group2/block3/gcb/channel_add_layernorm/gamma:0, group2/block3/gcb/spatial_pool_conv/W:0, group2/block4/gcb/channel_add_conv_1/W:0, group2/block4/gcb/channel_add_conv_2/W:0, group2/block4/gcb/channel_add_layernorm/beta:0, group2/block4/gcb/channel_add_layernorm/gamma:0, group2/block4/gcb/spatial_pool_conv/W:0, group2/block5/gcb/channel_add_conv_1/W:0, group2/block5/gcb/channel_add_conv_2/W:0, group2/block5/gcb/channel_add_layernorm/beta:0, group2/block5/gcb/channel_add_layernorm/gamma:0, group2/block5/gcb/spatial_pool_conv/W:0, group3/block0/gcb/channel_add_conv_1/W:0, group3/block0/gcb/channel_add_conv_2/W:0, group3/block0/gcb/channel_add_layernorm/beta:0, group3/block0/gcb/channel_add_layernorm/gamma:0, group3/block0/gcb/spatial_pool_conv/W:0, group3/block1/gcb/channel_add_conv_1/W:0, group3/block1/gcb/channel_add_conv_2/W:0, group3/block1/gcb/channel_add_layernorm/beta:0, group3/block1/gcb/channel_add_layernorm/gamma:0, group3/block1/gcb/spatial_pool_conv/W:0, group3/block2/gcb/channel_add_conv_1/W:0, group3/block2/gcb/channel_add_conv_2/W:0, group3/block2/gcb/channel_add_layernorm/beta:0, group3/block2/gcb/channel_add_layernorm/gamma:0, group3/block2/gcb/spatial_pool_conv/W:0, head_fusion_classify_1/conv_mix/W:0, head_fusion_classify_1/conv_mix/bn/beta:0, head_fusion_classify_1/conv_mix/bn/gamma:0, head_fusion_classify_1/conv_mix/bn/mean/EMA:0, head_fusion_classify_1/conv_mix/bn/variance/EMA:0, head_fusion_classify_2/conv_mix/W:0, head_fusion_classify_2/conv_mix/bn/beta:0, head_fusion_classify_2/conv_mix/bn/gamma:0, head_fusion_classify_2/conv_mix/bn/mean/EMA:0, head_fusion_classify_2/conv_mix/bn/variance/EMA:0, learning_rate:0, param1:0, param2:0, param3:0, param4:0, param5:0, u1b/conv_1/W:0, u1b/conv_1/bn/beta:0, u1b/conv_1/bn/gamma:0, u1b/conv_1/bn/mean/EMA:0, u1b/conv_1/bn/variance/EMA:0, u1b/conv_2/W:0, u1b/conv_2/bn/beta:0, u1b/conv_2/bn/gamma:0, u1b/conv_2/bn/mean/EMA:0, u1b/conv_2/bn/variance/EMA:0, u1r/conv_1/W:0, u1r/conv_1/bn/beta:0, u1r/conv_1/bn/gamma:0, u1r/conv_1/bn/mean/EMA:0, u1r/conv_1/bn/variance/EMA:0, u1r/conv_2/W:0, u1r/conv_2/bn/beta:0, u1r/conv_2/bn/gamma:0, u1r/conv_2/bn/mean/EMA:0, u1r/conv_2/bn/variance/EMA:0, u2b/conv_1/W:0, u2b/conv_1/bn/beta:0, u2b/conv_1/bn/gamma:0, u2b/conv_1/bn/mean/EMA:0, u2b/conv_1/bn/variance/EMA:0, u2b/conv_2/W:0, u2b/conv_2/bn/beta:0, u2b/conv_2/bn/gamma:0, u2b/conv_2/bn/mean/EMA:0, u2b/conv_2/bn/variance/EMA:0, u2r/conv_1/W:0, u2r/conv_1/bn/beta:0, u2r/conv_1/bn/gamma:0, u2r/conv_1/bn/mean/EMA:0, u2r/conv_1/bn/variance/EMA:0, u2r/conv_2/W:0, u2r/conv_2/bn/beta:0, u2r/conv_2/bn/gamma:0, u2r/conv_2/bn/mean/EMA:0, u2r/conv_2/bn/variance/EMA:0, u3b/conv_1/W:0, u3b/conv_1/bn/beta:0, u3b/conv_1/bn/gamma:0, u3b/conv_1/bn/mean/EMA:0, u3b/conv_1/bn/variance/EMA:0, u3b/conv_2/W:0, u3b/conv_2/bn/beta:0, u3b/conv_2/bn/gamma:0, u3b/conv_2/bn/mean/EMA:0, u3b/conv_2/bn/variance/EMA:0\n"
     ]
    },
    {
     "name": "stdout",
     "output_type": "stream",
     "text": [
      "\u001b[32m[0618 12:46:33 @sessinit.py:90]\u001b[0m \u001b[5m\u001b[31mWRN\u001b[0m The following variables are in the dict, but not found in the graph: linear/W:0, linear/b:0\n",
      "\u001b[32m[0618 12:46:33 @sessinit.py:220]\u001b[0m Restoring from dict ...\n",
      "\u001b[32m[0618 12:48:10 @base.py:240]\u001b[0m Graph Finalized.\n",
      "\u001b[32m[0618 12:48:11 @concurrency.py:37]\u001b[0m Starting EnqueueThread QueueInput/input_queue ...\n",
      "\u001b[32m[0618 12:48:17 @concurrency.py:37]\u001b[0m Starting EnqueueThread DataParallelInferenceRunner/QueueInput/input_queue ...\n",
      "\u001b[32m[0618 12:48:17 @inference_runner.py:101]\u001b[0m [InferenceRunner] Will eval 50 iterations\n",
      "\u001b[32m[0618 12:48:17 @base.py:272]\u001b[0m Start Epoch 1 ...\n"
     ]
    },
    {
     "name": "stderr",
     "output_type": "stream",
     "text": [
      "\r",
      "  0%|          |0/350[00:00<?,?it/s]"
     ]
    },
    {
     "name": "stdout",
     "output_type": "stream",
     "text": [
      "\u001b[32m[0618 12:48:17 @input_source.py:551]\u001b[0m Pre-filling StagingArea ...\n",
      "\u001b[32m[0618 12:48:18 @input_source.py:555]\u001b[0m 1 element was put into StagingArea on each tower.\n"
     ]
    },
    {
     "name": "stderr",
     "output_type": "stream",
     "text": [
      "100%|##########|350/350[04:58<00:00, 1.17it/s]"
     ]
    },
    {
     "name": "stdout",
     "output_type": "stream",
     "text": [
      "\u001b[32m[0618 12:53:15 @base.py:282]\u001b[0m Epoch 1 (global_step 350) finished, time:4 minutes 58 seconds.\n"
     ]
    },
    {
     "name": "stderr",
     "output_type": "stream",
     "text": [
      "\n"
     ]
    },
    {
     "name": "stdout",
     "output_type": "stream",
     "text": [
      "\u001b[32m[0618 12:53:17 @saver.py:77]\u001b[0m Model saved to ./logs//High_CCRCC//hcnet_test/00/model-350.\n"
     ]
    },
    {
     "name": "stderr",
     "output_type": "stream",
     "text": [
      "100%|##########|50/50[00:28<00:00, 1.73it/s]\n"
     ]
    },
    {
     "name": "stdout",
     "output_type": "stream",
     "text": [
      "\u001b[32m[0618 12:53:55 @saver.py:159]\u001b[0m Model at global_step=350 with maximum valid_dice=0.80252 saved.\n",
      "\u001b[32m[0618 12:53:55 @monitor.py:459]\u001b[0m DataParallelInferenceRunner/QueueInput/queue_size: 50\n",
      "\u001b[32m[0618 12:53:55 @monitor.py:459]\u001b[0m QueueInput/queue_size: 49.991\n",
      "\u001b[32m[0618 12:53:55 @monitor.py:459]\u001b[0m learning_rate: 0.0001\n",
      "\u001b[32m[0618 12:53:55 @monitor.py:459]\u001b[0m loss-bce: 0.094834\n",
      "\u001b[32m[0618 12:53:55 @monitor.py:459]\u001b[0m loss-ce: 0.24257\n",
      "\u001b[32m[0618 12:53:55 @monitor.py:459]\u001b[0m loss-ce-12v3: 0.21624\n",
      "\u001b[32m[0618 12:53:55 @monitor.py:459]\u001b[0m loss-ce-1v23: 0.19918\n",
      "\u001b[32m[0618 12:53:55 @monitor.py:459]\u001b[0m loss-dice: 3.3005\n",
      "\u001b[32m[0618 12:53:55 @monitor.py:459]\u001b[0m loss-dice-12v3: 2.4695\n",
      "\u001b[32m[0618 12:53:55 @monitor.py:459]\u001b[0m loss-dice-1v23: 2.2814\n",
      "\u001b[32m[0618 12:53:55 @monitor.py:459]\u001b[0m loss-dice-binary: 0.3594\n",
      "\u001b[32m[0618 12:53:55 @monitor.py:459]\u001b[0m loss-reg-mae: 0.08261\n",
      "\u001b[32m[0618 12:53:55 @monitor.py:459]\u001b[0m valid_acc: 0.96822\n",
      "\u001b[32m[0618 12:53:55 @monitor.py:459]\u001b[0m valid_dice: 0.80252\n",
      "\u001b[32m[0618 12:53:55 @monitor.py:459]\u001b[0m valid_dice_Endothelium: 0.34268\n",
      "\u001b[32m[0618 12:53:55 @monitor.py:459]\u001b[0m valid_dice_Grade1: 0.63817\n",
      "\u001b[32m[0618 12:53:55 @monitor.py:459]\u001b[0m valid_dice_Grade2: 0.0039468\n",
      "\u001b[32m[0618 12:53:55 @monitor.py:459]\u001b[0m valid_dice_Grade3: 0.011651\n",
      "\u001b[32m[0618 12:53:55 @monitor.py:459]\u001b[0m valid_mae: 0.070977\n",
      "\u001b[32m[0618 12:53:55 @monitor.py:459]\u001b[0m valid_mean_dice: 0.24911\n",
      "\u001b[32m[0618 12:53:55 @monitor.py:459]\u001b[0m valid_ssim: 0.37986\n",
      "\u001b[32m[0618 12:53:55 @group.py:48]\u001b[0m Callbacks took 39.329 sec in total. DataParallelInferenceRunner: 36.6 seconds\n",
      "\u001b[32m[0618 12:53:55 @base.py:272]\u001b[0m Start Epoch 2 ...\n"
     ]
    },
    {
     "name": "stderr",
     "output_type": "stream",
     "text": [
      "100%|##########|350/350[03:56<00:00, 1.48it/s]"
     ]
    },
    {
     "name": "stdout",
     "output_type": "stream",
     "text": [
      "\u001b[32m[0618 12:57:51 @base.py:282]\u001b[0m Epoch 2 (global_step 700) finished, time:3 minutes 56 seconds.\n"
     ]
    },
    {
     "name": "stderr",
     "output_type": "stream",
     "text": [
      "\n"
     ]
    },
    {
     "name": "stdout",
     "output_type": "stream",
     "text": [
      "\u001b[32m[0618 12:57:53 @saver.py:77]\u001b[0m Model saved to ./logs//High_CCRCC//hcnet_test/00/model-700.\n"
     ]
    },
    {
     "name": "stderr",
     "output_type": "stream",
     "text": [
      "100%|##########|50/50[00:13<00:00, 3.64it/s]\n"
     ]
    },
    {
     "name": "stdout",
     "output_type": "stream",
     "text": [
      "\u001b[32m[0618 12:58:15 @saver.py:159]\u001b[0m Model at global_step=700 with maximum valid_dice=0.82956 saved.\n",
      "\u001b[32m[0618 12:58:15 @monitor.py:459]\u001b[0m DataParallelInferenceRunner/QueueInput/queue_size: 49.81\n",
      "\u001b[32m[0618 12:58:15 @monitor.py:459]\u001b[0m QueueInput/queue_size: 49.492\n",
      "\u001b[32m[0618 12:58:15 @monitor.py:459]\u001b[0m learning_rate: 0.0001\n",
      "\u001b[32m[0618 12:58:15 @monitor.py:459]\u001b[0m loss-bce: 0.080888\n",
      "\u001b[32m[0618 12:58:15 @monitor.py:459]\u001b[0m loss-ce: 0.19426\n",
      "\u001b[32m[0618 12:58:15 @monitor.py:459]\u001b[0m loss-ce-12v3: 0.1594\n",
      "\u001b[32m[0618 12:58:15 @monitor.py:459]\u001b[0m loss-ce-1v23: 0.16335\n",
      "\u001b[32m[0618 12:58:15 @monitor.py:459]\u001b[0m loss-dice: 3.1557\n",
      "\u001b[32m[0618 12:58:15 @monitor.py:459]\u001b[0m loss-dice-12v3: 2.2699\n",
      "\u001b[32m[0618 12:58:15 @monitor.py:459]\u001b[0m loss-dice-1v23: 2.1206\n",
      "\u001b[32m[0618 12:58:15 @monitor.py:459]\u001b[0m loss-dice-binary: 0.32062\n",
      "\u001b[32m[0618 12:58:15 @monitor.py:459]\u001b[0m loss-reg-mae: 0.044897\n",
      "\u001b[32m[0618 12:58:15 @monitor.py:459]\u001b[0m valid_acc: 0.97114\n",
      "\u001b[32m[0618 12:58:15 @monitor.py:459]\u001b[0m valid_dice: 0.82956\n",
      "\u001b[32m[0618 12:58:15 @monitor.py:459]\u001b[0m valid_dice_Endothelium: 0.33542\n",
      "\u001b[32m[0618 12:58:15 @monitor.py:459]\u001b[0m valid_dice_Grade1: 0.64282\n",
      "\u001b[32m[0618 12:58:15 @monitor.py:459]\u001b[0m valid_dice_Grade2: 0.0003836\n",
      "\u001b[32m[0618 12:58:15 @monitor.py:459]\u001b[0m valid_dice_Grade3: 0.12846\n",
      "\u001b[32m[0618 12:58:15 @monitor.py:459]\u001b[0m valid_mae: 0.060506\n",
      "\u001b[32m[0618 12:58:15 @monitor.py:459]\u001b[0m valid_mean_dice: 0.27677\n",
      "\u001b[32m[0618 12:58:15 @monitor.py:459]\u001b[0m valid_ssim: 0.67918\n",
      "\u001b[32m[0618 12:58:15 @group.py:48]\u001b[0m Callbacks took 24.034 sec in total. DataParallelInferenceRunner: 21.9 seconds\n",
      "\u001b[32m[0618 12:58:15 @base.py:272]\u001b[0m Start Epoch 3 ...\n"
     ]
    },
    {
     "name": "stderr",
     "output_type": "stream",
     "text": [
      "100%|##########|350/350[03:56<00:00, 1.48it/s]"
     ]
    },
    {
     "name": "stdout",
     "output_type": "stream",
     "text": [
      "\u001b[32m[0618 13:02:12 @base.py:282]\u001b[0m Epoch 3 (global_step 1050) finished, time:3 minutes 56 seconds.\n"
     ]
    },
    {
     "name": "stderr",
     "output_type": "stream",
     "text": [
      "\n"
     ]
    },
    {
     "name": "stdout",
     "output_type": "stream",
     "text": [
      "\u001b[32m[0618 13:02:12 @saver.py:77]\u001b[0m Model saved to ./logs//High_CCRCC//hcnet_test/00/model-1050.\n"
     ]
    },
    {
     "name": "stderr",
     "output_type": "stream",
     "text": [
      "100%|##########|50/50[00:13<00:00, 3.64it/s]\n"
     ]
    },
    {
     "name": "stdout",
     "output_type": "stream",
     "text": [
      "\u001b[32m[0618 13:02:34 @monitor.py:459]\u001b[0m DataParallelInferenceRunner/QueueInput/queue_size: 49.927\n",
      "\u001b[32m[0618 13:02:34 @monitor.py:459]\u001b[0m QueueInput/queue_size: 49.999\n",
      "\u001b[32m[0618 13:02:34 @monitor.py:459]\u001b[0m learning_rate: 0.0001\n",
      "\u001b[32m[0618 13:02:34 @monitor.py:459]\u001b[0m loss-bce: 0.070976\n",
      "\u001b[32m[0618 13:02:34 @monitor.py:459]\u001b[0m loss-ce: 0.1585\n",
      "\u001b[32m[0618 13:02:34 @monitor.py:459]\u001b[0m loss-ce-12v3: 0.13325\n",
      "\u001b[32m[0618 13:02:34 @monitor.py:459]\u001b[0m loss-ce-1v23: 0.13959\n",
      "\u001b[32m[0618 13:02:34 @monitor.py:459]\u001b[0m loss-dice: 3.0556\n",
      "\u001b[32m[0618 13:02:34 @monitor.py:459]\u001b[0m loss-dice-12v3: 2.1552\n",
      "\u001b[32m[0618 13:02:34 @monitor.py:459]\u001b[0m loss-dice-1v23: 2.0091\n",
      "\u001b[32m[0618 13:02:34 @monitor.py:459]\u001b[0m loss-dice-binary: 0.28955\n",
      "\u001b[32m[0618 13:02:34 @monitor.py:459]\u001b[0m loss-reg-mae: 1.0628\n",
      "\u001b[32m[0618 13:02:34 @monitor.py:459]\u001b[0m valid_acc: 0.97153\n",
      "\u001b[32m[0618 13:02:34 @monitor.py:459]\u001b[0m valid_dice: 0.82628\n",
      "\u001b[32m[0618 13:02:34 @monitor.py:459]\u001b[0m valid_dice_Endothelium: 0.4515\n",
      "\u001b[32m[0618 13:02:34 @monitor.py:459]\u001b[0m valid_dice_Grade1: 0.64627\n",
      "\u001b[32m[0618 13:02:34 @monitor.py:459]\u001b[0m valid_dice_Grade2: 0.0076748\n",
      "\u001b[32m[0618 13:02:34 @monitor.py:459]\u001b[0m valid_dice_Grade3: 0.15472\n",
      "\u001b[32m[0618 13:02:34 @monitor.py:459]\u001b[0m valid_mae: 0.045807\n",
      "\u001b[32m[0618 13:02:34 @monitor.py:459]\u001b[0m valid_mean_dice: 0.31504\n",
      "\u001b[32m[0618 13:02:34 @monitor.py:459]\u001b[0m valid_ssim: 1.1368\n",
      "\u001b[32m[0618 13:02:34 @group.py:48]\u001b[0m Callbacks took 22.781 sec in total. DataParallelInferenceRunner: 21.8 seconds\n",
      "\u001b[32m[0618 13:02:34 @base.py:272]\u001b[0m Start Epoch 4 ...\n"
     ]
    },
    {
     "name": "stderr",
     "output_type": "stream",
     "text": [
      "100%|##########|350/350[03:56<00:00, 1.48it/s]"
     ]
    },
    {
     "name": "stdout",
     "output_type": "stream",
     "text": [
      "\u001b[32m[0618 13:06:31 @base.py:282]\u001b[0m Epoch 4 (global_step 1400) finished, time:3 minutes 56 seconds.\n"
     ]
    },
    {
     "name": "stderr",
     "output_type": "stream",
     "text": [
      "\n"
     ]
    },
    {
     "name": "stdout",
     "output_type": "stream",
     "text": [
      "\u001b[32m[0618 13:06:32 @saver.py:77]\u001b[0m Model saved to ./logs//High_CCRCC//hcnet_test/00/model-1400.\n"
     ]
    },
    {
     "name": "stderr",
     "output_type": "stream",
     "text": [
      "100%|##########|50/50[00:13<00:00, 3.65it/s]\n"
     ]
    },
    {
     "name": "stdout",
     "output_type": "stream",
     "text": [
      "\u001b[32m[0618 13:06:54 @saver.py:159]\u001b[0m Model at global_step=1400 with maximum valid_dice=0.83566 saved.\n",
      "\u001b[32m[0618 13:06:54 @monitor.py:459]\u001b[0m DataParallelInferenceRunner/QueueInput/queue_size: 49.937\n",
      "\u001b[32m[0618 13:06:54 @monitor.py:459]\u001b[0m QueueInput/queue_size: 49.992\n",
      "\u001b[32m[0618 13:06:54 @monitor.py:459]\u001b[0m learning_rate: 0.0001\n",
      "\u001b[32m[0618 13:06:54 @monitor.py:459]\u001b[0m loss-bce: 0.070765\n",
      "\u001b[32m[0618 13:06:54 @monitor.py:459]\u001b[0m loss-ce: 0.15612\n",
      "\u001b[32m[0618 13:06:54 @monitor.py:459]\u001b[0m loss-ce-12v3: 0.13069\n",
      "\u001b[32m[0618 13:06:54 @monitor.py:459]\u001b[0m loss-ce-1v23: 0.13528\n",
      "\u001b[32m[0618 13:06:54 @monitor.py:459]\u001b[0m loss-dice: 2.9617\n",
      "\u001b[32m[0618 13:06:54 @monitor.py:459]\u001b[0m loss-dice-12v3: 2.0934\n",
      "\u001b[32m[0618 13:06:54 @monitor.py:459]\u001b[0m loss-dice-1v23: 1.915\n",
      "\u001b[32m[0618 13:06:54 @monitor.py:459]\u001b[0m loss-dice-binary: 0.28488\n",
      "\u001b[32m[0618 13:06:54 @monitor.py:459]\u001b[0m loss-reg-mae: 0.058585\n",
      "\u001b[32m[0618 13:06:54 @monitor.py:459]\u001b[0m valid_acc: 0.97239\n",
      "\u001b[32m[0618 13:06:54 @monitor.py:459]\u001b[0m valid_dice: 0.83566\n",
      "\u001b[32m[0618 13:06:54 @monitor.py:459]\u001b[0m valid_dice_Endothelium: 0.45869\n",
      "\u001b[32m[0618 13:06:54 @monitor.py:459]\u001b[0m valid_dice_Grade1: 0.67145\n",
      "\u001b[32m[0618 13:06:54 @monitor.py:459]\u001b[0m valid_dice_Grade2: 0.00022906\n",
      "\u001b[32m[0618 13:06:54 @monitor.py:459]\u001b[0m valid_dice_Grade3: 0.28862\n",
      "\u001b[32m[0618 13:06:54 @monitor.py:459]\u001b[0m valid_mae: 0.042888\n",
      "\u001b[32m[0618 13:06:54 @monitor.py:459]\u001b[0m valid_mean_dice: 0.35475\n",
      "\u001b[32m[0618 13:06:54 @monitor.py:459]\u001b[0m valid_ssim: 1.4725\n",
      "\u001b[32m[0618 13:06:54 @group.py:48]\u001b[0m Callbacks took 23.741 sec in total. DataParallelInferenceRunner: 22.4 seconds\n",
      "\u001b[32m[0618 13:06:54 @base.py:272]\u001b[0m Start Epoch 5 ...\n"
     ]
    },
    {
     "name": "stderr",
     "output_type": "stream",
     "text": [
      "100%|##########|350/350[03:56<00:00, 1.48it/s]"
     ]
    },
    {
     "name": "stdout",
     "output_type": "stream",
     "text": [
      "\u001b[32m[0618 13:10:51 @base.py:282]\u001b[0m Epoch 5 (global_step 1750) finished, time:3 minutes 56 seconds.\n"
     ]
    },
    {
     "name": "stderr",
     "output_type": "stream",
     "text": [
      "\n"
     ]
    },
    {
     "name": "stdout",
     "output_type": "stream",
     "text": [
      "\u001b[32m[0618 13:10:52 @saver.py:77]\u001b[0m Model saved to ./logs//High_CCRCC//hcnet_test/00/model-1750.\n"
     ]
    },
    {
     "name": "stderr",
     "output_type": "stream",
     "text": [
      "100%|##########|50/50[00:13<00:00, 3.64it/s]\n"
     ]
    },
    {
     "name": "stdout",
     "output_type": "stream",
     "text": [
      "\u001b[32m[0618 13:11:14 @saver.py:159]\u001b[0m Model at global_step=1750 with maximum valid_dice=0.84042 saved.\n",
      "\u001b[32m[0618 13:11:14 @monitor.py:459]\u001b[0m DataParallelInferenceRunner/QueueInput/queue_size: 49.559\n",
      "\u001b[32m[0618 13:11:14 @monitor.py:459]\u001b[0m QueueInput/queue_size: 49.897\n",
      "\u001b[32m[0618 13:11:14 @monitor.py:459]\u001b[0m learning_rate: 0.0001\n",
      "\u001b[32m[0618 13:11:14 @monitor.py:459]\u001b[0m loss-bce: 0.069509\n",
      "\u001b[32m[0618 13:11:14 @monitor.py:459]\u001b[0m loss-ce: 0.14643\n",
      "\u001b[32m[0618 13:11:14 @monitor.py:459]\u001b[0m loss-ce-12v3: 0.12169\n",
      "\u001b[32m[0618 13:11:14 @monitor.py:459]\u001b[0m loss-ce-1v23: 0.12724\n",
      "\u001b[32m[0618 13:11:14 @monitor.py:459]\u001b[0m loss-dice: 2.8815\n",
      "\u001b[32m[0618 13:11:14 @monitor.py:459]\u001b[0m loss-dice-12v3: 2.0273\n",
      "\u001b[32m[0618 13:11:14 @monitor.py:459]\u001b[0m loss-dice-1v23: 1.8466\n",
      "\u001b[32m[0618 13:11:14 @monitor.py:459]\u001b[0m loss-dice-binary: 0.27321\n",
      "\u001b[32m[0618 13:11:14 @monitor.py:459]\u001b[0m loss-reg-mae: 0.022214\n",
      "\u001b[32m[0618 13:11:14 @monitor.py:459]\u001b[0m valid_acc: 0.97293\n",
      "\u001b[32m[0618 13:11:14 @monitor.py:459]\u001b[0m valid_dice: 0.84042\n",
      "\u001b[32m[0618 13:11:14 @monitor.py:459]\u001b[0m valid_dice_Endothelium: 0.44191\n",
      "\u001b[32m[0618 13:11:14 @monitor.py:459]\u001b[0m valid_dice_Grade1: 0.67086\n",
      "\u001b[32m[0618 13:11:14 @monitor.py:459]\u001b[0m valid_dice_Grade2: 0.00025606\n",
      "\u001b[32m[0618 13:11:14 @monitor.py:459]\u001b[0m valid_dice_Grade3: 0.42657\n",
      "\u001b[32m[0618 13:11:14 @monitor.py:459]\u001b[0m valid_mae: 0.040103\n",
      "\u001b[32m[0618 13:11:14 @monitor.py:459]\u001b[0m valid_mean_dice: 0.3849\n",
      "\u001b[32m[0618 13:11:14 @monitor.py:459]\u001b[0m valid_ssim: 1.6702\n",
      "\u001b[32m[0618 13:11:14 @group.py:48]\u001b[0m Callbacks took 22.926 sec in total. DataParallelInferenceRunner: 21.7 seconds\n",
      "\u001b[32m[0618 13:11:14 @base.py:272]\u001b[0m Start Epoch 6 ...\n"
     ]
    },
    {
     "name": "stderr",
     "output_type": "stream",
     "text": [
      "100%|##########|350/350[03:55<00:00, 1.48it/s]"
     ]
    },
    {
     "name": "stdout",
     "output_type": "stream",
     "text": [
      "\u001b[32m[0618 13:15:10 @base.py:282]\u001b[0m Epoch 6 (global_step 2100) finished, time:3 minutes 55 seconds.\n"
     ]
    },
    {
     "name": "stderr",
     "output_type": "stream",
     "text": [
      "\n"
     ]
    },
    {
     "name": "stdout",
     "output_type": "stream",
     "text": [
      "\u001b[32m[0618 13:15:10 @saver.py:77]\u001b[0m Model saved to ./logs//High_CCRCC//hcnet_test/00/model-2100.\n"
     ]
    },
    {
     "name": "stderr",
     "output_type": "stream",
     "text": [
      "100%|##########|50/50[00:13<00:00, 3.67it/s]\n"
     ]
    },
    {
     "name": "stdout",
     "output_type": "stream",
     "text": [
      "\u001b[32m[0618 13:15:31 @monitor.py:459]\u001b[0m DataParallelInferenceRunner/QueueInput/queue_size: 49.9\n",
      "\u001b[32m[0618 13:15:31 @monitor.py:459]\u001b[0m QueueInput/queue_size: 49.451\n",
      "\u001b[32m[0618 13:15:31 @monitor.py:459]\u001b[0m learning_rate: 0.0001\n",
      "\u001b[32m[0618 13:15:31 @monitor.py:459]\u001b[0m loss-bce: 0.072732\n",
      "\u001b[32m[0618 13:15:31 @monitor.py:459]\u001b[0m loss-ce: 0.1507\n",
      "\u001b[32m[0618 13:15:31 @monitor.py:459]\u001b[0m loss-ce-12v3: 0.12304\n",
      "\u001b[32m[0618 13:15:31 @monitor.py:459]\u001b[0m loss-ce-1v23: 0.13237\n",
      "\u001b[32m[0618 13:15:31 @monitor.py:459]\u001b[0m loss-dice: 2.8578\n",
      "\u001b[32m[0618 13:15:31 @monitor.py:459]\u001b[0m loss-dice-12v3: 2.0155\n",
      "\u001b[32m[0618 13:15:31 @monitor.py:459]\u001b[0m loss-dice-1v23: 1.8192\n",
      "\u001b[32m[0618 13:15:31 @monitor.py:459]\u001b[0m loss-dice-binary: 0.27535\n",
      "\u001b[32m[0618 13:15:31 @monitor.py:459]\u001b[0m loss-reg-mae: 0.021169\n",
      "\u001b[32m[0618 13:15:31 @monitor.py:459]\u001b[0m valid_acc: 0.9729\n",
      "\u001b[32m[0618 13:15:31 @monitor.py:459]\u001b[0m valid_dice: 0.8366\n",
      "\u001b[32m[0618 13:15:31 @monitor.py:459]\u001b[0m valid_dice_Endothelium: 0.54417\n",
      "\u001b[32m[0618 13:15:31 @monitor.py:459]\u001b[0m valid_dice_Grade1: 0.68647\n",
      "\u001b[32m[0618 13:15:31 @monitor.py:459]\u001b[0m valid_dice_Grade2: 0.00047791\n",
      "\u001b[32m[0618 13:15:31 @monitor.py:459]\u001b[0m valid_dice_Grade3: 0.48917\n",
      "\u001b[32m[0618 13:15:31 @monitor.py:459]\u001b[0m valid_mae: 0.036886\n",
      "\u001b[32m[0618 13:15:31 @monitor.py:459]\u001b[0m valid_mean_dice: 0.43007\n",
      "\u001b[32m[0618 13:15:31 @monitor.py:459]\u001b[0m valid_ssim: 1.7757\n",
      "\u001b[32m[0618 13:15:31 @group.py:48]\u001b[0m Callbacks took 21.836 sec in total. DataParallelInferenceRunner: 20.9 seconds\n",
      "\u001b[32m[0618 13:15:31 @base.py:272]\u001b[0m Start Epoch 7 ...\n"
     ]
    },
    {
     "name": "stderr",
     "output_type": "stream",
     "text": [
      "100%|##########|350/350[03:55<00:00, 1.48it/s]"
     ]
    },
    {
     "name": "stdout",
     "output_type": "stream",
     "text": [
      "\u001b[32m[0618 13:19:27 @base.py:282]\u001b[0m Epoch 7 (global_step 2450) finished, time:3 minutes 55 seconds.\n"
     ]
    },
    {
     "name": "stderr",
     "output_type": "stream",
     "text": [
      "\n"
     ]
    },
    {
     "name": "stdout",
     "output_type": "stream",
     "text": [
      "\u001b[32m[0618 13:19:28 @saver.py:77]\u001b[0m Model saved to ./logs//High_CCRCC//hcnet_test/00/model-2450.\n"
     ]
    },
    {
     "name": "stderr",
     "output_type": "stream",
     "text": [
      "100%|##########|50/50[00:13<00:00, 3.67it/s]\n"
     ]
    },
    {
     "name": "stdout",
     "output_type": "stream",
     "text": [
      "\u001b[32m[0618 13:19:49 @monitor.py:459]\u001b[0m DataParallelInferenceRunner/QueueInput/queue_size: 49.874\n",
      "\u001b[32m[0618 13:19:49 @monitor.py:459]\u001b[0m QueueInput/queue_size: 49.997\n",
      "\u001b[32m[0618 13:19:49 @monitor.py:459]\u001b[0m learning_rate: 0.0001\n",
      "\u001b[32m[0618 13:19:49 @monitor.py:459]\u001b[0m loss-bce: 0.069924\n",
      "\u001b[32m[0618 13:19:49 @monitor.py:459]\u001b[0m loss-ce: 0.14198\n",
      "\u001b[32m[0618 13:19:49 @monitor.py:459]\u001b[0m loss-ce-12v3: 0.11367\n",
      "\u001b[32m[0618 13:19:49 @monitor.py:459]\u001b[0m loss-ce-1v23: 0.12767\n",
      "\u001b[32m[0618 13:19:49 @monitor.py:459]\u001b[0m loss-dice: 2.8838\n",
      "\u001b[32m[0618 13:19:49 @monitor.py:459]\u001b[0m loss-dice-12v3: 1.9907\n",
      "\u001b[32m[0618 13:19:49 @monitor.py:459]\u001b[0m loss-dice-1v23: 1.8385\n",
      "\u001b[32m[0618 13:19:49 @monitor.py:459]\u001b[0m loss-dice-binary: 0.27007\n",
      "\u001b[32m[0618 13:19:49 @monitor.py:459]\u001b[0m loss-reg-mae: 0.13674\n",
      "\u001b[32m[0618 13:19:49 @monitor.py:459]\u001b[0m valid_acc: 0.97289\n",
      "\u001b[32m[0618 13:19:49 @monitor.py:459]\u001b[0m valid_dice: 0.83835\n",
      "\u001b[32m[0618 13:19:49 @monitor.py:459]\u001b[0m valid_dice_Endothelium: 0.55335\n",
      "\u001b[32m[0618 13:19:49 @monitor.py:459]\u001b[0m valid_dice_Grade1: 0.68154\n",
      "\u001b[32m[0618 13:19:49 @monitor.py:459]\u001b[0m valid_dice_Grade2: 0.0017564\n",
      "\u001b[32m[0618 13:19:49 @monitor.py:459]\u001b[0m valid_dice_Grade3: 0.47055\n",
      "\u001b[32m[0618 13:19:49 @monitor.py:459]\u001b[0m valid_mae: 0.038743\n",
      "\u001b[32m[0618 13:19:49 @monitor.py:459]\u001b[0m valid_mean_dice: 0.4268\n",
      "\u001b[32m[0618 13:19:49 @monitor.py:459]\u001b[0m valid_ssim: 1.7759\n",
      "\u001b[32m[0618 13:19:49 @group.py:48]\u001b[0m Callbacks took 21.809 sec in total. DataParallelInferenceRunner: 21 seconds\n",
      "\u001b[32m[0618 13:19:49 @base.py:272]\u001b[0m Start Epoch 8 ...\n"
     ]
    },
    {
     "name": "stderr",
     "output_type": "stream",
     "text": [
      "100%|##########|350/350[03:56<00:00, 1.48it/s]"
     ]
    },
    {
     "name": "stdout",
     "output_type": "stream",
     "text": [
      "\u001b[32m[0618 13:23:45 @base.py:282]\u001b[0m Epoch 8 (global_step 2800) finished, time:3 minutes 56 seconds.\n"
     ]
    },
    {
     "name": "stderr",
     "output_type": "stream",
     "text": [
      "\n"
     ]
    },
    {
     "name": "stdout",
     "output_type": "stream",
     "text": [
      "\u001b[32m[0618 13:23:46 @saver.py:77]\u001b[0m Model saved to ./logs//High_CCRCC//hcnet_test/00/model-2800.\n"
     ]
    },
    {
     "name": "stderr",
     "output_type": "stream",
     "text": [
      "100%|##########|50/50[00:13<00:00, 3.68it/s]\n"
     ]
    },
    {
     "name": "stdout",
     "output_type": "stream",
     "text": [
      "\u001b[32m[0618 13:24:08 @saver.py:159]\u001b[0m Model at global_step=2800 with maximum valid_dice=0.84402 saved.\n",
      "\u001b[32m[0618 13:24:08 @monitor.py:459]\u001b[0m DataParallelInferenceRunner/QueueInput/queue_size: 49.983\n",
      "\u001b[32m[0618 13:24:08 @monitor.py:459]\u001b[0m QueueInput/queue_size: 49.984\n",
      "\u001b[32m[0618 13:24:08 @monitor.py:459]\u001b[0m learning_rate: 0.0001\n",
      "\u001b[32m[0618 13:24:08 @monitor.py:459]\u001b[0m loss-bce: 0.073472\n",
      "\u001b[32m[0618 13:24:08 @monitor.py:459]\u001b[0m loss-ce: 0.14229\n",
      "\u001b[32m[0618 13:24:08 @monitor.py:459]\u001b[0m loss-ce-12v3: 0.11744\n",
      "\u001b[32m[0618 13:24:08 @monitor.py:459]\u001b[0m loss-ce-1v23: 0.12816\n",
      "\u001b[32m[0618 13:24:08 @monitor.py:459]\u001b[0m loss-dice: 2.776\n",
      "\u001b[32m[0618 13:24:08 @monitor.py:459]\u001b[0m loss-dice-12v3: 1.9209\n",
      "\u001b[32m[0618 13:24:08 @monitor.py:459]\u001b[0m loss-dice-1v23: 1.7814\n",
      "\u001b[32m[0618 13:24:08 @monitor.py:459]\u001b[0m loss-dice-binary: 0.26969\n",
      "\u001b[32m[0618 13:24:08 @monitor.py:459]\u001b[0m loss-reg-mae: 0.023123\n",
      "\u001b[32m[0618 13:24:08 @monitor.py:459]\u001b[0m valid_acc: 0.97317\n",
      "\u001b[32m[0618 13:24:08 @monitor.py:459]\u001b[0m valid_dice: 0.84402\n",
      "\u001b[32m[0618 13:24:08 @monitor.py:459]\u001b[0m valid_dice_Endothelium: 0.55314\n",
      "\u001b[32m[0618 13:24:08 @monitor.py:459]\u001b[0m valid_dice_Grade1: 0.69032\n",
      "\u001b[32m[0618 13:24:08 @monitor.py:459]\u001b[0m valid_dice_Grade2: 0.0069253\n",
      "\u001b[32m[0618 13:24:08 @monitor.py:459]\u001b[0m valid_dice_Grade3: 0.53118\n",
      "\u001b[32m[0618 13:24:08 @monitor.py:459]\u001b[0m valid_mae: 0.03677\n",
      "\u001b[32m[0618 13:24:08 @monitor.py:459]\u001b[0m valid_mean_dice: 0.44539\n",
      "\u001b[32m[0618 13:24:08 @monitor.py:459]\u001b[0m valid_ssim: 1.7566\n",
      "\u001b[32m[0618 13:24:08 @group.py:48]\u001b[0m Callbacks took 22.722 sec in total. DataParallelInferenceRunner: 21.4 seconds\n",
      "\u001b[32m[0618 13:24:08 @base.py:272]\u001b[0m Start Epoch 9 ...\n"
     ]
    },
    {
     "name": "stderr",
     "output_type": "stream",
     "text": [
      "100%|##########|350/350[03:56<00:00, 1.48it/s]"
     ]
    },
    {
     "name": "stdout",
     "output_type": "stream",
     "text": [
      "\u001b[32m[0618 13:28:04 @base.py:282]\u001b[0m Epoch 9 (global_step 3150) finished, time:3 minutes 56 seconds.\n"
     ]
    },
    {
     "name": "stderr",
     "output_type": "stream",
     "text": [
      "\n"
     ]
    },
    {
     "name": "stdout",
     "output_type": "stream",
     "text": [
      "\u001b[32m[0618 13:28:05 @saver.py:77]\u001b[0m Model saved to ./logs//High_CCRCC//hcnet_test/00/model-3150.\n"
     ]
    },
    {
     "name": "stderr",
     "output_type": "stream",
     "text": [
      "100%|##########|50/50[00:13<00:00, 3.69it/s]\n"
     ]
    },
    {
     "name": "stdout",
     "output_type": "stream",
     "text": [
      "\u001b[32m[0618 13:28:26 @saver.py:159]\u001b[0m Model at global_step=3150 with maximum valid_dice=0.84883 saved.\n",
      "\u001b[32m[0618 13:28:26 @monitor.py:459]\u001b[0m DataParallelInferenceRunner/QueueInput/queue_size: 49.745\n",
      "\u001b[32m[0618 13:28:26 @monitor.py:459]\u001b[0m QueueInput/queue_size: 49.741\n",
      "\u001b[32m[0618 13:28:26 @monitor.py:459]\u001b[0m learning_rate: 0.0001\n",
      "\u001b[32m[0618 13:28:26 @monitor.py:459]\u001b[0m loss-bce: 0.068978\n",
      "\u001b[32m[0618 13:28:26 @monitor.py:459]\u001b[0m loss-ce: 0.13566\n",
      "\u001b[32m[0618 13:28:26 @monitor.py:459]\u001b[0m loss-ce-12v3: 0.11559\n",
      "\u001b[32m[0618 13:28:26 @monitor.py:459]\u001b[0m loss-ce-1v23: 0.12268\n",
      "\u001b[32m[0618 13:28:26 @monitor.py:459]\u001b[0m loss-dice: 2.7369\n",
      "\u001b[32m[0618 13:28:26 @monitor.py:459]\u001b[0m loss-dice-12v3: 1.8942\n",
      "\u001b[32m[0618 13:28:26 @monitor.py:459]\u001b[0m loss-dice-1v23: 1.7108\n",
      "\u001b[32m[0618 13:28:26 @monitor.py:459]\u001b[0m loss-dice-binary: 0.25773\n",
      "\u001b[32m[0618 13:28:26 @monitor.py:459]\u001b[0m loss-reg-mae: 0.01781\n",
      "\u001b[32m[0618 13:28:26 @monitor.py:459]\u001b[0m valid_acc: 0.97347\n",
      "\u001b[32m[0618 13:28:26 @monitor.py:459]\u001b[0m valid_dice: 0.84883\n",
      "\u001b[32m[0618 13:28:26 @monitor.py:459]\u001b[0m valid_dice_Endothelium: 0.56628\n",
      "\u001b[32m[0618 13:28:26 @monitor.py:459]\u001b[0m valid_dice_Grade1: 0.69943\n",
      "\u001b[32m[0618 13:28:26 @monitor.py:459]\u001b[0m valid_dice_Grade2: 0.00059682\n",
      "\u001b[32m[0618 13:28:26 @monitor.py:459]\u001b[0m valid_dice_Grade3: 0.57989\n",
      "\u001b[32m[0618 13:28:26 @monitor.py:459]\u001b[0m valid_mae: 0.040409\n",
      "\u001b[32m[0618 13:28:26 @monitor.py:459]\u001b[0m valid_mean_dice: 0.46155\n",
      "\u001b[32m[0618 13:28:26 @monitor.py:459]\u001b[0m valid_ssim: 1.7188\n",
      "\u001b[32m[0618 13:28:26 @group.py:48]\u001b[0m Callbacks took 21.839 sec in total. DataParallelInferenceRunner: 20.6 seconds\n",
      "\u001b[32m[0618 13:28:26 @base.py:272]\u001b[0m Start Epoch 10 ...\n"
     ]
    },
    {
     "name": "stderr",
     "output_type": "stream",
     "text": [
      "100%|##########|350/350[03:55<00:00, 1.48it/s]"
     ]
    },
    {
     "name": "stdout",
     "output_type": "stream",
     "text": [
      "\u001b[32m[0618 13:32:22 @base.py:282]\u001b[0m Epoch 10 (global_step 3500) finished, time:3 minutes 55 seconds.\n"
     ]
    },
    {
     "name": "stderr",
     "output_type": "stream",
     "text": [
      "\n"
     ]
    },
    {
     "name": "stdout",
     "output_type": "stream",
     "text": [
      "\u001b[32m[0618 13:32:23 @saver.py:77]\u001b[0m Model saved to ./logs//High_CCRCC//hcnet_test/00/model-3500.\n"
     ]
    },
    {
     "name": "stderr",
     "output_type": "stream",
     "text": [
      "100%|##########|50/50[00:13<00:00, 3.78it/s]\n"
     ]
    },
    {
     "name": "stdout",
     "output_type": "stream",
     "text": [
      "\u001b[32m[0618 13:32:43 @monitor.py:459]\u001b[0m DataParallelInferenceRunner/QueueInput/queue_size: 49.654\n",
      "\u001b[32m[0618 13:32:43 @monitor.py:459]\u001b[0m QueueInput/queue_size: 49.967\n",
      "\u001b[32m[0618 13:32:43 @monitor.py:459]\u001b[0m learning_rate: 0.0001\n",
      "\u001b[32m[0618 13:32:43 @monitor.py:459]\u001b[0m loss-bce: 0.070821\n",
      "\u001b[32m[0618 13:32:43 @monitor.py:459]\u001b[0m loss-ce: 0.13921\n",
      "\u001b[32m[0618 13:32:43 @monitor.py:459]\u001b[0m loss-ce-12v3: 0.11713\n",
      "\u001b[32m[0618 13:32:43 @monitor.py:459]\u001b[0m loss-ce-1v23: 0.1209\n",
      "\u001b[32m[0618 13:32:43 @monitor.py:459]\u001b[0m loss-dice: 2.6638\n",
      "\u001b[32m[0618 13:32:43 @monitor.py:459]\u001b[0m loss-dice-12v3: 1.8578\n",
      "\u001b[32m[0618 13:32:43 @monitor.py:459]\u001b[0m loss-dice-1v23: 1.6722\n",
      "\u001b[32m[0618 13:32:43 @monitor.py:459]\u001b[0m loss-dice-binary: 0.26806\n",
      "\u001b[32m[0618 13:32:43 @monitor.py:459]\u001b[0m loss-reg-mae: 6.9034\n",
      "\u001b[32m[0618 13:32:43 @monitor.py:459]\u001b[0m valid_acc: 0.97367\n",
      "\u001b[32m[0618 13:32:43 @monitor.py:459]\u001b[0m valid_dice: 0.84702\n",
      "\u001b[32m[0618 13:32:43 @monitor.py:459]\u001b[0m valid_dice_Endothelium: 0.53777\n",
      "\u001b[32m[0618 13:32:43 @monitor.py:459]\u001b[0m valid_dice_Grade1: 0.70582\n",
      "\u001b[32m[0618 13:32:43 @monitor.py:459]\u001b[0m valid_dice_Grade2: 0.0097271\n",
      "\u001b[32m[0618 13:32:43 @monitor.py:459]\u001b[0m valid_dice_Grade3: 0.58929\n",
      "\u001b[32m[0618 13:32:43 @monitor.py:459]\u001b[0m valid_mae: 0.040987\n",
      "\u001b[32m[0618 13:32:43 @monitor.py:459]\u001b[0m valid_mean_dice: 0.46065\n",
      "\u001b[32m[0618 13:32:43 @monitor.py:459]\u001b[0m valid_ssim: 1.6789\n",
      "\u001b[32m[0618 13:32:43 @group.py:48]\u001b[0m Callbacks took 21.548 sec in total. DataParallelInferenceRunner: 20.5 seconds\n",
      "\u001b[32m[0618 13:32:43 @base.py:272]\u001b[0m Start Epoch 11 ...\n"
     ]
    },
    {
     "name": "stderr",
     "output_type": "stream",
     "text": [
      "100%|##########|350/350[03:55<00:00, 1.48it/s]"
     ]
    },
    {
     "name": "stdout",
     "output_type": "stream",
     "text": [
      "\u001b[32m[0618 13:36:39 @base.py:282]\u001b[0m Epoch 11 (global_step 3850) finished, time:3 minutes 55 seconds.\n"
     ]
    },
    {
     "name": "stderr",
     "output_type": "stream",
     "text": [
      "\n"
     ]
    },
    {
     "name": "stdout",
     "output_type": "stream",
     "text": [
      "\u001b[32m[0618 13:36:40 @saver.py:77]\u001b[0m Model saved to ./logs//High_CCRCC//hcnet_test/00/model-3850.\n"
     ]
    },
    {
     "name": "stderr",
     "output_type": "stream",
     "text": [
      "100%|##########|50/50[00:13<00:00, 3.68it/s]\n"
     ]
    },
    {
     "name": "stdout",
     "output_type": "stream",
     "text": [
      "\u001b[32m[0618 13:37:01 @monitor.py:459]\u001b[0m DataParallelInferenceRunner/QueueInput/queue_size: 49.983\n",
      "\u001b[32m[0618 13:37:01 @monitor.py:459]\u001b[0m QueueInput/queue_size: 49.733\n",
      "\u001b[32m[0618 13:37:01 @monitor.py:459]\u001b[0m learning_rate: 0.0001\n",
      "\u001b[32m[0618 13:37:01 @monitor.py:459]\u001b[0m loss-bce: 0.061905\n",
      "\u001b[32m[0618 13:37:01 @monitor.py:459]\u001b[0m loss-ce: 0.11828\n",
      "\u001b[32m[0618 13:37:01 @monitor.py:459]\u001b[0m loss-ce-12v3: 0.10017\n",
      "\u001b[32m[0618 13:37:01 @monitor.py:459]\u001b[0m loss-ce-1v23: 0.10965\n",
      "\u001b[32m[0618 13:37:01 @monitor.py:459]\u001b[0m loss-dice: 2.6449\n",
      "\u001b[32m[0618 13:37:01 @monitor.py:459]\u001b[0m loss-dice-12v3: 1.8243\n",
      "\u001b[32m[0618 13:37:01 @monitor.py:459]\u001b[0m loss-dice-1v23: 1.7132\n",
      "\u001b[32m[0618 13:37:01 @monitor.py:459]\u001b[0m loss-dice-binary: 0.25954\n",
      "\u001b[32m[0618 13:37:01 @monitor.py:459]\u001b[0m loss-reg-mae: 0.30562\n",
      "\u001b[32m[0618 13:37:01 @monitor.py:459]\u001b[0m valid_acc: 0.97376\n",
      "\u001b[32m[0618 13:37:01 @monitor.py:459]\u001b[0m valid_dice: 0.84656\n",
      "\u001b[32m[0618 13:37:01 @monitor.py:459]\u001b[0m valid_dice_Endothelium: 0.5662\n",
      "\u001b[32m[0618 13:37:01 @monitor.py:459]\u001b[0m valid_dice_Grade1: 0.69871\n",
      "\u001b[32m[0618 13:37:01 @monitor.py:459]\u001b[0m valid_dice_Grade2: 0.047385\n",
      "\u001b[32m[0618 13:37:01 @monitor.py:459]\u001b[0m valid_dice_Grade3: 0.60704\n",
      "\u001b[32m[0618 13:37:01 @monitor.py:459]\u001b[0m valid_mae: 0.039867\n",
      "\u001b[32m[0618 13:37:01 @monitor.py:459]\u001b[0m valid_mean_dice: 0.47983\n",
      "\u001b[32m[0618 13:37:01 @monitor.py:459]\u001b[0m valid_ssim: 1.6785\n",
      "\u001b[32m[0618 13:37:01 @group.py:48]\u001b[0m Callbacks took 21.993 sec in total. DataParallelInferenceRunner: 21.1 seconds\n",
      "\u001b[32m[0618 13:37:01 @base.py:272]\u001b[0m Start Epoch 12 ...\n"
     ]
    },
    {
     "name": "stderr",
     "output_type": "stream",
     "text": [
      "100%|##########|350/350[03:56<00:00, 1.48it/s]"
     ]
    },
    {
     "name": "stdout",
     "output_type": "stream",
     "text": [
      "\u001b[32m[0618 13:40:57 @base.py:282]\u001b[0m Epoch 12 (global_step 4200) finished, time:3 minutes 56 seconds.\n"
     ]
    },
    {
     "name": "stderr",
     "output_type": "stream",
     "text": [
      "\n"
     ]
    },
    {
     "name": "stdout",
     "output_type": "stream",
     "text": [
      "\u001b[32m[0618 13:40:58 @saver.py:77]\u001b[0m Model saved to ./logs//High_CCRCC//hcnet_test/00/model-4200.\n"
     ]
    },
    {
     "name": "stderr",
     "output_type": "stream",
     "text": [
      "100%|##########|50/50[00:13<00:00, 3.67it/s]\n"
     ]
    },
    {
     "name": "stdout",
     "output_type": "stream",
     "text": [
      "\u001b[32m[0618 13:41:19 @monitor.py:459]\u001b[0m DataParallelInferenceRunner/QueueInput/queue_size: 49.981\n",
      "\u001b[32m[0618 13:41:19 @monitor.py:459]\u001b[0m QueueInput/queue_size: 49.375\n",
      "\u001b[32m[0618 13:41:19 @monitor.py:459]\u001b[0m learning_rate: 0.0001\n",
      "\u001b[32m[0618 13:41:19 @monitor.py:459]\u001b[0m loss-bce: 0.06117\n",
      "\u001b[32m[0618 13:41:19 @monitor.py:459]\u001b[0m loss-ce: 0.11683\n",
      "\u001b[32m[0618 13:41:19 @monitor.py:459]\u001b[0m loss-ce-12v3: 0.097128\n",
      "\u001b[32m[0618 13:41:19 @monitor.py:459]\u001b[0m loss-ce-1v23: 0.10757\n",
      "\u001b[32m[0618 13:41:19 @monitor.py:459]\u001b[0m loss-dice: 2.6619\n",
      "\u001b[32m[0618 13:41:19 @monitor.py:459]\u001b[0m loss-dice-12v3: 1.8285\n",
      "\u001b[32m[0618 13:41:19 @monitor.py:459]\u001b[0m loss-dice-1v23: 1.6865\n",
      "\u001b[32m[0618 13:41:19 @monitor.py:459]\u001b[0m loss-dice-binary: 0.24194\n",
      "\u001b[32m[0618 13:41:19 @monitor.py:459]\u001b[0m loss-reg-mae: 0.45735\n",
      "\u001b[32m[0618 13:41:19 @monitor.py:459]\u001b[0m valid_acc: 0.97407\n",
      "\u001b[32m[0618 13:41:19 @monitor.py:459]\u001b[0m valid_dice: 0.84498\n",
      "\u001b[32m[0618 13:41:19 @monitor.py:459]\u001b[0m valid_dice_Endothelium: 0.52402\n",
      "\u001b[32m[0618 13:41:19 @monitor.py:459]\u001b[0m valid_dice_Grade1: 0.71673\n",
      "\u001b[32m[0618 13:41:19 @monitor.py:459]\u001b[0m valid_dice_Grade2: 0.095717\n",
      "\u001b[32m[0618 13:41:19 @monitor.py:459]\u001b[0m valid_dice_Grade3: 0.63551\n",
      "\u001b[32m[0618 13:41:19 @monitor.py:459]\u001b[0m valid_mae: 0.039063\n",
      "\u001b[32m[0618 13:41:19 @monitor.py:459]\u001b[0m valid_mean_dice: 0.493\n",
      "\u001b[32m[0618 13:41:19 @monitor.py:459]\u001b[0m valid_ssim: 1.6493\n",
      "\u001b[32m[0618 13:41:19 @group.py:48]\u001b[0m Callbacks took 22.022 sec in total. DataParallelInferenceRunner: 21 seconds\n",
      "\u001b[32m[0618 13:41:19 @base.py:272]\u001b[0m Start Epoch 13 ...\n"
     ]
    },
    {
     "name": "stderr",
     "output_type": "stream",
     "text": [
      "100%|##########|350/350[03:56<00:00, 1.48it/s]"
     ]
    },
    {
     "name": "stdout",
     "output_type": "stream",
     "text": [
      "\u001b[32m[0618 13:45:15 @base.py:282]\u001b[0m Epoch 13 (global_step 4550) finished, time:3 minutes 56 seconds.\n"
     ]
    },
    {
     "name": "stderr",
     "output_type": "stream",
     "text": [
      "\n"
     ]
    },
    {
     "name": "stdout",
     "output_type": "stream",
     "text": [
      "\u001b[32m[0618 13:45:16 @saver.py:77]\u001b[0m Model saved to ./logs//High_CCRCC//hcnet_test/00/model-4550.\n"
     ]
    },
    {
     "name": "stderr",
     "output_type": "stream",
     "text": [
      "100%|##########|50/50[00:13<00:00, 3.66it/s]\n"
     ]
    },
    {
     "name": "stdout",
     "output_type": "stream",
     "text": [
      "\u001b[32m[0618 13:45:37 @monitor.py:459]\u001b[0m DataParallelInferenceRunner/QueueInput/queue_size: 49.968\n",
      "\u001b[32m[0618 13:45:37 @monitor.py:459]\u001b[0m QueueInput/queue_size: 49.765\n",
      "\u001b[32m[0618 13:45:37 @monitor.py:459]\u001b[0m learning_rate: 0.0001\n",
      "\u001b[32m[0618 13:45:37 @monitor.py:459]\u001b[0m loss-bce: 0.07009\n",
      "\u001b[32m[0618 13:45:37 @monitor.py:459]\u001b[0m loss-ce: 0.12836\n",
      "\u001b[32m[0618 13:45:37 @monitor.py:459]\u001b[0m loss-ce-12v3: 0.10707\n",
      "\u001b[32m[0618 13:45:37 @monitor.py:459]\u001b[0m loss-ce-1v23: 0.11659\n",
      "\u001b[32m[0618 13:45:37 @monitor.py:459]\u001b[0m loss-dice: 2.6278\n",
      "\u001b[32m[0618 13:45:37 @monitor.py:459]\u001b[0m loss-dice-12v3: 1.814\n",
      "\u001b[32m[0618 13:45:37 @monitor.py:459]\u001b[0m loss-dice-1v23: 1.6534\n",
      "\u001b[32m[0618 13:45:37 @monitor.py:459]\u001b[0m loss-dice-binary: 0.26468\n",
      "\u001b[32m[0618 13:45:37 @monitor.py:459]\u001b[0m loss-reg-mae: 0.88434\n",
      "\u001b[32m[0618 13:45:37 @monitor.py:459]\u001b[0m valid_acc: 0.97371\n",
      "\u001b[32m[0618 13:45:37 @monitor.py:459]\u001b[0m valid_dice: 0.84483\n",
      "\u001b[32m[0618 13:45:37 @monitor.py:459]\u001b[0m valid_dice_Endothelium: 0.55462\n",
      "\u001b[32m[0618 13:45:37 @monitor.py:459]\u001b[0m valid_dice_Grade1: 0.71461\n",
      "\u001b[32m[0618 13:45:37 @monitor.py:459]\u001b[0m valid_dice_Grade2: 0.21863\n",
      "\u001b[32m[0618 13:45:37 @monitor.py:459]\u001b[0m valid_dice_Grade3: 0.59447\n",
      "\u001b[32m[0618 13:45:37 @monitor.py:459]\u001b[0m valid_mae: 0.04178\n",
      "\u001b[32m[0618 13:45:37 @monitor.py:459]\u001b[0m valid_mean_dice: 0.52058\n",
      "\u001b[32m[0618 13:45:37 @monitor.py:459]\u001b[0m valid_ssim: 1.6273\n",
      "\u001b[32m[0618 13:45:37 @group.py:48]\u001b[0m Callbacks took 21.876 sec in total. DataParallelInferenceRunner: 21 seconds\n",
      "\u001b[32m[0618 13:45:37 @base.py:272]\u001b[0m Start Epoch 14 ...\n"
     ]
    },
    {
     "name": "stderr",
     "output_type": "stream",
     "text": [
      "100%|##########|350/350[03:56<00:00, 1.48it/s]"
     ]
    },
    {
     "name": "stdout",
     "output_type": "stream",
     "text": [
      "\u001b[32m[0618 13:49:33 @base.py:282]\u001b[0m Epoch 14 (global_step 4900) finished, time:3 minutes 56 seconds.\n"
     ]
    },
    {
     "name": "stderr",
     "output_type": "stream",
     "text": [
      "\n"
     ]
    },
    {
     "name": "stdout",
     "output_type": "stream",
     "text": [
      "\u001b[32m[0618 13:49:34 @saver.py:77]\u001b[0m Model saved to ./logs//High_CCRCC//hcnet_test/00/model-4900.\n"
     ]
    },
    {
     "name": "stderr",
     "output_type": "stream",
     "text": [
      "100%|##########|50/50[00:13<00:00, 3.69it/s]\n"
     ]
    },
    {
     "name": "stdout",
     "output_type": "stream",
     "text": [
      "\u001b[32m[0618 13:49:55 @monitor.py:459]\u001b[0m DataParallelInferenceRunner/QueueInput/queue_size: 49.841\n",
      "\u001b[32m[0618 13:49:55 @monitor.py:459]\u001b[0m QueueInput/queue_size: 49.935\n",
      "\u001b[32m[0618 13:49:55 @monitor.py:459]\u001b[0m learning_rate: 0.0001\n",
      "\u001b[32m[0618 13:49:55 @monitor.py:459]\u001b[0m loss-bce: 0.073006\n",
      "\u001b[32m[0618 13:49:55 @monitor.py:459]\u001b[0m loss-ce: 0.14226\n",
      "\u001b[32m[0618 13:49:55 @monitor.py:459]\u001b[0m loss-ce-12v3: 0.11697\n",
      "\u001b[32m[0618 13:49:55 @monitor.py:459]\u001b[0m loss-ce-1v23: 0.12815\n",
      "\u001b[32m[0618 13:49:55 @monitor.py:459]\u001b[0m loss-dice: 2.5824\n",
      "\u001b[32m[0618 13:49:55 @monitor.py:459]\u001b[0m loss-dice-12v3: 1.7568\n",
      "\u001b[32m[0618 13:49:55 @monitor.py:459]\u001b[0m loss-dice-1v23: 1.6246\n",
      "\u001b[32m[0618 13:49:55 @monitor.py:459]\u001b[0m loss-dice-binary: 0.25699\n",
      "\u001b[32m[0618 13:49:55 @monitor.py:459]\u001b[0m loss-reg-mae: 0.023289\n",
      "\u001b[32m[0618 13:49:55 @monitor.py:459]\u001b[0m valid_acc: 0.97385\n",
      "\u001b[32m[0618 13:49:55 @monitor.py:459]\u001b[0m valid_dice: 0.84468\n",
      "\u001b[32m[0618 13:49:55 @monitor.py:459]\u001b[0m valid_dice_Endothelium: 0.51881\n",
      "\u001b[32m[0618 13:49:55 @monitor.py:459]\u001b[0m valid_dice_Grade1: 0.71219\n",
      "\u001b[32m[0618 13:49:55 @monitor.py:459]\u001b[0m valid_dice_Grade2: 0.18507\n",
      "\u001b[32m[0618 13:49:55 @monitor.py:459]\u001b[0m valid_dice_Grade3: 0.64712\n",
      "\u001b[32m[0618 13:49:55 @monitor.py:459]\u001b[0m valid_mae: 0.040048\n",
      "\u001b[32m[0618 13:49:55 @monitor.py:459]\u001b[0m valid_mean_dice: 0.5158\n",
      "\u001b[32m[0618 13:49:55 @monitor.py:459]\u001b[0m valid_ssim: 1.625\n",
      "\u001b[32m[0618 13:49:55 @group.py:48]\u001b[0m Callbacks took 21.871 sec in total. DataParallelInferenceRunner: 20.9 seconds\n",
      "\u001b[32m[0618 13:49:55 @base.py:272]\u001b[0m Start Epoch 15 ...\n"
     ]
    },
    {
     "name": "stderr",
     "output_type": "stream",
     "text": [
      "100%|##########|350/350[03:55<00:00, 1.48it/s]"
     ]
    },
    {
     "name": "stdout",
     "output_type": "stream",
     "text": [
      "\u001b[32m[0618 13:53:51 @base.py:282]\u001b[0m Epoch 15 (global_step 5250) finished, time:3 minutes 55 seconds.\n"
     ]
    },
    {
     "name": "stderr",
     "output_type": "stream",
     "text": [
      "\n"
     ]
    },
    {
     "name": "stdout",
     "output_type": "stream",
     "text": [
      "\u001b[32m[0618 13:53:52 @saver.py:77]\u001b[0m Model saved to ./logs//High_CCRCC//hcnet_test/00/model-5250.\n"
     ]
    },
    {
     "name": "stderr",
     "output_type": "stream",
     "text": [
      "100%|##########|50/50[00:13<00:00, 3.68it/s]\n"
     ]
    },
    {
     "name": "stdout",
     "output_type": "stream",
     "text": [
      "\u001b[32m[0618 13:54:13 @saver.py:159]\u001b[0m Model at global_step=5250 with maximum valid_dice=0.84886 saved.\n",
      "\u001b[32m[0618 13:54:13 @monitor.py:459]\u001b[0m DataParallelInferenceRunner/QueueInput/queue_size: 49.772\n",
      "\u001b[32m[0618 13:54:13 @monitor.py:459]\u001b[0m QueueInput/queue_size: 49.499\n",
      "\u001b[32m[0618 13:54:13 @monitor.py:459]\u001b[0m learning_rate: 0.0001\n",
      "\u001b[32m[0618 13:54:13 @monitor.py:459]\u001b[0m loss-bce: 0.06009\n",
      "\u001b[32m[0618 13:54:13 @monitor.py:459]\u001b[0m loss-ce: 0.11393\n",
      "\u001b[32m[0618 13:54:13 @monitor.py:459]\u001b[0m loss-ce-12v3: 0.095992\n",
      "\u001b[32m[0618 13:54:13 @monitor.py:459]\u001b[0m loss-ce-1v23: 0.10412\n",
      "\u001b[32m[0618 13:54:13 @monitor.py:459]\u001b[0m loss-dice: 2.5605\n",
      "\u001b[32m[0618 13:54:13 @monitor.py:459]\u001b[0m loss-dice-12v3: 1.7019\n",
      "\u001b[32m[0618 13:54:13 @monitor.py:459]\u001b[0m loss-dice-1v23: 1.6263\n",
      "\u001b[32m[0618 13:54:13 @monitor.py:459]\u001b[0m loss-dice-binary: 0.2456\n",
      "\u001b[32m[0618 13:54:13 @monitor.py:459]\u001b[0m loss-reg-mae: 0.92841\n",
      "\u001b[32m[0618 13:54:13 @monitor.py:459]\u001b[0m valid_acc: 0.97423\n",
      "\u001b[32m[0618 13:54:13 @monitor.py:459]\u001b[0m valid_dice: 0.84886\n",
      "\u001b[32m[0618 13:54:13 @monitor.py:459]\u001b[0m valid_dice_Endothelium: 0.55185\n",
      "\u001b[32m[0618 13:54:13 @monitor.py:459]\u001b[0m valid_dice_Grade1: 0.70221\n",
      "\u001b[32m[0618 13:54:13 @monitor.py:459]\u001b[0m valid_dice_Grade2: 0.28885\n",
      "\u001b[32m[0618 13:54:13 @monitor.py:459]\u001b[0m valid_dice_Grade3: 0.62707\n",
      "\u001b[32m[0618 13:54:13 @monitor.py:459]\u001b[0m valid_mae: 0.0388\n",
      "\u001b[32m[0618 13:54:13 @monitor.py:459]\u001b[0m valid_mean_dice: 0.5425\n",
      "\u001b[32m[0618 13:54:13 @monitor.py:459]\u001b[0m valid_ssim: 1.6258\n",
      "\u001b[32m[0618 13:54:13 @group.py:48]\u001b[0m Callbacks took 22.198 sec in total. DataParallelInferenceRunner: 21 seconds\n",
      "\u001b[32m[0618 13:54:13 @base.py:272]\u001b[0m Start Epoch 16 ...\n"
     ]
    },
    {
     "name": "stderr",
     "output_type": "stream",
     "text": [
      "100%|##########|350/350[03:56<00:00, 1.48it/s]"
     ]
    },
    {
     "name": "stdout",
     "output_type": "stream",
     "text": [
      "\u001b[32m[0618 13:58:09 @base.py:282]\u001b[0m Epoch 16 (global_step 5600) finished, time:3 minutes 56 seconds.\n"
     ]
    },
    {
     "name": "stderr",
     "output_type": "stream",
     "text": [
      "\n"
     ]
    },
    {
     "name": "stdout",
     "output_type": "stream",
     "text": [
      "\u001b[32m[0618 13:58:11 @saver.py:77]\u001b[0m Model saved to ./logs//High_CCRCC//hcnet_test/00/model-5600.\n"
     ]
    },
    {
     "name": "stderr",
     "output_type": "stream",
     "text": [
      "100%|##########|50/50[00:13<00:00, 3.69it/s]\n"
     ]
    },
    {
     "name": "stdout",
     "output_type": "stream",
     "text": [
      "\u001b[32m[0618 13:58:32 @saver.py:159]\u001b[0m Model at global_step=5600 with maximum valid_dice=0.85061 saved.\n",
      "\u001b[32m[0618 13:58:32 @monitor.py:459]\u001b[0m DataParallelInferenceRunner/QueueInput/queue_size: 49.994\n",
      "\u001b[32m[0618 13:58:32 @monitor.py:459]\u001b[0m QueueInput/queue_size: 49.123\n",
      "\u001b[32m[0618 13:58:32 @monitor.py:459]\u001b[0m learning_rate: 0.0001\n",
      "\u001b[32m[0618 13:58:32 @monitor.py:459]\u001b[0m loss-bce: 0.066479\n",
      "\u001b[32m[0618 13:58:32 @monitor.py:459]\u001b[0m loss-ce: 0.12481\n",
      "\u001b[32m[0618 13:58:32 @monitor.py:459]\u001b[0m loss-ce-12v3: 0.10301\n",
      "\u001b[32m[0618 13:58:32 @monitor.py:459]\u001b[0m loss-ce-1v23: 0.11301\n",
      "\u001b[32m[0618 13:58:32 @monitor.py:459]\u001b[0m loss-dice: 2.5132\n",
      "\u001b[32m[0618 13:58:32 @monitor.py:459]\u001b[0m loss-dice-12v3: 1.6737\n",
      "\u001b[32m[0618 13:58:32 @monitor.py:459]\u001b[0m loss-dice-1v23: 1.6287\n",
      "\u001b[32m[0618 13:58:32 @monitor.py:459]\u001b[0m loss-dice-binary: 0.25363\n",
      "\u001b[32m[0618 13:58:32 @monitor.py:459]\u001b[0m loss-reg-mae: 0.01547\n",
      "\u001b[32m[0618 13:58:32 @monitor.py:459]\u001b[0m valid_acc: 0.97419\n",
      "\u001b[32m[0618 13:58:32 @monitor.py:459]\u001b[0m valid_dice: 0.85061\n",
      "\u001b[32m[0618 13:58:32 @monitor.py:459]\u001b[0m valid_dice_Endothelium: 0.52586\n",
      "\u001b[32m[0618 13:58:32 @monitor.py:459]\u001b[0m valid_dice_Grade1: 0.72372\n",
      "\u001b[32m[0618 13:58:32 @monitor.py:459]\u001b[0m valid_dice_Grade2: 0.20169\n",
      "\u001b[32m[0618 13:58:32 @monitor.py:459]\u001b[0m valid_dice_Grade3: 0.64341\n",
      "\u001b[32m[0618 13:58:32 @monitor.py:459]\u001b[0m valid_mae: 0.041259\n",
      "\u001b[32m[0618 13:58:32 @monitor.py:459]\u001b[0m valid_mean_dice: 0.52367\n",
      "\u001b[32m[0618 13:58:32 @monitor.py:459]\u001b[0m valid_ssim: 1.5964\n",
      "\u001b[32m[0618 13:58:32 @group.py:48]\u001b[0m Callbacks took 22.259 sec in total. DataParallelInferenceRunner: 20.7 seconds\n",
      "\u001b[32m[0618 13:58:32 @base.py:272]\u001b[0m Start Epoch 17 ...\n"
     ]
    },
    {
     "name": "stderr",
     "output_type": "stream",
     "text": [
      "100%|##########|350/350[03:55<00:00, 1.48it/s]"
     ]
    },
    {
     "name": "stdout",
     "output_type": "stream",
     "text": [
      "\u001b[32m[0618 14:02:27 @base.py:282]\u001b[0m Epoch 17 (global_step 5950) finished, time:3 minutes 55 seconds.\n"
     ]
    },
    {
     "name": "stderr",
     "output_type": "stream",
     "text": [
      "\n"
     ]
    },
    {
     "name": "stdout",
     "output_type": "stream",
     "text": [
      "\u001b[32m[0618 14:02:28 @saver.py:77]\u001b[0m Model saved to ./logs//High_CCRCC//hcnet_test/00/model-5950.\n"
     ]
    },
    {
     "name": "stderr",
     "output_type": "stream",
     "text": [
      "100%|##########|50/50[00:13<00:00, 3.66it/s]\n"
     ]
    },
    {
     "name": "stdout",
     "output_type": "stream",
     "text": [
      "\u001b[32m[0618 14:02:50 @saver.py:159]\u001b[0m Model at global_step=5950 with maximum valid_dice=0.85115 saved.\n",
      "\u001b[32m[0618 14:02:50 @monitor.py:459]\u001b[0m DataParallelInferenceRunner/QueueInput/queue_size: 49.88\n",
      "\u001b[32m[0618 14:02:50 @monitor.py:459]\u001b[0m QueueInput/queue_size: 49.984\n",
      "\u001b[32m[0618 14:02:50 @monitor.py:459]\u001b[0m learning_rate: 0.0001\n",
      "\u001b[32m[0618 14:02:50 @monitor.py:459]\u001b[0m loss-bce: 0.06647\n",
      "\u001b[32m[0618 14:02:50 @monitor.py:459]\u001b[0m loss-ce: 0.12646\n",
      "\u001b[32m[0618 14:02:50 @monitor.py:459]\u001b[0m loss-ce-12v3: 0.10345\n",
      "\u001b[32m[0618 14:02:50 @monitor.py:459]\u001b[0m loss-ce-1v23: 0.11454\n",
      "\u001b[32m[0618 14:02:50 @monitor.py:459]\u001b[0m loss-dice: 2.4814\n",
      "\u001b[32m[0618 14:02:50 @monitor.py:459]\u001b[0m loss-dice-12v3: 1.6594\n",
      "\u001b[32m[0618 14:02:50 @monitor.py:459]\u001b[0m loss-dice-1v23: 1.5821\n",
      "\u001b[32m[0618 14:02:50 @monitor.py:459]\u001b[0m loss-dice-binary: 0.25457\n",
      "\u001b[32m[0618 14:02:50 @monitor.py:459]\u001b[0m loss-reg-mae: 0.015544\n",
      "\u001b[32m[0618 14:02:50 @monitor.py:459]\u001b[0m valid_acc: 0.97403\n",
      "\u001b[32m[0618 14:02:50 @monitor.py:459]\u001b[0m valid_dice: 0.85115\n",
      "\u001b[32m[0618 14:02:50 @monitor.py:459]\u001b[0m valid_dice_Endothelium: 0.5454\n",
      "\u001b[32m[0618 14:02:50 @monitor.py:459]\u001b[0m valid_dice_Grade1: 0.71034\n",
      "\u001b[32m[0618 14:02:50 @monitor.py:459]\u001b[0m valid_dice_Grade2: 0.27055\n",
      "\u001b[32m[0618 14:02:50 @monitor.py:459]\u001b[0m valid_dice_Grade3: 0.58031\n",
      "\u001b[32m[0618 14:02:50 @monitor.py:459]\u001b[0m valid_mae: 0.042653\n",
      "\u001b[32m[0618 14:02:50 @monitor.py:459]\u001b[0m valid_mean_dice: 0.52665\n",
      "\u001b[32m[0618 14:02:50 @monitor.py:459]\u001b[0m valid_ssim: 1.5845\n",
      "\u001b[32m[0618 14:02:50 @group.py:48]\u001b[0m Callbacks took 22.401 sec in total. DataParallelInferenceRunner: 21.1 seconds\n",
      "\u001b[32m[0618 14:02:50 @base.py:272]\u001b[0m Start Epoch 18 ...\n"
     ]
    },
    {
     "name": "stderr",
     "output_type": "stream",
     "text": [
      "100%|##########|350/350[03:55<00:00, 1.48it/s]"
     ]
    },
    {
     "name": "stdout",
     "output_type": "stream",
     "text": [
      "\u001b[32m[0618 14:06:46 @base.py:282]\u001b[0m Epoch 18 (global_step 6300) finished, time:3 minutes 55 seconds.\n"
     ]
    },
    {
     "name": "stderr",
     "output_type": "stream",
     "text": [
      "\n"
     ]
    },
    {
     "name": "stdout",
     "output_type": "stream",
     "text": [
      "\u001b[32m[0618 14:06:47 @saver.py:77]\u001b[0m Model saved to ./logs//High_CCRCC//hcnet_test/00/model-6300.\n"
     ]
    },
    {
     "name": "stderr",
     "output_type": "stream",
     "text": [
      "100%|##########|50/50[00:13<00:00, 3.67it/s]\n"
     ]
    },
    {
     "name": "stdout",
     "output_type": "stream",
     "text": [
      "\u001b[32m[0618 14:07:08 @monitor.py:459]\u001b[0m DataParallelInferenceRunner/QueueInput/queue_size: 49.945\n",
      "\u001b[32m[0618 14:07:08 @monitor.py:459]\u001b[0m QueueInput/queue_size: 49.656\n",
      "\u001b[32m[0618 14:07:08 @monitor.py:459]\u001b[0m learning_rate: 0.0001\n",
      "\u001b[32m[0618 14:07:08 @monitor.py:459]\u001b[0m loss-bce: 0.065621\n",
      "\u001b[32m[0618 14:07:08 @monitor.py:459]\u001b[0m loss-ce: 0.11486\n",
      "\u001b[32m[0618 14:07:08 @monitor.py:459]\u001b[0m loss-ce-12v3: 0.096499\n",
      "\u001b[32m[0618 14:07:08 @monitor.py:459]\u001b[0m loss-ce-1v23: 0.10519\n",
      "\u001b[32m[0618 14:07:08 @monitor.py:459]\u001b[0m loss-dice: 2.4773\n",
      "\u001b[32m[0618 14:07:08 @monitor.py:459]\u001b[0m loss-dice-12v3: 1.6409\n",
      "\u001b[32m[0618 14:07:08 @monitor.py:459]\u001b[0m loss-dice-1v23: 1.5696\n",
      "\u001b[32m[0618 14:07:08 @monitor.py:459]\u001b[0m loss-dice-binary: 0.25122\n",
      "\u001b[32m[0618 14:07:08 @monitor.py:459]\u001b[0m loss-reg-mae: 0.018518\n",
      "\u001b[32m[0618 14:07:08 @monitor.py:459]\u001b[0m valid_acc: 0.97421\n",
      "\u001b[32m[0618 14:07:08 @monitor.py:459]\u001b[0m valid_dice: 0.84779\n",
      "\u001b[32m[0618 14:07:08 @monitor.py:459]\u001b[0m valid_dice_Endothelium: 0.58159\n",
      "\u001b[32m[0618 14:07:08 @monitor.py:459]\u001b[0m valid_dice_Grade1: 0.72575\n",
      "\u001b[32m[0618 14:07:08 @monitor.py:459]\u001b[0m valid_dice_Grade2: 0.28179\n",
      "\u001b[32m[0618 14:07:08 @monitor.py:459]\u001b[0m valid_dice_Grade3: 0.66526\n",
      "\u001b[32m[0618 14:07:08 @monitor.py:459]\u001b[0m valid_mae: 0.04153\n",
      "\u001b[32m[0618 14:07:08 @monitor.py:459]\u001b[0m valid_mean_dice: 0.5636\n",
      "\u001b[32m[0618 14:07:08 @monitor.py:459]\u001b[0m valid_ssim: 1.5713\n",
      "\u001b[32m[0618 14:07:08 @group.py:48]\u001b[0m Callbacks took 22.089 sec in total. DataParallelInferenceRunner: 21 seconds\n",
      "\u001b[32m[0618 14:07:08 @base.py:272]\u001b[0m Start Epoch 19 ...\n"
     ]
    },
    {
     "name": "stderr",
     "output_type": "stream",
     "text": [
      "100%|##########|350/350[03:55<00:00, 1.48it/s]"
     ]
    },
    {
     "name": "stdout",
     "output_type": "stream",
     "text": [
      "\u001b[32m[0618 14:11:04 @base.py:282]\u001b[0m Epoch 19 (global_step 6650) finished, time:3 minutes 55 seconds.\n"
     ]
    },
    {
     "name": "stderr",
     "output_type": "stream",
     "text": [
      "\n"
     ]
    },
    {
     "name": "stdout",
     "output_type": "stream",
     "text": [
      "\u001b[32m[0618 14:11:05 @saver.py:77]\u001b[0m Model saved to ./logs//High_CCRCC//hcnet_test/00/model-6650.\n"
     ]
    },
    {
     "name": "stderr",
     "output_type": "stream",
     "text": [
      "100%|##########|50/50[00:13<00:00, 3.73it/s]\n"
     ]
    },
    {
     "name": "stdout",
     "output_type": "stream",
     "text": [
      "\u001b[32m[0618 14:11:26 @saver.py:159]\u001b[0m Model at global_step=6650 with maximum valid_dice=0.85123 saved.\n",
      "\u001b[32m[0618 14:11:26 @monitor.py:459]\u001b[0m DataParallelInferenceRunner/QueueInput/queue_size: 49.906\n",
      "\u001b[32m[0618 14:11:26 @monitor.py:459]\u001b[0m QueueInput/queue_size: 49.963\n",
      "\u001b[32m[0618 14:11:26 @monitor.py:459]\u001b[0m learning_rate: 0.0001\n",
      "\u001b[32m[0618 14:11:26 @monitor.py:459]\u001b[0m loss-bce: 0.062155\n",
      "\u001b[32m[0618 14:11:26 @monitor.py:459]\u001b[0m loss-ce: 0.11454\n",
      "\u001b[32m[0618 14:11:26 @monitor.py:459]\u001b[0m loss-ce-12v3: 0.094984\n",
      "\u001b[32m[0618 14:11:26 @monitor.py:459]\u001b[0m loss-ce-1v23: 0.10411\n",
      "\u001b[32m[0618 14:11:26 @monitor.py:459]\u001b[0m loss-dice: 2.435\n",
      "\u001b[32m[0618 14:11:26 @monitor.py:459]\u001b[0m loss-dice-12v3: 1.6334\n",
      "\u001b[32m[0618 14:11:26 @monitor.py:459]\u001b[0m loss-dice-1v23: 1.5175\n",
      "\u001b[32m[0618 14:11:26 @monitor.py:459]\u001b[0m loss-dice-binary: 0.24623\n",
      "\u001b[32m[0618 14:11:26 @monitor.py:459]\u001b[0m loss-reg-mae: 0.017324\n",
      "\u001b[32m[0618 14:11:26 @monitor.py:459]\u001b[0m valid_acc: 0.9748\n",
      "\u001b[32m[0618 14:11:26 @monitor.py:459]\u001b[0m valid_dice: 0.85123\n",
      "\u001b[32m[0618 14:11:26 @monitor.py:459]\u001b[0m valid_dice_Endothelium: 0.59457\n",
      "\u001b[32m[0618 14:11:26 @monitor.py:459]\u001b[0m valid_dice_Grade1: 0.73289\n",
      "\u001b[32m[0618 14:11:26 @monitor.py:459]\u001b[0m valid_dice_Grade2: 0.37027\n",
      "\u001b[32m[0618 14:11:26 @monitor.py:459]\u001b[0m valid_dice_Grade3: 0.66206\n",
      "\u001b[32m[0618 14:11:26 @monitor.py:459]\u001b[0m valid_mae: 0.039999\n",
      "\u001b[32m[0618 14:11:26 @monitor.py:459]\u001b[0m valid_mean_dice: 0.58995\n",
      "\u001b[32m[0618 14:11:26 @monitor.py:459]\u001b[0m valid_ssim: 1.5788\n",
      "\u001b[32m[0618 14:11:26 @group.py:48]\u001b[0m Callbacks took 22.172 sec in total. DataParallelInferenceRunner: 20.9 seconds\n",
      "\u001b[32m[0618 14:11:26 @base.py:272]\u001b[0m Start Epoch 20 ...\n"
     ]
    },
    {
     "name": "stderr",
     "output_type": "stream",
     "text": [
      "100%|##########|350/350[03:55<00:00, 1.48it/s]"
     ]
    },
    {
     "name": "stdout",
     "output_type": "stream",
     "text": [
      "\u001b[32m[0618 14:15:22 @base.py:282]\u001b[0m Epoch 20 (global_step 7000) finished, time:3 minutes 55 seconds.\n"
     ]
    },
    {
     "name": "stderr",
     "output_type": "stream",
     "text": [
      "\n"
     ]
    },
    {
     "name": "stdout",
     "output_type": "stream",
     "text": [
      "\u001b[32m[0618 14:15:23 @saver.py:77]\u001b[0m Model saved to ./logs//High_CCRCC//hcnet_test/00/model-7000.\n"
     ]
    },
    {
     "name": "stderr",
     "output_type": "stream",
     "text": [
      "100%|##########|50/50[00:13<00:00, 3.73it/s]\n"
     ]
    },
    {
     "name": "stdout",
     "output_type": "stream",
     "text": [
      "\u001b[32m[0618 14:15:46 @saver.py:159]\u001b[0m Model at global_step=7000 with maximum valid_dice=0.85213 saved.\n",
      "\u001b[32m[0618 14:15:46 @monitor.py:459]\u001b[0m DataParallelInferenceRunner/QueueInput/queue_size: 49.959\n",
      "\u001b[32m[0618 14:15:46 @monitor.py:459]\u001b[0m QueueInput/queue_size: 49.875\n",
      "\u001b[32m[0618 14:15:46 @monitor.py:459]\u001b[0m learning_rate: 0.0001\n",
      "\u001b[32m[0618 14:15:46 @monitor.py:459]\u001b[0m loss-bce: 0.064211\n",
      "\u001b[32m[0618 14:15:46 @monitor.py:459]\u001b[0m loss-ce: 0.11086\n",
      "\u001b[32m[0618 14:15:46 @monitor.py:459]\u001b[0m loss-ce-12v3: 0.091183\n",
      "\u001b[32m[0618 14:15:46 @monitor.py:459]\u001b[0m loss-ce-1v23: 0.10381\n",
      "\u001b[32m[0618 14:15:46 @monitor.py:459]\u001b[0m loss-dice: 2.4986\n",
      "\u001b[32m[0618 14:15:46 @monitor.py:459]\u001b[0m loss-dice-12v3: 1.6588\n",
      "\u001b[32m[0618 14:15:46 @monitor.py:459]\u001b[0m loss-dice-1v23: 1.5673\n",
      "\u001b[32m[0618 14:15:46 @monitor.py:459]\u001b[0m loss-dice-binary: 0.24738\n",
      "\u001b[32m[0618 14:15:46 @monitor.py:459]\u001b[0m loss-reg-mae: 0.014897\n",
      "\u001b[32m[0618 14:15:46 @monitor.py:459]\u001b[0m valid_acc: 0.97489\n",
      "\u001b[32m[0618 14:15:46 @monitor.py:459]\u001b[0m valid_dice: 0.85213\n",
      "\u001b[32m[0618 14:15:46 @monitor.py:459]\u001b[0m valid_dice_Endothelium: 0.5647\n",
      "\u001b[32m[0618 14:15:46 @monitor.py:459]\u001b[0m valid_dice_Grade1: 0.73374\n",
      "\u001b[32m[0618 14:15:46 @monitor.py:459]\u001b[0m valid_dice_Grade2: 0.31117\n",
      "\u001b[32m[0618 14:15:46 @monitor.py:459]\u001b[0m valid_dice_Grade3: 0.66095\n",
      "\u001b[32m[0618 14:15:46 @monitor.py:459]\u001b[0m valid_mae: 0.042236\n",
      "\u001b[32m[0618 14:15:46 @monitor.py:459]\u001b[0m valid_mean_dice: 0.56764\n",
      "\u001b[32m[0618 14:15:46 @monitor.py:459]\u001b[0m valid_ssim: 1.5872\n",
      "\u001b[32m[0618 14:15:46 @group.py:48]\u001b[0m Callbacks took 24.213 sec in total. DataParallelInferenceRunner: 22.7 seconds\n",
      "\u001b[32m[0618 14:15:46 @base.py:272]\u001b[0m Start Epoch 21 ...\n"
     ]
    },
    {
     "name": "stderr",
     "output_type": "stream",
     "text": [
      "100%|##########|350/350[03:56<00:00, 1.48it/s]"
     ]
    },
    {
     "name": "stdout",
     "output_type": "stream",
     "text": [
      "\u001b[32m[0618 14:19:43 @base.py:282]\u001b[0m Epoch 21 (global_step 7350) finished, time:3 minutes 56 seconds.\n"
     ]
    },
    {
     "name": "stderr",
     "output_type": "stream",
     "text": [
      "\n"
     ]
    },
    {
     "name": "stdout",
     "output_type": "stream",
     "text": [
      "\u001b[32m[0618 14:19:43 @saver.py:77]\u001b[0m Model saved to ./logs//High_CCRCC//hcnet_test/00/model-7350.\n"
     ]
    },
    {
     "name": "stderr",
     "output_type": "stream",
     "text": [
      "100%|##########|50/50[00:13<00:00, 3.67it/s]\n"
     ]
    },
    {
     "name": "stdout",
     "output_type": "stream",
     "text": [
      "\u001b[32m[0618 14:20:05 @saver.py:159]\u001b[0m Model at global_step=7350 with maximum valid_dice=0.85295 saved.\n",
      "\u001b[32m[0618 14:20:05 @monitor.py:459]\u001b[0m DataParallelInferenceRunner/QueueInput/queue_size: 49.67\n",
      "\u001b[32m[0618 14:20:05 @monitor.py:459]\u001b[0m QueueInput/queue_size: 49.415\n",
      "\u001b[32m[0618 14:20:05 @monitor.py:459]\u001b[0m learning_rate: 0.0001\n",
      "\u001b[32m[0618 14:20:05 @monitor.py:459]\u001b[0m loss-bce: 0.061519\n",
      "\u001b[32m[0618 14:20:05 @monitor.py:459]\u001b[0m loss-ce: 0.111\n",
      "\u001b[32m[0618 14:20:05 @monitor.py:459]\u001b[0m loss-ce-12v3: 0.09213\n",
      "\u001b[32m[0618 14:20:05 @monitor.py:459]\u001b[0m loss-ce-1v23: 0.10243\n",
      "\u001b[32m[0618 14:20:05 @monitor.py:459]\u001b[0m loss-dice: 2.4481\n",
      "\u001b[32m[0618 14:20:05 @monitor.py:459]\u001b[0m loss-dice-12v3: 1.6376\n",
      "\u001b[32m[0618 14:20:05 @monitor.py:459]\u001b[0m loss-dice-1v23: 1.538\n",
      "\u001b[32m[0618 14:20:05 @monitor.py:459]\u001b[0m loss-dice-binary: 0.23553\n",
      "\u001b[32m[0618 14:20:05 @monitor.py:459]\u001b[0m loss-reg-mae: 0.12043\n",
      "\u001b[32m[0618 14:20:05 @monitor.py:459]\u001b[0m valid_acc: 0.97499\n",
      "\u001b[32m[0618 14:20:05 @monitor.py:459]\u001b[0m valid_dice: 0.85295\n",
      "\u001b[32m[0618 14:20:05 @monitor.py:459]\u001b[0m valid_dice_Endothelium: 0.54632\n",
      "\u001b[32m[0618 14:20:05 @monitor.py:459]\u001b[0m valid_dice_Grade1: 0.73052\n",
      "\u001b[32m[0618 14:20:05 @monitor.py:459]\u001b[0m valid_dice_Grade2: 0.39871\n",
      "\u001b[32m[0618 14:20:05 @monitor.py:459]\u001b[0m valid_dice_Grade3: 0.6852\n",
      "\u001b[32m[0618 14:20:05 @monitor.py:459]\u001b[0m valid_mae: 0.041554\n",
      "\u001b[32m[0618 14:20:05 @monitor.py:459]\u001b[0m valid_mean_dice: 0.59019\n",
      "\u001b[32m[0618 14:20:05 @monitor.py:459]\u001b[0m valid_ssim: 1.5693\n",
      "\u001b[32m[0618 14:20:05 @group.py:48]\u001b[0m Callbacks took 22.559 sec in total. DataParallelInferenceRunner: 21.2 seconds\n",
      "\u001b[32m[0618 14:20:05 @base.py:272]\u001b[0m Start Epoch 22 ...\n"
     ]
    },
    {
     "name": "stderr",
     "output_type": "stream",
     "text": [
      "100%|##########|350/350[03:56<00:00, 1.48it/s]"
     ]
    },
    {
     "name": "stdout",
     "output_type": "stream",
     "text": [
      "\u001b[32m[0618 14:24:02 @base.py:282]\u001b[0m Epoch 22 (global_step 7700) finished, time:3 minutes 56 seconds.\n"
     ]
    },
    {
     "name": "stderr",
     "output_type": "stream",
     "text": [
      "\n"
     ]
    },
    {
     "name": "stdout",
     "output_type": "stream",
     "text": [
      "\u001b[32m[0618 14:24:02 @saver.py:77]\u001b[0m Model saved to ./logs//High_CCRCC//hcnet_test/00/model-7700.\n"
     ]
    },
    {
     "name": "stderr",
     "output_type": "stream",
     "text": [
      "100%|##########|50/50[00:13<00:00, 3.67it/s]\n"
     ]
    },
    {
     "name": "stdout",
     "output_type": "stream",
     "text": [
      "\u001b[32m[0618 14:24:24 @saver.py:159]\u001b[0m Model at global_step=7700 with maximum valid_dice=0.85501 saved.\n",
      "\u001b[32m[0618 14:24:24 @monitor.py:459]\u001b[0m DataParallelInferenceRunner/QueueInput/queue_size: 49.64\n",
      "\u001b[32m[0618 14:24:24 @monitor.py:459]\u001b[0m QueueInput/queue_size: 49.185\n",
      "\u001b[32m[0618 14:24:24 @monitor.py:459]\u001b[0m learning_rate: 0.0001\n",
      "\u001b[32m[0618 14:24:24 @monitor.py:459]\u001b[0m loss-bce: 0.06032\n",
      "\u001b[32m[0618 14:24:24 @monitor.py:459]\u001b[0m loss-ce: 0.10622\n",
      "\u001b[32m[0618 14:24:24 @monitor.py:459]\u001b[0m loss-ce-12v3: 0.086933\n",
      "\u001b[32m[0618 14:24:24 @monitor.py:459]\u001b[0m loss-ce-1v23: 0.098577\n",
      "\u001b[32m[0618 14:24:24 @monitor.py:459]\u001b[0m loss-dice: 2.4892\n",
      "\u001b[32m[0618 14:24:24 @monitor.py:459]\u001b[0m loss-dice-12v3: 1.6777\n",
      "\u001b[32m[0618 14:24:24 @monitor.py:459]\u001b[0m loss-dice-1v23: 1.55\n",
      "\u001b[32m[0618 14:24:24 @monitor.py:459]\u001b[0m loss-dice-binary: 0.2429\n",
      "\u001b[32m[0618 14:24:24 @monitor.py:459]\u001b[0m loss-reg-mae: 0.063991\n",
      "\u001b[32m[0618 14:24:24 @monitor.py:459]\u001b[0m valid_acc: 0.97497\n",
      "\u001b[32m[0618 14:24:24 @monitor.py:459]\u001b[0m valid_dice: 0.85501\n",
      "\u001b[32m[0618 14:24:24 @monitor.py:459]\u001b[0m valid_dice_Endothelium: 0.57349\n",
      "\u001b[32m[0618 14:24:24 @monitor.py:459]\u001b[0m valid_dice_Grade1: 0.72467\n",
      "\u001b[32m[0618 14:24:24 @monitor.py:459]\u001b[0m valid_dice_Grade2: 0.33729\n",
      "\u001b[32m[0618 14:24:24 @monitor.py:459]\u001b[0m valid_dice_Grade3: 0.66984\n",
      "\u001b[32m[0618 14:24:24 @monitor.py:459]\u001b[0m valid_mae: 0.041973\n",
      "\u001b[32m[0618 14:24:24 @monitor.py:459]\u001b[0m valid_mean_dice: 0.57632\n",
      "\u001b[32m[0618 14:24:24 @monitor.py:459]\u001b[0m valid_ssim: 1.5594\n",
      "\u001b[32m[0618 14:24:24 @group.py:48]\u001b[0m Callbacks took 22.617 sec in total. DataParallelInferenceRunner: 21.2 seconds\n",
      "\u001b[32m[0618 14:24:24 @base.py:272]\u001b[0m Start Epoch 23 ...\n"
     ]
    },
    {
     "name": "stderr",
     "output_type": "stream",
     "text": [
      "100%|##########|350/350[03:56<00:00, 1.48it/s]"
     ]
    },
    {
     "name": "stdout",
     "output_type": "stream",
     "text": [
      "\u001b[32m[0618 14:28:20 @base.py:282]\u001b[0m Epoch 23 (global_step 8050) finished, time:3 minutes 56 seconds.\n"
     ]
    },
    {
     "name": "stderr",
     "output_type": "stream",
     "text": [
      "\n"
     ]
    },
    {
     "name": "stdout",
     "output_type": "stream",
     "text": [
      "\u001b[32m[0618 14:28:21 @saver.py:77]\u001b[0m Model saved to ./logs//High_CCRCC//hcnet_test/00/model-8050.\n"
     ]
    },
    {
     "name": "stderr",
     "output_type": "stream",
     "text": [
      "100%|##########|50/50[00:13<00:00, 3.63it/s]\n"
     ]
    },
    {
     "name": "stdout",
     "output_type": "stream",
     "text": [
      "\u001b[32m[0618 14:28:43 @monitor.py:459]\u001b[0m DataParallelInferenceRunner/QueueInput/queue_size: 49.847\n",
      "\u001b[32m[0618 14:28:43 @monitor.py:459]\u001b[0m QueueInput/queue_size: 49.734\n",
      "\u001b[32m[0618 14:28:43 @monitor.py:459]\u001b[0m learning_rate: 0.0001\n",
      "\u001b[32m[0618 14:28:43 @monitor.py:459]\u001b[0m loss-bce: 0.062205\n",
      "\u001b[32m[0618 14:28:43 @monitor.py:459]\u001b[0m loss-ce: 0.11614\n",
      "\u001b[32m[0618 14:28:43 @monitor.py:459]\u001b[0m loss-ce-12v3: 0.096275\n",
      "\u001b[32m[0618 14:28:43 @monitor.py:459]\u001b[0m loss-ce-1v23: 0.10705\n",
      "\u001b[32m[0618 14:28:43 @monitor.py:459]\u001b[0m loss-dice: 2.5429\n",
      "\u001b[32m[0618 14:28:43 @monitor.py:459]\u001b[0m loss-dice-12v3: 1.7357\n",
      "\u001b[32m[0618 14:28:43 @monitor.py:459]\u001b[0m loss-dice-1v23: 1.5951\n",
      "\u001b[32m[0618 14:28:43 @monitor.py:459]\u001b[0m loss-dice-binary: 0.24172\n",
      "\u001b[32m[0618 14:28:43 @monitor.py:459]\u001b[0m loss-reg-mae: 0.014653\n",
      "\u001b[32m[0618 14:28:43 @monitor.py:459]\u001b[0m valid_acc: 0.97486\n",
      "\u001b[32m[0618 14:28:43 @monitor.py:459]\u001b[0m valid_dice: 0.85159\n",
      "\u001b[32m[0618 14:28:43 @monitor.py:459]\u001b[0m valid_dice_Endothelium: 0.55217\n",
      "\u001b[32m[0618 14:28:43 @monitor.py:459]\u001b[0m valid_dice_Grade1: 0.73006\n",
      "\u001b[32m[0618 14:28:43 @monitor.py:459]\u001b[0m valid_dice_Grade2: 0.3985\n",
      "\u001b[32m[0618 14:28:43 @monitor.py:459]\u001b[0m valid_dice_Grade3: 0.6694\n",
      "\u001b[32m[0618 14:28:43 @monitor.py:459]\u001b[0m valid_mae: 0.040732\n",
      "\u001b[32m[0618 14:28:43 @monitor.py:459]\u001b[0m valid_mean_dice: 0.58753\n",
      "\u001b[32m[0618 14:28:43 @monitor.py:459]\u001b[0m valid_ssim: 1.5656\n",
      "\u001b[32m[0618 14:28:43 @group.py:48]\u001b[0m Callbacks took 22.775 sec in total. DataParallelInferenceRunner: 21.9 seconds\n",
      "\u001b[32m[0618 14:28:43 @base.py:272]\u001b[0m Start Epoch 24 ...\n"
     ]
    },
    {
     "name": "stderr",
     "output_type": "stream",
     "text": [
      "100%|##########|350/350[03:56<00:00, 1.48it/s]"
     ]
    },
    {
     "name": "stdout",
     "output_type": "stream",
     "text": [
      "\u001b[32m[0618 14:32:40 @base.py:282]\u001b[0m Epoch 24 (global_step 8400) finished, time:3 minutes 56 seconds.\n"
     ]
    },
    {
     "name": "stderr",
     "output_type": "stream",
     "text": [
      "\n"
     ]
    },
    {
     "name": "stdout",
     "output_type": "stream",
     "text": [
      "\u001b[32m[0618 14:32:41 @saver.py:77]\u001b[0m Model saved to ./logs//High_CCRCC//hcnet_test/00/model-8400.\n"
     ]
    },
    {
     "name": "stderr",
     "output_type": "stream",
     "text": [
      "100%|##########|50/50[00:13<00:00, 3.67it/s]\n"
     ]
    },
    {
     "name": "stdout",
     "output_type": "stream",
     "text": [
      "\u001b[32m[0618 14:33:03 @monitor.py:459]\u001b[0m DataParallelInferenceRunner/QueueInput/queue_size: 49.947\n",
      "\u001b[32m[0618 14:33:03 @monitor.py:459]\u001b[0m QueueInput/queue_size: 49.383\n",
      "\u001b[32m[0618 14:33:03 @monitor.py:459]\u001b[0m learning_rate: 0.0001\n",
      "\u001b[32m[0618 14:33:03 @monitor.py:459]\u001b[0m loss-bce: 0.066615\n",
      "\u001b[32m[0618 14:33:03 @monitor.py:459]\u001b[0m loss-ce: 0.1186\n",
      "\u001b[32m[0618 14:33:03 @monitor.py:459]\u001b[0m loss-ce-12v3: 0.094964\n",
      "\u001b[32m[0618 14:33:03 @monitor.py:459]\u001b[0m loss-ce-1v23: 0.10906\n",
      "\u001b[32m[0618 14:33:03 @monitor.py:459]\u001b[0m loss-dice: 2.412\n",
      "\u001b[32m[0618 14:33:03 @monitor.py:459]\u001b[0m loss-dice-12v3: 1.6082\n",
      "\u001b[32m[0618 14:33:03 @monitor.py:459]\u001b[0m loss-dice-1v23: 1.534\n",
      "\u001b[32m[0618 14:33:03 @monitor.py:459]\u001b[0m loss-dice-binary: 0.24406\n",
      "\u001b[32m[0618 14:33:03 @monitor.py:459]\u001b[0m loss-reg-mae: 0.015312\n",
      "\u001b[32m[0618 14:33:03 @monitor.py:459]\u001b[0m valid_acc: 0.97466\n",
      "\u001b[32m[0618 14:33:03 @monitor.py:459]\u001b[0m valid_dice: 0.85245\n",
      "\u001b[32m[0618 14:33:03 @monitor.py:459]\u001b[0m valid_dice_Endothelium: 0.5597\n",
      "\u001b[32m[0618 14:33:03 @monitor.py:459]\u001b[0m valid_dice_Grade1: 0.73906\n",
      "\u001b[32m[0618 14:33:03 @monitor.py:459]\u001b[0m valid_dice_Grade2: 0.33474\n",
      "\u001b[32m[0618 14:33:03 @monitor.py:459]\u001b[0m valid_dice_Grade3: 0.66186\n",
      "\u001b[32m[0618 14:33:03 @monitor.py:459]\u001b[0m valid_mae: 0.041702\n",
      "\u001b[32m[0618 14:33:03 @monitor.py:459]\u001b[0m valid_mean_dice: 0.57384\n",
      "\u001b[32m[0618 14:33:03 @monitor.py:459]\u001b[0m valid_ssim: 1.5537\n",
      "\u001b[32m[0618 14:33:03 @group.py:48]\u001b[0m Callbacks took 23.052 sec in total. DataParallelInferenceRunner: 22.1 seconds\n",
      "\u001b[32m[0618 14:33:03 @base.py:272]\u001b[0m Start Epoch 25 ...\n"
     ]
    },
    {
     "name": "stderr",
     "output_type": "stream",
     "text": [
      "100%|##########|350/350[03:56<00:00, 1.48it/s]"
     ]
    },
    {
     "name": "stdout",
     "output_type": "stream",
     "text": [
      "\u001b[32m[0618 14:36:59 @base.py:282]\u001b[0m Epoch 25 (global_step 8750) finished, time:3 minutes 56 seconds.\n"
     ]
    },
    {
     "name": "stderr",
     "output_type": "stream",
     "text": [
      "\n"
     ]
    },
    {
     "name": "stdout",
     "output_type": "stream",
     "text": [
      "\u001b[32m[0618 14:37:00 @saver.py:77]\u001b[0m Model saved to ./logs//High_CCRCC//hcnet_test/00/model-8750.\n",
      "\u001b[32m[0618 14:37:00 @param.py:158]\u001b[0m [HyperParamSetter] At global_step=8750, learning_rate is set to 0.000010\n"
     ]
    },
    {
     "name": "stderr",
     "output_type": "stream",
     "text": [
      "100%|##########|50/50[00:13<00:00, 3.82it/s]\n"
     ]
    },
    {
     "name": "stdout",
     "output_type": "stream",
     "text": [
      "\u001b[32m[0618 14:37:22 @monitor.py:459]\u001b[0m DataParallelInferenceRunner/QueueInput/queue_size: 49.576\n",
      "\u001b[32m[0618 14:37:22 @monitor.py:459]\u001b[0m QueueInput/queue_size: 49.976\n",
      "\u001b[32m[0618 14:37:22 @monitor.py:459]\u001b[0m learning_rate: 0.0001\n",
      "\u001b[32m[0618 14:37:22 @monitor.py:459]\u001b[0m loss-bce: 0.064344\n",
      "\u001b[32m[0618 14:37:22 @monitor.py:459]\u001b[0m loss-ce: 0.11588\n",
      "\u001b[32m[0618 14:37:22 @monitor.py:459]\u001b[0m loss-ce-12v3: 0.092977\n",
      "\u001b[32m[0618 14:37:22 @monitor.py:459]\u001b[0m loss-ce-1v23: 0.107\n",
      "\u001b[32m[0618 14:37:22 @monitor.py:459]\u001b[0m loss-dice: 2.5076\n",
      "\u001b[32m[0618 14:37:22 @monitor.py:459]\u001b[0m loss-dice-12v3: 1.6566\n",
      "\u001b[32m[0618 14:37:22 @monitor.py:459]\u001b[0m loss-dice-1v23: 1.5852\n",
      "\u001b[32m[0618 14:37:22 @monitor.py:459]\u001b[0m loss-dice-binary: 0.24594\n",
      "\u001b[32m[0618 14:37:22 @monitor.py:459]\u001b[0m loss-reg-mae: 3.9913\n",
      "\u001b[32m[0618 14:37:22 @monitor.py:459]\u001b[0m valid_acc: 0.97503\n",
      "\u001b[32m[0618 14:37:22 @monitor.py:459]\u001b[0m valid_dice: 0.85147\n",
      "\u001b[32m[0618 14:37:22 @monitor.py:459]\u001b[0m valid_dice_Endothelium: 0.58527\n",
      "\u001b[32m[0618 14:37:22 @monitor.py:459]\u001b[0m valid_dice_Grade1: 0.73661\n",
      "\u001b[32m[0618 14:37:22 @monitor.py:459]\u001b[0m valid_dice_Grade2: 0.40556\n",
      "\u001b[32m[0618 14:37:22 @monitor.py:459]\u001b[0m valid_dice_Grade3: 0.66566\n",
      "\u001b[32m[0618 14:37:22 @monitor.py:459]\u001b[0m valid_mae: 0.039455\n",
      "\u001b[32m[0618 14:37:22 @monitor.py:459]\u001b[0m valid_mean_dice: 0.59828\n",
      "\u001b[32m[0618 14:37:22 @monitor.py:459]\u001b[0m valid_ssim: 1.5579\n",
      "\u001b[32m[0618 14:37:22 @group.py:48]\u001b[0m Callbacks took 22.679 sec in total. DataParallelInferenceRunner: 21.3 seconds\n",
      "\u001b[32m[0618 14:37:22 @base.py:272]\u001b[0m Start Epoch 26 ...\n"
     ]
    },
    {
     "name": "stderr",
     "output_type": "stream",
     "text": [
      "100%|##########|350/350[03:56<00:00, 1.48it/s]"
     ]
    },
    {
     "name": "stdout",
     "output_type": "stream",
     "text": [
      "\u001b[32m[0618 14:41:19 @base.py:282]\u001b[0m Epoch 26 (global_step 9100) finished, time:3 minutes 56 seconds.\n"
     ]
    },
    {
     "name": "stderr",
     "output_type": "stream",
     "text": [
      "\n"
     ]
    },
    {
     "name": "stdout",
     "output_type": "stream",
     "text": [
      "\u001b[32m[0618 14:41:19 @saver.py:77]\u001b[0m Model saved to ./logs//High_CCRCC//hcnet_test/00/model-9100.\n"
     ]
    },
    {
     "name": "stderr",
     "output_type": "stream",
     "text": [
      "100%|##########|50/50[00:13<00:00, 3.68it/s]\n"
     ]
    },
    {
     "name": "stdout",
     "output_type": "stream",
     "text": [
      "\u001b[32m[0618 14:41:41 @monitor.py:459]\u001b[0m DataParallelInferenceRunner/QueueInput/queue_size: 49.607\n",
      "\u001b[32m[0618 14:41:41 @monitor.py:459]\u001b[0m QueueInput/queue_size: 49.904\n",
      "\u001b[32m[0618 14:41:41 @monitor.py:459]\u001b[0m learning_rate: 1e-05\n",
      "\u001b[32m[0618 14:41:41 @monitor.py:459]\u001b[0m loss-bce: 0.065117\n",
      "\u001b[32m[0618 14:41:41 @monitor.py:459]\u001b[0m loss-ce: 0.11493\n",
      "\u001b[32m[0618 14:41:41 @monitor.py:459]\u001b[0m loss-ce-12v3: 0.095401\n",
      "\u001b[32m[0618 14:41:41 @monitor.py:459]\u001b[0m loss-ce-1v23: 0.1053\n",
      "\u001b[32m[0618 14:41:41 @monitor.py:459]\u001b[0m loss-dice: 2.3882\n",
      "\u001b[32m[0618 14:41:41 @monitor.py:459]\u001b[0m loss-dice-12v3: 1.5934\n",
      "\u001b[32m[0618 14:41:41 @monitor.py:459]\u001b[0m loss-dice-1v23: 1.4956\n",
      "\u001b[32m[0618 14:41:41 @monitor.py:459]\u001b[0m loss-dice-binary: 0.24727\n",
      "\u001b[32m[0618 14:41:41 @monitor.py:459]\u001b[0m loss-reg-mae: 6.2763\n",
      "\u001b[32m[0618 14:41:41 @monitor.py:459]\u001b[0m valid_acc: 0.97505\n",
      "\u001b[32m[0618 14:41:41 @monitor.py:459]\u001b[0m valid_dice: 0.85359\n",
      "\u001b[32m[0618 14:41:41 @monitor.py:459]\u001b[0m valid_dice_Endothelium: 0.60937\n",
      "\u001b[32m[0618 14:41:41 @monitor.py:459]\u001b[0m valid_dice_Grade1: 0.74485\n",
      "\u001b[32m[0618 14:41:41 @monitor.py:459]\u001b[0m valid_dice_Grade2: 0.41584\n",
      "\u001b[32m[0618 14:41:41 @monitor.py:459]\u001b[0m valid_dice_Grade3: 0.66977\n",
      "\u001b[32m[0618 14:41:41 @monitor.py:459]\u001b[0m valid_mae: 0.041092\n",
      "\u001b[32m[0618 14:41:41 @monitor.py:459]\u001b[0m valid_mean_dice: 0.60996\n",
      "\u001b[32m[0618 14:41:41 @monitor.py:459]\u001b[0m valid_ssim: 1.5559\n",
      "\u001b[32m[0618 14:41:41 @group.py:48]\u001b[0m Callbacks took 22.896 sec in total. DataParallelInferenceRunner: 22 seconds\n",
      "\u001b[32m[0618 14:41:41 @base.py:272]\u001b[0m Start Epoch 27 ...\n"
     ]
    },
    {
     "name": "stderr",
     "output_type": "stream",
     "text": [
      "100%|##########|350/350[03:56<00:00, 1.48it/s]"
     ]
    },
    {
     "name": "stdout",
     "output_type": "stream",
     "text": [
      "\u001b[32m[0618 14:45:38 @base.py:282]\u001b[0m Epoch 27 (global_step 9450) finished, time:3 minutes 56 seconds.\n"
     ]
    },
    {
     "name": "stderr",
     "output_type": "stream",
     "text": [
      "\n"
     ]
    },
    {
     "name": "stdout",
     "output_type": "stream",
     "text": [
      "\u001b[32m[0618 14:45:39 @saver.py:77]\u001b[0m Model saved to ./logs//High_CCRCC//hcnet_test/00/model-9450.\n"
     ]
    },
    {
     "name": "stderr",
     "output_type": "stream",
     "text": [
      "100%|##########|50/50[00:13<00:00, 3.64it/s]\n"
     ]
    },
    {
     "name": "stdout",
     "output_type": "stream",
     "text": [
      "\u001b[32m[0618 14:46:00 @monitor.py:459]\u001b[0m DataParallelInferenceRunner/QueueInput/queue_size: 49.712\n",
      "\u001b[32m[0618 14:46:00 @monitor.py:459]\u001b[0m QueueInput/queue_size: 49.367\n",
      "\u001b[32m[0618 14:46:00 @monitor.py:459]\u001b[0m learning_rate: 1e-05\n",
      "\u001b[32m[0618 14:46:00 @monitor.py:459]\u001b[0m loss-bce: 0.063737\n",
      "\u001b[32m[0618 14:46:00 @monitor.py:459]\u001b[0m loss-ce: 0.10864\n",
      "\u001b[32m[0618 14:46:00 @monitor.py:459]\u001b[0m loss-ce-12v3: 0.089969\n",
      "\u001b[32m[0618 14:46:00 @monitor.py:459]\u001b[0m loss-ce-1v23: 0.10152\n",
      "\u001b[32m[0618 14:46:00 @monitor.py:459]\u001b[0m loss-dice: 2.4163\n",
      "\u001b[32m[0618 14:46:00 @monitor.py:459]\u001b[0m loss-dice-12v3: 1.6056\n",
      "\u001b[32m[0618 14:46:00 @monitor.py:459]\u001b[0m loss-dice-1v23: 1.4937\n",
      "\u001b[32m[0618 14:46:00 @monitor.py:459]\u001b[0m loss-dice-binary: 0.24565\n",
      "\u001b[32m[0618 14:46:00 @monitor.py:459]\u001b[0m loss-reg-mae: 0.033636\n",
      "\u001b[32m[0618 14:46:00 @monitor.py:459]\u001b[0m valid_acc: 0.9751\n",
      "\u001b[32m[0618 14:46:00 @monitor.py:459]\u001b[0m valid_dice: 0.85354\n",
      "\u001b[32m[0618 14:46:00 @monitor.py:459]\u001b[0m valid_dice_Endothelium: 0.60763\n",
      "\u001b[32m[0618 14:46:00 @monitor.py:459]\u001b[0m valid_dice_Grade1: 0.74292\n",
      "\u001b[32m[0618 14:46:00 @monitor.py:459]\u001b[0m valid_dice_Grade2: 0.41004\n",
      "\u001b[32m[0618 14:46:00 @monitor.py:459]\u001b[0m valid_dice_Grade3: 0.66597\n",
      "\u001b[32m[0618 14:46:00 @monitor.py:459]\u001b[0m valid_mae: 0.041071\n",
      "\u001b[32m[0618 14:46:00 @monitor.py:459]\u001b[0m valid_mean_dice: 0.60664\n",
      "\u001b[32m[0618 14:46:00 @monitor.py:459]\u001b[0m valid_ssim: 1.5533\n",
      "\u001b[32m[0618 14:46:00 @group.py:48]\u001b[0m Callbacks took 22.057 sec in total. DataParallelInferenceRunner: 21.1 seconds\n",
      "\u001b[32m[0618 14:46:00 @base.py:272]\u001b[0m Start Epoch 28 ...\n"
     ]
    },
    {
     "name": "stderr",
     "output_type": "stream",
     "text": [
      "100%|##########|350/350[03:56<00:00, 1.48it/s]"
     ]
    },
    {
     "name": "stdout",
     "output_type": "stream",
     "text": [
      "\u001b[32m[0618 14:49:57 @base.py:282]\u001b[0m Epoch 28 (global_step 9800) finished, time:3 minutes 56 seconds.\n"
     ]
    },
    {
     "name": "stderr",
     "output_type": "stream",
     "text": [
      "\n"
     ]
    },
    {
     "name": "stdout",
     "output_type": "stream",
     "text": [
      "\u001b[32m[0618 14:49:58 @saver.py:77]\u001b[0m Model saved to ./logs//High_CCRCC//hcnet_test/00/model-9800.\n"
     ]
    },
    {
     "name": "stderr",
     "output_type": "stream",
     "text": [
      "100%|##########|50/50[00:13<00:00, 3.66it/s]\n"
     ]
    },
    {
     "name": "stdout",
     "output_type": "stream",
     "text": [
      "\u001b[32m[0618 14:50:19 @saver.py:159]\u001b[0m Model at global_step=9800 with maximum valid_dice=0.85513 saved.\n",
      "\u001b[32m[0618 14:50:19 @monitor.py:459]\u001b[0m DataParallelInferenceRunner/QueueInput/queue_size: 49.843\n",
      "\u001b[32m[0618 14:50:19 @monitor.py:459]\u001b[0m QueueInput/queue_size: 49.922\n",
      "\u001b[32m[0618 14:50:19 @monitor.py:459]\u001b[0m learning_rate: 1e-05\n",
      "\u001b[32m[0618 14:50:19 @monitor.py:459]\u001b[0m loss-bce: 0.062693\n",
      "\u001b[32m[0618 14:50:19 @monitor.py:459]\u001b[0m loss-ce: 0.10731\n",
      "\u001b[32m[0618 14:50:19 @monitor.py:459]\u001b[0m loss-ce-12v3: 0.08695\n",
      "\u001b[32m[0618 14:50:19 @monitor.py:459]\u001b[0m loss-ce-1v23: 0.10075\n",
      "\u001b[32m[0618 14:50:19 @monitor.py:459]\u001b[0m loss-dice: 2.4635\n",
      "\u001b[32m[0618 14:50:19 @monitor.py:459]\u001b[0m loss-dice-12v3: 1.6487\n",
      "\u001b[32m[0618 14:50:19 @monitor.py:459]\u001b[0m loss-dice-1v23: 1.5508\n",
      "\u001b[32m[0618 14:50:19 @monitor.py:459]\u001b[0m loss-dice-binary: 0.24225\n",
      "\u001b[32m[0618 14:50:19 @monitor.py:459]\u001b[0m loss-reg-mae: 0.034135\n",
      "\u001b[32m[0618 14:50:19 @monitor.py:459]\u001b[0m valid_acc: 0.97516\n",
      "\u001b[32m[0618 14:50:19 @monitor.py:459]\u001b[0m valid_dice: 0.85513\n",
      "\u001b[32m[0618 14:50:19 @monitor.py:459]\u001b[0m valid_dice_Endothelium: 0.60379\n",
      "\u001b[32m[0618 14:50:19 @monitor.py:459]\u001b[0m valid_dice_Grade1: 0.74258\n",
      "\u001b[32m[0618 14:50:19 @monitor.py:459]\u001b[0m valid_dice_Grade2: 0.41401\n",
      "\u001b[32m[0618 14:50:19 @monitor.py:459]\u001b[0m valid_dice_Grade3: 0.67759\n",
      "\u001b[32m[0618 14:50:19 @monitor.py:459]\u001b[0m valid_mae: 0.041526\n",
      "\u001b[32m[0618 14:50:19 @monitor.py:459]\u001b[0m valid_mean_dice: 0.60949\n",
      "\u001b[32m[0618 14:50:19 @monitor.py:459]\u001b[0m valid_ssim: 1.5501\n",
      "\u001b[32m[0618 14:50:19 @group.py:48]\u001b[0m Callbacks took 22.630 sec in total. DataParallelInferenceRunner: 21.2 seconds\n",
      "\u001b[32m[0618 14:50:19 @base.py:272]\u001b[0m Start Epoch 29 ...\n"
     ]
    },
    {
     "name": "stderr",
     "output_type": "stream",
     "text": [
      "100%|##########|350/350[03:56<00:00, 1.48it/s]"
     ]
    },
    {
     "name": "stdout",
     "output_type": "stream",
     "text": [
      "\u001b[32m[0618 14:54:15 @base.py:282]\u001b[0m Epoch 29 (global_step 10150) finished, time:3 minutes 56 seconds.\n"
     ]
    },
    {
     "name": "stderr",
     "output_type": "stream",
     "text": [
      "\n"
     ]
    },
    {
     "name": "stdout",
     "output_type": "stream",
     "text": [
      "\u001b[32m[0618 14:54:16 @saver.py:77]\u001b[0m Model saved to ./logs//High_CCRCC//hcnet_test/00/model-10150.\n"
     ]
    },
    {
     "name": "stderr",
     "output_type": "stream",
     "text": [
      "100%|##########|50/50[00:13<00:00, 3.64it/s]\n"
     ]
    },
    {
     "name": "stdout",
     "output_type": "stream",
     "text": [
      "\u001b[32m[0618 14:54:38 @monitor.py:459]\u001b[0m DataParallelInferenceRunner/QueueInput/queue_size: 49.942\n",
      "\u001b[32m[0618 14:54:38 @monitor.py:459]\u001b[0m QueueInput/queue_size: 49.5\n",
      "\u001b[32m[0618 14:54:38 @monitor.py:459]\u001b[0m learning_rate: 1e-05\n",
      "\u001b[32m[0618 14:54:38 @monitor.py:459]\u001b[0m loss-bce: 0.05978\n",
      "\u001b[32m[0618 14:54:38 @monitor.py:459]\u001b[0m loss-ce: 0.10415\n",
      "\u001b[32m[0618 14:54:38 @monitor.py:459]\u001b[0m loss-ce-12v3: 0.083242\n",
      "\u001b[32m[0618 14:54:38 @monitor.py:459]\u001b[0m loss-ce-1v23: 0.09592\n",
      "\u001b[32m[0618 14:54:38 @monitor.py:459]\u001b[0m loss-dice: 2.3158\n",
      "\u001b[32m[0618 14:54:38 @monitor.py:459]\u001b[0m loss-dice-12v3: 1.508\n",
      "\u001b[32m[0618 14:54:38 @monitor.py:459]\u001b[0m loss-dice-1v23: 1.4722\n",
      "\u001b[32m[0618 14:54:38 @monitor.py:459]\u001b[0m loss-dice-binary: 0.23457\n",
      "\u001b[32m[0618 14:54:38 @monitor.py:459]\u001b[0m loss-reg-mae: 0.01358\n",
      "\u001b[32m[0618 14:54:38 @monitor.py:459]\u001b[0m valid_acc: 0.975\n",
      "\u001b[32m[0618 14:54:38 @monitor.py:459]\u001b[0m valid_dice: 0.85381\n",
      "\u001b[32m[0618 14:54:38 @monitor.py:459]\u001b[0m valid_dice_Endothelium: 0.60315\n",
      "\u001b[32m[0618 14:54:38 @monitor.py:459]\u001b[0m valid_dice_Grade1: 0.74292\n",
      "\u001b[32m[0618 14:54:38 @monitor.py:459]\u001b[0m valid_dice_Grade2: 0.42\n",
      "\u001b[32m[0618 14:54:38 @monitor.py:459]\u001b[0m valid_dice_Grade3: 0.68118\n",
      "\u001b[32m[0618 14:54:38 @monitor.py:459]\u001b[0m valid_mae: 0.041532\n",
      "\u001b[32m[0618 14:54:38 @monitor.py:459]\u001b[0m valid_mean_dice: 0.61181\n",
      "\u001b[32m[0618 14:54:38 @monitor.py:459]\u001b[0m valid_ssim: 1.5497\n",
      "\u001b[32m[0618 14:54:38 @group.py:48]\u001b[0m Callbacks took 22.774 sec in total. DataParallelInferenceRunner: 21.9 seconds\n",
      "\u001b[32m[0618 14:54:38 @base.py:272]\u001b[0m Start Epoch 30 ...\n"
     ]
    },
    {
     "name": "stderr",
     "output_type": "stream",
     "text": [
      "100%|##########|350/350[03:56<00:00, 1.48it/s]"
     ]
    },
    {
     "name": "stdout",
     "output_type": "stream",
     "text": [
      "\u001b[32m[0618 14:58:35 @base.py:282]\u001b[0m Epoch 30 (global_step 10500) finished, time:3 minutes 56 seconds.\n"
     ]
    },
    {
     "name": "stderr",
     "output_type": "stream",
     "text": [
      "\n"
     ]
    },
    {
     "name": "stdout",
     "output_type": "stream",
     "text": [
      "\u001b[32m[0618 14:58:36 @saver.py:77]\u001b[0m Model saved to ./logs//High_CCRCC//hcnet_test/00/model-10500.\n"
     ]
    },
    {
     "name": "stderr",
     "output_type": "stream",
     "text": [
      "100%|##########|50/50[00:13<00:00, 3.68it/s]\n"
     ]
    },
    {
     "name": "stdout",
     "output_type": "stream",
     "text": [
      "\u001b[32m[0618 14:58:57 @monitor.py:459]\u001b[0m DataParallelInferenceRunner/QueueInput/queue_size: 50\n",
      "\u001b[32m[0618 14:58:57 @monitor.py:459]\u001b[0m QueueInput/queue_size: 49.791\n",
      "\u001b[32m[0618 14:58:57 @monitor.py:459]\u001b[0m learning_rate: 1e-05\n",
      "\u001b[32m[0618 14:58:57 @monitor.py:459]\u001b[0m loss-bce: 0.058234\n",
      "\u001b[32m[0618 14:58:57 @monitor.py:459]\u001b[0m loss-ce: 0.10096\n",
      "\u001b[32m[0618 14:58:57 @monitor.py:459]\u001b[0m loss-ce-12v3: 0.08263\n",
      "\u001b[32m[0618 14:58:57 @monitor.py:459]\u001b[0m loss-ce-1v23: 0.093948\n",
      "\u001b[32m[0618 14:58:57 @monitor.py:459]\u001b[0m loss-dice: 2.3529\n",
      "\u001b[32m[0618 14:58:57 @monitor.py:459]\u001b[0m loss-dice-12v3: 1.5127\n",
      "\u001b[32m[0618 14:58:57 @monitor.py:459]\u001b[0m loss-dice-1v23: 1.4821\n",
      "\u001b[32m[0618 14:58:57 @monitor.py:459]\u001b[0m loss-dice-binary: 0.23349\n",
      "\u001b[32m[0618 14:58:57 @monitor.py:459]\u001b[0m loss-reg-mae: 0.22002\n",
      "\u001b[32m[0618 14:58:57 @monitor.py:459]\u001b[0m valid_acc: 0.97509\n",
      "\u001b[32m[0618 14:58:57 @monitor.py:459]\u001b[0m valid_dice: 0.85406\n",
      "\u001b[32m[0618 14:58:57 @monitor.py:459]\u001b[0m valid_dice_Endothelium: 0.60169\n",
      "\u001b[32m[0618 14:58:57 @monitor.py:459]\u001b[0m valid_dice_Grade1: 0.73872\n",
      "\u001b[32m[0618 14:58:57 @monitor.py:459]\u001b[0m valid_dice_Grade2: 0.40099\n",
      "\u001b[32m[0618 14:58:57 @monitor.py:459]\u001b[0m valid_dice_Grade3: 0.68358\n",
      "\u001b[32m[0618 14:58:57 @monitor.py:459]\u001b[0m valid_mae: 0.04059\n",
      "\u001b[32m[0618 14:58:57 @monitor.py:459]\u001b[0m valid_mean_dice: 0.60624\n",
      "\u001b[32m[0618 14:58:57 @monitor.py:459]\u001b[0m valid_ssim: 1.5561\n",
      "\u001b[32m[0618 14:58:57 @group.py:48]\u001b[0m Callbacks took 22.452 sec in total. DataParallelInferenceRunner: 21.3 seconds\n",
      "\u001b[32m[0618 14:58:57 @base.py:272]\u001b[0m Start Epoch 31 ...\n"
     ]
    },
    {
     "name": "stderr",
     "output_type": "stream",
     "text": [
      "100%|##########|350/350[03:56<00:00, 1.48it/s]"
     ]
    },
    {
     "name": "stdout",
     "output_type": "stream",
     "text": [
      "\u001b[32m[0618 15:02:53 @base.py:282]\u001b[0m Epoch 31 (global_step 10850) finished, time:3 minutes 56 seconds.\n"
     ]
    },
    {
     "name": "stderr",
     "output_type": "stream",
     "text": [
      "\n"
     ]
    },
    {
     "name": "stdout",
     "output_type": "stream",
     "text": [
      "\u001b[32m[0618 15:02:54 @saver.py:77]\u001b[0m Model saved to ./logs//High_CCRCC//hcnet_test/00/model-10850.\n"
     ]
    },
    {
     "name": "stderr",
     "output_type": "stream",
     "text": [
      "100%|##########|50/50[00:13<00:00, 3.78it/s]\n"
     ]
    },
    {
     "name": "stdout",
     "output_type": "stream",
     "text": [
      "\u001b[32m[0618 15:03:16 @monitor.py:459]\u001b[0m DataParallelInferenceRunner/QueueInput/queue_size: 49.542\n",
      "\u001b[32m[0618 15:03:16 @monitor.py:459]\u001b[0m QueueInput/queue_size: 49.994\n",
      "\u001b[32m[0618 15:03:16 @monitor.py:459]\u001b[0m learning_rate: 1e-05\n",
      "\u001b[32m[0618 15:03:16 @monitor.py:459]\u001b[0m loss-bce: 0.062366\n",
      "\u001b[32m[0618 15:03:16 @monitor.py:459]\u001b[0m loss-ce: 0.10671\n",
      "\u001b[32m[0618 15:03:16 @monitor.py:459]\u001b[0m loss-ce-12v3: 0.08814\n",
      "\u001b[32m[0618 15:03:16 @monitor.py:459]\u001b[0m loss-ce-1v23: 0.10092\n",
      "\u001b[32m[0618 15:03:16 @monitor.py:459]\u001b[0m loss-dice: 2.3578\n",
      "\u001b[32m[0618 15:03:16 @monitor.py:459]\u001b[0m loss-dice-12v3: 1.5471\n",
      "\u001b[32m[0618 15:03:16 @monitor.py:459]\u001b[0m loss-dice-1v23: 1.4901\n",
      "\u001b[32m[0618 15:03:16 @monitor.py:459]\u001b[0m loss-dice-binary: 0.24029\n",
      "\u001b[32m[0618 15:03:16 @monitor.py:459]\u001b[0m loss-reg-mae: 0.01425\n",
      "\u001b[32m[0618 15:03:16 @monitor.py:459]\u001b[0m valid_acc: 0.97519\n",
      "\u001b[32m[0618 15:03:16 @monitor.py:459]\u001b[0m valid_dice: 0.85447\n",
      "\u001b[32m[0618 15:03:16 @monitor.py:459]\u001b[0m valid_dice_Endothelium: 0.60156\n",
      "\u001b[32m[0618 15:03:16 @monitor.py:459]\u001b[0m valid_dice_Grade1: 0.74367\n",
      "\u001b[32m[0618 15:03:16 @monitor.py:459]\u001b[0m valid_dice_Grade2: 0.41484\n",
      "\u001b[32m[0618 15:03:16 @monitor.py:459]\u001b[0m valid_dice_Grade3: 0.68756\n",
      "\u001b[32m[0618 15:03:16 @monitor.py:459]\u001b[0m valid_mae: 0.040694\n",
      "\u001b[32m[0618 15:03:16 @monitor.py:459]\u001b[0m valid_mean_dice: 0.61191\n",
      "\u001b[32m[0618 15:03:16 @monitor.py:459]\u001b[0m valid_ssim: 1.5598\n",
      "\u001b[32m[0618 15:03:16 @group.py:48]\u001b[0m Callbacks took 22.606 sec in total. DataParallelInferenceRunner: 21.8 seconds\n",
      "\u001b[32m[0618 15:03:16 @base.py:272]\u001b[0m Start Epoch 32 ...\n"
     ]
    },
    {
     "name": "stderr",
     "output_type": "stream",
     "text": [
      "100%|##########|350/350[03:56<00:00, 1.48it/s]"
     ]
    },
    {
     "name": "stdout",
     "output_type": "stream",
     "text": [
      "\u001b[32m[0618 15:07:12 @base.py:282]\u001b[0m Epoch 32 (global_step 11200) finished, time:3 minutes 56 seconds.\n"
     ]
    },
    {
     "name": "stderr",
     "output_type": "stream",
     "text": [
      "\n"
     ]
    },
    {
     "name": "stdout",
     "output_type": "stream",
     "text": [
      "\u001b[32m[0618 15:07:13 @saver.py:77]\u001b[0m Model saved to ./logs//High_CCRCC//hcnet_test/00/model-11200.\n"
     ]
    },
    {
     "name": "stderr",
     "output_type": "stream",
     "text": [
      "100%|##########|50/50[00:13<00:00, 3.66it/s]\n"
     ]
    },
    {
     "name": "stdout",
     "output_type": "stream",
     "text": [
      "\u001b[32m[0618 15:07:36 @monitor.py:459]\u001b[0m DataParallelInferenceRunner/QueueInput/queue_size: 49.811\n",
      "\u001b[32m[0618 15:07:36 @monitor.py:459]\u001b[0m QueueInput/queue_size: 49.361\n",
      "\u001b[32m[0618 15:07:36 @monitor.py:459]\u001b[0m learning_rate: 1e-05\n",
      "\u001b[32m[0618 15:07:36 @monitor.py:459]\u001b[0m loss-bce: 0.059364\n",
      "\u001b[32m[0618 15:07:36 @monitor.py:459]\u001b[0m loss-ce: 0.10014\n",
      "\u001b[32m[0618 15:07:36 @monitor.py:459]\u001b[0m loss-ce-12v3: 0.082481\n",
      "\u001b[32m[0618 15:07:36 @monitor.py:459]\u001b[0m loss-ce-1v23: 0.093457\n",
      "\u001b[32m[0618 15:07:36 @monitor.py:459]\u001b[0m loss-dice: 2.3446\n",
      "\u001b[32m[0618 15:07:36 @monitor.py:459]\u001b[0m loss-dice-12v3: 1.5081\n",
      "\u001b[32m[0618 15:07:36 @monitor.py:459]\u001b[0m loss-dice-1v23: 1.4855\n",
      "\u001b[32m[0618 15:07:36 @monitor.py:459]\u001b[0m loss-dice-binary: 0.23494\n",
      "\u001b[32m[0618 15:07:36 @monitor.py:459]\u001b[0m loss-reg-mae: 0.014214\n",
      "\u001b[32m[0618 15:07:36 @monitor.py:459]\u001b[0m valid_acc: 0.97518\n",
      "\u001b[32m[0618 15:07:36 @monitor.py:459]\u001b[0m valid_dice: 0.85468\n",
      "\u001b[32m[0618 15:07:36 @monitor.py:459]\u001b[0m valid_dice_Endothelium: 0.61177\n",
      "\u001b[32m[0618 15:07:36 @monitor.py:459]\u001b[0m valid_dice_Grade1: 0.743\n",
      "\u001b[32m[0618 15:07:36 @monitor.py:459]\u001b[0m valid_dice_Grade2: 0.41275\n",
      "\u001b[32m[0618 15:07:36 @monitor.py:459]\u001b[0m valid_dice_Grade3: 0.68374\n",
      "\u001b[32m[0618 15:07:36 @monitor.py:459]\u001b[0m valid_mae: 0.040905\n",
      "\u001b[32m[0618 15:07:36 @monitor.py:459]\u001b[0m valid_mean_dice: 0.61281\n",
      "\u001b[32m[0618 15:07:36 @monitor.py:459]\u001b[0m valid_ssim: 1.5564\n",
      "\u001b[32m[0618 15:07:36 @group.py:48]\u001b[0m Callbacks took 23.209 sec in total. DataParallelInferenceRunner: 22.2 seconds\n",
      "\u001b[32m[0618 15:07:36 @base.py:272]\u001b[0m Start Epoch 33 ...\n"
     ]
    },
    {
     "name": "stderr",
     "output_type": "stream",
     "text": [
      "100%|##########|350/350[03:56<00:00, 1.48it/s]"
     ]
    },
    {
     "name": "stdout",
     "output_type": "stream",
     "text": [
      "\u001b[32m[0618 15:11:32 @base.py:282]\u001b[0m Epoch 33 (global_step 11550) finished, time:3 minutes 56 seconds.\n"
     ]
    },
    {
     "name": "stderr",
     "output_type": "stream",
     "text": [
      "\n"
     ]
    },
    {
     "name": "stdout",
     "output_type": "stream",
     "text": [
      "\u001b[32m[0618 15:11:33 @saver.py:77]\u001b[0m Model saved to ./logs//High_CCRCC//hcnet_test/00/model-11550.\n"
     ]
    },
    {
     "name": "stderr",
     "output_type": "stream",
     "text": [
      "100%|##########|50/50[00:13<00:00, 3.68it/s]\n"
     ]
    },
    {
     "name": "stdout",
     "output_type": "stream",
     "text": [
      "\u001b[32m[0618 15:11:55 @saver.py:159]\u001b[0m Model at global_step=11550 with maximum valid_dice=0.85615 saved.\n",
      "\u001b[32m[0618 15:11:55 @monitor.py:459]\u001b[0m DataParallelInferenceRunner/QueueInput/queue_size: 49.774\n",
      "\u001b[32m[0618 15:11:55 @monitor.py:459]\u001b[0m QueueInput/queue_size: 49.741\n",
      "\u001b[32m[0618 15:11:55 @monitor.py:459]\u001b[0m learning_rate: 1e-05\n",
      "\u001b[32m[0618 15:11:55 @monitor.py:459]\u001b[0m loss-bce: 0.058007\n",
      "\u001b[32m[0618 15:11:55 @monitor.py:459]\u001b[0m loss-ce: 0.097801\n",
      "\u001b[32m[0618 15:11:55 @monitor.py:459]\u001b[0m loss-ce-12v3: 0.07943\n",
      "\u001b[32m[0618 15:11:55 @monitor.py:459]\u001b[0m loss-ce-1v23: 0.092855\n",
      "\u001b[32m[0618 15:11:55 @monitor.py:459]\u001b[0m loss-dice: 2.4037\n",
      "\u001b[32m[0618 15:11:55 @monitor.py:459]\u001b[0m loss-dice-12v3: 1.5867\n",
      "\u001b[32m[0618 15:11:55 @monitor.py:459]\u001b[0m loss-dice-1v23: 1.5038\n",
      "\u001b[32m[0618 15:11:55 @monitor.py:459]\u001b[0m loss-dice-binary: 0.2352\n",
      "\u001b[32m[0618 15:11:55 @monitor.py:459]\u001b[0m loss-reg-mae: 0.013319\n",
      "\u001b[32m[0618 15:11:55 @monitor.py:459]\u001b[0m valid_acc: 0.97543\n",
      "\u001b[32m[0618 15:11:55 @monitor.py:459]\u001b[0m valid_dice: 0.85615\n",
      "\u001b[32m[0618 15:11:55 @monitor.py:459]\u001b[0m valid_dice_Endothelium: 0.61354\n",
      "\u001b[32m[0618 15:11:55 @monitor.py:459]\u001b[0m valid_dice_Grade1: 0.7408\n",
      "\u001b[32m[0618 15:11:55 @monitor.py:459]\u001b[0m valid_dice_Grade2: 0.41572\n",
      "\u001b[32m[0618 15:11:55 @monitor.py:459]\u001b[0m valid_dice_Grade3: 0.67889\n",
      "\u001b[32m[0618 15:11:55 @monitor.py:459]\u001b[0m valid_mae: 0.040681\n",
      "\u001b[32m[0618 15:11:55 @monitor.py:459]\u001b[0m valid_mean_dice: 0.61224\n",
      "\u001b[32m[0618 15:11:55 @monitor.py:459]\u001b[0m valid_ssim: 1.558\n",
      "\u001b[32m[0618 15:11:55 @group.py:48]\u001b[0m Callbacks took 23.007 sec in total. DataParallelInferenceRunner: 21.8 seconds\n",
      "\u001b[32m[0618 15:11:55 @base.py:272]\u001b[0m Start Epoch 34 ...\n"
     ]
    },
    {
     "name": "stderr",
     "output_type": "stream",
     "text": [
      "100%|##########|350/350[03:56<00:00, 1.48it/s]"
     ]
    },
    {
     "name": "stdout",
     "output_type": "stream",
     "text": [
      "\u001b[32m[0618 15:15:52 @base.py:282]\u001b[0m Epoch 34 (global_step 11900) finished, time:3 minutes 56 seconds.\n"
     ]
    },
    {
     "name": "stderr",
     "output_type": "stream",
     "text": [
      "\n"
     ]
    },
    {
     "name": "stdout",
     "output_type": "stream",
     "text": [
      "\u001b[32m[0618 15:15:53 @saver.py:77]\u001b[0m Model saved to ./logs//High_CCRCC//hcnet_test/00/model-11900.\n"
     ]
    },
    {
     "name": "stderr",
     "output_type": "stream",
     "text": [
      "100%|##########|50/50[00:13<00:00, 3.81it/s]\n"
     ]
    },
    {
     "name": "stdout",
     "output_type": "stream",
     "text": [
      "\u001b[32m[0618 15:16:14 @saver.py:159]\u001b[0m Model at global_step=11900 with maximum valid_dice=0.85627 saved.\n",
      "\u001b[32m[0618 15:16:14 @monitor.py:459]\u001b[0m DataParallelInferenceRunner/QueueInput/queue_size: 49.987\n",
      "\u001b[32m[0618 15:16:14 @monitor.py:459]\u001b[0m QueueInput/queue_size: 49.413\n",
      "\u001b[32m[0618 15:16:14 @monitor.py:459]\u001b[0m learning_rate: 1e-05\n",
      "\u001b[32m[0618 15:16:14 @monitor.py:459]\u001b[0m loss-bce: 0.0579\n",
      "\u001b[32m[0618 15:16:14 @monitor.py:459]\u001b[0m loss-ce: 0.097017\n",
      "\u001b[32m[0618 15:16:14 @monitor.py:459]\u001b[0m loss-ce-12v3: 0.079755\n",
      "\u001b[32m[0618 15:16:14 @monitor.py:459]\u001b[0m loss-ce-1v23: 0.091099\n",
      "\u001b[32m[0618 15:16:14 @monitor.py:459]\u001b[0m loss-dice: 2.3295\n",
      "\u001b[32m[0618 15:16:14 @monitor.py:459]\u001b[0m loss-dice-12v3: 1.5487\n",
      "\u001b[32m[0618 15:16:14 @monitor.py:459]\u001b[0m loss-dice-1v23: 1.4435\n",
      "\u001b[32m[0618 15:16:14 @monitor.py:459]\u001b[0m loss-dice-binary: 0.23752\n",
      "\u001b[32m[0618 15:16:14 @monitor.py:459]\u001b[0m loss-reg-mae: 0.013378\n",
      "\u001b[32m[0618 15:16:14 @monitor.py:459]\u001b[0m valid_acc: 0.97532\n",
      "\u001b[32m[0618 15:16:14 @monitor.py:459]\u001b[0m valid_dice: 0.85627\n",
      "\u001b[32m[0618 15:16:14 @monitor.py:459]\u001b[0m valid_dice_Endothelium: 0.60148\n",
      "\u001b[32m[0618 15:16:14 @monitor.py:459]\u001b[0m valid_dice_Grade1: 0.74067\n",
      "\u001b[32m[0618 15:16:14 @monitor.py:459]\u001b[0m valid_dice_Grade2: 0.42025\n",
      "\u001b[32m[0618 15:16:14 @monitor.py:459]\u001b[0m valid_dice_Grade3: 0.67781\n",
      "\u001b[32m[0618 15:16:14 @monitor.py:459]\u001b[0m valid_mae: 0.041846\n",
      "\u001b[32m[0618 15:16:14 @monitor.py:459]\u001b[0m valid_mean_dice: 0.61005\n",
      "\u001b[32m[0618 15:16:14 @monitor.py:459]\u001b[0m valid_ssim: 1.5502\n",
      "\u001b[32m[0618 15:16:14 @group.py:48]\u001b[0m Callbacks took 22.054 sec in total. DataParallelInferenceRunner: 20.7 seconds\n",
      "\u001b[32m[0618 15:16:14 @base.py:272]\u001b[0m Start Epoch 35 ...\n"
     ]
    },
    {
     "name": "stderr",
     "output_type": "stream",
     "text": [
      "100%|##########|350/350[03:56<00:00, 1.48it/s]"
     ]
    },
    {
     "name": "stdout",
     "output_type": "stream",
     "text": [
      "\u001b[32m[0618 15:20:10 @base.py:282]\u001b[0m Epoch 35 (global_step 12250) finished, time:3 minutes 56 seconds.\n"
     ]
    },
    {
     "name": "stderr",
     "output_type": "stream",
     "text": [
      "\n"
     ]
    },
    {
     "name": "stdout",
     "output_type": "stream",
     "text": [
      "\u001b[32m[0618 15:20:11 @saver.py:77]\u001b[0m Model saved to ./logs//High_CCRCC//hcnet_test/00/model-12250.\n"
     ]
    },
    {
     "name": "stderr",
     "output_type": "stream",
     "text": [
      "100%|##########|50/50[00:13<00:00, 3.67it/s]\n"
     ]
    },
    {
     "name": "stdout",
     "output_type": "stream",
     "text": [
      "\u001b[32m[0618 15:20:33 @monitor.py:459]\u001b[0m DataParallelInferenceRunner/QueueInput/queue_size: 49.708\n",
      "\u001b[32m[0618 15:20:33 @monitor.py:459]\u001b[0m QueueInput/queue_size: 49.734\n",
      "\u001b[32m[0618 15:20:33 @monitor.py:459]\u001b[0m learning_rate: 1e-05\n",
      "\u001b[32m[0618 15:20:33 @monitor.py:459]\u001b[0m loss-bce: 0.059169\n",
      "\u001b[32m[0618 15:20:33 @monitor.py:459]\u001b[0m loss-ce: 0.10441\n",
      "\u001b[32m[0618 15:20:33 @monitor.py:459]\u001b[0m loss-ce-12v3: 0.085478\n",
      "\u001b[32m[0618 15:20:33 @monitor.py:459]\u001b[0m loss-ce-1v23: 0.096871\n",
      "\u001b[32m[0618 15:20:33 @monitor.py:459]\u001b[0m loss-dice: 2.4191\n",
      "\u001b[32m[0618 15:20:33 @monitor.py:459]\u001b[0m loss-dice-12v3: 1.6136\n",
      "\u001b[32m[0618 15:20:33 @monitor.py:459]\u001b[0m loss-dice-1v23: 1.5032\n",
      "\u001b[32m[0618 15:20:33 @monitor.py:459]\u001b[0m loss-dice-binary: 0.23353\n",
      "\u001b[32m[0618 15:20:33 @monitor.py:459]\u001b[0m loss-reg-mae: 1.0323\n",
      "\u001b[32m[0618 15:20:33 @monitor.py:459]\u001b[0m valid_acc: 0.97525\n",
      "\u001b[32m[0618 15:20:33 @monitor.py:459]\u001b[0m valid_dice: 0.85573\n",
      "\u001b[32m[0618 15:20:33 @monitor.py:459]\u001b[0m valid_dice_Endothelium: 0.60705\n",
      "\u001b[32m[0618 15:20:33 @monitor.py:459]\u001b[0m valid_dice_Grade1: 0.74133\n",
      "\u001b[32m[0618 15:20:33 @monitor.py:459]\u001b[0m valid_dice_Grade2: 0.41968\n",
      "\u001b[32m[0618 15:20:33 @monitor.py:459]\u001b[0m valid_dice_Grade3: 0.6847\n",
      "\u001b[32m[0618 15:20:33 @monitor.py:459]\u001b[0m valid_mae: 0.041995\n",
      "\u001b[32m[0618 15:20:33 @monitor.py:459]\u001b[0m valid_mean_dice: 0.61319\n",
      "\u001b[32m[0618 15:20:33 @monitor.py:459]\u001b[0m valid_ssim: 1.5468\n",
      "\u001b[32m[0618 15:20:33 @group.py:48]\u001b[0m Callbacks took 22.624 sec in total. DataParallelInferenceRunner: 21.8 seconds\n",
      "\u001b[32m[0618 15:20:33 @base.py:272]\u001b[0m Start Epoch 36 ...\n"
     ]
    },
    {
     "name": "stderr",
     "output_type": "stream",
     "text": [
      "100%|##########|350/350[03:56<00:00, 1.48it/s]"
     ]
    },
    {
     "name": "stdout",
     "output_type": "stream",
     "text": [
      "\u001b[32m[0618 15:24:29 @base.py:282]\u001b[0m Epoch 36 (global_step 12600) finished, time:3 minutes 56 seconds.\n"
     ]
    },
    {
     "name": "stderr",
     "output_type": "stream",
     "text": [
      "\n"
     ]
    },
    {
     "name": "stdout",
     "output_type": "stream",
     "text": [
      "\u001b[32m[0618 15:24:30 @saver.py:77]\u001b[0m Model saved to ./logs//High_CCRCC//hcnet_test/00/model-12600.\n"
     ]
    },
    {
     "name": "stderr",
     "output_type": "stream",
     "text": [
      "100%|##########|50/50[00:13<00:00, 3.68it/s]\n"
     ]
    },
    {
     "name": "stdout",
     "output_type": "stream",
     "text": [
      "\u001b[32m[0618 15:24:51 @monitor.py:459]\u001b[0m DataParallelInferenceRunner/QueueInput/queue_size: 49.724\n",
      "\u001b[32m[0618 15:24:51 @monitor.py:459]\u001b[0m QueueInput/queue_size: 49.96\n",
      "\u001b[32m[0618 15:24:51 @monitor.py:459]\u001b[0m learning_rate: 1e-05\n",
      "\u001b[32m[0618 15:24:51 @monitor.py:459]\u001b[0m loss-bce: 0.059367\n",
      "\u001b[32m[0618 15:24:51 @monitor.py:459]\u001b[0m loss-ce: 0.099787\n",
      "\u001b[32m[0618 15:24:51 @monitor.py:459]\u001b[0m loss-ce-12v3: 0.081084\n",
      "\u001b[32m[0618 15:24:51 @monitor.py:459]\u001b[0m loss-ce-1v23: 0.094975\n",
      "\u001b[32m[0618 15:24:51 @monitor.py:459]\u001b[0m loss-dice: 2.3822\n",
      "\u001b[32m[0618 15:24:51 @monitor.py:459]\u001b[0m loss-dice-12v3: 1.5332\n",
      "\u001b[32m[0618 15:24:51 @monitor.py:459]\u001b[0m loss-dice-1v23: 1.5383\n",
      "\u001b[32m[0618 15:24:51 @monitor.py:459]\u001b[0m loss-dice-binary: 0.23623\n",
      "\u001b[32m[0618 15:24:51 @monitor.py:459]\u001b[0m loss-reg-mae: 0.01361\n",
      "\u001b[32m[0618 15:24:51 @monitor.py:459]\u001b[0m valid_acc: 0.97526\n",
      "\u001b[32m[0618 15:24:51 @monitor.py:459]\u001b[0m valid_dice: 0.85438\n",
      "\u001b[32m[0618 15:24:51 @monitor.py:459]\u001b[0m valid_dice_Endothelium: 0.61496\n",
      "\u001b[32m[0618 15:24:51 @monitor.py:459]\u001b[0m valid_dice_Grade1: 0.74088\n",
      "\u001b[32m[0618 15:24:51 @monitor.py:459]\u001b[0m valid_dice_Grade2: 0.43025\n",
      "\u001b[32m[0618 15:24:51 @monitor.py:459]\u001b[0m valid_dice_Grade3: 0.6819\n",
      "\u001b[32m[0618 15:24:51 @monitor.py:459]\u001b[0m valid_mae: 0.040892\n",
      "\u001b[32m[0618 15:24:51 @monitor.py:459]\u001b[0m valid_mean_dice: 0.617\n",
      "\u001b[32m[0618 15:24:51 @monitor.py:459]\u001b[0m valid_ssim: 1.5509\n",
      "\u001b[32m[0618 15:24:51 @group.py:48]\u001b[0m Callbacks took 21.851 sec in total. DataParallelInferenceRunner: 20.9 seconds\n",
      "\u001b[32m[0618 15:24:51 @base.py:272]\u001b[0m Start Epoch 37 ...\n"
     ]
    },
    {
     "name": "stderr",
     "output_type": "stream",
     "text": [
      "100%|##########|350/350[03:56<00:00, 1.48it/s]"
     ]
    },
    {
     "name": "stdout",
     "output_type": "stream",
     "text": [
      "\u001b[32m[0618 15:28:48 @base.py:282]\u001b[0m Epoch 37 (global_step 12950) finished, time:3 minutes 56 seconds.\n"
     ]
    },
    {
     "name": "stderr",
     "output_type": "stream",
     "text": [
      "\n"
     ]
    },
    {
     "name": "stdout",
     "output_type": "stream",
     "text": [
      "\u001b[32m[0618 15:28:48 @saver.py:77]\u001b[0m Model saved to ./logs//High_CCRCC//hcnet_test/00/model-12950.\n"
     ]
    },
    {
     "name": "stderr",
     "output_type": "stream",
     "text": [
      "100%|##########|50/50[00:13<00:00, 3.67it/s]\n"
     ]
    },
    {
     "name": "stdout",
     "output_type": "stream",
     "text": [
      "\u001b[32m[0618 15:29:09 @monitor.py:459]\u001b[0m DataParallelInferenceRunner/QueueInput/queue_size: 49.824\n",
      "\u001b[32m[0618 15:29:09 @monitor.py:459]\u001b[0m QueueInput/queue_size: 49.487\n",
      "\u001b[32m[0618 15:29:09 @monitor.py:459]\u001b[0m learning_rate: 1e-05\n",
      "\u001b[32m[0618 15:29:09 @monitor.py:459]\u001b[0m loss-bce: 0.062792\n",
      "\u001b[32m[0618 15:29:09 @monitor.py:459]\u001b[0m loss-ce: 0.10532\n",
      "\u001b[32m[0618 15:29:09 @monitor.py:459]\u001b[0m loss-ce-12v3: 0.087816\n",
      "\u001b[32m[0618 15:29:09 @monitor.py:459]\u001b[0m loss-ce-1v23: 0.098147\n",
      "\u001b[32m[0618 15:29:09 @monitor.py:459]\u001b[0m loss-dice: 2.3136\n",
      "\u001b[32m[0618 15:29:09 @monitor.py:459]\u001b[0m loss-dice-12v3: 1.5256\n",
      "\u001b[32m[0618 15:29:09 @monitor.py:459]\u001b[0m loss-dice-1v23: 1.4501\n",
      "\u001b[32m[0618 15:29:09 @monitor.py:459]\u001b[0m loss-dice-binary: 0.23889\n",
      "\u001b[32m[0618 15:29:09 @monitor.py:459]\u001b[0m loss-reg-mae: 0.014122\n",
      "\u001b[32m[0618 15:29:09 @monitor.py:459]\u001b[0m valid_acc: 0.97534\n",
      "\u001b[32m[0618 15:29:09 @monitor.py:459]\u001b[0m valid_dice: 0.85562\n",
      "\u001b[32m[0618 15:29:09 @monitor.py:459]\u001b[0m valid_dice_Endothelium: 0.61328\n",
      "\u001b[32m[0618 15:29:09 @monitor.py:459]\u001b[0m valid_dice_Grade1: 0.73955\n",
      "\u001b[32m[0618 15:29:09 @monitor.py:459]\u001b[0m valid_dice_Grade2: 0.41892\n",
      "\u001b[32m[0618 15:29:09 @monitor.py:459]\u001b[0m valid_dice_Grade3: 0.69058\n",
      "\u001b[32m[0618 15:29:09 @monitor.py:459]\u001b[0m valid_mae: 0.040774\n",
      "\u001b[32m[0618 15:29:09 @monitor.py:459]\u001b[0m valid_mean_dice: 0.61558\n",
      "\u001b[32m[0618 15:29:09 @monitor.py:459]\u001b[0m valid_ssim: 1.5533\n",
      "\u001b[32m[0618 15:29:09 @group.py:48]\u001b[0m Callbacks took 21.688 sec in total. DataParallelInferenceRunner: 20.8 seconds\n",
      "\u001b[32m[0618 15:29:09 @base.py:272]\u001b[0m Start Epoch 38 ...\n"
     ]
    },
    {
     "name": "stderr",
     "output_type": "stream",
     "text": [
      "100%|##########|350/350[03:56<00:00, 1.48it/s]"
     ]
    },
    {
     "name": "stdout",
     "output_type": "stream",
     "text": [
      "\u001b[32m[0618 15:33:06 @base.py:282]\u001b[0m Epoch 38 (global_step 13300) finished, time:3 minutes 56 seconds.\n"
     ]
    },
    {
     "name": "stderr",
     "output_type": "stream",
     "text": [
      "\n"
     ]
    },
    {
     "name": "stdout",
     "output_type": "stream",
     "text": [
      "\u001b[32m[0618 15:33:07 @saver.py:77]\u001b[0m Model saved to ./logs//High_CCRCC//hcnet_test/00/model-13300.\n"
     ]
    },
    {
     "name": "stderr",
     "output_type": "stream",
     "text": [
      "100%|##########|50/50[00:13<00:00, 3.78it/s]\n"
     ]
    },
    {
     "name": "stdout",
     "output_type": "stream",
     "text": [
      "\u001b[32m[0618 15:33:28 @monitor.py:459]\u001b[0m DataParallelInferenceRunner/QueueInput/queue_size: 49.726\n",
      "\u001b[32m[0618 15:33:28 @monitor.py:459]\u001b[0m QueueInput/queue_size: 49.96\n",
      "\u001b[32m[0618 15:33:28 @monitor.py:459]\u001b[0m learning_rate: 1e-05\n",
      "\u001b[32m[0618 15:33:28 @monitor.py:459]\u001b[0m loss-bce: 0.059334\n",
      "\u001b[32m[0618 15:33:28 @monitor.py:459]\u001b[0m loss-ce: 0.10464\n",
      "\u001b[32m[0618 15:33:28 @monitor.py:459]\u001b[0m loss-ce-12v3: 0.088103\n",
      "\u001b[32m[0618 15:33:28 @monitor.py:459]\u001b[0m loss-ce-1v23: 0.09729\n",
      "\u001b[32m[0618 15:33:28 @monitor.py:459]\u001b[0m loss-dice: 2.3568\n",
      "\u001b[32m[0618 15:33:28 @monitor.py:459]\u001b[0m loss-dice-12v3: 1.5532\n",
      "\u001b[32m[0618 15:33:28 @monitor.py:459]\u001b[0m loss-dice-1v23: 1.4769\n",
      "\u001b[32m[0618 15:33:28 @monitor.py:459]\u001b[0m loss-dice-binary: 0.23564\n",
      "\u001b[32m[0618 15:33:28 @monitor.py:459]\u001b[0m loss-reg-mae: 0.014327\n",
      "\u001b[32m[0618 15:33:28 @monitor.py:459]\u001b[0m valid_acc: 0.97523\n",
      "\u001b[32m[0618 15:33:28 @monitor.py:459]\u001b[0m valid_dice: 0.85613\n",
      "\u001b[32m[0618 15:33:28 @monitor.py:459]\u001b[0m valid_dice_Endothelium: 0.60951\n",
      "\u001b[32m[0618 15:33:28 @monitor.py:459]\u001b[0m valid_dice_Grade1: 0.74688\n",
      "\u001b[32m[0618 15:33:28 @monitor.py:459]\u001b[0m valid_dice_Grade2: 0.41784\n",
      "\u001b[32m[0618 15:33:28 @monitor.py:459]\u001b[0m valid_dice_Grade3: 0.68719\n",
      "\u001b[32m[0618 15:33:28 @monitor.py:459]\u001b[0m valid_mae: 0.041559\n",
      "\u001b[32m[0618 15:33:28 @monitor.py:459]\u001b[0m valid_mean_dice: 0.61536\n",
      "\u001b[32m[0618 15:33:28 @monitor.py:459]\u001b[0m valid_ssim: 1.5488\n",
      "\u001b[32m[0618 15:33:28 @group.py:48]\u001b[0m Callbacks took 22.440 sec in total. DataParallelInferenceRunner: 21.4 seconds\n",
      "\u001b[32m[0618 15:33:28 @base.py:272]\u001b[0m Start Epoch 39 ...\n"
     ]
    },
    {
     "name": "stderr",
     "output_type": "stream",
     "text": [
      "100%|##########|350/350[03:56<00:00, 1.48it/s]"
     ]
    },
    {
     "name": "stdout",
     "output_type": "stream",
     "text": [
      "\u001b[32m[0618 15:37:25 @base.py:282]\u001b[0m Epoch 39 (global_step 13650) finished, time:3 minutes 56 seconds.\n"
     ]
    },
    {
     "name": "stderr",
     "output_type": "stream",
     "text": [
      "\n"
     ]
    },
    {
     "name": "stdout",
     "output_type": "stream",
     "text": [
      "\u001b[32m[0618 15:37:26 @saver.py:77]\u001b[0m Model saved to ./logs//High_CCRCC//hcnet_test/00/model-13650.\n"
     ]
    },
    {
     "name": "stderr",
     "output_type": "stream",
     "text": [
      "100%|##########|50/50[00:13<00:00, 3.67it/s]\n"
     ]
    },
    {
     "name": "stdout",
     "output_type": "stream",
     "text": [
      "\u001b[32m[0618 15:37:48 @monitor.py:459]\u001b[0m DataParallelInferenceRunner/QueueInput/queue_size: 49.976\n",
      "\u001b[32m[0618 15:37:48 @monitor.py:459]\u001b[0m QueueInput/queue_size: 49.664\n",
      "\u001b[32m[0618 15:37:48 @monitor.py:459]\u001b[0m learning_rate: 1e-05\n",
      "\u001b[32m[0618 15:37:48 @monitor.py:459]\u001b[0m loss-bce: 0.059448\n",
      "\u001b[32m[0618 15:37:48 @monitor.py:459]\u001b[0m loss-ce: 0.099596\n",
      "\u001b[32m[0618 15:37:48 @monitor.py:459]\u001b[0m loss-ce-12v3: 0.082202\n",
      "\u001b[32m[0618 15:37:48 @monitor.py:459]\u001b[0m loss-ce-1v23: 0.09356\n",
      "\u001b[32m[0618 15:37:48 @monitor.py:459]\u001b[0m loss-dice: 2.3443\n",
      "\u001b[32m[0618 15:37:48 @monitor.py:459]\u001b[0m loss-dice-12v3: 1.5566\n",
      "\u001b[32m[0618 15:37:48 @monitor.py:459]\u001b[0m loss-dice-1v23: 1.456\n",
      "\u001b[32m[0618 15:37:48 @monitor.py:459]\u001b[0m loss-dice-binary: 0.23641\n",
      "\u001b[32m[0618 15:37:48 @monitor.py:459]\u001b[0m loss-reg-mae: 0.013514\n",
      "\u001b[32m[0618 15:37:48 @monitor.py:459]\u001b[0m valid_acc: 0.97536\n",
      "\u001b[32m[0618 15:37:48 @monitor.py:459]\u001b[0m valid_dice: 0.856\n",
      "\u001b[32m[0618 15:37:48 @monitor.py:459]\u001b[0m valid_dice_Endothelium: 0.60961\n",
      "\u001b[32m[0618 15:37:48 @monitor.py:459]\u001b[0m valid_dice_Grade1: 0.74302\n",
      "\u001b[32m[0618 15:37:48 @monitor.py:459]\u001b[0m valid_dice_Grade2: 0.41523\n",
      "\u001b[32m[0618 15:37:48 @monitor.py:459]\u001b[0m valid_dice_Grade3: 0.69334\n",
      "\u001b[32m[0618 15:37:48 @monitor.py:459]\u001b[0m valid_mae: 0.041067\n",
      "\u001b[32m[0618 15:37:48 @monitor.py:459]\u001b[0m valid_mean_dice: 0.6153\n",
      "\u001b[32m[0618 15:37:48 @monitor.py:459]\u001b[0m valid_ssim: 1.5536\n",
      "\u001b[32m[0618 15:37:48 @group.py:48]\u001b[0m Callbacks took 22.599 sec in total. DataParallelInferenceRunner: 21.7 seconds\n",
      "\u001b[32m[0618 15:37:48 @base.py:272]\u001b[0m Start Epoch 40 ...\n"
     ]
    },
    {
     "name": "stderr",
     "output_type": "stream",
     "text": [
      "100%|##########|350/350[03:56<00:00, 1.48it/s]"
     ]
    },
    {
     "name": "stdout",
     "output_type": "stream",
     "text": [
      "\u001b[32m[0618 15:41:44 @base.py:282]\u001b[0m Epoch 40 (global_step 14000) finished, time:3 minutes 56 seconds.\n"
     ]
    },
    {
     "name": "stderr",
     "output_type": "stream",
     "text": [
      "\n"
     ]
    },
    {
     "name": "stdout",
     "output_type": "stream",
     "text": [
      "\u001b[32m[0618 15:41:45 @saver.py:77]\u001b[0m Model saved to ./logs//High_CCRCC//hcnet_test/00/model-14000.\n"
     ]
    },
    {
     "name": "stderr",
     "output_type": "stream",
     "text": [
      "100%|##########|50/50[00:13<00:00, 3.79it/s]\n"
     ]
    },
    {
     "name": "stdout",
     "output_type": "stream",
     "text": [
      "\u001b[32m[0618 15:42:06 @monitor.py:459]\u001b[0m DataParallelInferenceRunner/QueueInput/queue_size: 49.741\n",
      "\u001b[32m[0618 15:42:06 @monitor.py:459]\u001b[0m QueueInput/queue_size: 49.622\n",
      "\u001b[32m[0618 15:42:06 @monitor.py:459]\u001b[0m learning_rate: 1e-05\n",
      "\u001b[32m[0618 15:42:06 @monitor.py:459]\u001b[0m loss-bce: 0.066744\n",
      "\u001b[32m[0618 15:42:06 @monitor.py:459]\u001b[0m loss-ce: 0.11706\n",
      "\u001b[32m[0618 15:42:06 @monitor.py:459]\u001b[0m loss-ce-12v3: 0.095009\n",
      "\u001b[32m[0618 15:42:06 @monitor.py:459]\u001b[0m loss-ce-1v23: 0.10932\n",
      "\u001b[32m[0618 15:42:06 @monitor.py:459]\u001b[0m loss-dice: 2.3514\n",
      "\u001b[32m[0618 15:42:06 @monitor.py:459]\u001b[0m loss-dice-12v3: 1.5466\n",
      "\u001b[32m[0618 15:42:06 @monitor.py:459]\u001b[0m loss-dice-1v23: 1.4874\n",
      "\u001b[32m[0618 15:42:06 @monitor.py:459]\u001b[0m loss-dice-binary: 0.23542\n",
      "\u001b[32m[0618 15:42:06 @monitor.py:459]\u001b[0m loss-reg-mae: 0.13598\n",
      "\u001b[32m[0618 15:42:06 @monitor.py:459]\u001b[0m valid_acc: 0.97517\n",
      "\u001b[32m[0618 15:42:06 @monitor.py:459]\u001b[0m valid_dice: 0.85424\n",
      "\u001b[32m[0618 15:42:06 @monitor.py:459]\u001b[0m valid_dice_Endothelium: 0.61444\n",
      "\u001b[32m[0618 15:42:06 @monitor.py:459]\u001b[0m valid_dice_Grade1: 0.74143\n",
      "\u001b[32m[0618 15:42:06 @monitor.py:459]\u001b[0m valid_dice_Grade2: 0.4195\n",
      "\u001b[32m[0618 15:42:06 @monitor.py:459]\u001b[0m valid_dice_Grade3: 0.69589\n",
      "\u001b[32m[0618 15:42:06 @monitor.py:459]\u001b[0m valid_mae: 0.041044\n",
      "\u001b[32m[0618 15:42:06 @monitor.py:459]\u001b[0m valid_mean_dice: 0.61781\n",
      "\u001b[32m[0618 15:42:06 @monitor.py:459]\u001b[0m valid_ssim: 1.5528\n",
      "\u001b[32m[0618 15:42:06 @group.py:48]\u001b[0m Callbacks took 21.990 sec in total. DataParallelInferenceRunner: 20.9 seconds\n",
      "\u001b[32m[0618 15:42:06 @base.py:272]\u001b[0m Start Epoch 41 ...\n"
     ]
    },
    {
     "name": "stderr",
     "output_type": "stream",
     "text": [
      "100%|##########|350/350[03:56<00:00, 1.48it/s]"
     ]
    },
    {
     "name": "stdout",
     "output_type": "stream",
     "text": [
      "\u001b[32m[0618 15:46:03 @base.py:282]\u001b[0m Epoch 41 (global_step 14350) finished, time:3 minutes 56 seconds.\n"
     ]
    },
    {
     "name": "stderr",
     "output_type": "stream",
     "text": [
      "\n"
     ]
    },
    {
     "name": "stdout",
     "output_type": "stream",
     "text": [
      "\u001b[32m[0618 15:46:04 @saver.py:77]\u001b[0m Model saved to ./logs//High_CCRCC//hcnet_test/00/model-14350.\n"
     ]
    },
    {
     "name": "stderr",
     "output_type": "stream",
     "text": [
      "100%|##########|50/50[00:13<00:00, 3.67it/s]\n"
     ]
    },
    {
     "name": "stdout",
     "output_type": "stream",
     "text": [
      "\u001b[32m[0618 15:46:24 @monitor.py:459]\u001b[0m DataParallelInferenceRunner/QueueInput/queue_size: 49.91\n",
      "\u001b[32m[0618 15:46:24 @monitor.py:459]\u001b[0m QueueInput/queue_size: 49.996\n",
      "\u001b[32m[0618 15:46:24 @monitor.py:459]\u001b[0m learning_rate: 1e-05\n",
      "\u001b[32m[0618 15:46:24 @monitor.py:459]\u001b[0m loss-bce: 0.059363\n",
      "\u001b[32m[0618 15:46:24 @monitor.py:459]\u001b[0m loss-ce: 0.10241\n",
      "\u001b[32m[0618 15:46:24 @monitor.py:459]\u001b[0m loss-ce-12v3: 0.084315\n",
      "\u001b[32m[0618 15:46:24 @monitor.py:459]\u001b[0m loss-ce-1v23: 0.094688\n",
      "\u001b[32m[0618 15:46:24 @monitor.py:459]\u001b[0m loss-dice: 2.3224\n",
      "\u001b[32m[0618 15:46:24 @monitor.py:459]\u001b[0m loss-dice-12v3: 1.5493\n",
      "\u001b[32m[0618 15:46:24 @monitor.py:459]\u001b[0m loss-dice-1v23: 1.4791\n",
      "\u001b[32m[0618 15:46:24 @monitor.py:459]\u001b[0m loss-dice-binary: 0.23917\n",
      "\u001b[32m[0618 15:46:24 @monitor.py:459]\u001b[0m loss-reg-mae: 0.013424\n",
      "\u001b[32m[0618 15:46:24 @monitor.py:459]\u001b[0m valid_acc: 0.97528\n",
      "\u001b[32m[0618 15:46:24 @monitor.py:459]\u001b[0m valid_dice: 0.85587\n",
      "\u001b[32m[0618 15:46:24 @monitor.py:459]\u001b[0m valid_dice_Endothelium: 0.61043\n",
      "\u001b[32m[0618 15:46:24 @monitor.py:459]\u001b[0m valid_dice_Grade1: 0.7434\n",
      "\u001b[32m[0618 15:46:24 @monitor.py:459]\u001b[0m valid_dice_Grade2: 0.42303\n",
      "\u001b[32m[0618 15:46:24 @monitor.py:459]\u001b[0m valid_dice_Grade3: 0.68899\n",
      "\u001b[32m[0618 15:46:24 @monitor.py:459]\u001b[0m valid_mae: 0.041581\n",
      "\u001b[32m[0618 15:46:24 @monitor.py:459]\u001b[0m valid_mean_dice: 0.61646\n",
      "\u001b[32m[0618 15:46:24 @monitor.py:459]\u001b[0m valid_ssim: 1.5488\n",
      "\u001b[32m[0618 15:46:24 @group.py:48]\u001b[0m Callbacks took 21.894 sec in total. DataParallelInferenceRunner: 21 seconds\n",
      "\u001b[32m[0618 15:46:24 @base.py:272]\u001b[0m Start Epoch 42 ...\n"
     ]
    },
    {
     "name": "stderr",
     "output_type": "stream",
     "text": [
      "100%|##########|350/350[03:56<00:00, 1.48it/s]"
     ]
    },
    {
     "name": "stdout",
     "output_type": "stream",
     "text": [
      "\u001b[32m[0618 15:50:21 @base.py:282]\u001b[0m Epoch 42 (global_step 14700) finished, time:3 minutes 56 seconds.\n"
     ]
    },
    {
     "name": "stderr",
     "output_type": "stream",
     "text": [
      "\n"
     ]
    },
    {
     "name": "stdout",
     "output_type": "stream",
     "text": [
      "\u001b[32m[0618 15:50:22 @saver.py:77]\u001b[0m Model saved to ./logs//High_CCRCC//hcnet_test/00/model-14700.\n"
     ]
    },
    {
     "name": "stderr",
     "output_type": "stream",
     "text": [
      "100%|##########|50/50[00:13<00:00, 3.67it/s]\n"
     ]
    },
    {
     "name": "stdout",
     "output_type": "stream",
     "text": [
      "\u001b[32m[0618 15:50:44 @monitor.py:459]\u001b[0m DataParallelInferenceRunner/QueueInput/queue_size: 49.687\n",
      "\u001b[32m[0618 15:50:44 @monitor.py:459]\u001b[0m QueueInput/queue_size: 49.085\n",
      "\u001b[32m[0618 15:50:44 @monitor.py:459]\u001b[0m learning_rate: 1e-05\n",
      "\u001b[32m[0618 15:50:44 @monitor.py:459]\u001b[0m loss-bce: 0.059488\n",
      "\u001b[32m[0618 15:50:44 @monitor.py:459]\u001b[0m loss-ce: 0.10399\n",
      "\u001b[32m[0618 15:50:44 @monitor.py:459]\u001b[0m loss-ce-12v3: 0.087107\n",
      "\u001b[32m[0618 15:50:44 @monitor.py:459]\u001b[0m loss-ce-1v23: 0.095042\n",
      "\u001b[32m[0618 15:50:44 @monitor.py:459]\u001b[0m loss-dice: 2.2857\n",
      "\u001b[32m[0618 15:50:44 @monitor.py:459]\u001b[0m loss-dice-12v3: 1.5031\n",
      "\u001b[32m[0618 15:50:44 @monitor.py:459]\u001b[0m loss-dice-1v23: 1.4342\n",
      "\u001b[32m[0618 15:50:44 @monitor.py:459]\u001b[0m loss-dice-binary: 0.24666\n",
      "\u001b[32m[0618 15:50:44 @monitor.py:459]\u001b[0m loss-reg-mae: 0.013719\n",
      "\u001b[32m[0618 15:50:44 @monitor.py:459]\u001b[0m valid_acc: 0.97532\n",
      "\u001b[32m[0618 15:50:44 @monitor.py:459]\u001b[0m valid_dice: 0.85616\n",
      "\u001b[32m[0618 15:50:44 @monitor.py:459]\u001b[0m valid_dice_Endothelium: 0.61462\n",
      "\u001b[32m[0618 15:50:44 @monitor.py:459]\u001b[0m valid_dice_Grade1: 0.74613\n",
      "\u001b[32m[0618 15:50:44 @monitor.py:459]\u001b[0m valid_dice_Grade2: 0.41188\n",
      "\u001b[32m[0618 15:50:44 @monitor.py:459]\u001b[0m valid_dice_Grade3: 0.68621\n",
      "\u001b[32m[0618 15:50:44 @monitor.py:459]\u001b[0m valid_mae: 0.041167\n",
      "\u001b[32m[0618 15:50:44 @monitor.py:459]\u001b[0m valid_mean_dice: 0.61471\n",
      "\u001b[32m[0618 15:50:44 @monitor.py:459]\u001b[0m valid_ssim: 1.5518\n",
      "\u001b[32m[0618 15:50:44 @group.py:48]\u001b[0m Callbacks took 22.721 sec in total. DataParallelInferenceRunner: 21.8 seconds\n",
      "\u001b[32m[0618 15:50:44 @base.py:272]\u001b[0m Start Epoch 43 ...\n"
     ]
    },
    {
     "name": "stderr",
     "output_type": "stream",
     "text": [
      "100%|##########|350/350[03:56<00:00, 1.48it/s]"
     ]
    },
    {
     "name": "stdout",
     "output_type": "stream",
     "text": [
      "\u001b[32m[0618 15:54:41 @base.py:282]\u001b[0m Epoch 43 (global_step 15050) finished, time:3 minutes 56 seconds.\n"
     ]
    },
    {
     "name": "stderr",
     "output_type": "stream",
     "text": [
      "\n"
     ]
    },
    {
     "name": "stdout",
     "output_type": "stream",
     "text": [
      "\u001b[32m[0618 15:54:41 @saver.py:77]\u001b[0m Model saved to ./logs//High_CCRCC//hcnet_test/00/model-15050.\n"
     ]
    },
    {
     "name": "stderr",
     "output_type": "stream",
     "text": [
      "100%|##########|50/50[00:13<00:00, 3.65it/s]\n"
     ]
    },
    {
     "name": "stdout",
     "output_type": "stream",
     "text": [
      "\u001b[32m[0618 15:55:03 @monitor.py:459]\u001b[0m DataParallelInferenceRunner/QueueInput/queue_size: 49.998\n",
      "\u001b[32m[0618 15:55:03 @monitor.py:459]\u001b[0m QueueInput/queue_size: 49.969\n",
      "\u001b[32m[0618 15:55:03 @monitor.py:459]\u001b[0m learning_rate: 1e-05\n",
      "\u001b[32m[0618 15:55:03 @monitor.py:459]\u001b[0m loss-bce: 0.06503\n",
      "\u001b[32m[0618 15:55:03 @monitor.py:459]\u001b[0m loss-ce: 0.10788\n",
      "\u001b[32m[0618 15:55:03 @monitor.py:459]\u001b[0m loss-ce-12v3: 0.088527\n",
      "\u001b[32m[0618 15:55:03 @monitor.py:459]\u001b[0m loss-ce-1v23: 0.10049\n",
      "\u001b[32m[0618 15:55:03 @monitor.py:459]\u001b[0m loss-dice: 2.2896\n",
      "\u001b[32m[0618 15:55:03 @monitor.py:459]\u001b[0m loss-dice-12v3: 1.4837\n",
      "\u001b[32m[0618 15:55:03 @monitor.py:459]\u001b[0m loss-dice-1v23: 1.4546\n",
      "\u001b[32m[0618 15:55:03 @monitor.py:459]\u001b[0m loss-dice-binary: 0.24108\n",
      "\u001b[32m[0618 15:55:03 @monitor.py:459]\u001b[0m loss-reg-mae: 0.01478\n",
      "\u001b[32m[0618 15:55:03 @monitor.py:459]\u001b[0m valid_acc: 0.97532\n",
      "\u001b[32m[0618 15:55:03 @monitor.py:459]\u001b[0m valid_dice: 0.85399\n",
      "\u001b[32m[0618 15:55:03 @monitor.py:459]\u001b[0m valid_dice_Endothelium: 0.60735\n",
      "\u001b[32m[0618 15:55:03 @monitor.py:459]\u001b[0m valid_dice_Grade1: 0.74515\n",
      "\u001b[32m[0618 15:55:03 @monitor.py:459]\u001b[0m valid_dice_Grade2: 0.4256\n",
      "\u001b[32m[0618 15:55:03 @monitor.py:459]\u001b[0m valid_dice_Grade3: 0.69337\n",
      "\u001b[32m[0618 15:55:03 @monitor.py:459]\u001b[0m valid_mae: 0.040411\n",
      "\u001b[32m[0618 15:55:03 @monitor.py:459]\u001b[0m valid_mean_dice: 0.61787\n",
      "\u001b[32m[0618 15:55:03 @monitor.py:459]\u001b[0m valid_ssim: 1.5572\n",
      "\u001b[32m[0618 15:55:03 @group.py:48]\u001b[0m Callbacks took 22.420 sec in total. DataParallelInferenceRunner: 21.6 seconds\n",
      "\u001b[32m[0618 15:55:03 @base.py:272]\u001b[0m Start Epoch 44 ...\n"
     ]
    },
    {
     "name": "stderr",
     "output_type": "stream",
     "text": [
      "100%|##########|350/350[03:56<00:00, 1.48it/s]"
     ]
    },
    {
     "name": "stdout",
     "output_type": "stream",
     "text": [
      "\u001b[32m[0618 15:59:00 @base.py:282]\u001b[0m Epoch 44 (global_step 15400) finished, time:3 minutes 56 seconds.\n"
     ]
    },
    {
     "name": "stderr",
     "output_type": "stream",
     "text": [
      "\n"
     ]
    },
    {
     "name": "stdout",
     "output_type": "stream",
     "text": [
      "\u001b[32m[0618 15:59:00 @saver.py:77]\u001b[0m Model saved to ./logs//High_CCRCC//hcnet_test/00/model-15400.\n"
     ]
    },
    {
     "name": "stderr",
     "output_type": "stream",
     "text": [
      "100%|##########|50/50[00:13<00:00, 3.73it/s]\n"
     ]
    },
    {
     "name": "stdout",
     "output_type": "stream",
     "text": [
      "\u001b[32m[0618 15:59:22 @saver.py:159]\u001b[0m Model at global_step=15400 with maximum valid_dice=0.85628 saved.\n",
      "\u001b[32m[0618 15:59:22 @monitor.py:459]\u001b[0m DataParallelInferenceRunner/QueueInput/queue_size: 49.676\n",
      "\u001b[32m[0618 15:59:22 @monitor.py:459]\u001b[0m QueueInput/queue_size: 49.968\n",
      "\u001b[32m[0618 15:59:22 @monitor.py:459]\u001b[0m learning_rate: 1e-05\n",
      "\u001b[32m[0618 15:59:22 @monitor.py:459]\u001b[0m loss-bce: 0.058684\n",
      "\u001b[32m[0618 15:59:22 @monitor.py:459]\u001b[0m loss-ce: 0.099192\n",
      "\u001b[32m[0618 15:59:22 @monitor.py:459]\u001b[0m loss-ce-12v3: 0.081939\n",
      "\u001b[32m[0618 15:59:22 @monitor.py:459]\u001b[0m loss-ce-1v23: 0.091923\n",
      "\u001b[32m[0618 15:59:22 @monitor.py:459]\u001b[0m loss-dice: 2.2768\n",
      "\u001b[32m[0618 15:59:22 @monitor.py:459]\u001b[0m loss-dice-12v3: 1.5042\n",
      "\u001b[32m[0618 15:59:22 @monitor.py:459]\u001b[0m loss-dice-1v23: 1.4209\n",
      "\u001b[32m[0618 15:59:22 @monitor.py:459]\u001b[0m loss-dice-binary: 0.23699\n",
      "\u001b[32m[0618 15:59:22 @monitor.py:459]\u001b[0m loss-reg-mae: 0.013227\n",
      "\u001b[32m[0618 15:59:22 @monitor.py:459]\u001b[0m valid_acc: 0.97533\n",
      "\u001b[32m[0618 15:59:22 @monitor.py:459]\u001b[0m valid_dice: 0.85628\n",
      "\u001b[32m[0618 15:59:22 @monitor.py:459]\u001b[0m valid_dice_Endothelium: 0.6059\n",
      "\u001b[32m[0618 15:59:22 @monitor.py:459]\u001b[0m valid_dice_Grade1: 0.73954\n",
      "\u001b[32m[0618 15:59:22 @monitor.py:459]\u001b[0m valid_dice_Grade2: 0.42705\n",
      "\u001b[32m[0618 15:59:22 @monitor.py:459]\u001b[0m valid_dice_Grade3: 0.68612\n",
      "\u001b[32m[0618 15:59:22 @monitor.py:459]\u001b[0m valid_mae: 0.04118\n",
      "\u001b[32m[0618 15:59:22 @monitor.py:459]\u001b[0m valid_mean_dice: 0.61465\n",
      "\u001b[32m[0618 15:59:22 @monitor.py:459]\u001b[0m valid_ssim: 1.5508\n",
      "\u001b[32m[0618 15:59:22 @group.py:48]\u001b[0m Callbacks took 22.892 sec in total. DataParallelInferenceRunner: 21.5 seconds\n",
      "\u001b[32m[0618 15:59:22 @base.py:272]\u001b[0m Start Epoch 45 ...\n"
     ]
    },
    {
     "name": "stderr",
     "output_type": "stream",
     "text": [
      "100%|##########|350/350[03:56<00:00, 1.48it/s]"
     ]
    },
    {
     "name": "stdout",
     "output_type": "stream",
     "text": [
      "\u001b[32m[0618 16:03:19 @base.py:282]\u001b[0m Epoch 45 (global_step 15750) finished, time:3 minutes 56 seconds.\n"
     ]
    },
    {
     "name": "stderr",
     "output_type": "stream",
     "text": [
      "\n"
     ]
    },
    {
     "name": "stdout",
     "output_type": "stream",
     "text": [
      "\u001b[32m[0618 16:03:19 @saver.py:77]\u001b[0m Model saved to ./logs//High_CCRCC//hcnet_test/00/model-15750.\n"
     ]
    },
    {
     "name": "stderr",
     "output_type": "stream",
     "text": [
      "100%|##########|50/50[00:13<00:00, 3.70it/s]\n"
     ]
    },
    {
     "name": "stdout",
     "output_type": "stream",
     "text": [
      "\u001b[32m[0618 16:03:41 @saver.py:159]\u001b[0m Model at global_step=15750 with maximum valid_dice=0.85633 saved.\n",
      "\u001b[32m[0618 16:03:41 @monitor.py:459]\u001b[0m DataParallelInferenceRunner/QueueInput/queue_size: 49.605\n",
      "\u001b[32m[0618 16:03:41 @monitor.py:459]\u001b[0m QueueInput/queue_size: 49.964\n",
      "\u001b[32m[0618 16:03:41 @monitor.py:459]\u001b[0m learning_rate: 1e-05\n",
      "\u001b[32m[0618 16:03:41 @monitor.py:459]\u001b[0m loss-bce: 0.056773\n",
      "\u001b[32m[0618 16:03:41 @monitor.py:459]\u001b[0m loss-ce: 0.094426\n",
      "\u001b[32m[0618 16:03:41 @monitor.py:459]\u001b[0m loss-ce-12v3: 0.078095\n",
      "\u001b[32m[0618 16:03:41 @monitor.py:459]\u001b[0m loss-ce-1v23: 0.089019\n",
      "\u001b[32m[0618 16:03:41 @monitor.py:459]\u001b[0m loss-dice: 2.358\n",
      "\u001b[32m[0618 16:03:41 @monitor.py:459]\u001b[0m loss-dice-12v3: 1.5368\n",
      "\u001b[32m[0618 16:03:41 @monitor.py:459]\u001b[0m loss-dice-1v23: 1.4908\n",
      "\u001b[32m[0618 16:03:41 @monitor.py:459]\u001b[0m loss-dice-binary: 0.23239\n",
      "\u001b[32m[0618 16:03:41 @monitor.py:459]\u001b[0m loss-reg-mae: 0.013245\n",
      "\u001b[32m[0618 16:03:41 @monitor.py:459]\u001b[0m valid_acc: 0.97534\n",
      "\u001b[32m[0618 16:03:41 @monitor.py:459]\u001b[0m valid_dice: 0.85633\n",
      "\u001b[32m[0618 16:03:41 @monitor.py:459]\u001b[0m valid_dice_Endothelium: 0.60219\n",
      "\u001b[32m[0618 16:03:41 @monitor.py:459]\u001b[0m valid_dice_Grade1: 0.74552\n",
      "\u001b[32m[0618 16:03:41 @monitor.py:459]\u001b[0m valid_dice_Grade2: 0.4127\n",
      "\u001b[32m[0618 16:03:41 @monitor.py:459]\u001b[0m valid_dice_Grade3: 0.69134\n",
      "\u001b[32m[0618 16:03:41 @monitor.py:459]\u001b[0m valid_mae: 0.04094\n",
      "\u001b[32m[0618 16:03:41 @monitor.py:459]\u001b[0m valid_mean_dice: 0.61294\n",
      "\u001b[32m[0618 16:03:41 @monitor.py:459]\u001b[0m valid_ssim: 1.552\n",
      "\u001b[32m[0618 16:03:41 @group.py:48]\u001b[0m Callbacks took 22.471 sec in total. DataParallelInferenceRunner: 21.3 seconds\n",
      "\u001b[32m[0618 16:03:41 @base.py:272]\u001b[0m Start Epoch 46 ...\n"
     ]
    },
    {
     "name": "stderr",
     "output_type": "stream",
     "text": [
      "100%|##########|350/350[03:56<00:00, 1.48it/s]"
     ]
    },
    {
     "name": "stdout",
     "output_type": "stream",
     "text": [
      "\u001b[32m[0618 16:07:38 @base.py:282]\u001b[0m Epoch 46 (global_step 16100) finished, time:3 minutes 56 seconds.\n"
     ]
    },
    {
     "name": "stderr",
     "output_type": "stream",
     "text": [
      "\n"
     ]
    },
    {
     "name": "stdout",
     "output_type": "stream",
     "text": [
      "\u001b[32m[0618 16:07:39 @saver.py:77]\u001b[0m Model saved to ./logs//High_CCRCC//hcnet_test/00/model-16100.\n"
     ]
    },
    {
     "name": "stderr",
     "output_type": "stream",
     "text": [
      "100%|##########|50/50[00:13<00:00, 3.67it/s]\n"
     ]
    },
    {
     "name": "stdout",
     "output_type": "stream",
     "text": [
      "\u001b[32m[0618 16:08:00 @saver.py:159]\u001b[0m Model at global_step=16100 with maximum valid_dice=0.8565 saved.\n",
      "\u001b[32m[0618 16:08:00 @monitor.py:459]\u001b[0m DataParallelInferenceRunner/QueueInput/queue_size: 49.686\n",
      "\u001b[32m[0618 16:08:00 @monitor.py:459]\u001b[0m QueueInput/queue_size: 49.742\n",
      "\u001b[32m[0618 16:08:00 @monitor.py:459]\u001b[0m learning_rate: 1e-05\n",
      "\u001b[32m[0618 16:08:00 @monitor.py:459]\u001b[0m loss-bce: 0.060067\n",
      "\u001b[32m[0618 16:08:00 @monitor.py:459]\u001b[0m loss-ce: 0.10571\n",
      "\u001b[32m[0618 16:08:00 @monitor.py:459]\u001b[0m loss-ce-12v3: 0.084134\n",
      "\u001b[32m[0618 16:08:00 @monitor.py:459]\u001b[0m loss-ce-1v23: 0.098548\n",
      "\u001b[32m[0618 16:08:00 @monitor.py:459]\u001b[0m loss-dice: 2.3391\n",
      "\u001b[32m[0618 16:08:00 @monitor.py:459]\u001b[0m loss-dice-12v3: 1.5204\n",
      "\u001b[32m[0618 16:08:00 @monitor.py:459]\u001b[0m loss-dice-1v23: 1.4783\n",
      "\u001b[32m[0618 16:08:00 @monitor.py:459]\u001b[0m loss-dice-binary: 0.23793\n",
      "\u001b[32m[0618 16:08:00 @monitor.py:459]\u001b[0m loss-reg-mae: 0.020248\n",
      "\u001b[32m[0618 16:08:00 @monitor.py:459]\u001b[0m valid_acc: 0.97533\n",
      "\u001b[32m[0618 16:08:00 @monitor.py:459]\u001b[0m valid_dice: 0.8565\n",
      "\u001b[32m[0618 16:08:00 @monitor.py:459]\u001b[0m valid_dice_Endothelium: 0.61521\n",
      "\u001b[32m[0618 16:08:00 @monitor.py:459]\u001b[0m valid_dice_Grade1: 0.73976\n",
      "\u001b[32m[0618 16:08:00 @monitor.py:459]\u001b[0m valid_dice_Grade2: 0.4389\n",
      "\u001b[32m[0618 16:08:00 @monitor.py:459]\u001b[0m valid_dice_Grade3: 0.69125\n",
      "\u001b[32m[0618 16:08:00 @monitor.py:459]\u001b[0m valid_mae: 0.041179\n",
      "\u001b[32m[0618 16:08:00 @monitor.py:459]\u001b[0m valid_mean_dice: 0.62128\n",
      "\u001b[32m[0618 16:08:00 @monitor.py:459]\u001b[0m valid_ssim: 1.5484\n",
      "\u001b[32m[0618 16:08:00 @group.py:48]\u001b[0m Callbacks took 22.289 sec in total. DataParallelInferenceRunner: 20.9 seconds\n",
      "\u001b[32m[0618 16:08:00 @base.py:272]\u001b[0m Start Epoch 47 ...\n"
     ]
    },
    {
     "name": "stderr",
     "output_type": "stream",
     "text": [
      "100%|##########|350/350[03:56<00:00, 1.48it/s]"
     ]
    },
    {
     "name": "stdout",
     "output_type": "stream",
     "text": [
      "\u001b[32m[0618 16:11:56 @base.py:282]\u001b[0m Epoch 47 (global_step 16450) finished, time:3 minutes 56 seconds.\n"
     ]
    },
    {
     "name": "stderr",
     "output_type": "stream",
     "text": [
      "\n"
     ]
    },
    {
     "name": "stdout",
     "output_type": "stream",
     "text": [
      "\u001b[32m[0618 16:11:57 @saver.py:77]\u001b[0m Model saved to ./logs//High_CCRCC//hcnet_test/00/model-16450.\n"
     ]
    },
    {
     "name": "stderr",
     "output_type": "stream",
     "text": [
      "100%|##########|50/50[00:13<00:00, 3.66it/s]\n"
     ]
    },
    {
     "name": "stdout",
     "output_type": "stream",
     "text": [
      "\u001b[32m[0618 16:12:20 @saver.py:159]\u001b[0m Model at global_step=16450 with maximum valid_dice=0.85681 saved.\n",
      "\u001b[32m[0618 16:12:20 @monitor.py:459]\u001b[0m DataParallelInferenceRunner/QueueInput/queue_size: 49.557\n",
      "\u001b[32m[0618 16:12:20 @monitor.py:459]\u001b[0m QueueInput/queue_size: 49.898\n",
      "\u001b[32m[0618 16:12:20 @monitor.py:459]\u001b[0m learning_rate: 1e-05\n",
      "\u001b[32m[0618 16:12:20 @monitor.py:459]\u001b[0m loss-bce: 0.059938\n",
      "\u001b[32m[0618 16:12:20 @monitor.py:459]\u001b[0m loss-ce: 0.10722\n",
      "\u001b[32m[0618 16:12:20 @monitor.py:459]\u001b[0m loss-ce-12v3: 0.089805\n",
      "\u001b[32m[0618 16:12:20 @monitor.py:459]\u001b[0m loss-ce-1v23: 0.097697\n",
      "\u001b[32m[0618 16:12:20 @monitor.py:459]\u001b[0m loss-dice: 2.397\n",
      "\u001b[32m[0618 16:12:20 @monitor.py:459]\u001b[0m loss-dice-12v3: 1.5864\n",
      "\u001b[32m[0618 16:12:20 @monitor.py:459]\u001b[0m loss-dice-1v23: 1.4921\n",
      "\u001b[32m[0618 16:12:20 @monitor.py:459]\u001b[0m loss-dice-binary: 0.23409\n",
      "\u001b[32m[0618 16:12:20 @monitor.py:459]\u001b[0m loss-reg-mae: 0.013582\n",
      "\u001b[32m[0618 16:12:20 @monitor.py:459]\u001b[0m valid_acc: 0.97528\n",
      "\u001b[32m[0618 16:12:20 @monitor.py:459]\u001b[0m valid_dice: 0.85681\n",
      "\u001b[32m[0618 16:12:20 @monitor.py:459]\u001b[0m valid_dice_Endothelium: 0.61825\n",
      "\u001b[32m[0618 16:12:20 @monitor.py:459]\u001b[0m valid_dice_Grade1: 0.74368\n",
      "\u001b[32m[0618 16:12:20 @monitor.py:459]\u001b[0m valid_dice_Grade2: 0.43966\n",
      "\u001b[32m[0618 16:12:20 @monitor.py:459]\u001b[0m valid_dice_Grade3: 0.68805\n",
      "\u001b[32m[0618 16:12:20 @monitor.py:459]\u001b[0m valid_mae: 0.042405\n",
      "\u001b[32m[0618 16:12:20 @monitor.py:459]\u001b[0m valid_mean_dice: 0.62241\n",
      "\u001b[32m[0618 16:12:20 @monitor.py:459]\u001b[0m valid_ssim: 1.5429\n",
      "\u001b[32m[0618 16:12:20 @group.py:48]\u001b[0m Callbacks took 23.335 sec in total. DataParallelInferenceRunner: 22.1 seconds\n",
      "\u001b[32m[0618 16:12:20 @base.py:272]\u001b[0m Start Epoch 48 ...\n"
     ]
    },
    {
     "name": "stderr",
     "output_type": "stream",
     "text": [
      "100%|##########|350/350[03:56<00:00, 1.48it/s]"
     ]
    },
    {
     "name": "stdout",
     "output_type": "stream",
     "text": [
      "\u001b[32m[0618 16:16:16 @base.py:282]\u001b[0m Epoch 48 (global_step 16800) finished, time:3 minutes 56 seconds.\n"
     ]
    },
    {
     "name": "stderr",
     "output_type": "stream",
     "text": [
      "\n"
     ]
    },
    {
     "name": "stdout",
     "output_type": "stream",
     "text": [
      "\u001b[32m[0618 16:16:17 @saver.py:77]\u001b[0m Model saved to ./logs//High_CCRCC//hcnet_test/00/model-16800.\n"
     ]
    },
    {
     "name": "stderr",
     "output_type": "stream",
     "text": [
      "100%|##########|50/50[00:13<00:00, 3.79it/s]\n"
     ]
    },
    {
     "name": "stdout",
     "output_type": "stream",
     "text": [
      "\u001b[32m[0618 16:16:39 @saver.py:159]\u001b[0m Model at global_step=16800 with maximum valid_dice=0.85716 saved.\n",
      "\u001b[32m[0618 16:16:39 @monitor.py:459]\u001b[0m DataParallelInferenceRunner/QueueInput/queue_size: 49.75\n",
      "\u001b[32m[0618 16:16:39 @monitor.py:459]\u001b[0m QueueInput/queue_size: 49.249\n",
      "\u001b[32m[0618 16:16:39 @monitor.py:459]\u001b[0m learning_rate: 1e-05\n",
      "\u001b[32m[0618 16:16:39 @monitor.py:459]\u001b[0m loss-bce: 0.055667\n",
      "\u001b[32m[0618 16:16:39 @monitor.py:459]\u001b[0m loss-ce: 0.097489\n",
      "\u001b[32m[0618 16:16:39 @monitor.py:459]\u001b[0m loss-ce-12v3: 0.081264\n",
      "\u001b[32m[0618 16:16:39 @monitor.py:459]\u001b[0m loss-ce-1v23: 0.091675\n",
      "\u001b[32m[0618 16:16:39 @monitor.py:459]\u001b[0m loss-dice: 2.3312\n",
      "\u001b[32m[0618 16:16:39 @monitor.py:459]\u001b[0m loss-dice-12v3: 1.5379\n",
      "\u001b[32m[0618 16:16:39 @monitor.py:459]\u001b[0m loss-dice-1v23: 1.4514\n",
      "\u001b[32m[0618 16:16:39 @monitor.py:459]\u001b[0m loss-dice-binary: 0.22954\n",
      "\u001b[32m[0618 16:16:39 @monitor.py:459]\u001b[0m loss-reg-mae: 0.20115\n",
      "\u001b[32m[0618 16:16:39 @monitor.py:459]\u001b[0m valid_acc: 0.97542\n",
      "\u001b[32m[0618 16:16:39 @monitor.py:459]\u001b[0m valid_dice: 0.85716\n",
      "\u001b[32m[0618 16:16:39 @monitor.py:459]\u001b[0m valid_dice_Endothelium: 0.61462\n",
      "\u001b[32m[0618 16:16:39 @monitor.py:459]\u001b[0m valid_dice_Grade1: 0.74591\n",
      "\u001b[32m[0618 16:16:39 @monitor.py:459]\u001b[0m valid_dice_Grade2: 0.41866\n",
      "\u001b[32m[0618 16:16:39 @monitor.py:459]\u001b[0m valid_dice_Grade3: 0.68702\n",
      "\u001b[32m[0618 16:16:39 @monitor.py:459]\u001b[0m valid_mae: 0.042049\n",
      "\u001b[32m[0618 16:16:39 @monitor.py:459]\u001b[0m valid_mean_dice: 0.61655\n",
      "\u001b[32m[0618 16:16:39 @monitor.py:459]\u001b[0m valid_ssim: 1.5513\n",
      "\u001b[32m[0618 16:16:39 @group.py:48]\u001b[0m Callbacks took 23.010 sec in total. DataParallelInferenceRunner: 21.5 seconds\n",
      "\u001b[32m[0618 16:16:39 @base.py:272]\u001b[0m Start Epoch 49 ...\n"
     ]
    },
    {
     "name": "stderr",
     "output_type": "stream",
     "text": [
      "100%|##########|350/350[03:56<00:00, 1.48it/s]"
     ]
    },
    {
     "name": "stdout",
     "output_type": "stream",
     "text": [
      "\u001b[32m[0618 16:20:35 @base.py:282]\u001b[0m Epoch 49 (global_step 17150) finished, time:3 minutes 56 seconds.\n"
     ]
    },
    {
     "name": "stderr",
     "output_type": "stream",
     "text": [
      "\n"
     ]
    },
    {
     "name": "stdout",
     "output_type": "stream",
     "text": [
      "\u001b[32m[0618 16:20:36 @saver.py:77]\u001b[0m Model saved to ./logs//High_CCRCC//hcnet_test/00/model-17150.\n"
     ]
    },
    {
     "name": "stderr",
     "output_type": "stream",
     "text": [
      "100%|##########|50/50[00:13<00:00, 3.68it/s]\n"
     ]
    },
    {
     "name": "stdout",
     "output_type": "stream",
     "text": [
      "\u001b[32m[0618 16:20:58 @saver.py:159]\u001b[0m Model at global_step=17150 with maximum valid_dice=0.85719 saved.\n",
      "\u001b[32m[0618 16:20:58 @monitor.py:459]\u001b[0m DataParallelInferenceRunner/QueueInput/queue_size: 49.953\n",
      "\u001b[32m[0618 16:20:58 @monitor.py:459]\u001b[0m QueueInput/queue_size: 49.711\n",
      "\u001b[32m[0618 16:20:58 @monitor.py:459]\u001b[0m learning_rate: 1e-05\n",
      "\u001b[32m[0618 16:20:58 @monitor.py:459]\u001b[0m loss-bce: 0.058872\n",
      "\u001b[32m[0618 16:20:58 @monitor.py:459]\u001b[0m loss-ce: 0.099123\n",
      "\u001b[32m[0618 16:20:58 @monitor.py:459]\u001b[0m loss-ce-12v3: 0.083593\n",
      "\u001b[32m[0618 16:20:58 @monitor.py:459]\u001b[0m loss-ce-1v23: 0.093239\n",
      "\u001b[32m[0618 16:20:58 @monitor.py:459]\u001b[0m loss-dice: 2.349\n",
      "\u001b[32m[0618 16:20:58 @monitor.py:459]\u001b[0m loss-dice-12v3: 1.545\n",
      "\u001b[32m[0618 16:20:58 @monitor.py:459]\u001b[0m loss-dice-1v23: 1.439\n",
      "\u001b[32m[0618 16:20:58 @monitor.py:459]\u001b[0m loss-dice-binary: 0.23751\n",
      "\u001b[32m[0618 16:20:58 @monitor.py:459]\u001b[0m loss-reg-mae: 0.013635\n",
      "\u001b[32m[0618 16:20:58 @monitor.py:459]\u001b[0m valid_acc: 0.97531\n",
      "\u001b[32m[0618 16:20:58 @monitor.py:459]\u001b[0m valid_dice: 0.85719\n",
      "\u001b[32m[0618 16:20:58 @monitor.py:459]\u001b[0m valid_dice_Endothelium: 0.61342\n",
      "\u001b[32m[0618 16:20:58 @monitor.py:459]\u001b[0m valid_dice_Grade1: 0.74771\n",
      "\u001b[32m[0618 16:20:58 @monitor.py:459]\u001b[0m valid_dice_Grade2: 0.42114\n",
      "\u001b[32m[0618 16:20:58 @monitor.py:459]\u001b[0m valid_dice_Grade3: 0.69124\n",
      "\u001b[32m[0618 16:20:58 @monitor.py:459]\u001b[0m valid_mae: 0.042131\n",
      "\u001b[32m[0618 16:20:58 @monitor.py:459]\u001b[0m valid_mean_dice: 0.61838\n",
      "\u001b[32m[0618 16:20:58 @monitor.py:459]\u001b[0m valid_ssim: 1.5462\n",
      "\u001b[32m[0618 16:20:58 @group.py:48]\u001b[0m Callbacks took 22.845 sec in total. DataParallelInferenceRunner: 21.6 seconds\n",
      "\u001b[32m[0618 16:20:58 @base.py:272]\u001b[0m Start Epoch 50 ...\n"
     ]
    },
    {
     "name": "stderr",
     "output_type": "stream",
     "text": [
      "100%|##########|350/350[03:56<00:00, 1.48it/s]"
     ]
    },
    {
     "name": "stdout",
     "output_type": "stream",
     "text": [
      "\u001b[32m[0618 16:24:54 @base.py:282]\u001b[0m Epoch 50 (global_step 17500) finished, time:3 minutes 56 seconds.\n"
     ]
    },
    {
     "name": "stderr",
     "output_type": "stream",
     "text": [
      "\n"
     ]
    },
    {
     "name": "stdout",
     "output_type": "stream",
     "text": [
      "\u001b[32m[0618 16:24:55 @saver.py:77]\u001b[0m Model saved to ./logs//High_CCRCC//hcnet_test/00/model-17500.\n"
     ]
    },
    {
     "name": "stderr",
     "output_type": "stream",
     "text": [
      "100%|##########|50/50[00:13<00:00, 3.80it/s]\n"
     ]
    },
    {
     "name": "stdout",
     "output_type": "stream",
     "text": [
      "\u001b[32m[0618 16:25:16 @monitor.py:459]\u001b[0m DataParallelInferenceRunner/QueueInput/queue_size: 49.614\n",
      "\u001b[32m[0618 16:25:16 @monitor.py:459]\u001b[0m QueueInput/queue_size: 49.359\n",
      "\u001b[32m[0618 16:25:16 @monitor.py:459]\u001b[0m learning_rate: 1e-05\n",
      "\u001b[32m[0618 16:25:16 @monitor.py:459]\u001b[0m loss-bce: 0.058908\n",
      "\u001b[32m[0618 16:25:16 @monitor.py:459]\u001b[0m loss-ce: 0.098328\n",
      "\u001b[32m[0618 16:25:16 @monitor.py:459]\u001b[0m loss-ce-12v3: 0.080703\n",
      "\u001b[32m[0618 16:25:16 @monitor.py:459]\u001b[0m loss-ce-1v23: 0.092473\n",
      "\u001b[32m[0618 16:25:16 @monitor.py:459]\u001b[0m loss-dice: 2.3909\n",
      "\u001b[32m[0618 16:25:16 @monitor.py:459]\u001b[0m loss-dice-12v3: 1.6075\n",
      "\u001b[32m[0618 16:25:16 @monitor.py:459]\u001b[0m loss-dice-1v23: 1.4774\n",
      "\u001b[32m[0618 16:25:16 @monitor.py:459]\u001b[0m loss-dice-binary: 0.24183\n",
      "\u001b[32m[0618 16:25:16 @monitor.py:459]\u001b[0m loss-reg-mae: 0.013547\n",
      "\u001b[32m[0618 16:25:16 @monitor.py:459]\u001b[0m valid_acc: 0.97534\n",
      "\u001b[32m[0618 16:25:16 @monitor.py:459]\u001b[0m valid_dice: 0.85579\n",
      "\u001b[32m[0618 16:25:16 @monitor.py:459]\u001b[0m valid_dice_Endothelium: 0.60592\n",
      "\u001b[32m[0618 16:25:16 @monitor.py:459]\u001b[0m valid_dice_Grade1: 0.74648\n",
      "\u001b[32m[0618 16:25:16 @monitor.py:459]\u001b[0m valid_dice_Grade2: 0.42088\n",
      "\u001b[32m[0618 16:25:16 @monitor.py:459]\u001b[0m valid_dice_Grade3: 0.68606\n",
      "\u001b[32m[0618 16:25:16 @monitor.py:459]\u001b[0m valid_mae: 0.041062\n",
      "\u001b[32m[0618 16:25:16 @monitor.py:459]\u001b[0m valid_mean_dice: 0.61483\n",
      "\u001b[32m[0618 16:25:16 @monitor.py:459]\u001b[0m valid_ssim: 1.5476\n",
      "\u001b[32m[0618 16:25:16 @group.py:48]\u001b[0m Callbacks took 21.499 sec in total. DataParallelInferenceRunner: 20.5 seconds\n",
      "\u001b[32m[0618 16:25:16 @base.py:286]\u001b[0m Training has finished!\n",
      "\u001b[32m[0618 16:25:16 @varmanip.py:180]\u001b[0m Checkpoint path ./logs//High_CCRCC//hcnet_test/00/model-17500.index is auto-corrected to ./logs//High_CCRCC//hcnet_test/00/model-17500.\n",
      "[262, 262] [256, 256]\n",
      "\u001b[32m[0618 16:25:16 @input_source.py:174]\u001b[0m EnqueueThread QueueInput/input_queue Exited.\n",
      "\u001b[32m[0618 16:25:16 @parallel.py:293]\u001b[0m [PrefetchDataZMQ] Will fork a dataflow more than one times. This assumes the datapoints are i.i.d.\n",
      "[262, 262] [256, 256]\n",
      "\u001b[32m[0618 16:25:16 @logger.py:73]\u001b[0m Argv: /home1/gzy/.conda/envs/hovernet/lib/python3.6/site-packages/ipykernel_launcher.py -f /home1/gzy/.local/share/jupyter/runtime/kernel-1cf35e4c-a388-498e-958e-bfabce9208ac.json\n",
      "['/home1/gzy/NucleiSegmentation/High_CCRCC/Train/512x512_256x256_dist/']\n",
      "['/home1/gzy/NucleiSegmentation/High_CCRCC/Valid/512x512_256x256_dist/']\n",
      "['/home1/gzy/NucleiSegmentation/High_CCRCC/Train/512x512_256x256_dist/']\n",
      "['/home1/gzy/NucleiSegmentation/High_CCRCC/Valid/512x512_256x256_dist/']\n",
      "\u001b[32m[0618 16:25:16 @training.py:52]\u001b[0m [DataParallel] Training a model of 2 towers.\n",
      "\u001b[32m[0618 16:25:16 @interface.py:34]\u001b[0m Automatically applying QueueInput on the DataFlow.\n",
      "\u001b[32m[0618 16:25:16 @interface.py:46]\u001b[0m Automatically applying StagingInput on the DataFlow.\n",
      "\u001b[32m[0618 16:25:16 @develop.py:96]\u001b[0m \u001b[5m\u001b[31mWRN\u001b[0m [Deprecated] ModelDescBase._get_inputs() interface will be deprecated after 30 Mar. Use inputs() instead!\n",
      "\u001b[32m[0618 16:25:16 @input_source.py:220]\u001b[0m Setting up the queue 'QueueInput/input_queue' for CPU prefetching ...\n",
      "\u001b[32m[0618 16:25:16 @training.py:114]\u001b[0m Building graph for training tower 0 ...\n",
      "\u001b[32m[0618 16:25:16 @develop.py:96]\u001b[0m \u001b[5m\u001b[31mWRN\u001b[0m [Deprecated] ModelDescBase._build_graph() interface will be deprecated after 30 Mar. Use build_graph() instead!\n",
      "\u001b[32m[0618 16:25:17 @input_source.py:174]\u001b[0m EnqueueThread DataParallelInferenceRunner/QueueInput/input_queue Exited.\n",
      "PrefetchDataZMQ successfully cleaned-up.\n",
      "\u001b[32m[0618 16:25:32 @develop.py:96]\u001b[0m \u001b[5m\u001b[31mWRN\u001b[0m [Deprecated] get_cost() and self.cost will be deprecated after 30 Mar. Return the cost tensor directly in build_graph() instead!\n",
      "\u001b[32m[0618 16:25:32 @develop.py:96]\u001b[0m \u001b[5m\u001b[31mWRN\u001b[0m [Deprecated] ModelDescBase._get_optimizer() interface will be deprecated after 30 Mar. Use optimizer() instead!\n",
      "\u001b[32m[0618 16:25:43 @gradproc.py:77]\u001b[0m \u001b[5m\u001b[31mWRN\u001b[0m No gradient w.r.t 5 trainable variables: param1, param2, param3, param4, param5\n",
      "\u001b[32m[0618 16:25:43 @training.py:114]\u001b[0m Building graph for training tower 1 ...\n",
      "\u001b[32m[0618 16:25:43 @develop.py:96]\u001b[0m \u001b[5m\u001b[31mWRN\u001b[0m [Deprecated] ModelDescBase._build_graph() interface will be deprecated after 30 Mar. Use build_graph() instead!\n",
      "\u001b[32m[0618 16:25:49 @develop.py:96]\u001b[0m \u001b[5m\u001b[31mWRN\u001b[0m [Deprecated] get_cost() and self.cost will be deprecated after 30 Mar. Return the cost tensor directly in build_graph() instead!\n",
      "\u001b[32m[0618 16:26:01 @gradproc.py:77]\u001b[0m \u001b[5m\u001b[31mWRN\u001b[0m No gradient w.r.t 5 trainable variables: param1, param2, param3, param4, param5\n",
      "\u001b[32m[0618 16:26:09 @model_utils.py:64]\u001b[0m \u001b[36mTrainable Variables: \n",
      "\u001b[0mname                                                          shape                 dim  device\n",
      "------------------------------------------------------------  ----------------  -------  ------------------------------\n",
      "en_10x/conv_1/W:0                                             [3, 3, 3, 128]       3456  /replica:0/task:0/device:GPU:0\n",
      "en_10x/conv_1/bn/gamma:0                                      [128]                 128  /replica:0/task:0/device:GPU:1\n",
      "en_10x/conv_1/bn/beta:0                                       [128]                 128  /replica:0/task:0/device:GPU:1\n",
      "en_10x/conv_2/W:0                                             [3, 3, 128, 128]   147456  /replica:0/task:0/device:GPU:1\n",
      "en_10x/conv_2/bn/gamma:0                                      [128]                 128  /replica:0/task:0/device:GPU:0\n",
      "en_10x/conv_2/bn/beta:0                                       [128]                 128  /replica:0/task:0/device:GPU:0\n",
      "en_10x/gcb/spatial_pool_conv/W:0                              [1, 1, 128, 1]        128  /replica:0/task:0/device:GPU:0\n",
      "en_10x/gcb/channel_add_conv_1/W:0                             [1, 1, 128, 16]      2048  /replica:0/task:0/device:GPU:0\n",
      "en_10x/gcb/channel_add_layernorm/beta:0                       [16]                   16  /replica:0/task:0/device:GPU:0\n",
      "en_10x/gcb/channel_add_layernorm/gamma:0                      [16]                   16  /replica:0/task:0/device:GPU:0\n",
      "en_10x/gcb/channel_add_conv_2/W:0                             [1, 1, 16, 128]      2048  /replica:0/task:0/device:GPU:0\n",
      "cov_10x_up/W:0                                                [3, 3, 128, 64]     73728  /replica:0/task:0/device:GPU:0\n",
      "cov_10x_up/bn/gamma:0                                         [64]                   64  /replica:0/task:0/device:GPU:0\n",
      "cov_10x_up/bn/beta:0                                          [64]                   64  /replica:0/task:0/device:GPU:0\n",
      "cov_10x_down/W:0                                              [3, 3, 128, 256]   294912  /replica:0/task:0/device:GPU:0\n",
      "cov_10x_down/bn/gamma:0                                       [256]                 256  /replica:0/task:0/device:GPU:1\n",
      "cov_10x_down/bn/beta:0                                        [256]                 256  /replica:0/task:0/device:GPU:1\n",
      "cov_10x_straight/W:0                                          [3, 3, 128, 128]   147456  /replica:0/task:0/device:GPU:1\n",
      "cov_10x_straight/bn/gamma:0                                   [128]                 128  /replica:0/task:0/device:GPU:1\n",
      "cov_10x_straight/bn/beta:0                                    [128]                 128  /replica:0/task:0/device:GPU:1\n",
      "en_40x/conv_1/W:0                                             [3, 3, 3, 128]       3456  /replica:0/task:0/device:GPU:1\n",
      "en_40x/conv_1/bn/gamma:0                                      [128]                 128  /replica:0/task:0/device:GPU:1\n",
      "en_40x/conv_1/bn/beta:0                                       [128]                 128  /replica:0/task:0/device:GPU:1\n",
      "en_40x/conv_2/W:0                                             [3, 3, 128, 128]   147456  /replica:0/task:0/device:GPU:1\n",
      "en_40x/conv_2/bn/gamma:0                                      [128]                 128  /replica:0/task:0/device:GPU:0\n",
      "en_40x/conv_2/bn/beta:0                                       [128]                 128  /replica:0/task:0/device:GPU:0\n",
      "en_40x/gcb/spatial_pool_conv/W:0                              [1, 1, 128, 1]        128  /replica:0/task:0/device:GPU:0\n",
      "en_40x/gcb/channel_add_conv_1/W:0                             [1, 1, 128, 16]      2048  /replica:0/task:0/device:GPU:0\n",
      "en_40x/gcb/channel_add_layernorm/beta:0                       [16]                   16  /replica:0/task:0/device:GPU:0\n",
      "en_40x/gcb/channel_add_layernorm/gamma:0                      [16]                   16  /replica:0/task:0/device:GPU:0\n",
      "en_40x/gcb/channel_add_conv_2/W:0                             [1, 1, 16, 128]      2048  /replica:0/task:0/device:GPU:0\n",
      "cov_40x_up/W:0                                                [3, 3, 128, 64]     73728  /replica:0/task:0/device:GPU:0\n",
      "cov_40x_up/bn/gamma:0                                         [64]                   64  /replica:0/task:0/device:GPU:1\n",
      "cov_40x_up/bn/beta:0                                          [64]                   64  /replica:0/task:0/device:GPU:1\n",
      "cov_40x_down/W:0                                              [3, 3, 128, 256]   294912  /replica:0/task:0/device:GPU:1\n",
      "cov_40x_down/bn/gamma:0                                       [256]                 256  /replica:0/task:0/device:GPU:0\n",
      "cov_40x_down/bn/beta:0                                        [256]                 256  /replica:0/task:0/device:GPU:0\n",
      "cov_40x_straight/W:0                                          [3, 3, 128, 128]   147456  /replica:0/task:0/device:GPU:0\n",
      "cov_40x_straight/bn/gamma:0                                   [128]                 128  /replica:0/task:0/device:GPU:0\n",
      "cov_40x_straight/bn/beta:0                                    [128]                 128  /replica:0/task:0/device:GPU:0\n",
      "conv0/W:0                                                     [7, 7, 3, 64]        9408  /replica:0/task:0/device:GPU:0\n",
      "conv0/bn/gamma:0                                              [64]                   64  /replica:0/task:0/device:GPU:0\n",
      "conv0/bn/beta:0                                               [64]                   64  /replica:0/task:0/device:GPU:0\n",
      "group0/block0/conv1/W:0                                       [3, 3, 64, 64]      36864  /replica:0/task:0/device:GPU:0\n",
      "group0/block0/conv1/bn/gamma:0                                [64]                   64  /replica:0/task:0/device:GPU:0\n",
      "group0/block0/conv1/bn/beta:0                                 [64]                   64  /replica:0/task:0/device:GPU:0\n",
      "group0/block0/conv2/W:0                                       [3, 3, 64, 64]      36864  /replica:0/task:0/device:GPU:0\n",
      "group0/block0/conv2/bn/gamma:0                                [64]                   64  /replica:0/task:0/device:GPU:0\n",
      "group0/block0/conv2/bn/beta:0                                 [64]                   64  /replica:0/task:0/device:GPU:0\n",
      "group0/block0/gcb/spatial_pool_conv/W:0                       [1, 1, 64, 1]          64  /replica:0/task:0/device:GPU:0\n",
      "group0/block0/gcb/channel_add_conv_1/W:0                      [1, 1, 64, 8]         512  /replica:0/task:0/device:GPU:0\n",
      "group0/block0/gcb/channel_add_layernorm/beta:0                [8]                     8  /replica:0/task:0/device:GPU:0\n",
      "group0/block0/gcb/channel_add_layernorm/gamma:0               [8]                     8  /replica:0/task:0/device:GPU:0\n",
      "group0/block0/gcb/channel_add_conv_2/W:0                      [1, 1, 8, 64]         512  /replica:0/task:0/device:GPU:0\n",
      "group0/block1/conv1/W:0                                       [3, 3, 64, 64]      36864  /replica:0/task:0/device:GPU:0\n",
      "group0/block1/conv1/bn/gamma:0                                [64]                   64  /replica:0/task:0/device:GPU:0\n",
      "group0/block1/conv1/bn/beta:0                                 [64]                   64  /replica:0/task:0/device:GPU:0\n",
      "group0/block1/conv2/W:0                                       [3, 3, 64, 64]      36864  /replica:0/task:0/device:GPU:0\n",
      "group0/block1/conv2/bn/gamma:0                                [64]                   64  /replica:0/task:0/device:GPU:1\n",
      "group0/block1/conv2/bn/beta:0                                 [64]                   64  /replica:0/task:0/device:GPU:1\n",
      "group0/block1/gcb/spatial_pool_conv/W:0                       [1, 1, 64, 1]          64  /replica:0/task:0/device:GPU:1\n",
      "group0/block1/gcb/channel_add_conv_1/W:0                      [1, 1, 64, 8]         512  /replica:0/task:0/device:GPU:1\n",
      "group0/block1/gcb/channel_add_layernorm/beta:0                [8]                     8  /replica:0/task:0/device:GPU:1\n",
      "group0/block1/gcb/channel_add_layernorm/gamma:0               [8]                     8  /replica:0/task:0/device:GPU:1\n",
      "group0/block1/gcb/channel_add_conv_2/W:0                      [1, 1, 8, 64]         512  /replica:0/task:0/device:GPU:1\n",
      "group0/block2/conv1/W:0                                       [3, 3, 64, 64]      36864  /replica:0/task:0/device:GPU:1\n",
      "group0/block2/conv1/bn/gamma:0                                [64]                   64  /replica:0/task:0/device:GPU:0\n",
      "group0/block2/conv1/bn/beta:0                                 [64]                   64  /replica:0/task:0/device:GPU:0\n",
      "group0/block2/conv2/W:0                                       [3, 3, 64, 64]      36864  /replica:0/task:0/device:GPU:0\n",
      "group0/block2/conv2/bn/gamma:0                                [64]                   64  /replica:0/task:0/device:GPU:1\n",
      "group0/block2/conv2/bn/beta:0                                 [64]                   64  /replica:0/task:0/device:GPU:1\n",
      "group0/block2/gcb/spatial_pool_conv/W:0                       [1, 1, 64, 1]          64  /replica:0/task:0/device:GPU:1\n",
      "group0/block2/gcb/channel_add_conv_1/W:0                      [1, 1, 64, 8]         512  /replica:0/task:0/device:GPU:1\n",
      "group0/block2/gcb/channel_add_layernorm/beta:0                [8]                     8  /replica:0/task:0/device:GPU:1\n",
      "group0/block2/gcb/channel_add_layernorm/gamma:0               [8]                     8  /replica:0/task:0/device:GPU:1\n",
      "group0/block2/gcb/channel_add_conv_2/W:0                      [1, 1, 8, 64]         512  /replica:0/task:0/device:GPU:1\n",
      "group1/block0/conv1/W:0                                       [3, 3, 64, 128]     73728  /replica:0/task:0/device:GPU:1\n",
      "group1/block0/conv1/bn/gamma:0                                [128]                 128  /replica:0/task:0/device:GPU:0\n",
      "group1/block0/conv1/bn/beta:0                                 [128]                 128  /replica:0/task:0/device:GPU:0\n",
      "group1/block0/conv2/W:0                                       [3, 3, 128, 128]   147456  /replica:0/task:0/device:GPU:0\n",
      "group1/block0/conv2/bn/gamma:0                                [128]                 128  /replica:0/task:0/device:GPU:1\n",
      "group1/block0/conv2/bn/beta:0                                 [128]                 128  /replica:0/task:0/device:GPU:1\n",
      "group1/block0/gcb/spatial_pool_conv/W:0                       [1, 1, 128, 1]        128  /replica:0/task:0/device:GPU:1\n",
      "group1/block0/gcb/channel_add_conv_1/W:0                      [1, 1, 128, 16]      2048  /replica:0/task:0/device:GPU:1\n",
      "group1/block0/gcb/channel_add_layernorm/beta:0                [16]                   16  /replica:0/task:0/device:GPU:1\n",
      "group1/block0/gcb/channel_add_layernorm/gamma:0               [16]                   16  /replica:0/task:0/device:GPU:1\n",
      "group1/block0/gcb/channel_add_conv_2/W:0                      [1, 1, 16, 128]      2048  /replica:0/task:0/device:GPU:1\n",
      "group1/block0/convshortcut/W:0                                [1, 1, 64, 128]      8192  /replica:0/task:0/device:GPU:1\n",
      "group1/block0/convshortcut/bn/gamma:0                         [128]                 128  /replica:0/task:0/device:GPU:1\n",
      "group1/block0/convshortcut/bn/beta:0                          [128]                 128  /replica:0/task:0/device:GPU:1\n",
      "group1/block1/conv1/W:0                                       [3, 3, 128, 128]   147456  /replica:0/task:0/device:GPU:1\n",
      "group1/block1/conv1/bn/gamma:0                                [128]                 128  /replica:0/task:0/device:GPU:0\n",
      "group1/block1/conv1/bn/beta:0                                 [128]                 128  /replica:0/task:0/device:GPU:0\n",
      "group1/block1/conv2/W:0                                       [3, 3, 128, 128]   147456  /replica:0/task:0/device:GPU:0\n",
      "group1/block1/conv2/bn/gamma:0                                [128]                 128  /replica:0/task:0/device:GPU:1\n",
      "group1/block1/conv2/bn/beta:0                                 [128]                 128  /replica:0/task:0/device:GPU:1\n",
      "group1/block1/gcb/spatial_pool_conv/W:0                       [1, 1, 128, 1]        128  /replica:0/task:0/device:GPU:1\n",
      "group1/block1/gcb/channel_add_conv_1/W:0                      [1, 1, 128, 16]      2048  /replica:0/task:0/device:GPU:1\n",
      "group1/block1/gcb/channel_add_layernorm/beta:0                [16]                   16  /replica:0/task:0/device:GPU:1\n",
      "group1/block1/gcb/channel_add_layernorm/gamma:0               [16]                   16  /replica:0/task:0/device:GPU:1\n",
      "group1/block1/gcb/channel_add_conv_2/W:0                      [1, 1, 16, 128]      2048  /replica:0/task:0/device:GPU:1\n",
      "group1/block2/conv1/W:0                                       [3, 3, 128, 128]   147456  /replica:0/task:0/device:GPU:1\n",
      "group1/block2/conv1/bn/gamma:0                                [128]                 128  /replica:0/task:0/device:GPU:0\n",
      "group1/block2/conv1/bn/beta:0                                 [128]                 128  /replica:0/task:0/device:GPU:0\n",
      "group1/block2/conv2/W:0                                       [3, 3, 128, 128]   147456  /replica:0/task:0/device:GPU:0\n",
      "group1/block2/conv2/bn/gamma:0                                [128]                 128  /replica:0/task:0/device:GPU:1\n",
      "group1/block2/conv2/bn/beta:0                                 [128]                 128  /replica:0/task:0/device:GPU:1\n",
      "group1/block2/gcb/spatial_pool_conv/W:0                       [1, 1, 128, 1]        128  /replica:0/task:0/device:GPU:1\n",
      "group1/block2/gcb/channel_add_conv_1/W:0                      [1, 1, 128, 16]      2048  /replica:0/task:0/device:GPU:1\n",
      "group1/block2/gcb/channel_add_layernorm/beta:0                [16]                   16  /replica:0/task:0/device:GPU:1\n",
      "group1/block2/gcb/channel_add_layernorm/gamma:0               [16]                   16  /replica:0/task:0/device:GPU:1\n",
      "group1/block2/gcb/channel_add_conv_2/W:0                      [1, 1, 16, 128]      2048  /replica:0/task:0/device:GPU:1\n",
      "group1/block3/conv1/W:0                                       [3, 3, 128, 128]   147456  /replica:0/task:0/device:GPU:1\n",
      "group1/block3/conv1/bn/gamma:0                                [128]                 128  /replica:0/task:0/device:GPU:0\n",
      "group1/block3/conv1/bn/beta:0                                 [128]                 128  /replica:0/task:0/device:GPU:0\n",
      "group1/block3/conv2/W:0                                       [3, 3, 128, 128]   147456  /replica:0/task:0/device:GPU:0\n",
      "group1/block3/conv2/bn/gamma:0                                [128]                 128  /replica:0/task:0/device:GPU:1\n",
      "group1/block3/conv2/bn/beta:0                                 [128]                 128  /replica:0/task:0/device:GPU:1\n",
      "group1/block3/gcb/spatial_pool_conv/W:0                       [1, 1, 128, 1]        128  /replica:0/task:0/device:GPU:1\n",
      "group1/block3/gcb/channel_add_conv_1/W:0                      [1, 1, 128, 16]      2048  /replica:0/task:0/device:GPU:1\n",
      "group1/block3/gcb/channel_add_layernorm/beta:0                [16]                   16  /replica:0/task:0/device:GPU:1\n",
      "group1/block3/gcb/channel_add_layernorm/gamma:0               [16]                   16  /replica:0/task:0/device:GPU:1\n",
      "group1/block3/gcb/channel_add_conv_2/W:0                      [1, 1, 16, 128]      2048  /replica:0/task:0/device:GPU:1\n",
      "group2/block0/conv1/W:0                                       [3, 3, 128, 256]   294912  /replica:0/task:0/device:GPU:1\n",
      "group2/block0/conv1/bn/gamma:0                                [256]                 256  /replica:0/task:0/device:GPU:0\n",
      "group2/block0/conv1/bn/beta:0                                 [256]                 256  /replica:0/task:0/device:GPU:0\n",
      "group2/block0/conv2/W:0                                       [3, 3, 256, 256]   589824  /replica:0/task:0/device:GPU:0\n",
      "group2/block0/conv2/bn/gamma:0                                [256]                 256  /replica:0/task:0/device:GPU:1\n",
      "group2/block0/conv2/bn/beta:0                                 [256]                 256  /replica:0/task:0/device:GPU:1\n",
      "group2/block0/gcb/spatial_pool_conv/W:0                       [1, 1, 256, 1]        256  /replica:0/task:0/device:GPU:1\n",
      "group2/block0/gcb/channel_add_conv_1/W:0                      [1, 1, 256, 32]      8192  /replica:0/task:0/device:GPU:1\n",
      "group2/block0/gcb/channel_add_layernorm/beta:0                [32]                   32  /replica:0/task:0/device:GPU:1\n",
      "group2/block0/gcb/channel_add_layernorm/gamma:0               [32]                   32  /replica:0/task:0/device:GPU:1\n",
      "group2/block0/gcb/channel_add_conv_2/W:0                      [1, 1, 32, 256]      8192  /replica:0/task:0/device:GPU:1\n",
      "group2/block0/convshortcut/W:0                                [1, 1, 128, 256]    32768  /replica:0/task:0/device:GPU:1\n",
      "group2/block0/convshortcut/bn/gamma:0                         [256]                 256  /replica:0/task:0/device:GPU:1\n",
      "group2/block0/convshortcut/bn/beta:0                          [256]                 256  /replica:0/task:0/device:GPU:1\n",
      "group2/block1/conv1/W:0                                       [3, 3, 256, 256]   589824  /replica:0/task:0/device:GPU:1\n",
      "group2/block1/conv1/bn/gamma:0                                [256]                 256  /replica:0/task:0/device:GPU:0\n",
      "group2/block1/conv1/bn/beta:0                                 [256]                 256  /replica:0/task:0/device:GPU:0\n",
      "group2/block1/conv2/W:0                                       [3, 3, 256, 256]   589824  /replica:0/task:0/device:GPU:0\n",
      "group2/block1/conv2/bn/gamma:0                                [256]                 256  /replica:0/task:0/device:GPU:1\n",
      "group2/block1/conv2/bn/beta:0                                 [256]                 256  /replica:0/task:0/device:GPU:1\n",
      "group2/block1/gcb/spatial_pool_conv/W:0                       [1, 1, 256, 1]        256  /replica:0/task:0/device:GPU:1\n",
      "group2/block1/gcb/channel_add_conv_1/W:0                      [1, 1, 256, 32]      8192  /replica:0/task:0/device:GPU:1\n",
      "group2/block1/gcb/channel_add_layernorm/beta:0                [32]                   32  /replica:0/task:0/device:GPU:1\n",
      "group2/block1/gcb/channel_add_layernorm/gamma:0               [32]                   32  /replica:0/task:0/device:GPU:1\n",
      "group2/block1/gcb/channel_add_conv_2/W:0                      [1, 1, 32, 256]      8192  /replica:0/task:0/device:GPU:1\n",
      "group2/block2/conv1/W:0                                       [3, 3, 256, 256]   589824  /replica:0/task:0/device:GPU:1\n",
      "group2/block2/conv1/bn/gamma:0                                [256]                 256  /replica:0/task:0/device:GPU:0\n",
      "group2/block2/conv1/bn/beta:0                                 [256]                 256  /replica:0/task:0/device:GPU:0\n",
      "group2/block2/conv2/W:0                                       [3, 3, 256, 256]   589824  /replica:0/task:0/device:GPU:0\n",
      "group2/block2/conv2/bn/gamma:0                                [256]                 256  /replica:0/task:0/device:GPU:1\n",
      "group2/block2/conv2/bn/beta:0                                 [256]                 256  /replica:0/task:0/device:GPU:1\n",
      "group2/block2/gcb/spatial_pool_conv/W:0                       [1, 1, 256, 1]        256  /replica:0/task:0/device:GPU:1\n",
      "group2/block2/gcb/channel_add_conv_1/W:0                      [1, 1, 256, 32]      8192  /replica:0/task:0/device:GPU:1\n",
      "group2/block2/gcb/channel_add_layernorm/beta:0                [32]                   32  /replica:0/task:0/device:GPU:1\n",
      "group2/block2/gcb/channel_add_layernorm/gamma:0               [32]                   32  /replica:0/task:0/device:GPU:1\n",
      "group2/block2/gcb/channel_add_conv_2/W:0                      [1, 1, 32, 256]      8192  /replica:0/task:0/device:GPU:1\n",
      "group2/block3/conv1/W:0                                       [3, 3, 256, 256]   589824  /replica:0/task:0/device:GPU:1\n",
      "group2/block3/conv1/bn/gamma:0                                [256]                 256  /replica:0/task:0/device:GPU:0\n",
      "group2/block3/conv1/bn/beta:0                                 [256]                 256  /replica:0/task:0/device:GPU:0\n",
      "group2/block3/conv2/W:0                                       [3, 3, 256, 256]   589824  /replica:0/task:0/device:GPU:0\n",
      "group2/block3/conv2/bn/gamma:0                                [256]                 256  /replica:0/task:0/device:GPU:1\n",
      "group2/block3/conv2/bn/beta:0                                 [256]                 256  /replica:0/task:0/device:GPU:1\n",
      "group2/block3/gcb/spatial_pool_conv/W:0                       [1, 1, 256, 1]        256  /replica:0/task:0/device:GPU:1\n",
      "group2/block3/gcb/channel_add_conv_1/W:0                      [1, 1, 256, 32]      8192  /replica:0/task:0/device:GPU:1\n",
      "group2/block3/gcb/channel_add_layernorm/beta:0                [32]                   32  /replica:0/task:0/device:GPU:1\n",
      "group2/block3/gcb/channel_add_layernorm/gamma:0               [32]                   32  /replica:0/task:0/device:GPU:1\n",
      "group2/block3/gcb/channel_add_conv_2/W:0                      [1, 1, 32, 256]      8192  /replica:0/task:0/device:GPU:1\n",
      "group2/block4/conv1/W:0                                       [3, 3, 256, 256]   589824  /replica:0/task:0/device:GPU:1\n",
      "group2/block4/conv1/bn/gamma:0                                [256]                 256  /replica:0/task:0/device:GPU:0\n",
      "group2/block4/conv1/bn/beta:0                                 [256]                 256  /replica:0/task:0/device:GPU:0\n",
      "group2/block4/conv2/W:0                                       [3, 3, 256, 256]   589824  /replica:0/task:0/device:GPU:0\n",
      "group2/block4/conv2/bn/gamma:0                                [256]                 256  /replica:0/task:0/device:GPU:1\n",
      "group2/block4/conv2/bn/beta:0                                 [256]                 256  /replica:0/task:0/device:GPU:1\n",
      "group2/block4/gcb/spatial_pool_conv/W:0                       [1, 1, 256, 1]        256  /replica:0/task:0/device:GPU:1\n",
      "group2/block4/gcb/channel_add_conv_1/W:0                      [1, 1, 256, 32]      8192  /replica:0/task:0/device:GPU:1\n",
      "group2/block4/gcb/channel_add_layernorm/beta:0                [32]                   32  /replica:0/task:0/device:GPU:1\n",
      "group2/block4/gcb/channel_add_layernorm/gamma:0               [32]                   32  /replica:0/task:0/device:GPU:1\n",
      "group2/block4/gcb/channel_add_conv_2/W:0                      [1, 1, 32, 256]      8192  /replica:0/task:0/device:GPU:1\n",
      "group2/block5/conv1/W:0                                       [3, 3, 256, 256]   589824  /replica:0/task:0/device:GPU:1\n",
      "group2/block5/conv1/bn/gamma:0                                [256]                 256  /replica:0/task:0/device:GPU:0\n",
      "group2/block5/conv1/bn/beta:0                                 [256]                 256  /replica:0/task:0/device:GPU:0\n",
      "group2/block5/conv2/W:0                                       [3, 3, 256, 256]   589824  /replica:0/task:0/device:GPU:0\n",
      "group2/block5/conv2/bn/gamma:0                                [256]                 256  /replica:0/task:0/device:GPU:1\n",
      "group2/block5/conv2/bn/beta:0                                 [256]                 256  /replica:0/task:0/device:GPU:1\n",
      "group2/block5/gcb/spatial_pool_conv/W:0                       [1, 1, 256, 1]        256  /replica:0/task:0/device:GPU:1\n",
      "group2/block5/gcb/channel_add_conv_1/W:0                      [1, 1, 256, 32]      8192  /replica:0/task:0/device:GPU:1\n",
      "group2/block5/gcb/channel_add_layernorm/beta:0                [32]                   32  /replica:0/task:0/device:GPU:1\n",
      "group2/block5/gcb/channel_add_layernorm/gamma:0               [32]                   32  /replica:0/task:0/device:GPU:1\n",
      "group2/block5/gcb/channel_add_conv_2/W:0                      [1, 1, 32, 256]      8192  /replica:0/task:0/device:GPU:1\n",
      "group3/block0/conv1/W:0                                       [3, 3, 256, 512]  1179648  /replica:0/task:0/device:GPU:1\n",
      "group3/block0/conv1/bn/gamma:0                                [512]                 512  /replica:0/task:0/device:GPU:0\n",
      "group3/block0/conv1/bn/beta:0                                 [512]                 512  /replica:0/task:0/device:GPU:0\n",
      "group3/block0/conv2/W:0                                       [3, 3, 512, 512]  2359296  /replica:0/task:0/device:GPU:0\n",
      "group3/block0/conv2/bn/gamma:0                                [512]                 512  /replica:0/task:0/device:GPU:1\n",
      "group3/block0/conv2/bn/beta:0                                 [512]                 512  /replica:0/task:0/device:GPU:1\n",
      "group3/block0/gcb/spatial_pool_conv/W:0                       [1, 1, 512, 1]        512  /replica:0/task:0/device:GPU:1\n",
      "group3/block0/gcb/channel_add_conv_1/W:0                      [1, 1, 512, 64]     32768  /replica:0/task:0/device:GPU:1\n",
      "group3/block0/gcb/channel_add_layernorm/beta:0                [64]                   64  /replica:0/task:0/device:GPU:1\n",
      "group3/block0/gcb/channel_add_layernorm/gamma:0               [64]                   64  /replica:0/task:0/device:GPU:1\n",
      "group3/block0/gcb/channel_add_conv_2/W:0                      [1, 1, 64, 512]     32768  /replica:0/task:0/device:GPU:1\n",
      "group3/block0/convshortcut/W:0                                [1, 1, 256, 512]   131072  /replica:0/task:0/device:GPU:1\n",
      "group3/block0/convshortcut/bn/gamma:0                         [512]                 512  /replica:0/task:0/device:GPU:1\n",
      "group3/block0/convshortcut/bn/beta:0                          [512]                 512  /replica:0/task:0/device:GPU:1\n",
      "group3/block1/conv1/W:0                                       [3, 3, 512, 512]  2359296  /replica:0/task:0/device:GPU:1\n",
      "group3/block1/conv1/bn/gamma:0                                [512]                 512  /replica:0/task:0/device:GPU:0\n",
      "group3/block1/conv1/bn/beta:0                                 [512]                 512  /replica:0/task:0/device:GPU:0\n",
      "group3/block1/conv2/W:0                                       [3, 3, 512, 512]  2359296  /replica:0/task:0/device:GPU:0\n",
      "group3/block1/conv2/bn/gamma:0                                [512]                 512  /replica:0/task:0/device:GPU:1\n",
      "group3/block1/conv2/bn/beta:0                                 [512]                 512  /replica:0/task:0/device:GPU:1\n",
      "group3/block1/gcb/spatial_pool_conv/W:0                       [1, 1, 512, 1]        512  /replica:0/task:0/device:GPU:1\n",
      "group3/block1/gcb/channel_add_conv_1/W:0                      [1, 1, 512, 64]     32768  /replica:0/task:0/device:GPU:1\n",
      "group3/block1/gcb/channel_add_layernorm/beta:0                [64]                   64  /replica:0/task:0/device:GPU:1\n",
      "group3/block1/gcb/channel_add_layernorm/gamma:0               [64]                   64  /replica:0/task:0/device:GPU:1\n",
      "group3/block1/gcb/channel_add_conv_2/W:0                      [1, 1, 64, 512]     32768  /replica:0/task:0/device:GPU:1\n",
      "group3/block2/conv1/W:0                                       [3, 3, 512, 512]  2359296  /replica:0/task:0/device:GPU:1\n",
      "group3/block2/conv1/bn/gamma:0                                [512]                 512  /replica:0/task:0/device:GPU:0\n",
      "group3/block2/conv1/bn/beta:0                                 [512]                 512  /replica:0/task:0/device:GPU:0\n",
      "group3/block2/conv2/W:0                                       [3, 3, 512, 512]  2359296  /replica:0/task:0/device:GPU:0\n",
      "group3/block2/conv2/bn/gamma:0                                [512]                 512  /replica:0/task:0/device:GPU:1\n",
      "group3/block2/conv2/bn/beta:0                                 [512]                 512  /replica:0/task:0/device:GPU:1\n",
      "group3/block2/gcb/spatial_pool_conv/W:0                       [1, 1, 512, 1]        512  /replica:0/task:0/device:GPU:1\n",
      "group3/block2/gcb/channel_add_conv_1/W:0                      [1, 1, 512, 64]     32768  /replica:0/task:0/device:GPU:1\n",
      "group3/block2/gcb/channel_add_layernorm/beta:0                [64]                   64  /replica:0/task:0/device:GPU:1\n",
      "group3/block2/gcb/channel_add_layernorm/gamma:0               [64]                   64  /replica:0/task:0/device:GPU:1\n",
      "group3/block2/gcb/channel_add_conv_2/W:0                      [1, 1, 64, 512]     32768  /replica:0/task:0/device:GPU:1\n",
      "classify_1/com_11/conv_up/W:0                                 [1, 1, 256, 128]    32768  /replica:0/task:0/device:GPU:1\n",
      "classify_1/com_11/conv_up/bn/gamma:0                          [128]                 128  /replica:0/task:0/device:GPU:1\n",
      "classify_1/com_11/conv_up/bn/beta:0                           [128]                 128  /replica:0/task:0/device:GPU:1\n",
      "classify_1/conv_img12/W:0                                     [1, 1, 192, 128]    24576  /replica:0/task:0/device:GPU:1\n",
      "classify_1/conv_img12/bn/gamma:0                              [128]                 128  /replica:0/task:0/device:GPU:1\n",
      "classify_1/conv_img12/bn/beta:0                               [128]                 128  /replica:0/task:0/device:GPU:1\n",
      "classify_1/groupl11/block0/conv1/W:0                          [3, 3, 128, 128]   147456  /replica:0/task:0/device:GPU:1\n",
      "classify_1/groupl11/block0/conv1/bn/gamma:0                   [128]                 128  /replica:0/task:0/device:GPU:1\n",
      "classify_1/groupl11/block0/conv1/bn/beta:0                    [128]                 128  /replica:0/task:0/device:GPU:1\n",
      "classify_1/groupl11/block0/conv2/W:0                          [3, 3, 128, 128]   147456  /replica:0/task:0/device:GPU:1\n",
      "classify_1/groupl11/block0/conv2/bn/gamma:0                   [128]                 128  /replica:0/task:0/device:GPU:1\n",
      "classify_1/groupl11/block0/conv2/bn/beta:0                    [128]                 128  /replica:0/task:0/device:GPU:1\n",
      "classify_1/groupl11/block0/gcb/spatial_pool_conv/W:0          [1, 1, 128, 1]        128  /replica:0/task:0/device:GPU:1\n",
      "classify_1/groupl11/block0/gcb/channel_add_conv_1/W:0         [1, 1, 128, 16]      2048  /replica:0/task:0/device:GPU:1\n",
      "classify_1/groupl11/block0/gcb/channel_add_layernorm/beta:0   [16]                   16  /replica:0/task:0/device:GPU:1\n",
      "classify_1/groupl11/block0/gcb/channel_add_layernorm/gamma:0  [16]                   16  /replica:0/task:0/device:GPU:1\n",
      "classify_1/groupl11/block0/gcb/channel_add_conv_2/W:0         [1, 1, 16, 128]      2048  /replica:0/task:0/device:GPU:1\n",
      "classify_1/conv_straight11/W:0                                [3, 3, 128, 128]   147456  /replica:0/task:0/device:GPU:1\n",
      "classify_1/conv_straight11/bn/gamma:0                         [128]                 128  /replica:0/task:0/device:GPU:1\n",
      "classify_1/conv_straight11/bn/beta:0                          [128]                 128  /replica:0/task:0/device:GPU:1\n",
      "classify_1/conv_down11/W:0                                    [3, 3, 128, 256]   294912  /replica:0/task:0/device:GPU:1\n",
      "classify_1/conv_down11/bn/gamma:0                             [256]                 256  /replica:0/task:0/device:GPU:1\n",
      "classify_1/conv_down11/bn/beta:0                              [256]                 256  /replica:0/task:0/device:GPU:1\n",
      "classify_1/com_12/conv_up/W:0                                 [1, 1, 512, 128]    65536  /replica:0/task:0/device:GPU:1\n",
      "classify_1/com_12/conv_up/bn/gamma:0                          [128]                 128  /replica:0/task:0/device:GPU:1\n",
      "classify_1/com_12/conv_up/bn/beta:0                           [128]                 128  /replica:0/task:0/device:GPU:1\n",
      "classify_1/com_22/conv_up/W:0                                 [1, 1, 512, 256]   131072  /replica:0/task:0/device:GPU:1\n",
      "classify_1/com_22/conv_up/bn/gamma:0                          [256]                 256  /replica:0/task:0/device:GPU:1\n",
      "classify_1/com_22/conv_up/bn/beta:0                           [256]                 256  /replica:0/task:0/device:GPU:1\n",
      "classify_1/conv_img22/W:0                                     [1, 1, 384, 256]    98304  /replica:0/task:0/device:GPU:1\n",
      "classify_1/conv_img22/bn/gamma:0                              [256]                 256  /replica:0/task:0/device:GPU:0\n",
      "classify_1/conv_img22/bn/beta:0                               [256]                 256  /replica:0/task:0/device:GPU:0\n",
      "classify_1/groupl12/block0/conv1/W:0                          [3, 3, 128, 128]   147456  /replica:0/task:0/device:GPU:0\n",
      "classify_1/groupl12/block0/conv1/bn/gamma:0                   [128]                 128  /replica:0/task:0/device:GPU:1\n",
      "classify_1/groupl12/block0/conv1/bn/beta:0                    [128]                 128  /replica:0/task:0/device:GPU:1\n",
      "classify_1/groupl12/block0/conv2/W:0                          [3, 3, 128, 128]   147456  /replica:0/task:0/device:GPU:1\n",
      "classify_1/groupl12/block0/conv2/bn/gamma:0                   [128]                 128  /replica:0/task:0/device:GPU:0\n",
      "classify_1/groupl12/block0/conv2/bn/beta:0                    [128]                 128  /replica:0/task:0/device:GPU:0\n",
      "classify_1/groupl12/block0/gcb/spatial_pool_conv/W:0          [1, 1, 128, 1]        128  /replica:0/task:0/device:GPU:0\n",
      "classify_1/groupl12/block0/gcb/channel_add_conv_1/W:0         [1, 1, 128, 16]      2048  /replica:0/task:0/device:GPU:0\n",
      "classify_1/groupl12/block0/gcb/channel_add_layernorm/beta:0   [16]                   16  /replica:0/task:0/device:GPU:0\n",
      "classify_1/groupl12/block0/gcb/channel_add_layernorm/gamma:0  [16]                   16  /replica:0/task:0/device:GPU:0\n",
      "classify_1/groupl12/block0/gcb/channel_add_conv_2/W:0         [1, 1, 16, 128]      2048  /replica:0/task:0/device:GPU:0\n",
      "classify_1/groupl22/block0/conv1/W:0                          [3, 3, 256, 256]   589824  /replica:0/task:0/device:GPU:0\n",
      "classify_1/groupl22/block0/conv1/bn/gamma:0                   [256]                 256  /replica:0/task:0/device:GPU:1\n",
      "classify_1/groupl22/block0/conv1/bn/beta:0                    [256]                 256  /replica:0/task:0/device:GPU:1\n",
      "classify_1/groupl22/block0/conv2/W:0                          [3, 3, 256, 256]   589824  /replica:0/task:0/device:GPU:1\n",
      "classify_1/groupl22/block0/conv2/bn/gamma:0                   [256]                 256  /replica:0/task:0/device:GPU:0\n",
      "classify_1/groupl22/block0/conv2/bn/beta:0                    [256]                 256  /replica:0/task:0/device:GPU:0\n",
      "classify_1/groupl22/block0/gcb/spatial_pool_conv/W:0          [1, 1, 256, 1]        256  /replica:0/task:0/device:GPU:0\n",
      "classify_1/groupl22/block0/gcb/channel_add_conv_1/W:0         [1, 1, 256, 32]      8192  /replica:0/task:0/device:GPU:0\n",
      "classify_1/groupl22/block0/gcb/channel_add_layernorm/beta:0   [32]                   32  /replica:0/task:0/device:GPU:0\n",
      "classify_1/groupl22/block0/gcb/channel_add_layernorm/gamma:0  [32]                   32  /replica:0/task:0/device:GPU:0\n",
      "classify_1/groupl22/block0/gcb/channel_add_conv_2/W:0         [1, 1, 32, 256]      8192  /replica:0/task:0/device:GPU:0\n",
      "classify_1/conv_straight12/W:0                                [3, 3, 128, 128]   147456  /replica:0/task:0/device:GPU:0\n",
      "classify_1/conv_straight12/bn/gamma:0                         [128]                 128  /replica:0/task:0/device:GPU:1\n",
      "classify_1/conv_straight12/bn/beta:0                          [128]                 128  /replica:0/task:0/device:GPU:1\n",
      "classify_1/com_13/conv_up/W:0                                 [1, 1, 256, 128]    32768  /replica:0/task:0/device:GPU:1\n",
      "classify_1/com_13/conv_up/bn/gamma:0                          [128]                 128  /replica:0/task:0/device:GPU:1\n",
      "classify_1/com_13/conv_up/bn/beta:0                           [128]                 128  /replica:0/task:0/device:GPU:1\n",
      "classify_1/conv_straight22/W:0                                [3, 3, 256, 256]   589824  /replica:0/task:0/device:GPU:1\n",
      "classify_1/conv_straight22/bn/gamma:0                         [256]                 256  /replica:0/task:0/device:GPU:0\n",
      "classify_1/conv_straight22/bn/beta:0                          [256]                 256  /replica:0/task:0/device:GPU:0\n",
      "classify_1/conv_down12/W:0                                    [3, 3, 128, 256]   294912  /replica:0/task:0/device:GPU:0\n",
      "classify_1/conv_down12/bn/gamma:0                             [256]                 256  /replica:0/task:0/device:GPU:0\n",
      "classify_1/conv_down12/bn/beta:0                              [256]                 256  /replica:0/task:0/device:GPU:0\n",
      "classify_1/conv_down22/W:0                                    [3, 3, 256, 512]  1179648  /replica:0/task:0/device:GPU:0\n",
      "classify_1/conv_down22/bn/gamma:0                             [512]                 512  /replica:0/task:0/device:GPU:1\n",
      "classify_1/conv_down22/bn/beta:0                              [512]                 512  /replica:0/task:0/device:GPU:1\n",
      "classify_1/conv_downdown12/W:0                                [3, 3, 256, 512]  1179648  /replica:0/task:0/device:GPU:1\n",
      "classify_1/conv_downdown12/bn/gamma:0                         [512]                 512  /replica:0/task:0/device:GPU:0\n",
      "classify_1/conv_downdown12/bn/beta:0                          [512]                 512  /replica:0/task:0/device:GPU:0\n",
      "classify_1/conv_img32/W:0                                     [1, 1, 768, 512]   393216  /replica:0/task:0/device:GPU:0\n",
      "classify_1/conv_img32/bn/gamma:0                              [512]                 512  /replica:0/task:0/device:GPU:1\n",
      "classify_1/conv_img32/bn/beta:0                               [512]                 512  /replica:0/task:0/device:GPU:1\n",
      "classify_1/groupl13/block0/conv1/W:0                          [3, 3, 128, 128]   147456  /replica:0/task:0/device:GPU:1\n",
      "classify_1/groupl13/block0/conv1/bn/gamma:0                   [128]                 128  /replica:0/task:0/device:GPU:1\n",
      "classify_1/groupl13/block0/conv1/bn/beta:0                    [128]                 128  /replica:0/task:0/device:GPU:1\n",
      "classify_1/groupl13/block0/conv2/W:0                          [3, 3, 128, 128]   147456  /replica:0/task:0/device:GPU:1\n",
      "classify_1/groupl13/block0/conv2/bn/gamma:0                   [128]                 128  /replica:0/task:0/device:GPU:0\n",
      "classify_1/groupl13/block0/conv2/bn/beta:0                    [128]                 128  /replica:0/task:0/device:GPU:0\n",
      "classify_1/groupl13/block0/gcb/spatial_pool_conv/W:0          [1, 1, 128, 1]        128  /replica:0/task:0/device:GPU:0\n",
      "classify_1/groupl13/block0/gcb/channel_add_conv_1/W:0         [1, 1, 128, 16]      2048  /replica:0/task:0/device:GPU:0\n",
      "classify_1/groupl13/block0/gcb/channel_add_layernorm/beta:0   [16]                   16  /replica:0/task:0/device:GPU:0\n",
      "classify_1/groupl13/block0/gcb/channel_add_layernorm/gamma:0  [16]                   16  /replica:0/task:0/device:GPU:0\n",
      "classify_1/groupl13/block0/gcb/channel_add_conv_2/W:0         [1, 1, 16, 128]      2048  /replica:0/task:0/device:GPU:0\n",
      "classify_1/groupl23/block0/conv1/W:0                          [3, 3, 256, 256]   589824  /replica:0/task:0/device:GPU:0\n",
      "classify_1/groupl23/block0/conv1/bn/gamma:0                   [256]                 256  /replica:0/task:0/device:GPU:1\n",
      "classify_1/groupl23/block0/conv1/bn/beta:0                    [256]                 256  /replica:0/task:0/device:GPU:1\n",
      "classify_1/groupl23/block0/conv2/W:0                          [3, 3, 256, 256]   589824  /replica:0/task:0/device:GPU:1\n",
      "classify_1/groupl23/block0/conv2/bn/gamma:0                   [256]                 256  /replica:0/task:0/device:GPU:0\n",
      "classify_1/groupl23/block0/conv2/bn/beta:0                    [256]                 256  /replica:0/task:0/device:GPU:0\n",
      "classify_1/groupl23/block0/gcb/spatial_pool_conv/W:0          [1, 1, 256, 1]        256  /replica:0/task:0/device:GPU:0\n",
      "classify_1/groupl23/block0/gcb/channel_add_conv_1/W:0         [1, 1, 256, 32]      8192  /replica:0/task:0/device:GPU:0\n",
      "classify_1/groupl23/block0/gcb/channel_add_layernorm/beta:0   [32]                   32  /replica:0/task:0/device:GPU:0\n",
      "classify_1/groupl23/block0/gcb/channel_add_layernorm/gamma:0  [32]                   32  /replica:0/task:0/device:GPU:0\n",
      "classify_1/groupl23/block0/gcb/channel_add_conv_2/W:0         [1, 1, 32, 256]      8192  /replica:0/task:0/device:GPU:0\n",
      "classify_1/groupl33/block0/conv1/W:0                          [3, 3, 512, 512]  2359296  /replica:0/task:0/device:GPU:0\n",
      "classify_1/groupl33/block0/conv1/bn/gamma:0                   [512]                 512  /replica:0/task:0/device:GPU:1\n",
      "classify_1/groupl33/block0/conv1/bn/beta:0                    [512]                 512  /replica:0/task:0/device:GPU:1\n",
      "classify_1/groupl33/block0/conv2/W:0                          [3, 3, 512, 512]  2359296  /replica:0/task:0/device:GPU:1\n",
      "classify_1/groupl33/block0/conv2/bn/gamma:0                   [512]                 512  /replica:0/task:0/device:GPU:0\n",
      "classify_1/groupl33/block0/conv2/bn/beta:0                    [512]                 512  /replica:0/task:0/device:GPU:0\n",
      "classify_1/groupl33/block0/gcb/spatial_pool_conv/W:0          [1, 1, 512, 1]        512  /replica:0/task:0/device:GPU:0\n",
      "classify_1/groupl33/block0/gcb/channel_add_conv_1/W:0         [1, 1, 512, 64]     32768  /replica:0/task:0/device:GPU:0\n",
      "classify_1/groupl33/block0/gcb/channel_add_layernorm/beta:0   [64]                   64  /replica:0/task:0/device:GPU:0\n",
      "classify_1/groupl33/block0/gcb/channel_add_layernorm/gamma:0  [64]                   64  /replica:0/task:0/device:GPU:0\n",
      "classify_1/groupl33/block0/gcb/channel_add_conv_2/W:0         [1, 1, 64, 512]     32768  /replica:0/task:0/device:GPU:0\n",
      "classify_1/conv_straight13/W:0                                [3, 3, 128, 128]   147456  /replica:0/task:0/device:GPU:1\n",
      "classify_1/conv_straight13/bn/gamma:0                         [128]                 128  /replica:0/task:0/device:GPU:0\n",
      "classify_1/conv_straight13/bn/beta:0                          [128]                 128  /replica:0/task:0/device:GPU:0\n",
      "classify_1/com_141/conv_up/W:0                                [1, 1, 256, 128]    32768  /replica:0/task:0/device:GPU:0\n",
      "classify_1/com_141/conv_up/bn/gamma:0                         [128]                 128  /replica:0/task:0/device:GPU:0\n",
      "classify_1/com_141/conv_up/bn/beta:0                          [128]                 128  /replica:0/task:0/device:GPU:0\n",
      "classify_1/com_142/conv_up/W:0                                [1, 1, 512, 128]    65536  /replica:0/task:0/device:GPU:0\n",
      "classify_1/com_142/conv_up/bn/gamma:0                         [128]                 128  /replica:0/task:0/device:GPU:0\n",
      "classify_1/com_142/conv_up/bn/beta:0                          [128]                 128  /replica:0/task:0/device:GPU:0\n",
      "classify_1/conv_straight23/W:0                                [3, 3, 256, 256]   589824  /replica:0/task:0/device:GPU:0\n",
      "classify_1/conv_straight23/bn/gamma:0                         [256]                 256  /replica:0/task:0/device:GPU:1\n",
      "classify_1/conv_straight23/bn/beta:0                          [256]                 256  /replica:0/task:0/device:GPU:1\n",
      "classify_1/conv_down13/W:0                                    [3, 3, 128, 256]   294912  /replica:0/task:0/device:GPU:1\n",
      "classify_1/conv_down13/bn/gamma:0                             [256]                 256  /replica:0/task:0/device:GPU:1\n",
      "classify_1/conv_down13/bn/beta:0                              [256]                 256  /replica:0/task:0/device:GPU:1\n",
      "classify_1/com_24/conv_up/W:0                                 [1, 1, 512, 256]   131072  /replica:0/task:0/device:GPU:1\n",
      "classify_1/com_24/conv_up/bn/gamma:0                          [256]                 256  /replica:0/task:0/device:GPU:1\n",
      "classify_1/com_24/conv_up/bn/beta:0                           [256]                 256  /replica:0/task:0/device:GPU:1\n",
      "classify_1/conv_straight33/W:0                                [3, 3, 512, 512]  2359296  /replica:0/task:0/device:GPU:1\n",
      "classify_1/conv_straight33/bn/gamma:0                         [512]                 512  /replica:0/task:0/device:GPU:0\n",
      "classify_1/conv_straight33/bn/beta:0                          [512]                 512  /replica:0/task:0/device:GPU:0\n",
      "classify_1/conv_downdown13/W:0                                [3, 3, 256, 512]  1179648  /replica:0/task:0/device:GPU:0\n",
      "classify_1/conv_downdown13/bn/gamma:0                         [512]                 512  /replica:0/task:0/device:GPU:0\n",
      "classify_1/conv_downdown13/bn/beta:0                          [512]                 512  /replica:0/task:0/device:GPU:0\n",
      "classify_1/conv_down23/W:0                                    [3, 3, 256, 512]  1179648  /replica:0/task:0/device:GPU:0\n",
      "classify_1/conv_down23/bn/gamma:0                             [512]                 512  /replica:0/task:0/device:GPU:1\n",
      "classify_1/conv_down23/bn/beta:0                              [512]                 512  /replica:0/task:0/device:GPU:1\n",
      "head_fusion_classify_1/conv_mix/W:0                           [1, 1, 896, 256]   229376  /replica:0/task:0/device:GPU:1\n",
      "head_fusion_classify_1/conv_mix/bn/gamma:0                    [256]                 256  /replica:0/task:0/device:GPU:0\n",
      "head_fusion_classify_1/conv_mix/bn/beta:0                     [256]                 256  /replica:0/task:0/device:GPU:0\n",
      "classify_1/conv_out/W:0                                       [1, 1, 256, 4]       1024  /replica:0/task:0/device:GPU:0\n",
      "classify_1/conv_out/b:0                                       [4]                     4  /replica:0/task:0/device:GPU:0\n",
      "classify_2/com_11/conv_up/W:0                                 [1, 1, 256, 128]    32768  /replica:0/task:0/device:GPU:0\n",
      "classify_2/com_11/conv_up/bn/gamma:0                          [128]                 128  /replica:0/task:0/device:GPU:0\n",
      "classify_2/com_11/conv_up/bn/beta:0                           [128]                 128  /replica:0/task:0/device:GPU:0\n",
      "classify_2/conv_img12/W:0                                     [1, 1, 192, 128]    24576  /replica:0/task:0/device:GPU:0\n",
      "classify_2/conv_img12/bn/gamma:0                              [128]                 128  /replica:0/task:0/device:GPU:0\n",
      "classify_2/conv_img12/bn/beta:0                               [128]                 128  /replica:0/task:0/device:GPU:0\n",
      "classify_2/groupl11/block0/conv1/W:0                          [3, 3, 128, 128]   147456  /replica:0/task:0/device:GPU:0\n",
      "classify_2/groupl11/block0/conv1/bn/gamma:0                   [128]                 128  /replica:0/task:0/device:GPU:1\n",
      "classify_2/groupl11/block0/conv1/bn/beta:0                    [128]                 128  /replica:0/task:0/device:GPU:1\n",
      "classify_2/groupl11/block0/conv2/W:0                          [3, 3, 128, 128]   147456  /replica:0/task:0/device:GPU:1\n",
      "classify_2/groupl11/block0/conv2/bn/gamma:0                   [128]                 128  /replica:0/task:0/device:GPU:0\n",
      "classify_2/groupl11/block0/conv2/bn/beta:0                    [128]                 128  /replica:0/task:0/device:GPU:0\n",
      "classify_2/groupl11/block0/gcb/spatial_pool_conv/W:0          [1, 1, 128, 1]        128  /replica:0/task:0/device:GPU:0\n",
      "classify_2/groupl11/block0/gcb/channel_add_conv_1/W:0         [1, 1, 128, 16]      2048  /replica:0/task:0/device:GPU:0\n",
      "classify_2/groupl11/block0/gcb/channel_add_layernorm/beta:0   [16]                   16  /replica:0/task:0/device:GPU:0\n",
      "classify_2/groupl11/block0/gcb/channel_add_layernorm/gamma:0  [16]                   16  /replica:0/task:0/device:GPU:0\n",
      "classify_2/groupl11/block0/gcb/channel_add_conv_2/W:0         [1, 1, 16, 128]      2048  /replica:0/task:0/device:GPU:0\n",
      "classify_2/conv_straight11/W:0                                [3, 3, 128, 128]   147456  /replica:0/task:0/device:GPU:0\n",
      "classify_2/conv_straight11/bn/gamma:0                         [128]                 128  /replica:0/task:0/device:GPU:1\n",
      "classify_2/conv_straight11/bn/beta:0                          [128]                 128  /replica:0/task:0/device:GPU:1\n",
      "classify_2/conv_down11/W:0                                    [3, 3, 128, 256]   294912  /replica:0/task:0/device:GPU:1\n",
      "classify_2/conv_down11/bn/gamma:0                             [256]                 256  /replica:0/task:0/device:GPU:0\n",
      "classify_2/conv_down11/bn/beta:0                              [256]                 256  /replica:0/task:0/device:GPU:0\n",
      "classify_2/com_12/conv_up/W:0                                 [1, 1, 512, 128]    65536  /replica:0/task:0/device:GPU:0\n",
      "classify_2/com_12/conv_up/bn/gamma:0                          [128]                 128  /replica:0/task:0/device:GPU:0\n",
      "classify_2/com_12/conv_up/bn/beta:0                           [128]                 128  /replica:0/task:0/device:GPU:0\n",
      "classify_2/com_22/conv_up/W:0                                 [1, 1, 512, 256]   131072  /replica:0/task:0/device:GPU:0\n",
      "classify_2/com_22/conv_up/bn/gamma:0                          [256]                 256  /replica:0/task:0/device:GPU:1\n",
      "classify_2/com_22/conv_up/bn/beta:0                           [256]                 256  /replica:0/task:0/device:GPU:1\n",
      "classify_2/conv_img22/W:0                                     [1, 1, 384, 256]    98304  /replica:0/task:0/device:GPU:1\n",
      "classify_2/conv_img22/bn/gamma:0                              [256]                 256  /replica:0/task:0/device:GPU:0\n",
      "classify_2/conv_img22/bn/beta:0                               [256]                 256  /replica:0/task:0/device:GPU:0\n",
      "classify_2/groupl12/block0/conv1/W:0                          [3, 3, 128, 128]   147456  /replica:0/task:0/device:GPU:0\n",
      "classify_2/groupl12/block0/conv1/bn/gamma:0                   [128]                 128  /replica:0/task:0/device:GPU:1\n",
      "classify_2/groupl12/block0/conv1/bn/beta:0                    [128]                 128  /replica:0/task:0/device:GPU:1\n",
      "classify_2/groupl12/block0/conv2/W:0                          [3, 3, 128, 128]   147456  /replica:0/task:0/device:GPU:1\n",
      "classify_2/groupl12/block0/conv2/bn/gamma:0                   [128]                 128  /replica:0/task:0/device:GPU:0\n",
      "classify_2/groupl12/block0/conv2/bn/beta:0                    [128]                 128  /replica:0/task:0/device:GPU:0\n",
      "classify_2/groupl12/block0/gcb/spatial_pool_conv/W:0          [1, 1, 128, 1]        128  /replica:0/task:0/device:GPU:0\n",
      "classify_2/groupl12/block0/gcb/channel_add_conv_1/W:0         [1, 1, 128, 16]      2048  /replica:0/task:0/device:GPU:0\n",
      "classify_2/groupl12/block0/gcb/channel_add_layernorm/beta:0   [16]                   16  /replica:0/task:0/device:GPU:0\n",
      "classify_2/groupl12/block0/gcb/channel_add_layernorm/gamma:0  [16]                   16  /replica:0/task:0/device:GPU:0\n",
      "classify_2/groupl12/block0/gcb/channel_add_conv_2/W:0         [1, 1, 16, 128]      2048  /replica:0/task:0/device:GPU:0\n",
      "classify_2/groupl22/block0/conv1/W:0                          [3, 3, 256, 256]   589824  /replica:0/task:0/device:GPU:0\n",
      "classify_2/groupl22/block0/conv1/bn/gamma:0                   [256]                 256  /replica:0/task:0/device:GPU:1\n",
      "classify_2/groupl22/block0/conv1/bn/beta:0                    [256]                 256  /replica:0/task:0/device:GPU:1\n",
      "classify_2/groupl22/block0/conv2/W:0                          [3, 3, 256, 256]   589824  /replica:0/task:0/device:GPU:1\n",
      "classify_2/groupl22/block0/conv2/bn/gamma:0                   [256]                 256  /replica:0/task:0/device:GPU:0\n",
      "classify_2/groupl22/block0/conv2/bn/beta:0                    [256]                 256  /replica:0/task:0/device:GPU:0\n",
      "classify_2/groupl22/block0/gcb/spatial_pool_conv/W:0          [1, 1, 256, 1]        256  /replica:0/task:0/device:GPU:0\n",
      "classify_2/groupl22/block0/gcb/channel_add_conv_1/W:0         [1, 1, 256, 32]      8192  /replica:0/task:0/device:GPU:0\n",
      "classify_2/groupl22/block0/gcb/channel_add_layernorm/beta:0   [32]                   32  /replica:0/task:0/device:GPU:0\n",
      "classify_2/groupl22/block0/gcb/channel_add_layernorm/gamma:0  [32]                   32  /replica:0/task:0/device:GPU:0\n",
      "classify_2/groupl22/block0/gcb/channel_add_conv_2/W:0         [1, 1, 32, 256]      8192  /replica:0/task:0/device:GPU:0\n",
      "classify_2/conv_straight12/W:0                                [3, 3, 128, 128]   147456  /replica:0/task:0/device:GPU:0\n",
      "classify_2/conv_straight12/bn/gamma:0                         [128]                 128  /replica:0/task:0/device:GPU:1\n",
      "classify_2/conv_straight12/bn/beta:0                          [128]                 128  /replica:0/task:0/device:GPU:1\n",
      "classify_2/com_13/conv_up/W:0                                 [1, 1, 256, 128]    32768  /replica:0/task:0/device:GPU:1\n",
      "classify_2/com_13/conv_up/bn/gamma:0                          [128]                 128  /replica:0/task:0/device:GPU:1\n",
      "classify_2/com_13/conv_up/bn/beta:0                           [128]                 128  /replica:0/task:0/device:GPU:1\n",
      "classify_2/conv_straight22/W:0                                [3, 3, 256, 256]   589824  /replica:0/task:0/device:GPU:1\n",
      "classify_2/conv_straight22/bn/gamma:0                         [256]                 256  /replica:0/task:0/device:GPU:0\n",
      "classify_2/conv_straight22/bn/beta:0                          [256]                 256  /replica:0/task:0/device:GPU:0\n",
      "classify_2/conv_down12/W:0                                    [3, 3, 128, 256]   294912  /replica:0/task:0/device:GPU:0\n",
      "classify_2/conv_down12/bn/gamma:0                             [256]                 256  /replica:0/task:0/device:GPU:0\n",
      "classify_2/conv_down12/bn/beta:0                              [256]                 256  /replica:0/task:0/device:GPU:0\n",
      "classify_2/conv_down22/W:0                                    [3, 3, 256, 512]  1179648  /replica:0/task:0/device:GPU:0\n",
      "classify_2/conv_down22/bn/gamma:0                             [512]                 512  /replica:0/task:0/device:GPU:1\n",
      "classify_2/conv_down22/bn/beta:0                              [512]                 512  /replica:0/task:0/device:GPU:1\n",
      "classify_2/conv_downdown12/W:0                                [3, 3, 256, 512]  1179648  /replica:0/task:0/device:GPU:1\n",
      "classify_2/conv_downdown12/bn/gamma:0                         [512]                 512  /replica:0/task:0/device:GPU:0\n",
      "classify_2/conv_downdown12/bn/beta:0                          [512]                 512  /replica:0/task:0/device:GPU:0\n",
      "classify_2/conv_img32/W:0                                     [1, 1, 768, 512]   393216  /replica:0/task:0/device:GPU:0\n",
      "classify_2/conv_img32/bn/gamma:0                              [512]                 512  /replica:0/task:0/device:GPU:1\n",
      "classify_2/conv_img32/bn/beta:0                               [512]                 512  /replica:0/task:0/device:GPU:1\n",
      "classify_2/groupl13/block0/conv1/W:0                          [3, 3, 128, 128]   147456  /replica:0/task:0/device:GPU:1\n",
      "classify_2/groupl13/block0/conv1/bn/gamma:0                   [128]                 128  /replica:0/task:0/device:GPU:0\n",
      "classify_2/groupl13/block0/conv1/bn/beta:0                    [128]                 128  /replica:0/task:0/device:GPU:0\n",
      "classify_2/groupl13/block0/conv2/W:0                          [3, 3, 128, 128]   147456  /replica:0/task:0/device:GPU:0\n",
      "classify_2/groupl13/block0/conv2/bn/gamma:0                   [128]                 128  /replica:0/task:0/device:GPU:1\n",
      "classify_2/groupl13/block0/conv2/bn/beta:0                    [128]                 128  /replica:0/task:0/device:GPU:1\n",
      "classify_2/groupl13/block0/gcb/spatial_pool_conv/W:0          [1, 1, 128, 1]        128  /replica:0/task:0/device:GPU:1\n",
      "classify_2/groupl13/block0/gcb/channel_add_conv_1/W:0         [1, 1, 128, 16]      2048  /replica:0/task:0/device:GPU:1\n",
      "classify_2/groupl13/block0/gcb/channel_add_layernorm/beta:0   [16]                   16  /replica:0/task:0/device:GPU:1\n",
      "classify_2/groupl13/block0/gcb/channel_add_layernorm/gamma:0  [16]                   16  /replica:0/task:0/device:GPU:1\n",
      "classify_2/groupl13/block0/gcb/channel_add_conv_2/W:0         [1, 1, 16, 128]      2048  /replica:0/task:0/device:GPU:1\n",
      "classify_2/groupl23/block0/conv1/W:0                          [3, 3, 256, 256]   589824  /replica:0/task:0/device:GPU:1\n",
      "classify_2/groupl23/block0/conv1/bn/gamma:0                   [256]                 256  /replica:0/task:0/device:GPU:0\n",
      "classify_2/groupl23/block0/conv1/bn/beta:0                    [256]                 256  /replica:0/task:0/device:GPU:0\n",
      "classify_2/groupl23/block0/conv2/W:0                          [3, 3, 256, 256]   589824  /replica:0/task:0/device:GPU:0\n",
      "classify_2/groupl23/block0/conv2/bn/gamma:0                   [256]                 256  /replica:0/task:0/device:GPU:1\n",
      "classify_2/groupl23/block0/conv2/bn/beta:0                    [256]                 256  /replica:0/task:0/device:GPU:1\n",
      "classify_2/groupl23/block0/gcb/spatial_pool_conv/W:0          [1, 1, 256, 1]        256  /replica:0/task:0/device:GPU:1\n",
      "classify_2/groupl23/block0/gcb/channel_add_conv_1/W:0         [1, 1, 256, 32]      8192  /replica:0/task:0/device:GPU:1\n",
      "classify_2/groupl23/block0/gcb/channel_add_layernorm/beta:0   [32]                   32  /replica:0/task:0/device:GPU:1\n",
      "classify_2/groupl23/block0/gcb/channel_add_layernorm/gamma:0  [32]                   32  /replica:0/task:0/device:GPU:1\n",
      "classify_2/groupl23/block0/gcb/channel_add_conv_2/W:0         [1, 1, 32, 256]      8192  /replica:0/task:0/device:GPU:1\n",
      "classify_2/groupl33/block0/conv1/W:0                          [3, 3, 512, 512]  2359296  /replica:0/task:0/device:GPU:1\n",
      "classify_2/groupl33/block0/conv1/bn/gamma:0                   [512]                 512  /replica:0/task:0/device:GPU:0\n",
      "classify_2/groupl33/block0/conv1/bn/beta:0                    [512]                 512  /replica:0/task:0/device:GPU:0\n",
      "classify_2/groupl33/block0/conv2/W:0                          [3, 3, 512, 512]  2359296  /replica:0/task:0/device:GPU:0\n",
      "classify_2/groupl33/block0/conv2/bn/gamma:0                   [512]                 512  /replica:0/task:0/device:GPU:1\n",
      "classify_2/groupl33/block0/conv2/bn/beta:0                    [512]                 512  /replica:0/task:0/device:GPU:1\n",
      "classify_2/groupl33/block0/gcb/spatial_pool_conv/W:0          [1, 1, 512, 1]        512  /replica:0/task:0/device:GPU:1\n",
      "classify_2/groupl33/block0/gcb/channel_add_conv_1/W:0         [1, 1, 512, 64]     32768  /replica:0/task:0/device:GPU:1\n",
      "classify_2/groupl33/block0/gcb/channel_add_layernorm/beta:0   [64]                   64  /replica:0/task:0/device:GPU:1\n",
      "classify_2/groupl33/block0/gcb/channel_add_layernorm/gamma:0  [64]                   64  /replica:0/task:0/device:GPU:1\n",
      "classify_2/groupl33/block0/gcb/channel_add_conv_2/W:0         [1, 1, 64, 512]     32768  /replica:0/task:0/device:GPU:1\n",
      "classify_2/conv_straight13/W:0                                [3, 3, 128, 128]   147456  /replica:0/task:0/device:GPU:1\n",
      "classify_2/conv_straight13/bn/gamma:0                         [128]                 128  /replica:0/task:0/device:GPU:0\n",
      "classify_2/conv_straight13/bn/beta:0                          [128]                 128  /replica:0/task:0/device:GPU:0\n",
      "classify_2/com_141/conv_up/W:0                                [1, 1, 256, 128]    32768  /replica:0/task:0/device:GPU:0\n",
      "classify_2/com_141/conv_up/bn/gamma:0                         [128]                 128  /replica:0/task:0/device:GPU:0\n",
      "classify_2/com_141/conv_up/bn/beta:0                          [128]                 128  /replica:0/task:0/device:GPU:0\n",
      "classify_2/com_142/conv_up/W:0                                [1, 1, 512, 128]    65536  /replica:0/task:0/device:GPU:0\n",
      "classify_2/com_142/conv_up/bn/gamma:0                         [128]                 128  /replica:0/task:0/device:GPU:1\n",
      "classify_2/com_142/conv_up/bn/beta:0                          [128]                 128  /replica:0/task:0/device:GPU:1\n",
      "classify_2/conv_straight23/W:0                                [3, 3, 256, 256]   589824  /replica:0/task:0/device:GPU:1\n",
      "classify_2/conv_straight23/bn/gamma:0                         [256]                 256  /replica:0/task:0/device:GPU:0\n",
      "classify_2/conv_straight23/bn/beta:0                          [256]                 256  /replica:0/task:0/device:GPU:0\n",
      "classify_2/conv_down13/W:0                                    [3, 3, 128, 256]   294912  /replica:0/task:0/device:GPU:0\n",
      "classify_2/conv_down13/bn/gamma:0                             [256]                 256  /replica:0/task:0/device:GPU:0\n",
      "classify_2/conv_down13/bn/beta:0                              [256]                 256  /replica:0/task:0/device:GPU:0\n",
      "classify_2/com_24/conv_up/W:0                                 [1, 1, 512, 256]   131072  /replica:0/task:0/device:GPU:0\n",
      "classify_2/com_24/conv_up/bn/gamma:0                          [256]                 256  /replica:0/task:0/device:GPU:0\n",
      "classify_2/com_24/conv_up/bn/beta:0                           [256]                 256  /replica:0/task:0/device:GPU:0\n",
      "classify_2/conv_straight33/W:0                                [3, 3, 512, 512]  2359296  /replica:0/task:0/device:GPU:0\n",
      "classify_2/conv_straight33/bn/gamma:0                         [512]                 512  /replica:0/task:0/device:GPU:1\n",
      "classify_2/conv_straight33/bn/beta:0                          [512]                 512  /replica:0/task:0/device:GPU:1\n",
      "classify_2/conv_downdown13/W:0                                [3, 3, 256, 512]  1179648  /replica:0/task:0/device:GPU:1\n",
      "classify_2/conv_downdown13/bn/gamma:0                         [512]                 512  /replica:0/task:0/device:GPU:1\n",
      "classify_2/conv_downdown13/bn/beta:0                          [512]                 512  /replica:0/task:0/device:GPU:1\n",
      "classify_2/conv_down23/W:0                                    [3, 3, 256, 512]  1179648  /replica:0/task:0/device:GPU:1\n",
      "classify_2/conv_down23/bn/gamma:0                             [512]                 512  /replica:0/task:0/device:GPU:0\n",
      "classify_2/conv_down23/bn/beta:0                              [512]                 512  /replica:0/task:0/device:GPU:0\n",
      "head_fusion_classify_2/conv_mix/W:0                           [1, 1, 896, 256]   229376  /replica:0/task:0/device:GPU:0\n",
      "head_fusion_classify_2/conv_mix/bn/gamma:0                    [256]                 256  /replica:0/task:0/device:GPU:1\n",
      "head_fusion_classify_2/conv_mix/bn/beta:0                     [256]                 256  /replica:0/task:0/device:GPU:1\n",
      "classify_2/conv_out/W:0                                       [1, 1, 256, 4]       1024  /replica:0/task:0/device:GPU:1\n",
      "classify_2/conv_out/b:0                                       [4]                     4  /replica:0/task:0/device:GPU:1\n",
      "conv_out_type/W:0                                             [1, 1, 8, 5]           40  /replica:0/task:0/device:GPU:1\n",
      "conv_out_type/b:0                                             [5]                     5  /replica:0/task:0/device:GPU:1\n",
      "u3b/conv_1/W:0                                                [3, 3, 768, 256]  1769472  /replica:0/task:0/device:GPU:1\n",
      "u3b/conv_1/bn/gamma:0                                         [256]                 256  /replica:0/task:0/device:GPU:0\n",
      "u3b/conv_1/bn/beta:0                                          [256]                 256  /replica:0/task:0/device:GPU:0\n",
      "u3b/conv_2/W:0                                                [3, 3, 256, 256]   589824  /replica:0/task:0/device:GPU:0\n",
      "u3b/conv_2/bn/gamma:0                                         [256]                 256  /replica:0/task:0/device:GPU:0\n",
      "u3b/conv_2/bn/beta:0                                          [256]                 256  /replica:0/task:0/device:GPU:0\n",
      "u2b/conv_1/W:0                                                [3, 3, 384, 128]   442368  /replica:0/task:0/device:GPU:0\n",
      "u2b/conv_1/bn/gamma:0                                         [128]                 128  /replica:0/task:0/device:GPU:0\n",
      "u2b/conv_1/bn/beta:0                                          [128]                 128  /replica:0/task:0/device:GPU:0\n",
      "u2b/conv_2/W:0                                                [3, 3, 128, 128]   147456  /replica:0/task:0/device:GPU:0\n",
      "u2b/conv_2/bn/gamma:0                                         [128]                 128  /replica:0/task:0/device:GPU:0\n",
      "u2b/conv_2/bn/beta:0                                          [128]                 128  /replica:0/task:0/device:GPU:0\n",
      "u1b/conv_1/W:0                                                [3, 3, 192, 64]    110592  /replica:0/task:0/device:GPU:0\n",
      "u1b/conv_1/bn/gamma:0                                         [64]                   64  /replica:0/task:0/device:GPU:0\n",
      "u1b/conv_1/bn/beta:0                                          [64]                   64  /replica:0/task:0/device:GPU:0\n",
      "u1b/conv_2/W:0                                                [3, 3, 64, 64]      36864  /replica:0/task:0/device:GPU:0\n",
      "u1b/conv_2/bn/gamma:0                                         [64]                   64  /replica:0/task:0/device:GPU:0\n",
      "u1b/conv_2/bn/beta:0                                          [64]                   64  /replica:0/task:0/device:GPU:0\n",
      "conv_out_b/W:0                                                [1, 1, 64, 2]         128  /replica:0/task:0/device:GPU:0\n",
      "conv_out_b/b:0                                                [2]                     2  /replica:0/task:0/device:GPU:0\n",
      "d1r/conv_1/W:0                                                [3, 3, 2, 64]        1152  /replica:0/task:0/device:GPU:0\n",
      "d1r/conv_1/bn/gamma:0                                         [64]                   64  /replica:0/task:0/device:GPU:0\n",
      "d1r/conv_1/bn/beta:0                                          [64]                   64  /replica:0/task:0/device:GPU:0\n",
      "d1r/conv_2/W:0                                                [3, 3, 64, 64]      36864  /replica:0/task:0/device:GPU:0\n",
      "d1r/conv_2/bn/gamma:0                                         [64]                   64  /replica:0/task:0/device:GPU:0\n",
      "d1r/conv_2/bn/beta:0                                          [64]                   64  /replica:0/task:0/device:GPU:0\n",
      "d2r/conv_1/W:0                                                [3, 3, 64, 128]     73728  /replica:0/task:0/device:GPU:0\n",
      "d2r/conv_1/bn/gamma:0                                         [128]                 128  /replica:0/task:0/device:GPU:0\n",
      "d2r/conv_1/bn/beta:0                                          [128]                 128  /replica:0/task:0/device:GPU:0\n",
      "d2r/conv_2/W:0                                                [3, 3, 128, 128]   147456  /replica:0/task:0/device:GPU:0\n",
      "d2r/conv_2/bn/gamma:0                                         [128]                 128  /replica:0/task:0/device:GPU:0\n",
      "d2r/conv_2/bn/beta:0                                          [128]                 128  /replica:0/task:0/device:GPU:0\n",
      "d3r/conv_1/W:0                                                [3, 3, 128, 256]   294912  /replica:0/task:0/device:GPU:0\n",
      "d3r/conv_1/bn/gamma:0                                         [256]                 256  /replica:0/task:0/device:GPU:1\n",
      "d3r/conv_1/bn/beta:0                                          [256]                 256  /replica:0/task:0/device:GPU:1\n",
      "d3r/conv_2/W:0                                                [3, 3, 256, 256]   589824  /replica:0/task:0/device:GPU:1\n",
      "d3r/conv_2/bn/gamma:0                                         [256]                 256  /replica:0/task:0/device:GPU:0\n",
      "d3r/conv_2/bn/beta:0                                          [256]                 256  /replica:0/task:0/device:GPU:0\n",
      "u2r/conv_1/W:0                                                [3, 3, 384, 128]   442368  /replica:0/task:0/device:GPU:0\n",
      "u2r/conv_1/bn/gamma:0                                         [128]                 128  /replica:0/task:0/device:GPU:1\n",
      "u2r/conv_1/bn/beta:0                                          [128]                 128  /replica:0/task:0/device:GPU:1\n",
      "u2r/conv_2/W:0                                                [3, 3, 128, 128]   147456  /replica:0/task:0/device:GPU:1\n",
      "u2r/conv_2/bn/gamma:0                                         [128]                 128  /replica:0/task:0/device:GPU:0\n",
      "u2r/conv_2/bn/beta:0                                          [128]                 128  /replica:0/task:0/device:GPU:0\n",
      "u1r/conv_1/W:0                                                [3, 3, 192, 64]    110592  /replica:0/task:0/device:GPU:0\n",
      "u1r/conv_1/bn/gamma:0                                         [64]                   64  /replica:0/task:0/device:GPU:0\n",
      "u1r/conv_1/bn/beta:0                                          [64]                   64  /replica:0/task:0/device:GPU:0\n",
      "u1r/conv_2/W:0                                                [3, 3, 64, 64]      36864  /replica:0/task:0/device:GPU:0\n",
      "u1r/conv_2/bn/gamma:0                                         [64]                   64  /replica:0/task:0/device:GPU:1\n",
      "u1r/conv_2/bn/beta:0                                          [64]                   64  /replica:0/task:0/device:GPU:1\n",
      "conv_out_r/W:0                                                [1, 1, 64, 1]          64  /replica:0/task:0/device:GPU:1\n",
      "conv_out_r/b:0                                                [1]                     1  /replica:0/task:0/device:GPU:1\n",
      "param1:0                                                      [1]                     1  /replica:0/task:0/device:GPU:1\n",
      "param2:0                                                      [1]                     1  /replica:0/task:0/device:GPU:1\n",
      "param3:0                                                      [1]                     1  /replica:0/task:0/device:GPU:1\n",
      "param4:0                                                      [1]                     1  /replica:0/task:0/device:GPU:1\n",
      "param5:0                                                      [1]                     1  /replica:0/task:0/device:GPU:1\u001b[36m\n",
      "Total #vars=567, #params=65764141, size=250.87MB\u001b[0m\n"
     ]
    },
    {
     "name": "stdout",
     "output_type": "stream",
     "text": [
      "\u001b[32m[0618 16:26:09 @base.py:209]\u001b[0m Setup callbacks graph ...\n",
      "\u001b[32m[0618 16:26:13 @input_source.py:220]\u001b[0m Setting up the queue 'DataParallelInferenceRunner/QueueInput/input_queue' for CPU prefetching ...\n",
      "\u001b[32m[0618 16:26:13 @inference_runner.py:238]\u001b[0m [InferenceRunner] Building tower 'InferenceTower0' on device /gpu:0 ...\n",
      "\u001b[32m[0618 16:26:13 @develop.py:96]\u001b[0m \u001b[5m\u001b[31mWRN\u001b[0m [Deprecated] ModelDescBase._build_graph() interface will be deprecated after 30 Mar. Use build_graph() instead!\n",
      "\u001b[32m[0618 16:26:20 @inference_runner.py:238]\u001b[0m [InferenceRunner] Building tower 'InferenceTower1' on device /gpu:1 ...\n",
      "\u001b[32m[0618 16:26:20 @develop.py:96]\u001b[0m \u001b[5m\u001b[31mWRN\u001b[0m [Deprecated] ModelDescBase._build_graph() interface will be deprecated after 30 Mar. Use build_graph() instead!\n",
      "\u001b[32m[0618 16:26:32 @summary.py:38]\u001b[0m Maintain moving average summary of 9 tensors in collection MOVING_SUMMARY_OPS.\n",
      "\u001b[32m[0618 16:26:32 @summary.py:75]\u001b[0m Summarizing collection 'summaries' of size 241.\n",
      "\u001b[32m[0618 16:26:32 @graph.py:91]\u001b[0m Applying collection UPDATE_OPS of 268 ops.\n",
      "\u001b[32m[0618 16:26:44 @sessinit.py:137]\u001b[0m Variable learning_rate:0 in the graph will not be loaded from the checkpoint!\n",
      "\u001b[32m[0618 16:26:44 @sessinit.py:90]\u001b[0m \u001b[5m\u001b[31mWRN\u001b[0m The following variables are in the checkpoint, but not found in the graph: learning_rate:0\n",
      "\u001b[32m[0618 16:26:46 @base.py:227]\u001b[0m Creating the session ...\n",
      "\u001b[32m[0618 16:27:06 @base.py:233]\u001b[0m Initializing the session ...\n",
      "\u001b[32m[0618 16:27:06 @sessinit.py:117]\u001b[0m Restoring checkpoint from ./logs//High_CCRCC//hcnet_test/00/model-17500 ...\n",
      "INFO:tensorflow:Restoring parameters from ./logs//High_CCRCC//hcnet_test/00/model-17500\n",
      "\u001b[32m[0618 16:27:08 @base.py:240]\u001b[0m Graph Finalized.\n",
      "\u001b[32m[0618 16:27:09 @concurrency.py:37]\u001b[0m Starting EnqueueThread QueueInput/input_queue ...\n",
      "\u001b[32m[0618 16:27:09 @steps.py:126]\u001b[0m Start training with global_step=17500\n",
      "\u001b[32m[0618 16:27:17 @concurrency.py:37]\u001b[0m Starting EnqueueThread DataParallelInferenceRunner/QueueInput/input_queue ...\n",
      "\u001b[32m[0618 16:27:17 @inference_runner.py:101]\u001b[0m [InferenceRunner] Will eval 67 iterations\n",
      "\u001b[32m[0618 16:27:17 @base.py:272]\u001b[0m Start Epoch 1 ...\n"
     ]
    },
    {
     "name": "stderr",
     "output_type": "stream",
     "text": [
      "\r",
      "  0%|          |0/466[00:00<?,?it/s]"
     ]
    },
    {
     "name": "stdout",
     "output_type": "stream",
     "text": [
      "\u001b[32m[0618 16:27:17 @input_source.py:551]\u001b[0m Pre-filling StagingArea ...\n",
      "\u001b[32m[0618 16:27:18 @input_source.py:555]\u001b[0m 1 element was put into StagingArea on each tower.\n"
     ]
    },
    {
     "name": "stderr",
     "output_type": "stream",
     "text": [
      "100%|##########|466/466[06:22<00:00, 1.22it/s]"
     ]
    },
    {
     "name": "stdout",
     "output_type": "stream",
     "text": [
      "\u001b[32m[0618 16:33:40 @base.py:282]\u001b[0m Epoch 1 (global_step 17966) finished, time:6 minutes 22 seconds.\n"
     ]
    },
    {
     "name": "stderr",
     "output_type": "stream",
     "text": [
      "\n"
     ]
    },
    {
     "name": "stdout",
     "output_type": "stream",
     "text": [
      "\u001b[32m[0618 16:33:42 @saver.py:77]\u001b[0m Model saved to ./logs//High_CCRCC//hcnet_test/01/model-17966.\n"
     ]
    },
    {
     "name": "stderr",
     "output_type": "stream",
     "text": [
      "100%|##########|67/67[00:34<00:00, 1.93it/s]\n"
     ]
    },
    {
     "name": "stdout",
     "output_type": "stream",
     "text": [
      "\u001b[32m[0618 16:34:25 @saver.py:159]\u001b[0m Model at global_step=17966 with maximum valid_dice=0.85336 saved.\n",
      "\u001b[32m[0618 16:34:25 @monitor.py:459]\u001b[0m DataParallelInferenceRunner/QueueInput/queue_size: 50\n",
      "\u001b[32m[0618 16:34:25 @monitor.py:459]\u001b[0m QueueInput/queue_size: 49.428\n",
      "\u001b[32m[0618 16:34:25 @monitor.py:459]\u001b[0m learning_rate: 0.0001\n",
      "\u001b[32m[0618 16:34:25 @monitor.py:459]\u001b[0m loss-bce: 0.060226\n",
      "\u001b[32m[0618 16:34:25 @monitor.py:459]\u001b[0m loss-ce: 0.10548\n",
      "\u001b[32m[0618 16:34:25 @monitor.py:459]\u001b[0m loss-ce-12v3: 0.086998\n",
      "\u001b[32m[0618 16:34:25 @monitor.py:459]\u001b[0m loss-ce-1v23: 0.096159\n",
      "\u001b[32m[0618 16:34:25 @monitor.py:459]\u001b[0m loss-dice: 2.4141\n",
      "\u001b[32m[0618 16:34:25 @monitor.py:459]\u001b[0m loss-dice-12v3: 1.6344\n",
      "\u001b[32m[0618 16:34:25 @monitor.py:459]\u001b[0m loss-dice-1v23: 1.4932\n",
      "\u001b[32m[0618 16:34:25 @monitor.py:459]\u001b[0m loss-dice-binary: 0.23913\n",
      "\u001b[32m[0618 16:34:25 @monitor.py:459]\u001b[0m loss-reg-mae: 0.013613\n",
      "\u001b[32m[0618 16:34:25 @monitor.py:459]\u001b[0m valid_acc: 0.97546\n",
      "\u001b[32m[0618 16:34:25 @monitor.py:459]\u001b[0m valid_dice: 0.85336\n",
      "\u001b[32m[0618 16:34:25 @monitor.py:459]\u001b[0m valid_dice_Endothelium: 0.60424\n",
      "\u001b[32m[0618 16:34:25 @monitor.py:459]\u001b[0m valid_dice_Grade1: 0.74078\n",
      "\u001b[32m[0618 16:34:25 @monitor.py:459]\u001b[0m valid_dice_Grade2: 0.37294\n",
      "\u001b[32m[0618 16:34:25 @monitor.py:459]\u001b[0m valid_dice_Grade3: 0.68581\n",
      "\u001b[32m[0618 16:34:25 @monitor.py:459]\u001b[0m valid_mae: 0.038836\n",
      "\u001b[32m[0618 16:34:25 @monitor.py:459]\u001b[0m valid_mean_dice: 0.60094\n",
      "\u001b[32m[0618 16:34:25 @monitor.py:459]\u001b[0m valid_ssim: 1.5484\n",
      "\u001b[32m[0618 16:34:25 @group.py:48]\u001b[0m Callbacks took 45.020 sec in total. DataParallelInferenceRunner: 42.1 seconds\n",
      "\u001b[32m[0618 16:34:25 @base.py:272]\u001b[0m Start Epoch 2 ...\n"
     ]
    },
    {
     "name": "stderr",
     "output_type": "stream",
     "text": [
      "100%|##########|466/466[05:00<00:00, 1.55it/s]"
     ]
    },
    {
     "name": "stdout",
     "output_type": "stream",
     "text": [
      "\u001b[32m[0618 16:39:26 @base.py:282]\u001b[0m Epoch 2 (global_step 18432) finished, time:5 minutes.\n"
     ]
    },
    {
     "name": "stderr",
     "output_type": "stream",
     "text": [
      "\n"
     ]
    },
    {
     "name": "stdout",
     "output_type": "stream",
     "text": [
      "\u001b[32m[0618 16:39:27 @saver.py:77]\u001b[0m Model saved to ./logs//High_CCRCC//hcnet_test/01/model-18432.\n"
     ]
    },
    {
     "name": "stderr",
     "output_type": "stream",
     "text": [
      "100%|##########|67/67[00:15<00:00, 4.39it/s]\n"
     ]
    },
    {
     "name": "stdout",
     "output_type": "stream",
     "text": [
      "\u001b[32m[0618 16:39:50 @saver.py:159]\u001b[0m Model at global_step=18432 with maximum valid_dice=0.85389 saved.\n",
      "\u001b[32m[0618 16:39:50 @monitor.py:459]\u001b[0m DataParallelInferenceRunner/QueueInput/queue_size: 49.949\n",
      "\u001b[32m[0618 16:39:50 @monitor.py:459]\u001b[0m QueueInput/queue_size: 49.209\n",
      "\u001b[32m[0618 16:39:50 @monitor.py:459]\u001b[0m learning_rate: 0.0001\n",
      "\u001b[32m[0618 16:39:50 @monitor.py:459]\u001b[0m loss-bce: 0.058066\n",
      "\u001b[32m[0618 16:39:50 @monitor.py:459]\u001b[0m loss-ce: 0.10684\n",
      "\u001b[32m[0618 16:39:50 @monitor.py:459]\u001b[0m loss-ce-12v3: 0.088001\n",
      "\u001b[32m[0618 16:39:50 @monitor.py:459]\u001b[0m loss-ce-1v23: 0.098687\n",
      "\u001b[32m[0618 16:39:50 @monitor.py:459]\u001b[0m loss-dice: 2.4399\n",
      "\u001b[32m[0618 16:39:50 @monitor.py:459]\u001b[0m loss-dice-12v3: 1.6116\n",
      "\u001b[32m[0618 16:39:50 @monitor.py:459]\u001b[0m loss-dice-1v23: 1.5296\n",
      "\u001b[32m[0618 16:39:50 @monitor.py:459]\u001b[0m loss-dice-binary: 0.23767\n",
      "\u001b[32m[0618 16:39:50 @monitor.py:459]\u001b[0m loss-reg-mae: 0.01401\n",
      "\u001b[32m[0618 16:39:50 @monitor.py:459]\u001b[0m valid_acc: 0.97589\n",
      "\u001b[32m[0618 16:39:50 @monitor.py:459]\u001b[0m valid_dice: 0.85389\n",
      "\u001b[32m[0618 16:39:50 @monitor.py:459]\u001b[0m valid_dice_Endothelium: 0.5862\n",
      "\u001b[32m[0618 16:39:50 @monitor.py:459]\u001b[0m valid_dice_Grade1: 0.7443\n",
      "\u001b[32m[0618 16:39:50 @monitor.py:459]\u001b[0m valid_dice_Grade2: 0.37412\n",
      "\u001b[32m[0618 16:39:50 @monitor.py:459]\u001b[0m valid_dice_Grade3: 0.70628\n",
      "\u001b[32m[0618 16:39:50 @monitor.py:459]\u001b[0m valid_mae: 0.038576\n",
      "\u001b[32m[0618 16:39:50 @monitor.py:459]\u001b[0m valid_mean_dice: 0.60272\n",
      "\u001b[32m[0618 16:39:50 @monitor.py:459]\u001b[0m valid_ssim: 1.558\n",
      "\u001b[32m[0618 16:39:50 @group.py:48]\u001b[0m Callbacks took 24.102 sec in total. DataParallelInferenceRunner: 22.5 seconds\n",
      "\u001b[32m[0618 16:39:50 @base.py:272]\u001b[0m Start Epoch 3 ...\n"
     ]
    },
    {
     "name": "stderr",
     "output_type": "stream",
     "text": [
      "100%|##########|466/466[05:00<00:00, 1.55it/s]"
     ]
    },
    {
     "name": "stdout",
     "output_type": "stream",
     "text": [
      "\u001b[32m[0618 16:44:51 @base.py:282]\u001b[0m Epoch 3 (global_step 18898) finished, time:5 minutes.\n"
     ]
    },
    {
     "name": "stderr",
     "output_type": "stream",
     "text": [
      "\n"
     ]
    },
    {
     "name": "stdout",
     "output_type": "stream",
     "text": [
      "\u001b[32m[0618 16:44:52 @saver.py:77]\u001b[0m Model saved to ./logs//High_CCRCC//hcnet_test/01/model-18898.\n"
     ]
    },
    {
     "name": "stderr",
     "output_type": "stream",
     "text": [
      "100%|##########|67/67[00:15<00:00, 4.37it/s]\n"
     ]
    },
    {
     "name": "stdout",
     "output_type": "stream",
     "text": [
      "\u001b[32m[0618 16:45:17 @saver.py:159]\u001b[0m Model at global_step=18898 with maximum valid_dice=0.86302 saved.\n",
      "\u001b[32m[0618 16:45:17 @monitor.py:459]\u001b[0m DataParallelInferenceRunner/QueueInput/queue_size: 49.996\n",
      "\u001b[32m[0618 16:45:17 @monitor.py:459]\u001b[0m QueueInput/queue_size: 49.951\n",
      "\u001b[32m[0618 16:45:17 @monitor.py:459]\u001b[0m learning_rate: 0.0001\n",
      "\u001b[32m[0618 16:45:17 @monitor.py:459]\u001b[0m loss-bce: 0.056701\n",
      "\u001b[32m[0618 16:45:17 @monitor.py:459]\u001b[0m loss-ce: 0.10297\n",
      "\u001b[32m[0618 16:45:17 @monitor.py:459]\u001b[0m loss-ce-12v3: 0.084715\n",
      "\u001b[32m[0618 16:45:17 @monitor.py:459]\u001b[0m loss-ce-1v23: 0.094971\n",
      "\u001b[32m[0618 16:45:17 @monitor.py:459]\u001b[0m loss-dice: 2.5202\n",
      "\u001b[32m[0618 16:45:17 @monitor.py:459]\u001b[0m loss-dice-12v3: 1.7094\n",
      "\u001b[32m[0618 16:45:17 @monitor.py:459]\u001b[0m loss-dice-1v23: 1.5363\n",
      "\u001b[32m[0618 16:45:17 @monitor.py:459]\u001b[0m loss-dice-binary: 0.22487\n",
      "\u001b[32m[0618 16:45:17 @monitor.py:459]\u001b[0m loss-reg-mae: 0.013636\n",
      "\u001b[32m[0618 16:45:17 @monitor.py:459]\u001b[0m valid_acc: 0.97664\n",
      "\u001b[32m[0618 16:45:17 @monitor.py:459]\u001b[0m valid_dice: 0.86302\n",
      "\u001b[32m[0618 16:45:17 @monitor.py:459]\u001b[0m valid_dice_Endothelium: 0.62016\n",
      "\u001b[32m[0618 16:45:17 @monitor.py:459]\u001b[0m valid_dice_Grade1: 0.75427\n",
      "\u001b[32m[0618 16:45:17 @monitor.py:459]\u001b[0m valid_dice_Grade2: 0.42771\n",
      "\u001b[32m[0618 16:45:17 @monitor.py:459]\u001b[0m valid_dice_Grade3: 0.70003\n",
      "\u001b[32m[0618 16:45:17 @monitor.py:459]\u001b[0m valid_mae: 0.042728\n",
      "\u001b[32m[0618 16:45:17 @monitor.py:459]\u001b[0m valid_mean_dice: 0.62554\n",
      "\u001b[32m[0618 16:45:17 @monitor.py:459]\u001b[0m valid_ssim: 1.546\n",
      "\u001b[32m[0618 16:45:17 @group.py:48]\u001b[0m Callbacks took 26.405 sec in total. DataParallelInferenceRunner: 24.7 seconds\n",
      "\u001b[32m[0618 16:45:17 @base.py:272]\u001b[0m Start Epoch 4 ...\n"
     ]
    },
    {
     "name": "stderr",
     "output_type": "stream",
     "text": [
      " 71%|#######   |329/466[03:31<01:28, 1.55it/s]"
     ]
    }
   ],
   "source": [
    "trainer = Trainer()\n",
    "gpus = \"2,4\"\n",
    "os.environ['CUDA_VISIBLE_DEVICES'] = gpus\n",
    "nr_gpus = len(gpus.split(','))\n",
    "trainer.run(nr_gpus)"
   ]
  },
  {
   "cell_type": "code",
   "execution_count": null,
   "metadata": {},
   "outputs": [],
   "source": []
  }
 ],
 "metadata": {
  "kernelspec": {
   "display_name": "Python [conda env:.conda-hovernet] *",
   "language": "python",
   "name": "conda-env-.conda-hovernet-py"
  },
  "language_info": {
   "codemirror_mode": {
    "name": "ipython",
    "version": 3
   },
   "file_extension": ".py",
   "mimetype": "text/x-python",
   "name": "python",
   "nbconvert_exporter": "python",
   "pygments_lexer": "ipython3",
   "version": "3.6.10"
  }
 },
 "nbformat": 4,
 "nbformat_minor": 4
}
