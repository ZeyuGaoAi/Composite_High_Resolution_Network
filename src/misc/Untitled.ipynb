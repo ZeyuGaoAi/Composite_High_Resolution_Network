{
 "cells": [
  {
   "cell_type": "code",
   "execution_count": 1,
   "metadata": {},
   "outputs": [],
   "source": [
    "import math\n",
    "import time\n",
    "\n",
    "import cv2\n",
    "import matplotlib.pyplot as plt\n",
    "import numpy as np\n",
    "\n",
    "from utils import cropping_center"
   ]
  },
  {
   "cell_type": "code",
   "execution_count": 2,
   "metadata": {},
   "outputs": [],
   "source": [
    "class PatchExtractor(object):\n",
    "    \"\"\"\n",
    "    Extractor to generate patches with or without padding.\n",
    "    Turn on debug mode to see how it is done.\n",
    "\n",
    "    Args:\n",
    "        x         : input image, should be of shape HWC\n",
    "        win_size  : a tuple of (h, w)\n",
    "        step_size : a tuple of (h, w)\n",
    "        debug     : flag to see how it is done\n",
    "    Return:\n",
    "        a list of sub patches, each patch has dtype same as x\n",
    "\n",
    "    Examples:\n",
    "        >>> xtractor = PatchExtractor((450, 450), (120, 120))\n",
    "        >>> img = np.full([1200, 1200, 3], 255, np.uint8)\n",
    "        >>> patches = xtractor.extract(img, 'mirror')\n",
    "    \"\"\"\n",
    "    def __init__(self, win_size, step_size, debug=False):\n",
    "\n",
    "        self.patch_type = 'mirror'\n",
    "        self.win_size  = win_size\n",
    "        self.step_size = step_size\n",
    "        self.debug   = debug\n",
    "        self.counter = 0\n",
    "\n",
    "    def __get_patch(self, x, ptx):\n",
    "        pty = (ptx[0]+self.win_size[0],\n",
    "               ptx[1]+self.win_size[1])\n",
    "        win = x[ptx[0]:pty[0], \n",
    "                ptx[1]:pty[1]]\n",
    "        assert win.shape[0] == self.win_size[0] and \\\n",
    "               win.shape[1] == self.win_size[1],    \\\n",
    "               '[BUG] Incorrect Patch Size {0}'.format(win.shape)\n",
    "        if self.debug:\n",
    "            if self.patch_type == 'mirror':\n",
    "                cen = cropping_center(win, self.step_size)\n",
    "                cen = cen[...,self.counter % 3]\n",
    "                cen.fill(150)\n",
    "            cv2.rectangle(x,ptx,pty,(255,0,0),2)  \n",
    "            plt.imshow(x)\n",
    "            plt.show(block=False)\n",
    "            plt.pause(1)\n",
    "            plt.close()\n",
    "            self.counter += 1\n",
    "        return win\n",
    "    \n",
    "    def __extract_valid(self, x):\n",
    "        \"\"\"\n",
    "        Extracted patches without padding, only work in case win_size > step_size\n",
    "        \n",
    "        Note: to deal with the remaining portions which are at the boundary a.k.a\n",
    "        those which do not fit when slide left->right, top->bottom), we flip \n",
    "        the sliding direction then extract 1 patch starting from right / bottom edge. \n",
    "        There will be 1 additional patch extracted at the bottom-right corner\n",
    "\n",
    "        Args:\n",
    "            x         : input image, should be of shape HWC\n",
    "            win_size  : a tuple of (h, w)\n",
    "            step_size : a tuple of (h, w)\n",
    "        Return:\n",
    "            a list of sub patches, each patch is same dtype as x\n",
    "        \"\"\"\n",
    "\n",
    "        im_h = x.shape[0] \n",
    "        im_w = x.shape[1]\n",
    "\n",
    "        def extract_infos(length, win_size, step_size):\n",
    "            flag = (length - win_size) % step_size != 0\n",
    "            last_step = math.floor((length - win_size) / step_size)\n",
    "            last_step = (last_step + 1) * step_size\n",
    "            return flag, last_step\n",
    "\n",
    "        h_flag, h_last = extract_infos(im_h, self.win_size[0], self.step_size[0])\n",
    "        w_flag, w_last = extract_infos(im_w, self.win_size[1], self.step_size[1])    \n",
    "\n",
    "        sub_patches = []\n",
    "        #### Deal with valid block\n",
    "        for row in range(0, h_last, self.step_size[0]):\n",
    "            for col in range(0, w_last, self.step_size[1]):\n",
    "                win = self.__get_patch(x, (row, col))\n",
    "                sub_patches.append(win)  \n",
    "        #### Deal with edge case\n",
    "        if h_flag:\n",
    "            row = im_h - self.win_size[0]\n",
    "            for col in range(0, w_last, self.step_size[1]):\n",
    "                win = self.__get_patch(x, (row, col))\n",
    "                sub_patches.append(win)  \n",
    "        if w_flag:\n",
    "            col = im_w - self.win_size[1]\n",
    "            for row in range(0, h_last, self.step_size[0]):\n",
    "                win = self.__get_patch(x, (row, col))\n",
    "                sub_patches.append(win)  \n",
    "        if h_flag and w_flag:\n",
    "            ptx = (im_h - self.win_size[0], im_w - self.win_size[1])\n",
    "            win = self.__get_patch(x, ptx)\n",
    "            sub_patches.append(win)  \n",
    "        return sub_patches\n",
    "    \n",
    "    def __extract_mirror(self, x):\n",
    "        \"\"\"\n",
    "        Extracted patches with mirror padding the boundary such that the \n",
    "        central region of each patch is always within the orginal (non-padded)\n",
    "        image while all patches' central region cover the whole orginal image\n",
    "\n",
    "        Args:\n",
    "            x         : input image, should be of shape HWC\n",
    "            win_size  : a tuple of (h, w)\n",
    "            step_size : a tuple of (h, w)\n",
    "        Return:\n",
    "            a list of sub patches, each patch is same dtype as x\n",
    "        \"\"\"\n",
    "\n",
    "        diff_h = self.win_size[0] - self.step_size[0]\n",
    "        padt = diff_h // 2\n",
    "        padb = diff_h - padt\n",
    "\n",
    "        diff_w = self.win_size[1] - self.step_size[1]\n",
    "        padl = diff_w // 2\n",
    "        padr = diff_w - padl\n",
    "\n",
    "        pad_type = 'constant' if self.debug else 'reflect'\n",
    "        x = np.lib.pad(x, ((padt, padb), (padl, padr), (0, 0)), pad_type)\n",
    "        sub_patches = self.__extract_valid(x)\n",
    "        return sub_patches\n",
    "\n",
    "    def extract(self, x, patch_type):\n",
    "        patch_type = patch_type.lower()\n",
    "        self.patch_type = patch_type\n",
    "        if patch_type == 'valid':\n",
    "            return self.__extract_valid(x)\n",
    "        elif patch_type == 'mirror':\n",
    "            return self.__extract_mirror(x)\n",
    "        else:\n",
    "            assert False, 'Unknown Patch Type [%s]' % patch_type\n",
    "        return"
   ]
  },
  {
   "cell_type": "code",
   "execution_count": 3,
   "metadata": {},
   "outputs": [
    {
     "data": {
      "image/png": "[encoded data removed]",
      "text/plain": [
       "<Figure size 432x288 with 1 Axes>"
      ]
     },
     "metadata": {
      "needs_background": "light"
     },
     "output_type": "display_data"
    },
    {
     "data": {
      "image/png": "[encoded data removed]",
      "text/plain": [
       "<Figure size 432x288 with 1 Axes>"
      ]
     },
     "metadata": {
      "needs_background": "light"
     },
     "output_type": "display_data"
    },
    {
     "data": {
      "image/png": "[encoded data removed]",
      "text/plain": [
       "<Figure size 432x288 with 1 Axes>"
      ]
     },
     "metadata": {
      "needs_background": "light"
     },
     "output_type": "display_data"
    },
    {
     "data": {
      "image/png": "[encoded data removed]",
      "text/plain": [
       "<Figure size 432x288 with 1 Axes>"
      ]
     },
     "metadata": {
      "needs_background": "light"
     },
     "output_type": "display_data"
    },
    {
     "data": {
      "image/png": "[encoded data removed]",
      "text/plain": [
       "<Figure size 432x288 with 1 Axes>"
      ]
     },
     "metadata": {
      "needs_background": "light"
     },
     "output_type": "display_data"
    },
    {
     "data": {
      "image/png": "[encoded data removed]",
      "text/plain": [
       "<Figure size 432x288 with 1 Axes>"
      ]
     },
     "metadata": {
      "needs_background": "light"
     },
     "output_type": "display_data"
    },
    {
     "data": {
      "image/png": "[encoded data removed]",
      "text/plain": [
       "<Figure size 432x288 with 1 Axes>"
      ]
     },
     "metadata": {
      "needs_background": "light"
     },
     "output_type": "display_data"
    },
    {
     "data": {
      "image/png": "[encoded data removed]",
      "text/plain": [
       "<Figure size 432x288 with 1 Axes>"
      ]
     },
     "metadata": {
      "needs_background": "light"
     },
     "output_type": "display_data"
    },
    {
     "data": {
      "image/png": "[encoded data removed]",
      "text/plain": [
       "<Figure size 432x288 with 1 Axes>"
      ]
     },
     "metadata": {
      "needs_background": "light"
     },
     "output_type": "display_data"
    },
    {
     "data": {
      "image/png": "[encoded data removed]",
      "text/plain": [
       "<Figure size 432x288 with 1 Axes>"
      ]
     },
     "metadata": {
      "needs_background": "light"
     },
     "output_type": "display_data"
    },
    {
     "data": {
      "image/png": "[encoded data removed]",
      "text/plain": [
       "<Figure size 432x288 with 1 Axes>"
      ]
     },
     "metadata": {
      "needs_background": "light"
     },
     "output_type": "display_data"
    },
    {
     "data": {
      "image/png": "[encoded data removed]",
      "text/plain": [
       "<Figure size 432x288 with 1 Axes>"
      ]
     },
     "metadata": {
      "needs_background": "light"
     },
     "output_type": "display_data"
    },
    {
     "data": {
      "image/png": "[encoded data removed]",
      "text/plain": [
       "<Figure size 432x288 with 1 Axes>"
      ]
     },
     "metadata": {
      "needs_background": "light"
     },
     "output_type": "display_data"
    },
    {
     "data": {
      "image/png": "[encoded data removed]",
      "text/plain": [
       "<Figure size 432x288 with 1 Axes>"
      ]
     },
     "metadata": {
      "needs_background": "light"
     },
     "output_type": "display_data"
    },
    {
     "data": {
      "image/png": "[encoded data removed]",
      "text/plain": [
       "<Figure size 432x288 with 1 Axes>"
      ]
     },
     "metadata": {
      "needs_background": "light"
     },
     "output_type": "display_data"
    },
    {
     "data": {
      "image/png": "[encoded data removed]",
      "text/plain": [
       "<Figure size 432x288 with 1 Axes>"
      ]
     },
     "metadata": {
      "needs_background": "light"
     },
     "output_type": "display_data"
    },
    {
     "data": {
      "image/png": "[encoded data removed]",
      "text/plain": [
       "<Figure size 432x288 with 1 Axes>"
      ]
     },
     "metadata": {
      "needs_background": "light"
     },
     "output_type": "display_data"
    },
    {
     "data": {
      "image/png": "[encoded data removed]",
      "text/plain": [
       "<Figure size 432x288 with 1 Axes>"
      ]
     },
     "metadata": {
      "needs_background": "light"
     },
     "output_type": "display_data"
    },
    {
     "data": {
      "image/png": "[encoded data removed]",
      "text/plain": [
       "<Figure size 432x288 with 1 Axes>"
      ]
     },
     "metadata": {
      "needs_background": "light"
     },
     "output_type": "display_data"
    },
    {
     "data": {
      "image/png": "[encoded data removed]",
      "text/plain": [
       "<Figure size 432x288 with 1 Axes>"
      ]
     },
     "metadata": {
      "needs_background": "light"
     },
     "output_type": "display_data"
    },
    {
     "data": {
      "text/plain": [
       "[array([[[255,   0,   0],\n",
       "         [255,   0,   0],\n",
       "         [255,   0,   0],\n",
       "         ...,\n",
       "         [255,   0,   0],\n",
       "         [255,   0,   0],\n",
       "         [255,   0,   0]],\n",
       " \n",
       "        [[255,   0,   0],\n",
       "         [255,   0,   0],\n",
       "         [255,   0,   0],\n",
       "         ...,\n",
       "         [255,   0,   0],\n",
       "         [255,   0,   0],\n",
       "         [255,   0,   0]],\n",
       " \n",
       "        [[255,   0,   0],\n",
       "         [255,   0,   0],\n",
       "         [255, 255, 255],\n",
       "         ...,\n",
       "         [255, 255, 255],\n",
       "         [255, 255, 255],\n",
       "         [255,   0,   0]],\n",
       " \n",
       "        ...,\n",
       " \n",
       "        [[255,   0,   0],\n",
       "         [255,   0,   0],\n",
       "         [255, 255, 255],\n",
       "         ...,\n",
       "         [255, 255, 255],\n",
       "         [255, 255, 255],\n",
       "         [255,   0,   0]],\n",
       " \n",
       "        [[255,   0,   0],\n",
       "         [255,   0,   0],\n",
       "         [255, 255, 255],\n",
       "         ...,\n",
       "         [255, 255, 255],\n",
       "         [255, 255, 255],\n",
       "         [255,   0,   0]],\n",
       " \n",
       "        [[255,   0,   0],\n",
       "         [255,   0,   0],\n",
       "         [255,   0,   0],\n",
       "         ...,\n",
       "         [255,   0,   0],\n",
       "         [255,   0,   0],\n",
       "         [255,   0,   0]]], dtype=uint8),\n",
       " array([[[255,   0,   0],\n",
       "         [255,   0,   0],\n",
       "         [255,   0,   0],\n",
       "         ...,\n",
       "         [255,   0,   0],\n",
       "         [255,   0,   0],\n",
       "         [255,   0,   0]],\n",
       " \n",
       "        [[255,   0,   0],\n",
       "         [255,   0,   0],\n",
       "         [255,   0,   0],\n",
       "         ...,\n",
       "         [255,   0,   0],\n",
       "         [255,   0,   0],\n",
       "         [255,   0,   0]],\n",
       " \n",
       "        [[255,   0,   0],\n",
       "         [255,   0,   0],\n",
       "         [255, 255, 255],\n",
       "         ...,\n",
       "         [255, 255, 255],\n",
       "         [255, 255, 255],\n",
       "         [255,   0,   0]],\n",
       " \n",
       "        ...,\n",
       " \n",
       "        [[255,   0,   0],\n",
       "         [255,   0,   0],\n",
       "         [255, 255, 255],\n",
       "         ...,\n",
       "         [255, 255, 255],\n",
       "         [255, 255, 255],\n",
       "         [255,   0,   0]],\n",
       " \n",
       "        [[255,   0,   0],\n",
       "         [255,   0,   0],\n",
       "         [255, 255, 255],\n",
       "         ...,\n",
       "         [255, 255, 255],\n",
       "         [255, 255, 255],\n",
       "         [255,   0,   0]],\n",
       " \n",
       "        [[255,   0,   0],\n",
       "         [255,   0,   0],\n",
       "         [255,   0,   0],\n",
       "         ...,\n",
       "         [255,   0,   0],\n",
       "         [255,   0,   0],\n",
       "         [255,   0,   0]]], dtype=uint8),\n",
       " array([[[255,   0,   0],\n",
       "         [255,   0,   0],\n",
       "         [255,   0,   0],\n",
       "         ...,\n",
       "         [255,   0,   0],\n",
       "         [255,   0,   0],\n",
       "         [255,   0,   0]],\n",
       " \n",
       "        [[255,   0,   0],\n",
       "         [255,   0,   0],\n",
       "         [255,   0,   0],\n",
       "         ...,\n",
       "         [255,   0,   0],\n",
       "         [255,   0,   0],\n",
       "         [255,   0,   0]],\n",
       " \n",
       "        [[255,   0,   0],\n",
       "         [255,   0,   0],\n",
       "         [255, 255, 255],\n",
       "         ...,\n",
       "         [255, 255, 255],\n",
       "         [255, 255, 255],\n",
       "         [255,   0,   0]],\n",
       " \n",
       "        ...,\n",
       " \n",
       "        [[255,   0,   0],\n",
       "         [255,   0,   0],\n",
       "         [255, 255, 255],\n",
       "         ...,\n",
       "         [255, 255, 255],\n",
       "         [255, 255, 255],\n",
       "         [255,   0,   0]],\n",
       " \n",
       "        [[255,   0,   0],\n",
       "         [255,   0,   0],\n",
       "         [255, 255, 255],\n",
       "         ...,\n",
       "         [255, 255, 255],\n",
       "         [255, 255, 255],\n",
       "         [255,   0,   0]],\n",
       " \n",
       "        [[255,   0,   0],\n",
       "         [255,   0,   0],\n",
       "         [255,   0,   0],\n",
       "         ...,\n",
       "         [255,   0,   0],\n",
       "         [255,   0,   0],\n",
       "         [255,   0,   0]]], dtype=uint8),\n",
       " array([[[255,   0,   0],\n",
       "         [255,   0,   0],\n",
       "         [255,   0,   0],\n",
       "         ...,\n",
       "         [255,   0,   0],\n",
       "         [255,   0,   0],\n",
       "         [255,   0,   0]],\n",
       " \n",
       "        [[255,   0,   0],\n",
       "         [255,   0,   0],\n",
       "         [255,   0,   0],\n",
       "         ...,\n",
       "         [255,   0,   0],\n",
       "         [255,   0,   0],\n",
       "         [255,   0,   0]],\n",
       " \n",
       "        [[255,   0,   0],\n",
       "         [255,   0,   0],\n",
       "         [255, 255, 255],\n",
       "         ...,\n",
       "         [255, 255, 255],\n",
       "         [255, 255, 255],\n",
       "         [255,   0,   0]],\n",
       " \n",
       "        ...,\n",
       " \n",
       "        [[255,   0,   0],\n",
       "         [255,   0,   0],\n",
       "         [255, 255, 255],\n",
       "         ...,\n",
       "         [255, 255, 255],\n",
       "         [255, 255, 255],\n",
       "         [255,   0,   0]],\n",
       " \n",
       "        [[255,   0,   0],\n",
       "         [255,   0,   0],\n",
       "         [255, 255, 255],\n",
       "         ...,\n",
       "         [255, 255, 255],\n",
       "         [255, 255, 255],\n",
       "         [255,   0,   0]],\n",
       " \n",
       "        [[255,   0,   0],\n",
       "         [255,   0,   0],\n",
       "         [255,   0,   0],\n",
       "         ...,\n",
       "         [255,   0,   0],\n",
       "         [255,   0,   0],\n",
       "         [255,   0,   0]]], dtype=uint8)]"
      ]
     },
     "execution_count": 3,
     "metadata": {},
     "output_type": "execute_result"
    }
   ],
   "source": [
    "# toy example for debug\n",
    "# 355x355, 480x480\n",
    "xtractor = PatchExtractor((450, 450), (160, 160), debug=True)\n",
    "a = np.full([500, 500, 3], 255, np.uint8)\n",
    "xtractor.extract(a, 'mirror')\n",
    "xtractor.extract(a, 'valid')"
   ]
  },
  {
   "cell_type": "code",
   "execution_count": null,
   "metadata": {},
   "outputs": [],
   "source": []
  }
 ],
 "metadata": {
  "kernelspec": {
   "display_name": "Python [conda env:.conda-hovernet] *",
   "language": "python",
   "name": "conda-env-.conda-hovernet-py"
  },
  "language_info": {
   "codemirror_mode": {
    "name": "ipython",
    "version": 3
   },
   "file_extension": ".py",
   "mimetype": "text/x-python",
   "name": "python",
   "nbconvert_exporter": "python",
   "pygments_lexer": "ipython3",
   "version": "3.6.10"
  }
 },
 "nbformat": 4,
 "nbformat_minor": 4
}
