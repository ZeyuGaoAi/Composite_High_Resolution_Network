{
 "cells": [
  {
   "cell_type": "code",
   "execution_count": 1,
   "metadata": {},
   "outputs": [],
   "source": [
    "import os\n",
    "from train import Trainer"
   ]
  },
  {
   "cell_type": "code",
   "execution_count": null,
   "metadata": {},
   "outputs": [
    {
     "name": "stdout",
     "output_type": "stream",
     "text": [
      "['/home1/gzy/NucleiSegmentation/High_CCRCC/Train/512x512_256x256_dist/']\n",
      "['/home1/gzy/NucleiSegmentation/High_CCRCC/Test/512x512_256x256_dist/']\n",
      "[262, 262] [256, 256]\n",
      "\u001b[32m[1225 14:06:42 @parallel.py:293]\u001b[0m [PrefetchDataZMQ] Will fork a dataflow more than one times. This assumes the datapoints are i.i.d.\n",
      "[262, 262] [256, 256]\n",
      "\u001b[32m[1225 14:06:42 @logger.py:108]\u001b[0m \u001b[5m\u001b[31mWRN\u001b[0m Log directory ./logs//High_CCRCC//hcnet_mix_dist/00/ exists! Use 'd' to delete it. \n",
      "\u001b[32m[1225 14:06:42 @logger.py:111]\u001b[0m \u001b[5m\u001b[31mWRN\u001b[0m If you're resuming from a previous run, you can choose to keep it.\n",
      "Press any other key to exit. \n",
      "Select Action: k (keep) / d (delete) / q (quit):d\n",
      "\u001b[32m[1225 14:06:45 @logger.py:73]\u001b[0m Argv: /home1/gzy/.conda/envs/hovernet/lib/python3.6/site-packages/ipykernel_launcher.py -f /home1/gzy/.local/share/jupyter/runtime/kernel-f89a7b0e-3e5f-41d5-bf55-f63c90108deb.json\n",
      "['/home1/gzy/NucleiSegmentation/High_CCRCC/Train/512x512_256x256_dist/']\n",
      "['/home1/gzy/NucleiSegmentation/High_CCRCC/Test/512x512_256x256_dist/']\n",
      "['/home1/gzy/NucleiSegmentation/High_CCRCC/Train/512x512_256x256_dist/']\n",
      "['/home1/gzy/NucleiSegmentation/High_CCRCC/Test/512x512_256x256_dist/']\n",
      "\u001b[32m[1225 14:06:49 @training.py:52]\u001b[0m [DataParallel] Training a model of 2 towers.\n",
      "\u001b[32m[1225 14:06:49 @interface.py:34]\u001b[0m Automatically applying QueueInput on the DataFlow.\n",
      "\u001b[32m[1225 14:06:49 @interface.py:46]\u001b[0m Automatically applying StagingInput on the DataFlow.\n",
      "\u001b[32m[1225 14:06:49 @develop.py:96]\u001b[0m \u001b[5m\u001b[31mWRN\u001b[0m [Deprecated] ModelDescBase._get_inputs() interface will be deprecated after 30 Mar. Use inputs() instead!\n",
      "\u001b[32m[1225 14:06:49 @input_source.py:220]\u001b[0m Setting up the queue 'QueueInput/input_queue' for CPU prefetching ...\n",
      "\u001b[32m[1225 14:06:50 @training.py:114]\u001b[0m Building graph for training tower 0 ...\n",
      "\u001b[32m[1225 14:06:50 @develop.py:96]\u001b[0m \u001b[5m\u001b[31mWRN\u001b[0m [Deprecated] ModelDescBase._build_graph() interface will be deprecated after 30 Mar. Use build_graph() instead!\n",
      "\u001b[32m[1225 14:06:50 @registry.py:121]\u001b[0m en_10x/conv_1 input: [None, 3, 64, 64]\n",
      "\u001b[32m[1225 14:06:50 @registry.py:129]\u001b[0m en_10x/conv_1 output: [None, 128, 64, 64]\n",
      "\u001b[32m[1225 14:06:50 @registry.py:121]\u001b[0m en_10x/conv_2 input: [None, 128, 64, 64]\n",
      "\u001b[32m[1225 14:06:50 @registry.py:129]\u001b[0m en_10x/conv_2 output: [None, 128, 64, 64]\n",
      "\u001b[32m[1225 14:06:50 @registry.py:121]\u001b[0m en_10x/gcb/spatial_pool_conv input: [None, 128, 64, 64]\n",
      "\u001b[32m[1225 14:06:50 @registry.py:129]\u001b[0m en_10x/gcb/spatial_pool_conv output: [None, 1, 64, 64]\n",
      "\u001b[32m[1225 14:06:50 @registry.py:121]\u001b[0m en_10x/gcb/channel_add_conv_1 input: [None, 128, 1, 1]\n",
      "\u001b[32m[1225 14:06:50 @registry.py:129]\u001b[0m en_10x/gcb/channel_add_conv_1 output: [None, 16, 1, 1]\n",
      "\u001b[32m[1225 14:06:50 @registry.py:121]\u001b[0m en_10x/gcb/channel_add_conv_2 input: [None, 16, 1, 1]\n",
      "\u001b[32m[1225 14:06:50 @registry.py:129]\u001b[0m en_10x/gcb/channel_add_conv_2 output: [None, 128, 1, 1]\n",
      "\u001b[32m[1225 14:06:50 @registry.py:121]\u001b[0m up_10x input: [None, 128, 64, 64]\n",
      "\u001b[32m[1225 14:06:50 @registry.py:129]\u001b[0m up_10x output: [None, 128, 128, 128]\n",
      "\u001b[32m[1225 14:06:50 @registry.py:121]\u001b[0m cov_10x_up input: [None, 128, 128, 128]\n",
      "\u001b[32m[1225 14:06:50 @registry.py:129]\u001b[0m cov_10x_up output: [None, 64, 128, 128]\n",
      "\u001b[32m[1225 14:06:50 @registry.py:121]\u001b[0m cov_10x_down input: [None, 128, 64, 64]\n",
      "\u001b[32m[1225 14:06:50 @registry.py:129]\u001b[0m cov_10x_down output: [None, 256, 32, 32]\n",
      "\u001b[32m[1225 14:06:50 @registry.py:121]\u001b[0m cov_10x_straight input: [None, 128, 64, 64]\n",
      "\u001b[32m[1225 14:06:50 @registry.py:129]\u001b[0m cov_10x_straight output: [None, 128, 64, 64]\n",
      "\u001b[32m[1225 14:06:50 @registry.py:121]\u001b[0m en_40x/conv_1 input: [None, 3, 256, 256]\n",
      "\u001b[32m[1225 14:06:50 @registry.py:129]\u001b[0m en_40x/conv_1 output: [None, 128, 128, 128]\n",
      "\u001b[32m[1225 14:06:50 @registry.py:121]\u001b[0m en_40x/conv_2 input: [None, 128, 128, 128]\n",
      "\u001b[32m[1225 14:06:50 @registry.py:129]\u001b[0m en_40x/conv_2 output: [None, 128, 64, 64]\n",
      "\u001b[32m[1225 14:06:50 @registry.py:121]\u001b[0m en_40x/gcb/spatial_pool_conv input: [None, 128, 64, 64]\n",
      "\u001b[32m[1225 14:06:50 @registry.py:129]\u001b[0m en_40x/gcb/spatial_pool_conv output: [None, 1, 64, 64]\n",
      "\u001b[32m[1225 14:06:50 @registry.py:121]\u001b[0m en_40x/gcb/channel_add_conv_1 input: [None, 128, 1, 1]\n",
      "\u001b[32m[1225 14:06:50 @registry.py:129]\u001b[0m en_40x/gcb/channel_add_conv_1 output: [None, 16, 1, 1]\n",
      "\u001b[32m[1225 14:06:50 @registry.py:121]\u001b[0m en_40x/gcb/channel_add_conv_2 input: [None, 16, 1, 1]\n",
      "\u001b[32m[1225 14:06:50 @registry.py:129]\u001b[0m en_40x/gcb/channel_add_conv_2 output: [None, 128, 1, 1]\n",
      "\u001b[32m[1225 14:06:50 @registry.py:121]\u001b[0m up_40x input: [None, 128, 64, 64]\n",
      "\u001b[32m[1225 14:06:50 @registry.py:129]\u001b[0m up_40x output: [None, 128, 128, 128]\n",
      "\u001b[32m[1225 14:06:50 @registry.py:121]\u001b[0m cov_40x_up input: [None, 128, 128, 128]\n",
      "\u001b[32m[1225 14:06:50 @registry.py:129]\u001b[0m cov_40x_up output: [None, 64, 128, 128]\n",
      "\u001b[32m[1225 14:06:50 @registry.py:121]\u001b[0m cov_40x_down input: [None, 128, 64, 64]\n",
      "\u001b[32m[1225 14:06:50 @registry.py:129]\u001b[0m cov_40x_down output: [None, 256, 32, 32]\n",
      "\u001b[32m[1225 14:06:50 @registry.py:121]\u001b[0m cov_40x_straight input: [None, 128, 64, 64]\n",
      "\u001b[32m[1225 14:06:50 @registry.py:129]\u001b[0m cov_40x_straight output: [None, 128, 64, 64]\n",
      "\u001b[32m[1225 14:06:50 @registry.py:121]\u001b[0m conv0 input: [None, 3, 262, 262]\n",
      "\u001b[32m[1225 14:06:51 @registry.py:129]\u001b[0m conv0 output: [None, 64, 256, 256]\n",
      "\u001b[32m[1225 14:06:51 @registry.py:121]\u001b[0m group0/block0/conv1 input: [None, 64, 256, 256]\n",
      "\u001b[32m[1225 14:06:51 @registry.py:129]\u001b[0m group0/block0/conv1 output: [None, 64, 256, 256]\n",
      "\u001b[32m[1225 14:06:51 @registry.py:121]\u001b[0m group0/block0/conv2 input: [None, 64, 256, 256]\n",
      "\u001b[32m[1225 14:06:51 @registry.py:129]\u001b[0m group0/block0/conv2 output: [None, 64, 256, 256]\n",
      "\u001b[32m[1225 14:06:51 @registry.py:121]\u001b[0m group0/block0/gcb/spatial_pool_conv input: [None, 64, 256, 256]\n",
      "\u001b[32m[1225 14:06:51 @registry.py:129]\u001b[0m group0/block0/gcb/spatial_pool_conv output: [None, 1, 256, 256]\n",
      "\u001b[32m[1225 14:06:51 @registry.py:121]\u001b[0m group0/block0/gcb/channel_add_conv_1 input: [None, 64, 1, 1]\n",
      "\u001b[32m[1225 14:06:51 @registry.py:129]\u001b[0m group0/block0/gcb/channel_add_conv_1 output: [None, 8, 1, 1]\n",
      "\u001b[32m[1225 14:06:51 @registry.py:121]\u001b[0m group0/block0/gcb/channel_add_conv_2 input: [None, 8, 1, 1]\n",
      "\u001b[32m[1225 14:06:51 @registry.py:129]\u001b[0m group0/block0/gcb/channel_add_conv_2 output: [None, 64, 1, 1]\n",
      "\u001b[32m[1225 14:06:51 @registry.py:121]\u001b[0m group0/block1/conv1 input: [None, 64, 256, 256]\n",
      "\u001b[32m[1225 14:06:51 @registry.py:129]\u001b[0m group0/block1/conv1 output: [None, 64, 256, 256]\n",
      "\u001b[32m[1225 14:06:51 @registry.py:121]\u001b[0m group0/block1/conv2 input: [None, 64, 256, 256]\n",
      "\u001b[32m[1225 14:06:51 @registry.py:129]\u001b[0m group0/block1/conv2 output: [None, 64, 256, 256]\n",
      "\u001b[32m[1225 14:06:51 @registry.py:121]\u001b[0m group0/block1/gcb/spatial_pool_conv input: [None, 64, 256, 256]\n",
      "\u001b[32m[1225 14:06:51 @registry.py:129]\u001b[0m group0/block1/gcb/spatial_pool_conv output: [None, 1, 256, 256]\n",
      "\u001b[32m[1225 14:06:51 @registry.py:121]\u001b[0m group0/block1/gcb/channel_add_conv_1 input: [None, 64, 1, 1]\n",
      "\u001b[32m[1225 14:06:51 @registry.py:129]\u001b[0m group0/block1/gcb/channel_add_conv_1 output: [None, 8, 1, 1]\n",
      "\u001b[32m[1225 14:06:51 @registry.py:121]\u001b[0m group0/block1/gcb/channel_add_conv_2 input: [None, 8, 1, 1]\n",
      "\u001b[32m[1225 14:06:51 @registry.py:129]\u001b[0m group0/block1/gcb/channel_add_conv_2 output: [None, 64, 1, 1]\n",
      "\u001b[32m[1225 14:06:51 @registry.py:121]\u001b[0m group0/block2/conv1 input: [None, 64, 256, 256]\n",
      "\u001b[32m[1225 14:06:51 @registry.py:129]\u001b[0m group0/block2/conv1 output: [None, 64, 256, 256]\n",
      "\u001b[32m[1225 14:06:51 @registry.py:121]\u001b[0m group0/block2/conv2 input: [None, 64, 256, 256]\n",
      "\u001b[32m[1225 14:06:51 @registry.py:129]\u001b[0m group0/block2/conv2 output: [None, 64, 256, 256]\n",
      "\u001b[32m[1225 14:06:51 @registry.py:121]\u001b[0m group0/block2/gcb/spatial_pool_conv input: [None, 64, 256, 256]\n",
      "\u001b[32m[1225 14:06:51 @registry.py:129]\u001b[0m group0/block2/gcb/spatial_pool_conv output: [None, 1, 256, 256]\n",
      "\u001b[32m[1225 14:06:51 @registry.py:121]\u001b[0m group0/block2/gcb/channel_add_conv_1 input: [None, 64, 1, 1]\n",
      "\u001b[32m[1225 14:06:51 @registry.py:129]\u001b[0m group0/block2/gcb/channel_add_conv_1 output: [None, 8, 1, 1]\n",
      "\u001b[32m[1225 14:06:51 @registry.py:121]\u001b[0m group0/block2/gcb/channel_add_conv_2 input: [None, 8, 1, 1]\n",
      "\u001b[32m[1225 14:06:51 @registry.py:129]\u001b[0m group0/block2/gcb/channel_add_conv_2 output: [None, 64, 1, 1]\n"
     ]
    },
    {
     "name": "stdout",
     "output_type": "stream",
     "text": [
      "\u001b[32m[1225 14:06:51 @registry.py:121]\u001b[0m group1/block0/conv1 input: [None, 64, 256, 256]\n",
      "\u001b[32m[1225 14:06:51 @registry.py:129]\u001b[0m group1/block0/conv1 output: [None, 128, 128, 128]\n",
      "\u001b[32m[1225 14:06:51 @registry.py:121]\u001b[0m group1/block0/conv2 input: [None, 128, 128, 128]\n",
      "\u001b[32m[1225 14:06:51 @registry.py:129]\u001b[0m group1/block0/conv2 output: [None, 128, 128, 128]\n",
      "\u001b[32m[1225 14:06:51 @registry.py:121]\u001b[0m group1/block0/gcb/spatial_pool_conv input: [None, 128, 128, 128]\n",
      "\u001b[32m[1225 14:06:51 @registry.py:129]\u001b[0m group1/block0/gcb/spatial_pool_conv output: [None, 1, 128, 128]\n",
      "\u001b[32m[1225 14:06:51 @registry.py:121]\u001b[0m group1/block0/gcb/channel_add_conv_1 input: [None, 128, 1, 1]\n",
      "\u001b[32m[1225 14:06:51 @registry.py:129]\u001b[0m group1/block0/gcb/channel_add_conv_1 output: [None, 16, 1, 1]\n",
      "\u001b[32m[1225 14:06:51 @registry.py:121]\u001b[0m group1/block0/gcb/channel_add_conv_2 input: [None, 16, 1, 1]\n",
      "\u001b[32m[1225 14:06:52 @registry.py:129]\u001b[0m group1/block0/gcb/channel_add_conv_2 output: [None, 128, 1, 1]\n",
      "\u001b[32m[1225 14:06:52 @registry.py:121]\u001b[0m group1/block0/convshortcut input: [None, 64, 256, 256]\n",
      "\u001b[32m[1225 14:06:52 @registry.py:129]\u001b[0m group1/block0/convshortcut output: [None, 128, 128, 128]\n",
      "\u001b[32m[1225 14:06:52 @registry.py:121]\u001b[0m group1/block1/conv1 input: [None, 128, 128, 128]\n",
      "\u001b[32m[1225 14:06:52 @registry.py:129]\u001b[0m group1/block1/conv1 output: [None, 128, 128, 128]\n",
      "\u001b[32m[1225 14:06:52 @registry.py:121]\u001b[0m group1/block1/conv2 input: [None, 128, 128, 128]\n",
      "\u001b[32m[1225 14:06:52 @registry.py:129]\u001b[0m group1/block1/conv2 output: [None, 128, 128, 128]\n",
      "\u001b[32m[1225 14:06:52 @registry.py:121]\u001b[0m group1/block1/gcb/spatial_pool_conv input: [None, 128, 128, 128]\n",
      "\u001b[32m[1225 14:06:52 @registry.py:129]\u001b[0m group1/block1/gcb/spatial_pool_conv output: [None, 1, 128, 128]\n",
      "\u001b[32m[1225 14:06:52 @registry.py:121]\u001b[0m group1/block1/gcb/channel_add_conv_1 input: [None, 128, 1, 1]\n",
      "\u001b[32m[1225 14:06:52 @registry.py:129]\u001b[0m group1/block1/gcb/channel_add_conv_1 output: [None, 16, 1, 1]\n",
      "\u001b[32m[1225 14:06:52 @registry.py:121]\u001b[0m group1/block1/gcb/channel_add_conv_2 input: [None, 16, 1, 1]\n",
      "\u001b[32m[1225 14:06:52 @registry.py:129]\u001b[0m group1/block1/gcb/channel_add_conv_2 output: [None, 128, 1, 1]\n",
      "\u001b[32m[1225 14:06:52 @registry.py:121]\u001b[0m group1/block2/conv1 input: [None, 128, 128, 128]\n",
      "\u001b[32m[1225 14:06:52 @registry.py:129]\u001b[0m group1/block2/conv1 output: [None, 128, 128, 128]\n",
      "\u001b[32m[1225 14:06:52 @registry.py:121]\u001b[0m group1/block2/conv2 input: [None, 128, 128, 128]\n",
      "\u001b[32m[1225 14:06:52 @registry.py:129]\u001b[0m group1/block2/conv2 output: [None, 128, 128, 128]\n",
      "\u001b[32m[1225 14:06:52 @registry.py:121]\u001b[0m group1/block2/gcb/spatial_pool_conv input: [None, 128, 128, 128]\n",
      "\u001b[32m[1225 14:06:52 @registry.py:129]\u001b[0m group1/block2/gcb/spatial_pool_conv output: [None, 1, 128, 128]\n",
      "\u001b[32m[1225 14:06:52 @registry.py:121]\u001b[0m group1/block2/gcb/channel_add_conv_1 input: [None, 128, 1, 1]\n",
      "\u001b[32m[1225 14:06:52 @registry.py:129]\u001b[0m group1/block2/gcb/channel_add_conv_1 output: [None, 16, 1, 1]\n",
      "\u001b[32m[1225 14:06:52 @registry.py:121]\u001b[0m group1/block2/gcb/channel_add_conv_2 input: [None, 16, 1, 1]\n",
      "\u001b[32m[1225 14:06:52 @registry.py:129]\u001b[0m group1/block2/gcb/channel_add_conv_2 output: [None, 128, 1, 1]\n",
      "\u001b[32m[1225 14:06:52 @registry.py:121]\u001b[0m group1/block3/conv1 input: [None, 128, 128, 128]\n",
      "\u001b[32m[1225 14:06:52 @registry.py:129]\u001b[0m group1/block3/conv1 output: [None, 128, 128, 128]\n",
      "\u001b[32m[1225 14:06:52 @registry.py:121]\u001b[0m group1/block3/conv2 input: [None, 128, 128, 128]\n",
      "\u001b[32m[1225 14:06:52 @registry.py:129]\u001b[0m group1/block3/conv2 output: [None, 128, 128, 128]\n",
      "\u001b[32m[1225 14:06:52 @registry.py:121]\u001b[0m group1/block3/gcb/spatial_pool_conv input: [None, 128, 128, 128]\n",
      "\u001b[32m[1225 14:06:52 @registry.py:129]\u001b[0m group1/block3/gcb/spatial_pool_conv output: [None, 1, 128, 128]\n",
      "\u001b[32m[1225 14:06:52 @registry.py:121]\u001b[0m group1/block3/gcb/channel_add_conv_1 input: [None, 128, 1, 1]\n",
      "\u001b[32m[1225 14:06:52 @registry.py:129]\u001b[0m group1/block3/gcb/channel_add_conv_1 output: [None, 16, 1, 1]\n",
      "\u001b[32m[1225 14:06:52 @registry.py:121]\u001b[0m group1/block3/gcb/channel_add_conv_2 input: [None, 16, 1, 1]\n",
      "\u001b[32m[1225 14:06:52 @registry.py:129]\u001b[0m group1/block3/gcb/channel_add_conv_2 output: [None, 128, 1, 1]\n",
      "\u001b[32m[1225 14:06:52 @registry.py:121]\u001b[0m group2/block0/conv1 input: [None, 128, 128, 128]\n",
      "\u001b[32m[1225 14:06:52 @registry.py:129]\u001b[0m group2/block0/conv1 output: [None, 256, 64, 64]\n",
      "\u001b[32m[1225 14:06:52 @registry.py:121]\u001b[0m group2/block0/conv2 input: [None, 256, 64, 64]\n",
      "\u001b[32m[1225 14:06:52 @registry.py:129]\u001b[0m group2/block0/conv2 output: [None, 256, 64, 64]\n",
      "\u001b[32m[1225 14:06:52 @registry.py:121]\u001b[0m group2/block0/gcb/spatial_pool_conv input: [None, 256, 64, 64]\n",
      "\u001b[32m[1225 14:06:52 @registry.py:129]\u001b[0m group2/block0/gcb/spatial_pool_conv output: [None, 1, 64, 64]\n",
      "\u001b[32m[1225 14:06:52 @registry.py:121]\u001b[0m group2/block0/gcb/channel_add_conv_1 input: [None, 256, 1, 1]\n",
      "\u001b[32m[1225 14:06:53 @registry.py:129]\u001b[0m group2/block0/gcb/channel_add_conv_1 output: [None, 32, 1, 1]\n",
      "\u001b[32m[1225 14:06:53 @registry.py:121]\u001b[0m group2/block0/gcb/channel_add_conv_2 input: [None, 32, 1, 1]\n",
      "\u001b[32m[1225 14:06:53 @registry.py:129]\u001b[0m group2/block0/gcb/channel_add_conv_2 output: [None, 256, 1, 1]\n",
      "\u001b[32m[1225 14:06:53 @registry.py:121]\u001b[0m group2/block0/convshortcut input: [None, 128, 128, 128]\n",
      "\u001b[32m[1225 14:06:53 @registry.py:129]\u001b[0m group2/block0/convshortcut output: [None, 256, 64, 64]\n",
      "\u001b[32m[1225 14:06:53 @registry.py:121]\u001b[0m group2/block1/conv1 input: [None, 256, 64, 64]\n",
      "\u001b[32m[1225 14:06:53 @registry.py:129]\u001b[0m group2/block1/conv1 output: [None, 256, 64, 64]\n",
      "\u001b[32m[1225 14:06:53 @registry.py:121]\u001b[0m group2/block1/conv2 input: [None, 256, 64, 64]\n",
      "\u001b[32m[1225 14:06:53 @registry.py:129]\u001b[0m group2/block1/conv2 output: [None, 256, 64, 64]\n",
      "\u001b[32m[1225 14:06:53 @registry.py:121]\u001b[0m group2/block1/gcb/spatial_pool_conv input: [None, 256, 64, 64]\n",
      "\u001b[32m[1225 14:06:53 @registry.py:129]\u001b[0m group2/block1/gcb/spatial_pool_conv output: [None, 1, 64, 64]\n",
      "\u001b[32m[1225 14:06:53 @registry.py:121]\u001b[0m group2/block1/gcb/channel_add_conv_1 input: [None, 256, 1, 1]\n",
      "\u001b[32m[1225 14:06:53 @registry.py:129]\u001b[0m group2/block1/gcb/channel_add_conv_1 output: [None, 32, 1, 1]\n",
      "\u001b[32m[1225 14:06:53 @registry.py:121]\u001b[0m group2/block1/gcb/channel_add_conv_2 input: [None, 32, 1, 1]\n",
      "\u001b[32m[1225 14:06:53 @registry.py:129]\u001b[0m group2/block1/gcb/channel_add_conv_2 output: [None, 256, 1, 1]\n",
      "\u001b[32m[1225 14:06:53 @registry.py:121]\u001b[0m group2/block2/conv1 input: [None, 256, 64, 64]\n",
      "\u001b[32m[1225 14:06:53 @registry.py:129]\u001b[0m group2/block2/conv1 output: [None, 256, 64, 64]\n",
      "\u001b[32m[1225 14:06:53 @registry.py:121]\u001b[0m group2/block2/conv2 input: [None, 256, 64, 64]\n",
      "\u001b[32m[1225 14:06:53 @registry.py:129]\u001b[0m group2/block2/conv2 output: [None, 256, 64, 64]\n",
      "\u001b[32m[1225 14:06:53 @registry.py:121]\u001b[0m group2/block2/gcb/spatial_pool_conv input: [None, 256, 64, 64]\n",
      "\u001b[32m[1225 14:06:53 @registry.py:129]\u001b[0m group2/block2/gcb/spatial_pool_conv output: [None, 1, 64, 64]\n",
      "\u001b[32m[1225 14:06:53 @registry.py:121]\u001b[0m group2/block2/gcb/channel_add_conv_1 input: [None, 256, 1, 1]\n",
      "\u001b[32m[1225 14:06:53 @registry.py:129]\u001b[0m group2/block2/gcb/channel_add_conv_1 output: [None, 32, 1, 1]\n",
      "\u001b[32m[1225 14:06:53 @registry.py:121]\u001b[0m group2/block2/gcb/channel_add_conv_2 input: [None, 32, 1, 1]\n",
      "\u001b[32m[1225 14:06:53 @registry.py:129]\u001b[0m group2/block2/gcb/channel_add_conv_2 output: [None, 256, 1, 1]\n",
      "\u001b[32m[1225 14:06:53 @registry.py:121]\u001b[0m group2/block3/conv1 input: [None, 256, 64, 64]\n",
      "\u001b[32m[1225 14:06:53 @registry.py:129]\u001b[0m group2/block3/conv1 output: [None, 256, 64, 64]\n",
      "\u001b[32m[1225 14:06:53 @registry.py:121]\u001b[0m group2/block3/conv2 input: [None, 256, 64, 64]\n",
      "\u001b[32m[1225 14:06:53 @registry.py:129]\u001b[0m group2/block3/conv2 output: [None, 256, 64, 64]\n",
      "\u001b[32m[1225 14:06:53 @registry.py:121]\u001b[0m group2/block3/gcb/spatial_pool_conv input: [None, 256, 64, 64]\n",
      "\u001b[32m[1225 14:06:53 @registry.py:129]\u001b[0m group2/block3/gcb/spatial_pool_conv output: [None, 1, 64, 64]\n",
      "\u001b[32m[1225 14:06:53 @registry.py:121]\u001b[0m group2/block3/gcb/channel_add_conv_1 input: [None, 256, 1, 1]\n",
      "\u001b[32m[1225 14:06:53 @registry.py:129]\u001b[0m group2/block3/gcb/channel_add_conv_1 output: [None, 32, 1, 1]\n",
      "\u001b[32m[1225 14:06:53 @registry.py:121]\u001b[0m group2/block3/gcb/channel_add_conv_2 input: [None, 32, 1, 1]\n"
     ]
    },
    {
     "name": "stdout",
     "output_type": "stream",
     "text": [
      "\u001b[32m[1225 14:06:53 @registry.py:129]\u001b[0m group2/block3/gcb/channel_add_conv_2 output: [None, 256, 1, 1]\n",
      "\u001b[32m[1225 14:06:53 @registry.py:121]\u001b[0m group2/block4/conv1 input: [None, 256, 64, 64]\n",
      "\u001b[32m[1225 14:06:53 @registry.py:129]\u001b[0m group2/block4/conv1 output: [None, 256, 64, 64]\n",
      "\u001b[32m[1225 14:06:53 @registry.py:121]\u001b[0m group2/block4/conv2 input: [None, 256, 64, 64]\n",
      "\u001b[32m[1225 14:06:53 @registry.py:129]\u001b[0m group2/block4/conv2 output: [None, 256, 64, 64]\n",
      "\u001b[32m[1225 14:06:53 @registry.py:121]\u001b[0m group2/block4/gcb/spatial_pool_conv input: [None, 256, 64, 64]\n",
      "\u001b[32m[1225 14:06:53 @registry.py:129]\u001b[0m group2/block4/gcb/spatial_pool_conv output: [None, 1, 64, 64]\n",
      "\u001b[32m[1225 14:06:53 @registry.py:121]\u001b[0m group2/block4/gcb/channel_add_conv_1 input: [None, 256, 1, 1]\n",
      "\u001b[32m[1225 14:06:53 @registry.py:129]\u001b[0m group2/block4/gcb/channel_add_conv_1 output: [None, 32, 1, 1]\n",
      "\u001b[32m[1225 14:06:53 @registry.py:121]\u001b[0m group2/block4/gcb/channel_add_conv_2 input: [None, 32, 1, 1]\n",
      "\u001b[32m[1225 14:06:53 @registry.py:129]\u001b[0m group2/block4/gcb/channel_add_conv_2 output: [None, 256, 1, 1]\n",
      "\u001b[32m[1225 14:06:53 @registry.py:121]\u001b[0m group2/block5/conv1 input: [None, 256, 64, 64]\n",
      "\u001b[32m[1225 14:06:53 @registry.py:129]\u001b[0m group2/block5/conv1 output: [None, 256, 64, 64]\n",
      "\u001b[32m[1225 14:06:53 @registry.py:121]\u001b[0m group2/block5/conv2 input: [None, 256, 64, 64]\n",
      "\u001b[32m[1225 14:06:53 @registry.py:129]\u001b[0m group2/block5/conv2 output: [None, 256, 64, 64]\n",
      "\u001b[32m[1225 14:06:53 @registry.py:121]\u001b[0m group2/block5/gcb/spatial_pool_conv input: [None, 256, 64, 64]\n",
      "\u001b[32m[1225 14:06:53 @registry.py:129]\u001b[0m group2/block5/gcb/spatial_pool_conv output: [None, 1, 64, 64]\n",
      "\u001b[32m[1225 14:06:54 @registry.py:121]\u001b[0m group2/block5/gcb/channel_add_conv_1 input: [None, 256, 1, 1]\n",
      "\u001b[32m[1225 14:06:54 @registry.py:129]\u001b[0m group2/block5/gcb/channel_add_conv_1 output: [None, 32, 1, 1]\n",
      "\u001b[32m[1225 14:06:54 @registry.py:121]\u001b[0m group2/block5/gcb/channel_add_conv_2 input: [None, 32, 1, 1]\n",
      "\u001b[32m[1225 14:06:54 @registry.py:129]\u001b[0m group2/block5/gcb/channel_add_conv_2 output: [None, 256, 1, 1]\n",
      "\u001b[32m[1225 14:06:54 @registry.py:121]\u001b[0m group3/block0/conv1 input: [None, 256, 64, 64]\n",
      "\u001b[32m[1225 14:06:54 @registry.py:129]\u001b[0m group3/block0/conv1 output: [None, 512, 32, 32]\n",
      "\u001b[32m[1225 14:06:54 @registry.py:121]\u001b[0m group3/block0/conv2 input: [None, 512, 32, 32]\n",
      "\u001b[32m[1225 14:06:54 @registry.py:129]\u001b[0m group3/block0/conv2 output: [None, 512, 32, 32]\n",
      "\u001b[32m[1225 14:06:54 @registry.py:121]\u001b[0m group3/block0/gcb/spatial_pool_conv input: [None, 512, 32, 32]\n",
      "\u001b[32m[1225 14:06:54 @registry.py:129]\u001b[0m group3/block0/gcb/spatial_pool_conv output: [None, 1, 32, 32]\n",
      "\u001b[32m[1225 14:06:54 @registry.py:121]\u001b[0m group3/block0/gcb/channel_add_conv_1 input: [None, 512, 1, 1]\n",
      "\u001b[32m[1225 14:06:54 @registry.py:129]\u001b[0m group3/block0/gcb/channel_add_conv_1 output: [None, 64, 1, 1]\n",
      "\u001b[32m[1225 14:06:54 @registry.py:121]\u001b[0m group3/block0/gcb/channel_add_conv_2 input: [None, 64, 1, 1]\n",
      "\u001b[32m[1225 14:06:54 @registry.py:129]\u001b[0m group3/block0/gcb/channel_add_conv_2 output: [None, 512, 1, 1]\n",
      "\u001b[32m[1225 14:06:54 @registry.py:121]\u001b[0m group3/block0/convshortcut input: [None, 256, 64, 64]\n",
      "\u001b[32m[1225 14:06:54 @registry.py:129]\u001b[0m group3/block0/convshortcut output: [None, 512, 32, 32]\n",
      "\u001b[32m[1225 14:06:54 @registry.py:121]\u001b[0m group3/block1/conv1 input: [None, 512, 32, 32]\n",
      "\u001b[32m[1225 14:06:54 @registry.py:129]\u001b[0m group3/block1/conv1 output: [None, 512, 32, 32]\n",
      "\u001b[32m[1225 14:06:54 @registry.py:121]\u001b[0m group3/block1/conv2 input: [None, 512, 32, 32]\n",
      "\u001b[32m[1225 14:06:54 @registry.py:129]\u001b[0m group3/block1/conv2 output: [None, 512, 32, 32]\n",
      "\u001b[32m[1225 14:06:54 @registry.py:121]\u001b[0m group3/block1/gcb/spatial_pool_conv input: [None, 512, 32, 32]\n",
      "\u001b[32m[1225 14:06:54 @registry.py:129]\u001b[0m group3/block1/gcb/spatial_pool_conv output: [None, 1, 32, 32]\n",
      "\u001b[32m[1225 14:06:54 @registry.py:121]\u001b[0m group3/block1/gcb/channel_add_conv_1 input: [None, 512, 1, 1]\n",
      "\u001b[32m[1225 14:06:54 @registry.py:129]\u001b[0m group3/block1/gcb/channel_add_conv_1 output: [None, 64, 1, 1]\n",
      "\u001b[32m[1225 14:06:54 @registry.py:121]\u001b[0m group3/block1/gcb/channel_add_conv_2 input: [None, 64, 1, 1]\n",
      "\u001b[32m[1225 14:06:54 @registry.py:129]\u001b[0m group3/block1/gcb/channel_add_conv_2 output: [None, 512, 1, 1]\n",
      "\u001b[32m[1225 14:06:54 @registry.py:121]\u001b[0m group3/block2/conv1 input: [None, 512, 32, 32]\n",
      "\u001b[32m[1225 14:06:54 @registry.py:129]\u001b[0m group3/block2/conv1 output: [None, 512, 32, 32]\n",
      "\u001b[32m[1225 14:06:54 @registry.py:121]\u001b[0m group3/block2/conv2 input: [None, 512, 32, 32]\n",
      "\u001b[32m[1225 14:06:54 @registry.py:129]\u001b[0m group3/block2/conv2 output: [None, 512, 32, 32]\n",
      "\u001b[32m[1225 14:06:54 @registry.py:121]\u001b[0m group3/block2/gcb/spatial_pool_conv input: [None, 512, 32, 32]\n",
      "\u001b[32m[1225 14:06:54 @registry.py:129]\u001b[0m group3/block2/gcb/spatial_pool_conv output: [None, 1, 32, 32]\n",
      "\u001b[32m[1225 14:06:54 @registry.py:121]\u001b[0m group3/block2/gcb/channel_add_conv_1 input: [None, 512, 1, 1]\n",
      "\u001b[32m[1225 14:06:54 @registry.py:129]\u001b[0m group3/block2/gcb/channel_add_conv_1 output: [None, 64, 1, 1]\n",
      "\u001b[32m[1225 14:06:54 @registry.py:121]\u001b[0m group3/block2/gcb/channel_add_conv_2 input: [None, 64, 1, 1]\n",
      "\u001b[32m[1225 14:06:54 @registry.py:129]\u001b[0m group3/block2/gcb/channel_add_conv_2 output: [None, 512, 1, 1]\n",
      "\u001b[32m[1225 14:06:54 @registry.py:121]\u001b[0m classify_1/com_11/up_0 input: [None, 256, 64, 64]\n",
      "\u001b[32m[1225 14:06:54 @registry.py:129]\u001b[0m classify_1/com_11/up_0 output: [None, 256, 128, 128]\n",
      "\u001b[32m[1225 14:06:54 @registry.py:121]\u001b[0m classify_1/com_11/conv_up input: [None, 256, 128, 128]\n",
      "\u001b[32m[1225 14:06:54 @registry.py:129]\u001b[0m classify_1/com_11/conv_up output: [None, 128, 128, 128]\n",
      "\u001b[32m[1225 14:06:54 @registry.py:121]\u001b[0m classify_1/conv_img12 input: [None, 192, 128, 128]\n",
      "\u001b[32m[1225 14:06:55 @registry.py:129]\u001b[0m classify_1/conv_img12 output: [None, 128, 128, 128]\n",
      "\u001b[32m[1225 14:06:55 @registry.py:121]\u001b[0m classify_1/groupl11/block0/conv1 input: [None, 128, 128, 128]\n",
      "\u001b[32m[1225 14:06:55 @registry.py:129]\u001b[0m classify_1/groupl11/block0/conv1 output: [None, 128, 128, 128]\n",
      "\u001b[32m[1225 14:06:55 @registry.py:121]\u001b[0m classify_1/groupl11/block0/conv2 input: [None, 128, 128, 128]\n",
      "\u001b[32m[1225 14:06:55 @registry.py:129]\u001b[0m classify_1/groupl11/block0/conv2 output: [None, 128, 128, 128]\n",
      "\u001b[32m[1225 14:06:55 @registry.py:121]\u001b[0m classify_1/groupl11/block0/gcb/spatial_pool_conv input: [None, 128, 128, 128]\n",
      "\u001b[32m[1225 14:06:55 @registry.py:129]\u001b[0m classify_1/groupl11/block0/gcb/spatial_pool_conv output: [None, 1, 128, 128]\n",
      "\u001b[32m[1225 14:06:55 @registry.py:121]\u001b[0m classify_1/groupl11/block0/gcb/channel_add_conv_1 input: [None, 128, 1, 1]\n",
      "\u001b[32m[1225 14:06:55 @registry.py:129]\u001b[0m classify_1/groupl11/block0/gcb/channel_add_conv_1 output: [None, 16, 1, 1]\n",
      "\u001b[32m[1225 14:06:55 @registry.py:121]\u001b[0m classify_1/groupl11/block0/gcb/channel_add_conv_2 input: [None, 16, 1, 1]\n",
      "\u001b[32m[1225 14:06:55 @registry.py:129]\u001b[0m classify_1/groupl11/block0/gcb/channel_add_conv_2 output: [None, 128, 1, 1]\n",
      "\u001b[32m[1225 14:06:55 @registry.py:121]\u001b[0m classify_1/conv_straight11 input: [None, 128, 128, 128]\n",
      "\u001b[32m[1225 14:06:55 @registry.py:129]\u001b[0m classify_1/conv_straight11 output: [None, 128, 128, 128]\n",
      "\u001b[32m[1225 14:06:55 @registry.py:121]\u001b[0m classify_1/conv_down11 input: [None, 128, 128, 128]\n",
      "\u001b[32m[1225 14:06:55 @registry.py:129]\u001b[0m classify_1/conv_down11 output: [None, 256, 64, 64]\n",
      "\u001b[32m[1225 14:06:55 @registry.py:121]\u001b[0m classify_1/com_12/up_0 input: [None, 512, 32, 32]\n",
      "\u001b[32m[1225 14:06:55 @registry.py:129]\u001b[0m classify_1/com_12/up_0 output: [None, 512, 64, 64]\n",
      "\u001b[32m[1225 14:06:55 @registry.py:121]\u001b[0m classify_1/com_12/up_1 input: [None, 512, 64, 64]\n",
      "\u001b[32m[1225 14:06:55 @registry.py:129]\u001b[0m classify_1/com_12/up_1 output: [None, 512, 128, 128]\n",
      "\u001b[32m[1225 14:06:55 @registry.py:121]\u001b[0m classify_1/com_12/conv_up input: [None, 512, 128, 128]\n",
      "\u001b[32m[1225 14:06:55 @registry.py:129]\u001b[0m classify_1/com_12/conv_up output: [None, 128, 128, 128]\n",
      "\u001b[32m[1225 14:06:55 @registry.py:121]\u001b[0m classify_1/com_22/up_0 input: [None, 512, 32, 32]\n",
      "\u001b[32m[1225 14:06:55 @registry.py:129]\u001b[0m classify_1/com_22/up_0 output: [None, 512, 64, 64]\n",
      "\u001b[32m[1225 14:06:55 @registry.py:121]\u001b[0m classify_1/com_22/conv_up input: [None, 512, 64, 64]\n",
      "\u001b[32m[1225 14:06:55 @registry.py:129]\u001b[0m classify_1/com_22/conv_up output: [None, 256, 64, 64]\n"
     ]
    },
    {
     "name": "stdout",
     "output_type": "stream",
     "text": [
      "\u001b[32m[1225 14:06:55 @registry.py:121]\u001b[0m classify_1/conv_img22 input: [None, 384, 64, 64]\n",
      "\u001b[32m[1225 14:06:55 @registry.py:129]\u001b[0m classify_1/conv_img22 output: [None, 256, 64, 64]\n",
      "\u001b[32m[1225 14:06:55 @registry.py:121]\u001b[0m classify_1/groupl12/block0/conv1 input: [None, 128, 128, 128]\n",
      "\u001b[32m[1225 14:06:55 @registry.py:129]\u001b[0m classify_1/groupl12/block0/conv1 output: [None, 128, 128, 128]\n",
      "\u001b[32m[1225 14:06:55 @registry.py:121]\u001b[0m classify_1/groupl12/block0/conv2 input: [None, 128, 128, 128]\n",
      "\u001b[32m[1225 14:06:55 @registry.py:129]\u001b[0m classify_1/groupl12/block0/conv2 output: [None, 128, 128, 128]\n",
      "\u001b[32m[1225 14:06:55 @registry.py:121]\u001b[0m classify_1/groupl12/block0/gcb/spatial_pool_conv input: [None, 128, 128, 128]\n",
      "\u001b[32m[1225 14:06:55 @registry.py:129]\u001b[0m classify_1/groupl12/block0/gcb/spatial_pool_conv output: [None, 1, 128, 128]\n",
      "\u001b[32m[1225 14:06:55 @registry.py:121]\u001b[0m classify_1/groupl12/block0/gcb/channel_add_conv_1 input: [None, 128, 1, 1]\n",
      "\u001b[32m[1225 14:06:55 @registry.py:129]\u001b[0m classify_1/groupl12/block0/gcb/channel_add_conv_1 output: [None, 16, 1, 1]\n",
      "\u001b[32m[1225 14:06:55 @registry.py:121]\u001b[0m classify_1/groupl12/block0/gcb/channel_add_conv_2 input: [None, 16, 1, 1]\n",
      "\u001b[32m[1225 14:06:55 @registry.py:129]\u001b[0m classify_1/groupl12/block0/gcb/channel_add_conv_2 output: [None, 128, 1, 1]\n",
      "\u001b[32m[1225 14:06:55 @registry.py:121]\u001b[0m classify_1/groupl22/block0/conv1 input: [None, 256, 64, 64]\n",
      "\u001b[32m[1225 14:06:56 @registry.py:129]\u001b[0m classify_1/groupl22/block0/conv1 output: [None, 256, 64, 64]\n",
      "\u001b[32m[1225 14:06:56 @registry.py:121]\u001b[0m classify_1/groupl22/block0/conv2 input: [None, 256, 64, 64]\n",
      "\u001b[32m[1225 14:06:56 @registry.py:129]\u001b[0m classify_1/groupl22/block0/conv2 output: [None, 256, 64, 64]\n",
      "\u001b[32m[1225 14:06:56 @registry.py:121]\u001b[0m classify_1/groupl22/block0/gcb/spatial_pool_conv input: [None, 256, 64, 64]\n",
      "\u001b[32m[1225 14:06:56 @registry.py:129]\u001b[0m classify_1/groupl22/block0/gcb/spatial_pool_conv output: [None, 1, 64, 64]\n",
      "\u001b[32m[1225 14:06:56 @registry.py:121]\u001b[0m classify_1/groupl22/block0/gcb/channel_add_conv_1 input: [None, 256, 1, 1]\n",
      "\u001b[32m[1225 14:06:56 @registry.py:129]\u001b[0m classify_1/groupl22/block0/gcb/channel_add_conv_1 output: [None, 32, 1, 1]\n",
      "\u001b[32m[1225 14:06:56 @registry.py:121]\u001b[0m classify_1/groupl22/block0/gcb/channel_add_conv_2 input: [None, 32, 1, 1]\n",
      "\u001b[32m[1225 14:06:56 @registry.py:129]\u001b[0m classify_1/groupl22/block0/gcb/channel_add_conv_2 output: [None, 256, 1, 1]\n",
      "\u001b[32m[1225 14:06:56 @registry.py:121]\u001b[0m classify_1/conv_straight12 input: [None, 128, 128, 128]\n",
      "\u001b[32m[1225 14:06:56 @registry.py:129]\u001b[0m classify_1/conv_straight12 output: [None, 128, 128, 128]\n",
      "\u001b[32m[1225 14:06:56 @registry.py:121]\u001b[0m classify_1/com_13/up_0 input: [None, 256, 64, 64]\n",
      "\u001b[32m[1225 14:06:56 @registry.py:129]\u001b[0m classify_1/com_13/up_0 output: [None, 256, 128, 128]\n",
      "\u001b[32m[1225 14:06:56 @registry.py:121]\u001b[0m classify_1/com_13/conv_up input: [None, 256, 128, 128]\n",
      "\u001b[32m[1225 14:06:56 @registry.py:129]\u001b[0m classify_1/com_13/conv_up output: [None, 128, 128, 128]\n",
      "\u001b[32m[1225 14:06:56 @registry.py:121]\u001b[0m classify_1/conv_straight22 input: [None, 256, 64, 64]\n",
      "\u001b[32m[1225 14:06:56 @registry.py:129]\u001b[0m classify_1/conv_straight22 output: [None, 256, 64, 64]\n",
      "\u001b[32m[1225 14:06:56 @registry.py:121]\u001b[0m classify_1/conv_down12 input: [None, 128, 128, 128]\n",
      "\u001b[32m[1225 14:06:56 @registry.py:129]\u001b[0m classify_1/conv_down12 output: [None, 256, 64, 64]\n",
      "\u001b[32m[1225 14:06:56 @registry.py:121]\u001b[0m classify_1/conv_down22 input: [None, 256, 64, 64]\n",
      "\u001b[32m[1225 14:06:56 @registry.py:129]\u001b[0m classify_1/conv_down22 output: [None, 512, 32, 32]\n",
      "\u001b[32m[1225 14:06:56 @registry.py:121]\u001b[0m classify_1/conv_downdown12 input: [None, 256, 64, 64]\n",
      "\u001b[32m[1225 14:06:56 @registry.py:129]\u001b[0m classify_1/conv_downdown12 output: [None, 512, 32, 32]\n",
      "\u001b[32m[1225 14:06:56 @registry.py:121]\u001b[0m classify_1/conv_img32 input: [None, 768, 32, 32]\n",
      "\u001b[32m[1225 14:06:56 @registry.py:129]\u001b[0m classify_1/conv_img32 output: [None, 512, 32, 32]\n",
      "\u001b[32m[1225 14:06:56 @registry.py:121]\u001b[0m classify_1/groupl13/block0/conv1 input: [None, 128, 128, 128]\n",
      "\u001b[32m[1225 14:06:56 @registry.py:129]\u001b[0m classify_1/groupl13/block0/conv1 output: [None, 128, 128, 128]\n",
      "\u001b[32m[1225 14:06:56 @registry.py:121]\u001b[0m classify_1/groupl13/block0/conv2 input: [None, 128, 128, 128]\n",
      "\u001b[32m[1225 14:06:56 @registry.py:129]\u001b[0m classify_1/groupl13/block0/conv2 output: [None, 128, 128, 128]\n",
      "\u001b[32m[1225 14:06:56 @registry.py:121]\u001b[0m classify_1/groupl13/block0/gcb/spatial_pool_conv input: [None, 128, 128, 128]\n",
      "\u001b[32m[1225 14:06:56 @registry.py:129]\u001b[0m classify_1/groupl13/block0/gcb/spatial_pool_conv output: [None, 1, 128, 128]\n",
      "\u001b[32m[1225 14:06:56 @registry.py:121]\u001b[0m classify_1/groupl13/block0/gcb/channel_add_conv_1 input: [None, 128, 1, 1]\n",
      "\u001b[32m[1225 14:06:56 @registry.py:129]\u001b[0m classify_1/groupl13/block0/gcb/channel_add_conv_1 output: [None, 16, 1, 1]\n",
      "\u001b[32m[1225 14:06:56 @registry.py:121]\u001b[0m classify_1/groupl13/block0/gcb/channel_add_conv_2 input: [None, 16, 1, 1]\n",
      "\u001b[32m[1225 14:06:56 @registry.py:129]\u001b[0m classify_1/groupl13/block0/gcb/channel_add_conv_2 output: [None, 128, 1, 1]\n",
      "\u001b[32m[1225 14:06:56 @registry.py:121]\u001b[0m classify_1/groupl23/block0/conv1 input: [None, 256, 64, 64]\n",
      "\u001b[32m[1225 14:06:56 @registry.py:129]\u001b[0m classify_1/groupl23/block0/conv1 output: [None, 256, 64, 64]\n",
      "\u001b[32m[1225 14:06:56 @registry.py:121]\u001b[0m classify_1/groupl23/block0/conv2 input: [None, 256, 64, 64]\n",
      "\u001b[32m[1225 14:06:56 @registry.py:129]\u001b[0m classify_1/groupl23/block0/conv2 output: [None, 256, 64, 64]\n",
      "\u001b[32m[1225 14:06:56 @registry.py:121]\u001b[0m classify_1/groupl23/block0/gcb/spatial_pool_conv input: [None, 256, 64, 64]\n",
      "\u001b[32m[1225 14:06:56 @registry.py:129]\u001b[0m classify_1/groupl23/block0/gcb/spatial_pool_conv output: [None, 1, 64, 64]\n",
      "\u001b[32m[1225 14:06:56 @registry.py:121]\u001b[0m classify_1/groupl23/block0/gcb/channel_add_conv_1 input: [None, 256, 1, 1]\n",
      "\u001b[32m[1225 14:06:56 @registry.py:129]\u001b[0m classify_1/groupl23/block0/gcb/channel_add_conv_1 output: [None, 32, 1, 1]\n",
      "\u001b[32m[1225 14:06:56 @registry.py:121]\u001b[0m classify_1/groupl23/block0/gcb/channel_add_conv_2 input: [None, 32, 1, 1]\n",
      "\u001b[32m[1225 14:06:56 @registry.py:129]\u001b[0m classify_1/groupl23/block0/gcb/channel_add_conv_2 output: [None, 256, 1, 1]\n",
      "\u001b[32m[1225 14:06:56 @registry.py:121]\u001b[0m classify_1/groupl33/block0/conv1 input: [None, 512, 32, 32]\n",
      "\u001b[32m[1225 14:06:56 @registry.py:129]\u001b[0m classify_1/groupl33/block0/conv1 output: [None, 512, 32, 32]\n",
      "\u001b[32m[1225 14:06:56 @registry.py:121]\u001b[0m classify_1/groupl33/block0/conv2 input: [None, 512, 32, 32]\n",
      "\u001b[32m[1225 14:06:57 @registry.py:129]\u001b[0m classify_1/groupl33/block0/conv2 output: [None, 512, 32, 32]\n",
      "\u001b[32m[1225 14:06:57 @registry.py:121]\u001b[0m classify_1/groupl33/block0/gcb/spatial_pool_conv input: [None, 512, 32, 32]\n",
      "\u001b[32m[1225 14:06:57 @registry.py:129]\u001b[0m classify_1/groupl33/block0/gcb/spatial_pool_conv output: [None, 1, 32, 32]\n",
      "\u001b[32m[1225 14:06:57 @registry.py:121]\u001b[0m classify_1/groupl33/block0/gcb/channel_add_conv_1 input: [None, 512, 1, 1]\n",
      "\u001b[32m[1225 14:06:57 @registry.py:129]\u001b[0m classify_1/groupl33/block0/gcb/channel_add_conv_1 output: [None, 64, 1, 1]\n",
      "\u001b[32m[1225 14:06:57 @registry.py:121]\u001b[0m classify_1/groupl33/block0/gcb/channel_add_conv_2 input: [None, 64, 1, 1]\n",
      "\u001b[32m[1225 14:06:57 @registry.py:129]\u001b[0m classify_1/groupl33/block0/gcb/channel_add_conv_2 output: [None, 512, 1, 1]\n",
      "\u001b[32m[1225 14:06:57 @registry.py:121]\u001b[0m classify_1/conv_straight13 input: [None, 128, 128, 128]\n",
      "\u001b[32m[1225 14:06:57 @registry.py:129]\u001b[0m classify_1/conv_straight13 output: [None, 128, 128, 128]\n",
      "\u001b[32m[1225 14:06:57 @registry.py:121]\u001b[0m classify_1/com_141/up_0 input: [None, 256, 64, 64]\n",
      "\u001b[32m[1225 14:06:57 @registry.py:129]\u001b[0m classify_1/com_141/up_0 output: [None, 256, 128, 128]\n",
      "\u001b[32m[1225 14:06:57 @registry.py:121]\u001b[0m classify_1/com_141/conv_up input: [None, 256, 128, 128]\n",
      "\u001b[32m[1225 14:06:57 @registry.py:129]\u001b[0m classify_1/com_141/conv_up output: [None, 128, 128, 128]\n",
      "\u001b[32m[1225 14:06:57 @registry.py:121]\u001b[0m classify_1/com_142/up_0 input: [None, 512, 32, 32]\n",
      "\u001b[32m[1225 14:06:57 @registry.py:129]\u001b[0m classify_1/com_142/up_0 output: [None, 512, 64, 64]\n",
      "\u001b[32m[1225 14:06:57 @registry.py:121]\u001b[0m classify_1/com_142/up_1 input: [None, 512, 64, 64]\n",
      "\u001b[32m[1225 14:06:57 @registry.py:129]\u001b[0m classify_1/com_142/up_1 output: [None, 512, 128, 128]\n"
     ]
    },
    {
     "name": "stdout",
     "output_type": "stream",
     "text": [
      "\u001b[32m[1225 14:06:57 @registry.py:121]\u001b[0m classify_1/com_142/conv_up input: [None, 512, 128, 128]\n",
      "\u001b[32m[1225 14:06:57 @registry.py:129]\u001b[0m classify_1/com_142/conv_up output: [None, 128, 128, 128]\n",
      "\u001b[32m[1225 14:06:57 @registry.py:121]\u001b[0m classify_1/conv_straight23 input: [None, 256, 64, 64]\n",
      "\u001b[32m[1225 14:06:57 @registry.py:129]\u001b[0m classify_1/conv_straight23 output: [None, 256, 64, 64]\n",
      "\u001b[32m[1225 14:06:57 @registry.py:121]\u001b[0m classify_1/conv_down13 input: [None, 128, 128, 128]\n",
      "\u001b[32m[1225 14:06:57 @registry.py:129]\u001b[0m classify_1/conv_down13 output: [None, 256, 64, 64]\n",
      "\u001b[32m[1225 14:06:57 @registry.py:121]\u001b[0m classify_1/com_24/up_0 input: [None, 512, 32, 32]\n",
      "\u001b[32m[1225 14:06:57 @registry.py:129]\u001b[0m classify_1/com_24/up_0 output: [None, 512, 64, 64]\n",
      "\u001b[32m[1225 14:06:57 @registry.py:121]\u001b[0m classify_1/com_24/conv_up input: [None, 512, 64, 64]\n",
      "\u001b[32m[1225 14:06:57 @registry.py:129]\u001b[0m classify_1/com_24/conv_up output: [None, 256, 64, 64]\n",
      "\u001b[32m[1225 14:06:57 @registry.py:121]\u001b[0m classify_1/conv_straight33 input: [None, 512, 32, 32]\n",
      "\u001b[32m[1225 14:06:57 @registry.py:129]\u001b[0m classify_1/conv_straight33 output: [None, 512, 32, 32]\n",
      "\u001b[32m[1225 14:06:57 @registry.py:121]\u001b[0m classify_1/conv_downdown13 input: [None, 256, 64, 64]\n",
      "\u001b[32m[1225 14:06:57 @registry.py:129]\u001b[0m classify_1/conv_downdown13 output: [None, 512, 32, 32]\n",
      "\u001b[32m[1225 14:06:57 @registry.py:121]\u001b[0m classify_1/conv_down23 input: [None, 256, 64, 64]\n",
      "\u001b[32m[1225 14:06:57 @registry.py:129]\u001b[0m classify_1/conv_down23 output: [None, 512, 32, 32]\n",
      "\u001b[32m[1225 14:06:57 @registry.py:121]\u001b[0m head_fusion_classify_1/up_0 input: [None, 256, 64, 64]\n",
      "\u001b[32m[1225 14:06:57 @registry.py:129]\u001b[0m head_fusion_classify_1/up_0 output: [None, 256, 128, 128]\n",
      "\u001b[32m[1225 14:06:57 @registry.py:121]\u001b[0m head_fusion_classify_1/up_1 input: [None, 512, 32, 32]\n",
      "\u001b[32m[1225 14:06:57 @registry.py:129]\u001b[0m head_fusion_classify_1/up_1 output: [None, 512, 64, 64]\n",
      "\u001b[32m[1225 14:06:57 @registry.py:121]\u001b[0m head_fusion_classify_1/up_2 input: [None, 512, 64, 64]\n",
      "\u001b[32m[1225 14:06:58 @registry.py:129]\u001b[0m head_fusion_classify_1/up_2 output: [None, 512, 128, 128]\n",
      "\u001b[32m[1225 14:06:58 @registry.py:121]\u001b[0m head_fusion_classify_1/conv_mix input: [None, 896, 128, 128]\n",
      "\u001b[32m[1225 14:06:58 @registry.py:129]\u001b[0m head_fusion_classify_1/conv_mix output: [None, 256, 128, 128]\n",
      "\u001b[32m[1225 14:06:58 @registry.py:121]\u001b[0m classify_1/up input: [None, 256, 128, 128]\n",
      "\u001b[32m[1225 14:06:58 @registry.py:129]\u001b[0m classify_1/up output: [None, 256, 256, 256]\n",
      "\u001b[32m[1225 14:06:58 @registry.py:121]\u001b[0m classify_1/conv_out input: [None, 256, 256, 256]\n",
      "\u001b[32m[1225 14:06:58 @registry.py:129]\u001b[0m classify_1/conv_out output: [None, 4, 256, 256]\n",
      "\u001b[32m[1225 14:06:58 @registry.py:121]\u001b[0m classify_2/com_11/up_0 input: [None, 256, 64, 64]\n",
      "\u001b[32m[1225 14:06:58 @registry.py:129]\u001b[0m classify_2/com_11/up_0 output: [None, 256, 128, 128]\n",
      "\u001b[32m[1225 14:06:58 @registry.py:121]\u001b[0m classify_2/com_11/conv_up input: [None, 256, 128, 128]\n",
      "\u001b[32m[1225 14:06:58 @registry.py:129]\u001b[0m classify_2/com_11/conv_up output: [None, 128, 128, 128]\n",
      "\u001b[32m[1225 14:06:58 @registry.py:121]\u001b[0m classify_2/conv_img12 input: [None, 192, 128, 128]\n",
      "\u001b[32m[1225 14:06:58 @registry.py:129]\u001b[0m classify_2/conv_img12 output: [None, 128, 128, 128]\n",
      "\u001b[32m[1225 14:06:58 @registry.py:121]\u001b[0m classify_2/groupl11/block0/conv1 input: [None, 128, 128, 128]\n",
      "\u001b[32m[1225 14:06:58 @registry.py:129]\u001b[0m classify_2/groupl11/block0/conv1 output: [None, 128, 128, 128]\n",
      "\u001b[32m[1225 14:06:58 @registry.py:121]\u001b[0m classify_2/groupl11/block0/conv2 input: [None, 128, 128, 128]\n",
      "\u001b[32m[1225 14:06:58 @registry.py:129]\u001b[0m classify_2/groupl11/block0/conv2 output: [None, 128, 128, 128]\n",
      "\u001b[32m[1225 14:06:58 @registry.py:121]\u001b[0m classify_2/groupl11/block0/gcb/spatial_pool_conv input: [None, 128, 128, 128]\n",
      "\u001b[32m[1225 14:06:58 @registry.py:129]\u001b[0m classify_2/groupl11/block0/gcb/spatial_pool_conv output: [None, 1, 128, 128]\n",
      "\u001b[32m[1225 14:06:58 @registry.py:121]\u001b[0m classify_2/groupl11/block0/gcb/channel_add_conv_1 input: [None, 128, 1, 1]\n",
      "\u001b[32m[1225 14:06:58 @registry.py:129]\u001b[0m classify_2/groupl11/block0/gcb/channel_add_conv_1 output: [None, 16, 1, 1]\n",
      "\u001b[32m[1225 14:06:58 @registry.py:121]\u001b[0m classify_2/groupl11/block0/gcb/channel_add_conv_2 input: [None, 16, 1, 1]\n",
      "\u001b[32m[1225 14:06:58 @registry.py:129]\u001b[0m classify_2/groupl11/block0/gcb/channel_add_conv_2 output: [None, 128, 1, 1]\n",
      "\u001b[32m[1225 14:06:58 @registry.py:121]\u001b[0m classify_2/conv_straight11 input: [None, 128, 128, 128]\n",
      "\u001b[32m[1225 14:06:58 @registry.py:129]\u001b[0m classify_2/conv_straight11 output: [None, 128, 128, 128]\n",
      "\u001b[32m[1225 14:06:58 @registry.py:121]\u001b[0m classify_2/conv_down11 input: [None, 128, 128, 128]\n",
      "\u001b[32m[1225 14:06:58 @registry.py:129]\u001b[0m classify_2/conv_down11 output: [None, 256, 64, 64]\n",
      "\u001b[32m[1225 14:06:58 @registry.py:121]\u001b[0m classify_2/com_12/up_0 input: [None, 512, 32, 32]\n",
      "\u001b[32m[1225 14:06:58 @registry.py:129]\u001b[0m classify_2/com_12/up_0 output: [None, 512, 64, 64]\n",
      "\u001b[32m[1225 14:06:58 @registry.py:121]\u001b[0m classify_2/com_12/up_1 input: [None, 512, 64, 64]\n",
      "\u001b[32m[1225 14:06:58 @registry.py:129]\u001b[0m classify_2/com_12/up_1 output: [None, 512, 128, 128]\n",
      "\u001b[32m[1225 14:06:58 @registry.py:121]\u001b[0m classify_2/com_12/conv_up input: [None, 512, 128, 128]\n",
      "\u001b[32m[1225 14:06:58 @registry.py:129]\u001b[0m classify_2/com_12/conv_up output: [None, 128, 128, 128]\n",
      "\u001b[32m[1225 14:06:58 @registry.py:121]\u001b[0m classify_2/com_22/up_0 input: [None, 512, 32, 32]\n",
      "\u001b[32m[1225 14:06:58 @registry.py:129]\u001b[0m classify_2/com_22/up_0 output: [None, 512, 64, 64]\n",
      "\u001b[32m[1225 14:06:58 @registry.py:121]\u001b[0m classify_2/com_22/conv_up input: [None, 512, 64, 64]\n",
      "\u001b[32m[1225 14:06:58 @registry.py:129]\u001b[0m classify_2/com_22/conv_up output: [None, 256, 64, 64]\n",
      "\u001b[32m[1225 14:06:58 @registry.py:121]\u001b[0m classify_2/conv_img22 input: [None, 384, 64, 64]\n",
      "\u001b[32m[1225 14:06:58 @registry.py:129]\u001b[0m classify_2/conv_img22 output: [None, 256, 64, 64]\n",
      "\u001b[32m[1225 14:06:58 @registry.py:121]\u001b[0m classify_2/groupl12/block0/conv1 input: [None, 128, 128, 128]\n",
      "\u001b[32m[1225 14:06:58 @registry.py:129]\u001b[0m classify_2/groupl12/block0/conv1 output: [None, 128, 128, 128]\n",
      "\u001b[32m[1225 14:06:58 @registry.py:121]\u001b[0m classify_2/groupl12/block0/conv2 input: [None, 128, 128, 128]\n",
      "\u001b[32m[1225 14:06:58 @registry.py:129]\u001b[0m classify_2/groupl12/block0/conv2 output: [None, 128, 128, 128]\n",
      "\u001b[32m[1225 14:06:58 @registry.py:121]\u001b[0m classify_2/groupl12/block0/gcb/spatial_pool_conv input: [None, 128, 128, 128]\n",
      "\u001b[32m[1225 14:06:58 @registry.py:129]\u001b[0m classify_2/groupl12/block0/gcb/spatial_pool_conv output: [None, 1, 128, 128]\n",
      "\u001b[32m[1225 14:06:58 @registry.py:121]\u001b[0m classify_2/groupl12/block0/gcb/channel_add_conv_1 input: [None, 128, 1, 1]\n",
      "\u001b[32m[1225 14:06:58 @registry.py:129]\u001b[0m classify_2/groupl12/block0/gcb/channel_add_conv_1 output: [None, 16, 1, 1]\n",
      "\u001b[32m[1225 14:06:58 @registry.py:121]\u001b[0m classify_2/groupl12/block0/gcb/channel_add_conv_2 input: [None, 16, 1, 1]\n",
      "\u001b[32m[1225 14:06:58 @registry.py:129]\u001b[0m classify_2/groupl12/block0/gcb/channel_add_conv_2 output: [None, 128, 1, 1]\n",
      "\u001b[32m[1225 14:06:59 @registry.py:121]\u001b[0m classify_2/groupl22/block0/conv1 input: [None, 256, 64, 64]\n",
      "\u001b[32m[1225 14:06:59 @registry.py:129]\u001b[0m classify_2/groupl22/block0/conv1 output: [None, 256, 64, 64]\n",
      "\u001b[32m[1225 14:06:59 @registry.py:121]\u001b[0m classify_2/groupl22/block0/conv2 input: [None, 256, 64, 64]\n",
      "\u001b[32m[1225 14:06:59 @registry.py:129]\u001b[0m classify_2/groupl22/block0/conv2 output: [None, 256, 64, 64]\n",
      "\u001b[32m[1225 14:06:59 @registry.py:121]\u001b[0m classify_2/groupl22/block0/gcb/spatial_pool_conv input: [None, 256, 64, 64]\n",
      "\u001b[32m[1225 14:06:59 @registry.py:129]\u001b[0m classify_2/groupl22/block0/gcb/spatial_pool_conv output: [None, 1, 64, 64]\n",
      "\u001b[32m[1225 14:06:59 @registry.py:121]\u001b[0m classify_2/groupl22/block0/gcb/channel_add_conv_1 input: [None, 256, 1, 1]\n",
      "\u001b[32m[1225 14:06:59 @registry.py:129]\u001b[0m classify_2/groupl22/block0/gcb/channel_add_conv_1 output: [None, 32, 1, 1]\n",
      "\u001b[32m[1225 14:06:59 @registry.py:121]\u001b[0m classify_2/groupl22/block0/gcb/channel_add_conv_2 input: [None, 32, 1, 1]\n",
      "\u001b[32m[1225 14:06:59 @registry.py:129]\u001b[0m classify_2/groupl22/block0/gcb/channel_add_conv_2 output: [None, 256, 1, 1]\n",
      "\u001b[32m[1225 14:06:59 @registry.py:121]\u001b[0m classify_2/conv_straight12 input: [None, 128, 128, 128]\n"
     ]
    },
    {
     "name": "stdout",
     "output_type": "stream",
     "text": [
      "\u001b[32m[1225 14:06:59 @registry.py:129]\u001b[0m classify_2/conv_straight12 output: [None, 128, 128, 128]\n",
      "\u001b[32m[1225 14:06:59 @registry.py:121]\u001b[0m classify_2/com_13/up_0 input: [None, 256, 64, 64]\n",
      "\u001b[32m[1225 14:06:59 @registry.py:129]\u001b[0m classify_2/com_13/up_0 output: [None, 256, 128, 128]\n",
      "\u001b[32m[1225 14:06:59 @registry.py:121]\u001b[0m classify_2/com_13/conv_up input: [None, 256, 128, 128]\n",
      "\u001b[32m[1225 14:06:59 @registry.py:129]\u001b[0m classify_2/com_13/conv_up output: [None, 128, 128, 128]\n",
      "\u001b[32m[1225 14:06:59 @registry.py:121]\u001b[0m classify_2/conv_straight22 input: [None, 256, 64, 64]\n",
      "\u001b[32m[1225 14:06:59 @registry.py:129]\u001b[0m classify_2/conv_straight22 output: [None, 256, 64, 64]\n",
      "\u001b[32m[1225 14:06:59 @registry.py:121]\u001b[0m classify_2/conv_down12 input: [None, 128, 128, 128]\n",
      "\u001b[32m[1225 14:06:59 @registry.py:129]\u001b[0m classify_2/conv_down12 output: [None, 256, 64, 64]\n",
      "\u001b[32m[1225 14:06:59 @registry.py:121]\u001b[0m classify_2/conv_down22 input: [None, 256, 64, 64]\n",
      "\u001b[32m[1225 14:06:59 @registry.py:129]\u001b[0m classify_2/conv_down22 output: [None, 512, 32, 32]\n",
      "\u001b[32m[1225 14:06:59 @registry.py:121]\u001b[0m classify_2/conv_downdown12 input: [None, 256, 64, 64]\n",
      "\u001b[32m[1225 14:06:59 @registry.py:129]\u001b[0m classify_2/conv_downdown12 output: [None, 512, 32, 32]\n",
      "\u001b[32m[1225 14:06:59 @registry.py:121]\u001b[0m classify_2/conv_img32 input: [None, 768, 32, 32]\n",
      "\u001b[32m[1225 14:06:59 @registry.py:129]\u001b[0m classify_2/conv_img32 output: [None, 512, 32, 32]\n",
      "\u001b[32m[1225 14:06:59 @registry.py:121]\u001b[0m classify_2/groupl13/block0/conv1 input: [None, 128, 128, 128]\n",
      "\u001b[32m[1225 14:06:59 @registry.py:129]\u001b[0m classify_2/groupl13/block0/conv1 output: [None, 128, 128, 128]\n",
      "\u001b[32m[1225 14:06:59 @registry.py:121]\u001b[0m classify_2/groupl13/block0/conv2 input: [None, 128, 128, 128]\n",
      "\u001b[32m[1225 14:06:59 @registry.py:129]\u001b[0m classify_2/groupl13/block0/conv2 output: [None, 128, 128, 128]\n",
      "\u001b[32m[1225 14:06:59 @registry.py:121]\u001b[0m classify_2/groupl13/block0/gcb/spatial_pool_conv input: [None, 128, 128, 128]\n",
      "\u001b[32m[1225 14:06:59 @registry.py:129]\u001b[0m classify_2/groupl13/block0/gcb/spatial_pool_conv output: [None, 1, 128, 128]\n",
      "\u001b[32m[1225 14:06:59 @registry.py:121]\u001b[0m classify_2/groupl13/block0/gcb/channel_add_conv_1 input: [None, 128, 1, 1]\n",
      "\u001b[32m[1225 14:06:59 @registry.py:129]\u001b[0m classify_2/groupl13/block0/gcb/channel_add_conv_1 output: [None, 16, 1, 1]\n",
      "\u001b[32m[1225 14:06:59 @registry.py:121]\u001b[0m classify_2/groupl13/block0/gcb/channel_add_conv_2 input: [None, 16, 1, 1]\n",
      "\u001b[32m[1225 14:06:59 @registry.py:129]\u001b[0m classify_2/groupl13/block0/gcb/channel_add_conv_2 output: [None, 128, 1, 1]\n",
      "\u001b[32m[1225 14:06:59 @registry.py:121]\u001b[0m classify_2/groupl23/block0/conv1 input: [None, 256, 64, 64]\n",
      "\u001b[32m[1225 14:06:59 @registry.py:129]\u001b[0m classify_2/groupl23/block0/conv1 output: [None, 256, 64, 64]\n",
      "\u001b[32m[1225 14:06:59 @registry.py:121]\u001b[0m classify_2/groupl23/block0/conv2 input: [None, 256, 64, 64]\n",
      "\u001b[32m[1225 14:06:59 @registry.py:129]\u001b[0m classify_2/groupl23/block0/conv2 output: [None, 256, 64, 64]\n",
      "\u001b[32m[1225 14:06:59 @registry.py:121]\u001b[0m classify_2/groupl23/block0/gcb/spatial_pool_conv input: [None, 256, 64, 64]\n",
      "\u001b[32m[1225 14:06:59 @registry.py:129]\u001b[0m classify_2/groupl23/block0/gcb/spatial_pool_conv output: [None, 1, 64, 64]\n",
      "\u001b[32m[1225 14:06:59 @registry.py:121]\u001b[0m classify_2/groupl23/block0/gcb/channel_add_conv_1 input: [None, 256, 1, 1]\n",
      "\u001b[32m[1225 14:06:59 @registry.py:129]\u001b[0m classify_2/groupl23/block0/gcb/channel_add_conv_1 output: [None, 32, 1, 1]\n",
      "\u001b[32m[1225 14:06:59 @registry.py:121]\u001b[0m classify_2/groupl23/block0/gcb/channel_add_conv_2 input: [None, 32, 1, 1]\n",
      "\u001b[32m[1225 14:06:59 @registry.py:129]\u001b[0m classify_2/groupl23/block0/gcb/channel_add_conv_2 output: [None, 256, 1, 1]\n",
      "\u001b[32m[1225 14:06:59 @registry.py:121]\u001b[0m classify_2/groupl33/block0/conv1 input: [None, 512, 32, 32]\n",
      "\u001b[32m[1225 14:07:00 @registry.py:129]\u001b[0m classify_2/groupl33/block0/conv1 output: [None, 512, 32, 32]\n",
      "\u001b[32m[1225 14:07:00 @registry.py:121]\u001b[0m classify_2/groupl33/block0/conv2 input: [None, 512, 32, 32]\n",
      "\u001b[32m[1225 14:07:00 @registry.py:129]\u001b[0m classify_2/groupl33/block0/conv2 output: [None, 512, 32, 32]\n",
      "\u001b[32m[1225 14:07:00 @registry.py:121]\u001b[0m classify_2/groupl33/block0/gcb/spatial_pool_conv input: [None, 512, 32, 32]\n",
      "\u001b[32m[1225 14:07:00 @registry.py:129]\u001b[0m classify_2/groupl33/block0/gcb/spatial_pool_conv output: [None, 1, 32, 32]\n",
      "\u001b[32m[1225 14:07:00 @registry.py:121]\u001b[0m classify_2/groupl33/block0/gcb/channel_add_conv_1 input: [None, 512, 1, 1]\n",
      "\u001b[32m[1225 14:07:00 @registry.py:129]\u001b[0m classify_2/groupl33/block0/gcb/channel_add_conv_1 output: [None, 64, 1, 1]\n",
      "\u001b[32m[1225 14:07:00 @registry.py:121]\u001b[0m classify_2/groupl33/block0/gcb/channel_add_conv_2 input: [None, 64, 1, 1]\n",
      "\u001b[32m[1225 14:07:00 @registry.py:129]\u001b[0m classify_2/groupl33/block0/gcb/channel_add_conv_2 output: [None, 512, 1, 1]\n",
      "\u001b[32m[1225 14:07:00 @registry.py:121]\u001b[0m classify_2/conv_straight13 input: [None, 128, 128, 128]\n",
      "\u001b[32m[1225 14:07:00 @registry.py:129]\u001b[0m classify_2/conv_straight13 output: [None, 128, 128, 128]\n",
      "\u001b[32m[1225 14:07:00 @registry.py:121]\u001b[0m classify_2/com_141/up_0 input: [None, 256, 64, 64]\n",
      "\u001b[32m[1225 14:07:00 @registry.py:129]\u001b[0m classify_2/com_141/up_0 output: [None, 256, 128, 128]\n",
      "\u001b[32m[1225 14:07:00 @registry.py:121]\u001b[0m classify_2/com_141/conv_up input: [None, 256, 128, 128]\n",
      "\u001b[32m[1225 14:07:00 @registry.py:129]\u001b[0m classify_2/com_141/conv_up output: [None, 128, 128, 128]\n",
      "\u001b[32m[1225 14:07:00 @registry.py:121]\u001b[0m classify_2/com_142/up_0 input: [None, 512, 32, 32]\n",
      "\u001b[32m[1225 14:07:00 @registry.py:129]\u001b[0m classify_2/com_142/up_0 output: [None, 512, 64, 64]\n",
      "\u001b[32m[1225 14:07:00 @registry.py:121]\u001b[0m classify_2/com_142/up_1 input: [None, 512, 64, 64]\n",
      "\u001b[32m[1225 14:07:00 @registry.py:129]\u001b[0m classify_2/com_142/up_1 output: [None, 512, 128, 128]\n",
      "\u001b[32m[1225 14:07:00 @registry.py:121]\u001b[0m classify_2/com_142/conv_up input: [None, 512, 128, 128]\n",
      "\u001b[32m[1225 14:07:00 @registry.py:129]\u001b[0m classify_2/com_142/conv_up output: [None, 128, 128, 128]\n",
      "\u001b[32m[1225 14:07:00 @registry.py:121]\u001b[0m classify_2/conv_straight23 input: [None, 256, 64, 64]\n",
      "\u001b[32m[1225 14:07:00 @registry.py:129]\u001b[0m classify_2/conv_straight23 output: [None, 256, 64, 64]\n",
      "\u001b[32m[1225 14:07:00 @registry.py:121]\u001b[0m classify_2/conv_down13 input: [None, 128, 128, 128]\n",
      "\u001b[32m[1225 14:07:00 @registry.py:129]\u001b[0m classify_2/conv_down13 output: [None, 256, 64, 64]\n",
      "\u001b[32m[1225 14:07:00 @registry.py:121]\u001b[0m classify_2/com_24/up_0 input: [None, 512, 32, 32]\n",
      "\u001b[32m[1225 14:07:00 @registry.py:129]\u001b[0m classify_2/com_24/up_0 output: [None, 512, 64, 64]\n",
      "\u001b[32m[1225 14:07:00 @registry.py:121]\u001b[0m classify_2/com_24/conv_up input: [None, 512, 64, 64]\n",
      "\u001b[32m[1225 14:07:00 @registry.py:129]\u001b[0m classify_2/com_24/conv_up output: [None, 256, 64, 64]\n",
      "\u001b[32m[1225 14:07:00 @registry.py:121]\u001b[0m classify_2/conv_straight33 input: [None, 512, 32, 32]\n",
      "\u001b[32m[1225 14:07:00 @registry.py:129]\u001b[0m classify_2/conv_straight33 output: [None, 512, 32, 32]\n",
      "\u001b[32m[1225 14:07:00 @registry.py:121]\u001b[0m classify_2/conv_downdown13 input: [None, 256, 64, 64]\n",
      "\u001b[32m[1225 14:07:00 @registry.py:129]\u001b[0m classify_2/conv_downdown13 output: [None, 512, 32, 32]\n",
      "\u001b[32m[1225 14:07:00 @registry.py:121]\u001b[0m classify_2/conv_down23 input: [None, 256, 64, 64]\n",
      "\u001b[32m[1225 14:07:00 @registry.py:129]\u001b[0m classify_2/conv_down23 output: [None, 512, 32, 32]\n",
      "\u001b[32m[1225 14:07:00 @registry.py:121]\u001b[0m head_fusion_classify_2/up_0 input: [None, 256, 64, 64]\n",
      "\u001b[32m[1225 14:07:00 @registry.py:129]\u001b[0m head_fusion_classify_2/up_0 output: [None, 256, 128, 128]\n",
      "\u001b[32m[1225 14:07:00 @registry.py:121]\u001b[0m head_fusion_classify_2/up_1 input: [None, 512, 32, 32]\n",
      "\u001b[32m[1225 14:07:01 @registry.py:129]\u001b[0m head_fusion_classify_2/up_1 output: [None, 512, 64, 64]\n",
      "\u001b[32m[1225 14:07:01 @registry.py:121]\u001b[0m head_fusion_classify_2/up_2 input: [None, 512, 64, 64]\n",
      "\u001b[32m[1225 14:07:01 @registry.py:129]\u001b[0m head_fusion_classify_2/up_2 output: [None, 512, 128, 128]\n",
      "\u001b[32m[1225 14:07:01 @registry.py:121]\u001b[0m head_fusion_classify_2/conv_mix input: [None, 896, 128, 128]\n",
      "\u001b[32m[1225 14:07:01 @registry.py:129]\u001b[0m head_fusion_classify_2/conv_mix output: [None, 256, 128, 128]\n",
      "\u001b[32m[1225 14:07:01 @registry.py:121]\u001b[0m classify_2/up input: [None, 256, 128, 128]\n",
      "\u001b[32m[1225 14:07:01 @registry.py:129]\u001b[0m classify_2/up output: [None, 256, 256, 256]\n"
     ]
    },
    {
     "name": "stdout",
     "output_type": "stream",
     "text": [
      "\u001b[32m[1225 14:07:01 @registry.py:121]\u001b[0m classify_2/conv_out input: [None, 256, 256, 256]\n",
      "\u001b[32m[1225 14:07:01 @registry.py:129]\u001b[0m classify_2/conv_out output: [None, 4, 256, 256]\n",
      "\u001b[32m[1225 14:07:01 @registry.py:121]\u001b[0m conv_out_type input: [None, 8, 256, 256]\n",
      "\u001b[32m[1225 14:07:01 @registry.py:129]\u001b[0m conv_out_type output: [None, 5, 256, 256]\n",
      "\u001b[32m[1225 14:07:01 @registry.py:121]\u001b[0m u3b/us input: [None, 512, 32, 32]\n",
      "\u001b[32m[1225 14:07:01 @registry.py:129]\u001b[0m u3b/us output: [None, 512, 64, 64]\n",
      "\u001b[32m[1225 14:07:01 @registry.py:121]\u001b[0m u3b/conv_1 input: [None, 768, 64, 64]\n",
      "\u001b[32m[1225 14:07:01 @registry.py:129]\u001b[0m u3b/conv_1 output: [None, 256, 64, 64]\n",
      "\u001b[32m[1225 14:07:01 @registry.py:121]\u001b[0m u3b/conv_2 input: [None, 256, 64, 64]\n",
      "\u001b[32m[1225 14:07:01 @registry.py:129]\u001b[0m u3b/conv_2 output: [None, 256, 64, 64]\n",
      "\u001b[32m[1225 14:07:01 @registry.py:121]\u001b[0m u2b/us input: [None, 256, 64, 64]\n",
      "\u001b[32m[1225 14:07:01 @registry.py:129]\u001b[0m u2b/us output: [None, 256, 128, 128]\n",
      "\u001b[32m[1225 14:07:01 @registry.py:121]\u001b[0m u2b/conv_1 input: [None, 384, 128, 128]\n",
      "\u001b[32m[1225 14:07:01 @registry.py:129]\u001b[0m u2b/conv_1 output: [None, 128, 128, 128]\n",
      "\u001b[32m[1225 14:07:01 @registry.py:121]\u001b[0m u2b/conv_2 input: [None, 128, 128, 128]\n",
      "\u001b[32m[1225 14:07:01 @registry.py:129]\u001b[0m u2b/conv_2 output: [None, 128, 128, 128]\n",
      "\u001b[32m[1225 14:07:01 @registry.py:121]\u001b[0m u1b/us input: [None, 128, 128, 128]\n",
      "\u001b[32m[1225 14:07:01 @registry.py:129]\u001b[0m u1b/us output: [None, 128, 256, 256]\n",
      "\u001b[32m[1225 14:07:01 @registry.py:121]\u001b[0m u1b/conv_1 input: [None, 192, 256, 256]\n",
      "\u001b[32m[1225 14:07:01 @registry.py:129]\u001b[0m u1b/conv_1 output: [None, 64, 256, 256]\n",
      "\u001b[32m[1225 14:07:01 @registry.py:121]\u001b[0m u1b/conv_2 input: [None, 64, 256, 256]\n",
      "\u001b[32m[1225 14:07:01 @registry.py:129]\u001b[0m u1b/conv_2 output: [None, 64, 256, 256]\n",
      "\u001b[32m[1225 14:07:01 @registry.py:121]\u001b[0m conv_out_r input: [None, 64, 256, 256]\n",
      "\u001b[32m[1225 14:07:01 @registry.py:129]\u001b[0m conv_out_r output: [None, 1, 256, 256]\n",
      "\u001b[32m[1225 14:07:02 @develop.py:96]\u001b[0m \u001b[5m\u001b[31mWRN\u001b[0m [Deprecated] get_cost() and self.cost will be deprecated after 30 Mar. Return the cost tensor directly in build_graph() instead!\n",
      "\u001b[32m[1225 14:07:02 @develop.py:96]\u001b[0m \u001b[5m\u001b[31mWRN\u001b[0m [Deprecated] ModelDescBase._get_optimizer() interface will be deprecated after 30 Mar. Use optimizer() instead!\n",
      "\u001b[32m[1225 14:07:06 @gradproc.py:77]\u001b[0m \u001b[5m\u001b[31mWRN\u001b[0m No gradient w.r.t 190 trainable variables: group0/block0/conv1/W, group0/block0/conv1/bn/gamma, group0/block0/conv1/bn/beta, group0/block0/conv2/W, group0/block0/conv2/bn/gamma, group0/block0/conv2/bn/beta, group0/block0/gcb/spatial_pool_conv/W, group0/block0/gcb/channel_add_conv_1/W, group0/block0/gcb/channel_add_layernorm/beta, group0/block0/gcb/channel_add_layernorm/gamma, group0/block0/gcb/channel_add_conv_2/W, group0/block1/conv1/W, group0/block1/conv1/bn/gamma, group0/block1/conv1/bn/beta, group0/block1/conv2/W, group0/block1/conv2/bn/gamma, group0/block1/conv2/bn/beta, group0/block1/gcb/spatial_pool_conv/W, group0/block1/gcb/channel_add_conv_1/W, group0/block1/gcb/channel_add_layernorm/beta, group0/block1/gcb/channel_add_layernorm/gamma, group0/block1/gcb/channel_add_conv_2/W, group0/block2/conv1/W, group0/block2/conv1/bn/gamma, group0/block2/conv1/bn/beta, group0/block2/conv2/W, group0/block2/conv2/bn/gamma, group0/block2/conv2/bn/beta, group0/block2/gcb/spatial_pool_conv/W, group0/block2/gcb/channel_add_conv_1/W, group0/block2/gcb/channel_add_layernorm/beta, group0/block2/gcb/channel_add_layernorm/gamma, group0/block2/gcb/channel_add_conv_2/W, group1/block0/conv1/W, group1/block0/conv1/bn/gamma, group1/block0/conv1/bn/beta, group1/block0/conv2/W, group1/block0/conv2/bn/gamma, group1/block0/conv2/bn/beta, group1/block0/gcb/spatial_pool_conv/W, group1/block0/gcb/channel_add_conv_1/W, group1/block0/gcb/channel_add_layernorm/beta, group1/block0/gcb/channel_add_layernorm/gamma, group1/block0/gcb/channel_add_conv_2/W, group1/block0/convshortcut/W, group1/block0/convshortcut/bn/gamma, group1/block0/convshortcut/bn/beta, group1/block1/conv1/W, group1/block1/conv1/bn/gamma, group1/block1/conv1/bn/beta, group1/block1/conv2/W, group1/block1/conv2/bn/gamma, group1/block1/conv2/bn/beta, group1/block1/gcb/spatial_pool_conv/W, group1/block1/gcb/channel_add_conv_1/W, group1/block1/gcb/channel_add_layernorm/beta, group1/block1/gcb/channel_add_layernorm/gamma, group1/block1/gcb/channel_add_conv_2/W, group1/block2/conv1/W, group1/block2/conv1/bn/gamma, group1/block2/conv1/bn/beta, group1/block2/conv2/W, group1/block2/conv2/bn/gamma, group1/block2/conv2/bn/beta, group1/block2/gcb/spatial_pool_conv/W, group1/block2/gcb/channel_add_conv_1/W, group1/block2/gcb/channel_add_layernorm/beta, group1/block2/gcb/channel_add_layernorm/gamma, group1/block2/gcb/channel_add_conv_2/W, group1/block3/conv1/W, group1/block3/conv1/bn/gamma, group1/block3/conv1/bn/beta, group1/block3/conv2/W, group1/block3/conv2/bn/gamma, group1/block3/conv2/bn/beta, group1/block3/gcb/spatial_pool_conv/W, group1/block3/gcb/channel_add_conv_1/W, group1/block3/gcb/channel_add_layernorm/beta, group1/block3/gcb/channel_add_layernorm/gamma, group1/block3/gcb/channel_add_conv_2/W, group2/block0/conv1/W, group2/block0/conv1/bn/gamma, group2/block0/conv1/bn/beta, group2/block0/conv2/W, group2/block0/conv2/bn/gamma, group2/block0/conv2/bn/beta, group2/block0/gcb/spatial_pool_conv/W, group2/block0/gcb/channel_add_conv_1/W, group2/block0/gcb/channel_add_layernorm/beta, group2/block0/gcb/channel_add_layernorm/gamma, group2/block0/gcb/channel_add_conv_2/W, group2/block0/convshortcut/W, group2/block0/convshortcut/bn/gamma, group2/block0/convshortcut/bn/beta, group2/block1/conv1/W, group2/block1/conv1/bn/gamma, group2/block1/conv1/bn/beta, group2/block1/conv2/W, group2/block1/conv2/bn/gamma, group2/block1/conv2/bn/beta, group2/block1/gcb/spatial_pool_conv/W, group2/block1/gcb/channel_add_conv_1/W, group2/block1/gcb/channel_add_layernorm/beta, group2/block1/gcb/channel_add_layernorm/gamma, group2/block1/gcb/channel_add_conv_2/W, group2/block2/conv1/W, group2/block2/conv1/bn/gamma, group2/block2/conv1/bn/beta, group2/block2/conv2/W, group2/block2/conv2/bn/gamma, group2/block2/conv2/bn/beta, group2/block2/gcb/spatial_pool_conv/W, group2/block2/gcb/channel_add_conv_1/W, group2/block2/gcb/channel_add_layernorm/beta, group2/block2/gcb/channel_add_layernorm/gamma, group2/block2/gcb/channel_add_conv_2/W, group2/block3/conv1/W, group2/block3/conv1/bn/gamma, group2/block3/conv1/bn/beta, group2/block3/conv2/W, group2/block3/conv2/bn/gamma, group2/block3/conv2/bn/beta, group2/block3/gcb/spatial_pool_conv/W, group2/block3/gcb/channel_add_conv_1/W, group2/block3/gcb/channel_add_layernorm/beta, group2/block3/gcb/channel_add_layernorm/gamma, group2/block3/gcb/channel_add_conv_2/W, group2/block4/conv1/W, group2/block4/conv1/bn/gamma, group2/block4/conv1/bn/beta, group2/block4/conv2/W, group2/block4/conv2/bn/gamma, group2/block4/conv2/bn/beta, group2/block4/gcb/spatial_pool_conv/W, group2/block4/gcb/channel_add_conv_1/W, group2/block4/gcb/channel_add_layernorm/beta, group2/block4/gcb/channel_add_layernorm/gamma, group2/block4/gcb/channel_add_conv_2/W, group2/block5/conv1/W, group2/block5/conv1/bn/gamma, group2/block5/conv1/bn/beta, group2/block5/conv2/W, group2/block5/conv2/bn/gamma, group2/block5/conv2/bn/beta, group2/block5/gcb/spatial_pool_conv/W, group2/block5/gcb/channel_add_conv_1/W, group2/block5/gcb/channel_add_layernorm/beta, group2/block5/gcb/channel_add_layernorm/gamma, group2/block5/gcb/channel_add_conv_2/W, group3/block0/conv1/W, group3/block0/conv1/bn/gamma, group3/block0/conv1/bn/beta, group3/block0/conv2/W, group3/block0/conv2/bn/gamma, group3/block0/conv2/bn/beta, group3/block0/gcb/spatial_pool_conv/W, group3/block0/gcb/channel_add_conv_1/W, group3/block0/gcb/channel_add_layernorm/beta, group3/block0/gcb/channel_add_layernorm/gamma, group3/block0/gcb/channel_add_conv_2/W, group3/block0/convshortcut/W, group3/block0/convshortcut/bn/gamma, group3/block0/convshortcut/bn/beta, group3/block1/conv1/W, group3/block1/conv1/bn/gamma, group3/block1/conv1/bn/beta, group3/block1/conv2/W, group3/block1/conv2/bn/gamma, group3/block1/conv2/bn/beta, group3/block1/gcb/spatial_pool_conv/W, group3/block1/gcb/channel_add_conv_1/W, group3/block1/gcb/channel_add_layernorm/beta, group3/block1/gcb/channel_add_layernorm/gamma, group3/block1/gcb/channel_add_conv_2/W, group3/block2/conv1/W, group3/block2/conv1/bn/gamma, group3/block2/conv1/bn/beta, group3/block2/conv2/W, group3/block2/conv2/bn/gamma, group3/block2/conv2/bn/beta, group3/block2/gcb/spatial_pool_conv/W, group3/block2/gcb/channel_add_conv_1/W, group3/block2/gcb/channel_add_layernorm/beta, group3/block2/gcb/channel_add_layernorm/gamma, group3/block2/gcb/channel_add_conv_2/W, param1, param2, param3, param4, param5\n"
     ]
    },
    {
     "name": "stdout",
     "output_type": "stream",
     "text": [
      "\u001b[32m[1225 14:07:06 @training.py:114]\u001b[0m Building graph for training tower 1 ...\n",
      "\u001b[32m[1225 14:07:06 @develop.py:96]\u001b[0m \u001b[5m\u001b[31mWRN\u001b[0m [Deprecated] ModelDescBase._build_graph() interface will be deprecated after 30 Mar. Use build_graph() instead!\n",
      "\u001b[32m[1225 14:07:13 @develop.py:96]\u001b[0m \u001b[5m\u001b[31mWRN\u001b[0m [Deprecated] get_cost() and self.cost will be deprecated after 30 Mar. Return the cost tensor directly in build_graph() instead!\n",
      "\u001b[32m[1225 14:07:17 @gradproc.py:77]\u001b[0m \u001b[5m\u001b[31mWRN\u001b[0m No gradient w.r.t 190 trainable variables: group0/block0/conv1/W, group0/block0/conv1/bn/gamma, group0/block0/conv1/bn/beta, group0/block0/conv2/W, group0/block0/conv2/bn/gamma, group0/block0/conv2/bn/beta, group0/block0/gcb/spatial_pool_conv/W, group0/block0/gcb/channel_add_conv_1/W, group0/block0/gcb/channel_add_layernorm/beta, group0/block0/gcb/channel_add_layernorm/gamma, group0/block0/gcb/channel_add_conv_2/W, group0/block1/conv1/W, group0/block1/conv1/bn/gamma, group0/block1/conv1/bn/beta, group0/block1/conv2/W, group0/block1/conv2/bn/gamma, group0/block1/conv2/bn/beta, group0/block1/gcb/spatial_pool_conv/W, group0/block1/gcb/channel_add_conv_1/W, group0/block1/gcb/channel_add_layernorm/beta, group0/block1/gcb/channel_add_layernorm/gamma, group0/block1/gcb/channel_add_conv_2/W, group0/block2/conv1/W, group0/block2/conv1/bn/gamma, group0/block2/conv1/bn/beta, group0/block2/conv2/W, group0/block2/conv2/bn/gamma, group0/block2/conv2/bn/beta, group0/block2/gcb/spatial_pool_conv/W, group0/block2/gcb/channel_add_conv_1/W, group0/block2/gcb/channel_add_layernorm/beta, group0/block2/gcb/channel_add_layernorm/gamma, group0/block2/gcb/channel_add_conv_2/W, group1/block0/conv1/W, group1/block0/conv1/bn/gamma, group1/block0/conv1/bn/beta, group1/block0/conv2/W, group1/block0/conv2/bn/gamma, group1/block0/conv2/bn/beta, group1/block0/gcb/spatial_pool_conv/W, group1/block0/gcb/channel_add_conv_1/W, group1/block0/gcb/channel_add_layernorm/beta, group1/block0/gcb/channel_add_layernorm/gamma, group1/block0/gcb/channel_add_conv_2/W, group1/block0/convshortcut/W, group1/block0/convshortcut/bn/gamma, group1/block0/convshortcut/bn/beta, group1/block1/conv1/W, group1/block1/conv1/bn/gamma, group1/block1/conv1/bn/beta, group1/block1/conv2/W, group1/block1/conv2/bn/gamma, group1/block1/conv2/bn/beta, group1/block1/gcb/spatial_pool_conv/W, group1/block1/gcb/channel_add_conv_1/W, group1/block1/gcb/channel_add_layernorm/beta, group1/block1/gcb/channel_add_layernorm/gamma, group1/block1/gcb/channel_add_conv_2/W, group1/block2/conv1/W, group1/block2/conv1/bn/gamma, group1/block2/conv1/bn/beta, group1/block2/conv2/W, group1/block2/conv2/bn/gamma, group1/block2/conv2/bn/beta, group1/block2/gcb/spatial_pool_conv/W, group1/block2/gcb/channel_add_conv_1/W, group1/block2/gcb/channel_add_layernorm/beta, group1/block2/gcb/channel_add_layernorm/gamma, group1/block2/gcb/channel_add_conv_2/W, group1/block3/conv1/W, group1/block3/conv1/bn/gamma, group1/block3/conv1/bn/beta, group1/block3/conv2/W, group1/block3/conv2/bn/gamma, group1/block3/conv2/bn/beta, group1/block3/gcb/spatial_pool_conv/W, group1/block3/gcb/channel_add_conv_1/W, group1/block3/gcb/channel_add_layernorm/beta, group1/block3/gcb/channel_add_layernorm/gamma, group1/block3/gcb/channel_add_conv_2/W, group2/block0/conv1/W, group2/block0/conv1/bn/gamma, group2/block0/conv1/bn/beta, group2/block0/conv2/W, group2/block0/conv2/bn/gamma, group2/block0/conv2/bn/beta, group2/block0/gcb/spatial_pool_conv/W, group2/block0/gcb/channel_add_conv_1/W, group2/block0/gcb/channel_add_layernorm/beta, group2/block0/gcb/channel_add_layernorm/gamma, group2/block0/gcb/channel_add_conv_2/W, group2/block0/convshortcut/W, group2/block0/convshortcut/bn/gamma, group2/block0/convshortcut/bn/beta, group2/block1/conv1/W, group2/block1/conv1/bn/gamma, group2/block1/conv1/bn/beta, group2/block1/conv2/W, group2/block1/conv2/bn/gamma, group2/block1/conv2/bn/beta, group2/block1/gcb/spatial_pool_conv/W, group2/block1/gcb/channel_add_conv_1/W, group2/block1/gcb/channel_add_layernorm/beta, group2/block1/gcb/channel_add_layernorm/gamma, group2/block1/gcb/channel_add_conv_2/W, group2/block2/conv1/W, group2/block2/conv1/bn/gamma, group2/block2/conv1/bn/beta, group2/block2/conv2/W, group2/block2/conv2/bn/gamma, group2/block2/conv2/bn/beta, group2/block2/gcb/spatial_pool_conv/W, group2/block2/gcb/channel_add_conv_1/W, group2/block2/gcb/channel_add_layernorm/beta, group2/block2/gcb/channel_add_layernorm/gamma, group2/block2/gcb/channel_add_conv_2/W, group2/block3/conv1/W, group2/block3/conv1/bn/gamma, group2/block3/conv1/bn/beta, group2/block3/conv2/W, group2/block3/conv2/bn/gamma, group2/block3/conv2/bn/beta, group2/block3/gcb/spatial_pool_conv/W, group2/block3/gcb/channel_add_conv_1/W, group2/block3/gcb/channel_add_layernorm/beta, group2/block3/gcb/channel_add_layernorm/gamma, group2/block3/gcb/channel_add_conv_2/W, group2/block4/conv1/W, group2/block4/conv1/bn/gamma, group2/block4/conv1/bn/beta, group2/block4/conv2/W, group2/block4/conv2/bn/gamma, group2/block4/conv2/bn/beta, group2/block4/gcb/spatial_pool_conv/W, group2/block4/gcb/channel_add_conv_1/W, group2/block4/gcb/channel_add_layernorm/beta, group2/block4/gcb/channel_add_layernorm/gamma, group2/block4/gcb/channel_add_conv_2/W, group2/block5/conv1/W, group2/block5/conv1/bn/gamma, group2/block5/conv1/bn/beta, group2/block5/conv2/W, group2/block5/conv2/bn/gamma, group2/block5/conv2/bn/beta, group2/block5/gcb/spatial_pool_conv/W, group2/block5/gcb/channel_add_conv_1/W, group2/block5/gcb/channel_add_layernorm/beta, group2/block5/gcb/channel_add_layernorm/gamma, group2/block5/gcb/channel_add_conv_2/W, group3/block0/conv1/W, group3/block0/conv1/bn/gamma, group3/block0/conv1/bn/beta, group3/block0/conv2/W, group3/block0/conv2/bn/gamma, group3/block0/conv2/bn/beta, group3/block0/gcb/spatial_pool_conv/W, group3/block0/gcb/channel_add_conv_1/W, group3/block0/gcb/channel_add_layernorm/beta, group3/block0/gcb/channel_add_layernorm/gamma, group3/block0/gcb/channel_add_conv_2/W, group3/block0/convshortcut/W, group3/block0/convshortcut/bn/gamma, group3/block0/convshortcut/bn/beta, group3/block1/conv1/W, group3/block1/conv1/bn/gamma, group3/block1/conv1/bn/beta, group3/block1/conv2/W, group3/block1/conv2/bn/gamma, group3/block1/conv2/bn/beta, group3/block1/gcb/spatial_pool_conv/W, group3/block1/gcb/channel_add_conv_1/W, group3/block1/gcb/channel_add_layernorm/beta, group3/block1/gcb/channel_add_layernorm/gamma, group3/block1/gcb/channel_add_conv_2/W, group3/block2/conv1/W, group3/block2/conv1/bn/gamma, group3/block2/conv1/bn/beta, group3/block2/conv2/W, group3/block2/conv2/bn/gamma, group3/block2/conv2/bn/beta, group3/block2/gcb/spatial_pool_conv/W, group3/block2/gcb/channel_add_conv_1/W, group3/block2/gcb/channel_add_layernorm/beta, group3/block2/gcb/channel_add_layernorm/gamma, group3/block2/gcb/channel_add_conv_2/W, param1, param2, param3, param4, param5\n",
      "\u001b[32m[1225 14:07:22 @model_utils.py:64]\u001b[0m \u001b[36mTrainable Variables: \n",
      "\u001b[0mname                                                          shape                 dim  device\n",
      "------------------------------------------------------------  ----------------  -------  ------------------------------\n",
      "en_10x/conv_1/W:0                                             [3, 3, 3, 128]       3456  /replica:0/task:0/device:GPU:0\n",
      "en_10x/conv_1/bn/gamma:0                                      [128]                 128  /replica:0/task:0/device:GPU:1\n",
      "en_10x/conv_1/bn/beta:0                                       [128]                 128  /replica:0/task:0/device:GPU:1\n",
      "en_10x/conv_2/W:0                                             [3, 3, 128, 128]   147456  /replica:0/task:0/device:GPU:1\n",
      "en_10x/conv_2/bn/gamma:0                                      [128]                 128  /replica:0/task:0/device:GPU:0\n",
      "en_10x/conv_2/bn/beta:0                                       [128]                 128  /replica:0/task:0/device:GPU:0\n",
      "en_10x/gcb/spatial_pool_conv/W:0                              [1, 1, 128, 1]        128  /replica:0/task:0/device:GPU:0\n",
      "en_10x/gcb/channel_add_conv_1/W:0                             [1, 1, 128, 16]      2048  /replica:0/task:0/device:GPU:0\n",
      "en_10x/gcb/channel_add_layernorm/beta:0                       [16]                   16  /replica:0/task:0/device:GPU:0\n",
      "en_10x/gcb/channel_add_layernorm/gamma:0                      [16]                   16  /replica:0/task:0/device:GPU:0\n",
      "en_10x/gcb/channel_add_conv_2/W:0                             [1, 1, 16, 128]      2048  /replica:0/task:0/device:GPU:0\n",
      "cov_10x_up/W:0                                                [3, 3, 128, 64]     73728  /replica:0/task:0/device:GPU:0\n",
      "cov_10x_up/bn/gamma:0                                         [64]                   64  /replica:0/task:0/device:GPU:0\n",
      "cov_10x_up/bn/beta:0                                          [64]                   64  /replica:0/task:0/device:GPU:0\n",
      "cov_10x_down/W:0                                              [3, 3, 128, 256]   294912  /replica:0/task:0/device:GPU:0\n",
      "cov_10x_down/bn/gamma:0                                       [256]                 256  /replica:0/task:0/device:GPU:1\n",
      "cov_10x_down/bn/beta:0                                        [256]                 256  /replica:0/task:0/device:GPU:1\n",
      "cov_10x_straight/W:0                                          [3, 3, 128, 128]   147456  /replica:0/task:0/device:GPU:1\n",
      "cov_10x_straight/bn/gamma:0                                   [128]                 128  /replica:0/task:0/device:GPU:1\n",
      "cov_10x_straight/bn/beta:0                                    [128]                 128  /replica:0/task:0/device:GPU:1\n",
      "en_40x/conv_1/W:0                                             [3, 3, 3, 128]       3456  /replica:0/task:0/device:GPU:1\n",
      "en_40x/conv_1/bn/gamma:0                                      [128]                 128  /replica:0/task:0/device:GPU:1\n",
      "en_40x/conv_1/bn/beta:0                                       [128]                 128  /replica:0/task:0/device:GPU:1\n",
      "en_40x/conv_2/W:0                                             [3, 3, 128, 128]   147456  /replica:0/task:0/device:GPU:1\n",
      "en_40x/conv_2/bn/gamma:0                                      [128]                 128  /replica:0/task:0/device:GPU:0\n",
      "en_40x/conv_2/bn/beta:0                                       [128]                 128  /replica:0/task:0/device:GPU:0\n",
      "en_40x/gcb/spatial_pool_conv/W:0                              [1, 1, 128, 1]        128  /replica:0/task:0/device:GPU:0\n",
      "en_40x/gcb/channel_add_conv_1/W:0                             [1, 1, 128, 16]      2048  /replica:0/task:0/device:GPU:0\n",
      "en_40x/gcb/channel_add_layernorm/beta:0                       [16]                   16  /replica:0/task:0/device:GPU:0\n",
      "en_40x/gcb/channel_add_layernorm/gamma:0                      [16]                   16  /replica:0/task:0/device:GPU:0\n",
      "en_40x/gcb/channel_add_conv_2/W:0                             [1, 1, 16, 128]      2048  /replica:0/task:0/device:GPU:0\n",
      "cov_40x_up/W:0                                                [3, 3, 128, 64]     73728  /replica:0/task:0/device:GPU:0\n",
      "cov_40x_up/bn/gamma:0                                         [64]                   64  /replica:0/task:0/device:GPU:1\n",
      "cov_40x_up/bn/beta:0                                          [64]                   64  /replica:0/task:0/device:GPU:1\n",
      "cov_40x_down/W:0                                              [3, 3, 128, 256]   294912  /replica:0/task:0/device:GPU:1\n",
      "cov_40x_down/bn/gamma:0                                       [256]                 256  /replica:0/task:0/device:GPU:0\n",
      "cov_40x_down/bn/beta:0                                        [256]                 256  /replica:0/task:0/device:GPU:0\n",
      "cov_40x_straight/W:0                                          [3, 3, 128, 128]   147456  /replica:0/task:0/device:GPU:0\n",
      "cov_40x_straight/bn/gamma:0                                   [128]                 128  /replica:0/task:0/device:GPU:0\n",
      "cov_40x_straight/bn/beta:0                                    [128]                 128  /replica:0/task:0/device:GPU:0\n",
      "conv0/W:0                                                     [7, 7, 3, 64]        9408  /replica:0/task:0/device:GPU:0\n",
      "conv0/bn/gamma:0                                              [64]                   64  /replica:0/task:0/device:GPU:0\n",
      "conv0/bn/beta:0                                               [64]                   64  /replica:0/task:0/device:GPU:0\n",
      "group0/block0/conv1/W:0                                       [3, 3, 64, 64]      36864  /replica:0/task:0/device:GPU:0\n",
      "group0/block0/conv1/bn/gamma:0                                [64]                   64  /replica:0/task:0/device:GPU:0\n",
      "group0/block0/conv1/bn/beta:0                                 [64]                   64  /replica:0/task:0/device:GPU:0\n",
      "group0/block0/conv2/W:0                                       [3, 3, 64, 64]      36864  /replica:0/task:0/device:GPU:0\n",
      "group0/block0/conv2/bn/gamma:0                                [64]                   64  /replica:0/task:0/device:GPU:0\n",
      "group0/block0/conv2/bn/beta:0                                 [64]                   64  /replica:0/task:0/device:GPU:0\n",
      "group0/block0/gcb/spatial_pool_conv/W:0                       [1, 1, 64, 1]          64  /replica:0/task:0/device:GPU:0\n",
      "group0/block0/gcb/channel_add_conv_1/W:0                      [1, 1, 64, 8]         512  /replica:0/task:0/device:GPU:0\n",
      "group0/block0/gcb/channel_add_layernorm/beta:0                [8]                     8  /replica:0/task:0/device:GPU:0\n",
      "group0/block0/gcb/channel_add_layernorm/gamma:0               [8]                     8  /replica:0/task:0/device:GPU:0\n",
      "group0/block0/gcb/channel_add_conv_2/W:0                      [1, 1, 8, 64]         512  /replica:0/task:0/device:GPU:0\n",
      "group0/block1/conv1/W:0                                       [3, 3, 64, 64]      36864  /replica:0/task:0/device:GPU:0\n",
      "group0/block1/conv1/bn/gamma:0                                [64]                   64  /replica:0/task:0/device:GPU:0\n",
      "group0/block1/conv1/bn/beta:0                                 [64]                   64  /replica:0/task:0/device:GPU:0\n",
      "group0/block1/conv2/W:0                                       [3, 3, 64, 64]      36864  /replica:0/task:0/device:GPU:0\n",
      "group0/block1/conv2/bn/gamma:0                                [64]                   64  /replica:0/task:0/device:GPU:1\n",
      "group0/block1/conv2/bn/beta:0                                 [64]                   64  /replica:0/task:0/device:GPU:1\n",
      "group0/block1/gcb/spatial_pool_conv/W:0                       [1, 1, 64, 1]          64  /replica:0/task:0/device:GPU:1\n",
      "group0/block1/gcb/channel_add_conv_1/W:0                      [1, 1, 64, 8]         512  /replica:0/task:0/device:GPU:1\n",
      "group0/block1/gcb/channel_add_layernorm/beta:0                [8]                     8  /replica:0/task:0/device:GPU:1\n",
      "group0/block1/gcb/channel_add_layernorm/gamma:0               [8]                     8  /replica:0/task:0/device:GPU:1\n",
      "group0/block1/gcb/channel_add_conv_2/W:0                      [1, 1, 8, 64]         512  /replica:0/task:0/device:GPU:1\n",
      "group0/block2/conv1/W:0                                       [3, 3, 64, 64]      36864  /replica:0/task:0/device:GPU:1\n",
      "group0/block2/conv1/bn/gamma:0                                [64]                   64  /replica:0/task:0/device:GPU:0\n",
      "group0/block2/conv1/bn/beta:0                                 [64]                   64  /replica:0/task:0/device:GPU:0\n",
      "group0/block2/conv2/W:0                                       [3, 3, 64, 64]      36864  /replica:0/task:0/device:GPU:0\n",
      "group0/block2/conv2/bn/gamma:0                                [64]                   64  /replica:0/task:0/device:GPU:1\n",
      "group0/block2/conv2/bn/beta:0                                 [64]                   64  /replica:0/task:0/device:GPU:1\n",
      "group0/block2/gcb/spatial_pool_conv/W:0                       [1, 1, 64, 1]          64  /replica:0/task:0/device:GPU:1\n",
      "group0/block2/gcb/channel_add_conv_1/W:0                      [1, 1, 64, 8]         512  /replica:0/task:0/device:GPU:1\n",
      "group0/block2/gcb/channel_add_layernorm/beta:0                [8]                     8  /replica:0/task:0/device:GPU:1\n",
      "group0/block2/gcb/channel_add_layernorm/gamma:0               [8]                     8  /replica:0/task:0/device:GPU:1\n",
      "group0/block2/gcb/channel_add_conv_2/W:0                      [1, 1, 8, 64]         512  /replica:0/task:0/device:GPU:1\n",
      "group1/block0/conv1/W:0                                       [3, 3, 64, 128]     73728  /replica:0/task:0/device:GPU:1\n",
      "group1/block0/conv1/bn/gamma:0                                [128]                 128  /replica:0/task:0/device:GPU:0\n",
      "group1/block0/conv1/bn/beta:0                                 [128]                 128  /replica:0/task:0/device:GPU:0\n",
      "group1/block0/conv2/W:0                                       [3, 3, 128, 128]   147456  /replica:0/task:0/device:GPU:0\n",
      "group1/block0/conv2/bn/gamma:0                                [128]                 128  /replica:0/task:0/device:GPU:1\n",
      "group1/block0/conv2/bn/beta:0                                 [128]                 128  /replica:0/task:0/device:GPU:1\n",
      "group1/block0/gcb/spatial_pool_conv/W:0                       [1, 1, 128, 1]        128  /replica:0/task:0/device:GPU:1\n",
      "group1/block0/gcb/channel_add_conv_1/W:0                      [1, 1, 128, 16]      2048  /replica:0/task:0/device:GPU:1\n",
      "group1/block0/gcb/channel_add_layernorm/beta:0                [16]                   16  /replica:0/task:0/device:GPU:1\n",
      "group1/block0/gcb/channel_add_layernorm/gamma:0               [16]                   16  /replica:0/task:0/device:GPU:1\n",
      "group1/block0/gcb/channel_add_conv_2/W:0                      [1, 1, 16, 128]      2048  /replica:0/task:0/device:GPU:1\n",
      "group1/block0/convshortcut/W:0                                [1, 1, 64, 128]      8192  /replica:0/task:0/device:GPU:1\n",
      "group1/block0/convshortcut/bn/gamma:0                         [128]                 128  /replica:0/task:0/device:GPU:1\n",
      "group1/block0/convshortcut/bn/beta:0                          [128]                 128  /replica:0/task:0/device:GPU:1\n",
      "group1/block1/conv1/W:0                                       [3, 3, 128, 128]   147456  /replica:0/task:0/device:GPU:1\n",
      "group1/block1/conv1/bn/gamma:0                                [128]                 128  /replica:0/task:0/device:GPU:0\n",
      "group1/block1/conv1/bn/beta:0                                 [128]                 128  /replica:0/task:0/device:GPU:0\n",
      "group1/block1/conv2/W:0                                       [3, 3, 128, 128]   147456  /replica:0/task:0/device:GPU:0\n",
      "group1/block1/conv2/bn/gamma:0                                [128]                 128  /replica:0/task:0/device:GPU:1\n",
      "group1/block1/conv2/bn/beta:0                                 [128]                 128  /replica:0/task:0/device:GPU:1\n",
      "group1/block1/gcb/spatial_pool_conv/W:0                       [1, 1, 128, 1]        128  /replica:0/task:0/device:GPU:1\n",
      "group1/block1/gcb/channel_add_conv_1/W:0                      [1, 1, 128, 16]      2048  /replica:0/task:0/device:GPU:1\n",
      "group1/block1/gcb/channel_add_layernorm/beta:0                [16]                   16  /replica:0/task:0/device:GPU:1\n",
      "group1/block1/gcb/channel_add_layernorm/gamma:0               [16]                   16  /replica:0/task:0/device:GPU:1\n",
      "group1/block1/gcb/channel_add_conv_2/W:0                      [1, 1, 16, 128]      2048  /replica:0/task:0/device:GPU:1\n",
      "group1/block2/conv1/W:0                                       [3, 3, 128, 128]   147456  /replica:0/task:0/device:GPU:1\n",
      "group1/block2/conv1/bn/gamma:0                                [128]                 128  /replica:0/task:0/device:GPU:0\n",
      "group1/block2/conv1/bn/beta:0                                 [128]                 128  /replica:0/task:0/device:GPU:0\n",
      "group1/block2/conv2/W:0                                       [3, 3, 128, 128]   147456  /replica:0/task:0/device:GPU:0\n",
      "group1/block2/conv2/bn/gamma:0                                [128]                 128  /replica:0/task:0/device:GPU:1\n",
      "group1/block2/conv2/bn/beta:0                                 [128]                 128  /replica:0/task:0/device:GPU:1\n",
      "group1/block2/gcb/spatial_pool_conv/W:0                       [1, 1, 128, 1]        128  /replica:0/task:0/device:GPU:1\n",
      "group1/block2/gcb/channel_add_conv_1/W:0                      [1, 1, 128, 16]      2048  /replica:0/task:0/device:GPU:1\n",
      "group1/block2/gcb/channel_add_layernorm/beta:0                [16]                   16  /replica:0/task:0/device:GPU:1\n",
      "group1/block2/gcb/channel_add_layernorm/gamma:0               [16]                   16  /replica:0/task:0/device:GPU:1\n",
      "group1/block2/gcb/channel_add_conv_2/W:0                      [1, 1, 16, 128]      2048  /replica:0/task:0/device:GPU:1\n",
      "group1/block3/conv1/W:0                                       [3, 3, 128, 128]   147456  /replica:0/task:0/device:GPU:1\n",
      "group1/block3/conv1/bn/gamma:0                                [128]                 128  /replica:0/task:0/device:GPU:0\n",
      "group1/block3/conv1/bn/beta:0                                 [128]                 128  /replica:0/task:0/device:GPU:0\n",
      "group1/block3/conv2/W:0                                       [3, 3, 128, 128]   147456  /replica:0/task:0/device:GPU:0\n",
      "group1/block3/conv2/bn/gamma:0                                [128]                 128  /replica:0/task:0/device:GPU:1\n",
      "group1/block3/conv2/bn/beta:0                                 [128]                 128  /replica:0/task:0/device:GPU:1\n",
      "group1/block3/gcb/spatial_pool_conv/W:0                       [1, 1, 128, 1]        128  /replica:0/task:0/device:GPU:1\n",
      "group1/block3/gcb/channel_add_conv_1/W:0                      [1, 1, 128, 16]      2048  /replica:0/task:0/device:GPU:1\n",
      "group1/block3/gcb/channel_add_layernorm/beta:0                [16]                   16  /replica:0/task:0/device:GPU:1\n",
      "group1/block3/gcb/channel_add_layernorm/gamma:0               [16]                   16  /replica:0/task:0/device:GPU:1\n",
      "group1/block3/gcb/channel_add_conv_2/W:0                      [1, 1, 16, 128]      2048  /replica:0/task:0/device:GPU:1\n",
      "group2/block0/conv1/W:0                                       [3, 3, 128, 256]   294912  /replica:0/task:0/device:GPU:1\n",
      "group2/block0/conv1/bn/gamma:0                                [256]                 256  /replica:0/task:0/device:GPU:0\n",
      "group2/block0/conv1/bn/beta:0                                 [256]                 256  /replica:0/task:0/device:GPU:0\n",
      "group2/block0/conv2/W:0                                       [3, 3, 256, 256]   589824  /replica:0/task:0/device:GPU:0\n",
      "group2/block0/conv2/bn/gamma:0                                [256]                 256  /replica:0/task:0/device:GPU:1\n",
      "group2/block0/conv2/bn/beta:0                                 [256]                 256  /replica:0/task:0/device:GPU:1\n",
      "group2/block0/gcb/spatial_pool_conv/W:0                       [1, 1, 256, 1]        256  /replica:0/task:0/device:GPU:1\n",
      "group2/block0/gcb/channel_add_conv_1/W:0                      [1, 1, 256, 32]      8192  /replica:0/task:0/device:GPU:1\n",
      "group2/block0/gcb/channel_add_layernorm/beta:0                [32]                   32  /replica:0/task:0/device:GPU:1\n",
      "group2/block0/gcb/channel_add_layernorm/gamma:0               [32]                   32  /replica:0/task:0/device:GPU:1\n",
      "group2/block0/gcb/channel_add_conv_2/W:0                      [1, 1, 32, 256]      8192  /replica:0/task:0/device:GPU:1\n",
      "group2/block0/convshortcut/W:0                                [1, 1, 128, 256]    32768  /replica:0/task:0/device:GPU:1\n",
      "group2/block0/convshortcut/bn/gamma:0                         [256]                 256  /replica:0/task:0/device:GPU:1\n",
      "group2/block0/convshortcut/bn/beta:0                          [256]                 256  /replica:0/task:0/device:GPU:1\n",
      "group2/block1/conv1/W:0                                       [3, 3, 256, 256]   589824  /replica:0/task:0/device:GPU:1\n",
      "group2/block1/conv1/bn/gamma:0                                [256]                 256  /replica:0/task:0/device:GPU:0\n",
      "group2/block1/conv1/bn/beta:0                                 [256]                 256  /replica:0/task:0/device:GPU:0\n",
      "group2/block1/conv2/W:0                                       [3, 3, 256, 256]   589824  /replica:0/task:0/device:GPU:0\n",
      "group2/block1/conv2/bn/gamma:0                                [256]                 256  /replica:0/task:0/device:GPU:1\n",
      "group2/block1/conv2/bn/beta:0                                 [256]                 256  /replica:0/task:0/device:GPU:1\n",
      "group2/block1/gcb/spatial_pool_conv/W:0                       [1, 1, 256, 1]        256  /replica:0/task:0/device:GPU:1\n",
      "group2/block1/gcb/channel_add_conv_1/W:0                      [1, 1, 256, 32]      8192  /replica:0/task:0/device:GPU:1\n",
      "group2/block1/gcb/channel_add_layernorm/beta:0                [32]                   32  /replica:0/task:0/device:GPU:1\n",
      "group2/block1/gcb/channel_add_layernorm/gamma:0               [32]                   32  /replica:0/task:0/device:GPU:1\n",
      "group2/block1/gcb/channel_add_conv_2/W:0                      [1, 1, 32, 256]      8192  /replica:0/task:0/device:GPU:1\n",
      "group2/block2/conv1/W:0                                       [3, 3, 256, 256]   589824  /replica:0/task:0/device:GPU:1\n",
      "group2/block2/conv1/bn/gamma:0                                [256]                 256  /replica:0/task:0/device:GPU:0\n",
      "group2/block2/conv1/bn/beta:0                                 [256]                 256  /replica:0/task:0/device:GPU:0\n",
      "group2/block2/conv2/W:0                                       [3, 3, 256, 256]   589824  /replica:0/task:0/device:GPU:0\n",
      "group2/block2/conv2/bn/gamma:0                                [256]                 256  /replica:0/task:0/device:GPU:1\n",
      "group2/block2/conv2/bn/beta:0                                 [256]                 256  /replica:0/task:0/device:GPU:1\n",
      "group2/block2/gcb/spatial_pool_conv/W:0                       [1, 1, 256, 1]        256  /replica:0/task:0/device:GPU:1\n",
      "group2/block2/gcb/channel_add_conv_1/W:0                      [1, 1, 256, 32]      8192  /replica:0/task:0/device:GPU:1\n",
      "group2/block2/gcb/channel_add_layernorm/beta:0                [32]                   32  /replica:0/task:0/device:GPU:1\n",
      "group2/block2/gcb/channel_add_layernorm/gamma:0               [32]                   32  /replica:0/task:0/device:GPU:1\n",
      "group2/block2/gcb/channel_add_conv_2/W:0                      [1, 1, 32, 256]      8192  /replica:0/task:0/device:GPU:1\n",
      "group2/block3/conv1/W:0                                       [3, 3, 256, 256]   589824  /replica:0/task:0/device:GPU:1\n",
      "group2/block3/conv1/bn/gamma:0                                [256]                 256  /replica:0/task:0/device:GPU:0\n",
      "group2/block3/conv1/bn/beta:0                                 [256]                 256  /replica:0/task:0/device:GPU:0\n",
      "group2/block3/conv2/W:0                                       [3, 3, 256, 256]   589824  /replica:0/task:0/device:GPU:0\n",
      "group2/block3/conv2/bn/gamma:0                                [256]                 256  /replica:0/task:0/device:GPU:1\n",
      "group2/block3/conv2/bn/beta:0                                 [256]                 256  /replica:0/task:0/device:GPU:1\n",
      "group2/block3/gcb/spatial_pool_conv/W:0                       [1, 1, 256, 1]        256  /replica:0/task:0/device:GPU:1\n",
      "group2/block3/gcb/channel_add_conv_1/W:0                      [1, 1, 256, 32]      8192  /replica:0/task:0/device:GPU:1\n",
      "group2/block3/gcb/channel_add_layernorm/beta:0                [32]                   32  /replica:0/task:0/device:GPU:1\n",
      "group2/block3/gcb/channel_add_layernorm/gamma:0               [32]                   32  /replica:0/task:0/device:GPU:1\n",
      "group2/block3/gcb/channel_add_conv_2/W:0                      [1, 1, 32, 256]      8192  /replica:0/task:0/device:GPU:1\n",
      "group2/block4/conv1/W:0                                       [3, 3, 256, 256]   589824  /replica:0/task:0/device:GPU:1\n",
      "group2/block4/conv1/bn/gamma:0                                [256]                 256  /replica:0/task:0/device:GPU:0\n",
      "group2/block4/conv1/bn/beta:0                                 [256]                 256  /replica:0/task:0/device:GPU:0\n",
      "group2/block4/conv2/W:0                                       [3, 3, 256, 256]   589824  /replica:0/task:0/device:GPU:0\n",
      "group2/block4/conv2/bn/gamma:0                                [256]                 256  /replica:0/task:0/device:GPU:1\n",
      "group2/block4/conv2/bn/beta:0                                 [256]                 256  /replica:0/task:0/device:GPU:1\n",
      "group2/block4/gcb/spatial_pool_conv/W:0                       [1, 1, 256, 1]        256  /replica:0/task:0/device:GPU:1\n",
      "group2/block4/gcb/channel_add_conv_1/W:0                      [1, 1, 256, 32]      8192  /replica:0/task:0/device:GPU:1\n",
      "group2/block4/gcb/channel_add_layernorm/beta:0                [32]                   32  /replica:0/task:0/device:GPU:1\n",
      "group2/block4/gcb/channel_add_layernorm/gamma:0               [32]                   32  /replica:0/task:0/device:GPU:1\n",
      "group2/block4/gcb/channel_add_conv_2/W:0                      [1, 1, 32, 256]      8192  /replica:0/task:0/device:GPU:1\n",
      "group2/block5/conv1/W:0                                       [3, 3, 256, 256]   589824  /replica:0/task:0/device:GPU:1\n",
      "group2/block5/conv1/bn/gamma:0                                [256]                 256  /replica:0/task:0/device:GPU:0\n",
      "group2/block5/conv1/bn/beta:0                                 [256]                 256  /replica:0/task:0/device:GPU:0\n",
      "group2/block5/conv2/W:0                                       [3, 3, 256, 256]   589824  /replica:0/task:0/device:GPU:0\n",
      "group2/block5/conv2/bn/gamma:0                                [256]                 256  /replica:0/task:0/device:GPU:1\n",
      "group2/block5/conv2/bn/beta:0                                 [256]                 256  /replica:0/task:0/device:GPU:1\n",
      "group2/block5/gcb/spatial_pool_conv/W:0                       [1, 1, 256, 1]        256  /replica:0/task:0/device:GPU:1\n",
      "group2/block5/gcb/channel_add_conv_1/W:0                      [1, 1, 256, 32]      8192  /replica:0/task:0/device:GPU:1\n",
      "group2/block5/gcb/channel_add_layernorm/beta:0                [32]                   32  /replica:0/task:0/device:GPU:1\n",
      "group2/block5/gcb/channel_add_layernorm/gamma:0               [32]                   32  /replica:0/task:0/device:GPU:1\n",
      "group2/block5/gcb/channel_add_conv_2/W:0                      [1, 1, 32, 256]      8192  /replica:0/task:0/device:GPU:1\n",
      "group3/block0/conv1/W:0                                       [3, 3, 256, 512]  1179648  /replica:0/task:0/device:GPU:1\n",
      "group3/block0/conv1/bn/gamma:0                                [512]                 512  /replica:0/task:0/device:GPU:0\n",
      "group3/block0/conv1/bn/beta:0                                 [512]                 512  /replica:0/task:0/device:GPU:0\n",
      "group3/block0/conv2/W:0                                       [3, 3, 512, 512]  2359296  /replica:0/task:0/device:GPU:0\n",
      "group3/block0/conv2/bn/gamma:0                                [512]                 512  /replica:0/task:0/device:GPU:1\n",
      "group3/block0/conv2/bn/beta:0                                 [512]                 512  /replica:0/task:0/device:GPU:1\n",
      "group3/block0/gcb/spatial_pool_conv/W:0                       [1, 1, 512, 1]        512  /replica:0/task:0/device:GPU:1\n",
      "group3/block0/gcb/channel_add_conv_1/W:0                      [1, 1, 512, 64]     32768  /replica:0/task:0/device:GPU:1\n",
      "group3/block0/gcb/channel_add_layernorm/beta:0                [64]                   64  /replica:0/task:0/device:GPU:1\n",
      "group3/block0/gcb/channel_add_layernorm/gamma:0               [64]                   64  /replica:0/task:0/device:GPU:1\n",
      "group3/block0/gcb/channel_add_conv_2/W:0                      [1, 1, 64, 512]     32768  /replica:0/task:0/device:GPU:1\n",
      "group3/block0/convshortcut/W:0                                [1, 1, 256, 512]   131072  /replica:0/task:0/device:GPU:1\n",
      "group3/block0/convshortcut/bn/gamma:0                         [512]                 512  /replica:0/task:0/device:GPU:1\n",
      "group3/block0/convshortcut/bn/beta:0                          [512]                 512  /replica:0/task:0/device:GPU:1\n",
      "group3/block1/conv1/W:0                                       [3, 3, 512, 512]  2359296  /replica:0/task:0/device:GPU:1\n",
      "group3/block1/conv1/bn/gamma:0                                [512]                 512  /replica:0/task:0/device:GPU:0\n",
      "group3/block1/conv1/bn/beta:0                                 [512]                 512  /replica:0/task:0/device:GPU:0\n",
      "group3/block1/conv2/W:0                                       [3, 3, 512, 512]  2359296  /replica:0/task:0/device:GPU:0\n",
      "group3/block1/conv2/bn/gamma:0                                [512]                 512  /replica:0/task:0/device:GPU:1\n",
      "group3/block1/conv2/bn/beta:0                                 [512]                 512  /replica:0/task:0/device:GPU:1\n",
      "group3/block1/gcb/spatial_pool_conv/W:0                       [1, 1, 512, 1]        512  /replica:0/task:0/device:GPU:1\n",
      "group3/block1/gcb/channel_add_conv_1/W:0                      [1, 1, 512, 64]     32768  /replica:0/task:0/device:GPU:1\n",
      "group3/block1/gcb/channel_add_layernorm/beta:0                [64]                   64  /replica:0/task:0/device:GPU:1\n",
      "group3/block1/gcb/channel_add_layernorm/gamma:0               [64]                   64  /replica:0/task:0/device:GPU:1\n",
      "group3/block1/gcb/channel_add_conv_2/W:0                      [1, 1, 64, 512]     32768  /replica:0/task:0/device:GPU:1\n",
      "group3/block2/conv1/W:0                                       [3, 3, 512, 512]  2359296  /replica:0/task:0/device:GPU:1\n",
      "group3/block2/conv1/bn/gamma:0                                [512]                 512  /replica:0/task:0/device:GPU:0\n",
      "group3/block2/conv1/bn/beta:0                                 [512]                 512  /replica:0/task:0/device:GPU:0\n",
      "group3/block2/conv2/W:0                                       [3, 3, 512, 512]  2359296  /replica:0/task:0/device:GPU:0\n",
      "group3/block2/conv2/bn/gamma:0                                [512]                 512  /replica:0/task:0/device:GPU:1\n",
      "group3/block2/conv2/bn/beta:0                                 [512]                 512  /replica:0/task:0/device:GPU:1\n",
      "group3/block2/gcb/spatial_pool_conv/W:0                       [1, 1, 512, 1]        512  /replica:0/task:0/device:GPU:1\n",
      "group3/block2/gcb/channel_add_conv_1/W:0                      [1, 1, 512, 64]     32768  /replica:0/task:0/device:GPU:1\n",
      "group3/block2/gcb/channel_add_layernorm/beta:0                [64]                   64  /replica:0/task:0/device:GPU:1\n",
      "group3/block2/gcb/channel_add_layernorm/gamma:0               [64]                   64  /replica:0/task:0/device:GPU:1\n",
      "group3/block2/gcb/channel_add_conv_2/W:0                      [1, 1, 64, 512]     32768  /replica:0/task:0/device:GPU:1\n",
      "classify_1/com_11/conv_up/W:0                                 [1, 1, 256, 128]    32768  /replica:0/task:0/device:GPU:1\n",
      "classify_1/com_11/conv_up/bn/gamma:0                          [128]                 128  /replica:0/task:0/device:GPU:1\n",
      "classify_1/com_11/conv_up/bn/beta:0                           [128]                 128  /replica:0/task:0/device:GPU:1\n",
      "classify_1/conv_img12/W:0                                     [1, 1, 192, 128]    24576  /replica:0/task:0/device:GPU:1\n",
      "classify_1/conv_img12/bn/gamma:0                              [128]                 128  /replica:0/task:0/device:GPU:1\n",
      "classify_1/conv_img12/bn/beta:0                               [128]                 128  /replica:0/task:0/device:GPU:1\n",
      "classify_1/groupl11/block0/conv1/W:0                          [3, 3, 128, 128]   147456  /replica:0/task:0/device:GPU:1\n",
      "classify_1/groupl11/block0/conv1/bn/gamma:0                   [128]                 128  /replica:0/task:0/device:GPU:1\n",
      "classify_1/groupl11/block0/conv1/bn/beta:0                    [128]                 128  /replica:0/task:0/device:GPU:1\n",
      "classify_1/groupl11/block0/conv2/W:0                          [3, 3, 128, 128]   147456  /replica:0/task:0/device:GPU:1\n",
      "classify_1/groupl11/block0/conv2/bn/gamma:0                   [128]                 128  /replica:0/task:0/device:GPU:1\n",
      "classify_1/groupl11/block0/conv2/bn/beta:0                    [128]                 128  /replica:0/task:0/device:GPU:1\n",
      "classify_1/groupl11/block0/gcb/spatial_pool_conv/W:0          [1, 1, 128, 1]        128  /replica:0/task:0/device:GPU:1\n",
      "classify_1/groupl11/block0/gcb/channel_add_conv_1/W:0         [1, 1, 128, 16]      2048  /replica:0/task:0/device:GPU:1\n",
      "classify_1/groupl11/block0/gcb/channel_add_layernorm/beta:0   [16]                   16  /replica:0/task:0/device:GPU:1\n",
      "classify_1/groupl11/block0/gcb/channel_add_layernorm/gamma:0  [16]                   16  /replica:0/task:0/device:GPU:1\n",
      "classify_1/groupl11/block0/gcb/channel_add_conv_2/W:0         [1, 1, 16, 128]      2048  /replica:0/task:0/device:GPU:1\n",
      "classify_1/conv_straight11/W:0                                [3, 3, 128, 128]   147456  /replica:0/task:0/device:GPU:1\n",
      "classify_1/conv_straight11/bn/gamma:0                         [128]                 128  /replica:0/task:0/device:GPU:1\n",
      "classify_1/conv_straight11/bn/beta:0                          [128]                 128  /replica:0/task:0/device:GPU:1\n",
      "classify_1/conv_down11/W:0                                    [3, 3, 128, 256]   294912  /replica:0/task:0/device:GPU:1\n",
      "classify_1/conv_down11/bn/gamma:0                             [256]                 256  /replica:0/task:0/device:GPU:1\n",
      "classify_1/conv_down11/bn/beta:0                              [256]                 256  /replica:0/task:0/device:GPU:1\n",
      "classify_1/com_12/conv_up/W:0                                 [1, 1, 512, 128]    65536  /replica:0/task:0/device:GPU:1\n",
      "classify_1/com_12/conv_up/bn/gamma:0                          [128]                 128  /replica:0/task:0/device:GPU:1\n",
      "classify_1/com_12/conv_up/bn/beta:0                           [128]                 128  /replica:0/task:0/device:GPU:1\n",
      "classify_1/com_22/conv_up/W:0                                 [1, 1, 512, 256]   131072  /replica:0/task:0/device:GPU:1\n",
      "classify_1/com_22/conv_up/bn/gamma:0                          [256]                 256  /replica:0/task:0/device:GPU:1\n",
      "classify_1/com_22/conv_up/bn/beta:0                           [256]                 256  /replica:0/task:0/device:GPU:1\n",
      "classify_1/conv_img22/W:0                                     [1, 1, 384, 256]    98304  /replica:0/task:0/device:GPU:1\n",
      "classify_1/conv_img22/bn/gamma:0                              [256]                 256  /replica:0/task:0/device:GPU:0\n",
      "classify_1/conv_img22/bn/beta:0                               [256]                 256  /replica:0/task:0/device:GPU:0\n",
      "classify_1/groupl12/block0/conv1/W:0                          [3, 3, 128, 128]   147456  /replica:0/task:0/device:GPU:0\n",
      "classify_1/groupl12/block0/conv1/bn/gamma:0                   [128]                 128  /replica:0/task:0/device:GPU:1\n",
      "classify_1/groupl12/block0/conv1/bn/beta:0                    [128]                 128  /replica:0/task:0/device:GPU:1\n",
      "classify_1/groupl12/block0/conv2/W:0                          [3, 3, 128, 128]   147456  /replica:0/task:0/device:GPU:1\n",
      "classify_1/groupl12/block0/conv2/bn/gamma:0                   [128]                 128  /replica:0/task:0/device:GPU:0\n",
      "classify_1/groupl12/block0/conv2/bn/beta:0                    [128]                 128  /replica:0/task:0/device:GPU:0\n",
      "classify_1/groupl12/block0/gcb/spatial_pool_conv/W:0          [1, 1, 128, 1]        128  /replica:0/task:0/device:GPU:0\n",
      "classify_1/groupl12/block0/gcb/channel_add_conv_1/W:0         [1, 1, 128, 16]      2048  /replica:0/task:0/device:GPU:0\n",
      "classify_1/groupl12/block0/gcb/channel_add_layernorm/beta:0   [16]                   16  /replica:0/task:0/device:GPU:0\n",
      "classify_1/groupl12/block0/gcb/channel_add_layernorm/gamma:0  [16]                   16  /replica:0/task:0/device:GPU:0\n",
      "classify_1/groupl12/block0/gcb/channel_add_conv_2/W:0         [1, 1, 16, 128]      2048  /replica:0/task:0/device:GPU:0\n",
      "classify_1/groupl22/block0/conv1/W:0                          [3, 3, 256, 256]   589824  /replica:0/task:0/device:GPU:0\n",
      "classify_1/groupl22/block0/conv1/bn/gamma:0                   [256]                 256  /replica:0/task:0/device:GPU:1\n",
      "classify_1/groupl22/block0/conv1/bn/beta:0                    [256]                 256  /replica:0/task:0/device:GPU:1\n",
      "classify_1/groupl22/block0/conv2/W:0                          [3, 3, 256, 256]   589824  /replica:0/task:0/device:GPU:1\n",
      "classify_1/groupl22/block0/conv2/bn/gamma:0                   [256]                 256  /replica:0/task:0/device:GPU:0\n",
      "classify_1/groupl22/block0/conv2/bn/beta:0                    [256]                 256  /replica:0/task:0/device:GPU:0\n",
      "classify_1/groupl22/block0/gcb/spatial_pool_conv/W:0          [1, 1, 256, 1]        256  /replica:0/task:0/device:GPU:0\n",
      "classify_1/groupl22/block0/gcb/channel_add_conv_1/W:0         [1, 1, 256, 32]      8192  /replica:0/task:0/device:GPU:0\n",
      "classify_1/groupl22/block0/gcb/channel_add_layernorm/beta:0   [32]                   32  /replica:0/task:0/device:GPU:0\n",
      "classify_1/groupl22/block0/gcb/channel_add_layernorm/gamma:0  [32]                   32  /replica:0/task:0/device:GPU:0\n",
      "classify_1/groupl22/block0/gcb/channel_add_conv_2/W:0         [1, 1, 32, 256]      8192  /replica:0/task:0/device:GPU:0\n",
      "classify_1/conv_straight12/W:0                                [3, 3, 128, 128]   147456  /replica:0/task:0/device:GPU:0\n",
      "classify_1/conv_straight12/bn/gamma:0                         [128]                 128  /replica:0/task:0/device:GPU:1\n",
      "classify_1/conv_straight12/bn/beta:0                          [128]                 128  /replica:0/task:0/device:GPU:1\n",
      "classify_1/com_13/conv_up/W:0                                 [1, 1, 256, 128]    32768  /replica:0/task:0/device:GPU:1\n",
      "classify_1/com_13/conv_up/bn/gamma:0                          [128]                 128  /replica:0/task:0/device:GPU:1\n",
      "classify_1/com_13/conv_up/bn/beta:0                           [128]                 128  /replica:0/task:0/device:GPU:1\n",
      "classify_1/conv_straight22/W:0                                [3, 3, 256, 256]   589824  /replica:0/task:0/device:GPU:1\n",
      "classify_1/conv_straight22/bn/gamma:0                         [256]                 256  /replica:0/task:0/device:GPU:0\n",
      "classify_1/conv_straight22/bn/beta:0                          [256]                 256  /replica:0/task:0/device:GPU:0\n",
      "classify_1/conv_down12/W:0                                    [3, 3, 128, 256]   294912  /replica:0/task:0/device:GPU:0\n",
      "classify_1/conv_down12/bn/gamma:0                             [256]                 256  /replica:0/task:0/device:GPU:0\n",
      "classify_1/conv_down12/bn/beta:0                              [256]                 256  /replica:0/task:0/device:GPU:0\n",
      "classify_1/conv_down22/W:0                                    [3, 3, 256, 512]  1179648  /replica:0/task:0/device:GPU:0\n",
      "classify_1/conv_down22/bn/gamma:0                             [512]                 512  /replica:0/task:0/device:GPU:1\n",
      "classify_1/conv_down22/bn/beta:0                              [512]                 512  /replica:0/task:0/device:GPU:1\n",
      "classify_1/conv_downdown12/W:0                                [3, 3, 256, 512]  1179648  /replica:0/task:0/device:GPU:1\n",
      "classify_1/conv_downdown12/bn/gamma:0                         [512]                 512  /replica:0/task:0/device:GPU:0\n",
      "classify_1/conv_downdown12/bn/beta:0                          [512]                 512  /replica:0/task:0/device:GPU:0\n",
      "classify_1/conv_img32/W:0                                     [1, 1, 768, 512]   393216  /replica:0/task:0/device:GPU:0\n",
      "classify_1/conv_img32/bn/gamma:0                              [512]                 512  /replica:0/task:0/device:GPU:1\n",
      "classify_1/conv_img32/bn/beta:0                               [512]                 512  /replica:0/task:0/device:GPU:1\n",
      "classify_1/groupl13/block0/conv1/W:0                          [3, 3, 128, 128]   147456  /replica:0/task:0/device:GPU:1\n",
      "classify_1/groupl13/block0/conv1/bn/gamma:0                   [128]                 128  /replica:0/task:0/device:GPU:1\n",
      "classify_1/groupl13/block0/conv1/bn/beta:0                    [128]                 128  /replica:0/task:0/device:GPU:1\n",
      "classify_1/groupl13/block0/conv2/W:0                          [3, 3, 128, 128]   147456  /replica:0/task:0/device:GPU:1\n",
      "classify_1/groupl13/block0/conv2/bn/gamma:0                   [128]                 128  /replica:0/task:0/device:GPU:0\n",
      "classify_1/groupl13/block0/conv2/bn/beta:0                    [128]                 128  /replica:0/task:0/device:GPU:0\n",
      "classify_1/groupl13/block0/gcb/spatial_pool_conv/W:0          [1, 1, 128, 1]        128  /replica:0/task:0/device:GPU:0\n",
      "classify_1/groupl13/block0/gcb/channel_add_conv_1/W:0         [1, 1, 128, 16]      2048  /replica:0/task:0/device:GPU:0\n",
      "classify_1/groupl13/block0/gcb/channel_add_layernorm/beta:0   [16]                   16  /replica:0/task:0/device:GPU:0\n",
      "classify_1/groupl13/block0/gcb/channel_add_layernorm/gamma:0  [16]                   16  /replica:0/task:0/device:GPU:0\n",
      "classify_1/groupl13/block0/gcb/channel_add_conv_2/W:0         [1, 1, 16, 128]      2048  /replica:0/task:0/device:GPU:0\n",
      "classify_1/groupl23/block0/conv1/W:0                          [3, 3, 256, 256]   589824  /replica:0/task:0/device:GPU:0\n",
      "classify_1/groupl23/block0/conv1/bn/gamma:0                   [256]                 256  /replica:0/task:0/device:GPU:1\n",
      "classify_1/groupl23/block0/conv1/bn/beta:0                    [256]                 256  /replica:0/task:0/device:GPU:1\n",
      "classify_1/groupl23/block0/conv2/W:0                          [3, 3, 256, 256]   589824  /replica:0/task:0/device:GPU:1\n",
      "classify_1/groupl23/block0/conv2/bn/gamma:0                   [256]                 256  /replica:0/task:0/device:GPU:0\n",
      "classify_1/groupl23/block0/conv2/bn/beta:0                    [256]                 256  /replica:0/task:0/device:GPU:0\n",
      "classify_1/groupl23/block0/gcb/spatial_pool_conv/W:0          [1, 1, 256, 1]        256  /replica:0/task:0/device:GPU:0\n",
      "classify_1/groupl23/block0/gcb/channel_add_conv_1/W:0         [1, 1, 256, 32]      8192  /replica:0/task:0/device:GPU:0\n",
      "classify_1/groupl23/block0/gcb/channel_add_layernorm/beta:0   [32]                   32  /replica:0/task:0/device:GPU:0\n",
      "classify_1/groupl23/block0/gcb/channel_add_layernorm/gamma:0  [32]                   32  /replica:0/task:0/device:GPU:0\n",
      "classify_1/groupl23/block0/gcb/channel_add_conv_2/W:0         [1, 1, 32, 256]      8192  /replica:0/task:0/device:GPU:0\n",
      "classify_1/groupl33/block0/conv1/W:0                          [3, 3, 512, 512]  2359296  /replica:0/task:0/device:GPU:0\n",
      "classify_1/groupl33/block0/conv1/bn/gamma:0                   [512]                 512  /replica:0/task:0/device:GPU:1\n",
      "classify_1/groupl33/block0/conv1/bn/beta:0                    [512]                 512  /replica:0/task:0/device:GPU:1\n",
      "classify_1/groupl33/block0/conv2/W:0                          [3, 3, 512, 512]  2359296  /replica:0/task:0/device:GPU:1\n",
      "classify_1/groupl33/block0/conv2/bn/gamma:0                   [512]                 512  /replica:0/task:0/device:GPU:0\n",
      "classify_1/groupl33/block0/conv2/bn/beta:0                    [512]                 512  /replica:0/task:0/device:GPU:0\n",
      "classify_1/groupl33/block0/gcb/spatial_pool_conv/W:0          [1, 1, 512, 1]        512  /replica:0/task:0/device:GPU:0\n",
      "classify_1/groupl33/block0/gcb/channel_add_conv_1/W:0         [1, 1, 512, 64]     32768  /replica:0/task:0/device:GPU:0\n",
      "classify_1/groupl33/block0/gcb/channel_add_layernorm/beta:0   [64]                   64  /replica:0/task:0/device:GPU:0\n",
      "classify_1/groupl33/block0/gcb/channel_add_layernorm/gamma:0  [64]                   64  /replica:0/task:0/device:GPU:0\n",
      "classify_1/groupl33/block0/gcb/channel_add_conv_2/W:0         [1, 1, 64, 512]     32768  /replica:0/task:0/device:GPU:0\n",
      "classify_1/conv_straight13/W:0                                [3, 3, 128, 128]   147456  /replica:0/task:0/device:GPU:1\n",
      "classify_1/conv_straight13/bn/gamma:0                         [128]                 128  /replica:0/task:0/device:GPU:0\n",
      "classify_1/conv_straight13/bn/beta:0                          [128]                 128  /replica:0/task:0/device:GPU:0\n",
      "classify_1/com_141/conv_up/W:0                                [1, 1, 256, 128]    32768  /replica:0/task:0/device:GPU:0\n",
      "classify_1/com_141/conv_up/bn/gamma:0                         [128]                 128  /replica:0/task:0/device:GPU:0\n",
      "classify_1/com_141/conv_up/bn/beta:0                          [128]                 128  /replica:0/task:0/device:GPU:0\n",
      "classify_1/com_142/conv_up/W:0                                [1, 1, 512, 128]    65536  /replica:0/task:0/device:GPU:0\n",
      "classify_1/com_142/conv_up/bn/gamma:0                         [128]                 128  /replica:0/task:0/device:GPU:0\n",
      "classify_1/com_142/conv_up/bn/beta:0                          [128]                 128  /replica:0/task:0/device:GPU:0\n",
      "classify_1/conv_straight23/W:0                                [3, 3, 256, 256]   589824  /replica:0/task:0/device:GPU:0\n",
      "classify_1/conv_straight23/bn/gamma:0                         [256]                 256  /replica:0/task:0/device:GPU:1\n",
      "classify_1/conv_straight23/bn/beta:0                          [256]                 256  /replica:0/task:0/device:GPU:1\n",
      "classify_1/conv_down13/W:0                                    [3, 3, 128, 256]   294912  /replica:0/task:0/device:GPU:1\n",
      "classify_1/conv_down13/bn/gamma:0                             [256]                 256  /replica:0/task:0/device:GPU:1\n",
      "classify_1/conv_down13/bn/beta:0                              [256]                 256  /replica:0/task:0/device:GPU:1\n",
      "classify_1/com_24/conv_up/W:0                                 [1, 1, 512, 256]   131072  /replica:0/task:0/device:GPU:1\n",
      "classify_1/com_24/conv_up/bn/gamma:0                          [256]                 256  /replica:0/task:0/device:GPU:1\n",
      "classify_1/com_24/conv_up/bn/beta:0                           [256]                 256  /replica:0/task:0/device:GPU:1\n",
      "classify_1/conv_straight33/W:0                                [3, 3, 512, 512]  2359296  /replica:0/task:0/device:GPU:1\n",
      "classify_1/conv_straight33/bn/gamma:0                         [512]                 512  /replica:0/task:0/device:GPU:0\n",
      "classify_1/conv_straight33/bn/beta:0                          [512]                 512  /replica:0/task:0/device:GPU:0\n",
      "classify_1/conv_downdown13/W:0                                [3, 3, 256, 512]  1179648  /replica:0/task:0/device:GPU:0\n",
      "classify_1/conv_downdown13/bn/gamma:0                         [512]                 512  /replica:0/task:0/device:GPU:0\n",
      "classify_1/conv_downdown13/bn/beta:0                          [512]                 512  /replica:0/task:0/device:GPU:0\n",
      "classify_1/conv_down23/W:0                                    [3, 3, 256, 512]  1179648  /replica:0/task:0/device:GPU:0\n",
      "classify_1/conv_down23/bn/gamma:0                             [512]                 512  /replica:0/task:0/device:GPU:1\n",
      "classify_1/conv_down23/bn/beta:0                              [512]                 512  /replica:0/task:0/device:GPU:1\n",
      "head_fusion_classify_1/conv_mix/W:0                           [1, 1, 896, 256]   229376  /replica:0/task:0/device:GPU:1\n",
      "head_fusion_classify_1/conv_mix/bn/gamma:0                    [256]                 256  /replica:0/task:0/device:GPU:0\n",
      "head_fusion_classify_1/conv_mix/bn/beta:0                     [256]                 256  /replica:0/task:0/device:GPU:0\n",
      "classify_1/conv_out/W:0                                       [1, 1, 256, 4]       1024  /replica:0/task:0/device:GPU:0\n",
      "classify_1/conv_out/b:0                                       [4]                     4  /replica:0/task:0/device:GPU:0\n",
      "classify_2/com_11/conv_up/W:0                                 [1, 1, 256, 128]    32768  /replica:0/task:0/device:GPU:0\n",
      "classify_2/com_11/conv_up/bn/gamma:0                          [128]                 128  /replica:0/task:0/device:GPU:0\n",
      "classify_2/com_11/conv_up/bn/beta:0                           [128]                 128  /replica:0/task:0/device:GPU:0\n",
      "classify_2/conv_img12/W:0                                     [1, 1, 192, 128]    24576  /replica:0/task:0/device:GPU:0\n",
      "classify_2/conv_img12/bn/gamma:0                              [128]                 128  /replica:0/task:0/device:GPU:0\n",
      "classify_2/conv_img12/bn/beta:0                               [128]                 128  /replica:0/task:0/device:GPU:0\n",
      "classify_2/groupl11/block0/conv1/W:0                          [3, 3, 128, 128]   147456  /replica:0/task:0/device:GPU:0\n",
      "classify_2/groupl11/block0/conv1/bn/gamma:0                   [128]                 128  /replica:0/task:0/device:GPU:1\n",
      "classify_2/groupl11/block0/conv1/bn/beta:0                    [128]                 128  /replica:0/task:0/device:GPU:1\n",
      "classify_2/groupl11/block0/conv2/W:0                          [3, 3, 128, 128]   147456  /replica:0/task:0/device:GPU:1\n",
      "classify_2/groupl11/block0/conv2/bn/gamma:0                   [128]                 128  /replica:0/task:0/device:GPU:0\n",
      "classify_2/groupl11/block0/conv2/bn/beta:0                    [128]                 128  /replica:0/task:0/device:GPU:0\n",
      "classify_2/groupl11/block0/gcb/spatial_pool_conv/W:0          [1, 1, 128, 1]        128  /replica:0/task:0/device:GPU:0\n",
      "classify_2/groupl11/block0/gcb/channel_add_conv_1/W:0         [1, 1, 128, 16]      2048  /replica:0/task:0/device:GPU:0\n",
      "classify_2/groupl11/block0/gcb/channel_add_layernorm/beta:0   [16]                   16  /replica:0/task:0/device:GPU:0\n",
      "classify_2/groupl11/block0/gcb/channel_add_layernorm/gamma:0  [16]                   16  /replica:0/task:0/device:GPU:0\n",
      "classify_2/groupl11/block0/gcb/channel_add_conv_2/W:0         [1, 1, 16, 128]      2048  /replica:0/task:0/device:GPU:0\n",
      "classify_2/conv_straight11/W:0                                [3, 3, 128, 128]   147456  /replica:0/task:0/device:GPU:0\n",
      "classify_2/conv_straight11/bn/gamma:0                         [128]                 128  /replica:0/task:0/device:GPU:1\n",
      "classify_2/conv_straight11/bn/beta:0                          [128]                 128  /replica:0/task:0/device:GPU:1\n",
      "classify_2/conv_down11/W:0                                    [3, 3, 128, 256]   294912  /replica:0/task:0/device:GPU:1\n",
      "classify_2/conv_down11/bn/gamma:0                             [256]                 256  /replica:0/task:0/device:GPU:0\n",
      "classify_2/conv_down11/bn/beta:0                              [256]                 256  /replica:0/task:0/device:GPU:0\n",
      "classify_2/com_12/conv_up/W:0                                 [1, 1, 512, 128]    65536  /replica:0/task:0/device:GPU:0\n",
      "classify_2/com_12/conv_up/bn/gamma:0                          [128]                 128  /replica:0/task:0/device:GPU:0\n",
      "classify_2/com_12/conv_up/bn/beta:0                           [128]                 128  /replica:0/task:0/device:GPU:0\n",
      "classify_2/com_22/conv_up/W:0                                 [1, 1, 512, 256]   131072  /replica:0/task:0/device:GPU:0\n",
      "classify_2/com_22/conv_up/bn/gamma:0                          [256]                 256  /replica:0/task:0/device:GPU:1\n",
      "classify_2/com_22/conv_up/bn/beta:0                           [256]                 256  /replica:0/task:0/device:GPU:1\n",
      "classify_2/conv_img22/W:0                                     [1, 1, 384, 256]    98304  /replica:0/task:0/device:GPU:1\n",
      "classify_2/conv_img22/bn/gamma:0                              [256]                 256  /replica:0/task:0/device:GPU:0\n",
      "classify_2/conv_img22/bn/beta:0                               [256]                 256  /replica:0/task:0/device:GPU:0\n",
      "classify_2/groupl12/block0/conv1/W:0                          [3, 3, 128, 128]   147456  /replica:0/task:0/device:GPU:0\n",
      "classify_2/groupl12/block0/conv1/bn/gamma:0                   [128]                 128  /replica:0/task:0/device:GPU:1\n",
      "classify_2/groupl12/block0/conv1/bn/beta:0                    [128]                 128  /replica:0/task:0/device:GPU:1\n",
      "classify_2/groupl12/block0/conv2/W:0                          [3, 3, 128, 128]   147456  /replica:0/task:0/device:GPU:1\n",
      "classify_2/groupl12/block0/conv2/bn/gamma:0                   [128]                 128  /replica:0/task:0/device:GPU:0\n",
      "classify_2/groupl12/block0/conv2/bn/beta:0                    [128]                 128  /replica:0/task:0/device:GPU:0\n",
      "classify_2/groupl12/block0/gcb/spatial_pool_conv/W:0          [1, 1, 128, 1]        128  /replica:0/task:0/device:GPU:0\n",
      "classify_2/groupl12/block0/gcb/channel_add_conv_1/W:0         [1, 1, 128, 16]      2048  /replica:0/task:0/device:GPU:0\n",
      "classify_2/groupl12/block0/gcb/channel_add_layernorm/beta:0   [16]                   16  /replica:0/task:0/device:GPU:0\n",
      "classify_2/groupl12/block0/gcb/channel_add_layernorm/gamma:0  [16]                   16  /replica:0/task:0/device:GPU:0\n",
      "classify_2/groupl12/block0/gcb/channel_add_conv_2/W:0         [1, 1, 16, 128]      2048  /replica:0/task:0/device:GPU:0\n",
      "classify_2/groupl22/block0/conv1/W:0                          [3, 3, 256, 256]   589824  /replica:0/task:0/device:GPU:0\n",
      "classify_2/groupl22/block0/conv1/bn/gamma:0                   [256]                 256  /replica:0/task:0/device:GPU:1\n",
      "classify_2/groupl22/block0/conv1/bn/beta:0                    [256]                 256  /replica:0/task:0/device:GPU:1\n",
      "classify_2/groupl22/block0/conv2/W:0                          [3, 3, 256, 256]   589824  /replica:0/task:0/device:GPU:1\n",
      "classify_2/groupl22/block0/conv2/bn/gamma:0                   [256]                 256  /replica:0/task:0/device:GPU:0\n",
      "classify_2/groupl22/block0/conv2/bn/beta:0                    [256]                 256  /replica:0/task:0/device:GPU:0\n",
      "classify_2/groupl22/block0/gcb/spatial_pool_conv/W:0          [1, 1, 256, 1]        256  /replica:0/task:0/device:GPU:0\n",
      "classify_2/groupl22/block0/gcb/channel_add_conv_1/W:0         [1, 1, 256, 32]      8192  /replica:0/task:0/device:GPU:0\n",
      "classify_2/groupl22/block0/gcb/channel_add_layernorm/beta:0   [32]                   32  /replica:0/task:0/device:GPU:0\n",
      "classify_2/groupl22/block0/gcb/channel_add_layernorm/gamma:0  [32]                   32  /replica:0/task:0/device:GPU:0\n",
      "classify_2/groupl22/block0/gcb/channel_add_conv_2/W:0         [1, 1, 32, 256]      8192  /replica:0/task:0/device:GPU:0\n",
      "classify_2/conv_straight12/W:0                                [3, 3, 128, 128]   147456  /replica:0/task:0/device:GPU:0\n",
      "classify_2/conv_straight12/bn/gamma:0                         [128]                 128  /replica:0/task:0/device:GPU:1\n",
      "classify_2/conv_straight12/bn/beta:0                          [128]                 128  /replica:0/task:0/device:GPU:1\n",
      "classify_2/com_13/conv_up/W:0                                 [1, 1, 256, 128]    32768  /replica:0/task:0/device:GPU:1\n",
      "classify_2/com_13/conv_up/bn/gamma:0                          [128]                 128  /replica:0/task:0/device:GPU:1\n",
      "classify_2/com_13/conv_up/bn/beta:0                           [128]                 128  /replica:0/task:0/device:GPU:1\n",
      "classify_2/conv_straight22/W:0                                [3, 3, 256, 256]   589824  /replica:0/task:0/device:GPU:1\n",
      "classify_2/conv_straight22/bn/gamma:0                         [256]                 256  /replica:0/task:0/device:GPU:0\n",
      "classify_2/conv_straight22/bn/beta:0                          [256]                 256  /replica:0/task:0/device:GPU:0\n",
      "classify_2/conv_down12/W:0                                    [3, 3, 128, 256]   294912  /replica:0/task:0/device:GPU:0\n",
      "classify_2/conv_down12/bn/gamma:0                             [256]                 256  /replica:0/task:0/device:GPU:0\n",
      "classify_2/conv_down12/bn/beta:0                              [256]                 256  /replica:0/task:0/device:GPU:0\n",
      "classify_2/conv_down22/W:0                                    [3, 3, 256, 512]  1179648  /replica:0/task:0/device:GPU:0\n",
      "classify_2/conv_down22/bn/gamma:0                             [512]                 512  /replica:0/task:0/device:GPU:1\n",
      "classify_2/conv_down22/bn/beta:0                              [512]                 512  /replica:0/task:0/device:GPU:1\n",
      "classify_2/conv_downdown12/W:0                                [3, 3, 256, 512]  1179648  /replica:0/task:0/device:GPU:1\n",
      "classify_2/conv_downdown12/bn/gamma:0                         [512]                 512  /replica:0/task:0/device:GPU:0\n",
      "classify_2/conv_downdown12/bn/beta:0                          [512]                 512  /replica:0/task:0/device:GPU:0\n",
      "classify_2/conv_img32/W:0                                     [1, 1, 768, 512]   393216  /replica:0/task:0/device:GPU:0\n",
      "classify_2/conv_img32/bn/gamma:0                              [512]                 512  /replica:0/task:0/device:GPU:1\n",
      "classify_2/conv_img32/bn/beta:0                               [512]                 512  /replica:0/task:0/device:GPU:1\n",
      "classify_2/groupl13/block0/conv1/W:0                          [3, 3, 128, 128]   147456  /replica:0/task:0/device:GPU:1\n",
      "classify_2/groupl13/block0/conv1/bn/gamma:0                   [128]                 128  /replica:0/task:0/device:GPU:0\n",
      "classify_2/groupl13/block0/conv1/bn/beta:0                    [128]                 128  /replica:0/task:0/device:GPU:0\n",
      "classify_2/groupl13/block0/conv2/W:0                          [3, 3, 128, 128]   147456  /replica:0/task:0/device:GPU:0\n",
      "classify_2/groupl13/block0/conv2/bn/gamma:0                   [128]                 128  /replica:0/task:0/device:GPU:1\n",
      "classify_2/groupl13/block0/conv2/bn/beta:0                    [128]                 128  /replica:0/task:0/device:GPU:1\n",
      "classify_2/groupl13/block0/gcb/spatial_pool_conv/W:0          [1, 1, 128, 1]        128  /replica:0/task:0/device:GPU:1\n",
      "classify_2/groupl13/block0/gcb/channel_add_conv_1/W:0         [1, 1, 128, 16]      2048  /replica:0/task:0/device:GPU:1\n",
      "classify_2/groupl13/block0/gcb/channel_add_layernorm/beta:0   [16]                   16  /replica:0/task:0/device:GPU:1\n",
      "classify_2/groupl13/block0/gcb/channel_add_layernorm/gamma:0  [16]                   16  /replica:0/task:0/device:GPU:1\n",
      "classify_2/groupl13/block0/gcb/channel_add_conv_2/W:0         [1, 1, 16, 128]      2048  /replica:0/task:0/device:GPU:1\n",
      "classify_2/groupl23/block0/conv1/W:0                          [3, 3, 256, 256]   589824  /replica:0/task:0/device:GPU:1\n",
      "classify_2/groupl23/block0/conv1/bn/gamma:0                   [256]                 256  /replica:0/task:0/device:GPU:0\n",
      "classify_2/groupl23/block0/conv1/bn/beta:0                    [256]                 256  /replica:0/task:0/device:GPU:0\n",
      "classify_2/groupl23/block0/conv2/W:0                          [3, 3, 256, 256]   589824  /replica:0/task:0/device:GPU:0\n",
      "classify_2/groupl23/block0/conv2/bn/gamma:0                   [256]                 256  /replica:0/task:0/device:GPU:1\n",
      "classify_2/groupl23/block0/conv2/bn/beta:0                    [256]                 256  /replica:0/task:0/device:GPU:1\n",
      "classify_2/groupl23/block0/gcb/spatial_pool_conv/W:0          [1, 1, 256, 1]        256  /replica:0/task:0/device:GPU:1\n",
      "classify_2/groupl23/block0/gcb/channel_add_conv_1/W:0         [1, 1, 256, 32]      8192  /replica:0/task:0/device:GPU:1\n",
      "classify_2/groupl23/block0/gcb/channel_add_layernorm/beta:0   [32]                   32  /replica:0/task:0/device:GPU:1\n",
      "classify_2/groupl23/block0/gcb/channel_add_layernorm/gamma:0  [32]                   32  /replica:0/task:0/device:GPU:1\n",
      "classify_2/groupl23/block0/gcb/channel_add_conv_2/W:0         [1, 1, 32, 256]      8192  /replica:0/task:0/device:GPU:1\n",
      "classify_2/groupl33/block0/conv1/W:0                          [3, 3, 512, 512]  2359296  /replica:0/task:0/device:GPU:1\n",
      "classify_2/groupl33/block0/conv1/bn/gamma:0                   [512]                 512  /replica:0/task:0/device:GPU:0\n",
      "classify_2/groupl33/block0/conv1/bn/beta:0                    [512]                 512  /replica:0/task:0/device:GPU:0\n",
      "classify_2/groupl33/block0/conv2/W:0                          [3, 3, 512, 512]  2359296  /replica:0/task:0/device:GPU:0\n",
      "classify_2/groupl33/block0/conv2/bn/gamma:0                   [512]                 512  /replica:0/task:0/device:GPU:1\n",
      "classify_2/groupl33/block0/conv2/bn/beta:0                    [512]                 512  /replica:0/task:0/device:GPU:1\n",
      "classify_2/groupl33/block0/gcb/spatial_pool_conv/W:0          [1, 1, 512, 1]        512  /replica:0/task:0/device:GPU:1\n",
      "classify_2/groupl33/block0/gcb/channel_add_conv_1/W:0         [1, 1, 512, 64]     32768  /replica:0/task:0/device:GPU:1\n",
      "classify_2/groupl33/block0/gcb/channel_add_layernorm/beta:0   [64]                   64  /replica:0/task:0/device:GPU:1\n",
      "classify_2/groupl33/block0/gcb/channel_add_layernorm/gamma:0  [64]                   64  /replica:0/task:0/device:GPU:1\n",
      "classify_2/groupl33/block0/gcb/channel_add_conv_2/W:0         [1, 1, 64, 512]     32768  /replica:0/task:0/device:GPU:1\n",
      "classify_2/conv_straight13/W:0                                [3, 3, 128, 128]   147456  /replica:0/task:0/device:GPU:1\n",
      "classify_2/conv_straight13/bn/gamma:0                         [128]                 128  /replica:0/task:0/device:GPU:0\n",
      "classify_2/conv_straight13/bn/beta:0                          [128]                 128  /replica:0/task:0/device:GPU:0\n",
      "classify_2/com_141/conv_up/W:0                                [1, 1, 256, 128]    32768  /replica:0/task:0/device:GPU:0\n",
      "classify_2/com_141/conv_up/bn/gamma:0                         [128]                 128  /replica:0/task:0/device:GPU:0\n",
      "classify_2/com_141/conv_up/bn/beta:0                          [128]                 128  /replica:0/task:0/device:GPU:0\n",
      "classify_2/com_142/conv_up/W:0                                [1, 1, 512, 128]    65536  /replica:0/task:0/device:GPU:0\n",
      "classify_2/com_142/conv_up/bn/gamma:0                         [128]                 128  /replica:0/task:0/device:GPU:1\n",
      "classify_2/com_142/conv_up/bn/beta:0                          [128]                 128  /replica:0/task:0/device:GPU:1\n",
      "classify_2/conv_straight23/W:0                                [3, 3, 256, 256]   589824  /replica:0/task:0/device:GPU:1\n",
      "classify_2/conv_straight23/bn/gamma:0                         [256]                 256  /replica:0/task:0/device:GPU:0\n",
      "classify_2/conv_straight23/bn/beta:0                          [256]                 256  /replica:0/task:0/device:GPU:0\n",
      "classify_2/conv_down13/W:0                                    [3, 3, 128, 256]   294912  /replica:0/task:0/device:GPU:0\n",
      "classify_2/conv_down13/bn/gamma:0                             [256]                 256  /replica:0/task:0/device:GPU:0\n",
      "classify_2/conv_down13/bn/beta:0                              [256]                 256  /replica:0/task:0/device:GPU:0\n",
      "classify_2/com_24/conv_up/W:0                                 [1, 1, 512, 256]   131072  /replica:0/task:0/device:GPU:0\n",
      "classify_2/com_24/conv_up/bn/gamma:0                          [256]                 256  /replica:0/task:0/device:GPU:0\n",
      "classify_2/com_24/conv_up/bn/beta:0                           [256]                 256  /replica:0/task:0/device:GPU:0\n",
      "classify_2/conv_straight33/W:0                                [3, 3, 512, 512]  2359296  /replica:0/task:0/device:GPU:0\n",
      "classify_2/conv_straight33/bn/gamma:0                         [512]                 512  /replica:0/task:0/device:GPU:1\n",
      "classify_2/conv_straight33/bn/beta:0                          [512]                 512  /replica:0/task:0/device:GPU:1\n",
      "classify_2/conv_downdown13/W:0                                [3, 3, 256, 512]  1179648  /replica:0/task:0/device:GPU:1\n",
      "classify_2/conv_downdown13/bn/gamma:0                         [512]                 512  /replica:0/task:0/device:GPU:1\n",
      "classify_2/conv_downdown13/bn/beta:0                          [512]                 512  /replica:0/task:0/device:GPU:1\n",
      "classify_2/conv_down23/W:0                                    [3, 3, 256, 512]  1179648  /replica:0/task:0/device:GPU:1\n",
      "classify_2/conv_down23/bn/gamma:0                             [512]                 512  /replica:0/task:0/device:GPU:0\n",
      "classify_2/conv_down23/bn/beta:0                              [512]                 512  /replica:0/task:0/device:GPU:0\n",
      "head_fusion_classify_2/conv_mix/W:0                           [1, 1, 896, 256]   229376  /replica:0/task:0/device:GPU:0\n",
      "head_fusion_classify_2/conv_mix/bn/gamma:0                    [256]                 256  /replica:0/task:0/device:GPU:1\n",
      "head_fusion_classify_2/conv_mix/bn/beta:0                     [256]                 256  /replica:0/task:0/device:GPU:1\n",
      "classify_2/conv_out/W:0                                       [1, 1, 256, 4]       1024  /replica:0/task:0/device:GPU:1\n",
      "classify_2/conv_out/b:0                                       [4]                     4  /replica:0/task:0/device:GPU:1\n",
      "conv_out_type/W:0                                             [1, 1, 8, 5]           40  /replica:0/task:0/device:GPU:1\n",
      "conv_out_type/b:0                                             [5]                     5  /replica:0/task:0/device:GPU:1\n",
      "u3b/conv_1/W:0                                                [3, 3, 768, 256]  1769472  /replica:0/task:0/device:GPU:1\n",
      "u3b/conv_1/bn/gamma:0                                         [256]                 256  /replica:0/task:0/device:GPU:0\n",
      "u3b/conv_1/bn/beta:0                                          [256]                 256  /replica:0/task:0/device:GPU:0\n",
      "u3b/conv_2/W:0                                                [3, 3, 256, 256]   589824  /replica:0/task:0/device:GPU:0\n",
      "u3b/conv_2/bn/gamma:0                                         [256]                 256  /replica:0/task:0/device:GPU:0\n",
      "u3b/conv_2/bn/beta:0                                          [256]                 256  /replica:0/task:0/device:GPU:0\n",
      "u2b/conv_1/W:0                                                [3, 3, 384, 128]   442368  /replica:0/task:0/device:GPU:0\n",
      "u2b/conv_1/bn/gamma:0                                         [128]                 128  /replica:0/task:0/device:GPU:0\n",
      "u2b/conv_1/bn/beta:0                                          [128]                 128  /replica:0/task:0/device:GPU:0\n",
      "u2b/conv_2/W:0                                                [3, 3, 128, 128]   147456  /replica:0/task:0/device:GPU:0\n",
      "u2b/conv_2/bn/gamma:0                                         [128]                 128  /replica:0/task:0/device:GPU:0\n",
      "u2b/conv_2/bn/beta:0                                          [128]                 128  /replica:0/task:0/device:GPU:0\n",
      "u1b/conv_1/W:0                                                [3, 3, 192, 64]    110592  /replica:0/task:0/device:GPU:0\n",
      "u1b/conv_1/bn/gamma:0                                         [64]                   64  /replica:0/task:0/device:GPU:0\n",
      "u1b/conv_1/bn/beta:0                                          [64]                   64  /replica:0/task:0/device:GPU:0\n",
      "u1b/conv_2/W:0                                                [3, 3, 64, 64]      36864  /replica:0/task:0/device:GPU:0\n",
      "u1b/conv_2/bn/gamma:0                                         [64]                   64  /replica:0/task:0/device:GPU:0\n",
      "u1b/conv_2/bn/beta:0                                          [64]                   64  /replica:0/task:0/device:GPU:0\n",
      "conv_out_r/W:0                                                [1, 1, 64, 1]          64  /replica:0/task:0/device:GPU:0\n",
      "conv_out_r/b:0                                                [1]                     1  /replica:0/task:0/device:GPU:0\n",
      "param1:0                                                      [1]                     1  /replica:0/task:0/device:GPU:0\n",
      "param2:0                                                      [1]                     1  /replica:0/task:0/device:GPU:0\n",
      "param3:0                                                      [1]                     1  /replica:0/task:0/device:GPU:0\n",
      "param4:0                                                      [1]                     1  /replica:0/task:0/device:GPU:0\n",
      "param5:0                                                      [1]                     1  /replica:0/task:0/device:GPU:0\u001b[36m\n",
      "Total #vars=535, #params=63880235, size=243.68MB\u001b[0m\n"
     ]
    },
    {
     "name": "stdout",
     "output_type": "stream",
     "text": [
      "\u001b[32m[1225 14:07:22 @base.py:209]\u001b[0m Setup callbacks graph ...\n",
      "\u001b[32m[1225 14:07:24 @input_source.py:220]\u001b[0m Setting up the queue 'DataParallelInferenceRunner/QueueInput/input_queue' for CPU prefetching ...\n",
      "\u001b[32m[1225 14:07:24 @inference_runner.py:238]\u001b[0m [InferenceRunner] Building tower 'InferenceTower0' on device /gpu:0 ...\n",
      "\u001b[32m[1225 14:07:24 @develop.py:96]\u001b[0m \u001b[5m\u001b[31mWRN\u001b[0m [Deprecated] ModelDescBase._build_graph() interface will be deprecated after 30 Mar. Use build_graph() instead!\n",
      "\u001b[32m[1225 14:07:30 @inference_runner.py:238]\u001b[0m [InferenceRunner] Building tower 'InferenceTower1' on device /gpu:1 ...\n",
      "\u001b[32m[1225 14:07:30 @develop.py:96]\u001b[0m \u001b[5m\u001b[31mWRN\u001b[0m [Deprecated] ModelDescBase._build_graph() interface will be deprecated after 30 Mar. Use build_graph() instead!\n",
      "\u001b[32m[1225 14:07:35 @summary.py:38]\u001b[0m Maintain moving average summary of 7 tensors in collection MOVING_SUMMARY_OPS.\n",
      "\u001b[32m[1225 14:07:35 @summary.py:75]\u001b[0m Summarizing collection 'summaries' of size 228.\n",
      "\u001b[32m[1225 14:07:35 @graph.py:91]\u001b[0m Applying collection UPDATE_OPS of 248 ops.\n",
      "\u001b[32m[1225 14:07:42 @base.py:227]\u001b[0m Creating the session ...\n",
      "\u001b[32m[1225 14:07:53 @base.py:233]\u001b[0m Initializing the session ...\n",
      "\u001b[32m[1225 14:07:53 @sessinit.py:207]\u001b[0m Variables to restore from dict: group2/block1/conv1/bn/mean/EMA:0, group2/block0/conv2/bn/gamma:0, group2/block5/conv1/bn/gamma:0, group1/block2/conv1/bn/beta:0, group2/block1/conv1/bn/beta:0, group0/block2/conv2/bn/variance/EMA:0, group1/block0/conv2/bn/beta:0, group2/block5/conv1/bn/variance/EMA:0, group2/block1/conv1/bn/variance/EMA:0, group2/block3/conv2/W:0, group2/block0/conv2/W:0, group0/block0/conv1/bn/beta:0, group1/block3/conv2/W:0, group2/block5/conv2/bn/mean/EMA:0, group1/block3/conv1/W:0, group2/block5/conv2/W:0, group1/block0/conv2/bn/variance/EMA:0, group2/block1/conv2/bn/variance/EMA:0, group0/block2/conv2/bn/beta:0, group1/block2/conv1/bn/variance/EMA:0, group0/block2/conv1/W:0, group3/block0/conv2/bn/mean/EMA:0, group2/block0/convshortcut/W:0, group1/block0/convshortcut/bn/beta:0, group3/block1/conv2/bn/gamma:0, group3/block2/conv2/bn/gamma:0, group1/block1/conv2/bn/mean/EMA:0, conv0/W:0, group2/block0/conv2/bn/mean/EMA:0, group2/block5/conv1/bn/mean/EMA:0, group0/block0/conv2/bn/variance/EMA:0, group0/block1/conv1/bn/gamma:0, group0/block1/conv2/W:0, group2/block4/conv1/W:0, group2/block1/conv1/W:0, group2/block0/convshortcut/bn/variance/EMA:0, group2/block3/conv1/W:0, group0/block0/conv2/bn/beta:0, group3/block0/conv1/bn/variance/EMA:0, group1/block1/conv2/bn/gamma:0, group2/block4/conv1/bn/variance/EMA:0, group1/block0/conv1/W:0, group1/block2/conv2/bn/beta:0, group3/block2/conv1/W:0, group0/block2/conv1/bn/gamma:0, group2/block2/conv2/W:0, group1/block3/conv1/bn/variance/EMA:0, group1/block1/conv2/bn/beta:0, group1/block1/conv2/bn/variance/EMA:0, group1/block0/conv1/bn/variance/EMA:0, group2/block5/conv2/bn/beta:0, group3/block1/conv1/W:0, group3/block0/convshortcut/bn/gamma:0, group0/block2/conv1/bn/mean/EMA:0, group3/block0/conv1/bn/mean/EMA:0, group2/block0/conv2/bn/variance/EMA:0, group1/block0/conv2/bn/mean/EMA:0, group0/block2/conv2/bn/gamma:0, group1/block1/conv1/bn/variance/EMA:0, group2/block0/conv1/W:0, group2/block0/conv1/bn/gamma:0, group1/block3/conv2/bn/gamma:0, group2/block0/conv1/bn/variance/EMA:0, group3/block2/conv1/bn/beta:0, group1/block0/convshortcut/bn/variance/EMA:0, conv0/bn/mean/EMA:0, group2/block2/conv1/W:0, group2/block1/conv2/bn/beta:0, group2/block5/conv1/bn/beta:0, group1/block1/conv1/bn/mean/EMA:0, group2/block1/conv2/W:0, group2/block0/convshortcut/bn/mean/EMA:0, group2/block1/conv2/bn/mean/EMA:0, group2/block3/conv2/bn/beta:0, group0/block1/conv1/bn/variance/EMA:0, group1/block0/convshortcut/bn/mean/EMA:0, conv0/bn/gamma:0, group2/block4/conv1/bn/beta:0, group3/block0/conv2/bn/variance/EMA:0, group1/block0/conv2/W:0, group3/block0/conv1/bn/gamma:0, group3/block1/conv2/bn/beta:0, group3/block0/conv2/bn/gamma:0, group2/block0/conv1/bn/beta:0, group3/block2/conv2/W:0, group0/block0/conv1/bn/variance/EMA:0, group2/block2/conv2/bn/gamma:0, group3/block0/convshortcut/W:0, group2/block5/conv2/bn/variance/EMA:0, group1/block1/conv2/W:0, group1/block0/conv1/bn/mean/EMA:0, group1/block2/conv2/bn/variance/EMA:0, group3/block0/convshortcut/bn/mean/EMA:0, group1/block2/conv2/bn/gamma:0, group3/block2/conv1/bn/gamma:0, group1/block0/conv2/bn/gamma:0, group3/block2/conv2/bn/mean/EMA:0, group2/block3/conv1/bn/gamma:0, group1/block2/conv1/bn/gamma:0, group0/block2/conv1/bn/variance/EMA:0, group0/block0/conv2/W:0, group2/block3/conv2/bn/gamma:0, group2/block4/conv1/bn/gamma:0, group1/block1/conv1/bn/gamma:0, group1/block3/conv1/bn/beta:0, group2/block0/conv2/bn/beta:0, group2/block2/conv2/bn/mean/EMA:0, group3/block0/conv1/W:0, group3/block0/conv1/bn/beta:0, group1/block2/conv2/W:0, group2/block2/conv1/bn/beta:0, group0/block2/conv2/bn/mean/EMA:0, group0/block1/conv2/bn/gamma:0, group1/block3/conv1/bn/gamma:0, group1/block0/conv1/bn/beta:0, group0/block0/conv1/bn/gamma:0, group3/block1/conv2/W:0, group2/block2/conv2/bn/variance/EMA:0, conv0/bn/variance/EMA:0, group3/block2/conv1/bn/variance/EMA:0, group2/block5/conv1/W:0, group2/block4/conv2/bn/beta:0, group0/block1/conv2/bn/beta:0, group3/block2/conv2/bn/beta:0, group1/block2/conv2/bn/mean/EMA:0, group3/block1/conv2/bn/mean/EMA:0, group0/block2/conv2/W:0, conv0/bn/beta:0, group3/block1/conv1/bn/beta:0, group0/block1/conv1/bn/mean/EMA:0, group2/block3/conv2/bn/mean/EMA:0, group3/block1/conv1/bn/gamma:0, group1/block0/convshortcut/bn/gamma:0, group1/block1/conv1/W:0, group1/block2/conv1/bn/mean/EMA:0, group2/block0/convshortcut/bn/gamma:0, group0/block0/conv2/bn/gamma:0, group1/block3/conv2/bn/beta:0, group2/block2/conv1/bn/variance/EMA:0, group3/block2/conv1/bn/mean/EMA:0, group2/block4/conv2/W:0, group1/block0/conv1/bn/gamma:0, group1/block2/conv1/W:0, group3/block0/convshortcut/bn/variance/EMA:0, group3/block2/conv2/bn/variance/EMA:0, group1/block0/convshortcut/W:0, group0/block1/conv2/bn/mean/EMA:0, group0/block0/conv1/W:0, group1/block3/conv2/bn/mean/EMA:0, group2/block4/conv2/bn/mean/EMA:0, group0/block1/conv2/bn/variance/EMA:0, group0/block1/conv1/W:0, group2/block1/conv2/bn/gamma:0, group3/block0/conv2/W:0, group3/block0/convshortcut/bn/beta:0, group1/block3/conv2/bn/variance/EMA:0, group3/block0/conv2/bn/beta:0, group0/block0/conv1/bn/mean/EMA:0, group2/block3/conv1/bn/variance/EMA:0, group3/block1/conv2/bn/variance/EMA:0, group2/block2/conv2/bn/beta:0, group2/block4/conv2/bn/variance/EMA:0, group2/block2/conv1/bn/mean/EMA:0, group0/block0/conv2/bn/mean/EMA:0, group0/block2/conv1/bn/beta:0, group1/block1/conv1/bn/beta:0, group2/block4/conv2/bn/gamma:0, group3/block1/conv1/bn/mean/EMA:0, group2/block2/conv1/bn/gamma:0, group2/block5/conv2/bn/gamma:0, group2/block0/conv1/bn/mean/EMA:0, group3/block1/conv1/bn/variance/EMA:0, group1/block3/conv1/bn/mean/EMA:0, group0/block1/conv1/bn/beta:0, group2/block0/convshortcut/bn/beta:0, group2/block3/conv1/bn/mean/EMA:0, group2/block1/conv1/bn/gamma:0, group2/block3/conv2/bn/variance/EMA:0, group2/block3/conv1/bn/beta:0, group2/block4/conv1/bn/mean/EMA:0\n",
      "\u001b[32m[1225 14:07:53 @sessinit.py:90]\u001b[0m \u001b[5m\u001b[31mWRN\u001b[0m The following variables are in the graph, but not found in the dict: beta1_power:0, beta2_power:0, classify_1/com_11/conv_up/W:0, classify_1/com_11/conv_up/bn/beta:0, classify_1/com_11/conv_up/bn/gamma:0, classify_1/com_11/conv_up/bn/mean/EMA:0, classify_1/com_11/conv_up/bn/variance/EMA:0, classify_1/com_12/conv_up/W:0, classify_1/com_12/conv_up/bn/beta:0, classify_1/com_12/conv_up/bn/gamma:0, classify_1/com_12/conv_up/bn/mean/EMA:0, classify_1/com_12/conv_up/bn/variance/EMA:0, classify_1/com_13/conv_up/W:0, classify_1/com_13/conv_up/bn/beta:0, classify_1/com_13/conv_up/bn/gamma:0, classify_1/com_13/conv_up/bn/mean/EMA:0, classify_1/com_13/conv_up/bn/variance/EMA:0, classify_1/com_141/conv_up/W:0, classify_1/com_141/conv_up/bn/beta:0, classify_1/com_141/conv_up/bn/gamma:0, classify_1/com_141/conv_up/bn/mean/EMA:0, classify_1/com_141/conv_up/bn/variance/EMA:0, classify_1/com_142/conv_up/W:0, classify_1/com_142/conv_up/bn/beta:0, classify_1/com_142/conv_up/bn/gamma:0, classify_1/com_142/conv_up/bn/mean/EMA:0, classify_1/com_142/conv_up/bn/variance/EMA:0, classify_1/com_22/conv_up/W:0, classify_1/com_22/conv_up/bn/beta:0, classify_1/com_22/conv_up/bn/gamma:0, classify_1/com_22/conv_up/bn/mean/EMA:0, classify_1/com_22/conv_up/bn/variance/EMA:0, classify_1/com_24/conv_up/W:0, classify_1/com_24/conv_up/bn/beta:0, classify_1/com_24/conv_up/bn/gamma:0, classify_1/com_24/conv_up/bn/mean/EMA:0, classify_1/com_24/conv_up/bn/variance/EMA:0, classify_1/conv_down11/W:0, classify_1/conv_down11/bn/beta:0, classify_1/conv_down11/bn/gamma:0, classify_1/conv_down11/bn/mean/EMA:0, classify_1/conv_down11/bn/variance/EMA:0, classify_1/conv_down12/W:0, classify_1/conv_down12/bn/beta:0, classify_1/conv_down12/bn/gamma:0, classify_1/conv_down12/bn/mean/EMA:0, classify_1/conv_down12/bn/variance/EMA:0, classify_1/conv_down13/W:0, classify_1/conv_down13/bn/beta:0, classify_1/conv_down13/bn/gamma:0, classify_1/conv_down13/bn/mean/EMA:0, classify_1/conv_down13/bn/variance/EMA:0, classify_1/conv_down22/W:0, classify_1/conv_down22/bn/beta:0, classify_1/conv_down22/bn/gamma:0, classify_1/conv_down22/bn/mean/EMA:0, classify_1/conv_down22/bn/variance/EMA:0, classify_1/conv_down23/W:0, classify_1/conv_down23/bn/beta:0, classify_1/conv_down23/bn/gamma:0, classify_1/conv_down23/bn/mean/EMA:0, classify_1/conv_down23/bn/variance/EMA:0, classify_1/conv_downdown12/W:0, classify_1/conv_downdown12/bn/beta:0, classify_1/conv_downdown12/bn/gamma:0, classify_1/conv_downdown12/bn/mean/EMA:0, classify_1/conv_downdown12/bn/variance/EMA:0, classify_1/conv_downdown13/W:0, classify_1/conv_downdown13/bn/beta:0, classify_1/conv_downdown13/bn/gamma:0, classify_1/conv_downdown13/bn/mean/EMA:0, classify_1/conv_downdown13/bn/variance/EMA:0, classify_1/conv_img12/W:0, classify_1/conv_img12/bn/beta:0, classify_1/conv_img12/bn/gamma:0, classify_1/conv_img12/bn/mean/EMA:0, classify_1/conv_img12/bn/variance/EMA:0, classify_1/conv_img22/W:0, classify_1/conv_img22/bn/beta:0, classify_1/conv_img22/bn/gamma:0, classify_1/conv_img22/bn/mean/EMA:0, classify_1/conv_img22/bn/variance/EMA:0, classify_1/conv_img32/W:0, classify_1/conv_img32/bn/beta:0, classify_1/conv_img32/bn/gamma:0, classify_1/conv_img32/bn/mean/EMA:0, classify_1/conv_img32/bn/variance/EMA:0, classify_1/conv_out/W:0, classify_1/conv_out/b:0, classify_1/conv_straight11/W:0, classify_1/conv_straight11/bn/beta:0, classify_1/conv_straight11/bn/gamma:0, classify_1/conv_straight11/bn/mean/EMA:0, classify_1/conv_straight11/bn/variance/EMA:0, classify_1/conv_straight12/W:0, classify_1/conv_straight12/bn/beta:0, classify_1/conv_straight12/bn/gamma:0, classify_1/conv_straight12/bn/mean/EMA:0, classify_1/conv_straight12/bn/variance/EMA:0, classify_1/conv_straight13/W:0, classify_1/conv_straight13/bn/beta:0, classify_1/conv_straight13/bn/gamma:0, classify_1/conv_straight13/bn/mean/EMA:0, classify_1/conv_straight13/bn/variance/EMA:0, classify_1/conv_straight22/W:0, classify_1/conv_straight22/bn/beta:0, classify_1/conv_straight22/bn/gamma:0, classify_1/conv_straight22/bn/mean/EMA:0, classify_1/conv_straight22/bn/variance/EMA:0, classify_1/conv_straight23/W:0, classify_1/conv_straight23/bn/beta:0, classify_1/conv_straight23/bn/gamma:0, classify_1/conv_straight23/bn/mean/EMA:0, classify_1/conv_straight23/bn/variance/EMA:0, classify_1/conv_straight33/W:0, classify_1/conv_straight33/bn/beta:0, classify_1/conv_straight33/bn/gamma:0, classify_1/conv_straight33/bn/mean/EMA:0, classify_1/conv_straight33/bn/variance/EMA:0, classify_1/groupl11/block0/conv1/W:0, classify_1/groupl11/block0/conv1/bn/beta:0, classify_1/groupl11/block0/conv1/bn/gamma:0, classify_1/groupl11/block0/conv1/bn/mean/EMA:0, classify_1/groupl11/block0/conv1/bn/variance/EMA:0, classify_1/groupl11/block0/conv2/W:0, classify_1/groupl11/block0/conv2/bn/beta:0, classify_1/groupl11/block0/conv2/bn/gamma:0, classify_1/groupl11/block0/conv2/bn/mean/EMA:0, classify_1/groupl11/block0/conv2/bn/variance/EMA:0, classify_1/groupl11/block0/gcb/channel_add_conv_1/W:0, classify_1/groupl11/block0/gcb/channel_add_conv_2/W:0, classify_1/groupl11/block0/gcb/channel_add_layernorm/beta:0, classify_1/groupl11/block0/gcb/channel_add_layernorm/gamma:0, classify_1/groupl11/block0/gcb/spatial_pool_conv/W:0, classify_1/groupl12/block0/conv1/W:0, classify_1/groupl12/block0/conv1/bn/beta:0, classify_1/groupl12/block0/conv1/bn/gamma:0, classify_1/groupl12/block0/conv1/bn/mean/EMA:0, classify_1/groupl12/block0/conv1/bn/variance/EMA:0, classify_1/groupl12/block0/conv2/W:0, classify_1/groupl12/block0/conv2/bn/beta:0, classify_1/groupl12/block0/conv2/bn/gamma:0, classify_1/groupl12/block0/conv2/bn/mean/EMA:0, classify_1/groupl12/block0/conv2/bn/variance/EMA:0, classify_1/groupl12/block0/gcb/channel_add_conv_1/W:0, classify_1/groupl12/block0/gcb/channel_add_conv_2/W:0, classify_1/groupl12/block0/gcb/channel_add_layernorm/beta:0, classify_1/groupl12/block0/gcb/channel_add_layernorm/gamma:0, classify_1/groupl12/block0/gcb/spatial_pool_conv/W:0, classify_1/groupl13/block0/conv1/W:0, classify_1/groupl13/block0/conv1/bn/beta:0, classify_1/groupl13/block0/conv1/bn/gamma:0, classify_1/groupl13/block0/conv1/bn/mean/EMA:0, classify_1/groupl13/block0/conv1/bn/variance/EMA:0, classify_1/groupl13/block0/conv2/W:0, classify_1/groupl13/block0/conv2/bn/beta:0, classify_1/groupl13/block0/conv2/bn/gamma:0, classify_1/groupl13/block0/conv2/bn/mean/EMA:0, classify_1/groupl13/block0/conv2/bn/variance/EMA:0, classify_1/groupl13/block0/gcb/channel_add_conv_1/W:0, classify_1/groupl13/block0/gcb/channel_add_conv_2/W:0, classify_1/groupl13/block0/gcb/channel_add_layernorm/beta:0, classify_1/groupl13/block0/gcb/channel_add_layernorm/gamma:0, classify_1/groupl13/block0/gcb/spatial_pool_conv/W:0, classify_1/groupl22/block0/conv1/W:0, classify_1/groupl22/block0/conv1/bn/beta:0, classify_1/groupl22/block0/conv1/bn/gamma:0, classify_1/groupl22/block0/conv1/bn/mean/EMA:0, classify_1/groupl22/block0/conv1/bn/variance/EMA:0, classify_1/groupl22/block0/conv2/W:0, classify_1/groupl22/block0/conv2/bn/beta:0, classify_1/groupl22/block0/conv2/bn/gamma:0, classify_1/groupl22/block0/conv2/bn/mean/EMA:0, classify_1/groupl22/block0/conv2/bn/variance/EMA:0, classify_1/groupl22/block0/gcb/channel_add_conv_1/W:0, classify_1/groupl22/block0/gcb/channel_add_conv_2/W:0, classify_1/groupl22/block0/gcb/channel_add_layernorm/beta:0, classify_1/groupl22/block0/gcb/channel_add_layernorm/gamma:0, classify_1/groupl22/block0/gcb/spatial_pool_conv/W:0, classify_1/groupl23/block0/conv1/W:0, classify_1/groupl23/block0/conv1/bn/beta:0, classify_1/groupl23/block0/conv1/bn/gamma:0, classify_1/groupl23/block0/conv1/bn/mean/EMA:0, classify_1/groupl23/block0/conv1/bn/variance/EMA:0, classify_1/groupl23/block0/conv2/W:0, classify_1/groupl23/block0/conv2/bn/beta:0, classify_1/groupl23/block0/conv2/bn/gamma:0, classify_1/groupl23/block0/conv2/bn/mean/EMA:0, classify_1/groupl23/block0/conv2/bn/variance/EMA:0, classify_1/groupl23/block0/gcb/channel_add_conv_1/W:0, classify_1/groupl23/block0/gcb/channel_add_conv_2/W:0, classify_1/groupl23/block0/gcb/channel_add_layernorm/beta:0, classify_1/groupl23/block0/gcb/channel_add_layernorm/gamma:0, classify_1/groupl23/block0/gcb/spatial_pool_conv/W:0, classify_1/groupl33/block0/conv1/W:0, classify_1/groupl33/block0/conv1/bn/beta:0, classify_1/groupl33/block0/conv1/bn/gamma:0, classify_1/groupl33/block0/conv1/bn/mean/EMA:0, classify_1/groupl33/block0/conv1/bn/variance/EMA:0, classify_1/groupl33/block0/conv2/W:0, classify_1/groupl33/block0/conv2/bn/beta:0, classify_1/groupl33/block0/conv2/bn/gamma:0, classify_1/groupl33/block0/conv2/bn/mean/EMA:0, classify_1/groupl33/block0/conv2/bn/variance/EMA:0, classify_1/groupl33/block0/gcb/channel_add_conv_1/W:0, classify_1/groupl33/block0/gcb/channel_add_conv_2/W:0, classify_1/groupl33/block0/gcb/channel_add_layernorm/beta:0, classify_1/groupl33/block0/gcb/channel_add_layernorm/gamma:0, classify_1/groupl33/block0/gcb/spatial_pool_conv/W:0, classify_2/com_11/conv_up/W:0, classify_2/com_11/conv_up/bn/beta:0, classify_2/com_11/conv_up/bn/gamma:0, classify_2/com_11/conv_up/bn/mean/EMA:0, classify_2/com_11/conv_up/bn/variance/EMA:0, classify_2/com_12/conv_up/W:0, classify_2/com_12/conv_up/bn/beta:0, classify_2/com_12/conv_up/bn/gamma:0, classify_2/com_12/conv_up/bn/mean/EMA:0, classify_2/com_12/conv_up/bn/variance/EMA:0, classify_2/com_13/conv_up/W:0, classify_2/com_13/conv_up/bn/beta:0, classify_2/com_13/conv_up/bn/gamma:0, classify_2/com_13/conv_up/bn/mean/EMA:0, classify_2/com_13/conv_up/bn/variance/EMA:0, classify_2/com_141/conv_up/W:0, classify_2/com_141/conv_up/bn/beta:0, classify_2/com_141/conv_up/bn/gamma:0, classify_2/com_141/conv_up/bn/mean/EMA:0, classify_2/com_141/conv_up/bn/variance/EMA:0, classify_2/com_142/conv_up/W:0, classify_2/com_142/conv_up/bn/beta:0, classify_2/com_142/conv_up/bn/gamma:0, classify_2/com_142/conv_up/bn/mean/EMA:0, classify_2/com_142/conv_up/bn/variance/EMA:0, classify_2/com_22/conv_up/W:0, classify_2/com_22/conv_up/bn/beta:0, classify_2/com_22/conv_up/bn/gamma:0, classify_2/com_22/conv_up/bn/mean/EMA:0, classify_2/com_22/conv_up/bn/variance/EMA:0, classify_2/com_24/conv_up/W:0, classify_2/com_24/conv_up/bn/beta:0, classify_2/com_24/conv_up/bn/gamma:0, classify_2/com_24/conv_up/bn/mean/EMA:0, classify_2/com_24/conv_up/bn/variance/EMA:0, classify_2/conv_down11/W:0, classify_2/conv_down11/bn/beta:0, classify_2/conv_down11/bn/gamma:0, classify_2/conv_down11/bn/mean/EMA:0, classify_2/conv_down11/bn/variance/EMA:0, classify_2/conv_down12/W:0, classify_2/conv_down12/bn/beta:0, classify_2/conv_down12/bn/gamma:0, classify_2/conv_down12/bn/mean/EMA:0, classify_2/conv_down12/bn/variance/EMA:0, classify_2/conv_down13/W:0, classify_2/conv_down13/bn/beta:0, classify_2/conv_down13/bn/gamma:0, classify_2/conv_down13/bn/mean/EMA:0, classify_2/conv_down13/bn/variance/EMA:0, classify_2/conv_down22/W:0, classify_2/conv_down22/bn/beta:0, classify_2/conv_down22/bn/gamma:0, classify_2/conv_down22/bn/mean/EMA:0, classify_2/conv_down22/bn/variance/EMA:0, classify_2/conv_down23/W:0, classify_2/conv_down23/bn/beta:0, classify_2/conv_down23/bn/gamma:0, classify_2/conv_down23/bn/mean/EMA:0, classify_2/conv_down23/bn/variance/EMA:0, classify_2/conv_downdown12/W:0, classify_2/conv_downdown12/bn/beta:0, classify_2/conv_downdown12/bn/gamma:0, classify_2/conv_downdown12/bn/mean/EMA:0, classify_2/conv_downdown12/bn/variance/EMA:0, classify_2/conv_downdown13/W:0, classify_2/conv_downdown13/bn/beta:0, classify_2/conv_downdown13/bn/gamma:0, classify_2/conv_downdown13/bn/mean/EMA:0, classify_2/conv_downdown13/bn/variance/EMA:0, classify_2/conv_img12/W:0, classify_2/conv_img12/bn/beta:0, classify_2/conv_img12/bn/gamma:0, classify_2/conv_img12/bn/mean/EMA:0, classify_2/conv_img12/bn/variance/EMA:0, classify_2/conv_img22/W:0, classify_2/conv_img22/bn/beta:0, classify_2/conv_img22/bn/gamma:0, classify_2/conv_img22/bn/mean/EMA:0, classify_2/conv_img22/bn/variance/EMA:0, classify_2/conv_img32/W:0, classify_2/conv_img32/bn/beta:0, classify_2/conv_img32/bn/gamma:0, classify_2/conv_img32/bn/mean/EMA:0, classify_2/conv_img32/bn/variance/EMA:0, classify_2/conv_out/W:0, classify_2/conv_out/b:0, classify_2/conv_straight11/W:0, classify_2/conv_straight11/bn/beta:0, classify_2/conv_straight11/bn/gamma:0, classify_2/conv_straight11/bn/mean/EMA:0, classify_2/conv_straight11/bn/variance/EMA:0, classify_2/conv_straight12/W:0, classify_2/conv_straight12/bn/beta:0, classify_2/conv_straight12/bn/gamma:0, classify_2/conv_straight12/bn/mean/EMA:0, classify_2/conv_straight12/bn/variance/EMA:0, classify_2/conv_straight13/W:0, classify_2/conv_straight13/bn/beta:0, classify_2/conv_straight13/bn/gamma:0, classify_2/conv_straight13/bn/mean/EMA:0, classify_2/conv_straight13/bn/variance/EMA:0, classify_2/conv_straight22/W:0, classify_2/conv_straight22/bn/beta:0, classify_2/conv_straight22/bn/gamma:0, classify_2/conv_straight22/bn/mean/EMA:0, classify_2/conv_straight22/bn/variance/EMA:0, classify_2/conv_straight23/W:0, classify_2/conv_straight23/bn/beta:0, classify_2/conv_straight23/bn/gamma:0, classify_2/conv_straight23/bn/mean/EMA:0, classify_2/conv_straight23/bn/variance/EMA:0, classify_2/conv_straight33/W:0, classify_2/conv_straight33/bn/beta:0, classify_2/conv_straight33/bn/gamma:0, classify_2/conv_straight33/bn/mean/EMA:0, classify_2/conv_straight33/bn/variance/EMA:0, classify_2/groupl11/block0/conv1/W:0, classify_2/groupl11/block0/conv1/bn/beta:0, classify_2/groupl11/block0/conv1/bn/gamma:0, classify_2/groupl11/block0/conv1/bn/mean/EMA:0, classify_2/groupl11/block0/conv1/bn/variance/EMA:0, classify_2/groupl11/block0/conv2/W:0, classify_2/groupl11/block0/conv2/bn/beta:0, classify_2/groupl11/block0/conv2/bn/gamma:0, classify_2/groupl11/block0/conv2/bn/mean/EMA:0, classify_2/groupl11/block0/conv2/bn/variance/EMA:0, classify_2/groupl11/block0/gcb/channel_add_conv_1/W:0, classify_2/groupl11/block0/gcb/channel_add_conv_2/W:0, classify_2/groupl11/block0/gcb/channel_add_layernorm/beta:0, classify_2/groupl11/block0/gcb/channel_add_layernorm/gamma:0, classify_2/groupl11/block0/gcb/spatial_pool_conv/W:0, classify_2/groupl12/block0/conv1/W:0, classify_2/groupl12/block0/conv1/bn/beta:0, classify_2/groupl12/block0/conv1/bn/gamma:0, classify_2/groupl12/block0/conv1/bn/mean/EMA:0, classify_2/groupl12/block0/conv1/bn/variance/EMA:0, classify_2/groupl12/block0/conv2/W:0, classify_2/groupl12/block0/conv2/bn/beta:0, classify_2/groupl12/block0/conv2/bn/gamma:0, classify_2/groupl12/block0/conv2/bn/mean/EMA:0, classify_2/groupl12/block0/conv2/bn/variance/EMA:0, classify_2/groupl12/block0/gcb/channel_add_conv_1/W:0, classify_2/groupl12/block0/gcb/channel_add_conv_2/W:0, classify_2/groupl12/block0/gcb/channel_add_layernorm/beta:0, classify_2/groupl12/block0/gcb/channel_add_layernorm/gamma:0, classify_2/groupl12/block0/gcb/spatial_pool_conv/W:0, classify_2/groupl13/block0/conv1/W:0, classify_2/groupl13/block0/conv1/bn/beta:0, classify_2/groupl13/block0/conv1/bn/gamma:0, classify_2/groupl13/block0/conv1/bn/mean/EMA:0, classify_2/groupl13/block0/conv1/bn/variance/EMA:0, classify_2/groupl13/block0/conv2/W:0, classify_2/groupl13/block0/conv2/bn/beta:0, classify_2/groupl13/block0/conv2/bn/gamma:0, classify_2/groupl13/block0/conv2/bn/mean/EMA:0, classify_2/groupl13/block0/conv2/bn/variance/EMA:0, classify_2/groupl13/block0/gcb/channel_add_conv_1/W:0, classify_2/groupl13/block0/gcb/channel_add_conv_2/W:0, classify_2/groupl13/block0/gcb/channel_add_layernorm/beta:0, classify_2/groupl13/block0/gcb/channel_add_layernorm/gamma:0, classify_2/groupl13/block0/gcb/spatial_pool_conv/W:0, classify_2/groupl22/block0/conv1/W:0, classify_2/groupl22/block0/conv1/bn/beta:0, classify_2/groupl22/block0/conv1/bn/gamma:0, classify_2/groupl22/block0/conv1/bn/mean/EMA:0, classify_2/groupl22/block0/conv1/bn/variance/EMA:0, classify_2/groupl22/block0/conv2/W:0, classify_2/groupl22/block0/conv2/bn/beta:0, classify_2/groupl22/block0/conv2/bn/gamma:0, classify_2/groupl22/block0/conv2/bn/mean/EMA:0, classify_2/groupl22/block0/conv2/bn/variance/EMA:0, classify_2/groupl22/block0/gcb/channel_add_conv_1/W:0, classify_2/groupl22/block0/gcb/channel_add_conv_2/W:0, classify_2/groupl22/block0/gcb/channel_add_layernorm/beta:0, classify_2/groupl22/block0/gcb/channel_add_layernorm/gamma:0, classify_2/groupl22/block0/gcb/spatial_pool_conv/W:0, classify_2/groupl23/block0/conv1/W:0, classify_2/groupl23/block0/conv1/bn/beta:0, classify_2/groupl23/block0/conv1/bn/gamma:0, classify_2/groupl23/block0/conv1/bn/mean/EMA:0, classify_2/groupl23/block0/conv1/bn/variance/EMA:0, classify_2/groupl23/block0/conv2/W:0, classify_2/groupl23/block0/conv2/bn/beta:0, classify_2/groupl23/block0/conv2/bn/gamma:0, classify_2/groupl23/block0/conv2/bn/mean/EMA:0, classify_2/groupl23/block0/conv2/bn/variance/EMA:0, classify_2/groupl23/block0/gcb/channel_add_conv_1/W:0, classify_2/groupl23/block0/gcb/channel_add_conv_2/W:0, classify_2/groupl23/block0/gcb/channel_add_layernorm/beta:0, classify_2/groupl23/block0/gcb/channel_add_layernorm/gamma:0, classify_2/groupl23/block0/gcb/spatial_pool_conv/W:0, classify_2/groupl33/block0/conv1/W:0, classify_2/groupl33/block0/conv1/bn/beta:0, classify_2/groupl33/block0/conv1/bn/gamma:0, classify_2/groupl33/block0/conv1/bn/mean/EMA:0, classify_2/groupl33/block0/conv1/bn/variance/EMA:0, classify_2/groupl33/block0/conv2/W:0, classify_2/groupl33/block0/conv2/bn/beta:0, classify_2/groupl33/block0/conv2/bn/gamma:0, classify_2/groupl33/block0/conv2/bn/mean/EMA:0, classify_2/groupl33/block0/conv2/bn/variance/EMA:0, classify_2/groupl33/block0/gcb/channel_add_conv_1/W:0, classify_2/groupl33/block0/gcb/channel_add_conv_2/W:0, classify_2/groupl33/block0/gcb/channel_add_layernorm/beta:0, classify_2/groupl33/block0/gcb/channel_add_layernorm/gamma:0, classify_2/groupl33/block0/gcb/spatial_pool_conv/W:0, conv_out_r/W:0, conv_out_r/b:0, conv_out_type/W:0, conv_out_type/b:0, cov_10x_down/W:0, cov_10x_down/bn/beta:0, cov_10x_down/bn/gamma:0, cov_10x_down/bn/mean/EMA:0, cov_10x_down/bn/variance/EMA:0, cov_10x_straight/W:0, cov_10x_straight/bn/beta:0, cov_10x_straight/bn/gamma:0, cov_10x_straight/bn/mean/EMA:0, cov_10x_straight/bn/variance/EMA:0, cov_10x_up/W:0, cov_10x_up/bn/beta:0, cov_10x_up/bn/gamma:0, cov_10x_up/bn/mean/EMA:0, cov_10x_up/bn/variance/EMA:0, cov_40x_down/W:0, cov_40x_down/bn/beta:0, cov_40x_down/bn/gamma:0, cov_40x_down/bn/mean/EMA:0, cov_40x_down/bn/variance/EMA:0, cov_40x_straight/W:0, cov_40x_straight/bn/beta:0, cov_40x_straight/bn/gamma:0, cov_40x_straight/bn/mean/EMA:0, cov_40x_straight/bn/variance/EMA:0, cov_40x_up/W:0, cov_40x_up/bn/beta:0, cov_40x_up/bn/gamma:0, cov_40x_up/bn/mean/EMA:0, cov_40x_up/bn/variance/EMA:0, en_10x/conv_1/W:0, en_10x/conv_1/bn/beta:0, en_10x/conv_1/bn/gamma:0, en_10x/conv_1/bn/mean/EMA:0, en_10x/conv_1/bn/variance/EMA:0, en_10x/conv_2/W:0, en_10x/conv_2/bn/beta:0, en_10x/conv_2/bn/gamma:0, en_10x/conv_2/bn/mean/EMA:0, en_10x/conv_2/bn/variance/EMA:0, en_10x/gcb/channel_add_conv_1/W:0, en_10x/gcb/channel_add_conv_2/W:0, en_10x/gcb/channel_add_layernorm/beta:0, en_10x/gcb/channel_add_layernorm/gamma:0, en_10x/gcb/spatial_pool_conv/W:0, en_40x/conv_1/W:0, en_40x/conv_1/bn/beta:0, en_40x/conv_1/bn/gamma:0, en_40x/conv_1/bn/mean/EMA:0, en_40x/conv_1/bn/variance/EMA:0, en_40x/conv_2/W:0, en_40x/conv_2/bn/beta:0, en_40x/conv_2/bn/gamma:0, en_40x/conv_2/bn/mean/EMA:0, en_40x/conv_2/bn/variance/EMA:0, en_40x/gcb/channel_add_conv_1/W:0, en_40x/gcb/channel_add_conv_2/W:0, en_40x/gcb/channel_add_layernorm/beta:0, en_40x/gcb/channel_add_layernorm/gamma:0, en_40x/gcb/spatial_pool_conv/W:0, global_step:0, group0/block0/gcb/channel_add_conv_1/W:0, group0/block0/gcb/channel_add_conv_2/W:0, group0/block0/gcb/channel_add_layernorm/beta:0, group0/block0/gcb/channel_add_layernorm/gamma:0, group0/block0/gcb/spatial_pool_conv/W:0, group0/block1/gcb/channel_add_conv_1/W:0, group0/block1/gcb/channel_add_conv_2/W:0, group0/block1/gcb/channel_add_layernorm/beta:0, group0/block1/gcb/channel_add_layernorm/gamma:0, group0/block1/gcb/spatial_pool_conv/W:0, group0/block2/gcb/channel_add_conv_1/W:0, group0/block2/gcb/channel_add_conv_2/W:0, group0/block2/gcb/channel_add_layernorm/beta:0, group0/block2/gcb/channel_add_layernorm/gamma:0, group0/block2/gcb/spatial_pool_conv/W:0, group1/block0/gcb/channel_add_conv_1/W:0, group1/block0/gcb/channel_add_conv_2/W:0, group1/block0/gcb/channel_add_layernorm/beta:0, group1/block0/gcb/channel_add_layernorm/gamma:0, group1/block0/gcb/spatial_pool_conv/W:0, group1/block1/gcb/channel_add_conv_1/W:0, group1/block1/gcb/channel_add_conv_2/W:0, group1/block1/gcb/channel_add_layernorm/beta:0, group1/block1/gcb/channel_add_layernorm/gamma:0, group1/block1/gcb/spatial_pool_conv/W:0, group1/block2/gcb/channel_add_conv_1/W:0, group1/block2/gcb/channel_add_conv_2/W:0, group1/block2/gcb/channel_add_layernorm/beta:0, group1/block2/gcb/channel_add_layernorm/gamma:0, group1/block2/gcb/spatial_pool_conv/W:0, group1/block3/gcb/channel_add_conv_1/W:0, group1/block3/gcb/channel_add_conv_2/W:0, group1/block3/gcb/channel_add_layernorm/beta:0, group1/block3/gcb/channel_add_layernorm/gamma:0, group1/block3/gcb/spatial_pool_conv/W:0, group2/block0/gcb/channel_add_conv_1/W:0, group2/block0/gcb/channel_add_conv_2/W:0, group2/block0/gcb/channel_add_layernorm/beta:0, group2/block0/gcb/channel_add_layernorm/gamma:0, group2/block0/gcb/spatial_pool_conv/W:0, group2/block1/gcb/channel_add_conv_1/W:0, group2/block1/gcb/channel_add_conv_2/W:0, group2/block1/gcb/channel_add_layernorm/beta:0, group2/block1/gcb/channel_add_layernorm/gamma:0, group2/block1/gcb/spatial_pool_conv/W:0, group2/block2/gcb/channel_add_conv_1/W:0, group2/block2/gcb/channel_add_conv_2/W:0, group2/block2/gcb/channel_add_layernorm/beta:0, group2/block2/gcb/channel_add_layernorm/gamma:0, group2/block2/gcb/spatial_pool_conv/W:0, group2/block3/gcb/channel_add_conv_1/W:0, group2/block3/gcb/channel_add_conv_2/W:0, group2/block3/gcb/channel_add_layernorm/beta:0, group2/block3/gcb/channel_add_layernorm/gamma:0, group2/block3/gcb/spatial_pool_conv/W:0, group2/block4/gcb/channel_add_conv_1/W:0, group2/block4/gcb/channel_add_conv_2/W:0, group2/block4/gcb/channel_add_layernorm/beta:0, group2/block4/gcb/channel_add_layernorm/gamma:0, group2/block4/gcb/spatial_pool_conv/W:0, group2/block5/gcb/channel_add_conv_1/W:0, group2/block5/gcb/channel_add_conv_2/W:0, group2/block5/gcb/channel_add_layernorm/beta:0, group2/block5/gcb/channel_add_layernorm/gamma:0, group2/block5/gcb/spatial_pool_conv/W:0, group3/block0/gcb/channel_add_conv_1/W:0, group3/block0/gcb/channel_add_conv_2/W:0, group3/block0/gcb/channel_add_layernorm/beta:0, group3/block0/gcb/channel_add_layernorm/gamma:0, group3/block0/gcb/spatial_pool_conv/W:0, group3/block1/gcb/channel_add_conv_1/W:0, group3/block1/gcb/channel_add_conv_2/W:0, group3/block1/gcb/channel_add_layernorm/beta:0, group3/block1/gcb/channel_add_layernorm/gamma:0, group3/block1/gcb/spatial_pool_conv/W:0, group3/block2/gcb/channel_add_conv_1/W:0, group3/block2/gcb/channel_add_conv_2/W:0, group3/block2/gcb/channel_add_layernorm/beta:0, group3/block2/gcb/channel_add_layernorm/gamma:0, group3/block2/gcb/spatial_pool_conv/W:0, head_fusion_classify_1/conv_mix/W:0, head_fusion_classify_1/conv_mix/bn/beta:0, head_fusion_classify_1/conv_mix/bn/gamma:0, head_fusion_classify_1/conv_mix/bn/mean/EMA:0, head_fusion_classify_1/conv_mix/bn/variance/EMA:0, head_fusion_classify_2/conv_mix/W:0, head_fusion_classify_2/conv_mix/bn/beta:0, head_fusion_classify_2/conv_mix/bn/gamma:0, head_fusion_classify_2/conv_mix/bn/mean/EMA:0, head_fusion_classify_2/conv_mix/bn/variance/EMA:0, learning_rate:0, param1:0, param2:0, param3:0, param4:0, param5:0, u1b/conv_1/W:0, u1b/conv_1/bn/beta:0, u1b/conv_1/bn/gamma:0, u1b/conv_1/bn/mean/EMA:0, u1b/conv_1/bn/variance/EMA:0, u1b/conv_2/W:0, u1b/conv_2/bn/beta:0, u1b/conv_2/bn/gamma:0, u1b/conv_2/bn/mean/EMA:0, u1b/conv_2/bn/variance/EMA:0, u2b/conv_1/W:0, u2b/conv_1/bn/beta:0, u2b/conv_1/bn/gamma:0, u2b/conv_1/bn/mean/EMA:0, u2b/conv_1/bn/variance/EMA:0, u2b/conv_2/W:0, u2b/conv_2/bn/beta:0, u2b/conv_2/bn/gamma:0, u2b/conv_2/bn/mean/EMA:0, u2b/conv_2/bn/variance/EMA:0, u3b/conv_1/W:0, u3b/conv_1/bn/beta:0, u3b/conv_1/bn/gamma:0, u3b/conv_1/bn/mean/EMA:0, u3b/conv_1/bn/variance/EMA:0, u3b/conv_2/W:0, u3b/conv_2/bn/beta:0, u3b/conv_2/bn/gamma:0, u3b/conv_2/bn/mean/EMA:0, u3b/conv_2/bn/variance/EMA:0\n"
     ]
    },
    {
     "name": "stdout",
     "output_type": "stream",
     "text": [
      "\u001b[32m[1225 14:07:53 @sessinit.py:90]\u001b[0m \u001b[5m\u001b[31mWRN\u001b[0m The following variables are in the dict, but not found in the graph: linear/W:0, linear/b:0\n",
      "\u001b[32m[1225 14:07:53 @sessinit.py:220]\u001b[0m Restoring from dict ...\n",
      "\u001b[32m[1225 14:08:56 @base.py:240]\u001b[0m Graph Finalized.\n",
      "\u001b[32m[1225 14:08:56 @concurrency.py:37]\u001b[0m Starting EnqueueThread QueueInput/input_queue ...\n",
      "\u001b[32m[1225 14:09:00 @concurrency.py:37]\u001b[0m Starting EnqueueThread DataParallelInferenceRunner/QueueInput/input_queue ...\n",
      "\u001b[32m[1225 14:09:00 @inference_runner.py:101]\u001b[0m [InferenceRunner] Will eval 50 iterations\n",
      "\u001b[32m[1225 14:09:00 @base.py:272]\u001b[0m Start Epoch 1 ...\n"
     ]
    },
    {
     "name": "stderr",
     "output_type": "stream",
     "text": [
      "\r",
      "  0%|          |0/350[00:00<?,?it/s]"
     ]
    },
    {
     "name": "stdout",
     "output_type": "stream",
     "text": [
      "\u001b[32m[1225 14:09:00 @input_source.py:551]\u001b[0m Pre-filling StagingArea ...\n",
      "\u001b[32m[1225 14:09:01 @input_source.py:555]\u001b[0m 1 element was put into StagingArea on each tower.\n"
     ]
    },
    {
     "name": "stderr",
     "output_type": "stream",
     "text": [
      "100%|##########|350/350[04:11<00:00, 1.39it/s]"
     ]
    },
    {
     "name": "stdout",
     "output_type": "stream",
     "text": [
      "\u001b[32m[1225 14:13:12 @base.py:282]\u001b[0m Epoch 1 (global_step 350) finished, time:4 minutes 11 seconds.\n"
     ]
    },
    {
     "name": "stderr",
     "output_type": "stream",
     "text": [
      "\n"
     ]
    },
    {
     "name": "stdout",
     "output_type": "stream",
     "text": [
      "\u001b[32m[1225 14:13:14 @saver.py:77]\u001b[0m Model saved to ./logs//High_CCRCC//hcnet_mix_dist/00/model-350.\n"
     ]
    },
    {
     "name": "stderr",
     "output_type": "stream",
     "text": [
      "100%|##########|50/50[00:27<00:00, 1.81it/s]\n"
     ]
    },
    {
     "name": "stdout",
     "output_type": "stream",
     "text": [
      "\u001b[32m[1225 14:13:46 @saver.py:159]\u001b[0m Model at global_step=350 with maximum valid_dice=0.79985 saved.\n",
      "\u001b[32m[1225 14:13:46 @monitor.py:459]\u001b[0m DataParallelInferenceRunner/QueueInput/queue_size: 50\n",
      "\u001b[32m[1225 14:13:46 @monitor.py:459]\u001b[0m QueueInput/queue_size: 49.49\n",
      "\u001b[32m[1225 14:13:46 @monitor.py:459]\u001b[0m learning_rate: 0.0001\n",
      "\u001b[32m[1225 14:13:46 @monitor.py:459]\u001b[0m loss-ce: 0.24072\n",
      "\u001b[32m[1225 14:13:46 @monitor.py:459]\u001b[0m loss-ce-12v3: 0.21278\n",
      "\u001b[32m[1225 14:13:46 @monitor.py:459]\u001b[0m loss-ce-1v23: 0.19463\n",
      "\u001b[32m[1225 14:13:46 @monitor.py:459]\u001b[0m loss-dice: 3.2857\n",
      "\u001b[32m[1225 14:13:46 @monitor.py:459]\u001b[0m loss-dice-12v3: 2.4565\n",
      "\u001b[32m[1225 14:13:46 @monitor.py:459]\u001b[0m loss-dice-1v23: 2.2473\n",
      "\u001b[32m[1225 14:13:46 @monitor.py:459]\u001b[0m loss-reg-mae: 0.077301\n",
      "\u001b[32m[1225 14:13:46 @monitor.py:459]\u001b[0m valid_acc: 0.96553\n",
      "\u001b[32m[1225 14:13:46 @monitor.py:459]\u001b[0m valid_dice: 0.79985\n",
      "\u001b[32m[1225 14:13:46 @monitor.py:459]\u001b[0m valid_dice_Endothelium: 0.34223\n",
      "\u001b[32m[1225 14:13:46 @monitor.py:459]\u001b[0m valid_dice_Grade1: 0.58899\n",
      "\u001b[32m[1225 14:13:46 @monitor.py:459]\u001b[0m valid_dice_Grade2: 0.012873\n",
      "\u001b[32m[1225 14:13:46 @monitor.py:459]\u001b[0m valid_dice_Grade3: 0.1727\n",
      "\u001b[32m[1225 14:13:46 @monitor.py:459]\u001b[0m valid_mae: 0.09616\n",
      "\u001b[32m[1225 14:13:46 @monitor.py:459]\u001b[0m valid_mean_dice: 0.2792\n",
      "\u001b[32m[1225 14:13:46 @monitor.py:459]\u001b[0m valid_ssim: 0.2559\n",
      "\u001b[32m[1225 14:13:46 @group.py:48]\u001b[0m Callbacks took 34.035 sec in total. DataParallelInferenceRunner: 32.2 seconds\n",
      "\u001b[32m[1225 14:13:46 @base.py:272]\u001b[0m Start Epoch 2 ...\n"
     ]
    },
    {
     "name": "stderr",
     "output_type": "stream",
     "text": [
      "100%|##########|350/350[03:26<00:00, 1.70it/s]"
     ]
    },
    {
     "name": "stdout",
     "output_type": "stream",
     "text": [
      "\u001b[32m[1225 14:17:13 @base.py:282]\u001b[0m Epoch 2 (global_step 700) finished, time:3 minutes 26 seconds.\n"
     ]
    },
    {
     "name": "stderr",
     "output_type": "stream",
     "text": [
      "\n"
     ]
    },
    {
     "name": "stdout",
     "output_type": "stream",
     "text": [
      "\u001b[32m[1225 14:17:14 @saver.py:77]\u001b[0m Model saved to ./logs//High_CCRCC//hcnet_mix_dist/00/model-700.\n"
     ]
    },
    {
     "name": "stderr",
     "output_type": "stream",
     "text": [
      "100%|##########|50/50[00:12<00:00, 4.03it/s]\n"
     ]
    },
    {
     "name": "stdout",
     "output_type": "stream",
     "text": [
      "\u001b[32m[1225 14:17:31 @saver.py:159]\u001b[0m Model at global_step=700 with maximum valid_dice=0.81801 saved.\n",
      "\u001b[32m[1225 14:17:31 @monitor.py:459]\u001b[0m DataParallelInferenceRunner/QueueInput/queue_size: 49.871\n",
      "\u001b[32m[1225 14:17:31 @monitor.py:459]\u001b[0m QueueInput/queue_size: 49.859\n",
      "\u001b[32m[1225 14:17:31 @monitor.py:459]\u001b[0m learning_rate: 0.0001\n",
      "\u001b[32m[1225 14:17:31 @monitor.py:459]\u001b[0m loss-ce: 0.17426\n",
      "\u001b[32m[1225 14:17:31 @monitor.py:459]\u001b[0m loss-ce-12v3: 0.15076\n",
      "\u001b[32m[1225 14:17:31 @monitor.py:459]\u001b[0m loss-ce-1v23: 0.14605\n",
      "\u001b[32m[1225 14:17:31 @monitor.py:459]\u001b[0m loss-dice: 3.0668\n",
      "\u001b[32m[1225 14:17:31 @monitor.py:459]\u001b[0m loss-dice-12v3: 2.2138\n",
      "\u001b[32m[1225 14:17:31 @monitor.py:459]\u001b[0m loss-dice-1v23: 2.0199\n",
      "\u001b[32m[1225 14:17:31 @monitor.py:459]\u001b[0m loss-reg-mae: 0.89813\n",
      "\u001b[32m[1225 14:17:31 @monitor.py:459]\u001b[0m valid_acc: 0.96668\n",
      "\u001b[32m[1225 14:17:31 @monitor.py:459]\u001b[0m valid_dice: 0.81801\n",
      "\u001b[32m[1225 14:17:31 @monitor.py:459]\u001b[0m valid_dice_Endothelium: 0.483\n",
      "\u001b[32m[1225 14:17:31 @monitor.py:459]\u001b[0m valid_dice_Grade1: 0.64557\n",
      "\u001b[32m[1225 14:17:31 @monitor.py:459]\u001b[0m valid_dice_Grade2: 0.0014586\n",
      "\u001b[32m[1225 14:17:31 @monitor.py:459]\u001b[0m valid_dice_Grade3: 0.27504\n",
      "\u001b[32m[1225 14:17:31 @monitor.py:459]\u001b[0m valid_mae: 0.06924\n",
      "\u001b[32m[1225 14:17:31 @monitor.py:459]\u001b[0m valid_mean_dice: 0.35127\n",
      "\u001b[32m[1225 14:17:31 @monitor.py:459]\u001b[0m valid_ssim: 0.47212\n",
      "\u001b[32m[1225 14:17:31 @group.py:48]\u001b[0m Callbacks took 18.198 sec in total. DataParallelInferenceRunner: 16.8 seconds\n",
      "\u001b[32m[1225 14:17:31 @base.py:272]\u001b[0m Start Epoch 3 ...\n"
     ]
    },
    {
     "name": "stderr",
     "output_type": "stream",
     "text": [
      "100%|##########|350/350[03:26<00:00, 1.70it/s]"
     ]
    },
    {
     "name": "stdout",
     "output_type": "stream",
     "text": [
      "\u001b[32m[1225 14:20:57 @base.py:282]\u001b[0m Epoch 3 (global_step 1050) finished, time:3 minutes 26 seconds.\n"
     ]
    },
    {
     "name": "stderr",
     "output_type": "stream",
     "text": [
      "\n"
     ]
    },
    {
     "name": "stdout",
     "output_type": "stream",
     "text": [
      "\u001b[32m[1225 14:20:58 @saver.py:77]\u001b[0m Model saved to ./logs//High_CCRCC//hcnet_mix_dist/00/model-1050.\n"
     ]
    },
    {
     "name": "stderr",
     "output_type": "stream",
     "text": [
      "100%|##########|50/50[00:12<00:00, 4.03it/s]\n"
     ]
    },
    {
     "name": "stdout",
     "output_type": "stream",
     "text": [
      "\u001b[32m[1225 14:21:15 @saver.py:159]\u001b[0m Model at global_step=1050 with maximum valid_dice=0.82399 saved.\n",
      "\u001b[32m[1225 14:21:15 @monitor.py:459]\u001b[0m DataParallelInferenceRunner/QueueInput/queue_size: 49.959\n",
      "\u001b[32m[1225 14:21:15 @monitor.py:459]\u001b[0m QueueInput/queue_size: 49.372\n",
      "\u001b[32m[1225 14:21:15 @monitor.py:459]\u001b[0m learning_rate: 0.0001\n",
      "\u001b[32m[1225 14:21:15 @monitor.py:459]\u001b[0m loss-ce: 0.16701\n",
      "\u001b[32m[1225 14:21:15 @monitor.py:459]\u001b[0m loss-ce-12v3: 0.14293\n",
      "\u001b[32m[1225 14:21:15 @monitor.py:459]\u001b[0m loss-ce-1v23: 0.14047\n",
      "\u001b[32m[1225 14:21:15 @monitor.py:459]\u001b[0m loss-dice: 2.9826\n",
      "\u001b[32m[1225 14:21:15 @monitor.py:459]\u001b[0m loss-dice-12v3: 2.1583\n",
      "\u001b[32m[1225 14:21:15 @monitor.py:459]\u001b[0m loss-dice-1v23: 1.9234\n",
      "\u001b[32m[1225 14:21:15 @monitor.py:459]\u001b[0m loss-reg-mae: 0.2176\n",
      "\u001b[32m[1225 14:21:15 @monitor.py:459]\u001b[0m valid_acc: 0.96856\n",
      "\u001b[32m[1225 14:21:15 @monitor.py:459]\u001b[0m valid_dice: 0.82399\n",
      "\u001b[32m[1225 14:21:15 @monitor.py:459]\u001b[0m valid_dice_Endothelium: 0.49223\n",
      "\u001b[32m[1225 14:21:15 @monitor.py:459]\u001b[0m valid_dice_Grade1: 0.64953\n",
      "\u001b[32m[1225 14:21:15 @monitor.py:459]\u001b[0m valid_dice_Grade2: 0.0033837\n",
      "\u001b[32m[1225 14:21:15 @monitor.py:459]\u001b[0m valid_dice_Grade3: 0.31318\n",
      "\u001b[32m[1225 14:21:15 @monitor.py:459]\u001b[0m valid_mae: 0.051929\n",
      "\u001b[32m[1225 14:21:15 @monitor.py:459]\u001b[0m valid_mean_dice: 0.36458\n",
      "\u001b[32m[1225 14:21:15 @monitor.py:459]\u001b[0m valid_ssim: 0.7627\n",
      "\u001b[32m[1225 14:21:15 @group.py:48]\u001b[0m Callbacks took 17.676 sec in total. DataParallelInferenceRunner: 16.8 seconds\n",
      "\u001b[32m[1225 14:21:15 @base.py:272]\u001b[0m Start Epoch 4 ...\n"
     ]
    },
    {
     "name": "stderr",
     "output_type": "stream",
     "text": [
      "100%|##########|350/350[03:26<00:00, 1.70it/s]"
     ]
    },
    {
     "name": "stdout",
     "output_type": "stream",
     "text": [
      "\u001b[32m[1225 14:24:41 @base.py:282]\u001b[0m Epoch 4 (global_step 1400) finished, time:3 minutes 26 seconds.\n"
     ]
    },
    {
     "name": "stderr",
     "output_type": "stream",
     "text": [
      "\n"
     ]
    },
    {
     "name": "stdout",
     "output_type": "stream",
     "text": [
      "\u001b[32m[1225 14:24:41 @saver.py:77]\u001b[0m Model saved to ./logs//High_CCRCC//hcnet_mix_dist/00/model-1400.\n"
     ]
    },
    {
     "name": "stderr",
     "output_type": "stream",
     "text": [
      "100%|##########|50/50[00:12<00:00, 4.04it/s]\n"
     ]
    },
    {
     "name": "stdout",
     "output_type": "stream",
     "text": [
      "\u001b[32m[1225 14:24:58 @saver.py:159]\u001b[0m Model at global_step=1400 with maximum valid_dice=0.82724 saved.\n",
      "\u001b[32m[1225 14:24:58 @monitor.py:459]\u001b[0m DataParallelInferenceRunner/QueueInput/queue_size: 49.991\n",
      "\u001b[32m[1225 14:24:58 @monitor.py:459]\u001b[0m QueueInput/queue_size: 49.654\n",
      "\u001b[32m[1225 14:24:58 @monitor.py:459]\u001b[0m learning_rate: 0.0001\n",
      "\u001b[32m[1225 14:24:58 @monitor.py:459]\u001b[0m loss-ce: 0.15428\n",
      "\u001b[32m[1225 14:24:59 @monitor.py:459]\u001b[0m loss-ce-12v3: 0.13187\n",
      "\u001b[32m[1225 14:24:59 @monitor.py:459]\u001b[0m loss-ce-1v23: 0.1347\n",
      "\u001b[32m[1225 14:24:59 @monitor.py:459]\u001b[0m loss-dice: 2.8891\n",
      "\u001b[32m[1225 14:24:59 @monitor.py:459]\u001b[0m loss-dice-12v3: 2.0536\n",
      "\u001b[32m[1225 14:24:59 @monitor.py:459]\u001b[0m loss-dice-1v23: 1.8749\n",
      "\u001b[32m[1225 14:24:59 @monitor.py:459]\u001b[0m loss-reg-mae: 0.57914\n",
      "\u001b[32m[1225 14:24:59 @monitor.py:459]\u001b[0m valid_acc: 0.97011\n",
      "\u001b[32m[1225 14:24:59 @monitor.py:459]\u001b[0m valid_dice: 0.82724\n",
      "\u001b[32m[1225 14:24:59 @monitor.py:459]\u001b[0m valid_dice_Endothelium: 0.53043\n",
      "\u001b[32m[1225 14:24:59 @monitor.py:459]\u001b[0m valid_dice_Grade1: 0.65777\n",
      "\u001b[32m[1225 14:24:59 @monitor.py:459]\u001b[0m valid_dice_Grade2: 0.00030917\n",
      "\u001b[32m[1225 14:24:59 @monitor.py:459]\u001b[0m valid_dice_Grade3: 0.38127\n",
      "\u001b[32m[1225 14:24:59 @monitor.py:459]\u001b[0m valid_mae: 0.045554\n",
      "\u001b[32m[1225 14:24:59 @monitor.py:459]\u001b[0m valid_mean_dice: 0.39244\n",
      "\u001b[32m[1225 14:24:59 @monitor.py:459]\u001b[0m valid_ssim: 1.1677\n",
      "\u001b[32m[1225 14:24:59 @group.py:48]\u001b[0m Callbacks took 17.725 sec in total. DataParallelInferenceRunner: 16.8 seconds\n",
      "\u001b[32m[1225 14:24:59 @base.py:272]\u001b[0m Start Epoch 5 ...\n"
     ]
    },
    {
     "name": "stderr",
     "output_type": "stream",
     "text": [
      "100%|##########|350/350[03:26<00:00, 1.70it/s]"
     ]
    },
    {
     "name": "stdout",
     "output_type": "stream",
     "text": [
      "\u001b[32m[1225 14:28:25 @base.py:282]\u001b[0m Epoch 5 (global_step 1750) finished, time:3 minutes 26 seconds.\n"
     ]
    },
    {
     "name": "stderr",
     "output_type": "stream",
     "text": [
      "\n"
     ]
    },
    {
     "name": "stdout",
     "output_type": "stream",
     "text": [
      "\u001b[32m[1225 14:28:25 @saver.py:77]\u001b[0m Model saved to ./logs//High_CCRCC//hcnet_mix_dist/00/model-1750.\n"
     ]
    },
    {
     "name": "stderr",
     "output_type": "stream",
     "text": [
      "100%|##########|50/50[00:12<00:00, 4.02it/s]\n"
     ]
    },
    {
     "name": "stdout",
     "output_type": "stream",
     "text": [
      "\u001b[32m[1225 14:28:43 @saver.py:159]\u001b[0m Model at global_step=1750 with maximum valid_dice=0.83464 saved.\n",
      "\u001b[32m[1225 14:28:43 @monitor.py:459]\u001b[0m DataParallelInferenceRunner/QueueInput/queue_size: 49.87\n",
      "\u001b[32m[1225 14:28:43 @monitor.py:459]\u001b[0m QueueInput/queue_size: 49.633\n",
      "\u001b[32m[1225 14:28:43 @monitor.py:459]\u001b[0m learning_rate: 0.0001\n",
      "\u001b[32m[1225 14:28:43 @monitor.py:459]\u001b[0m loss-ce: 0.15453\n",
      "\u001b[32m[1225 14:28:43 @monitor.py:459]\u001b[0m loss-ce-12v3: 0.12644\n",
      "\u001b[32m[1225 14:28:43 @monitor.py:459]\u001b[0m loss-ce-1v23: 0.13296\n",
      "\u001b[32m[1225 14:28:43 @monitor.py:459]\u001b[0m loss-dice: 2.8549\n",
      "\u001b[32m[1225 14:28:43 @monitor.py:459]\u001b[0m loss-dice-12v3: 2.0025\n",
      "\u001b[32m[1225 14:28:43 @monitor.py:459]\u001b[0m loss-dice-1v23: 1.8273\n",
      "\u001b[32m[1225 14:28:43 @monitor.py:459]\u001b[0m loss-reg-mae: 0.027567\n",
      "\u001b[32m[1225 14:28:43 @monitor.py:459]\u001b[0m valid_acc: 0.97152\n",
      "\u001b[32m[1225 14:28:43 @monitor.py:459]\u001b[0m valid_dice: 0.83464\n",
      "\u001b[32m[1225 14:28:43 @monitor.py:459]\u001b[0m valid_dice_Endothelium: 0.54343\n",
      "\u001b[32m[1225 14:28:43 @monitor.py:459]\u001b[0m valid_dice_Grade1: 0.67338\n",
      "\u001b[32m[1225 14:28:43 @monitor.py:459]\u001b[0m valid_dice_Grade2: 0.0011558\n",
      "\u001b[32m[1225 14:28:43 @monitor.py:459]\u001b[0m valid_dice_Grade3: 0.47436\n",
      "\u001b[32m[1225 14:28:43 @monitor.py:459]\u001b[0m valid_mae: 0.042967\n",
      "\u001b[32m[1225 14:28:43 @monitor.py:459]\u001b[0m valid_mean_dice: 0.42308\n",
      "\u001b[32m[1225 14:28:43 @monitor.py:459]\u001b[0m valid_ssim: 1.4204\n",
      "\u001b[32m[1225 14:28:43 @group.py:48]\u001b[0m Callbacks took 17.854 sec in total. DataParallelInferenceRunner: 16.9 seconds\n",
      "\u001b[32m[1225 14:28:43 @base.py:272]\u001b[0m Start Epoch 6 ...\n"
     ]
    },
    {
     "name": "stderr",
     "output_type": "stream",
     "text": [
      "100%|##########|350/350[03:25<00:00, 1.70it/s]"
     ]
    },
    {
     "name": "stdout",
     "output_type": "stream",
     "text": [
      "\u001b[32m[1225 14:32:09 @base.py:282]\u001b[0m Epoch 6 (global_step 2100) finished, time:3 minutes 25 seconds.\n"
     ]
    },
    {
     "name": "stderr",
     "output_type": "stream",
     "text": [
      "\n"
     ]
    },
    {
     "name": "stdout",
     "output_type": "stream",
     "text": [
      "\u001b[32m[1225 14:32:09 @saver.py:77]\u001b[0m Model saved to ./logs//High_CCRCC//hcnet_mix_dist/00/model-2100.\n"
     ]
    },
    {
     "name": "stderr",
     "output_type": "stream",
     "text": [
      "100%|##########|50/50[00:12<00:00, 4.03it/s]\n"
     ]
    },
    {
     "name": "stdout",
     "output_type": "stream",
     "text": [
      "\u001b[32m[1225 14:32:26 @monitor.py:459]\u001b[0m DataParallelInferenceRunner/QueueInput/queue_size: 49.622\n",
      "\u001b[32m[1225 14:32:26 @monitor.py:459]\u001b[0m QueueInput/queue_size: 49.943\n",
      "\u001b[32m[1225 14:32:26 @monitor.py:459]\u001b[0m learning_rate: 0.0001\n",
      "\u001b[32m[1225 14:32:26 @monitor.py:459]\u001b[0m loss-ce: 0.13171\n",
      "\u001b[32m[1225 14:32:26 @monitor.py:459]\u001b[0m loss-ce-12v3: 0.10922\n",
      "\u001b[32m[1225 14:32:26 @monitor.py:459]\u001b[0m loss-ce-1v23: 0.11606\n",
      "\u001b[32m[1225 14:32:26 @monitor.py:459]\u001b[0m loss-dice: 2.8078\n",
      "\u001b[32m[1225 14:32:26 @monitor.py:459]\u001b[0m loss-dice-12v3: 1.961\n",
      "\u001b[32m[1225 14:32:26 @monitor.py:459]\u001b[0m loss-dice-1v23: 1.7749\n",
      "\u001b[32m[1225 14:32:26 @monitor.py:459]\u001b[0m loss-reg-mae: 0.23735\n",
      "\u001b[32m[1225 14:32:26 @monitor.py:459]\u001b[0m valid_acc: 0.97085\n",
      "\u001b[32m[1225 14:32:26 @monitor.py:459]\u001b[0m valid_dice: 0.8342\n",
      "\u001b[32m[1225 14:32:26 @monitor.py:459]\u001b[0m valid_dice_Endothelium: 0.55949\n",
      "\u001b[32m[1225 14:32:26 @monitor.py:459]\u001b[0m valid_dice_Grade1: 0.67856\n",
      "\u001b[32m[1225 14:32:26 @monitor.py:459]\u001b[0m valid_dice_Grade2: 0.00099418\n",
      "\u001b[32m[1225 14:32:26 @monitor.py:459]\u001b[0m valid_dice_Grade3: 0.49792\n",
      "\u001b[32m[1225 14:32:26 @monitor.py:459]\u001b[0m valid_mae: 0.043711\n",
      "\u001b[32m[1225 14:32:26 @monitor.py:459]\u001b[0m valid_mean_dice: 0.43424\n",
      "\u001b[32m[1225 14:32:26 @monitor.py:459]\u001b[0m valid_ssim: 1.5075\n",
      "\u001b[32m[1225 14:32:26 @group.py:48]\u001b[0m Callbacks took 17.635 sec in total. DataParallelInferenceRunner: 17 seconds\n",
      "\u001b[32m[1225 14:32:26 @base.py:272]\u001b[0m Start Epoch 7 ...\n"
     ]
    },
    {
     "name": "stderr",
     "output_type": "stream",
     "text": [
      "100%|##########|350/350[03:25<00:00, 1.70it/s]"
     ]
    },
    {
     "name": "stdout",
     "output_type": "stream",
     "text": [
      "\u001b[32m[1225 14:35:52 @base.py:282]\u001b[0m Epoch 7 (global_step 2450) finished, time:3 minutes 25 seconds.\n"
     ]
    },
    {
     "name": "stderr",
     "output_type": "stream",
     "text": [
      "\n"
     ]
    },
    {
     "name": "stdout",
     "output_type": "stream",
     "text": [
      "\u001b[32m[1225 14:35:53 @saver.py:77]\u001b[0m Model saved to ./logs//High_CCRCC//hcnet_mix_dist/00/model-2450.\n"
     ]
    },
    {
     "name": "stderr",
     "output_type": "stream",
     "text": [
      "100%|##########|50/50[00:12<00:00, 4.03it/s]\n"
     ]
    },
    {
     "name": "stdout",
     "output_type": "stream",
     "text": [
      "\u001b[32m[1225 14:36:10 @monitor.py:459]\u001b[0m DataParallelInferenceRunner/QueueInput/queue_size: 49.81\n",
      "\u001b[32m[1225 14:36:10 @monitor.py:459]\u001b[0m QueueInput/queue_size: 49.316\n",
      "\u001b[32m[1225 14:36:10 @monitor.py:459]\u001b[0m learning_rate: 0.0001\n",
      "\u001b[32m[1225 14:36:10 @monitor.py:459]\u001b[0m loss-ce: 0.13711\n",
      "\u001b[32m[1225 14:36:10 @monitor.py:459]\u001b[0m loss-ce-12v3: 0.11645\n",
      "\u001b[32m[1225 14:36:10 @monitor.py:459]\u001b[0m loss-ce-1v23: 0.12096\n",
      "\u001b[32m[1225 14:36:10 @monitor.py:459]\u001b[0m loss-dice: 2.7855\n",
      "\u001b[32m[1225 14:36:10 @monitor.py:459]\u001b[0m loss-dice-12v3: 1.9768\n",
      "\u001b[32m[1225 14:36:10 @monitor.py:459]\u001b[0m loss-dice-1v23: 1.7619\n",
      "\u001b[32m[1225 14:36:10 @monitor.py:459]\u001b[0m loss-reg-mae: 0.021766\n",
      "\u001b[32m[1225 14:36:10 @monitor.py:459]\u001b[0m valid_acc: 0.97147\n",
      "\u001b[32m[1225 14:36:10 @monitor.py:459]\u001b[0m valid_dice: 0.82652\n",
      "\u001b[32m[1225 14:36:10 @monitor.py:459]\u001b[0m valid_dice_Endothelium: 0.5575\n",
      "\u001b[32m[1225 14:36:10 @monitor.py:459]\u001b[0m valid_dice_Grade1: 0.66867\n",
      "\u001b[32m[1225 14:36:10 @monitor.py:459]\u001b[0m valid_dice_Grade2: 0.0011773\n",
      "\u001b[32m[1225 14:36:10 @monitor.py:459]\u001b[0m valid_dice_Grade3: 0.52419\n",
      "\u001b[32m[1225 14:36:10 @monitor.py:459]\u001b[0m valid_mae: 0.039577\n",
      "\u001b[32m[1225 14:36:10 @monitor.py:459]\u001b[0m valid_mean_dice: 0.43788\n",
      "\u001b[32m[1225 14:36:10 @monitor.py:459]\u001b[0m valid_ssim: 1.7013\n",
      "\u001b[32m[1225 14:36:10 @group.py:48]\u001b[0m Callbacks took 17.589 sec in total. DataParallelInferenceRunner: 17 seconds\n",
      "\u001b[32m[1225 14:36:10 @base.py:272]\u001b[0m Start Epoch 8 ...\n"
     ]
    },
    {
     "name": "stderr",
     "output_type": "stream",
     "text": [
      "100%|##########|350/350[03:26<00:00, 1.70it/s]"
     ]
    },
    {
     "name": "stdout",
     "output_type": "stream",
     "text": [
      "\u001b[32m[1225 14:39:36 @base.py:282]\u001b[0m Epoch 8 (global_step 2800) finished, time:3 minutes 26 seconds.\n"
     ]
    },
    {
     "name": "stderr",
     "output_type": "stream",
     "text": [
      "\n"
     ]
    },
    {
     "name": "stdout",
     "output_type": "stream",
     "text": [
      "\u001b[32m[1225 14:39:36 @saver.py:77]\u001b[0m Model saved to ./logs//High_CCRCC//hcnet_mix_dist/00/model-2800.\n"
     ]
    },
    {
     "name": "stderr",
     "output_type": "stream",
     "text": [
      "100%|##########|50/50[00:12<00:00, 4.06it/s]\n"
     ]
    },
    {
     "name": "stdout",
     "output_type": "stream",
     "text": [
      "\u001b[32m[1225 14:39:53 @monitor.py:459]\u001b[0m DataParallelInferenceRunner/QueueInput/queue_size: 49.963\n",
      "\u001b[32m[1225 14:39:53 @monitor.py:459]\u001b[0m QueueInput/queue_size: 49.713\n",
      "\u001b[32m[1225 14:39:53 @monitor.py:459]\u001b[0m learning_rate: 0.0001\n",
      "\u001b[32m[1225 14:39:53 @monitor.py:459]\u001b[0m loss-ce: 0.12139\n",
      "\u001b[32m[1225 14:39:53 @monitor.py:459]\u001b[0m loss-ce-12v3: 0.096613\n",
      "\u001b[32m[1225 14:39:53 @monitor.py:459]\u001b[0m loss-ce-1v23: 0.10941\n",
      "\u001b[32m[1225 14:39:53 @monitor.py:459]\u001b[0m loss-dice: 2.7604\n",
      "\u001b[32m[1225 14:39:53 @monitor.py:459]\u001b[0m loss-dice-12v3: 1.8732\n",
      "\u001b[32m[1225 14:39:53 @monitor.py:459]\u001b[0m loss-dice-1v23: 1.7746\n",
      "\u001b[32m[1225 14:39:53 @monitor.py:459]\u001b[0m loss-reg-mae: 0.022648\n",
      "\u001b[32m[1225 14:39:53 @monitor.py:459]\u001b[0m valid_acc: 0.97011\n",
      "\u001b[32m[1225 14:39:53 @monitor.py:459]\u001b[0m valid_dice: 0.81392\n",
      "\u001b[32m[1225 14:39:53 @monitor.py:459]\u001b[0m valid_dice_Endothelium: 0.50814\n",
      "\u001b[32m[1225 14:39:53 @monitor.py:459]\u001b[0m valid_dice_Grade1: 0.66557\n",
      "\u001b[32m[1225 14:39:53 @monitor.py:459]\u001b[0m valid_dice_Grade2: 0.0026176\n",
      "\u001b[32m[1225 14:39:53 @monitor.py:459]\u001b[0m valid_dice_Grade3: 0.53976\n",
      "\u001b[32m[1225 14:39:53 @monitor.py:459]\u001b[0m valid_mae: 0.036169\n",
      "\u001b[32m[1225 14:39:53 @monitor.py:459]\u001b[0m valid_mean_dice: 0.42902\n",
      "\u001b[32m[1225 14:39:53 @monitor.py:459]\u001b[0m valid_ssim: 1.7379\n",
      "\u001b[32m[1225 14:39:53 @group.py:48]\u001b[0m Callbacks took 17.338 sec in total. DataParallelInferenceRunner: 16.7 seconds\n",
      "\u001b[32m[1225 14:39:53 @base.py:272]\u001b[0m Start Epoch 9 ...\n"
     ]
    },
    {
     "name": "stderr",
     "output_type": "stream",
     "text": [
      "100%|##########|350/350[03:26<00:00, 1.70it/s]"
     ]
    },
    {
     "name": "stdout",
     "output_type": "stream",
     "text": [
      "\u001b[32m[1225 14:43:19 @base.py:282]\u001b[0m Epoch 9 (global_step 3150) finished, time:3 minutes 26 seconds.\n"
     ]
    },
    {
     "name": "stderr",
     "output_type": "stream",
     "text": [
      "\n"
     ]
    },
    {
     "name": "stdout",
     "output_type": "stream",
     "text": [
      "\u001b[32m[1225 14:43:20 @saver.py:77]\u001b[0m Model saved to ./logs//High_CCRCC//hcnet_mix_dist/00/model-3150.\n"
     ]
    },
    {
     "name": "stderr",
     "output_type": "stream",
     "text": [
      "100%|##########|50/50[00:12<00:00, 4.01it/s]\n"
     ]
    },
    {
     "name": "stdout",
     "output_type": "stream",
     "text": [
      "\u001b[32m[1225 14:43:37 @saver.py:159]\u001b[0m Model at global_step=3150 with maximum valid_dice=0.83632 saved.\n",
      "\u001b[32m[1225 14:43:37 @monitor.py:459]\u001b[0m DataParallelInferenceRunner/QueueInput/queue_size: 49.952\n",
      "\u001b[32m[1225 14:43:37 @monitor.py:459]\u001b[0m QueueInput/queue_size: 49.751\n",
      "\u001b[32m[1225 14:43:37 @monitor.py:459]\u001b[0m learning_rate: 0.0001\n",
      "\u001b[32m[1225 14:43:37 @monitor.py:459]\u001b[0m loss-ce: 0.13881\n",
      "\u001b[32m[1225 14:43:37 @monitor.py:459]\u001b[0m loss-ce-12v3: 0.11416\n",
      "\u001b[32m[1225 14:43:37 @monitor.py:459]\u001b[0m loss-ce-1v23: 0.12036\n",
      "\u001b[32m[1225 14:43:37 @monitor.py:459]\u001b[0m loss-dice: 2.7322\n",
      "\u001b[32m[1225 14:43:37 @monitor.py:459]\u001b[0m loss-dice-12v3: 1.8748\n",
      "\u001b[32m[1225 14:43:37 @monitor.py:459]\u001b[0m loss-dice-1v23: 1.6909\n",
      "\u001b[32m[1225 14:43:37 @monitor.py:459]\u001b[0m loss-reg-mae: 0.031332\n",
      "\u001b[32m[1225 14:43:37 @monitor.py:459]\u001b[0m valid_acc: 0.97233\n",
      "\u001b[32m[1225 14:43:37 @monitor.py:459]\u001b[0m valid_dice: 0.83632\n",
      "\u001b[32m[1225 14:43:37 @monitor.py:459]\u001b[0m valid_dice_Endothelium: 0.54371\n",
      "\u001b[32m[1225 14:43:37 @monitor.py:459]\u001b[0m valid_dice_Grade1: 0.68485\n",
      "\u001b[32m[1225 14:43:37 @monitor.py:459]\u001b[0m valid_dice_Grade2: 0.00060146\n",
      "\u001b[32m[1225 14:43:37 @monitor.py:459]\u001b[0m valid_dice_Grade3: 0.4991\n",
      "\u001b[32m[1225 14:43:37 @monitor.py:459]\u001b[0m valid_mae: 0.038073\n",
      "\u001b[32m[1225 14:43:37 @monitor.py:459]\u001b[0m valid_mean_dice: 0.43206\n",
      "\u001b[32m[1225 14:43:37 @monitor.py:459]\u001b[0m valid_ssim: 1.7308\n",
      "\u001b[32m[1225 14:43:37 @group.py:48]\u001b[0m Callbacks took 17.822 sec in total. DataParallelInferenceRunner: 16.9 seconds\n",
      "\u001b[32m[1225 14:43:37 @base.py:272]\u001b[0m Start Epoch 10 ...\n"
     ]
    },
    {
     "name": "stderr",
     "output_type": "stream",
     "text": [
      "100%|##########|350/350[03:25<00:00, 1.70it/s]"
     ]
    },
    {
     "name": "stdout",
     "output_type": "stream",
     "text": [
      "\u001b[32m[1225 14:47:03 @base.py:282]\u001b[0m Epoch 10 (global_step 3500) finished, time:3 minutes 25 seconds.\n"
     ]
    },
    {
     "name": "stderr",
     "output_type": "stream",
     "text": [
      "\n"
     ]
    },
    {
     "name": "stdout",
     "output_type": "stream",
     "text": [
      "\u001b[32m[1225 14:47:04 @saver.py:77]\u001b[0m Model saved to ./logs//High_CCRCC//hcnet_mix_dist/00/model-3500.\n"
     ]
    },
    {
     "name": "stderr",
     "output_type": "stream",
     "text": [
      "100%|##########|50/50[00:12<00:00, 3.99it/s]\n"
     ]
    },
    {
     "name": "stdout",
     "output_type": "stream",
     "text": [
      "\u001b[32m[1225 14:47:21 @monitor.py:459]\u001b[0m DataParallelInferenceRunner/QueueInput/queue_size: 49.62\n",
      "\u001b[32m[1225 14:47:21 @monitor.py:459]\u001b[0m QueueInput/queue_size: 49.999\n",
      "\u001b[32m[1225 14:47:21 @monitor.py:459]\u001b[0m learning_rate: 0.0001\n",
      "\u001b[32m[1225 14:47:21 @monitor.py:459]\u001b[0m loss-ce: 0.12902\n",
      "\u001b[32m[1225 14:47:21 @monitor.py:459]\u001b[0m loss-ce-12v3: 0.10891\n",
      "\u001b[32m[1225 14:47:21 @monitor.py:459]\u001b[0m loss-ce-1v23: 0.1149\n",
      "\u001b[32m[1225 14:47:21 @monitor.py:459]\u001b[0m loss-dice: 2.7094\n",
      "\u001b[32m[1225 14:47:21 @monitor.py:459]\u001b[0m loss-dice-12v3: 1.864\n",
      "\u001b[32m[1225 14:47:21 @monitor.py:459]\u001b[0m loss-dice-1v23: 1.671\n",
      "\u001b[32m[1225 14:47:21 @monitor.py:459]\u001b[0m loss-reg-mae: 0.018503\n",
      "\u001b[32m[1225 14:47:21 @monitor.py:459]\u001b[0m valid_acc: 0.97206\n",
      "\u001b[32m[1225 14:47:21 @monitor.py:459]\u001b[0m valid_dice: 0.83604\n",
      "\u001b[32m[1225 14:47:21 @monitor.py:459]\u001b[0m valid_dice_Endothelium: 0.50895\n",
      "\u001b[32m[1225 14:47:21 @monitor.py:459]\u001b[0m valid_dice_Grade1: 0.70025\n",
      "\u001b[32m[1225 14:47:21 @monitor.py:459]\u001b[0m valid_dice_Grade2: 0.049611\n",
      "\u001b[32m[1225 14:47:21 @monitor.py:459]\u001b[0m valid_dice_Grade3: 0.56603\n",
      "\u001b[32m[1225 14:47:21 @monitor.py:459]\u001b[0m valid_mae: 0.038652\n",
      "\u001b[32m[1225 14:47:21 @monitor.py:459]\u001b[0m valid_mean_dice: 0.45621\n",
      "\u001b[32m[1225 14:47:21 @monitor.py:459]\u001b[0m valid_ssim: 1.7123\n",
      "\u001b[32m[1225 14:47:21 @group.py:48]\u001b[0m Callbacks took 17.645 sec in total. DataParallelInferenceRunner: 17 seconds\n",
      "\u001b[32m[1225 14:47:21 @base.py:272]\u001b[0m Start Epoch 11 ...\n"
     ]
    },
    {
     "name": "stderr",
     "output_type": "stream",
     "text": [
      "100%|##########|350/350[03:25<00:00, 1.70it/s]"
     ]
    },
    {
     "name": "stdout",
     "output_type": "stream",
     "text": [
      "\u001b[32m[1225 14:50:46 @base.py:282]\u001b[0m Epoch 11 (global_step 3850) finished, time:3 minutes 25 seconds.\n"
     ]
    },
    {
     "name": "stderr",
     "output_type": "stream",
     "text": [
      "\n"
     ]
    },
    {
     "name": "stdout",
     "output_type": "stream",
     "text": [
      "\u001b[32m[1225 14:50:47 @saver.py:77]\u001b[0m Model saved to ./logs//High_CCRCC//hcnet_mix_dist/00/model-3850.\n"
     ]
    },
    {
     "name": "stderr",
     "output_type": "stream",
     "text": [
      "100%|##########|50/50[00:12<00:00, 4.04it/s]\n"
     ]
    },
    {
     "name": "stdout",
     "output_type": "stream",
     "text": [
      "\u001b[32m[1225 14:51:04 @monitor.py:459]\u001b[0m DataParallelInferenceRunner/QueueInput/queue_size: 49.984\n",
      "\u001b[32m[1225 14:51:04 @monitor.py:459]\u001b[0m QueueInput/queue_size: 49.499\n",
      "\u001b[32m[1225 14:51:04 @monitor.py:459]\u001b[0m learning_rate: 0.0001\n",
      "\u001b[32m[1225 14:51:04 @monitor.py:459]\u001b[0m loss-ce: 0.13532\n",
      "\u001b[32m[1225 14:51:04 @monitor.py:459]\u001b[0m loss-ce-12v3: 0.11571\n",
      "\u001b[32m[1225 14:51:04 @monitor.py:459]\u001b[0m loss-ce-1v23: 0.1174\n",
      "\u001b[32m[1225 14:51:04 @monitor.py:459]\u001b[0m loss-dice: 2.6064\n",
      "\u001b[32m[1225 14:51:04 @monitor.py:459]\u001b[0m loss-dice-12v3: 1.7732\n",
      "\u001b[32m[1225 14:51:04 @monitor.py:459]\u001b[0m loss-dice-1v23: 1.6014\n",
      "\u001b[32m[1225 14:51:04 @monitor.py:459]\u001b[0m loss-reg-mae: 0.063455\n",
      "\u001b[32m[1225 14:51:04 @monitor.py:459]\u001b[0m valid_acc: 0.9717\n",
      "\u001b[32m[1225 14:51:04 @monitor.py:459]\u001b[0m valid_dice: 0.82567\n",
      "\u001b[32m[1225 14:51:04 @monitor.py:459]\u001b[0m valid_dice_Endothelium: 0.54052\n",
      "\u001b[32m[1225 14:51:04 @monitor.py:459]\u001b[0m valid_dice_Grade1: 0.68777\n",
      "\u001b[32m[1225 14:51:04 @monitor.py:459]\u001b[0m valid_dice_Grade2: 0.038541\n",
      "\u001b[32m[1225 14:51:04 @monitor.py:459]\u001b[0m valid_dice_Grade3: 0.58674\n",
      "\u001b[32m[1225 14:51:04 @monitor.py:459]\u001b[0m valid_mae: 0.036469\n",
      "\u001b[32m[1225 14:51:04 @monitor.py:459]\u001b[0m valid_mean_dice: 0.46339\n",
      "\u001b[32m[1225 14:51:04 @monitor.py:459]\u001b[0m valid_ssim: 1.6992\n",
      "\u001b[32m[1225 14:51:04 @group.py:48]\u001b[0m Callbacks took 17.355 sec in total. DataParallelInferenceRunner: 16.7 seconds\n",
      "\u001b[32m[1225 14:51:04 @base.py:272]\u001b[0m Start Epoch 12 ...\n"
     ]
    },
    {
     "name": "stderr",
     "output_type": "stream",
     "text": [
      "100%|##########|350/350[03:26<00:00, 1.70it/s]"
     ]
    },
    {
     "name": "stdout",
     "output_type": "stream",
     "text": [
      "\u001b[32m[1225 14:54:30 @base.py:282]\u001b[0m Epoch 12 (global_step 4200) finished, time:3 minutes 26 seconds.\n"
     ]
    },
    {
     "name": "stderr",
     "output_type": "stream",
     "text": [
      "\n"
     ]
    },
    {
     "name": "stdout",
     "output_type": "stream",
     "text": [
      "\u001b[32m[1225 14:54:30 @saver.py:77]\u001b[0m Model saved to ./logs//High_CCRCC//hcnet_mix_dist/00/model-4200.\n"
     ]
    },
    {
     "name": "stderr",
     "output_type": "stream",
     "text": [
      "100%|##########|50/50[00:12<00:00, 4.02it/s]\n"
     ]
    },
    {
     "name": "stdout",
     "output_type": "stream",
     "text": [
      "\u001b[32m[1225 14:54:47 @monitor.py:459]\u001b[0m DataParallelInferenceRunner/QueueInput/queue_size: 49.991\n",
      "\u001b[32m[1225 14:54:47 @monitor.py:459]\u001b[0m QueueInput/queue_size: 49.75\n",
      "\u001b[32m[1225 14:54:47 @monitor.py:459]\u001b[0m learning_rate: 0.0001\n",
      "\u001b[32m[1225 14:54:47 @monitor.py:459]\u001b[0m loss-ce: 0.1294\n",
      "\u001b[32m[1225 14:54:47 @monitor.py:459]\u001b[0m loss-ce-12v3: 0.1059\n",
      "\u001b[32m[1225 14:54:47 @monitor.py:459]\u001b[0m loss-ce-1v23: 0.11845\n",
      "\u001b[32m[1225 14:54:47 @monitor.py:459]\u001b[0m loss-dice: 2.6621\n",
      "\u001b[32m[1225 14:54:47 @monitor.py:459]\u001b[0m loss-dice-12v3: 1.8291\n",
      "\u001b[32m[1225 14:54:47 @monitor.py:459]\u001b[0m loss-dice-1v23: 1.6769\n",
      "\u001b[32m[1225 14:54:47 @monitor.py:459]\u001b[0m loss-reg-mae: 0.10424\n",
      "\u001b[32m[1225 14:54:47 @monitor.py:459]\u001b[0m valid_acc: 0.97208\n",
      "\u001b[32m[1225 14:54:47 @monitor.py:459]\u001b[0m valid_dice: 0.83603\n",
      "\u001b[32m[1225 14:54:47 @monitor.py:459]\u001b[0m valid_dice_Endothelium: 0.52114\n",
      "\u001b[32m[1225 14:54:47 @monitor.py:459]\u001b[0m valid_dice_Grade1: 0.69991\n",
      "\u001b[32m[1225 14:54:47 @monitor.py:459]\u001b[0m valid_dice_Grade2: 0.10555\n",
      "\u001b[32m[1225 14:54:47 @monitor.py:459]\u001b[0m valid_dice_Grade3: 0.59616\n",
      "\u001b[32m[1225 14:54:47 @monitor.py:459]\u001b[0m valid_mae: 0.036907\n",
      "\u001b[32m[1225 14:54:47 @monitor.py:459]\u001b[0m valid_mean_dice: 0.48069\n",
      "\u001b[32m[1225 14:54:47 @monitor.py:459]\u001b[0m valid_ssim: 1.6957\n",
      "\u001b[32m[1225 14:54:47 @group.py:48]\u001b[0m Callbacks took 17.702 sec in total. DataParallelInferenceRunner: 17.1 seconds\n",
      "\u001b[32m[1225 14:54:47 @base.py:272]\u001b[0m Start Epoch 13 ...\n"
     ]
    },
    {
     "name": "stderr",
     "output_type": "stream",
     "text": [
      "100%|##########|350/350[03:25<00:00, 1.70it/s]"
     ]
    },
    {
     "name": "stdout",
     "output_type": "stream",
     "text": [
      "\u001b[32m[1225 14:58:13 @base.py:282]\u001b[0m Epoch 13 (global_step 4550) finished, time:3 minutes 25 seconds.\n"
     ]
    },
    {
     "name": "stderr",
     "output_type": "stream",
     "text": [
      "\n"
     ]
    },
    {
     "name": "stdout",
     "output_type": "stream",
     "text": [
      "\u001b[32m[1225 14:58:14 @saver.py:77]\u001b[0m Model saved to ./logs//High_CCRCC//hcnet_mix_dist/00/model-4550.\n"
     ]
    },
    {
     "name": "stderr",
     "output_type": "stream",
     "text": [
      "100%|##########|50/50[00:12<00:00, 4.04it/s]\n"
     ]
    },
    {
     "name": "stdout",
     "output_type": "stream",
     "text": [
      "\u001b[32m[1225 14:58:31 @monitor.py:459]\u001b[0m DataParallelInferenceRunner/QueueInput/queue_size: 49.802\n",
      "\u001b[32m[1225 14:58:31 @monitor.py:459]\u001b[0m QueueInput/queue_size: 49.5\n",
      "\u001b[32m[1225 14:58:31 @monitor.py:459]\u001b[0m learning_rate: 0.0001\n",
      "\u001b[32m[1225 14:58:31 @monitor.py:459]\u001b[0m loss-ce: 0.10955\n",
      "\u001b[32m[1225 14:58:31 @monitor.py:459]\u001b[0m loss-ce-12v3: 0.093109\n",
      "\u001b[32m[1225 14:58:31 @monitor.py:459]\u001b[0m loss-ce-1v23: 0.099925\n",
      "\u001b[32m[1225 14:58:31 @monitor.py:459]\u001b[0m loss-dice: 2.5595\n",
      "\u001b[32m[1225 14:58:31 @monitor.py:459]\u001b[0m loss-dice-12v3: 1.7207\n",
      "\u001b[32m[1225 14:58:31 @monitor.py:459]\u001b[0m loss-dice-1v23: 1.5824\n",
      "\u001b[32m[1225 14:58:31 @monitor.py:459]\u001b[0m loss-reg-mae: 0.098684\n",
      "\u001b[32m[1225 14:58:31 @monitor.py:459]\u001b[0m valid_acc: 0.97235\n",
      "\u001b[32m[1225 14:58:31 @monitor.py:459]\u001b[0m valid_dice: 0.83627\n",
      "\u001b[32m[1225 14:58:31 @monitor.py:459]\u001b[0m valid_dice_Endothelium: 0.53644\n",
      "\u001b[32m[1225 14:58:31 @monitor.py:459]\u001b[0m valid_dice_Grade1: 0.69502\n",
      "\u001b[32m[1225 14:58:31 @monitor.py:459]\u001b[0m valid_dice_Grade2: 0.058505\n",
      "\u001b[32m[1225 14:58:31 @monitor.py:459]\u001b[0m valid_dice_Grade3: 0.59431\n",
      "\u001b[32m[1225 14:58:31 @monitor.py:459]\u001b[0m valid_mae: 0.037194\n",
      "\u001b[32m[1225 14:58:31 @monitor.py:459]\u001b[0m valid_mean_dice: 0.47107\n",
      "\u001b[32m[1225 14:58:31 @monitor.py:459]\u001b[0m valid_ssim: 1.6534\n",
      "\u001b[32m[1225 14:58:31 @group.py:48]\u001b[0m Callbacks took 17.385 sec in total. DataParallelInferenceRunner: 16.7 seconds\n",
      "\u001b[32m[1225 14:58:31 @base.py:272]\u001b[0m Start Epoch 14 ...\n"
     ]
    },
    {
     "name": "stderr",
     "output_type": "stream",
     "text": [
      "100%|##########|350/350[03:26<00:00, 1.69it/s]"
     ]
    },
    {
     "name": "stdout",
     "output_type": "stream",
     "text": [
      "\u001b[32m[1225 15:01:57 @base.py:282]\u001b[0m Epoch 14 (global_step 4900) finished, time:3 minutes 26 seconds.\n"
     ]
    },
    {
     "name": "stderr",
     "output_type": "stream",
     "text": [
      "\n"
     ]
    },
    {
     "name": "stdout",
     "output_type": "stream",
     "text": [
      "\u001b[32m[1225 15:01:58 @saver.py:77]\u001b[0m Model saved to ./logs//High_CCRCC//hcnet_mix_dist/00/model-4900.\n"
     ]
    },
    {
     "name": "stderr",
     "output_type": "stream",
     "text": [
      "100%|##########|50/50[00:12<00:00, 4.01it/s]\n"
     ]
    },
    {
     "name": "stdout",
     "output_type": "stream",
     "text": [
      "\u001b[32m[1225 15:02:15 @saver.py:159]\u001b[0m Model at global_step=4900 with maximum valid_dice=0.84 saved.\n",
      "\u001b[32m[1225 15:02:15 @monitor.py:459]\u001b[0m DataParallelInferenceRunner/QueueInput/queue_size: 49.853\n",
      "\u001b[32m[1225 15:02:15 @monitor.py:459]\u001b[0m QueueInput/queue_size: 49.651\n",
      "\u001b[32m[1225 15:02:15 @monitor.py:459]\u001b[0m learning_rate: 0.0001\n",
      "\u001b[32m[1225 15:02:15 @monitor.py:459]\u001b[0m loss-ce: 0.11941\n",
      "\u001b[32m[1225 15:02:15 @monitor.py:459]\u001b[0m loss-ce-12v3: 0.098053\n",
      "\u001b[32m[1225 15:02:15 @monitor.py:459]\u001b[0m loss-ce-1v23: 0.11157\n",
      "\u001b[32m[1225 15:02:15 @monitor.py:459]\u001b[0m loss-dice: 2.6113\n",
      "\u001b[32m[1225 15:02:15 @monitor.py:459]\u001b[0m loss-dice-12v3: 1.7699\n",
      "\u001b[32m[1225 15:02:15 @monitor.py:459]\u001b[0m loss-dice-1v23: 1.6312\n",
      "\u001b[32m[1225 15:02:15 @monitor.py:459]\u001b[0m loss-reg-mae: 0.33986\n",
      "\u001b[32m[1225 15:02:15 @monitor.py:459]\u001b[0m valid_acc: 0.97259\n",
      "\u001b[32m[1225 15:02:15 @monitor.py:459]\u001b[0m valid_dice: 0.84\n",
      "\u001b[32m[1225 15:02:15 @monitor.py:459]\u001b[0m valid_dice_Endothelium: 0.56504\n",
      "\u001b[32m[1225 15:02:15 @monitor.py:459]\u001b[0m valid_dice_Grade1: 0.70488\n",
      "\u001b[32m[1225 15:02:15 @monitor.py:459]\u001b[0m valid_dice_Grade2: 0.21912\n",
      "\u001b[32m[1225 15:02:15 @monitor.py:459]\u001b[0m valid_dice_Grade3: 0.61838\n",
      "\u001b[32m[1225 15:02:15 @monitor.py:459]\u001b[0m valid_mae: 0.037611\n",
      "\u001b[32m[1225 15:02:15 @monitor.py:459]\u001b[0m valid_mean_dice: 0.52685\n",
      "\u001b[32m[1225 15:02:15 @monitor.py:459]\u001b[0m valid_ssim: 1.6296\n",
      "\u001b[32m[1225 15:02:15 @group.py:48]\u001b[0m Callbacks took 17.726 sec in total. DataParallelInferenceRunner: 16.8 seconds\n",
      "\u001b[32m[1225 15:02:15 @base.py:272]\u001b[0m Start Epoch 15 ...\n"
     ]
    },
    {
     "name": "stderr",
     "output_type": "stream",
     "text": [
      "100%|##########|350/350[03:26<00:00, 1.69it/s]"
     ]
    },
    {
     "name": "stdout",
     "output_type": "stream",
     "text": [
      "\u001b[32m[1225 15:05:42 @base.py:282]\u001b[0m Epoch 15 (global_step 5250) finished, time:3 minutes 26 seconds.\n"
     ]
    },
    {
     "name": "stderr",
     "output_type": "stream",
     "text": [
      "\n"
     ]
    },
    {
     "name": "stdout",
     "output_type": "stream",
     "text": [
      "\u001b[32m[1225 15:05:42 @saver.py:77]\u001b[0m Model saved to ./logs//High_CCRCC//hcnet_mix_dist/00/model-5250.\n"
     ]
    },
    {
     "name": "stderr",
     "output_type": "stream",
     "text": [
      "100%|##########|50/50[00:12<00:00, 4.01it/s]\n"
     ]
    },
    {
     "name": "stdout",
     "output_type": "stream",
     "text": [
      "\u001b[32m[1225 15:05:59 @saver.py:159]\u001b[0m Model at global_step=5250 with maximum valid_dice=0.84109 saved.\n",
      "\u001b[32m[1225 15:05:59 @monitor.py:459]\u001b[0m DataParallelInferenceRunner/QueueInput/queue_size: 49.623\n",
      "\u001b[32m[1225 15:05:59 @monitor.py:459]\u001b[0m QueueInput/queue_size: 49.495\n",
      "\u001b[32m[1225 15:05:59 @monitor.py:459]\u001b[0m learning_rate: 0.0001\n",
      "\u001b[32m[1225 15:05:59 @monitor.py:459]\u001b[0m loss-ce: 0.11232\n",
      "\u001b[32m[1225 15:05:59 @monitor.py:459]\u001b[0m loss-ce-12v3: 0.091706\n",
      "\u001b[32m[1225 15:05:59 @monitor.py:459]\u001b[0m loss-ce-1v23: 0.10549\n",
      "\u001b[32m[1225 15:05:59 @monitor.py:459]\u001b[0m loss-dice: 2.5788\n",
      "\u001b[32m[1225 15:05:59 @monitor.py:459]\u001b[0m loss-dice-12v3: 1.7439\n",
      "\u001b[32m[1225 15:05:59 @monitor.py:459]\u001b[0m loss-dice-1v23: 1.6094\n",
      "\u001b[32m[1225 15:05:59 @monitor.py:459]\u001b[0m loss-reg-mae: 0.01606\n",
      "\u001b[32m[1225 15:05:59 @monitor.py:459]\u001b[0m valid_acc: 0.9729\n",
      "\u001b[32m[1225 15:05:59 @monitor.py:459]\u001b[0m valid_dice: 0.84109\n",
      "\u001b[32m[1225 15:05:59 @monitor.py:459]\u001b[0m valid_dice_Endothelium: 0.50562\n",
      "\u001b[32m[1225 15:05:59 @monitor.py:459]\u001b[0m valid_dice_Grade1: 0.70995\n",
      "\u001b[32m[1225 15:05:59 @monitor.py:459]\u001b[0m valid_dice_Grade2: 0.33327\n",
      "\u001b[32m[1225 15:05:59 @monitor.py:459]\u001b[0m valid_dice_Grade3: 0.60915\n",
      "\u001b[32m[1225 15:05:59 @monitor.py:459]\u001b[0m valid_mae: 0.041143\n",
      "\u001b[32m[1225 15:05:59 @monitor.py:459]\u001b[0m valid_mean_dice: 0.5395\n",
      "\u001b[32m[1225 15:05:59 @monitor.py:459]\u001b[0m valid_ssim: 1.6217\n",
      "\u001b[32m[1225 15:05:59 @group.py:48]\u001b[0m Callbacks took 17.875 sec in total. DataParallelInferenceRunner: 16.9 seconds\n",
      "\u001b[32m[1225 15:05:59 @base.py:272]\u001b[0m Start Epoch 16 ...\n"
     ]
    },
    {
     "name": "stderr",
     "output_type": "stream",
     "text": [
      "100%|##########|350/350[03:26<00:00, 1.69it/s]"
     ]
    },
    {
     "name": "stdout",
     "output_type": "stream",
     "text": [
      "\u001b[32m[1225 15:09:26 @base.py:282]\u001b[0m Epoch 16 (global_step 5600) finished, time:3 minutes 26 seconds.\n"
     ]
    },
    {
     "name": "stderr",
     "output_type": "stream",
     "text": [
      "\n"
     ]
    },
    {
     "name": "stdout",
     "output_type": "stream",
     "text": [
      "\u001b[32m[1225 15:09:27 @saver.py:77]\u001b[0m Model saved to ./logs//High_CCRCC//hcnet_mix_dist/00/model-5600.\n"
     ]
    },
    {
     "name": "stderr",
     "output_type": "stream",
     "text": [
      "100%|##########|50/50[00:12<00:00, 4.03it/s]\n"
     ]
    },
    {
     "name": "stdout",
     "output_type": "stream",
     "text": [
      "\u001b[32m[1225 15:09:43 @monitor.py:459]\u001b[0m DataParallelInferenceRunner/QueueInput/queue_size: 49.509\n",
      "\u001b[32m[1225 15:09:43 @monitor.py:459]\u001b[0m QueueInput/queue_size: 49.975\n",
      "\u001b[32m[1225 15:09:43 @monitor.py:459]\u001b[0m learning_rate: 0.0001\n",
      "\u001b[32m[1225 15:09:43 @monitor.py:459]\u001b[0m loss-ce: 0.11769\n",
      "\u001b[32m[1225 15:09:43 @monitor.py:459]\u001b[0m loss-ce-12v3: 0.098395\n",
      "\u001b[32m[1225 15:09:43 @monitor.py:459]\u001b[0m loss-ce-1v23: 0.10667\n",
      "\u001b[32m[1225 15:09:43 @monitor.py:459]\u001b[0m loss-dice: 2.4884\n",
      "\u001b[32m[1225 15:09:43 @monitor.py:459]\u001b[0m loss-dice-12v3: 1.6587\n",
      "\u001b[32m[1225 15:09:43 @monitor.py:459]\u001b[0m loss-dice-1v23: 1.5421\n",
      "\u001b[32m[1225 15:09:43 @monitor.py:459]\u001b[0m loss-reg-mae: 0.01689\n",
      "\u001b[32m[1225 15:09:43 @monitor.py:459]\u001b[0m valid_acc: 0.97289\n",
      "\u001b[32m[1225 15:09:43 @monitor.py:459]\u001b[0m valid_dice: 0.83755\n",
      "\u001b[32m[1225 15:09:43 @monitor.py:459]\u001b[0m valid_dice_Endothelium: 0.5541\n",
      "\u001b[32m[1225 15:09:43 @monitor.py:459]\u001b[0m valid_dice_Grade1: 0.70851\n",
      "\u001b[32m[1225 15:09:43 @monitor.py:459]\u001b[0m valid_dice_Grade2: 0.32161\n",
      "\u001b[32m[1225 15:09:43 @monitor.py:459]\u001b[0m valid_dice_Grade3: 0.64848\n",
      "\u001b[32m[1225 15:09:43 @monitor.py:459]\u001b[0m valid_mae: 0.038217\n",
      "\u001b[32m[1225 15:09:43 @monitor.py:459]\u001b[0m valid_mean_dice: 0.55817\n",
      "\u001b[32m[1225 15:09:43 @monitor.py:459]\u001b[0m valid_ssim: 1.605\n",
      "\u001b[32m[1225 15:09:43 @group.py:48]\u001b[0m Callbacks took 17.382 sec in total. DataParallelInferenceRunner: 16.7 seconds\n",
      "\u001b[32m[1225 15:09:43 @base.py:272]\u001b[0m Start Epoch 17 ...\n"
     ]
    },
    {
     "name": "stderr",
     "output_type": "stream",
     "text": [
      "100%|##########|350/350[03:25<00:00, 1.70it/s]"
     ]
    },
    {
     "name": "stdout",
     "output_type": "stream",
     "text": [
      "\u001b[32m[1225 15:13:09 @base.py:282]\u001b[0m Epoch 17 (global_step 5950) finished, time:3 minutes 25 seconds.\n"
     ]
    },
    {
     "name": "stderr",
     "output_type": "stream",
     "text": [
      "\n"
     ]
    },
    {
     "name": "stdout",
     "output_type": "stream",
     "text": [
      "\u001b[32m[1225 15:13:10 @saver.py:77]\u001b[0m Model saved to ./logs//High_CCRCC//hcnet_mix_dist/00/model-5950.\n"
     ]
    },
    {
     "name": "stderr",
     "output_type": "stream",
     "text": [
      "100%|##########|50/50[00:12<00:00, 4.07it/s]\n"
     ]
    },
    {
     "name": "stdout",
     "output_type": "stream",
     "text": [
      "\u001b[32m[1225 15:13:27 @monitor.py:459]\u001b[0m DataParallelInferenceRunner/QueueInput/queue_size: 49.968\n",
      "\u001b[32m[1225 15:13:27 @monitor.py:459]\u001b[0m QueueInput/queue_size: 49.682\n",
      "\u001b[32m[1225 15:13:27 @monitor.py:459]\u001b[0m learning_rate: 0.0001\n",
      "\u001b[32m[1225 15:13:27 @monitor.py:459]\u001b[0m loss-ce: 0.109\n",
      "\u001b[32m[1225 15:13:27 @monitor.py:459]\u001b[0m loss-ce-12v3: 0.091968\n",
      "\u001b[32m[1225 15:13:27 @monitor.py:459]\u001b[0m loss-ce-1v23: 0.098856\n",
      "\u001b[32m[1225 15:13:27 @monitor.py:459]\u001b[0m loss-dice: 2.536\n",
      "\u001b[32m[1225 15:13:27 @monitor.py:459]\u001b[0m loss-dice-12v3: 1.7326\n",
      "\u001b[32m[1225 15:13:27 @monitor.py:459]\u001b[0m loss-dice-1v23: 1.5498\n",
      "\u001b[32m[1225 15:13:27 @monitor.py:459]\u001b[0m loss-reg-mae: 0.0164\n",
      "\u001b[32m[1225 15:13:27 @monitor.py:459]\u001b[0m valid_acc: 0.97316\n",
      "\u001b[32m[1225 15:13:27 @monitor.py:459]\u001b[0m valid_dice: 0.83956\n",
      "\u001b[32m[1225 15:13:27 @monitor.py:459]\u001b[0m valid_dice_Endothelium: 0.56577\n",
      "\u001b[32m[1225 15:13:27 @monitor.py:459]\u001b[0m valid_dice_Grade1: 0.71157\n",
      "\u001b[32m[1225 15:13:27 @monitor.py:459]\u001b[0m valid_dice_Grade2: 0.2364\n",
      "\u001b[32m[1225 15:13:27 @monitor.py:459]\u001b[0m valid_dice_Grade3: 0.61778\n",
      "\u001b[32m[1225 15:13:27 @monitor.py:459]\u001b[0m valid_mae: 0.03926\n",
      "\u001b[32m[1225 15:13:27 @monitor.py:459]\u001b[0m valid_mean_dice: 0.53288\n",
      "\u001b[32m[1225 15:13:27 @monitor.py:459]\u001b[0m valid_ssim: 1.5931\n",
      "\u001b[32m[1225 15:13:27 @group.py:48]\u001b[0m Callbacks took 17.689 sec in total. DataParallelInferenceRunner: 17.1 seconds\n",
      "\u001b[32m[1225 15:13:27 @base.py:272]\u001b[0m Start Epoch 18 ...\n"
     ]
    },
    {
     "name": "stderr",
     "output_type": "stream",
     "text": [
      "100%|##########|350/350[03:25<00:00, 1.70it/s]"
     ]
    },
    {
     "name": "stdout",
     "output_type": "stream",
     "text": [
      "\u001b[32m[1225 15:16:53 @base.py:282]\u001b[0m Epoch 18 (global_step 6300) finished, time:3 minutes 25 seconds.\n"
     ]
    },
    {
     "name": "stderr",
     "output_type": "stream",
     "text": [
      "\n"
     ]
    },
    {
     "name": "stdout",
     "output_type": "stream",
     "text": [
      "\u001b[32m[1225 15:16:53 @saver.py:77]\u001b[0m Model saved to ./logs//High_CCRCC//hcnet_mix_dist/00/model-6300.\n"
     ]
    },
    {
     "name": "stderr",
     "output_type": "stream",
     "text": [
      "100%|##########|50/50[00:12<00:00, 4.11it/s]\n"
     ]
    },
    {
     "name": "stdout",
     "output_type": "stream",
     "text": [
      "\u001b[32m[1225 15:17:10 @monitor.py:459]\u001b[0m DataParallelInferenceRunner/QueueInput/queue_size: 50\n",
      "\u001b[32m[1225 15:17:10 @monitor.py:459]\u001b[0m QueueInput/queue_size: 49.962\n",
      "\u001b[32m[1225 15:17:10 @monitor.py:459]\u001b[0m learning_rate: 0.0001\n",
      "\u001b[32m[1225 15:17:10 @monitor.py:459]\u001b[0m loss-ce: 0.12224\n",
      "\u001b[32m[1225 15:17:10 @monitor.py:459]\u001b[0m loss-ce-12v3: 0.10186\n",
      "\u001b[32m[1225 15:17:10 @monitor.py:459]\u001b[0m loss-ce-1v23: 0.11256\n",
      "\u001b[32m[1225 15:17:10 @monitor.py:459]\u001b[0m loss-dice: 2.5742\n",
      "\u001b[32m[1225 15:17:10 @monitor.py:459]\u001b[0m loss-dice-12v3: 1.7475\n",
      "\u001b[32m[1225 15:17:10 @monitor.py:459]\u001b[0m loss-dice-1v23: 1.6104\n",
      "\u001b[32m[1225 15:17:10 @monitor.py:459]\u001b[0m loss-reg-mae: 0.016769\n",
      "\u001b[32m[1225 15:17:10 @monitor.py:459]\u001b[0m valid_acc: 0.97074\n",
      "\u001b[32m[1225 15:17:10 @monitor.py:459]\u001b[0m valid_dice: 0.8189\n",
      "\u001b[32m[1225 15:17:10 @monitor.py:459]\u001b[0m valid_dice_Endothelium: 0.5515\n",
      "\u001b[32m[1225 15:17:10 @monitor.py:459]\u001b[0m valid_dice_Grade1: 0.68197\n",
      "\u001b[32m[1225 15:17:10 @monitor.py:459]\u001b[0m valid_dice_Grade2: 0.32182\n",
      "\u001b[32m[1225 15:17:10 @monitor.py:459]\u001b[0m valid_dice_Grade3: 0.64332\n",
      "\u001b[32m[1225 15:17:10 @monitor.py:459]\u001b[0m valid_mae: 0.039232\n",
      "\u001b[32m[1225 15:17:10 @monitor.py:459]\u001b[0m valid_mean_dice: 0.54965\n",
      "\u001b[32m[1225 15:17:10 @monitor.py:459]\u001b[0m valid_ssim: 1.5811\n",
      "\u001b[32m[1225 15:17:10 @group.py:48]\u001b[0m Callbacks took 17.072 sec in total. DataParallelInferenceRunner: 16.5 seconds\n",
      "\u001b[32m[1225 15:17:10 @base.py:272]\u001b[0m Start Epoch 19 ...\n"
     ]
    },
    {
     "name": "stderr",
     "output_type": "stream",
     "text": [
      "100%|##########|350/350[03:25<00:00, 1.70it/s]"
     ]
    },
    {
     "name": "stdout",
     "output_type": "stream",
     "text": [
      "\u001b[32m[1225 15:20:36 @base.py:282]\u001b[0m Epoch 19 (global_step 6650) finished, time:3 minutes 25 seconds.\n"
     ]
    },
    {
     "name": "stderr",
     "output_type": "stream",
     "text": [
      "\n"
     ]
    },
    {
     "name": "stdout",
     "output_type": "stream",
     "text": [
      "\u001b[32m[1225 15:20:36 @saver.py:77]\u001b[0m Model saved to ./logs//High_CCRCC//hcnet_mix_dist/00/model-6650.\n"
     ]
    },
    {
     "name": "stderr",
     "output_type": "stream",
     "text": [
      "100%|##########|50/50[00:12<00:00, 4.01it/s]\n"
     ]
    },
    {
     "name": "stdout",
     "output_type": "stream",
     "text": [
      "\u001b[32m[1225 15:20:53 @saver.py:159]\u001b[0m Model at global_step=6650 with maximum valid_dice=0.84367 saved.\n",
      "\u001b[32m[1225 15:20:53 @monitor.py:459]\u001b[0m DataParallelInferenceRunner/QueueInput/queue_size: 49.996\n",
      "\u001b[32m[1225 15:20:53 @monitor.py:459]\u001b[0m QueueInput/queue_size: 49.959\n",
      "\u001b[32m[1225 15:20:53 @monitor.py:459]\u001b[0m learning_rate: 0.0001\n",
      "\u001b[32m[1225 15:20:53 @monitor.py:459]\u001b[0m loss-ce: 0.11498\n",
      "\u001b[32m[1225 15:20:53 @monitor.py:459]\u001b[0m loss-ce-12v3: 0.094125\n",
      "\u001b[32m[1225 15:20:53 @monitor.py:459]\u001b[0m loss-ce-1v23: 0.10596\n",
      "\u001b[32m[1225 15:20:53 @monitor.py:459]\u001b[0m loss-dice: 2.4711\n",
      "\u001b[32m[1225 15:20:53 @monitor.py:459]\u001b[0m loss-dice-12v3: 1.659\n",
      "\u001b[32m[1225 15:20:53 @monitor.py:459]\u001b[0m loss-dice-1v23: 1.5468\n",
      "\u001b[32m[1225 15:20:53 @monitor.py:459]\u001b[0m loss-reg-mae: 0.01625\n",
      "\u001b[32m[1225 15:20:53 @monitor.py:459]\u001b[0m valid_acc: 0.97244\n",
      "\u001b[32m[1225 15:20:53 @monitor.py:459]\u001b[0m valid_dice: 0.84367\n",
      "\u001b[32m[1225 15:20:53 @monitor.py:459]\u001b[0m valid_dice_Endothelium: 0.54629\n",
      "\u001b[32m[1225 15:20:53 @monitor.py:459]\u001b[0m valid_dice_Grade1: 0.72052\n",
      "\u001b[32m[1225 15:20:53 @monitor.py:459]\u001b[0m valid_dice_Grade2: 0.32956\n",
      "\u001b[32m[1225 15:20:53 @monitor.py:459]\u001b[0m valid_dice_Grade3: 0.64149\n",
      "\u001b[32m[1225 15:20:53 @monitor.py:459]\u001b[0m valid_mae: 0.039598\n",
      "\u001b[32m[1225 15:20:53 @monitor.py:459]\u001b[0m valid_mean_dice: 0.55947\n",
      "\u001b[32m[1225 15:20:53 @monitor.py:459]\u001b[0m valid_ssim: 1.5759\n",
      "\u001b[32m[1225 15:20:53 @group.py:48]\u001b[0m Callbacks took 17.812 sec in total. DataParallelInferenceRunner: 16.9 seconds\n",
      "\u001b[32m[1225 15:20:53 @base.py:272]\u001b[0m Start Epoch 20 ...\n"
     ]
    },
    {
     "name": "stderr",
     "output_type": "stream",
     "text": [
      "100%|##########|350/350[03:25<00:00, 1.70it/s]"
     ]
    },
    {
     "name": "stdout",
     "output_type": "stream",
     "text": [
      "\u001b[32m[1225 15:24:19 @base.py:282]\u001b[0m Epoch 20 (global_step 7000) finished, time:3 minutes 25 seconds.\n"
     ]
    },
    {
     "name": "stderr",
     "output_type": "stream",
     "text": [
      "\n"
     ]
    },
    {
     "name": "stdout",
     "output_type": "stream",
     "text": [
      "\u001b[32m[1225 15:24:20 @saver.py:77]\u001b[0m Model saved to ./logs//High_CCRCC//hcnet_mix_dist/00/model-7000.\n"
     ]
    },
    {
     "name": "stderr",
     "output_type": "stream",
     "text": [
      "100%|##########|50/50[00:12<00:00, 4.03it/s]\n"
     ]
    },
    {
     "name": "stdout",
     "output_type": "stream",
     "text": [
      "\u001b[32m[1225 15:24:37 @monitor.py:459]\u001b[0m DataParallelInferenceRunner/QueueInput/queue_size: 49.974\n",
      "\u001b[32m[1225 15:24:37 @monitor.py:459]\u001b[0m QueueInput/queue_size: 49.5\n",
      "\u001b[32m[1225 15:24:37 @monitor.py:459]\u001b[0m learning_rate: 0.0001\n",
      "\u001b[32m[1225 15:24:37 @monitor.py:459]\u001b[0m loss-ce: 0.11932\n",
      "\u001b[32m[1225 15:24:37 @monitor.py:459]\u001b[0m loss-ce-12v3: 0.098168\n",
      "\u001b[32m[1225 15:24:37 @monitor.py:459]\u001b[0m loss-ce-1v23: 0.10963\n",
      "\u001b[32m[1225 15:24:37 @monitor.py:459]\u001b[0m loss-dice: 2.4361\n",
      "\u001b[32m[1225 15:24:37 @monitor.py:459]\u001b[0m loss-dice-12v3: 1.6455\n",
      "\u001b[32m[1225 15:24:37 @monitor.py:459]\u001b[0m loss-dice-1v23: 1.5209\n",
      "\u001b[32m[1225 15:24:37 @monitor.py:459]\u001b[0m loss-reg-mae: 0.65611\n",
      "\u001b[32m[1225 15:24:37 @monitor.py:459]\u001b[0m valid_acc: 0.97272\n",
      "\u001b[32m[1225 15:24:37 @monitor.py:459]\u001b[0m valid_dice: 0.8324\n",
      "\u001b[32m[1225 15:24:37 @monitor.py:459]\u001b[0m valid_dice_Endothelium: 0.52075\n",
      "\u001b[32m[1225 15:24:37 @monitor.py:459]\u001b[0m valid_dice_Grade1: 0.7063\n",
      "\u001b[32m[1225 15:24:37 @monitor.py:459]\u001b[0m valid_dice_Grade2: 0.24431\n",
      "\u001b[32m[1225 15:24:37 @monitor.py:459]\u001b[0m valid_dice_Grade3: 0.58945\n",
      "\u001b[32m[1225 15:24:37 @monitor.py:459]\u001b[0m valid_mae: 0.035975\n",
      "\u001b[32m[1225 15:24:37 @monitor.py:459]\u001b[0m valid_mean_dice: 0.5152\n",
      "\u001b[32m[1225 15:24:37 @monitor.py:459]\u001b[0m valid_ssim: 1.5937\n",
      "\u001b[32m[1225 15:24:37 @group.py:48]\u001b[0m Callbacks took 17.416 sec in total. DataParallelInferenceRunner: 16.8 seconds\n",
      "\u001b[32m[1225 15:24:37 @base.py:272]\u001b[0m Start Epoch 21 ...\n"
     ]
    },
    {
     "name": "stderr",
     "output_type": "stream",
     "text": [
      "100%|##########|350/350[03:25<00:00, 1.70it/s]"
     ]
    },
    {
     "name": "stdout",
     "output_type": "stream",
     "text": [
      "\u001b[32m[1225 15:28:02 @base.py:282]\u001b[0m Epoch 21 (global_step 7350) finished, time:3 minutes 25 seconds.\n"
     ]
    },
    {
     "name": "stderr",
     "output_type": "stream",
     "text": [
      "\n"
     ]
    },
    {
     "name": "stdout",
     "output_type": "stream",
     "text": [
      "\u001b[32m[1225 15:28:03 @saver.py:77]\u001b[0m Model saved to ./logs//High_CCRCC//hcnet_mix_dist/00/model-7350.\n"
     ]
    },
    {
     "name": "stderr",
     "output_type": "stream",
     "text": [
      "100%|##########|50/50[00:12<00:00, 4.03it/s]\n"
     ]
    },
    {
     "name": "stdout",
     "output_type": "stream",
     "text": [
      "\u001b[32m[1225 15:28:20 @saver.py:159]\u001b[0m Model at global_step=7350 with maximum valid_dice=0.84426 saved.\n",
      "\u001b[32m[1225 15:28:20 @monitor.py:459]\u001b[0m DataParallelInferenceRunner/QueueInput/queue_size: 49.732\n",
      "\u001b[32m[1225 15:28:20 @monitor.py:459]\u001b[0m QueueInput/queue_size: 49.75\n",
      "\u001b[32m[1225 15:28:20 @monitor.py:459]\u001b[0m learning_rate: 0.0001\n",
      "\u001b[32m[1225 15:28:20 @monitor.py:459]\u001b[0m loss-ce: 0.10761\n",
      "\u001b[32m[1225 15:28:20 @monitor.py:459]\u001b[0m loss-ce-12v3: 0.088357\n",
      "\u001b[32m[1225 15:28:20 @monitor.py:459]\u001b[0m loss-ce-1v23: 0.099143\n",
      "\u001b[32m[1225 15:28:20 @monitor.py:459]\u001b[0m loss-dice: 2.4801\n",
      "\u001b[32m[1225 15:28:20 @monitor.py:459]\u001b[0m loss-dice-12v3: 1.6661\n",
      "\u001b[32m[1225 15:28:20 @monitor.py:459]\u001b[0m loss-dice-1v23: 1.5341\n",
      "\u001b[32m[1225 15:28:20 @monitor.py:459]\u001b[0m loss-reg-mae: 0.027481\n",
      "\u001b[32m[1225 15:28:20 @monitor.py:459]\u001b[0m valid_acc: 0.97262\n",
      "\u001b[32m[1225 15:28:20 @monitor.py:459]\u001b[0m valid_dice: 0.84426\n",
      "\u001b[32m[1225 15:28:20 @monitor.py:459]\u001b[0m valid_dice_Endothelium: 0.59725\n",
      "\u001b[32m[1225 15:28:20 @monitor.py:459]\u001b[0m valid_dice_Grade1: 0.66979\n",
      "\u001b[32m[1225 15:28:20 @monitor.py:459]\u001b[0m valid_dice_Grade2: 0.39013\n",
      "\u001b[32m[1225 15:28:20 @monitor.py:459]\u001b[0m valid_dice_Grade3: 0.6312\n",
      "\u001b[32m[1225 15:28:20 @monitor.py:459]\u001b[0m valid_mae: 0.04008\n",
      "\u001b[32m[1225 15:28:20 @monitor.py:459]\u001b[0m valid_mean_dice: 0.57209\n",
      "\u001b[32m[1225 15:28:20 @monitor.py:459]\u001b[0m valid_ssim: 1.565\n",
      "\u001b[32m[1225 15:28:20 @group.py:48]\u001b[0m Callbacks took 17.724 sec in total. DataParallelInferenceRunner: 16.8 seconds\n",
      "\u001b[32m[1225 15:28:20 @base.py:272]\u001b[0m Start Epoch 22 ...\n"
     ]
    },
    {
     "name": "stderr",
     "output_type": "stream",
     "text": [
      "100%|##########|50/50[00:12<00:00, 4.02it/s]s]\n",
      "100%|##########|350/350[03:26<00:00, 1.69it/s]"
     ]
    },
    {
     "name": "stdout",
     "output_type": "stream",
     "text": [
      "\u001b[32m[1225 15:50:25 @base.py:282]\u001b[0m Epoch 27 (global_step 9450) finished, time:3 minutes 26 seconds.\n"
     ]
    },
    {
     "name": "stderr",
     "output_type": "stream",
     "text": [
      "\n"
     ]
    },
    {
     "name": "stdout",
     "output_type": "stream",
     "text": [
      "\u001b[32m[1225 15:50:25 @saver.py:77]\u001b[0m Model saved to ./logs//High_CCRCC//hcnet_mix_dist/00/model-9450.\n"
     ]
    },
    {
     "name": "stderr",
     "output_type": "stream",
     "text": [
      " 72%|#######2  |36/50[00:08<00:03, 4.01it/s]"
     ]
    }
   ],
   "source": [
    "trainer = Trainer()\n",
    "gpus = \"5,6\"\n",
    "os.environ['CUDA_VISIBLE_DEVICES'] = gpus\n",
    "nr_gpus = len(gpus.split(','))\n",
    "trainer.run(nr_gpus)"
   ]
  },
  {
   "cell_type": "code",
   "execution_count": null,
   "metadata": {},
   "outputs": [],
   "source": []
  }
 ],
 "metadata": {
  "kernelspec": {
   "display_name": "Python [conda env:.conda-hovernet] *",
   "language": "python",
   "name": "conda-env-.conda-hovernet-py"
  },
  "language_info": {
   "codemirror_mode": {
    "name": "ipython",
    "version": 3
   },
   "file_extension": ".py",
   "mimetype": "text/x-python",
   "name": "python",
   "nbconvert_exporter": "python",
   "pygments_lexer": "ipython3",
   "version": "3.6.10"
  }
 },
 "nbformat": 4,
 "nbformat_minor": 4
}
