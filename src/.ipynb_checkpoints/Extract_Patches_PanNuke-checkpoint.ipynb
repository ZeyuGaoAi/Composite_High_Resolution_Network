{
 "cells": [
  {
   "cell_type": "code",
   "execution_count": 1,
   "metadata": {},
   "outputs": [],
   "source": [
    "import glob\n",
    "import os\n",
    "\n",
    "import scipy.io as sio\n",
    "\n",
    "import cv2\n",
    "import numpy as np\n",
    "import matplotlib.pyplot as plt\n",
    "from tqdm import tqdm\n",
    "\n",
    "from misc.patch_extractor import PatchExtractor\n",
    "from misc.utils import rm_n_mkdir\n",
    "\n",
    "from config import Config"
   ]
  },
  {
   "cell_type": "code",
   "execution_count": 32,
   "metadata": {},
   "outputs": [],
   "source": [
    "cfg = Config()\n",
    "\n",
    "extract_type = 'mirror' # 'valid' for fcn8 segnet etc.\n",
    "                        # 'mirror' for u-net etc.\n",
    "# check the patch_extractor.py 'main' to see the different\n",
    "\n",
    "# orignal size (win size) - input size - output size (step size)\n",
    "# 512x512 - 256x256 - 256x256 fcn8, dcan, segnet\n",
    "# 536x536 - 268x268 - 84x84   unet, dist\n",
    "# 540x540 - 270x270 - 80x80   xy, hover\n",
    "# 504x504 - 252x252 - 252x252 micronetcd tr\n",
    "step_size = [160, 160] # should match self.train_mask_shape (config.py) \n",
    "win_size  = [400, 400] # should be at least twice time larger than \n",
    "                       # self.train_base_shape (config.py) to reduce \n",
    "                       # the padding effect during augmentation\n",
    "\n",
    "xtractor = PatchExtractor(win_size, step_size)\n",
    "\n",
    "out_dir = \"/home1/gzy/NucleiSegmentation/PanNuke/Train/%dx%d_%dx%d\" % \\\n",
    "                    (win_size[0], win_size[1], step_size[0], step_size[1])\n",
    "rm_n_mkdir(out_dir)"
   ]
  },
  {
   "cell_type": "code",
   "execution_count": 33,
   "metadata": {},
   "outputs": [],
   "source": [
    "fold = 'fold1'\n",
    "masks = np.load(\"/home1/gzy/NucleiSegmentation/PanNuke/Fold1/masks/%s/masks.npy\" % fold)\n",
    "types = np.load(\"/home1/gzy/NucleiSegmentation/PanNuke/Fold1/images/%s/types.npy\" % fold)\n",
    "images = np.load(\"/home1/gzy/NucleiSegmentation/PanNuke/Fold1/images/%s/images.npy\" % fold)"
   ]
  },
  {
   "cell_type": "code",
   "execution_count": 45,
   "metadata": {},
   "outputs": [
    {
     "name": "stderr",
     "output_type": "stream",
     "text": [
      " 15%|█▍        | 391/2656 [05:25<31:28,  1.20it/s]  \n"
     ]
    },
    {
     "ename": "KeyboardInterrupt",
     "evalue": "",
     "output_type": "error",
     "traceback": [
      "\u001b[0;31m---------------------------------------------------------------------------\u001b[0m",
      "\u001b[0;31mKeyboardInterrupt\u001b[0m                         Traceback (most recent call last)",
      "\u001b[0;32m<ipython-input-45-f6eaa28b9d8c>\u001b[0m in \u001b[0;36m<module>\u001b[0;34m\u001b[0m\n\u001b[1;32m      7\u001b[0m     \u001b[0mmask_type\u001b[0m \u001b[0;34m=\u001b[0m \u001b[0;34m[\u001b[0m\u001b[0;34m]\u001b[0m\u001b[0;34m\u001b[0m\u001b[0;34m\u001b[0m\u001b[0m\n\u001b[1;32m      8\u001b[0m     \u001b[0;32mfor\u001b[0m \u001b[0mr\u001b[0m \u001b[0;32min\u001b[0m \u001b[0mmask\u001b[0m\u001b[0;34m:\u001b[0m\u001b[0;34m\u001b[0m\u001b[0;34m\u001b[0m\u001b[0m\n\u001b[0;32m----> 9\u001b[0;31m         \u001b[0;32mif\u001b[0m \u001b[0mnp\u001b[0m\u001b[0;34m.\u001b[0m\u001b[0msum\u001b[0m\u001b[0;34m(\u001b[0m\u001b[0mr\u001b[0m\u001b[0;34m)\u001b[0m\u001b[0;34m==\u001b[0m\u001b[0;36m0\u001b[0m\u001b[0;34m:\u001b[0m\u001b[0;34m\u001b[0m\u001b[0;34m\u001b[0m\u001b[0m\n\u001b[0m\u001b[1;32m     10\u001b[0m             \u001b[0mmask_type\u001b[0m\u001b[0;34m.\u001b[0m\u001b[0mappend\u001b[0m\u001b[0;34m(\u001b[0m\u001b[0;36m5\u001b[0m\u001b[0;34m)\u001b[0m\u001b[0;34m\u001b[0m\u001b[0;34m\u001b[0m\u001b[0m\n\u001b[1;32m     11\u001b[0m         \u001b[0;32melse\u001b[0m\u001b[0;34m:\u001b[0m\u001b[0;34m\u001b[0m\u001b[0;34m\u001b[0m\u001b[0m\n",
      "\u001b[0;31mKeyboardInterrupt\u001b[0m: "
     ]
    }
   ],
   "source": [
    "for i in tqdm(range(images.shape[0])):\n",
    "    img = images[i]\n",
    "    img = img.astype('int32')\n",
    "    mask = masks[i]\n",
    "    mask = mask.reshape(256*256, 6)\n",
    "    \n",
    "    try:\n",
    "        mask_type = [np.where(r!=0)[0][0] for r in mask]\n",
    "    except Exception:\n",
    "        continue\n",
    "    mask_type = np.array(mask_type)\n",
    "    mask_type = mask_type.reshape(256,256)\n",
    "    # bg 为 0\n",
    "    mask_type = mask_type + 1\n",
    "    mask_type[mask_type == 6] = 0\n",
    "    \n",
    "    mask_inst = np.sum(mask, axis=1).reshape(256,256)\n",
    "    mask_inst[mask_type==0] = 0\n",
    "    \n",
    "    ann = np.dstack([mask_inst, mask_type])\n",
    "    ann = ann.astype('int32')\n",
    "    img = np.concatenate([img, ann], axis=-1)\n",
    "    sub_patches = xtractor.extract(img, extract_type)\n",
    "    for idx, patch in enumerate(sub_patches):\n",
    "        np.save(\"{0}/{1}_{2:03d}.npy\".format(out_dir, str(i)+fold, idx), patch)"
   ]
  },
  {
   "cell_type": "code",
   "execution_count": 44,
   "metadata": {},
   "outputs": [
    {
     "data": {
      "text/plain": [
       "True"
      ]
     },
     "execution_count": 44,
     "metadata": {},
     "output_type": "execute_result"
    }
   ],
   "source": [
    "np.sum(r)==0"
   ]
  },
  {
   "cell_type": "code",
   "execution_count": null,
   "metadata": {},
   "outputs": [],
   "source": []
  }
 ],
 "metadata": {
  "kernelspec": {
   "display_name": "Python 3",
   "language": "python",
   "name": "python3"
  },
  "language_info": {
   "codemirror_mode": {
    "name": "ipython",
    "version": 3
   },
   "file_extension": ".py",
   "mimetype": "text/x-python",
   "name": "python",
   "nbconvert_exporter": "python",
   "pygments_lexer": "ipython3",
   "version": "3.6.10"
  }
 },
 "nbformat": 4,
 "nbformat_minor": 4
}
