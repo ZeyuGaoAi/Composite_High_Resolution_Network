{
 "cells": [
  {
   "cell_type": "code",
   "execution_count": 1,
   "metadata": {},
   "outputs": [],
   "source": [
    "import glob\n",
    "import os\n",
    "\n",
    "import scipy.io as sio\n",
    "\n",
    "import cv2\n",
    "import numpy as np\n",
    "import itertools\n",
    "\n",
    "from misc.patch_extractor import PatchExtractor\n",
    "from misc.utils import rm_n_mkdir\n",
    "\n",
    "from config import Config"
   ]
  },
  {
   "cell_type": "code",
   "execution_count": 2,
   "metadata": {},
   "outputs": [],
   "source": [
    "def bounding_box(img):\n",
    "    rows = np.any(img, axis=1)\n",
    "    cols = np.any(img, axis=0)\n",
    "    rmin, rmax = np.where(rows)[0][[0, -1]]\n",
    "    cmin, cmax = np.where(cols)[0][[0, -1]]\n",
    "    # due to python indexing, need to add 1 to max\n",
    "    # else accessing will be 1px in the box, not out \n",
    "    rmax += 1\n",
    "    cmax += 1\n",
    "    return [rmin, rmax, cmin, cmax]\n",
    "\n",
    "def draw_contours(mask, ann_inst, line_thickness=2):\n",
    "    overlay = np.copy((mask).astype(np.uint8))\n",
    "\n",
    "    label_map = ann_inst\n",
    "    instances_list = list(np.unique(label_map))  # get list of instances\n",
    "    instances_list.remove(0)  # remove background\n",
    "    contours = []\n",
    "    for inst_id in instances_list:\n",
    "        instance_map = np.array(\n",
    "            ann_inst == inst_id, np.uint8)  # get single object\n",
    "        y1, y2, x1, x2 = bounding_box(instance_map)\n",
    "        y1 = y1 - 2 if y1 - 2 >= 0 else y1\n",
    "        x1 = x1 - 2 if x1 - 2 >= 0 else x1\n",
    "        x2 = x2 + 2 if x2 + 2 <= ann_inst.shape[1] - 1 else x2\n",
    "        y2 = y2 + 2 if y2 + 2 <= ann_inst.shape[0] - 1 else y2\n",
    "        inst_map_crop = instance_map[y1:y2, x1:x2]\n",
    "        contours_crop = cv2.findContours(\n",
    "            inst_map_crop, cv2.RETR_TREE, cv2.CHAIN_APPROX_SIMPLE)\n",
    "        index_correction = np.asarray([[[[x1, y1]]]])\n",
    "        for i in range(len(contours_crop[0])):\n",
    "            contours.append(\n",
    "                list(np.asarray(contours_crop[0][i].astype('int32')) + index_correction))\n",
    "    contours = list(itertools.chain(*contours))\n",
    "    cv2.drawContours(overlay, np.asarray(contours), -1, 2, line_thickness)\n",
    "    return overlay\n",
    "\n",
    "cfg = Config()\n",
    "\n",
    "extract_type = 'mirror' # 'valid' for fcn8 segnet etc.\n",
    "                        # 'mirror' for u-net etc.\n",
    "# check the patch_extractor.py 'main' to see the different\n",
    "\n",
    "# orignal size (win size) - input size - output size (step size)\n",
    "# 512x512 - 256x256 - 256x256 fcn8, dcan, segnet\n",
    "# 536x536 - 268x268 - 84x84   unet, dist\n",
    "# 540x540 - 270x270 - 80x80   xy, hover\n",
    "# 504x504 - 252x252 - 252x252 micronet\n",
    "step_size = [160, 160] # should match self.train_mask_shape (config.py) \n",
    "win_size  = [400, 400] # should be at least twice time larger than \n",
    "                       # self.train_base_shape (config.py) to reduce \n",
    "                       # the padding effect during augmentation\n",
    "\n",
    "xtractor = PatchExtractor(win_size, step_size)\n",
    "\n",
    "### Paths to data - these need to be modified according to where the original data is stored\n",
    "img_ext = '.png'\n",
    "img_dir = '/home1/gzy/NucleiSegmentation/Kumar/Train/Images/'\n",
    "ann_dir = '/home1/gzy/NucleiSegmentation/Kumar/Train/Labels/'\n",
    "map_dir = '/home1/gzy/NucleiSegmentation/Kumar/Train/Maps/'\n",
    "####\n",
    "out_dir = \"/home1/gzy/NucleiSegmentation/Kumar/Train/%dx%d_%dx%d_dg4\" % \\\n",
    "                    (win_size[0], win_size[1], step_size[0], step_size[1])\n",
    "\n",
    "file_list = glob.glob('%s/*%s' % (img_dir, img_ext))\n",
    "file_list.sort() \n",
    "\n",
    "rm_n_mkdir(out_dir)"
   ]
  },
  {
   "cell_type": "code",
   "execution_count": 8,
   "metadata": {},
   "outputs": [
    {
     "name": "stdout",
     "output_type": "stream",
     "text": [
      "TCGA-21-5784-01Z-00-DX1.png\n",
      "TCGA-21-5786-01Z-00-DX1.png\n",
      "TCGA-AY-A8YK-01A-01-TS1.png\n",
      "TCGA-B0-5698-01Z-00-DX1.png\n",
      "TCGA-B0-5710-01Z-00-DX1.png\n",
      "TCGA-CH-5767-01Z-00-DX1.png\n",
      "TCGA-DK-A2I6-01A-01-TS1.png\n",
      "TCGA-E2-A14V-01Z-00-DX1.png\n",
      "TCGA-E2-A1B5-01Z-00-DX1.png\n",
      "TCGA-G2-A2EK-01A-02-TSB.png\n",
      "TCGA-G9-6362-01Z-00-DX1.png\n",
      "TCGA-KB-A93J-01A-01-TS1.png\n",
      "TCGA-NH-A8F7-01A-01-TS1.png\n",
      "TCGA-RD-A8N9-01A-01-TS1.png\n"
     ]
    }
   ],
   "source": [
    "for filename in file_list:\n",
    "    filename = os.path.basename(filename)\n",
    "    basename = filename.split('.')[0]\n",
    "    print(filename)\n",
    "\n",
    "    img = cv2.imread(img_dir + basename + img_ext)\n",
    "    img = cv2.cvtColor(img, cv2.COLOR_BGR2RGB) \n",
    "\n",
    "    # load dual guassian maps\n",
    "    positive_map = cv2.imread(map_dir + \"positive_4/\" + basename + img_ext, cv2.IMREAD_GRAYSCALE)\n",
    "    negative_map = cv2.imread(map_dir + \"negative_4/\" + basename + img_ext, cv2.IMREAD_GRAYSCALE)\n",
    "    guassian_map = np.dstack([positive_map, negative_map])\n",
    "    \n",
    "#     ann_inst = np.load(ann_dir + basename + '.npy')\n",
    "    ann_inst = sio.loadmat(ann_dir + basename + '.mat')\n",
    "    ann_inst = ann_inst['inst_map'].astype('int32')\n",
    "    ann = np.expand_dims(ann_inst, -1)\n",
    "        \n",
    "    if cfg.type_boundray:\n",
    "        mask = ann_inst.copy()\n",
    "        mask[mask!=0] = 1\n",
    "        mask = draw_contours(mask, ann_inst)\n",
    "        mask = np.expand_dims(mask, -1)\n",
    "        ann = np.concatenate([ann, mask], axis=-1)\n",
    "       \n",
    "    #img = np.concatenate([img, ann], axis=-1)\n",
    "    img = np.concatenate([img, ann, guassian_map], axis=-1)\n",
    "    sub_patches = xtractor.extract(img, extract_type)\n",
    "    for idx, patch in enumerate(sub_patches):\n",
    "        np.save(\"{0}/{1}_{2:03d}.npy\".format(out_dir, basename, idx), patch)"
   ]
  },
  {
   "cell_type": "code",
   "execution_count": 4,
   "metadata": {},
   "outputs": [],
   "source": [
    "a = sio.loadmat(ann_dir + basename + '.mat')"
   ]
  },
  {
   "cell_type": "code",
   "execution_count": 7,
   "metadata": {},
   "outputs": [
    {
     "data": {
      "text/plain": [
       "(1000, 1000)"
      ]
     },
     "execution_count": 7,
     "metadata": {},
     "output_type": "execute_result"
    }
   ],
   "source": [
    "a['inst_map'].shape"
   ]
  },
  {
   "cell_type": "code",
   "execution_count": null,
   "metadata": {},
   "outputs": [],
   "source": []
  }
 ],
 "metadata": {
  "kernelspec": {
   "display_name": "Python [conda env:.conda-hovernet] *",
   "language": "python",
   "name": "conda-env-.conda-hovernet-py"
  },
  "language_info": {
   "codemirror_mode": {
    "name": "ipython",
    "version": 3
   },
   "file_extension": ".py",
   "mimetype": "text/x-python",
   "name": "python",
   "nbconvert_exporter": "python",
   "pygments_lexer": "ipython3",
   "version": "3.6.10"
  }
 },
 "nbformat": 4,
 "nbformat_minor": 4
}
