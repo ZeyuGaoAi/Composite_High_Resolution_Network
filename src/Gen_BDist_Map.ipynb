{
 "cells": [
  {
   "cell_type": "code",
   "execution_count": 21,
   "metadata": {},
   "outputs": [],
   "source": [
    "import glob\n",
    "import os\n",
    "from shutil import copyfile\n",
    "\n",
    "import scipy.io as sio\n",
    "\n",
    "import cv2\n",
    "import numpy as np\n",
    "import itertools\n",
    "import matplotlib.pyplot as plt\n",
    "from tqdm import tqdm\n",
    "from scipy.ndimage.morphology import distance_transform_cdt, distance_transform_edt\n",
    "\n",
    "from misc.patch_extractor import PatchExtractor\n",
    "from misc.utils import rm_n_mkdir\n",
    "\n",
    "from config import Config\n",
    "\n",
    "\n",
    "def bounding_box(img):\n",
    "    rows = np.any(img, axis=1)\n",
    "    cols = np.any(img, axis=0)\n",
    "    rmin, rmax = np.where(rows)[0][[0, -1]]\n",
    "    cmin, cmax = np.where(cols)[0][[0, -1]]\n",
    "    # due to python indexing, need to add 1 to max\n",
    "    # else accessing will be 1px in the box, not out \n",
    "    rmax += 1\n",
    "    cmax += 1\n",
    "    return [rmin, rmax, cmin, cmax]\n",
    "\n",
    "def draw_contours(mask, ann_inst, line_thickness=1):\n",
    "    overlay = np.copy((mask).astype(np.uint8))\n",
    "\n",
    "    label_map = ann_inst\n",
    "    instances_list = list(np.unique(label_map))  # get list of instances\n",
    "    instances_list.remove(0)  # remove background\n",
    "    contours = []\n",
    "    for inst_id in instances_list:\n",
    "        instance_map = np.array(\n",
    "            ann_inst == inst_id, np.uint8)  # get single object\n",
    "        y1, y2, x1, x2 = bounding_box(instance_map)\n",
    "        y1 = y1 - 2 if y1 - 2 >= 0 else y1\n",
    "        x1 = x1 - 2 if x1 - 2 >= 0 else x1\n",
    "        x2 = x2 + 2 if x2 + 2 <= ann_inst.shape[1] - 1 else x2\n",
    "        y2 = y2 + 2 if y2 + 2 <= ann_inst.shape[0] - 1 else y2\n",
    "        inst_map_crop = instance_map[y1:y2, x1:x2]\n",
    "        contours_crop = cv2.findContours(\n",
    "            inst_map_crop, cv2.RETR_TREE, cv2.CHAIN_APPROX_SIMPLE)\n",
    "        index_correction = np.asarray([[[[x1, y1]]]])\n",
    "        for i in range(len(contours_crop[0])):\n",
    "            contours.append(\n",
    "                list(np.asarray(contours_crop[0][i].astype('int32')) + index_correction))\n",
    "    contours = list(itertools.chain(*contours))\n",
    "    cv2.drawContours(overlay, np.asarray(contours), -1, 1, line_thickness)\n",
    "    return overlay"
   ]
  },
  {
   "cell_type": "code",
   "execution_count": 55,
   "metadata": {},
   "outputs": [],
   "source": [
    "img_ext = '.png'\n",
    "img_dir = '/home1/gzy/NucleiSegmentation/High_CCRCC/Test/Images/'\n",
    "ann_dir = '/home1/gzy/NucleiSegmentation/High_CCRCC/Test/Labels/' \n",
    "####\n",
    "\n",
    "file_list = glob.glob('%s/*%s' % (img_dir, img_ext))\n",
    "file_list.sort()"
   ]
  },
  {
   "cell_type": "code",
   "execution_count": 56,
   "metadata": {},
   "outputs": [
    {
     "name": "stderr",
     "output_type": "stream",
     "text": [
      "  2%|▏         | 3/200 [00:06<06:48,  2.07s/it]/home1/gzy/.conda/envs/hovernet/lib/python3.6/site-packages/ipykernel_launcher.py:23: RuntimeWarning: invalid value encountered in true_divide\n",
      "100%|██████████| 200/200 [15:55<00:00,  4.78s/it]\n"
     ]
    }
   ],
   "source": [
    "for filename in tqdm(file_list):\n",
    "    filename = os.path.basename(filename)\n",
    "    basename = filename.split('.')[0]\n",
    "    #print(filename)\n",
    "\n",
    "    img = cv2.imread(img_dir + basename + img_ext)\n",
    "    img = cv2.cvtColor(img, cv2.COLOR_BGR2RGB)\n",
    "\n",
    "    labels = sio.loadmat(ann_dir + basename + '.mat')\n",
    "    ann_inst = labels['instance_map'] \n",
    "    #     labels['positive_map'] = labels['positive_map'][...,0] \n",
    "    #     labels['negative_map'] = labels['negative_map'][...,0] \n",
    "    inst_list = list(np.unique(ann_inst))[1:]\n",
    "    dist_map = np.zeros_like(ann_inst, dtype='float')\n",
    "    for inst_id in inst_list:\n",
    "        mask = ann_inst.copy()\n",
    "        mask[mask!=inst_id] = 0\n",
    "        mask[mask!=0] = 1\n",
    "        fg_dist = distance_transform_edt(mask)\n",
    "\n",
    "        v_max = fg_dist[ann_inst == inst_id].max()\n",
    "        v_min = fg_dist[ann_inst == inst_id].min()\n",
    "        dist_map[ann_inst == inst_id] = 0.9*(fg_dist[ann_inst == inst_id]-v_min)/(v_max-v_min) + 0.1\n",
    "    labels['marker_map'] = dist_map\n",
    "    \n",
    "#     mask[mask==1] = 2\n",
    "#     mask = draw_contours(mask, ann_inst)\n",
    "#     mask[mask==2] = 0\n",
    "\n",
    "#     fg_dist = distance_transform_edt(-(mask-1))\n",
    "#     # bg_dist = distance_transform_edt(-(mask-1))\n",
    "#     # dist_map = fg_dist+bg_dist\n",
    "#     dist_map = -fg_dist + 10\n",
    "#     dist_map[dist_map<0] = 0\n",
    "#     dist_map = dist_map/dist_map.max()\n",
    "#     labels['dist_map'] = dist_map\n",
    "    sio.savemat(ann_dir + basename + '.mat', labels)"
   ]
  },
  {
   "cell_type": "code",
   "execution_count": 53,
   "metadata": {},
   "outputs": [
    {
     "data": {
      "text/plain": [
       "<matplotlib.image.AxesImage at 0x7f76e8642ac8>"
      ]
     },
     "execution_count": 53,
     "metadata": {},
     "output_type": "execute_result"
    },
    {
     "data": {
      "image/png": "[encoded data removed]",
      "text/plain": [
       "<Figure size 288x288 with 1 Axes>"
      ]
     },
     "metadata": {
      "needs_background": "light"
     },
     "output_type": "display_data"
    }
   ],
   "source": [
    "filename = file_list[5]\n",
    "filename = os.path.basename(filename)\n",
    "basename = filename.split('.')[0]\n",
    "labels = sio.loadmat(ann_dir + basename + '.mat')\n",
    "plt.matshow(labels['marker_map'])"
   ]
  },
  {
   "cell_type": "code",
   "execution_count": 54,
   "metadata": {},
   "outputs": [
    {
     "data": {
      "text/plain": [
       "array([0.        , 0.1       , 0.12264253, ..., 1.        , 1.        ,\n",
       "       1.        ])"
      ]
     },
     "execution_count": 54,
     "metadata": {},
     "output_type": "execute_result"
    }
   ],
   "source": [
    "np.unique(labels['marker_map'])"
   ]
  },
  {
   "cell_type": "code",
   "execution_count": null,
   "metadata": {},
   "outputs": [],
   "source": []
  }
 ],
 "metadata": {
  "kernelspec": {
   "display_name": "Python [conda env:.conda-hovernet] *",
   "language": "python",
   "name": "conda-env-.conda-hovernet-py"
  },
  "language_info": {
   "codemirror_mode": {
    "name": "ipython",
    "version": 3
   },
   "file_extension": ".py",
   "mimetype": "text/x-python",
   "name": "python",
   "nbconvert_exporter": "python",
   "pygments_lexer": "ipython3",
   "version": "3.6.10"
  }
 },
 "nbformat": 4,
 "nbformat_minor": 4
}
