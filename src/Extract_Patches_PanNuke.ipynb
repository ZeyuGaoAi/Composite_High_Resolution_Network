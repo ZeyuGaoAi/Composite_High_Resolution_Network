{
 "cells": [
  {
   "cell_type": "code",
   "execution_count": 1,
   "metadata": {},
   "outputs": [],
   "source": [
    "import glob\n",
    "import os\n",
    "\n",
    "import scipy.io as sio\n",
    "\n",
    "import cv2\n",
    "import numpy as np\n",
    "import matplotlib.pyplot as plt\n",
    "from tqdm import tqdm\n",
    "\n",
    "from misc.patch_extractor import PatchExtractor\n",
    "from misc.utils import rm_n_mkdir\n",
    "\n",
    "from config import Config"
   ]
  },
  {
   "cell_type": "code",
   "execution_count": 51,
   "metadata": {},
   "outputs": [],
   "source": [
    "cfg = Config()\n",
    "\n",
    "extract_type = 'mirror' # 'valid' for fcn8 segnet etc.\n",
    "                        # 'mirror' for u-net etc.\n",
    "# check the patch_extractor.py 'main' to see the different\n",
    "\n",
    "# orignal size (win size) - input size - output size (step size)\n",
    "# 512x512 - 256x256 - 256x256 fcn8, dcan, segnet\n",
    "# 536x536 - 268x268 - 84x84   unet, dist\n",
    "# 540x540 - 270x270 - 80x80   xy, hover\n",
    "# 504x504 - 252x252 - 252x252 micronetcd tr\n",
    "step_size = [160, 160] # should match self.train_mask_shape (config.py) \n",
    "win_size  = [400, 400] # should be at least twice time larger than \n",
    "                       # self.train_base_shape (config.py) to reduce \n",
    "                       # the padding effect during augmentation\n",
    "\n",
    "xtractor = PatchExtractor(win_size, step_size)\n",
    "\n",
    "out_dir = \"/home1/gzy/NucleiSegmentation/PanNuke/Test/%dx%d_%dx%d\" % \\\n",
    "                    (win_size[0], win_size[1], step_size[0], step_size[1])\n",
    "rm_n_mkdir(out_dir)"
   ]
  },
  {
   "cell_type": "code",
   "execution_count": 52,
   "metadata": {},
   "outputs": [],
   "source": [
    "fold = 'fold3'\n",
    "masks = np.load(\"/home1/gzy/NucleiSegmentation/PanNuke/Fold3/masks/%s/masks.npy\" % fold)\n",
    "types = np.load(\"/home1/gzy/NucleiSegmentation/PanNuke/Fold3/images/%s/types.npy\" % fold)\n",
    "images = np.load(\"/home1/gzy/NucleiSegmentation/PanNuke/Fold3/images/%s/images.npy\" % fold)"
   ]
  },
  {
   "cell_type": "code",
   "execution_count": 53,
   "metadata": {},
   "outputs": [
    {
     "name": "stderr",
     "output_type": "stream",
     "text": [
      " 50%|████▉     | 1356/2722 [07:09<06:55,  3.29it/s]"
     ]
    },
    {
     "name": "stdout",
     "output_type": "stream",
     "text": [
      "1356\n"
     ]
    },
    {
     "name": "stderr",
     "output_type": "stream",
     "text": [
      " 55%|█████▌    | 1506/2722 [07:57<06:34,  3.08it/s]"
     ]
    },
    {
     "name": "stdout",
     "output_type": "stream",
     "text": [
      "1506\n",
      "1507\n",
      "1508\n",
      "1509\n",
      "1510\n",
      "1511\n"
     ]
    },
    {
     "name": "stderr",
     "output_type": "stream",
     "text": [
      " 58%|█████▊    | 1566/2722 [08:14<05:59,  3.22it/s]"
     ]
    },
    {
     "name": "stdout",
     "output_type": "stream",
     "text": [
      "1566\n",
      "1567\n",
      "1568\n",
      "1569\n",
      "1570\n",
      "1571\n",
      "1572\n"
     ]
    },
    {
     "name": "stderr",
     "output_type": "stream",
     "text": [
      " 60%|██████    | 1645/2722 [08:36<05:26,  3.30it/s]"
     ]
    },
    {
     "name": "stdout",
     "output_type": "stream",
     "text": [
      "1645\n",
      "1646\n",
      "1647\n",
      "1648\n"
     ]
    },
    {
     "name": "stderr",
     "output_type": "stream",
     "text": [
      " 61%|██████    | 1664/2722 [08:41<05:17,  3.33it/s]"
     ]
    },
    {
     "name": "stdout",
     "output_type": "stream",
     "text": [
      "1664\n",
      "1665\n",
      "1666\n",
      "1667\n",
      "1668\n",
      "1669\n",
      "1670\n"
     ]
    },
    {
     "name": "stderr",
     "output_type": "stream",
     "text": [
      " 67%|██████▋   | 1832/2722 [09:32<04:26,  3.34it/s]"
     ]
    },
    {
     "name": "stdout",
     "output_type": "stream",
     "text": [
      "1832\n",
      "1833\n",
      "1834\n",
      "1835\n",
      "1836\n",
      "1837\n",
      "1838\n",
      "1839\n",
      "1840\n",
      "1841\n",
      "1842\n",
      "1843\n",
      "1844\n",
      "1845\n",
      "1846\n",
      "1847\n",
      "1848\n",
      "1849\n",
      "1850\n",
      "1851\n",
      "1852\n",
      "1853\n",
      "1854\n",
      "1855\n",
      "1856\n",
      "1857\n",
      "1858\n",
      "1859\n",
      "1860\n",
      "1861\n",
      "1862\n"
     ]
    },
    {
     "name": "stderr",
     "output_type": "stream",
     "text": [
      " 73%|███████▎  | 1987/2722 [10:11<04:05,  2.99it/s]"
     ]
    },
    {
     "name": "stdout",
     "output_type": "stream",
     "text": [
      "1987\n",
      "1988\n",
      "1989\n",
      "1990\n",
      "1991\n",
      "1992\n"
     ]
    },
    {
     "name": "stderr",
     "output_type": "stream",
     "text": [
      " 76%|███████▌  | 2063/2722 [10:34<03:57,  2.77it/s]"
     ]
    },
    {
     "name": "stdout",
     "output_type": "stream",
     "text": [
      "2063\n",
      "2064\n",
      "2065\n",
      "2066\n",
      "2067\n"
     ]
    },
    {
     "name": "stderr",
     "output_type": "stream",
     "text": [
      "100%|██████████| 2722/2722 [14:03<00:00,  3.23it/s]\n"
     ]
    }
   ],
   "source": [
    "for i in tqdm(range(images.shape[0])):\n",
    "    img = images[i]\n",
    "    img = img.astype('int32')\n",
    "    mask = masks[i]\n",
    "    mask = mask.reshape(256*256, 6)\n",
    "    \n",
    "    try:\n",
    "        mask_type = [np.where(r!=0)[0][0] for r in mask]\n",
    "    except Exception:\n",
    "        print(i)\n",
    "        continue\n",
    "    mask_type = np.array(mask_type)\n",
    "    mask_type = mask_type.reshape(256,256)\n",
    "    # bg 为 0\n",
    "    mask_type = mask_type + 1\n",
    "    mask_type[mask_type == 6] = 0\n",
    "    \n",
    "    mask_inst = np.sum(mask, axis=1).reshape(256,256)\n",
    "    mask_inst[mask_type==0] = 0\n",
    "    \n",
    "    ann = np.dstack([mask_inst, mask_type])\n",
    "    ann = ann.astype('int32')\n",
    "    img = np.concatenate([img, ann], axis=-1)\n",
    "    sub_patches = xtractor.extract(img, extract_type)\n",
    "    for idx, patch in enumerate(sub_patches):\n",
    "        np.save(\"{0}/{1}_{2:03d}.npy\".format(out_dir, str(i)+fold, idx), patch)"
   ]
  },
  {
   "cell_type": "code",
   "execution_count": null,
   "metadata": {},
   "outputs": [],
   "source": []
  }
 ],
 "metadata": {
  "kernelspec": {
   "display_name": "Python 3",
   "language": "python",
   "name": "python3"
  },
  "language_info": {
   "codemirror_mode": {
    "name": "ipython",
    "version": 3
   },
   "file_extension": ".py",
   "mimetype": "text/x-python",
   "name": "python",
   "nbconvert_exporter": "python",
   "pygments_lexer": "ipython3",
   "version": "3.7.3"
  }
 },
 "nbformat": 4,
 "nbformat_minor": 4
}
